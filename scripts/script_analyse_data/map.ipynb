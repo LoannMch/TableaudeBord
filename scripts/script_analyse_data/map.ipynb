{
 "cells": [
  {
   "cell_type": "code",
   "execution_count": 328,
   "metadata": {
    "collapsed": true
   },
   "outputs": [],
   "source": [
    "import pandas as pd\n",
    "import numpy as np\n",
    "import math\n",
    "from geopy.geocoders import Nominatim\n",
    "from plotly import __version__\n",
    "from plotly.offline import download_plotlyjs, init_notebook_mode, plot, iplot\n",
    "import plotly.graph_objs as go"
   ]
  },
  {
   "cell_type": "markdown",
   "metadata": {},
   "source": [
    "### Map monde, sympa pour l'oral, remplacer 'equirectangular' par 'orthographic'"
   ]
  },
  {
   "cell_type": "code",
   "execution_count": 329,
   "metadata": {},
   "outputs": [
    {
     "data": {
      "text/html": [
       "<script>requirejs.config({paths: { 'plotly': ['https://cdn.plot.ly/plotly-latest.min']},});if(!window.Plotly) {{require(['plotly'],function(plotly) {window.Plotly=plotly;});}}</script>"
      ],
      "text/vnd.plotly.v1+html": [
       "<script>requirejs.config({paths: { 'plotly': ['https://cdn.plot.ly/plotly-latest.min']},});if(!window.Plotly) {{require(['plotly'],function(plotly) {window.Plotly=plotly;});}}</script>"
      ]
     },
     "metadata": {},
     "output_type": "display_data"
    }
   ],
   "source": [
    "#Plotly with jupyter offline : \n",
    "init_notebook_mode(connected=True)"
   ]
  },
  {
   "cell_type": "code",
   "execution_count": 330,
   "metadata": {
    "collapsed": true
   },
   "outputs": [],
   "source": [
    "df = pd.read_csv('map.csv', index_col=0, names = ['nb_attack', 'target', 'attacker'], header = 0)"
   ]
  },
  {
   "cell_type": "code",
   "execution_count": 331,
   "metadata": {},
   "outputs": [
    {
     "data": {
      "text/html": [
       "<div>\n",
       "<style scoped>\n",
       "    .dataframe tbody tr th:only-of-type {\n",
       "        vertical-align: middle;\n",
       "    }\n",
       "\n",
       "    .dataframe tbody tr th {\n",
       "        vertical-align: top;\n",
       "    }\n",
       "\n",
       "    .dataframe thead th {\n",
       "        text-align: right;\n",
       "    }\n",
       "</style>\n",
       "<table border=\"1\" class=\"dataframe\">\n",
       "  <thead>\n",
       "    <tr style=\"text-align: right;\">\n",
       "      <th></th>\n",
       "      <th>nb_attack</th>\n",
       "      <th>target</th>\n",
       "      <th>attacker</th>\n",
       "    </tr>\n",
       "  </thead>\n",
       "  <tbody>\n",
       "    <tr>\n",
       "      <th>0</th>\n",
       "      <td>92157</td>\n",
       "      <td>united states</td>\n",
       "      <td>united states</td>\n",
       "    </tr>\n",
       "    <tr>\n",
       "      <th>1</th>\n",
       "      <td>26877</td>\n",
       "      <td>united arab emirates</td>\n",
       "      <td>china</td>\n",
       "    </tr>\n",
       "    <tr>\n",
       "      <th>2</th>\n",
       "      <td>13059</td>\n",
       "      <td>united states</td>\n",
       "      <td>china</td>\n",
       "    </tr>\n",
       "    <tr>\n",
       "      <th>3</th>\n",
       "      <td>6424</td>\n",
       "      <td>united states</td>\n",
       "      <td>ukraine</td>\n",
       "    </tr>\n",
       "    <tr>\n",
       "      <th>4</th>\n",
       "      <td>5202</td>\n",
       "      <td>united arab emirates</td>\n",
       "      <td>netherlands</td>\n",
       "    </tr>\n",
       "  </tbody>\n",
       "</table>\n",
       "</div>"
      ],
      "text/plain": [
       "   nb_attack                target       attacker\n",
       "0      92157         united states  united states\n",
       "1      26877  united arab emirates          china\n",
       "2      13059         united states          china\n",
       "3       6424         united states        ukraine\n",
       "4       5202  united arab emirates    netherlands"
      ]
     },
     "execution_count": 331,
     "metadata": {},
     "output_type": "execute_result"
    }
   ],
   "source": [
    "df.head()"
   ]
  },
  {
   "cell_type": "code",
   "execution_count": 332,
   "metadata": {
    "collapsed": true
   },
   "outputs": [],
   "source": [
    "df_country = pd.DataFrame(list(set(list(df['attacker'].unique()) + list(df['target'].unique()))), columns = ['country'] )"
   ]
  },
  {
   "cell_type": "code",
   "execution_count": 333,
   "metadata": {
    "collapsed": true
   },
   "outputs": [],
   "source": [
    "geolocator = Nominatim()\n",
    "df_country['lattitude_longitude'] = df_country['country'].apply(lambda x : geolocator.geocode(x,  timeout=10)[1])"
   ]
  },
  {
   "cell_type": "code",
   "execution_count": 334,
   "metadata": {
    "collapsed": true
   },
   "outputs": [],
   "source": [
    "# Geolocator is wrong for united arabe emirates \n",
    "df_country['lattitude_longitude'] = df_country.apply(lambda x : (25.61552, 55.84951) if x['country'] == 'united arab emirates' else x['lattitude_longitude'], axis = 'columns')\n",
    "df_country['lattitude_longitude'] = df_country.apply(lambda x : (39.904211, 116.407395) if x['country'] == 'china' else x['lattitude_longitude'], axis = 'columns')\n",
    "df_country['lattitude_longitude'] = df_country.apply(lambda x : (37.566535, 126.9779692) if x['country'] == 'south korea' else x['lattitude_longitude'], axis = 'columns') \n",
    "df_country['lattitude_longitude'] = df_country.apply(lambda x : (51.3030, 0.0732) if x['country'] == 'united kingdom' else x['lattitude_longitude'], axis = 'columns') \n",
    "df_country['lattitude_longitude'] = df_country.apply(lambda x : (40.18658704808404, 44.78151767883003) if x['country'] == 'armenia' else x['lattitude_longitude'], axis = 'columns') "
   ]
  },
  {
   "cell_type": "code",
   "execution_count": 335,
   "metadata": {
    "collapsed": true
   },
   "outputs": [],
   "source": [
    "df_country['latitude_attacker'] = df_country['lattitude_longitude'].apply(lambda x : x[0])\n",
    "df_country['longitude_attacker'] = df_country['lattitude_longitude'].apply(lambda x : x[1])\n",
    "df_country['attacker'] = df_country['country']\n",
    "df_country = df_country.drop(['lattitude_longitude', 'country'], axis = 'columns')"
   ]
  },
  {
   "cell_type": "code",
   "execution_count": 336,
   "metadata": {
    "collapsed": true
   },
   "outputs": [],
   "source": [
    "df = pd.merge(df, df_country, how = 'left', on = ['attacker'])"
   ]
  },
  {
   "cell_type": "code",
   "execution_count": 337,
   "metadata": {
    "collapsed": true
   },
   "outputs": [],
   "source": [
    "df_country['latitude_target'] = df_country['latitude_attacker']\n",
    "df_country['longitude_target'] = df_country['longitude_attacker']\n",
    "df_country['target'] = df_country['attacker']\n",
    "df_country = df_country.drop(['longitude_attacker', 'attacker', 'latitude_attacker'], axis = 'columns')"
   ]
  },
  {
   "cell_type": "code",
   "execution_count": 338,
   "metadata": {
    "collapsed": true
   },
   "outputs": [],
   "source": [
    "df = pd.merge(df, df_country, how = 'left', on = ['target'])"
   ]
  },
  {
   "cell_type": "code",
   "execution_count": 339,
   "metadata": {},
   "outputs": [
    {
     "data": {
      "text/html": [
       "<div>\n",
       "<style scoped>\n",
       "    .dataframe tbody tr th:only-of-type {\n",
       "        vertical-align: middle;\n",
       "    }\n",
       "\n",
       "    .dataframe tbody tr th {\n",
       "        vertical-align: top;\n",
       "    }\n",
       "\n",
       "    .dataframe thead th {\n",
       "        text-align: right;\n",
       "    }\n",
       "</style>\n",
       "<table border=\"1\" class=\"dataframe\">\n",
       "  <thead>\n",
       "    <tr style=\"text-align: right;\">\n",
       "      <th></th>\n",
       "      <th>nb_attack</th>\n",
       "      <th>target</th>\n",
       "      <th>attacker</th>\n",
       "      <th>latitude_attacker</th>\n",
       "      <th>longitude_attacker</th>\n",
       "      <th>latitude_target</th>\n",
       "      <th>longitude_target</th>\n",
       "    </tr>\n",
       "  </thead>\n",
       "  <tbody>\n",
       "    <tr>\n",
       "      <th>0</th>\n",
       "      <td>92157</td>\n",
       "      <td>united states</td>\n",
       "      <td>united states</td>\n",
       "      <td>39.783730</td>\n",
       "      <td>-100.445882</td>\n",
       "      <td>39.78373</td>\n",
       "      <td>-100.445882</td>\n",
       "    </tr>\n",
       "    <tr>\n",
       "      <th>1</th>\n",
       "      <td>26877</td>\n",
       "      <td>united arab emirates</td>\n",
       "      <td>china</td>\n",
       "      <td>39.904211</td>\n",
       "      <td>116.407395</td>\n",
       "      <td>25.61552</td>\n",
       "      <td>55.849510</td>\n",
       "    </tr>\n",
       "    <tr>\n",
       "      <th>2</th>\n",
       "      <td>13059</td>\n",
       "      <td>united states</td>\n",
       "      <td>china</td>\n",
       "      <td>39.904211</td>\n",
       "      <td>116.407395</td>\n",
       "      <td>39.78373</td>\n",
       "      <td>-100.445882</td>\n",
       "    </tr>\n",
       "    <tr>\n",
       "      <th>3</th>\n",
       "      <td>6424</td>\n",
       "      <td>united states</td>\n",
       "      <td>ukraine</td>\n",
       "      <td>49.487197</td>\n",
       "      <td>31.271832</td>\n",
       "      <td>39.78373</td>\n",
       "      <td>-100.445882</td>\n",
       "    </tr>\n",
       "    <tr>\n",
       "      <th>4</th>\n",
       "      <td>5202</td>\n",
       "      <td>united arab emirates</td>\n",
       "      <td>netherlands</td>\n",
       "      <td>52.237989</td>\n",
       "      <td>5.534607</td>\n",
       "      <td>25.61552</td>\n",
       "      <td>55.849510</td>\n",
       "    </tr>\n",
       "  </tbody>\n",
       "</table>\n",
       "</div>"
      ],
      "text/plain": [
       "   nb_attack                target       attacker  latitude_attacker  \\\n",
       "0      92157         united states  united states          39.783730   \n",
       "1      26877  united arab emirates          china          39.904211   \n",
       "2      13059         united states          china          39.904211   \n",
       "3       6424         united states        ukraine          49.487197   \n",
       "4       5202  united arab emirates    netherlands          52.237989   \n",
       "\n",
       "   longitude_attacker  latitude_target  longitude_target  \n",
       "0         -100.445882         39.78373       -100.445882  \n",
       "1          116.407395         25.61552         55.849510  \n",
       "2          116.407395         39.78373       -100.445882  \n",
       "3           31.271832         39.78373       -100.445882  \n",
       "4            5.534607         25.61552         55.849510  "
      ]
     },
     "execution_count": 339,
     "metadata": {},
     "output_type": "execute_result"
    }
   ],
   "source": [
    "df.head()"
   ]
  },
  {
   "cell_type": "code",
   "execution_count": 340,
   "metadata": {
    "collapsed": true
   },
   "outputs": [],
   "source": [
    "df['lat'] = df.apply(lambda x :[x['latitude_attacker'], x['latitude_target']], axis ='columns')\n",
    "df['lon'] =  df.apply(lambda x :[x['longitude_attacker'], x['longitude_target']], axis ='columns')"
   ]
  },
  {
   "cell_type": "code",
   "execution_count": 341,
   "metadata": {
    "collapsed": true
   },
   "outputs": [],
   "source": [
    "df['line'] = ''\n",
    "#df['line'] = df['line'].apply(lambda x : {'color' : 'red', 'width' : 1}) \n",
    "df['line'] = df.apply(lambda x : {'color' : 'red', 'width' : (x['nb_attack'] / sum(df['nb_attack']))*80}, axis='columns')"
   ]
  },
  {
   "cell_type": "code",
   "execution_count": 342,
   "metadata": {
    "collapsed": true
   },
   "outputs": [],
   "source": [
    "df['opacity'] = 0\n",
    "df['opacity'] = df['opacity'].apply(lambda x : 0.48577680525164113)"
   ]
  },
  {
   "cell_type": "code",
   "execution_count": 343,
   "metadata": {
    "collapsed": true
   },
   "outputs": [],
   "source": [
    "df['type'] = ''\n",
    "df['type'] = df['type'].apply(lambda x : 'scattergeo')"
   ]
  },
  {
   "cell_type": "code",
   "execution_count": 344,
   "metadata": {
    "collapsed": true
   },
   "outputs": [],
   "source": [
    "df['mode'] = ''\n",
    "df['mode'] = df['mode'].apply(lambda x : 'lines')"
   ]
  },
  {
   "cell_type": "code",
   "execution_count": 345,
   "metadata": {
    "collapsed": true
   },
   "outputs": [],
   "source": [
    "df['text'] = df.apply(lambda x : '{} - {} : {} times'.format(x['attacker'],x['target'], x['nb_attack']), axis='columns')"
   ]
  },
  {
   "cell_type": "code",
   "execution_count": 417,
   "metadata": {},
   "outputs": [
    {
     "data": {
      "text/html": [
       "<div>\n",
       "<style scoped>\n",
       "    .dataframe tbody tr th:only-of-type {\n",
       "        vertical-align: middle;\n",
       "    }\n",
       "\n",
       "    .dataframe tbody tr th {\n",
       "        vertical-align: top;\n",
       "    }\n",
       "\n",
       "    .dataframe thead th {\n",
       "        text-align: right;\n",
       "    }\n",
       "</style>\n",
       "<table border=\"1\" class=\"dataframe\">\n",
       "  <thead>\n",
       "    <tr style=\"text-align: right;\">\n",
       "      <th></th>\n",
       "      <th>nb_attack</th>\n",
       "      <th>target</th>\n",
       "      <th>attacker</th>\n",
       "      <th>latitude_attacker</th>\n",
       "      <th>longitude_attacker</th>\n",
       "      <th>latitude_target</th>\n",
       "      <th>longitude_target</th>\n",
       "      <th>lat</th>\n",
       "      <th>lon</th>\n",
       "      <th>line</th>\n",
       "      <th>opacity</th>\n",
       "      <th>type</th>\n",
       "      <th>mode</th>\n",
       "      <th>text</th>\n",
       "      <th>showlegend</th>\n",
       "    </tr>\n",
       "  </thead>\n",
       "  <tbody>\n",
       "    <tr>\n",
       "      <th>22</th>\n",
       "      <td>1093</td>\n",
       "      <td>france</td>\n",
       "      <td>france</td>\n",
       "      <td>46.603354</td>\n",
       "      <td>1.888334</td>\n",
       "      <td>46.603354</td>\n",
       "      <td>1.888334</td>\n",
       "      <td>[46.603354, 46.603354]</td>\n",
       "      <td>[1.8883335, 1.8883335]</td>\n",
       "      <td>{'width': 0.40423466321483054, 'color': 'red'}</td>\n",
       "      <td>0.485777</td>\n",
       "      <td>scattergeo</td>\n",
       "      <td>lines</td>\n",
       "      <td>france - france : 1093 times</td>\n",
       "      <td>False</td>\n",
       "    </tr>\n",
       "    <tr>\n",
       "      <th>32</th>\n",
       "      <td>812</td>\n",
       "      <td>united arab emirates</td>\n",
       "      <td>france</td>\n",
       "      <td>46.603354</td>\n",
       "      <td>1.888334</td>\n",
       "      <td>25.615520</td>\n",
       "      <td>55.849510</td>\n",
       "      <td>[46.603354, 25.61552]</td>\n",
       "      <td>[1.8883335, 55.84951]</td>\n",
       "      <td>{'width': 0.30030974064999305, 'color': 'red'}</td>\n",
       "      <td>0.485777</td>\n",
       "      <td>scattergeo</td>\n",
       "      <td>lines</td>\n",
       "      <td>france - united arab emirates : 812 times</td>\n",
       "      <td>False</td>\n",
       "    </tr>\n",
       "    <tr>\n",
       "      <th>80</th>\n",
       "      <td>267</td>\n",
       "      <td>united states</td>\n",
       "      <td>france</td>\n",
       "      <td>46.603354</td>\n",
       "      <td>1.888334</td>\n",
       "      <td>39.783730</td>\n",
       "      <td>-100.445882</td>\n",
       "      <td>[46.603354, 39.7837304]</td>\n",
       "      <td>[1.8883335, -100.4458825]</td>\n",
       "      <td>{'width': 0.0987471684156997, 'color': 'red'}</td>\n",
       "      <td>0.485777</td>\n",
       "      <td>scattergeo</td>\n",
       "      <td>lines</td>\n",
       "      <td>france - united states : 267 times</td>\n",
       "      <td>False</td>\n",
       "    </tr>\n",
       "    <tr>\n",
       "      <th>113</th>\n",
       "      <td>142</td>\n",
       "      <td>italy</td>\n",
       "      <td>france</td>\n",
       "      <td>46.603354</td>\n",
       "      <td>1.888334</td>\n",
       "      <td>42.638426</td>\n",
       "      <td>12.674297</td>\n",
       "      <td>[46.603354, 42.6384261]</td>\n",
       "      <td>[1.8883335, 12.674297]</td>\n",
       "      <td>{'width': 0.05251722065554066, 'color': 'red'}</td>\n",
       "      <td>0.485777</td>\n",
       "      <td>scattergeo</td>\n",
       "      <td>lines</td>\n",
       "      <td>france - italy : 142 times</td>\n",
       "      <td>False</td>\n",
       "    </tr>\n",
       "  </tbody>\n",
       "</table>\n",
       "</div>"
      ],
      "text/plain": [
       "     nb_attack                target attacker  latitude_attacker  \\\n",
       "22        1093                france   france          46.603354   \n",
       "32         812  united arab emirates   france          46.603354   \n",
       "80         267         united states   france          46.603354   \n",
       "113        142                 italy   france          46.603354   \n",
       "\n",
       "     longitude_attacker  latitude_target  longitude_target  \\\n",
       "22             1.888334        46.603354          1.888334   \n",
       "32             1.888334        25.615520         55.849510   \n",
       "80             1.888334        39.783730       -100.445882   \n",
       "113            1.888334        42.638426         12.674297   \n",
       "\n",
       "                         lat                        lon  \\\n",
       "22    [46.603354, 46.603354]     [1.8883335, 1.8883335]   \n",
       "32     [46.603354, 25.61552]      [1.8883335, 55.84951]   \n",
       "80   [46.603354, 39.7837304]  [1.8883335, -100.4458825]   \n",
       "113  [46.603354, 42.6384261]     [1.8883335, 12.674297]   \n",
       "\n",
       "                                               line   opacity        type  \\\n",
       "22   {'width': 0.40423466321483054, 'color': 'red'}  0.485777  scattergeo   \n",
       "32   {'width': 0.30030974064999305, 'color': 'red'}  0.485777  scattergeo   \n",
       "80    {'width': 0.0987471684156997, 'color': 'red'}  0.485777  scattergeo   \n",
       "113  {'width': 0.05251722065554066, 'color': 'red'}  0.485777  scattergeo   \n",
       "\n",
       "      mode                                       text  showlegend  \n",
       "22   lines               france - france : 1093 times       False  \n",
       "32   lines  france - united arab emirates : 812 times       False  \n",
       "80   lines         france - united states : 267 times       False  \n",
       "113  lines                 france - italy : 142 times       False  "
      ]
     },
     "execution_count": 417,
     "metadata": {},
     "output_type": "execute_result"
    }
   ],
   "source": [
    "df[df['attacker'] == 'france']"
   ]
  },
  {
   "cell_type": "code",
   "execution_count": 347,
   "metadata": {},
   "outputs": [
    {
     "data": {
      "application/vnd.plotly.v1+json": {
       "data": [
        {
         "lat": [
          39.7837304,
          39.7837304
         ],
         "line": {
          "color": "red",
          "width": 34.083306365863805
         },
         "lon": [
          -100.4458825,
          -100.4458825
         ],
         "mode": "lines",
         "opacity": 0.48577680525164113,
         "showlegend": false,
         "type": "scattergeo"
        },
        {
         "lat": [
          39.904211,
          25.61552
         ],
         "line": {
          "color": "red",
          "width": 9.940178447598354
         },
         "lon": [
          116.407395,
          55.84951
         ],
         "mode": "lines",
         "opacity": 0.48577680525164113,
         "showlegend": false,
         "type": "scattergeo"
        },
        {
         "lat": [
          39.904211,
          39.7837304
         ],
         "line": {
          "color": "red",
          "width": 4.829735102399334
         },
         "lon": [
          116.407395,
          -100.4458825
         ],
         "mode": "lines",
         "opacity": 0.48577680525164113,
         "showlegend": false,
         "type": "scattergeo"
        },
        {
         "lat": [
          49.4871968,
          39.7837304
         ],
         "line": {
          "color": "red",
          "width": 2.375849475290093
         },
         "lon": [
          31.2718321,
          -100.4458825
         ],
         "mode": "lines",
         "opacity": 0.48577680525164113,
         "showlegend": false,
         "type": "scattergeo"
        },
        {
         "lat": [
          52.2379891,
          25.61552
         ],
         "line": {
          "color": "red",
          "width": 1.9239055059867782
         },
         "lon": [
          5.53460738161551,
          55.84951
         ],
         "mode": "lines",
         "opacity": 0.48577680525164113,
         "showlegend": false,
         "type": "scattergeo"
        },
        {
         "lat": [
          39.904211,
          40.0028028
         ],
         "line": {
          "color": "red",
          "width": 1.7608062502889372
         },
         "lon": [
          116.407395,
          -4.003104
         ],
         "mode": "lines",
         "opacity": 0.48577680525164113,
         "showlegend": false,
         "type": "scattergeo"
        },
        {
         "lat": [
          39.7837304,
          25.61552
         ],
         "line": {
          "color": "red",
          "width": 1.0185382090518238
         },
         "lon": [
          -100.4458825,
          55.84951
         ],
         "mode": "lines",
         "opacity": 0.48577680525164113,
         "showlegend": false,
         "type": "scattergeo"
        },
        {
         "lat": [
          22.3511148,
          39.7837304
         ],
         "line": {
          "color": "red",
          "width": 0.9331052655910499
         },
         "lon": [
          78.6677428,
          -100.4458825
         ],
         "mode": "lines",
         "opacity": 0.48577680525164113,
         "showlegend": false,
         "type": "scattergeo"
        },
        {
         "lat": [
          37.566535,
          39.7837304
         ],
         "line": {
          "color": "red",
          "width": 0.9253386343673432
         },
         "lon": [
          126.9779692,
          -100.4458825
         ],
         "mode": "lines",
         "opacity": 0.48577680525164113,
         "showlegend": false,
         "type": "scattergeo"
        },
        {
         "lat": [
          39.904211,
          1.2904753
         ],
         "line": {
          "color": "red",
          "width": 0.9090656927557672
         },
         "lon": [
          116.407395,
          103.8520359
         ],
         "mode": "lines",
         "opacity": 0.48577680525164113,
         "showlegend": false,
         "type": "scattergeo"
        },
        {
         "lat": [
          38.9597594,
          39.7837304
         ],
         "line": {
          "color": "red",
          "width": 0.7104618371781241
         },
         "lon": [
          34.9249653,
          -100.4458825
         ],
         "mode": "lines",
         "opacity": 0.48577680525164113,
         "showlegend": false,
         "type": "scattergeo"
        },
        {
         "lat": [
          46.7985624,
          39.7837304
         ],
         "line": {
          "color": "red",
          "width": 0.6986269705515233
         },
         "lon": [
          8.2319736,
          -100.4458825
         ],
         "mode": "lines",
         "opacity": 0.48577680525164113,
         "showlegend": false,
         "type": "scattergeo"
        },
        {
         "lat": [
          39.904211,
          64.5731537
         ],
         "line": {
          "color": "red",
          "width": 0.5714021543155656
         },
         "lon": [
          116.407395,
          11.5280364395482
         ],
         "mode": "lines",
         "opacity": 0.48577680525164113,
         "showlegend": false,
         "type": "scattergeo"
        },
        {
         "lat": [
          2.8894434,
          40.0028028
         ],
         "line": {
          "color": "red",
          "width": 0.5625260043456151
         },
         "lon": [
          -73.783892,
          -4.003104
         ],
         "mode": "lines",
         "opacity": 0.48577680525164113,
         "showlegend": false,
         "type": "scattergeo"
        },
        {
         "lat": [
          39.904211,
          12.7503486
         ],
         "line": {
          "color": "red",
          "width": 0.5525403356294207
         },
         "lon": [
          116.407395,
          122.7312101
         ],
         "mode": "lines",
         "opacity": 0.48577680525164113,
         "showlegend": false,
         "type": "scattergeo"
        },
        {
         "lat": [
          52.2379891,
          50.6407351
         ],
         "line": {
          "color": "red",
          "width": 0.5518006564652582
         },
         "lon": [
          5.53460738161551,
          4.66696
         ],
         "mode": "lines",
         "opacity": 0.48577680525164113,
         "showlegend": false,
         "type": "scattergeo"
        },
        {
         "lat": [
          45.9852129,
          39.7837304
         ],
         "line": {
          "color": "red",
          "width": 0.5403356294207388
         },
         "lon": [
          24.6859225,
          -100.4458825
         ],
         "mode": "lines",
         "opacity": 0.48577680525164113,
         "showlegend": false,
         "type": "scattergeo"
        },
        {
         "lat": [
          40.0028028,
          39.7837304
         ],
         "line": {
          "color": "red",
          "width": 0.5373769127640886
         },
         "lon": [
          -4.003104,
          -100.4458825
         ],
         "mode": "lines",
         "opacity": 0.48577680525164113,
         "showlegend": false,
         "type": "scattergeo"
        },
        {
         "lat": [
          -34.9964963,
          39.7837304
         ],
         "line": {
          "color": "red",
          "width": 0.48929776709352324
         },
         "lon": [
          -64.9672817,
          -100.4458825
         ],
         "mode": "lines",
         "opacity": 0.48577680525164113,
         "showlegend": false,
         "type": "scattergeo"
        },
        {
         "lat": [
          52.0977181,
          25.61552
         ],
         "line": {
          "color": "red",
          "width": 0.4715454671536221
         },
         "lon": [
          19.0258159,
          55.84951
         ],
         "mode": "lines",
         "opacity": 0.48577680525164113,
         "showlegend": false,
         "type": "scattergeo"
        },
        {
         "lat": [
          30.3308401,
          46.603354
         ],
         "line": {
          "color": "red",
          "width": 0.43862974434838886
         },
         "lon": [
          71.247499,
          1.8883335
         ],
         "mode": "lines",
         "opacity": 0.48577680525164113,
         "showlegend": false,
         "type": "scattergeo"
        },
        {
         "lat": [
          39.7837304,
          42.6384261
         ],
         "line": {
          "color": "red",
          "width": 0.4094124173639684
         },
         "lon": [
          -100.4458825,
          12.674297
         ],
         "mode": "lines",
         "opacity": 0.48577680525164113,
         "showlegend": false,
         "type": "scattergeo"
        },
        {
         "lat": [
          46.603354,
          46.603354
         ],
         "line": {
          "color": "red",
          "width": 0.40423466321483054
         },
         "lon": [
          1.8883335,
          1.8883335
         ],
         "mode": "lines",
         "opacity": 0.48577680525164113,
         "showlegend": false,
         "type": "scattergeo"
        },
        {
         "lat": [
          17.7269134,
          17.7269134
         ],
         "line": {
          "color": "red",
          "width": 0.37131894040959734
         },
         "lon": [
          42.2363448,
          42.2363448
         ],
         "mode": "lines",
         "opacity": 0.48577680525164113,
         "showlegend": false,
         "type": "scattergeo"
        },
        {
         "lat": [
          36.5748441,
          39.7837304
         ],
         "line": {
          "color": "red",
          "width": 0.3690999029171097
         },
         "lon": [
          139.2394179,
          -100.4458825
         ],
         "mode": "lines",
         "opacity": 0.48577680525164113,
         "showlegend": false,
         "type": "scattergeo"
        },
        {
         "lat": [
          13.2904027,
          46.603354
         ],
         "line": {
          "color": "red",
          "width": 0.3679903841708659
         },
         "lon": [
          108.4265113,
          1.8883335
         ],
         "mode": "lines",
         "opacity": 0.48577680525164113,
         "showlegend": false,
         "type": "scattergeo"
        },
        {
         "lat": [
          39.904211,
          42.6384261
         ],
         "line": {
          "color": "red",
          "width": 0.33359530303730756
         },
         "lon": [
          116.407395,
          12.674297
         ],
         "mode": "lines",
         "opacity": 0.48577680525164113,
         "showlegend": false,
         "type": "scattergeo"
        },
        {
         "lat": [
          51.0834196,
          39.7837304
         ],
         "line": {
          "color": "red",
          "width": 0.33100642596273866
         },
         "lon": [
          10.4234469,
          -100.4458825
         ],
         "mode": "lines",
         "opacity": 0.48577680525164113,
         "showlegend": false,
         "type": "scattergeo"
        },
        {
         "lat": [
          -10.3333333,
          39.7837304
         ],
         "line": {
          "color": "red",
          "width": 0.31769220100781287
         },
         "lon": [
          -53.2,
          -100.4458825
         ],
         "mode": "lines",
         "opacity": 0.48577680525164113,
         "showlegend": false,
         "type": "scattergeo"
        },
        {
         "lat": [
          22.350627,
          22.350627
         ],
         "line": {
          "color": "red",
          "width": 0.30844621145578105
         },
         "lon": [
          114.1849161,
          114.1849161
         ],
         "mode": "lines",
         "opacity": 0.48577680525164113,
         "showlegend": false,
         "type": "scattergeo"
        },
        {
         "lat": [
          50.6407351,
          39.7837304
         ],
         "line": {
          "color": "red",
          "width": 0.3077065322916185
         },
         "lon": [
          4.66696,
          -100.4458825
         ],
         "mode": "lines",
         "opacity": 0.48577680525164113,
         "showlegend": false,
         "type": "scattergeo"
        },
        {
         "lat": [
          47.286747,
          39.7837304
         ],
         "line": {
          "color": "red",
          "width": 0.3054874947991309
         },
         "lon": [
          28.5110236,
          -100.4458825
         ],
         "mode": "lines",
         "opacity": 0.48577680525164113,
         "showlegend": false,
         "type": "scattergeo"
        },
        {
         "lat": [
          46.603354,
          25.61552
         ],
         "line": {
          "color": "red",
          "width": 0.30030974064999305
         },
         "lon": [
          1.8883335,
          55.84951
         ],
         "mode": "lines",
         "opacity": 0.48577680525164113,
         "showlegend": false,
         "type": "scattergeo"
        },
        {
         "lat": [
          46.7985624,
          25.61552
         ],
         "line": {
          "color": "red",
          "width": 0.2932827885904489
         },
         "lon": [
          8.2319736,
          55.84951
         ],
         "mode": "lines",
         "opacity": 0.48577680525164113,
         "showlegend": false,
         "type": "scattergeo"
        },
        {
         "lat": [
          12.7503486,
          39.7837304
         ],
         "line": {
          "color": "red",
          "width": 0.2648051407701909
         },
         "lon": [
          122.7312101,
          -100.4458825
         ],
         "mode": "lines",
         "opacity": 0.48577680525164113,
         "showlegend": false,
         "type": "scattergeo"
        },
        {
         "lat": [
          64.6863136,
          64.6863136
         ],
         "line": {
          "color": "red",
          "width": 0.25814802829272804
         },
         "lon": [
          97.7453061,
          97.7453061
         ],
         "mode": "lines",
         "opacity": 0.48577680525164113,
         "showlegend": false,
         "type": "scattergeo"
        },
        {
         "lat": [
          39.904211,
          14.8971921
         ],
         "line": {
          "color": "red",
          "width": 0.24409412417363968
         },
         "lon": [
          116.407395,
          100.83273
         ],
         "mode": "lines",
         "opacity": 0.48577680525164113,
         "showlegend": false,
         "type": "scattergeo"
        },
        {
         "lat": [
          -31.7613365,
          39.7837304
         ],
         "line": {
          "color": "red",
          "width": 0.2215339096666821
         },
         "lon": [
          -71.3187697,
          -100.4458825
         ],
         "mode": "lines",
         "opacity": 0.48577680525164113,
         "showlegend": false,
         "type": "scattergeo"
        },
        {
         "lat": [
          38.9597594,
          25.61552
         ],
         "line": {
          "color": "red",
          "width": 0.21783551384586936
         },
         "lon": [
          34.9249653,
          55.84951
         ],
         "mode": "lines",
         "opacity": 0.48577680525164113,
         "showlegend": false,
         "type": "scattergeo"
        },
        {
         "lat": [
          40.0028028,
          25.61552
         ],
         "line": {
          "color": "red",
          "width": 0.21524663677130046
         },
         "lon": [
          -4.003104,
          55.84951
         ],
         "mode": "lines",
         "opacity": 0.48577680525164113,
         "showlegend": false,
         "type": "scattergeo"
        },
        {
         "lat": [
          30.3308401,
          39.7837304
         ],
         "line": {
          "color": "red",
          "width": 0.21117840136840646
         },
         "lon": [
          71.247499,
          -100.4458825
         ],
         "mode": "lines",
         "opacity": 0.48577680525164113,
         "showlegend": false,
         "type": "scattergeo"
        },
        {
         "lat": [
          37.566535,
          25.61552
         ],
         "line": {
          "color": "red",
          "width": 0.2067403263834312
         },
         "lon": [
          126.9779692,
          55.84951
         ],
         "mode": "lines",
         "opacity": 0.48577680525164113,
         "showlegend": false,
         "type": "scattergeo"
        },
        {
         "lat": [
          2.8894434,
          39.7837304
         ],
         "line": {
          "color": "red",
          "width": 0.20563080763718738
         },
         "lon": [
          -73.783892,
          -100.4458825
         ],
         "mode": "lines",
         "opacity": 0.48577680525164113,
         "showlegend": false,
         "type": "scattergeo"
        },
        {
         "lat": [
          52.2379891,
          39.7837304
         ],
         "line": {
          "color": "red",
          "width": 0.20267209098053718
         },
         "lon": [
          5.53460738161551,
          -100.4458825
         ],
         "mode": "lines",
         "opacity": 0.48577680525164113,
         "showlegend": false,
         "type": "scattergeo"
        },
        {
         "lat": [
          49.8167003,
          25.61552
         ],
         "line": {
          "color": "red",
          "width": 0.20230225139845592
         },
         "lon": [
          15.4749544,
          55.84951
         ],
         "mode": "lines",
         "opacity": 0.48577680525164113,
         "showlegend": false,
         "type": "scattergeo"
        },
        {
         "lat": [
          64.6863136,
          39.7837304
         ],
         "line": {
          "color": "red",
          "width": 0.199713374323887
         },
         "lon": [
          97.7453061,
          -100.4458825
         ],
         "mode": "lines",
         "opacity": 0.48577680525164113,
         "showlegend": false,
         "type": "scattergeo"
        },
        {
         "lat": [
          19.4326009,
          25.61552
         ],
         "line": {
          "color": "red",
          "width": 0.19897369515972446
         },
         "lon": [
          -99.1333416,
          55.84951
         ],
         "mode": "lines",
         "opacity": 0.48577680525164113,
         "showlegend": false,
         "type": "scattergeo"
        },
        {
         "lat": [
          19.4326009,
          39.7837304
         ],
         "line": {
          "color": "red",
          "width": 0.19601497850307428
         },
         "lon": [
          -99.1333416,
          -100.4458825
         ],
         "mode": "lines",
         "opacity": 0.48577680525164113,
         "showlegend": false,
         "type": "scattergeo"
        },
        {
         "lat": [
          13.2904027,
          40.0028028
         ],
         "line": {
          "color": "red",
          "width": 0.19268642226434285
         },
         "lon": [
          108.4265113,
          -4.003104
         ],
         "mode": "lines",
         "opacity": 0.48577680525164113,
         "showlegend": false,
         "type": "scattergeo"
        },
        {
         "lat": [
          51.0834196,
          51.303
         ],
         "line": {
          "color": "red",
          "width": 0.1878785076972863
         },
         "lon": [
          10.4234469,
          0.0732
         ],
         "mode": "lines",
         "opacity": 0.48577680525164113,
         "showlegend": false,
         "type": "scattergeo"
        },
        {
         "lat": [
          42.6384261,
          42.6384261
         ],
         "line": {
          "color": "red",
          "width": 0.16753733068281634
         },
         "lon": [
          12.674297,
          12.674297
         ],
         "mode": "lines",
         "opacity": 0.48577680525164113,
         "showlegend": false,
         "type": "scattergeo"
        },
        {
         "lat": [
          13.2904027,
          39.7837304
         ],
         "line": {
          "color": "red",
          "width": 0.16716749110073506
         },
         "lon": [
          108.4265113,
          -100.4458825
         ],
         "mode": "lines",
         "opacity": 0.48577680525164113,
         "showlegend": false,
         "type": "scattergeo"
        },
        {
         "lat": [
          23.59829785,
          25.61552
         ],
         "line": {
          "color": "red",
          "width": 0.16161989736951599
         },
         "lon": [
          120.835363138175,
          55.84951
         ],
         "mode": "lines",
         "opacity": 0.48577680525164113,
         "showlegend": false,
         "type": "scattergeo"
        },
        {
         "lat": [
          34.9823018,
          34.9823018
         ],
         "line": {
          "color": "red",
          "width": 0.15866118071286578
         },
         "lon": [
          33.1451285,
          33.1451285
         ],
         "mode": "lines",
         "opacity": 0.48577680525164113,
         "showlegend": false,
         "type": "scattergeo"
        },
        {
         "lat": [
          42.6384261,
          39.7837304
         ],
         "line": {
          "color": "red",
          "width": 0.15607230363829688
         },
         "lon": [
          12.674297,
          -100.4458825
         ],
         "mode": "lines",
         "opacity": 0.48577680525164113,
         "showlegend": false,
         "type": "scattergeo"
        },
        {
         "lat": [
          51.0834196,
          51.0834196
         ],
         "line": {
          "color": "red",
          "width": 0.15570246405621563
         },
         "lon": [
          10.4234469,
          10.4234469
         ],
         "mode": "lines",
         "opacity": 0.48577680525164113,
         "showlegend": false,
         "type": "scattergeo"
        },
        {
         "lat": [
          32.3018217,
          25.61552
         ],
         "line": {
          "color": "red",
          "width": 0.15496278489205306
         },
         "lon": [
          -64.7603583,
          55.84951
         ],
         "mode": "lines",
         "opacity": 0.48577680525164113,
         "showlegend": false,
         "type": "scattergeo"
        },
        {
         "lat": [
          49.8167003,
          39.7837304
         ],
         "line": {
          "color": "red",
          "width": 0.153483426563728
         },
         "lon": [
          15.4749544,
          -100.4458825
         ],
         "mode": "lines",
         "opacity": 0.48577680525164113,
         "showlegend": false,
         "type": "scattergeo"
        },
        {
         "lat": [
          22.350627,
          25.61552
         ],
         "line": {
          "color": "red",
          "width": 0.1531135869816467
         },
         "lon": [
          114.1849161,
          55.84951
         ],
         "mode": "lines",
         "opacity": 0.48577680525164113,
         "showlegend": false,
         "type": "scattergeo"
        },
        {
         "lat": [
          40.18658704808404,
          25.61552
         ],
         "line": {
          "color": "red",
          "width": 0.14830567241459017
         },
         "lon": [
          44.78151767883003,
          55.84951
         ],
         "mode": "lines",
         "opacity": 0.48577680525164113,
         "showlegend": false,
         "type": "scattergeo"
        },
        {
         "lat": [
          12.7503486,
          25.61552
         ],
         "line": {
          "color": "red",
          "width": 0.14719615366834635
         },
         "lon": [
          122.7312101,
          55.84951
         ],
         "mode": "lines",
         "opacity": 0.48577680525164113,
         "showlegend": false,
         "type": "scattergeo"
        },
        {
         "lat": [
          51.303,
          40.0028028
         ],
         "line": {
          "color": "red",
          "width": 0.14423743701169617
         },
         "lon": [
          0.0732,
          -4.003104
         ],
         "mode": "lines",
         "opacity": 0.48577680525164113,
         "showlegend": false,
         "type": "scattergeo"
        },
        {
         "lat": [
          46.8250388,
          39.7837304
         ],
         "line": {
          "color": "red",
          "width": 0.14090888077296473
         },
         "lon": [
          103.8499736,
          -100.4458825
         ],
         "mode": "lines",
         "opacity": 0.48577680525164113,
         "showlegend": false,
         "type": "scattergeo"
        },
        {
         "lat": [
          52.2379891,
          17.7269134
         ],
         "line": {
          "color": "red",
          "width": 0.1305533724746891
         },
         "lon": [
          5.53460738161551,
          42.2363448
         ],
         "mode": "lines",
         "opacity": 0.48577680525164113,
         "showlegend": false,
         "type": "scattergeo"
        },
        {
         "lat": [
          61.0666922,
          39.7837304
         ],
         "line": {
          "color": "red",
          "width": 0.12093754334057602
         },
         "lon": [
          -107.9917071,
          -100.4458825
         ],
         "mode": "lines",
         "opacity": 0.48577680525164113,
         "showlegend": false,
         "type": "scattergeo"
        },
        {
         "lat": [
          30.8760272,
          25.61552
         ],
         "line": {
          "color": "red",
          "width": 0.12056770375849474
         },
         "lon": [
          35.0015196,
          55.84951
         ],
         "mode": "lines",
         "opacity": 0.48577680525164113,
         "showlegend": false,
         "type": "scattergeo"
        },
        {
         "lat": [
          52.865196,
          14.8971921
         ],
         "line": {
          "color": "red",
          "width": 0.11206139337062548
         },
         "lon": [
          -7.9794599,
          100.83273
         ],
         "mode": "lines",
         "opacity": 0.48577680525164113,
         "showlegend": false,
         "type": "scattergeo"
        },
        {
         "lat": [
          39.904211,
          38.9597594
         ],
         "line": {
          "color": "red",
          "width": 0.11058203504230041
         },
         "lon": [
          116.407395,
          34.9249653
         ],
         "mode": "lines",
         "opacity": 0.48577680525164113,
         "showlegend": false,
         "type": "scattergeo"
        },
        {
         "lat": [
          36.5748441,
          25.61552
         ],
         "line": {
          "color": "red",
          "width": 0.1079931579677315
         },
         "lon": [
          139.2394179,
          55.84951
         ],
         "mode": "lines",
         "opacity": 0.48577680525164113,
         "showlegend": false,
         "type": "scattergeo"
        },
        {
         "lat": [
          26.2540493,
          39.7837304
         ],
         "line": {
          "color": "red",
          "width": 0.10762331838565023
         },
         "lon": [
          29.2675469,
          -100.4458825
         ],
         "mode": "lines",
         "opacity": 0.48577680525164113,
         "showlegend": false,
         "type": "scattergeo"
        },
        {
         "lat": [
          -41.5000831,
          39.7837304
         ],
         "line": {
          "color": "red",
          "width": 0.10540428089316259
         },
         "lon": [
          172.8344077,
          -100.4458825
         ],
         "mode": "lines",
         "opacity": 0.48577680525164113,
         "showlegend": false,
         "type": "scattergeo"
        },
        {
         "lat": [
          13.2904027,
          25.61552
         ],
         "line": {
          "color": "red",
          "width": 0.10466460172900005
         },
         "lon": [
          108.4265113,
          55.84951
         ],
         "mode": "lines",
         "opacity": 0.48577680525164113,
         "showlegend": false,
         "type": "scattergeo"
        },
        {
         "lat": [
          40.033265,
          39.7837304
         ],
         "line": {
          "color": "red",
          "width": 0.10392492256483751
         },
         "lon": [
          -7.8896263,
          -100.4458825
         ],
         "mode": "lines",
         "opacity": 0.48577680525164113,
         "showlegend": false,
         "type": "scattergeo"
        },
        {
         "lat": [
          39.7837304,
          52.865196
         ],
         "line": {
          "color": "red",
          "width": 0.10318524340067496
         },
         "lon": [
          -100.4458825,
          -7.9794599
         ],
         "mode": "lines",
         "opacity": 0.48577680525164113,
         "showlegend": false,
         "type": "scattergeo"
        },
        {
         "lat": [
          46.7985624,
          40.0028028
         ],
         "line": {
          "color": "red",
          "width": 0.10133604549026859
         },
         "lon": [
          8.2319736,
          -4.003104
         ],
         "mode": "lines",
         "opacity": 0.48577680525164113,
         "showlegend": false,
         "type": "scattergeo"
        },
        {
         "lat": [
          23.59829785,
          39.7837304
         ],
         "line": {
          "color": "red",
          "width": 0.10096620590818733
         },
         "lon": [
          120.835363138175,
          -100.4458825
         ],
         "mode": "lines",
         "opacity": 0.48577680525164113,
         "showlegend": false,
         "type": "scattergeo"
        },
        {
         "lat": [
          14.8971921,
          25.61552
         ],
         "line": {
          "color": "red",
          "width": 0.10096620590818733
         },
         "lon": [
          100.83273,
          55.84951
         ],
         "mode": "lines",
         "opacity": 0.48577680525164113,
         "showlegend": false,
         "type": "scattergeo"
        },
        {
         "lat": [
          37.566535,
          40.0028028
         ],
         "line": {
          "color": "red",
          "width": 0.10096620590818733
         },
         "lon": [
          126.9779692,
          -4.003104
         ],
         "mode": "lines",
         "opacity": 0.48577680525164113,
         "showlegend": false,
         "type": "scattergeo"
        },
        {
         "lat": [
          -4.7993356,
          25.61552
         ],
         "line": {
          "color": "red",
          "width": 0.09911700799778098
         },
         "lon": [
          114.5632032,
          55.84951
         ],
         "mode": "lines",
         "opacity": 0.48577680525164113,
         "showlegend": false,
         "type": "scattergeo"
        },
        {
         "lat": [
          -4.7993356,
          39.7837304
         ],
         "line": {
          "color": "red",
          "width": 0.09911700799778098
         },
         "lon": [
          114.5632032,
          -100.4458825
         ],
         "mode": "lines",
         "opacity": 0.48577680525164113,
         "showlegend": false,
         "type": "scattergeo"
        },
        {
         "lat": [
          46.603354,
          39.7837304
         ],
         "line": {
          "color": "red",
          "width": 0.0987471684156997
         },
         "lon": [
          1.8883335,
          -100.4458825
         ],
         "mode": "lines",
         "opacity": 0.48577680525164113,
         "showlegend": false,
         "type": "scattergeo"
        },
        {
         "lat": [
          61.0666922,
          25.61552
         ],
         "line": {
          "color": "red",
          "width": 0.09837732883361842
         },
         "lon": [
          -107.9917071,
          55.84951
         ],
         "mode": "lines",
         "opacity": 0.48577680525164113,
         "showlegend": false,
         "type": "scattergeo"
        },
        {
         "lat": [
          42.6384261,
          25.61552
         ],
         "line": {
          "color": "red",
          "width": 0.09763764966945587
         },
         "lon": [
          12.674297,
          55.84951
         ],
         "mode": "lines",
         "opacity": 0.48577680525164113,
         "showlegend": false,
         "type": "scattergeo"
        },
        {
         "lat": [
          46.7985624,
          46.603354
         ],
         "line": {
          "color": "red",
          "width": 0.09541861217696825
         },
         "lon": [
          8.2319736,
          1.8883335
         ],
         "mode": "lines",
         "opacity": 0.48577680525164113,
         "showlegend": false,
         "type": "scattergeo"
        },
        {
         "lat": [
          14.8971921,
          40.033265
         ],
         "line": {
          "color": "red",
          "width": 0.09504877259488696
         },
         "lon": [
          100.83273,
          -7.8896263
         ],
         "mode": "lines",
         "opacity": 0.48577680525164113,
         "showlegend": false,
         "type": "scattergeo"
        },
        {
         "lat": [
          39.7837304,
          46.603354
         ],
         "line": {
          "color": "red",
          "width": 0.09098053719199298
         },
         "lon": [
          -100.4458825,
          1.8883335
         ],
         "mode": "lines",
         "opacity": 0.48577680525164113,
         "showlegend": false,
         "type": "scattergeo"
        },
        {
         "lat": [
          52.865196,
          25.61552
         ],
         "line": {
          "color": "red",
          "width": 0.09024085802783043
         },
         "lon": [
          -7.9794599,
          55.84951
         ],
         "mode": "lines",
         "opacity": 0.48577680525164113,
         "showlegend": false,
         "type": "scattergeo"
        },
        {
         "lat": [
          -10.3333333,
          25.61552
         ],
         "line": {
          "color": "red",
          "width": 0.08617262262493644
         },
         "lon": [
          -53.2,
          55.84951
         ],
         "mode": "lines",
         "opacity": 0.48577680525164113,
         "showlegend": false,
         "type": "scattergeo"
        },
        {
         "lat": [
          39.7837304,
          12.7503486
         ],
         "line": {
          "color": "red",
          "width": 0.08506310387869262
         },
         "lon": [
          -100.4458825,
          122.7312101
         ],
         "mode": "lines",
         "opacity": 0.48577680525164113,
         "showlegend": false,
         "type": "scattergeo"
        },
        {
         "lat": [
          30.3308401,
          25.61552
         ],
         "line": {
          "color": "red",
          "width": 0.07766631223706717
         },
         "lon": [
          71.247499,
          55.84951
         ],
         "mode": "lines",
         "opacity": 0.48577680525164113,
         "showlegend": false,
         "type": "scattergeo"
        },
        {
         "lat": [
          39.904211,
          64.6863136
         ],
         "line": {
          "color": "red",
          "width": 0.07618695390874208
         },
         "lon": [
          116.407395,
          97.7453061
         ],
         "mode": "lines",
         "opacity": 0.48577680525164113,
         "showlegend": false,
         "type": "scattergeo"
        },
        {
         "lat": [
          39.904211,
          22.350627
         ],
         "line": {
          "color": "red",
          "width": 0.07248855808792935
         },
         "lon": [
          116.407395,
          114.1849161
         ],
         "mode": "lines",
         "opacity": 0.48577680525164113,
         "showlegend": false,
         "type": "scattergeo"
        },
        {
         "lat": [
          39.7837304,
          50.6407351
         ],
         "line": {
          "color": "red",
          "width": 0.07063936017752301
         },
         "lon": [
          -100.4458825,
          4.66696
         ],
         "mode": "lines",
         "opacity": 0.48577680525164113,
         "showlegend": false,
         "type": "scattergeo"
        },
        {
         "lat": [
          42.6073975,
          39.7837304
         ],
         "line": {
          "color": "red",
          "width": 0.06102353104340992
         },
         "lon": [
          25.4856617,
          -100.4458825
         ],
         "mode": "lines",
         "opacity": 0.48577680525164113,
         "showlegend": false,
         "type": "scattergeo"
        },
        {
         "lat": [
          22.3511148,
          1.2904753
         ],
         "line": {
          "color": "red",
          "width": 0.05954417271508483
         },
         "lon": [
          78.6677428,
          103.8520359
         ],
         "mode": "lines",
         "opacity": 0.48577680525164113,
         "showlegend": false,
         "type": "scattergeo"
        },
        {
         "lat": [
          39.7837304,
          51.0834196
         ],
         "line": {
          "color": "red",
          "width": 0.05917433313300356
         },
         "lon": [
          -100.4458825,
          10.4234469
         ],
         "mode": "lines",
         "opacity": 0.48577680525164113,
         "showlegend": false,
         "type": "scattergeo"
        },
        {
         "lat": [
          39.7837304,
          -24.7761086
         ],
         "line": {
          "color": "red",
          "width": 0.058804493550922286
         },
         "lon": [
          -100.4458825,
          134.755
         ],
         "mode": "lines",
         "opacity": 0.48577680525164113,
         "showlegend": false,
         "type": "scattergeo"
        },
        {
         "lat": [
          36.5748441,
          50.6407351
         ],
         "line": {
          "color": "red",
          "width": 0.05843465396884102
         },
         "lon": [
          139.2394179,
          4.66696
         ],
         "mode": "lines",
         "opacity": 0.48577680525164113,
         "showlegend": false,
         "type": "scattergeo"
        },
        {
         "lat": [
          22.3511148,
          42.6384261
         ],
         "line": {
          "color": "red",
          "width": 0.05695529564051592
         },
         "lon": [
          78.6677428,
          12.674297
         ],
         "mode": "lines",
         "opacity": 0.48577680525164113,
         "showlegend": false,
         "type": "scattergeo"
        },
        {
         "lat": [
          52.0977181,
          34.9823018
         ],
         "line": {
          "color": "red",
          "width": 0.05621561647635338
         },
         "lon": [
          19.0258159,
          33.1451285
         ],
         "mode": "lines",
         "opacity": 0.48577680525164113,
         "showlegend": false,
         "type": "scattergeo"
        },
        {
         "lat": [
          39.7837304,
          45.9852129
         ],
         "line": {
          "color": "red",
          "width": 0.05584577689427211
         },
         "lon": [
          -100.4458825,
          24.6859225
         ],
         "mode": "lines",
         "opacity": 0.48577680525164113,
         "showlegend": false,
         "type": "scattergeo"
        },
        {
         "lat": [
          52.2379891,
          52.865196
         ],
         "line": {
          "color": "red",
          "width": 0.05584577689427211
         },
         "lon": [
          5.53460738161551,
          -7.9794599
         ],
         "mode": "lines",
         "opacity": 0.48577680525164113,
         "showlegend": false,
         "type": "scattergeo"
        },
        {
         "lat": [
          51.303,
          51.303
         ],
         "line": {
          "color": "red",
          "width": 0.05547593731219083
         },
         "lon": [
          0.0732,
          0.0732
         ],
         "mode": "lines",
         "opacity": 0.48577680525164113,
         "showlegend": false,
         "type": "scattergeo"
        },
        {
         "lat": [
          39.7837304,
          64.6863136
         ],
         "line": {
          "color": "red",
          "width": 0.054736258148028294
         },
         "lon": [
          -100.4458825,
          97.7453061
         ],
         "mode": "lines",
         "opacity": 0.48577680525164113,
         "showlegend": false,
         "type": "scattergeo"
        },
        {
         "lat": [
          39.7837304,
          64.5731537
         ],
         "line": {
          "color": "red",
          "width": 0.054366418565947025
         },
         "lon": [
          -100.4458825,
          11.5280364395482
         ],
         "mode": "lines",
         "opacity": 0.48577680525164113,
         "showlegend": false,
         "type": "scattergeo"
        },
        {
         "lat": [
          39.7837304,
          51.38660965
         ],
         "line": {
          "color": "red",
          "width": 0.05399657898386575
         },
         "lon": [
          -100.4458825,
          0.547714867236488
         ],
         "mode": "lines",
         "opacity": 0.48577680525164113,
         "showlegend": false,
         "type": "scattergeo"
        },
        {
         "lat": [
          36.5748441,
          61.0666922
         ],
         "line": {
          "color": "red",
          "width": 0.05399657898386575
         },
         "lon": [
          139.2394179,
          -107.9917071
         ],
         "mode": "lines",
         "opacity": 0.48577680525164113,
         "showlegend": false,
         "type": "scattergeo"
        },
        {
         "lat": [
          23.59829785,
          -24.7761086
         ],
         "line": {
          "color": "red",
          "width": 0.05362673940178447
         },
         "lon": [
          120.835363138175,
          134.755
         ],
         "mode": "lines",
         "opacity": 0.48577680525164113,
         "showlegend": false,
         "type": "scattergeo"
        },
        {
         "lat": [
          8.0018709,
          12.7503486
         ],
         "line": {
          "color": "red",
          "width": 0.053256899819703205
         },
         "lon": [
          -66.1109318,
          122.7312101
         ],
         "mode": "lines",
         "opacity": 0.48577680525164113,
         "showlegend": false,
         "type": "scattergeo"
        },
        {
         "lat": [
          24.4768783,
          34.9823018
         ],
         "line": {
          "color": "red",
          "width": 0.053256899819703205
         },
         "lon": [
          90.2932426,
          33.1451285
         ],
         "mode": "lines",
         "opacity": 0.48577680525164113,
         "showlegend": false,
         "type": "scattergeo"
        },
        {
         "lat": [
          51.0834196,
          52.0977181
         ],
         "line": {
          "color": "red",
          "width": 0.053256899819703205
         },
         "lon": [
          10.4234469,
          19.0258159
         ],
         "mode": "lines",
         "opacity": 0.48577680525164113,
         "showlegend": false,
         "type": "scattergeo"
        },
        {
         "lat": [
          39.904211,
          61.0666922
         ],
         "line": {
          "color": "red",
          "width": 0.052887060237621936
         },
         "lon": [
          116.407395,
          -107.9917071
         ],
         "mode": "lines",
         "opacity": 0.48577680525164113,
         "showlegend": false,
         "type": "scattergeo"
        },
        {
         "lat": [
          40.033265,
          40.033265
         ],
         "line": {
          "color": "red",
          "width": 0.052887060237621936
         },
         "lon": [
          -7.8896263,
          -7.8896263
         ],
         "mode": "lines",
         "opacity": 0.48577680525164113,
         "showlegend": false,
         "type": "scattergeo"
        },
        {
         "lat": [
          46.603354,
          42.6384261
         ],
         "line": {
          "color": "red",
          "width": 0.05251722065554066
         },
         "lon": [
          1.8883335,
          12.674297
         ],
         "mode": "lines",
         "opacity": 0.48577680525164113,
         "showlegend": false,
         "type": "scattergeo"
        },
        {
         "lat": [
          2.8894434,
          64.6863136
         ],
         "line": {
          "color": "red",
          "width": 0.05251722065554066
         },
         "lon": [
          -73.783892,
          97.7453061
         ],
         "mode": "lines",
         "opacity": 0.48577680525164113,
         "showlegend": false,
         "type": "scattergeo"
        },
        {
         "lat": [
          36.5748441,
          17.7269134
         ],
         "line": {
          "color": "red",
          "width": 0.05251722065554066
         },
         "lon": [
          139.2394179,
          42.2363448
         ],
         "mode": "lines",
         "opacity": 0.48577680525164113,
         "showlegend": false,
         "type": "scattergeo"
        },
        {
         "lat": [
          46.7985624,
          45.9852129
         ],
         "line": {
          "color": "red",
          "width": 0.051777541491378115
         },
         "lon": [
          8.2319736,
          24.6859225
         ],
         "mode": "lines",
         "opacity": 0.48577680525164113,
         "showlegend": false,
         "type": "scattergeo"
        },
        {
         "lat": [
          45.9852129,
          52.865196
         ],
         "line": {
          "color": "red",
          "width": 0.051407701909296846
         },
         "lon": [
          24.6859225,
          -7.9794599
         ],
         "mode": "lines",
         "opacity": 0.48577680525164113,
         "showlegend": false,
         "type": "scattergeo"
        },
        {
         "lat": [
          49.4871968,
          25.61552
         ],
         "line": {
          "color": "red",
          "width": 0.051407701909296846
         },
         "lon": [
          31.2718321,
          55.84951
         ],
         "mode": "lines",
         "opacity": 0.48577680525164113,
         "showlegend": false,
         "type": "scattergeo"
        },
        {
         "lat": [
          22.3511148,
          25.61552
         ],
         "line": {
          "color": "red",
          "width": 0.051407701909296846
         },
         "lon": [
          78.6677428,
          55.84951
         ],
         "mode": "lines",
         "opacity": 0.48577680525164113,
         "showlegend": false,
         "type": "scattergeo"
        },
        {
         "lat": [
          -24.7761086,
          39.7837304
         ],
         "line": {
          "color": "red",
          "width": 0.051407701909296846
         },
         "lon": [
          134.755,
          -100.4458825
         ],
         "mode": "lines",
         "opacity": 0.48577680525164113,
         "showlegend": false,
         "type": "scattergeo"
        },
        {
         "lat": [
          51.303,
          39.7837304
         ],
         "line": {
          "color": "red",
          "width": 0.05103786232721557
         },
         "lon": [
          0.0732,
          -100.4458825
         ],
         "mode": "lines",
         "opacity": 0.48577680525164113,
         "showlegend": false,
         "type": "scattergeo"
        },
        {
         "lat": [
          40.0028028,
          39.904211
         ],
         "line": {
          "color": "red",
          "width": 0.050668022745134295
         },
         "lon": [
          -4.003104,
          116.407395
         ],
         "mode": "lines",
         "opacity": 0.48577680525164113,
         "showlegend": false,
         "type": "scattergeo"
        },
        {
         "lat": [
          47.286747,
          64.5731537
         ],
         "line": {
          "color": "red",
          "width": 0.050298183163053026
         },
         "lon": [
          28.5110236,
          11.5280364395482
         ],
         "mode": "lines",
         "opacity": 0.48577680525164113,
         "showlegend": false,
         "type": "scattergeo"
        },
        {
         "lat": [
          19.4326009,
          19.4326009
         ],
         "line": {
          "color": "red",
          "width": 0.04992834358097175
         },
         "lon": [
          -99.1333416,
          -99.1333416
         ],
         "mode": "lines",
         "opacity": 0.48577680525164113,
         "showlegend": false,
         "type": "scattergeo"
        },
        {
         "lat": [
          40.18658704808404,
          39.7837304
         ],
         "line": {
          "color": "red",
          "width": 0.04992834358097175
         },
         "lon": [
          44.78151767883003,
          -100.4458825
         ],
         "mode": "lines",
         "opacity": 0.48577680525164113,
         "showlegend": false,
         "type": "scattergeo"
        },
        {
         "lat": [
          46.7985624,
          38.9597594
         ],
         "line": {
          "color": "red",
          "width": 0.048818824834727936
         },
         "lon": [
          8.2319736,
          34.9249653
         ],
         "mode": "lines",
         "opacity": 0.48577680525164113,
         "showlegend": false,
         "type": "scattergeo"
        },
        {
         "lat": [
          25.61552,
          51.303
         ],
         "line": {
          "color": "red",
          "width": 0.048818824834727936
         },
         "lon": [
          55.84951,
          0.0732
         ],
         "mode": "lines",
         "opacity": 0.48577680525164113,
         "showlegend": false,
         "type": "scattergeo"
        },
        {
         "lat": [
          39.904211,
          46.603354
         ],
         "line": {
          "color": "red",
          "width": 0.04622994776015903
         },
         "lon": [
          116.407395,
          1.8883335
         ],
         "mode": "lines",
         "opacity": 0.48577680525164113,
         "showlegend": false,
         "type": "scattergeo"
        },
        {
         "lat": [
          22.3511148,
          46.603354
         ],
         "line": {
          "color": "red",
          "width": 0.0440109102676714
         },
         "lon": [
          78.6677428,
          1.8883335
         ],
         "mode": "lines",
         "opacity": 0.48577680525164113,
         "showlegend": false,
         "type": "scattergeo"
        },
        {
         "lat": [
          49.4871968,
          47.2000338
         ],
         "line": {
          "color": "red",
          "width": 0.04327123110350885
         },
         "lon": [
          31.2718321,
          13.199959
         ],
         "mode": "lines",
         "opacity": 0.48577680525164113,
         "showlegend": false,
         "type": "scattergeo"
        },
        {
         "lat": [
          39.7837304,
          22.350627
         ],
         "line": {
          "color": "red",
          "width": 0.041791872775183765
         },
         "lon": [
          -100.4458825,
          114.1849161
         ],
         "mode": "lines",
         "opacity": 0.48577680525164113,
         "showlegend": false,
         "type": "scattergeo"
        },
        {
         "lat": [
          52.2379891,
          42.6384261
         ],
         "line": {
          "color": "red",
          "width": 0.0399426748647774
         },
         "lon": [
          5.53460738161551,
          12.674297
         ],
         "mode": "lines",
         "opacity": 0.48577680525164113,
         "showlegend": false,
         "type": "scattergeo"
        },
        {
         "lat": [
          17.7269134,
          25.61552
         ],
         "line": {
          "color": "red",
          "width": 0.0373537977902085
         },
         "lon": [
          42.2363448,
          55.84951
         ],
         "mode": "lines",
         "opacity": 0.48577680525164113,
         "showlegend": false,
         "type": "scattergeo"
        },
        {
         "lat": [
          22.350627,
          39.7837304
         ],
         "line": {
          "color": "red",
          "width": 0.03587443946188341
         },
         "lon": [
          114.1849161,
          -100.4458825
         ],
         "mode": "lines",
         "opacity": 0.48577680525164113,
         "showlegend": false,
         "type": "scattergeo"
        },
        {
         "lat": [
          52.0977181,
          39.7837304
         ],
         "line": {
          "color": "red",
          "width": 0.03513476029772086
         },
         "lon": [
          19.0258159,
          -100.4458825
         ],
         "mode": "lines",
         "opacity": 0.48577680525164113,
         "showlegend": false,
         "type": "scattergeo"
        },
        {
         "lat": [
          45.8133113,
          52.865196
         ],
         "line": {
          "color": "red",
          "width": 0.03291572280523323
         },
         "lon": [
          14.4808369,
          -7.9794599
         ],
         "mode": "lines",
         "opacity": 0.48577680525164113,
         "showlegend": false,
         "type": "scattergeo"
        },
        {
         "lat": [
          -17.0568696,
          39.7837304
         ],
         "line": {
          "color": "red",
          "width": 0.03291572280523323
         },
         "lon": [
          -64.9912286,
          -100.4458825
         ],
         "mode": "lines",
         "opacity": 0.48577680525164113,
         "showlegend": false,
         "type": "scattergeo"
        },
        {
         "lat": [
          22.3511148,
          40.033265
         ],
         "line": {
          "color": "red",
          "width": 0.032176043641070684
         },
         "lon": [
          78.6677428,
          -7.8896263
         ],
         "mode": "lines",
         "opacity": 0.48577680525164113,
         "showlegend": false,
         "type": "scattergeo"
        },
        {
         "lat": [
          38.9597594,
          1.2904753
         ],
         "line": {
          "color": "red",
          "width": 0.030696685312745598
         },
         "lon": [
          34.9249653,
          103.8520359
         ],
         "mode": "lines",
         "opacity": 0.48577680525164113,
         "showlegend": false,
         "type": "scattergeo"
        },
        {
         "lat": [
          12.7503486,
          12.7503486
         ],
         "line": {
          "color": "red",
          "width": 0.026628449909851602
         },
         "lon": [
          122.7312101,
          122.7312101
         ],
         "mode": "lines",
         "opacity": 0.48577680525164113,
         "showlegend": false,
         "type": "scattergeo"
        },
        {
         "hoverinfo": "text",
         "lat": [
          39.7837304,
          46.603354,
          17.7269134,
          22.350627,
          64.6863136,
          42.6384261,
          34.9823018,
          51.0834196,
          51.303,
          40.033265,
          19.4326009,
          12.7503486
         ],
         "legendgroup": "group2",
         "lon": [
          -100.4458825,
          1.8883335,
          42.2363448,
          114.1849161,
          97.7453061,
          12.674297,
          33.1451285,
          10.4234469,
          0.0732,
          -7.8896263,
          -99.1333416,
          122.7312101
         ],
         "marker": {
          "color": "rgb(33,113,181)",
          "line": {
           "width": 0
          },
          "size": [
           34.083306365863805,
           0.40423466321483054,
           0.37131894040959734,
           0.30844621145578105,
           0.25814802829272804,
           0.16753733068281634,
           0.15866118071286578,
           0.15570246405621563,
           0.05547593731219083,
           0.052887060237621936,
           0.04992834358097175,
           0.026628449909851602
          ]
         },
         "mode": "markers",
         "name": "Flux intra pays",
         "showlegend": true,
         "text": [
          "united states",
          "france",
          "saudi arabia",
          "hong kong",
          "russia",
          "italy",
          "cyprus",
          "germany",
          "united kingdom",
          "portugal",
          "mexico",
          "philippines"
         ],
         "type": "scattergeo"
        },
        {
         "hoverinfo": "text",
         "lat": [
          39.7837304,
          39.904211,
          39.904211,
          49.4871968,
          52.2379891,
          39.904211,
          39.7837304,
          22.3511148,
          37.566535,
          39.904211,
          38.9597594,
          46.7985624,
          39.904211,
          2.8894434,
          39.904211,
          52.2379891,
          45.9852129,
          40.0028028,
          -34.9964963,
          52.0977181,
          30.3308401,
          39.7837304,
          46.603354,
          17.7269134,
          36.5748441,
          13.2904027,
          39.904211,
          51.0834196,
          -10.3333333,
          22.350627,
          50.6407351,
          47.286747,
          46.603354,
          46.7985624,
          12.7503486,
          64.6863136,
          39.904211,
          -31.7613365,
          38.9597594,
          40.0028028,
          30.3308401,
          37.566535,
          2.8894434,
          52.2379891,
          49.8167003,
          64.6863136,
          19.4326009,
          19.4326009,
          13.2904027,
          51.0834196,
          42.6384261,
          13.2904027,
          23.59829785,
          34.9823018,
          42.6384261,
          51.0834196,
          32.3018217,
          49.8167003,
          22.350627,
          40.18658704808404,
          12.7503486,
          51.303,
          46.8250388,
          52.2379891,
          61.0666922,
          30.8760272,
          52.865196,
          39.904211,
          36.5748441,
          26.2540493,
          -41.5000831,
          13.2904027,
          40.033265,
          39.7837304,
          46.7985624,
          23.59829785,
          14.8971921,
          37.566535,
          -4.7993356,
          -4.7993356,
          46.603354,
          61.0666922,
          42.6384261,
          46.7985624,
          14.8971921,
          39.7837304,
          52.865196,
          -10.3333333,
          39.7837304,
          30.3308401,
          39.904211,
          39.904211,
          39.7837304,
          42.6073975,
          22.3511148,
          39.7837304,
          39.7837304,
          36.5748441,
          22.3511148,
          52.0977181,
          39.7837304,
          52.2379891,
          51.303,
          39.7837304,
          39.7837304,
          39.7837304,
          36.5748441,
          23.59829785,
          8.0018709,
          24.4768783,
          51.0834196,
          39.904211,
          40.033265,
          46.603354,
          2.8894434,
          36.5748441,
          46.7985624,
          45.9852129,
          49.4871968,
          22.3511148,
          -24.7761086,
          51.303,
          40.0028028,
          47.286747,
          19.4326009,
          40.18658704808404,
          46.7985624,
          25.61552,
          39.904211,
          22.3511148,
          49.4871968,
          39.7837304,
          52.2379891,
          17.7269134,
          22.350627,
          52.0977181,
          45.8133113,
          -17.0568696,
          22.3511148,
          38.9597594,
          12.7503486
         ],
         "legendgroup": "group1",
         "lon": [
          -100.4458825,
          116.407395,
          116.407395,
          31.2718321,
          5.53460738161551,
          116.407395,
          -100.4458825,
          78.6677428,
          126.9779692,
          116.407395,
          34.9249653,
          8.2319736,
          116.407395,
          -73.783892,
          116.407395,
          5.53460738161551,
          24.6859225,
          -4.003104,
          -64.9672817,
          19.0258159,
          71.247499,
          -100.4458825,
          1.8883335,
          42.2363448,
          139.2394179,
          108.4265113,
          116.407395,
          10.4234469,
          -53.2,
          114.1849161,
          4.66696,
          28.5110236,
          1.8883335,
          8.2319736,
          122.7312101,
          97.7453061,
          116.407395,
          -71.3187697,
          34.9249653,
          -4.003104,
          71.247499,
          126.9779692,
          -73.783892,
          5.53460738161551,
          15.4749544,
          97.7453061,
          -99.1333416,
          -99.1333416,
          108.4265113,
          10.4234469,
          12.674297,
          108.4265113,
          120.835363138175,
          33.1451285,
          12.674297,
          10.4234469,
          -64.7603583,
          15.4749544,
          114.1849161,
          44.78151767883003,
          122.7312101,
          0.0732,
          103.8499736,
          5.53460738161551,
          -107.9917071,
          35.0015196,
          -7.9794599,
          116.407395,
          139.2394179,
          29.2675469,
          172.8344077,
          108.4265113,
          -7.8896263,
          -100.4458825,
          8.2319736,
          120.835363138175,
          100.83273,
          126.9779692,
          114.5632032,
          114.5632032,
          1.8883335,
          -107.9917071,
          12.674297,
          8.2319736,
          100.83273,
          -100.4458825,
          -7.9794599,
          -53.2,
          -100.4458825,
          71.247499,
          116.407395,
          116.407395,
          -100.4458825,
          25.4856617,
          78.6677428,
          -100.4458825,
          -100.4458825,
          139.2394179,
          78.6677428,
          19.0258159,
          -100.4458825,
          5.53460738161551,
          0.0732,
          -100.4458825,
          -100.4458825,
          -100.4458825,
          139.2394179,
          120.835363138175,
          -66.1109318,
          90.2932426,
          10.4234469,
          116.407395,
          -7.8896263,
          1.8883335,
          -73.783892,
          139.2394179,
          8.2319736,
          24.6859225,
          31.2718321,
          78.6677428,
          134.755,
          0.0732,
          -4.003104,
          28.5110236,
          -99.1333416,
          44.78151767883003,
          8.2319736,
          55.84951,
          116.407395,
          78.6677428,
          31.2718321,
          -100.4458825,
          5.53460738161551,
          42.2363448,
          114.1849161,
          19.0258159,
          14.4808369,
          -64.9912286,
          78.6677428,
          34.9249653,
          122.7312101
         ],
         "marker": {
          "color": "rgb(255, 0, 0)",
          "line": {
           "color": "rgba(68, 68, 68, 0)",
           "width": 1
          },
          "size": 2
         },
         "mode": "markers",
         "name": "Flux inter pays",
         "showlegend": true,
         "text": [
          "united states",
          "china",
          "china",
          "ukraine",
          "netherlands",
          "china",
          "united states",
          "india",
          "south korea",
          "china",
          "turkey",
          "swiss",
          "china",
          "colombia",
          "china",
          "netherlands",
          "roumania",
          "spain",
          "argentina",
          "poland",
          "pakistan",
          "united states",
          "france",
          "saudi arabia",
          "japan",
          "vietnam",
          "china",
          "germany",
          "brazil",
          "hong kong",
          "belgium",
          "moldova",
          "france",
          "swiss",
          "philippines",
          "russia",
          "china",
          "chile",
          "turkey",
          "spain",
          "pakistan",
          "south korea",
          "colombia",
          "netherlands",
          "czech republic",
          "russia",
          "mexico",
          "mexico",
          "vietnam",
          "germany",
          "italy",
          "vietnam",
          "taiwan",
          "cyprus",
          "italy",
          "germany",
          "bermuda",
          "czech republic",
          "hong kong",
          "armenia",
          "philippines",
          "united kingdom",
          "mongolia",
          "netherlands",
          "canada",
          "israel",
          "ireland",
          "china",
          "japan",
          "egypt",
          "new zealand",
          "vietnam",
          "portugal",
          "united states",
          "swiss",
          "taiwan",
          "thailand",
          "south korea",
          "indonesia",
          "indonesia",
          "france",
          "canada",
          "italy",
          "swiss",
          "thailand",
          "united states",
          "ireland",
          "brazil",
          "united states",
          "pakistan",
          "china",
          "china",
          "united states",
          "bulgaria",
          "india",
          "united states",
          "united states",
          "japan",
          "india",
          "poland",
          "united states",
          "netherlands",
          "united kingdom",
          "united states",
          "united states",
          "united states",
          "japan",
          "taiwan",
          "venezuela",
          "bangladesh",
          "germany",
          "china",
          "portugal",
          "france",
          "colombia",
          "japan",
          "swiss",
          "roumania",
          "ukraine",
          "india",
          "australia",
          "united kingdom",
          "spain",
          "moldova",
          "mexico",
          "armenia",
          "swiss",
          "united arab emirates",
          "china",
          "india",
          "ukraine",
          "united states",
          "netherlands",
          "saudi arabia",
          "hong kong",
          "poland",
          "slovenia",
          "bolivia",
          "india",
          "turkey",
          "philippines"
         ],
         "type": "scattergeo"
        }
       ],
       "layout": {
        "geo": {
         "countrycolor": "rgb(204, 204, 204)",
         "landcolor": "rgb(243, 243, 243)",
         "projection": {
          "type": "orthographic"
         },
         "scope": "world",
         "showcountries": true,
         "showland": true
        },
        "title": "Flux des cyberattaques mondiale en mars 2018 <br> source : <a href=\"http://www.norse-corp.com/about-us/who-we-are/\">Norse </a>"
       }
      },
      "text/html": [
       "<div id=\"6cc5d49c-519b-421f-9927-af4782e886bd\" style=\"height: 525px; width: 100%;\" class=\"plotly-graph-div\"></div><script type=\"text/javascript\">require([\"plotly\"], function(Plotly) { window.PLOTLYENV=window.PLOTLYENV || {};window.PLOTLYENV.BASE_URL=\"https://plot.ly\";Plotly.newPlot(\"6cc5d49c-519b-421f-9927-af4782e886bd\", [{\"showlegend\": false, \"line\": {\"color\": \"red\", \"width\": 34.083306365863805}, \"type\": \"scattergeo\", \"opacity\": 0.48577680525164113, \"mode\": \"lines\", \"lon\": [-100.4458825, -100.4458825], \"lat\": [39.7837304, 39.7837304]}, {\"showlegend\": false, \"line\": {\"color\": \"red\", \"width\": 9.940178447598354}, \"type\": \"scattergeo\", \"opacity\": 0.48577680525164113, \"mode\": \"lines\", \"lon\": [116.407395, 55.84951], \"lat\": [39.904211, 25.61552]}, {\"showlegend\": false, \"line\": {\"color\": \"red\", \"width\": 4.829735102399334}, \"type\": \"scattergeo\", \"opacity\": 0.48577680525164113, \"mode\": \"lines\", \"lon\": [116.407395, -100.4458825], \"lat\": [39.904211, 39.7837304]}, {\"showlegend\": false, \"line\": {\"color\": \"red\", \"width\": 2.375849475290093}, \"type\": \"scattergeo\", \"opacity\": 0.48577680525164113, \"mode\": \"lines\", \"lon\": [31.2718321, -100.4458825], \"lat\": [49.4871968, 39.7837304]}, {\"showlegend\": false, \"line\": {\"color\": \"red\", \"width\": 1.9239055059867782}, \"type\": \"scattergeo\", \"opacity\": 0.48577680525164113, \"mode\": \"lines\", \"lon\": [5.53460738161551, 55.84951], \"lat\": [52.2379891, 25.61552]}, {\"showlegend\": false, \"line\": {\"color\": \"red\", \"width\": 1.7608062502889372}, \"type\": \"scattergeo\", \"opacity\": 0.48577680525164113, \"mode\": \"lines\", \"lon\": [116.407395, -4.003104], \"lat\": [39.904211, 40.0028028]}, {\"showlegend\": false, \"line\": {\"color\": \"red\", \"width\": 1.0185382090518238}, \"type\": \"scattergeo\", \"opacity\": 0.48577680525164113, \"mode\": \"lines\", \"lon\": [-100.4458825, 55.84951], \"lat\": [39.7837304, 25.61552]}, {\"showlegend\": false, \"line\": {\"color\": \"red\", \"width\": 0.9331052655910499}, \"type\": \"scattergeo\", \"opacity\": 0.48577680525164113, \"mode\": \"lines\", \"lon\": [78.6677428, -100.4458825], \"lat\": [22.3511148, 39.7837304]}, {\"showlegend\": false, \"line\": {\"color\": \"red\", \"width\": 0.9253386343673432}, \"type\": \"scattergeo\", \"opacity\": 0.48577680525164113, \"mode\": \"lines\", \"lon\": [126.9779692, -100.4458825], \"lat\": [37.566535, 39.7837304]}, {\"showlegend\": false, \"line\": {\"color\": \"red\", \"width\": 0.9090656927557672}, \"type\": \"scattergeo\", \"opacity\": 0.48577680525164113, \"mode\": \"lines\", \"lon\": [116.407395, 103.8520359], \"lat\": [39.904211, 1.2904753]}, {\"showlegend\": false, \"line\": {\"color\": \"red\", \"width\": 0.7104618371781241}, \"type\": \"scattergeo\", \"opacity\": 0.48577680525164113, \"mode\": \"lines\", \"lon\": [34.9249653, -100.4458825], \"lat\": [38.9597594, 39.7837304]}, {\"showlegend\": false, \"line\": {\"color\": \"red\", \"width\": 0.6986269705515233}, \"type\": \"scattergeo\", \"opacity\": 0.48577680525164113, \"mode\": \"lines\", \"lon\": [8.2319736, -100.4458825], \"lat\": [46.7985624, 39.7837304]}, {\"showlegend\": false, \"line\": {\"color\": \"red\", \"width\": 0.5714021543155656}, \"type\": \"scattergeo\", \"opacity\": 0.48577680525164113, \"mode\": \"lines\", \"lon\": [116.407395, 11.5280364395482], \"lat\": [39.904211, 64.5731537]}, {\"showlegend\": false, \"line\": {\"color\": \"red\", \"width\": 0.5625260043456151}, \"type\": \"scattergeo\", \"opacity\": 0.48577680525164113, \"mode\": \"lines\", \"lon\": [-73.783892, -4.003104], \"lat\": [2.8894434, 40.0028028]}, {\"showlegend\": false, \"line\": {\"color\": \"red\", \"width\": 0.5525403356294207}, \"type\": \"scattergeo\", \"opacity\": 0.48577680525164113, \"mode\": \"lines\", \"lon\": [116.407395, 122.7312101], \"lat\": [39.904211, 12.7503486]}, {\"showlegend\": false, \"line\": {\"color\": \"red\", \"width\": 0.5518006564652582}, \"type\": \"scattergeo\", \"opacity\": 0.48577680525164113, \"mode\": \"lines\", \"lon\": [5.53460738161551, 4.66696], \"lat\": [52.2379891, 50.6407351]}, {\"showlegend\": false, \"line\": {\"color\": \"red\", \"width\": 0.5403356294207388}, \"type\": \"scattergeo\", \"opacity\": 0.48577680525164113, \"mode\": \"lines\", \"lon\": [24.6859225, -100.4458825], \"lat\": [45.9852129, 39.7837304]}, {\"showlegend\": false, \"line\": {\"color\": \"red\", \"width\": 0.5373769127640886}, \"type\": \"scattergeo\", \"opacity\": 0.48577680525164113, \"mode\": \"lines\", \"lon\": [-4.003104, -100.4458825], \"lat\": [40.0028028, 39.7837304]}, {\"showlegend\": false, \"line\": {\"color\": \"red\", \"width\": 0.48929776709352324}, \"type\": \"scattergeo\", \"opacity\": 0.48577680525164113, \"mode\": \"lines\", \"lon\": [-64.9672817, -100.4458825], \"lat\": [-34.9964963, 39.7837304]}, {\"showlegend\": false, \"line\": {\"color\": \"red\", \"width\": 0.4715454671536221}, \"type\": \"scattergeo\", \"opacity\": 0.48577680525164113, \"mode\": \"lines\", \"lon\": [19.0258159, 55.84951], \"lat\": [52.0977181, 25.61552]}, {\"showlegend\": false, \"line\": {\"color\": \"red\", \"width\": 0.43862974434838886}, \"type\": \"scattergeo\", \"opacity\": 0.48577680525164113, \"mode\": \"lines\", \"lon\": [71.247499, 1.8883335], \"lat\": [30.3308401, 46.603354]}, {\"showlegend\": false, \"line\": {\"color\": \"red\", \"width\": 0.4094124173639684}, \"type\": \"scattergeo\", \"opacity\": 0.48577680525164113, \"mode\": \"lines\", \"lon\": [-100.4458825, 12.674297], \"lat\": [39.7837304, 42.6384261]}, {\"showlegend\": false, \"line\": {\"color\": \"red\", \"width\": 0.40423466321483054}, \"type\": \"scattergeo\", \"opacity\": 0.48577680525164113, \"mode\": \"lines\", \"lon\": [1.8883335, 1.8883335], \"lat\": [46.603354, 46.603354]}, {\"showlegend\": false, \"line\": {\"color\": \"red\", \"width\": 0.37131894040959734}, \"type\": \"scattergeo\", \"opacity\": 0.48577680525164113, \"mode\": \"lines\", \"lon\": [42.2363448, 42.2363448], \"lat\": [17.7269134, 17.7269134]}, {\"showlegend\": false, \"line\": {\"color\": \"red\", \"width\": 0.3690999029171097}, \"type\": \"scattergeo\", \"opacity\": 0.48577680525164113, \"mode\": \"lines\", \"lon\": [139.2394179, -100.4458825], \"lat\": [36.5748441, 39.7837304]}, {\"showlegend\": false, \"line\": {\"color\": \"red\", \"width\": 0.3679903841708659}, \"type\": \"scattergeo\", \"opacity\": 0.48577680525164113, \"mode\": \"lines\", \"lon\": [108.4265113, 1.8883335], \"lat\": [13.2904027, 46.603354]}, {\"showlegend\": false, \"line\": {\"color\": \"red\", \"width\": 0.33359530303730756}, \"type\": \"scattergeo\", \"opacity\": 0.48577680525164113, \"mode\": \"lines\", \"lon\": [116.407395, 12.674297], \"lat\": [39.904211, 42.6384261]}, {\"showlegend\": false, \"line\": {\"color\": \"red\", \"width\": 0.33100642596273866}, \"type\": \"scattergeo\", \"opacity\": 0.48577680525164113, \"mode\": \"lines\", \"lon\": [10.4234469, -100.4458825], \"lat\": [51.0834196, 39.7837304]}, {\"showlegend\": false, \"line\": {\"color\": \"red\", \"width\": 0.31769220100781287}, \"type\": \"scattergeo\", \"opacity\": 0.48577680525164113, \"mode\": \"lines\", \"lon\": [-53.2, -100.4458825], \"lat\": [-10.3333333, 39.7837304]}, {\"showlegend\": false, \"line\": {\"color\": \"red\", \"width\": 0.30844621145578105}, \"type\": \"scattergeo\", \"opacity\": 0.48577680525164113, \"mode\": \"lines\", \"lon\": [114.1849161, 114.1849161], \"lat\": [22.350627, 22.350627]}, {\"showlegend\": false, \"line\": {\"color\": \"red\", \"width\": 0.3077065322916185}, \"type\": \"scattergeo\", \"opacity\": 0.48577680525164113, \"mode\": \"lines\", \"lon\": [4.66696, -100.4458825], \"lat\": [50.6407351, 39.7837304]}, {\"showlegend\": false, \"line\": {\"color\": \"red\", \"width\": 0.3054874947991309}, \"type\": \"scattergeo\", \"opacity\": 0.48577680525164113, \"mode\": \"lines\", \"lon\": [28.5110236, -100.4458825], \"lat\": [47.286747, 39.7837304]}, {\"showlegend\": false, \"line\": {\"color\": \"red\", \"width\": 0.30030974064999305}, \"type\": \"scattergeo\", \"opacity\": 0.48577680525164113, \"mode\": \"lines\", \"lon\": [1.8883335, 55.84951], \"lat\": [46.603354, 25.61552]}, {\"showlegend\": false, \"line\": {\"color\": \"red\", \"width\": 0.2932827885904489}, \"type\": \"scattergeo\", \"opacity\": 0.48577680525164113, \"mode\": \"lines\", \"lon\": [8.2319736, 55.84951], \"lat\": [46.7985624, 25.61552]}, {\"showlegend\": false, \"line\": {\"color\": \"red\", \"width\": 0.2648051407701909}, \"type\": \"scattergeo\", \"opacity\": 0.48577680525164113, \"mode\": \"lines\", \"lon\": [122.7312101, -100.4458825], \"lat\": [12.7503486, 39.7837304]}, {\"showlegend\": false, \"line\": {\"color\": \"red\", \"width\": 0.25814802829272804}, \"type\": \"scattergeo\", \"opacity\": 0.48577680525164113, \"mode\": \"lines\", \"lon\": [97.7453061, 97.7453061], \"lat\": [64.6863136, 64.6863136]}, {\"showlegend\": false, \"line\": {\"color\": \"red\", \"width\": 0.24409412417363968}, \"type\": \"scattergeo\", \"opacity\": 0.48577680525164113, \"mode\": \"lines\", \"lon\": [116.407395, 100.83273], \"lat\": [39.904211, 14.8971921]}, {\"showlegend\": false, \"line\": {\"color\": \"red\", \"width\": 0.2215339096666821}, \"type\": \"scattergeo\", \"opacity\": 0.48577680525164113, \"mode\": \"lines\", \"lon\": [-71.3187697, -100.4458825], \"lat\": [-31.7613365, 39.7837304]}, {\"showlegend\": false, \"line\": {\"color\": \"red\", \"width\": 0.21783551384586936}, \"type\": \"scattergeo\", \"opacity\": 0.48577680525164113, \"mode\": \"lines\", \"lon\": [34.9249653, 55.84951], \"lat\": [38.9597594, 25.61552]}, {\"showlegend\": false, \"line\": {\"color\": \"red\", \"width\": 0.21524663677130046}, \"type\": \"scattergeo\", \"opacity\": 0.48577680525164113, \"mode\": \"lines\", \"lon\": [-4.003104, 55.84951], \"lat\": [40.0028028, 25.61552]}, {\"showlegend\": false, \"line\": {\"color\": \"red\", \"width\": 0.21117840136840646}, \"type\": \"scattergeo\", \"opacity\": 0.48577680525164113, \"mode\": \"lines\", \"lon\": [71.247499, -100.4458825], \"lat\": [30.3308401, 39.7837304]}, {\"showlegend\": false, \"line\": {\"color\": \"red\", \"width\": 0.2067403263834312}, \"type\": \"scattergeo\", \"opacity\": 0.48577680525164113, \"mode\": \"lines\", \"lon\": [126.9779692, 55.84951], \"lat\": [37.566535, 25.61552]}, {\"showlegend\": false, \"line\": {\"color\": \"red\", \"width\": 0.20563080763718738}, \"type\": \"scattergeo\", \"opacity\": 0.48577680525164113, \"mode\": \"lines\", \"lon\": [-73.783892, -100.4458825], \"lat\": [2.8894434, 39.7837304]}, {\"showlegend\": false, \"line\": {\"color\": \"red\", \"width\": 0.20267209098053718}, \"type\": \"scattergeo\", \"opacity\": 0.48577680525164113, \"mode\": \"lines\", \"lon\": [5.53460738161551, -100.4458825], \"lat\": [52.2379891, 39.7837304]}, {\"showlegend\": false, \"line\": {\"color\": \"red\", \"width\": 0.20230225139845592}, \"type\": \"scattergeo\", \"opacity\": 0.48577680525164113, \"mode\": \"lines\", \"lon\": [15.4749544, 55.84951], \"lat\": [49.8167003, 25.61552]}, {\"showlegend\": false, \"line\": {\"color\": \"red\", \"width\": 0.199713374323887}, \"type\": \"scattergeo\", \"opacity\": 0.48577680525164113, \"mode\": \"lines\", \"lon\": [97.7453061, -100.4458825], \"lat\": [64.6863136, 39.7837304]}, {\"showlegend\": false, \"line\": {\"color\": \"red\", \"width\": 0.19897369515972446}, \"type\": \"scattergeo\", \"opacity\": 0.48577680525164113, \"mode\": \"lines\", \"lon\": [-99.1333416, 55.84951], \"lat\": [19.4326009, 25.61552]}, {\"showlegend\": false, \"line\": {\"color\": \"red\", \"width\": 0.19601497850307428}, \"type\": \"scattergeo\", \"opacity\": 0.48577680525164113, \"mode\": \"lines\", \"lon\": [-99.1333416, -100.4458825], \"lat\": [19.4326009, 39.7837304]}, {\"showlegend\": false, \"line\": {\"color\": \"red\", \"width\": 0.19268642226434285}, \"type\": \"scattergeo\", \"opacity\": 0.48577680525164113, \"mode\": \"lines\", \"lon\": [108.4265113, -4.003104], \"lat\": [13.2904027, 40.0028028]}, {\"showlegend\": false, \"line\": {\"color\": \"red\", \"width\": 0.1878785076972863}, \"type\": \"scattergeo\", \"opacity\": 0.48577680525164113, \"mode\": \"lines\", \"lon\": [10.4234469, 0.0732], \"lat\": [51.0834196, 51.303]}, {\"showlegend\": false, \"line\": {\"color\": \"red\", \"width\": 0.16753733068281634}, \"type\": \"scattergeo\", \"opacity\": 0.48577680525164113, \"mode\": \"lines\", \"lon\": [12.674297, 12.674297], \"lat\": [42.6384261, 42.6384261]}, {\"showlegend\": false, \"line\": {\"color\": \"red\", \"width\": 0.16716749110073506}, \"type\": \"scattergeo\", \"opacity\": 0.48577680525164113, \"mode\": \"lines\", \"lon\": [108.4265113, -100.4458825], \"lat\": [13.2904027, 39.7837304]}, {\"showlegend\": false, \"line\": {\"color\": \"red\", \"width\": 0.16161989736951599}, \"type\": \"scattergeo\", \"opacity\": 0.48577680525164113, \"mode\": \"lines\", \"lon\": [120.835363138175, 55.84951], \"lat\": [23.59829785, 25.61552]}, {\"showlegend\": false, \"line\": {\"color\": \"red\", \"width\": 0.15866118071286578}, \"type\": \"scattergeo\", \"opacity\": 0.48577680525164113, \"mode\": \"lines\", \"lon\": [33.1451285, 33.1451285], \"lat\": [34.9823018, 34.9823018]}, {\"showlegend\": false, \"line\": {\"color\": \"red\", \"width\": 0.15607230363829688}, \"type\": \"scattergeo\", \"opacity\": 0.48577680525164113, \"mode\": \"lines\", \"lon\": [12.674297, -100.4458825], \"lat\": [42.6384261, 39.7837304]}, {\"showlegend\": false, \"line\": {\"color\": \"red\", \"width\": 0.15570246405621563}, \"type\": \"scattergeo\", \"opacity\": 0.48577680525164113, \"mode\": \"lines\", \"lon\": [10.4234469, 10.4234469], \"lat\": [51.0834196, 51.0834196]}, {\"showlegend\": false, \"line\": {\"color\": \"red\", \"width\": 0.15496278489205306}, \"type\": \"scattergeo\", \"opacity\": 0.48577680525164113, \"mode\": \"lines\", \"lon\": [-64.7603583, 55.84951], \"lat\": [32.3018217, 25.61552]}, {\"showlegend\": false, \"line\": {\"color\": \"red\", \"width\": 0.153483426563728}, \"type\": \"scattergeo\", \"opacity\": 0.48577680525164113, \"mode\": \"lines\", \"lon\": [15.4749544, -100.4458825], \"lat\": [49.8167003, 39.7837304]}, {\"showlegend\": false, \"line\": {\"color\": \"red\", \"width\": 0.1531135869816467}, \"type\": \"scattergeo\", \"opacity\": 0.48577680525164113, \"mode\": \"lines\", \"lon\": [114.1849161, 55.84951], \"lat\": [22.350627, 25.61552]}, {\"showlegend\": false, \"line\": {\"color\": \"red\", \"width\": 0.14830567241459017}, \"type\": \"scattergeo\", \"opacity\": 0.48577680525164113, \"mode\": \"lines\", \"lon\": [44.78151767883003, 55.84951], \"lat\": [40.18658704808404, 25.61552]}, {\"showlegend\": false, \"line\": {\"color\": \"red\", \"width\": 0.14719615366834635}, \"type\": \"scattergeo\", \"opacity\": 0.48577680525164113, \"mode\": \"lines\", \"lon\": [122.7312101, 55.84951], \"lat\": [12.7503486, 25.61552]}, {\"showlegend\": false, \"line\": {\"color\": \"red\", \"width\": 0.14423743701169617}, \"type\": \"scattergeo\", \"opacity\": 0.48577680525164113, \"mode\": \"lines\", \"lon\": [0.0732, -4.003104], \"lat\": [51.303, 40.0028028]}, {\"showlegend\": false, \"line\": {\"color\": \"red\", \"width\": 0.14090888077296473}, \"type\": \"scattergeo\", \"opacity\": 0.48577680525164113, \"mode\": \"lines\", \"lon\": [103.8499736, -100.4458825], \"lat\": [46.8250388, 39.7837304]}, {\"showlegend\": false, \"line\": {\"color\": \"red\", \"width\": 0.1305533724746891}, \"type\": \"scattergeo\", \"opacity\": 0.48577680525164113, \"mode\": \"lines\", \"lon\": [5.53460738161551, 42.2363448], \"lat\": [52.2379891, 17.7269134]}, {\"showlegend\": false, \"line\": {\"color\": \"red\", \"width\": 0.12093754334057602}, \"type\": \"scattergeo\", \"opacity\": 0.48577680525164113, \"mode\": \"lines\", \"lon\": [-107.9917071, -100.4458825], \"lat\": [61.0666922, 39.7837304]}, {\"showlegend\": false, \"line\": {\"color\": \"red\", \"width\": 0.12056770375849474}, \"type\": \"scattergeo\", \"opacity\": 0.48577680525164113, \"mode\": \"lines\", \"lon\": [35.0015196, 55.84951], \"lat\": [30.8760272, 25.61552]}, {\"showlegend\": false, \"line\": {\"color\": \"red\", \"width\": 0.11206139337062548}, \"type\": \"scattergeo\", \"opacity\": 0.48577680525164113, \"mode\": \"lines\", \"lon\": [-7.9794599, 100.83273], \"lat\": [52.865196, 14.8971921]}, {\"showlegend\": false, \"line\": {\"color\": \"red\", \"width\": 0.11058203504230041}, \"type\": \"scattergeo\", \"opacity\": 0.48577680525164113, \"mode\": \"lines\", \"lon\": [116.407395, 34.9249653], \"lat\": [39.904211, 38.9597594]}, {\"showlegend\": false, \"line\": {\"color\": \"red\", \"width\": 0.1079931579677315}, \"type\": \"scattergeo\", \"opacity\": 0.48577680525164113, \"mode\": \"lines\", \"lon\": [139.2394179, 55.84951], \"lat\": [36.5748441, 25.61552]}, {\"showlegend\": false, \"line\": {\"color\": \"red\", \"width\": 0.10762331838565023}, \"type\": \"scattergeo\", \"opacity\": 0.48577680525164113, \"mode\": \"lines\", \"lon\": [29.2675469, -100.4458825], \"lat\": [26.2540493, 39.7837304]}, {\"showlegend\": false, \"line\": {\"color\": \"red\", \"width\": 0.10540428089316259}, \"type\": \"scattergeo\", \"opacity\": 0.48577680525164113, \"mode\": \"lines\", \"lon\": [172.8344077, -100.4458825], \"lat\": [-41.5000831, 39.7837304]}, {\"showlegend\": false, \"line\": {\"color\": \"red\", \"width\": 0.10466460172900005}, \"type\": \"scattergeo\", \"opacity\": 0.48577680525164113, \"mode\": \"lines\", \"lon\": [108.4265113, 55.84951], \"lat\": [13.2904027, 25.61552]}, {\"showlegend\": false, \"line\": {\"color\": \"red\", \"width\": 0.10392492256483751}, \"type\": \"scattergeo\", \"opacity\": 0.48577680525164113, \"mode\": \"lines\", \"lon\": [-7.8896263, -100.4458825], \"lat\": [40.033265, 39.7837304]}, {\"showlegend\": false, \"line\": {\"color\": \"red\", \"width\": 0.10318524340067496}, \"type\": \"scattergeo\", \"opacity\": 0.48577680525164113, \"mode\": \"lines\", \"lon\": [-100.4458825, -7.9794599], \"lat\": [39.7837304, 52.865196]}, {\"showlegend\": false, \"line\": {\"color\": \"red\", \"width\": 0.10133604549026859}, \"type\": \"scattergeo\", \"opacity\": 0.48577680525164113, \"mode\": \"lines\", \"lon\": [8.2319736, -4.003104], \"lat\": [46.7985624, 40.0028028]}, {\"showlegend\": false, \"line\": {\"color\": \"red\", \"width\": 0.10096620590818733}, \"type\": \"scattergeo\", \"opacity\": 0.48577680525164113, \"mode\": \"lines\", \"lon\": [120.835363138175, -100.4458825], \"lat\": [23.59829785, 39.7837304]}, {\"showlegend\": false, \"line\": {\"color\": \"red\", \"width\": 0.10096620590818733}, \"type\": \"scattergeo\", \"opacity\": 0.48577680525164113, \"mode\": \"lines\", \"lon\": [100.83273, 55.84951], \"lat\": [14.8971921, 25.61552]}, {\"showlegend\": false, \"line\": {\"color\": \"red\", \"width\": 0.10096620590818733}, \"type\": \"scattergeo\", \"opacity\": 0.48577680525164113, \"mode\": \"lines\", \"lon\": [126.9779692, -4.003104], \"lat\": [37.566535, 40.0028028]}, {\"showlegend\": false, \"line\": {\"color\": \"red\", \"width\": 0.09911700799778098}, \"type\": \"scattergeo\", \"opacity\": 0.48577680525164113, \"mode\": \"lines\", \"lon\": [114.5632032, 55.84951], \"lat\": [-4.7993356, 25.61552]}, {\"showlegend\": false, \"line\": {\"color\": \"red\", \"width\": 0.09911700799778098}, \"type\": \"scattergeo\", \"opacity\": 0.48577680525164113, \"mode\": \"lines\", \"lon\": [114.5632032, -100.4458825], \"lat\": [-4.7993356, 39.7837304]}, {\"showlegend\": false, \"line\": {\"color\": \"red\", \"width\": 0.0987471684156997}, \"type\": \"scattergeo\", \"opacity\": 0.48577680525164113, \"mode\": \"lines\", \"lon\": [1.8883335, -100.4458825], \"lat\": [46.603354, 39.7837304]}, {\"showlegend\": false, \"line\": {\"color\": \"red\", \"width\": 0.09837732883361842}, \"type\": \"scattergeo\", \"opacity\": 0.48577680525164113, \"mode\": \"lines\", \"lon\": [-107.9917071, 55.84951], \"lat\": [61.0666922, 25.61552]}, {\"showlegend\": false, \"line\": {\"color\": \"red\", \"width\": 0.09763764966945587}, \"type\": \"scattergeo\", \"opacity\": 0.48577680525164113, \"mode\": \"lines\", \"lon\": [12.674297, 55.84951], \"lat\": [42.6384261, 25.61552]}, {\"showlegend\": false, \"line\": {\"color\": \"red\", \"width\": 0.09541861217696825}, \"type\": \"scattergeo\", \"opacity\": 0.48577680525164113, \"mode\": \"lines\", \"lon\": [8.2319736, 1.8883335], \"lat\": [46.7985624, 46.603354]}, {\"showlegend\": false, \"line\": {\"color\": \"red\", \"width\": 0.09504877259488696}, \"type\": \"scattergeo\", \"opacity\": 0.48577680525164113, \"mode\": \"lines\", \"lon\": [100.83273, -7.8896263], \"lat\": [14.8971921, 40.033265]}, {\"showlegend\": false, \"line\": {\"color\": \"red\", \"width\": 0.09098053719199298}, \"type\": \"scattergeo\", \"opacity\": 0.48577680525164113, \"mode\": \"lines\", \"lon\": [-100.4458825, 1.8883335], \"lat\": [39.7837304, 46.603354]}, {\"showlegend\": false, \"line\": {\"color\": \"red\", \"width\": 0.09024085802783043}, \"type\": \"scattergeo\", \"opacity\": 0.48577680525164113, \"mode\": \"lines\", \"lon\": [-7.9794599, 55.84951], \"lat\": [52.865196, 25.61552]}, {\"showlegend\": false, \"line\": {\"color\": \"red\", \"width\": 0.08617262262493644}, \"type\": \"scattergeo\", \"opacity\": 0.48577680525164113, \"mode\": \"lines\", \"lon\": [-53.2, 55.84951], \"lat\": [-10.3333333, 25.61552]}, {\"showlegend\": false, \"line\": {\"color\": \"red\", \"width\": 0.08506310387869262}, \"type\": \"scattergeo\", \"opacity\": 0.48577680525164113, \"mode\": \"lines\", \"lon\": [-100.4458825, 122.7312101], \"lat\": [39.7837304, 12.7503486]}, {\"showlegend\": false, \"line\": {\"color\": \"red\", \"width\": 0.07766631223706717}, \"type\": \"scattergeo\", \"opacity\": 0.48577680525164113, \"mode\": \"lines\", \"lon\": [71.247499, 55.84951], \"lat\": [30.3308401, 25.61552]}, {\"showlegend\": false, \"line\": {\"color\": \"red\", \"width\": 0.07618695390874208}, \"type\": \"scattergeo\", \"opacity\": 0.48577680525164113, \"mode\": \"lines\", \"lon\": [116.407395, 97.7453061], \"lat\": [39.904211, 64.6863136]}, {\"showlegend\": false, \"line\": {\"color\": \"red\", \"width\": 0.07248855808792935}, \"type\": \"scattergeo\", \"opacity\": 0.48577680525164113, \"mode\": \"lines\", \"lon\": [116.407395, 114.1849161], \"lat\": [39.904211, 22.350627]}, {\"showlegend\": false, \"line\": {\"color\": \"red\", \"width\": 0.07063936017752301}, \"type\": \"scattergeo\", \"opacity\": 0.48577680525164113, \"mode\": \"lines\", \"lon\": [-100.4458825, 4.66696], \"lat\": [39.7837304, 50.6407351]}, {\"showlegend\": false, \"line\": {\"color\": \"red\", \"width\": 0.06102353104340992}, \"type\": \"scattergeo\", \"opacity\": 0.48577680525164113, \"mode\": \"lines\", \"lon\": [25.4856617, -100.4458825], \"lat\": [42.6073975, 39.7837304]}, {\"showlegend\": false, \"line\": {\"color\": \"red\", \"width\": 0.05954417271508483}, \"type\": \"scattergeo\", \"opacity\": 0.48577680525164113, \"mode\": \"lines\", \"lon\": [78.6677428, 103.8520359], \"lat\": [22.3511148, 1.2904753]}, {\"showlegend\": false, \"line\": {\"color\": \"red\", \"width\": 0.05917433313300356}, \"type\": \"scattergeo\", \"opacity\": 0.48577680525164113, \"mode\": \"lines\", \"lon\": [-100.4458825, 10.4234469], \"lat\": [39.7837304, 51.0834196]}, {\"showlegend\": false, \"line\": {\"color\": \"red\", \"width\": 0.058804493550922286}, \"type\": \"scattergeo\", \"opacity\": 0.48577680525164113, \"mode\": \"lines\", \"lon\": [-100.4458825, 134.755], \"lat\": [39.7837304, -24.7761086]}, {\"showlegend\": false, \"line\": {\"color\": \"red\", \"width\": 0.05843465396884102}, \"type\": \"scattergeo\", \"opacity\": 0.48577680525164113, \"mode\": \"lines\", \"lon\": [139.2394179, 4.66696], \"lat\": [36.5748441, 50.6407351]}, {\"showlegend\": false, \"line\": {\"color\": \"red\", \"width\": 0.05695529564051592}, \"type\": \"scattergeo\", \"opacity\": 0.48577680525164113, \"mode\": \"lines\", \"lon\": [78.6677428, 12.674297], \"lat\": [22.3511148, 42.6384261]}, {\"showlegend\": false, \"line\": {\"color\": \"red\", \"width\": 0.05621561647635338}, \"type\": \"scattergeo\", \"opacity\": 0.48577680525164113, \"mode\": \"lines\", \"lon\": [19.0258159, 33.1451285], \"lat\": [52.0977181, 34.9823018]}, {\"showlegend\": false, \"line\": {\"color\": \"red\", \"width\": 0.05584577689427211}, \"type\": \"scattergeo\", \"opacity\": 0.48577680525164113, \"mode\": \"lines\", \"lon\": [-100.4458825, 24.6859225], \"lat\": [39.7837304, 45.9852129]}, {\"showlegend\": false, \"line\": {\"color\": \"red\", \"width\": 0.05584577689427211}, \"type\": \"scattergeo\", \"opacity\": 0.48577680525164113, \"mode\": \"lines\", \"lon\": [5.53460738161551, -7.9794599], \"lat\": [52.2379891, 52.865196]}, {\"showlegend\": false, \"line\": {\"color\": \"red\", \"width\": 0.05547593731219083}, \"type\": \"scattergeo\", \"opacity\": 0.48577680525164113, \"mode\": \"lines\", \"lon\": [0.0732, 0.0732], \"lat\": [51.303, 51.303]}, {\"showlegend\": false, \"line\": {\"color\": \"red\", \"width\": 0.054736258148028294}, \"type\": \"scattergeo\", \"opacity\": 0.48577680525164113, \"mode\": \"lines\", \"lon\": [-100.4458825, 97.7453061], \"lat\": [39.7837304, 64.6863136]}, {\"showlegend\": false, \"line\": {\"color\": \"red\", \"width\": 0.054366418565947025}, \"type\": \"scattergeo\", \"opacity\": 0.48577680525164113, \"mode\": \"lines\", \"lon\": [-100.4458825, 11.5280364395482], \"lat\": [39.7837304, 64.5731537]}, {\"showlegend\": false, \"line\": {\"color\": \"red\", \"width\": 0.05399657898386575}, \"type\": \"scattergeo\", \"opacity\": 0.48577680525164113, \"mode\": \"lines\", \"lon\": [-100.4458825, 0.547714867236488], \"lat\": [39.7837304, 51.38660965]}, {\"showlegend\": false, \"line\": {\"color\": \"red\", \"width\": 0.05399657898386575}, \"type\": \"scattergeo\", \"opacity\": 0.48577680525164113, \"mode\": \"lines\", \"lon\": [139.2394179, -107.9917071], \"lat\": [36.5748441, 61.0666922]}, {\"showlegend\": false, \"line\": {\"color\": \"red\", \"width\": 0.05362673940178447}, \"type\": \"scattergeo\", \"opacity\": 0.48577680525164113, \"mode\": \"lines\", \"lon\": [120.835363138175, 134.755], \"lat\": [23.59829785, -24.7761086]}, {\"showlegend\": false, \"line\": {\"color\": \"red\", \"width\": 0.053256899819703205}, \"type\": \"scattergeo\", \"opacity\": 0.48577680525164113, \"mode\": \"lines\", \"lon\": [-66.1109318, 122.7312101], \"lat\": [8.0018709, 12.7503486]}, {\"showlegend\": false, \"line\": {\"color\": \"red\", \"width\": 0.053256899819703205}, \"type\": \"scattergeo\", \"opacity\": 0.48577680525164113, \"mode\": \"lines\", \"lon\": [90.2932426, 33.1451285], \"lat\": [24.4768783, 34.9823018]}, {\"showlegend\": false, \"line\": {\"color\": \"red\", \"width\": 0.053256899819703205}, \"type\": \"scattergeo\", \"opacity\": 0.48577680525164113, \"mode\": \"lines\", \"lon\": [10.4234469, 19.0258159], \"lat\": [51.0834196, 52.0977181]}, {\"showlegend\": false, \"line\": {\"color\": \"red\", \"width\": 0.052887060237621936}, \"type\": \"scattergeo\", \"opacity\": 0.48577680525164113, \"mode\": \"lines\", \"lon\": [116.407395, -107.9917071], \"lat\": [39.904211, 61.0666922]}, {\"showlegend\": false, \"line\": {\"color\": \"red\", \"width\": 0.052887060237621936}, \"type\": \"scattergeo\", \"opacity\": 0.48577680525164113, \"mode\": \"lines\", \"lon\": [-7.8896263, -7.8896263], \"lat\": [40.033265, 40.033265]}, {\"showlegend\": false, \"line\": {\"color\": \"red\", \"width\": 0.05251722065554066}, \"type\": \"scattergeo\", \"opacity\": 0.48577680525164113, \"mode\": \"lines\", \"lon\": [1.8883335, 12.674297], \"lat\": [46.603354, 42.6384261]}, {\"showlegend\": false, \"line\": {\"color\": \"red\", \"width\": 0.05251722065554066}, \"type\": \"scattergeo\", \"opacity\": 0.48577680525164113, \"mode\": \"lines\", \"lon\": [-73.783892, 97.7453061], \"lat\": [2.8894434, 64.6863136]}, {\"showlegend\": false, \"line\": {\"color\": \"red\", \"width\": 0.05251722065554066}, \"type\": \"scattergeo\", \"opacity\": 0.48577680525164113, \"mode\": \"lines\", \"lon\": [139.2394179, 42.2363448], \"lat\": [36.5748441, 17.7269134]}, {\"showlegend\": false, \"line\": {\"color\": \"red\", \"width\": 0.051777541491378115}, \"type\": \"scattergeo\", \"opacity\": 0.48577680525164113, \"mode\": \"lines\", \"lon\": [8.2319736, 24.6859225], \"lat\": [46.7985624, 45.9852129]}, {\"showlegend\": false, \"line\": {\"color\": \"red\", \"width\": 0.051407701909296846}, \"type\": \"scattergeo\", \"opacity\": 0.48577680525164113, \"mode\": \"lines\", \"lon\": [24.6859225, -7.9794599], \"lat\": [45.9852129, 52.865196]}, {\"showlegend\": false, \"line\": {\"color\": \"red\", \"width\": 0.051407701909296846}, \"type\": \"scattergeo\", \"opacity\": 0.48577680525164113, \"mode\": \"lines\", \"lon\": [31.2718321, 55.84951], \"lat\": [49.4871968, 25.61552]}, {\"showlegend\": false, \"line\": {\"color\": \"red\", \"width\": 0.051407701909296846}, \"type\": \"scattergeo\", \"opacity\": 0.48577680525164113, \"mode\": \"lines\", \"lon\": [78.6677428, 55.84951], \"lat\": [22.3511148, 25.61552]}, {\"showlegend\": false, \"line\": {\"color\": \"red\", \"width\": 0.051407701909296846}, \"type\": \"scattergeo\", \"opacity\": 0.48577680525164113, \"mode\": \"lines\", \"lon\": [134.755, -100.4458825], \"lat\": [-24.7761086, 39.7837304]}, {\"showlegend\": false, \"line\": {\"color\": \"red\", \"width\": 0.05103786232721557}, \"type\": \"scattergeo\", \"opacity\": 0.48577680525164113, \"mode\": \"lines\", \"lon\": [0.0732, -100.4458825], \"lat\": [51.303, 39.7837304]}, {\"showlegend\": false, \"line\": {\"color\": \"red\", \"width\": 0.050668022745134295}, \"type\": \"scattergeo\", \"opacity\": 0.48577680525164113, \"mode\": \"lines\", \"lon\": [-4.003104, 116.407395], \"lat\": [40.0028028, 39.904211]}, {\"showlegend\": false, \"line\": {\"color\": \"red\", \"width\": 0.050298183163053026}, \"type\": \"scattergeo\", \"opacity\": 0.48577680525164113, \"mode\": \"lines\", \"lon\": [28.5110236, 11.5280364395482], \"lat\": [47.286747, 64.5731537]}, {\"showlegend\": false, \"line\": {\"color\": \"red\", \"width\": 0.04992834358097175}, \"type\": \"scattergeo\", \"opacity\": 0.48577680525164113, \"mode\": \"lines\", \"lon\": [-99.1333416, -99.1333416], \"lat\": [19.4326009, 19.4326009]}, {\"showlegend\": false, \"line\": {\"color\": \"red\", \"width\": 0.04992834358097175}, \"type\": \"scattergeo\", \"opacity\": 0.48577680525164113, \"mode\": \"lines\", \"lon\": [44.78151767883003, -100.4458825], \"lat\": [40.18658704808404, 39.7837304]}, {\"showlegend\": false, \"line\": {\"color\": \"red\", \"width\": 0.048818824834727936}, \"type\": \"scattergeo\", \"opacity\": 0.48577680525164113, \"mode\": \"lines\", \"lon\": [8.2319736, 34.9249653], \"lat\": [46.7985624, 38.9597594]}, {\"showlegend\": false, \"line\": {\"color\": \"red\", \"width\": 0.048818824834727936}, \"type\": \"scattergeo\", \"opacity\": 0.48577680525164113, \"mode\": \"lines\", \"lon\": [55.84951, 0.0732], \"lat\": [25.61552, 51.303]}, {\"showlegend\": false, \"line\": {\"color\": \"red\", \"width\": 0.04622994776015903}, \"type\": \"scattergeo\", \"opacity\": 0.48577680525164113, \"mode\": \"lines\", \"lon\": [116.407395, 1.8883335], \"lat\": [39.904211, 46.603354]}, {\"showlegend\": false, \"line\": {\"color\": \"red\", \"width\": 0.0440109102676714}, \"type\": \"scattergeo\", \"opacity\": 0.48577680525164113, \"mode\": \"lines\", \"lon\": [78.6677428, 1.8883335], \"lat\": [22.3511148, 46.603354]}, {\"showlegend\": false, \"line\": {\"color\": \"red\", \"width\": 0.04327123110350885}, \"type\": \"scattergeo\", \"opacity\": 0.48577680525164113, \"mode\": \"lines\", \"lon\": [31.2718321, 13.199959], \"lat\": [49.4871968, 47.2000338]}, {\"showlegend\": false, \"line\": {\"color\": \"red\", \"width\": 0.041791872775183765}, \"type\": \"scattergeo\", \"opacity\": 0.48577680525164113, \"mode\": \"lines\", \"lon\": [-100.4458825, 114.1849161], \"lat\": [39.7837304, 22.350627]}, {\"showlegend\": false, \"line\": {\"color\": \"red\", \"width\": 0.0399426748647774}, \"type\": \"scattergeo\", \"opacity\": 0.48577680525164113, \"mode\": \"lines\", \"lon\": [5.53460738161551, 12.674297], \"lat\": [52.2379891, 42.6384261]}, {\"showlegend\": false, \"line\": {\"color\": \"red\", \"width\": 0.0373537977902085}, \"type\": \"scattergeo\", \"opacity\": 0.48577680525164113, \"mode\": \"lines\", \"lon\": [42.2363448, 55.84951], \"lat\": [17.7269134, 25.61552]}, {\"showlegend\": false, \"line\": {\"color\": \"red\", \"width\": 0.03587443946188341}, \"type\": \"scattergeo\", \"opacity\": 0.48577680525164113, \"mode\": \"lines\", \"lon\": [114.1849161, -100.4458825], \"lat\": [22.350627, 39.7837304]}, {\"showlegend\": false, \"line\": {\"color\": \"red\", \"width\": 0.03513476029772086}, \"type\": \"scattergeo\", \"opacity\": 0.48577680525164113, \"mode\": \"lines\", \"lon\": [19.0258159, -100.4458825], \"lat\": [52.0977181, 39.7837304]}, {\"showlegend\": false, \"line\": {\"color\": \"red\", \"width\": 0.03291572280523323}, \"type\": \"scattergeo\", \"opacity\": 0.48577680525164113, \"mode\": \"lines\", \"lon\": [14.4808369, -7.9794599], \"lat\": [45.8133113, 52.865196]}, {\"showlegend\": false, \"line\": {\"color\": \"red\", \"width\": 0.03291572280523323}, \"type\": \"scattergeo\", \"opacity\": 0.48577680525164113, \"mode\": \"lines\", \"lon\": [-64.9912286, -100.4458825], \"lat\": [-17.0568696, 39.7837304]}, {\"showlegend\": false, \"line\": {\"color\": \"red\", \"width\": 0.032176043641070684}, \"type\": \"scattergeo\", \"opacity\": 0.48577680525164113, \"mode\": \"lines\", \"lon\": [78.6677428, -7.8896263], \"lat\": [22.3511148, 40.033265]}, {\"showlegend\": false, \"line\": {\"color\": \"red\", \"width\": 0.030696685312745598}, \"type\": \"scattergeo\", \"opacity\": 0.48577680525164113, \"mode\": \"lines\", \"lon\": [34.9249653, 103.8520359], \"lat\": [38.9597594, 1.2904753]}, {\"showlegend\": false, \"line\": {\"color\": \"red\", \"width\": 0.026628449909851602}, \"type\": \"scattergeo\", \"opacity\": 0.48577680525164113, \"mode\": \"lines\", \"lon\": [122.7312101, 122.7312101], \"lat\": [12.7503486, 12.7503486]}, {\"showlegend\": true, \"type\": \"scattergeo\", \"hoverinfo\": \"text\", \"name\": \"Flux intra pays\", \"mode\": \"markers\", \"lon\": [-100.4458825, 1.8883335, 42.2363448, 114.1849161, 97.7453061, 12.674297, 33.1451285, 10.4234469, 0.0732, -7.8896263, -99.1333416, 122.7312101], \"lat\": [39.7837304, 46.603354, 17.7269134, 22.350627, 64.6863136, 42.6384261, 34.9823018, 51.0834196, 51.303, 40.033265, 19.4326009, 12.7503486], \"marker\": {\"color\": \"rgb(33,113,181)\", \"size\": [34.083306365863805, 0.40423466321483054, 0.37131894040959734, 0.30844621145578105, 0.25814802829272804, 0.16753733068281634, 0.15866118071286578, 0.15570246405621563, 0.05547593731219083, 0.052887060237621936, 0.04992834358097175, 0.026628449909851602], \"line\": {\"width\": 0}}, \"legendgroup\": \"group2\", \"text\": [\"united states\", \"france\", \"saudi arabia\", \"hong kong\", \"russia\", \"italy\", \"cyprus\", \"germany\", \"united kingdom\", \"portugal\", \"mexico\", \"philippines\"]}, {\"showlegend\": true, \"type\": \"scattergeo\", \"hoverinfo\": \"text\", \"name\": \"Flux inter pays\", \"mode\": \"markers\", \"lon\": [-100.4458825, 116.407395, 116.407395, 31.2718321, 5.53460738161551, 116.407395, -100.4458825, 78.6677428, 126.9779692, 116.407395, 34.9249653, 8.2319736, 116.407395, -73.783892, 116.407395, 5.53460738161551, 24.6859225, -4.003104, -64.9672817, 19.0258159, 71.247499, -100.4458825, 1.8883335, 42.2363448, 139.2394179, 108.4265113, 116.407395, 10.4234469, -53.2, 114.1849161, 4.66696, 28.5110236, 1.8883335, 8.2319736, 122.7312101, 97.7453061, 116.407395, -71.3187697, 34.9249653, -4.003104, 71.247499, 126.9779692, -73.783892, 5.53460738161551, 15.4749544, 97.7453061, -99.1333416, -99.1333416, 108.4265113, 10.4234469, 12.674297, 108.4265113, 120.835363138175, 33.1451285, 12.674297, 10.4234469, -64.7603583, 15.4749544, 114.1849161, 44.78151767883003, 122.7312101, 0.0732, 103.8499736, 5.53460738161551, -107.9917071, 35.0015196, -7.9794599, 116.407395, 139.2394179, 29.2675469, 172.8344077, 108.4265113, -7.8896263, -100.4458825, 8.2319736, 120.835363138175, 100.83273, 126.9779692, 114.5632032, 114.5632032, 1.8883335, -107.9917071, 12.674297, 8.2319736, 100.83273, -100.4458825, -7.9794599, -53.2, -100.4458825, 71.247499, 116.407395, 116.407395, -100.4458825, 25.4856617, 78.6677428, -100.4458825, -100.4458825, 139.2394179, 78.6677428, 19.0258159, -100.4458825, 5.53460738161551, 0.0732, -100.4458825, -100.4458825, -100.4458825, 139.2394179, 120.835363138175, -66.1109318, 90.2932426, 10.4234469, 116.407395, -7.8896263, 1.8883335, -73.783892, 139.2394179, 8.2319736, 24.6859225, 31.2718321, 78.6677428, 134.755, 0.0732, -4.003104, 28.5110236, -99.1333416, 44.78151767883003, 8.2319736, 55.84951, 116.407395, 78.6677428, 31.2718321, -100.4458825, 5.53460738161551, 42.2363448, 114.1849161, 19.0258159, 14.4808369, -64.9912286, 78.6677428, 34.9249653, 122.7312101], \"lat\": [39.7837304, 39.904211, 39.904211, 49.4871968, 52.2379891, 39.904211, 39.7837304, 22.3511148, 37.566535, 39.904211, 38.9597594, 46.7985624, 39.904211, 2.8894434, 39.904211, 52.2379891, 45.9852129, 40.0028028, -34.9964963, 52.0977181, 30.3308401, 39.7837304, 46.603354, 17.7269134, 36.5748441, 13.2904027, 39.904211, 51.0834196, -10.3333333, 22.350627, 50.6407351, 47.286747, 46.603354, 46.7985624, 12.7503486, 64.6863136, 39.904211, -31.7613365, 38.9597594, 40.0028028, 30.3308401, 37.566535, 2.8894434, 52.2379891, 49.8167003, 64.6863136, 19.4326009, 19.4326009, 13.2904027, 51.0834196, 42.6384261, 13.2904027, 23.59829785, 34.9823018, 42.6384261, 51.0834196, 32.3018217, 49.8167003, 22.350627, 40.18658704808404, 12.7503486, 51.303, 46.8250388, 52.2379891, 61.0666922, 30.8760272, 52.865196, 39.904211, 36.5748441, 26.2540493, -41.5000831, 13.2904027, 40.033265, 39.7837304, 46.7985624, 23.59829785, 14.8971921, 37.566535, -4.7993356, -4.7993356, 46.603354, 61.0666922, 42.6384261, 46.7985624, 14.8971921, 39.7837304, 52.865196, -10.3333333, 39.7837304, 30.3308401, 39.904211, 39.904211, 39.7837304, 42.6073975, 22.3511148, 39.7837304, 39.7837304, 36.5748441, 22.3511148, 52.0977181, 39.7837304, 52.2379891, 51.303, 39.7837304, 39.7837304, 39.7837304, 36.5748441, 23.59829785, 8.0018709, 24.4768783, 51.0834196, 39.904211, 40.033265, 46.603354, 2.8894434, 36.5748441, 46.7985624, 45.9852129, 49.4871968, 22.3511148, -24.7761086, 51.303, 40.0028028, 47.286747, 19.4326009, 40.18658704808404, 46.7985624, 25.61552, 39.904211, 22.3511148, 49.4871968, 39.7837304, 52.2379891, 17.7269134, 22.350627, 52.0977181, 45.8133113, -17.0568696, 22.3511148, 38.9597594, 12.7503486], \"marker\": {\"color\": \"rgb(255, 0, 0)\", \"size\": 2, \"line\": {\"width\": 1, \"color\": \"rgba(68, 68, 68, 0)\"}}, \"legendgroup\": \"group1\", \"text\": [\"united states\", \"china\", \"china\", \"ukraine\", \"netherlands\", \"china\", \"united states\", \"india\", \"south korea\", \"china\", \"turkey\", \"swiss\", \"china\", \"colombia\", \"china\", \"netherlands\", \"roumania\", \"spain\", \"argentina\", \"poland\", \"pakistan\", \"united states\", \"france\", \"saudi arabia\", \"japan\", \"vietnam\", \"china\", \"germany\", \"brazil\", \"hong kong\", \"belgium\", \"moldova\", \"france\", \"swiss\", \"philippines\", \"russia\", \"china\", \"chile\", \"turkey\", \"spain\", \"pakistan\", \"south korea\", \"colombia\", \"netherlands\", \"czech republic\", \"russia\", \"mexico\", \"mexico\", \"vietnam\", \"germany\", \"italy\", \"vietnam\", \"taiwan\", \"cyprus\", \"italy\", \"germany\", \"bermuda\", \"czech republic\", \"hong kong\", \"armenia\", \"philippines\", \"united kingdom\", \"mongolia\", \"netherlands\", \"canada\", \"israel\", \"ireland\", \"china\", \"japan\", \"egypt\", \"new zealand\", \"vietnam\", \"portugal\", \"united states\", \"swiss\", \"taiwan\", \"thailand\", \"south korea\", \"indonesia\", \"indonesia\", \"france\", \"canada\", \"italy\", \"swiss\", \"thailand\", \"united states\", \"ireland\", \"brazil\", \"united states\", \"pakistan\", \"china\", \"china\", \"united states\", \"bulgaria\", \"india\", \"united states\", \"united states\", \"japan\", \"india\", \"poland\", \"united states\", \"netherlands\", \"united kingdom\", \"united states\", \"united states\", \"united states\", \"japan\", \"taiwan\", \"venezuela\", \"bangladesh\", \"germany\", \"china\", \"portugal\", \"france\", \"colombia\", \"japan\", \"swiss\", \"roumania\", \"ukraine\", \"india\", \"australia\", \"united kingdom\", \"spain\", \"moldova\", \"mexico\", \"armenia\", \"swiss\", \"united arab emirates\", \"china\", \"india\", \"ukraine\", \"united states\", \"netherlands\", \"saudi arabia\", \"hong kong\", \"poland\", \"slovenia\", \"bolivia\", \"india\", \"turkey\", \"philippines\"]}], {\"geo\": {\"landcolor\": \"rgb(243, 243, 243)\", \"showcountries\": true, \"showland\": true, \"projection\": {\"type\": \"orthographic\"}, \"countrycolor\": \"rgb(204, 204, 204)\", \"scope\": \"world\"}, \"title\": \"Flux des cyberattaques mondiale en mars 2018 <br> source : <a href=\\\"http://www.norse-corp.com/about-us/who-we-are/\\\">Norse </a>\"}, {\"linkText\": \"Export to plot.ly\", \"showLink\": true})});</script>"
      ],
      "text/vnd.plotly.v1+html": [
       "<div id=\"6cc5d49c-519b-421f-9927-af4782e886bd\" style=\"height: 525px; width: 100%;\" class=\"plotly-graph-div\"></div><script type=\"text/javascript\">require([\"plotly\"], function(Plotly) { window.PLOTLYENV=window.PLOTLYENV || {};window.PLOTLYENV.BASE_URL=\"https://plot.ly\";Plotly.newPlot(\"6cc5d49c-519b-421f-9927-af4782e886bd\", [{\"showlegend\": false, \"line\": {\"color\": \"red\", \"width\": 34.083306365863805}, \"type\": \"scattergeo\", \"opacity\": 0.48577680525164113, \"mode\": \"lines\", \"lon\": [-100.4458825, -100.4458825], \"lat\": [39.7837304, 39.7837304]}, {\"showlegend\": false, \"line\": {\"color\": \"red\", \"width\": 9.940178447598354}, \"type\": \"scattergeo\", \"opacity\": 0.48577680525164113, \"mode\": \"lines\", \"lon\": [116.407395, 55.84951], \"lat\": [39.904211, 25.61552]}, {\"showlegend\": false, \"line\": {\"color\": \"red\", \"width\": 4.829735102399334}, \"type\": \"scattergeo\", \"opacity\": 0.48577680525164113, \"mode\": \"lines\", \"lon\": [116.407395, -100.4458825], \"lat\": [39.904211, 39.7837304]}, {\"showlegend\": false, \"line\": {\"color\": \"red\", \"width\": 2.375849475290093}, \"type\": \"scattergeo\", \"opacity\": 0.48577680525164113, \"mode\": \"lines\", \"lon\": [31.2718321, -100.4458825], \"lat\": [49.4871968, 39.7837304]}, {\"showlegend\": false, \"line\": {\"color\": \"red\", \"width\": 1.9239055059867782}, \"type\": \"scattergeo\", \"opacity\": 0.48577680525164113, \"mode\": \"lines\", \"lon\": [5.53460738161551, 55.84951], \"lat\": [52.2379891, 25.61552]}, {\"showlegend\": false, \"line\": {\"color\": \"red\", \"width\": 1.7608062502889372}, \"type\": \"scattergeo\", \"opacity\": 0.48577680525164113, \"mode\": \"lines\", \"lon\": [116.407395, -4.003104], \"lat\": [39.904211, 40.0028028]}, {\"showlegend\": false, \"line\": {\"color\": \"red\", \"width\": 1.0185382090518238}, \"type\": \"scattergeo\", \"opacity\": 0.48577680525164113, \"mode\": \"lines\", \"lon\": [-100.4458825, 55.84951], \"lat\": [39.7837304, 25.61552]}, {\"showlegend\": false, \"line\": {\"color\": \"red\", \"width\": 0.9331052655910499}, \"type\": \"scattergeo\", \"opacity\": 0.48577680525164113, \"mode\": \"lines\", \"lon\": [78.6677428, -100.4458825], \"lat\": [22.3511148, 39.7837304]}, {\"showlegend\": false, \"line\": {\"color\": \"red\", \"width\": 0.9253386343673432}, \"type\": \"scattergeo\", \"opacity\": 0.48577680525164113, \"mode\": \"lines\", \"lon\": [126.9779692, -100.4458825], \"lat\": [37.566535, 39.7837304]}, {\"showlegend\": false, \"line\": {\"color\": \"red\", \"width\": 0.9090656927557672}, \"type\": \"scattergeo\", \"opacity\": 0.48577680525164113, \"mode\": \"lines\", \"lon\": [116.407395, 103.8520359], \"lat\": [39.904211, 1.2904753]}, {\"showlegend\": false, \"line\": {\"color\": \"red\", \"width\": 0.7104618371781241}, \"type\": \"scattergeo\", \"opacity\": 0.48577680525164113, \"mode\": \"lines\", \"lon\": [34.9249653, -100.4458825], \"lat\": [38.9597594, 39.7837304]}, {\"showlegend\": false, \"line\": {\"color\": \"red\", \"width\": 0.6986269705515233}, \"type\": \"scattergeo\", \"opacity\": 0.48577680525164113, \"mode\": \"lines\", \"lon\": [8.2319736, -100.4458825], \"lat\": [46.7985624, 39.7837304]}, {\"showlegend\": false, \"line\": {\"color\": \"red\", \"width\": 0.5714021543155656}, \"type\": \"scattergeo\", \"opacity\": 0.48577680525164113, \"mode\": \"lines\", \"lon\": [116.407395, 11.5280364395482], \"lat\": [39.904211, 64.5731537]}, {\"showlegend\": false, \"line\": {\"color\": \"red\", \"width\": 0.5625260043456151}, \"type\": \"scattergeo\", \"opacity\": 0.48577680525164113, \"mode\": \"lines\", \"lon\": [-73.783892, -4.003104], \"lat\": [2.8894434, 40.0028028]}, {\"showlegend\": false, \"line\": {\"color\": \"red\", \"width\": 0.5525403356294207}, \"type\": \"scattergeo\", \"opacity\": 0.48577680525164113, \"mode\": \"lines\", \"lon\": [116.407395, 122.7312101], \"lat\": [39.904211, 12.7503486]}, {\"showlegend\": false, \"line\": {\"color\": \"red\", \"width\": 0.5518006564652582}, \"type\": \"scattergeo\", \"opacity\": 0.48577680525164113, \"mode\": \"lines\", \"lon\": [5.53460738161551, 4.66696], \"lat\": [52.2379891, 50.6407351]}, {\"showlegend\": false, \"line\": {\"color\": \"red\", \"width\": 0.5403356294207388}, \"type\": \"scattergeo\", \"opacity\": 0.48577680525164113, \"mode\": \"lines\", \"lon\": [24.6859225, -100.4458825], \"lat\": [45.9852129, 39.7837304]}, {\"showlegend\": false, \"line\": {\"color\": \"red\", \"width\": 0.5373769127640886}, \"type\": \"scattergeo\", \"opacity\": 0.48577680525164113, \"mode\": \"lines\", \"lon\": [-4.003104, -100.4458825], \"lat\": [40.0028028, 39.7837304]}, {\"showlegend\": false, \"line\": {\"color\": \"red\", \"width\": 0.48929776709352324}, \"type\": \"scattergeo\", \"opacity\": 0.48577680525164113, \"mode\": \"lines\", \"lon\": [-64.9672817, -100.4458825], \"lat\": [-34.9964963, 39.7837304]}, {\"showlegend\": false, \"line\": {\"color\": \"red\", \"width\": 0.4715454671536221}, \"type\": \"scattergeo\", \"opacity\": 0.48577680525164113, \"mode\": \"lines\", \"lon\": [19.0258159, 55.84951], \"lat\": [52.0977181, 25.61552]}, {\"showlegend\": false, \"line\": {\"color\": \"red\", \"width\": 0.43862974434838886}, \"type\": \"scattergeo\", \"opacity\": 0.48577680525164113, \"mode\": \"lines\", \"lon\": [71.247499, 1.8883335], \"lat\": [30.3308401, 46.603354]}, {\"showlegend\": false, \"line\": {\"color\": \"red\", \"width\": 0.4094124173639684}, \"type\": \"scattergeo\", \"opacity\": 0.48577680525164113, \"mode\": \"lines\", \"lon\": [-100.4458825, 12.674297], \"lat\": [39.7837304, 42.6384261]}, {\"showlegend\": false, \"line\": {\"color\": \"red\", \"width\": 0.40423466321483054}, \"type\": \"scattergeo\", \"opacity\": 0.48577680525164113, \"mode\": \"lines\", \"lon\": [1.8883335, 1.8883335], \"lat\": [46.603354, 46.603354]}, {\"showlegend\": false, \"line\": {\"color\": \"red\", \"width\": 0.37131894040959734}, \"type\": \"scattergeo\", \"opacity\": 0.48577680525164113, \"mode\": \"lines\", \"lon\": [42.2363448, 42.2363448], \"lat\": [17.7269134, 17.7269134]}, {\"showlegend\": false, \"line\": {\"color\": \"red\", \"width\": 0.3690999029171097}, \"type\": \"scattergeo\", \"opacity\": 0.48577680525164113, \"mode\": \"lines\", \"lon\": [139.2394179, -100.4458825], \"lat\": [36.5748441, 39.7837304]}, {\"showlegend\": false, \"line\": {\"color\": \"red\", \"width\": 0.3679903841708659}, \"type\": \"scattergeo\", \"opacity\": 0.48577680525164113, \"mode\": \"lines\", \"lon\": [108.4265113, 1.8883335], \"lat\": [13.2904027, 46.603354]}, {\"showlegend\": false, \"line\": {\"color\": \"red\", \"width\": 0.33359530303730756}, \"type\": \"scattergeo\", \"opacity\": 0.48577680525164113, \"mode\": \"lines\", \"lon\": [116.407395, 12.674297], \"lat\": [39.904211, 42.6384261]}, {\"showlegend\": false, \"line\": {\"color\": \"red\", \"width\": 0.33100642596273866}, \"type\": \"scattergeo\", \"opacity\": 0.48577680525164113, \"mode\": \"lines\", \"lon\": [10.4234469, -100.4458825], \"lat\": [51.0834196, 39.7837304]}, {\"showlegend\": false, \"line\": {\"color\": \"red\", \"width\": 0.31769220100781287}, \"type\": \"scattergeo\", \"opacity\": 0.48577680525164113, \"mode\": \"lines\", \"lon\": [-53.2, -100.4458825], \"lat\": [-10.3333333, 39.7837304]}, {\"showlegend\": false, \"line\": {\"color\": \"red\", \"width\": 0.30844621145578105}, \"type\": \"scattergeo\", \"opacity\": 0.48577680525164113, \"mode\": \"lines\", \"lon\": [114.1849161, 114.1849161], \"lat\": [22.350627, 22.350627]}, {\"showlegend\": false, \"line\": {\"color\": \"red\", \"width\": 0.3077065322916185}, \"type\": \"scattergeo\", \"opacity\": 0.48577680525164113, \"mode\": \"lines\", \"lon\": [4.66696, -100.4458825], \"lat\": [50.6407351, 39.7837304]}, {\"showlegend\": false, \"line\": {\"color\": \"red\", \"width\": 0.3054874947991309}, \"type\": \"scattergeo\", \"opacity\": 0.48577680525164113, \"mode\": \"lines\", \"lon\": [28.5110236, -100.4458825], \"lat\": [47.286747, 39.7837304]}, {\"showlegend\": false, \"line\": {\"color\": \"red\", \"width\": 0.30030974064999305}, \"type\": \"scattergeo\", \"opacity\": 0.48577680525164113, \"mode\": \"lines\", \"lon\": [1.8883335, 55.84951], \"lat\": [46.603354, 25.61552]}, {\"showlegend\": false, \"line\": {\"color\": \"red\", \"width\": 0.2932827885904489}, \"type\": \"scattergeo\", \"opacity\": 0.48577680525164113, \"mode\": \"lines\", \"lon\": [8.2319736, 55.84951], \"lat\": [46.7985624, 25.61552]}, {\"showlegend\": false, \"line\": {\"color\": \"red\", \"width\": 0.2648051407701909}, \"type\": \"scattergeo\", \"opacity\": 0.48577680525164113, \"mode\": \"lines\", \"lon\": [122.7312101, -100.4458825], \"lat\": [12.7503486, 39.7837304]}, {\"showlegend\": false, \"line\": {\"color\": \"red\", \"width\": 0.25814802829272804}, \"type\": \"scattergeo\", \"opacity\": 0.48577680525164113, \"mode\": \"lines\", \"lon\": [97.7453061, 97.7453061], \"lat\": [64.6863136, 64.6863136]}, {\"showlegend\": false, \"line\": {\"color\": \"red\", \"width\": 0.24409412417363968}, \"type\": \"scattergeo\", \"opacity\": 0.48577680525164113, \"mode\": \"lines\", \"lon\": [116.407395, 100.83273], \"lat\": [39.904211, 14.8971921]}, {\"showlegend\": false, \"line\": {\"color\": \"red\", \"width\": 0.2215339096666821}, \"type\": \"scattergeo\", \"opacity\": 0.48577680525164113, \"mode\": \"lines\", \"lon\": [-71.3187697, -100.4458825], \"lat\": [-31.7613365, 39.7837304]}, {\"showlegend\": false, \"line\": {\"color\": \"red\", \"width\": 0.21783551384586936}, \"type\": \"scattergeo\", \"opacity\": 0.48577680525164113, \"mode\": \"lines\", \"lon\": [34.9249653, 55.84951], \"lat\": [38.9597594, 25.61552]}, {\"showlegend\": false, \"line\": {\"color\": \"red\", \"width\": 0.21524663677130046}, \"type\": \"scattergeo\", \"opacity\": 0.48577680525164113, \"mode\": \"lines\", \"lon\": [-4.003104, 55.84951], \"lat\": [40.0028028, 25.61552]}, {\"showlegend\": false, \"line\": {\"color\": \"red\", \"width\": 0.21117840136840646}, \"type\": \"scattergeo\", \"opacity\": 0.48577680525164113, \"mode\": \"lines\", \"lon\": [71.247499, -100.4458825], \"lat\": [30.3308401, 39.7837304]}, {\"showlegend\": false, \"line\": {\"color\": \"red\", \"width\": 0.2067403263834312}, \"type\": \"scattergeo\", \"opacity\": 0.48577680525164113, \"mode\": \"lines\", \"lon\": [126.9779692, 55.84951], \"lat\": [37.566535, 25.61552]}, {\"showlegend\": false, \"line\": {\"color\": \"red\", \"width\": 0.20563080763718738}, \"type\": \"scattergeo\", \"opacity\": 0.48577680525164113, \"mode\": \"lines\", \"lon\": [-73.783892, -100.4458825], \"lat\": [2.8894434, 39.7837304]}, {\"showlegend\": false, \"line\": {\"color\": \"red\", \"width\": 0.20267209098053718}, \"type\": \"scattergeo\", \"opacity\": 0.48577680525164113, \"mode\": \"lines\", \"lon\": [5.53460738161551, -100.4458825], \"lat\": [52.2379891, 39.7837304]}, {\"showlegend\": false, \"line\": {\"color\": \"red\", \"width\": 0.20230225139845592}, \"type\": \"scattergeo\", \"opacity\": 0.48577680525164113, \"mode\": \"lines\", \"lon\": [15.4749544, 55.84951], \"lat\": [49.8167003, 25.61552]}, {\"showlegend\": false, \"line\": {\"color\": \"red\", \"width\": 0.199713374323887}, \"type\": \"scattergeo\", \"opacity\": 0.48577680525164113, \"mode\": \"lines\", \"lon\": [97.7453061, -100.4458825], \"lat\": [64.6863136, 39.7837304]}, {\"showlegend\": false, \"line\": {\"color\": \"red\", \"width\": 0.19897369515972446}, \"type\": \"scattergeo\", \"opacity\": 0.48577680525164113, \"mode\": \"lines\", \"lon\": [-99.1333416, 55.84951], \"lat\": [19.4326009, 25.61552]}, {\"showlegend\": false, \"line\": {\"color\": \"red\", \"width\": 0.19601497850307428}, \"type\": \"scattergeo\", \"opacity\": 0.48577680525164113, \"mode\": \"lines\", \"lon\": [-99.1333416, -100.4458825], \"lat\": [19.4326009, 39.7837304]}, {\"showlegend\": false, \"line\": {\"color\": \"red\", \"width\": 0.19268642226434285}, \"type\": \"scattergeo\", \"opacity\": 0.48577680525164113, \"mode\": \"lines\", \"lon\": [108.4265113, -4.003104], \"lat\": [13.2904027, 40.0028028]}, {\"showlegend\": false, \"line\": {\"color\": \"red\", \"width\": 0.1878785076972863}, \"type\": \"scattergeo\", \"opacity\": 0.48577680525164113, \"mode\": \"lines\", \"lon\": [10.4234469, 0.0732], \"lat\": [51.0834196, 51.303]}, {\"showlegend\": false, \"line\": {\"color\": \"red\", \"width\": 0.16753733068281634}, \"type\": \"scattergeo\", \"opacity\": 0.48577680525164113, \"mode\": \"lines\", \"lon\": [12.674297, 12.674297], \"lat\": [42.6384261, 42.6384261]}, {\"showlegend\": false, \"line\": {\"color\": \"red\", \"width\": 0.16716749110073506}, \"type\": \"scattergeo\", \"opacity\": 0.48577680525164113, \"mode\": \"lines\", \"lon\": [108.4265113, -100.4458825], \"lat\": [13.2904027, 39.7837304]}, {\"showlegend\": false, \"line\": {\"color\": \"red\", \"width\": 0.16161989736951599}, \"type\": \"scattergeo\", \"opacity\": 0.48577680525164113, \"mode\": \"lines\", \"lon\": [120.835363138175, 55.84951], \"lat\": [23.59829785, 25.61552]}, {\"showlegend\": false, \"line\": {\"color\": \"red\", \"width\": 0.15866118071286578}, \"type\": \"scattergeo\", \"opacity\": 0.48577680525164113, \"mode\": \"lines\", \"lon\": [33.1451285, 33.1451285], \"lat\": [34.9823018, 34.9823018]}, {\"showlegend\": false, \"line\": {\"color\": \"red\", \"width\": 0.15607230363829688}, \"type\": \"scattergeo\", \"opacity\": 0.48577680525164113, \"mode\": \"lines\", \"lon\": [12.674297, -100.4458825], \"lat\": [42.6384261, 39.7837304]}, {\"showlegend\": false, \"line\": {\"color\": \"red\", \"width\": 0.15570246405621563}, \"type\": \"scattergeo\", \"opacity\": 0.48577680525164113, \"mode\": \"lines\", \"lon\": [10.4234469, 10.4234469], \"lat\": [51.0834196, 51.0834196]}, {\"showlegend\": false, \"line\": {\"color\": \"red\", \"width\": 0.15496278489205306}, \"type\": \"scattergeo\", \"opacity\": 0.48577680525164113, \"mode\": \"lines\", \"lon\": [-64.7603583, 55.84951], \"lat\": [32.3018217, 25.61552]}, {\"showlegend\": false, \"line\": {\"color\": \"red\", \"width\": 0.153483426563728}, \"type\": \"scattergeo\", \"opacity\": 0.48577680525164113, \"mode\": \"lines\", \"lon\": [15.4749544, -100.4458825], \"lat\": [49.8167003, 39.7837304]}, {\"showlegend\": false, \"line\": {\"color\": \"red\", \"width\": 0.1531135869816467}, \"type\": \"scattergeo\", \"opacity\": 0.48577680525164113, \"mode\": \"lines\", \"lon\": [114.1849161, 55.84951], \"lat\": [22.350627, 25.61552]}, {\"showlegend\": false, \"line\": {\"color\": \"red\", \"width\": 0.14830567241459017}, \"type\": \"scattergeo\", \"opacity\": 0.48577680525164113, \"mode\": \"lines\", \"lon\": [44.78151767883003, 55.84951], \"lat\": [40.18658704808404, 25.61552]}, {\"showlegend\": false, \"line\": {\"color\": \"red\", \"width\": 0.14719615366834635}, \"type\": \"scattergeo\", \"opacity\": 0.48577680525164113, \"mode\": \"lines\", \"lon\": [122.7312101, 55.84951], \"lat\": [12.7503486, 25.61552]}, {\"showlegend\": false, \"line\": {\"color\": \"red\", \"width\": 0.14423743701169617}, \"type\": \"scattergeo\", \"opacity\": 0.48577680525164113, \"mode\": \"lines\", \"lon\": [0.0732, -4.003104], \"lat\": [51.303, 40.0028028]}, {\"showlegend\": false, \"line\": {\"color\": \"red\", \"width\": 0.14090888077296473}, \"type\": \"scattergeo\", \"opacity\": 0.48577680525164113, \"mode\": \"lines\", \"lon\": [103.8499736, -100.4458825], \"lat\": [46.8250388, 39.7837304]}, {\"showlegend\": false, \"line\": {\"color\": \"red\", \"width\": 0.1305533724746891}, \"type\": \"scattergeo\", \"opacity\": 0.48577680525164113, \"mode\": \"lines\", \"lon\": [5.53460738161551, 42.2363448], \"lat\": [52.2379891, 17.7269134]}, {\"showlegend\": false, \"line\": {\"color\": \"red\", \"width\": 0.12093754334057602}, \"type\": \"scattergeo\", \"opacity\": 0.48577680525164113, \"mode\": \"lines\", \"lon\": [-107.9917071, -100.4458825], \"lat\": [61.0666922, 39.7837304]}, {\"showlegend\": false, \"line\": {\"color\": \"red\", \"width\": 0.12056770375849474}, \"type\": \"scattergeo\", \"opacity\": 0.48577680525164113, \"mode\": \"lines\", \"lon\": [35.0015196, 55.84951], \"lat\": [30.8760272, 25.61552]}, {\"showlegend\": false, \"line\": {\"color\": \"red\", \"width\": 0.11206139337062548}, \"type\": \"scattergeo\", \"opacity\": 0.48577680525164113, \"mode\": \"lines\", \"lon\": [-7.9794599, 100.83273], \"lat\": [52.865196, 14.8971921]}, {\"showlegend\": false, \"line\": {\"color\": \"red\", \"width\": 0.11058203504230041}, \"type\": \"scattergeo\", \"opacity\": 0.48577680525164113, \"mode\": \"lines\", \"lon\": [116.407395, 34.9249653], \"lat\": [39.904211, 38.9597594]}, {\"showlegend\": false, \"line\": {\"color\": \"red\", \"width\": 0.1079931579677315}, \"type\": \"scattergeo\", \"opacity\": 0.48577680525164113, \"mode\": \"lines\", \"lon\": [139.2394179, 55.84951], \"lat\": [36.5748441, 25.61552]}, {\"showlegend\": false, \"line\": {\"color\": \"red\", \"width\": 0.10762331838565023}, \"type\": \"scattergeo\", \"opacity\": 0.48577680525164113, \"mode\": \"lines\", \"lon\": [29.2675469, -100.4458825], \"lat\": [26.2540493, 39.7837304]}, {\"showlegend\": false, \"line\": {\"color\": \"red\", \"width\": 0.10540428089316259}, \"type\": \"scattergeo\", \"opacity\": 0.48577680525164113, \"mode\": \"lines\", \"lon\": [172.8344077, -100.4458825], \"lat\": [-41.5000831, 39.7837304]}, {\"showlegend\": false, \"line\": {\"color\": \"red\", \"width\": 0.10466460172900005}, \"type\": \"scattergeo\", \"opacity\": 0.48577680525164113, \"mode\": \"lines\", \"lon\": [108.4265113, 55.84951], \"lat\": [13.2904027, 25.61552]}, {\"showlegend\": false, \"line\": {\"color\": \"red\", \"width\": 0.10392492256483751}, \"type\": \"scattergeo\", \"opacity\": 0.48577680525164113, \"mode\": \"lines\", \"lon\": [-7.8896263, -100.4458825], \"lat\": [40.033265, 39.7837304]}, {\"showlegend\": false, \"line\": {\"color\": \"red\", \"width\": 0.10318524340067496}, \"type\": \"scattergeo\", \"opacity\": 0.48577680525164113, \"mode\": \"lines\", \"lon\": [-100.4458825, -7.9794599], \"lat\": [39.7837304, 52.865196]}, {\"showlegend\": false, \"line\": {\"color\": \"red\", \"width\": 0.10133604549026859}, \"type\": \"scattergeo\", \"opacity\": 0.48577680525164113, \"mode\": \"lines\", \"lon\": [8.2319736, -4.003104], \"lat\": [46.7985624, 40.0028028]}, {\"showlegend\": false, \"line\": {\"color\": \"red\", \"width\": 0.10096620590818733}, \"type\": \"scattergeo\", \"opacity\": 0.48577680525164113, \"mode\": \"lines\", \"lon\": [120.835363138175, -100.4458825], \"lat\": [23.59829785, 39.7837304]}, {\"showlegend\": false, \"line\": {\"color\": \"red\", \"width\": 0.10096620590818733}, \"type\": \"scattergeo\", \"opacity\": 0.48577680525164113, \"mode\": \"lines\", \"lon\": [100.83273, 55.84951], \"lat\": [14.8971921, 25.61552]}, {\"showlegend\": false, \"line\": {\"color\": \"red\", \"width\": 0.10096620590818733}, \"type\": \"scattergeo\", \"opacity\": 0.48577680525164113, \"mode\": \"lines\", \"lon\": [126.9779692, -4.003104], \"lat\": [37.566535, 40.0028028]}, {\"showlegend\": false, \"line\": {\"color\": \"red\", \"width\": 0.09911700799778098}, \"type\": \"scattergeo\", \"opacity\": 0.48577680525164113, \"mode\": \"lines\", \"lon\": [114.5632032, 55.84951], \"lat\": [-4.7993356, 25.61552]}, {\"showlegend\": false, \"line\": {\"color\": \"red\", \"width\": 0.09911700799778098}, \"type\": \"scattergeo\", \"opacity\": 0.48577680525164113, \"mode\": \"lines\", \"lon\": [114.5632032, -100.4458825], \"lat\": [-4.7993356, 39.7837304]}, {\"showlegend\": false, \"line\": {\"color\": \"red\", \"width\": 0.0987471684156997}, \"type\": \"scattergeo\", \"opacity\": 0.48577680525164113, \"mode\": \"lines\", \"lon\": [1.8883335, -100.4458825], \"lat\": [46.603354, 39.7837304]}, {\"showlegend\": false, \"line\": {\"color\": \"red\", \"width\": 0.09837732883361842}, \"type\": \"scattergeo\", \"opacity\": 0.48577680525164113, \"mode\": \"lines\", \"lon\": [-107.9917071, 55.84951], \"lat\": [61.0666922, 25.61552]}, {\"showlegend\": false, \"line\": {\"color\": \"red\", \"width\": 0.09763764966945587}, \"type\": \"scattergeo\", \"opacity\": 0.48577680525164113, \"mode\": \"lines\", \"lon\": [12.674297, 55.84951], \"lat\": [42.6384261, 25.61552]}, {\"showlegend\": false, \"line\": {\"color\": \"red\", \"width\": 0.09541861217696825}, \"type\": \"scattergeo\", \"opacity\": 0.48577680525164113, \"mode\": \"lines\", \"lon\": [8.2319736, 1.8883335], \"lat\": [46.7985624, 46.603354]}, {\"showlegend\": false, \"line\": {\"color\": \"red\", \"width\": 0.09504877259488696}, \"type\": \"scattergeo\", \"opacity\": 0.48577680525164113, \"mode\": \"lines\", \"lon\": [100.83273, -7.8896263], \"lat\": [14.8971921, 40.033265]}, {\"showlegend\": false, \"line\": {\"color\": \"red\", \"width\": 0.09098053719199298}, \"type\": \"scattergeo\", \"opacity\": 0.48577680525164113, \"mode\": \"lines\", \"lon\": [-100.4458825, 1.8883335], \"lat\": [39.7837304, 46.603354]}, {\"showlegend\": false, \"line\": {\"color\": \"red\", \"width\": 0.09024085802783043}, \"type\": \"scattergeo\", \"opacity\": 0.48577680525164113, \"mode\": \"lines\", \"lon\": [-7.9794599, 55.84951], \"lat\": [52.865196, 25.61552]}, {\"showlegend\": false, \"line\": {\"color\": \"red\", \"width\": 0.08617262262493644}, \"type\": \"scattergeo\", \"opacity\": 0.48577680525164113, \"mode\": \"lines\", \"lon\": [-53.2, 55.84951], \"lat\": [-10.3333333, 25.61552]}, {\"showlegend\": false, \"line\": {\"color\": \"red\", \"width\": 0.08506310387869262}, \"type\": \"scattergeo\", \"opacity\": 0.48577680525164113, \"mode\": \"lines\", \"lon\": [-100.4458825, 122.7312101], \"lat\": [39.7837304, 12.7503486]}, {\"showlegend\": false, \"line\": {\"color\": \"red\", \"width\": 0.07766631223706717}, \"type\": \"scattergeo\", \"opacity\": 0.48577680525164113, \"mode\": \"lines\", \"lon\": [71.247499, 55.84951], \"lat\": [30.3308401, 25.61552]}, {\"showlegend\": false, \"line\": {\"color\": \"red\", \"width\": 0.07618695390874208}, \"type\": \"scattergeo\", \"opacity\": 0.48577680525164113, \"mode\": \"lines\", \"lon\": [116.407395, 97.7453061], \"lat\": [39.904211, 64.6863136]}, {\"showlegend\": false, \"line\": {\"color\": \"red\", \"width\": 0.07248855808792935}, \"type\": \"scattergeo\", \"opacity\": 0.48577680525164113, \"mode\": \"lines\", \"lon\": [116.407395, 114.1849161], \"lat\": [39.904211, 22.350627]}, {\"showlegend\": false, \"line\": {\"color\": \"red\", \"width\": 0.07063936017752301}, \"type\": \"scattergeo\", \"opacity\": 0.48577680525164113, \"mode\": \"lines\", \"lon\": [-100.4458825, 4.66696], \"lat\": [39.7837304, 50.6407351]}, {\"showlegend\": false, \"line\": {\"color\": \"red\", \"width\": 0.06102353104340992}, \"type\": \"scattergeo\", \"opacity\": 0.48577680525164113, \"mode\": \"lines\", \"lon\": [25.4856617, -100.4458825], \"lat\": [42.6073975, 39.7837304]}, {\"showlegend\": false, \"line\": {\"color\": \"red\", \"width\": 0.05954417271508483}, \"type\": \"scattergeo\", \"opacity\": 0.48577680525164113, \"mode\": \"lines\", \"lon\": [78.6677428, 103.8520359], \"lat\": [22.3511148, 1.2904753]}, {\"showlegend\": false, \"line\": {\"color\": \"red\", \"width\": 0.05917433313300356}, \"type\": \"scattergeo\", \"opacity\": 0.48577680525164113, \"mode\": \"lines\", \"lon\": [-100.4458825, 10.4234469], \"lat\": [39.7837304, 51.0834196]}, {\"showlegend\": false, \"line\": {\"color\": \"red\", \"width\": 0.058804493550922286}, \"type\": \"scattergeo\", \"opacity\": 0.48577680525164113, \"mode\": \"lines\", \"lon\": [-100.4458825, 134.755], \"lat\": [39.7837304, -24.7761086]}, {\"showlegend\": false, \"line\": {\"color\": \"red\", \"width\": 0.05843465396884102}, \"type\": \"scattergeo\", \"opacity\": 0.48577680525164113, \"mode\": \"lines\", \"lon\": [139.2394179, 4.66696], \"lat\": [36.5748441, 50.6407351]}, {\"showlegend\": false, \"line\": {\"color\": \"red\", \"width\": 0.05695529564051592}, \"type\": \"scattergeo\", \"opacity\": 0.48577680525164113, \"mode\": \"lines\", \"lon\": [78.6677428, 12.674297], \"lat\": [22.3511148, 42.6384261]}, {\"showlegend\": false, \"line\": {\"color\": \"red\", \"width\": 0.05621561647635338}, \"type\": \"scattergeo\", \"opacity\": 0.48577680525164113, \"mode\": \"lines\", \"lon\": [19.0258159, 33.1451285], \"lat\": [52.0977181, 34.9823018]}, {\"showlegend\": false, \"line\": {\"color\": \"red\", \"width\": 0.05584577689427211}, \"type\": \"scattergeo\", \"opacity\": 0.48577680525164113, \"mode\": \"lines\", \"lon\": [-100.4458825, 24.6859225], \"lat\": [39.7837304, 45.9852129]}, {\"showlegend\": false, \"line\": {\"color\": \"red\", \"width\": 0.05584577689427211}, \"type\": \"scattergeo\", \"opacity\": 0.48577680525164113, \"mode\": \"lines\", \"lon\": [5.53460738161551, -7.9794599], \"lat\": [52.2379891, 52.865196]}, {\"showlegend\": false, \"line\": {\"color\": \"red\", \"width\": 0.05547593731219083}, \"type\": \"scattergeo\", \"opacity\": 0.48577680525164113, \"mode\": \"lines\", \"lon\": [0.0732, 0.0732], \"lat\": [51.303, 51.303]}, {\"showlegend\": false, \"line\": {\"color\": \"red\", \"width\": 0.054736258148028294}, \"type\": \"scattergeo\", \"opacity\": 0.48577680525164113, \"mode\": \"lines\", \"lon\": [-100.4458825, 97.7453061], \"lat\": [39.7837304, 64.6863136]}, {\"showlegend\": false, \"line\": {\"color\": \"red\", \"width\": 0.054366418565947025}, \"type\": \"scattergeo\", \"opacity\": 0.48577680525164113, \"mode\": \"lines\", \"lon\": [-100.4458825, 11.5280364395482], \"lat\": [39.7837304, 64.5731537]}, {\"showlegend\": false, \"line\": {\"color\": \"red\", \"width\": 0.05399657898386575}, \"type\": \"scattergeo\", \"opacity\": 0.48577680525164113, \"mode\": \"lines\", \"lon\": [-100.4458825, 0.547714867236488], \"lat\": [39.7837304, 51.38660965]}, {\"showlegend\": false, \"line\": {\"color\": \"red\", \"width\": 0.05399657898386575}, \"type\": \"scattergeo\", \"opacity\": 0.48577680525164113, \"mode\": \"lines\", \"lon\": [139.2394179, -107.9917071], \"lat\": [36.5748441, 61.0666922]}, {\"showlegend\": false, \"line\": {\"color\": \"red\", \"width\": 0.05362673940178447}, \"type\": \"scattergeo\", \"opacity\": 0.48577680525164113, \"mode\": \"lines\", \"lon\": [120.835363138175, 134.755], \"lat\": [23.59829785, -24.7761086]}, {\"showlegend\": false, \"line\": {\"color\": \"red\", \"width\": 0.053256899819703205}, \"type\": \"scattergeo\", \"opacity\": 0.48577680525164113, \"mode\": \"lines\", \"lon\": [-66.1109318, 122.7312101], \"lat\": [8.0018709, 12.7503486]}, {\"showlegend\": false, \"line\": {\"color\": \"red\", \"width\": 0.053256899819703205}, \"type\": \"scattergeo\", \"opacity\": 0.48577680525164113, \"mode\": \"lines\", \"lon\": [90.2932426, 33.1451285], \"lat\": [24.4768783, 34.9823018]}, {\"showlegend\": false, \"line\": {\"color\": \"red\", \"width\": 0.053256899819703205}, \"type\": \"scattergeo\", \"opacity\": 0.48577680525164113, \"mode\": \"lines\", \"lon\": [10.4234469, 19.0258159], \"lat\": [51.0834196, 52.0977181]}, {\"showlegend\": false, \"line\": {\"color\": \"red\", \"width\": 0.052887060237621936}, \"type\": \"scattergeo\", \"opacity\": 0.48577680525164113, \"mode\": \"lines\", \"lon\": [116.407395, -107.9917071], \"lat\": [39.904211, 61.0666922]}, {\"showlegend\": false, \"line\": {\"color\": \"red\", \"width\": 0.052887060237621936}, \"type\": \"scattergeo\", \"opacity\": 0.48577680525164113, \"mode\": \"lines\", \"lon\": [-7.8896263, -7.8896263], \"lat\": [40.033265, 40.033265]}, {\"showlegend\": false, \"line\": {\"color\": \"red\", \"width\": 0.05251722065554066}, \"type\": \"scattergeo\", \"opacity\": 0.48577680525164113, \"mode\": \"lines\", \"lon\": [1.8883335, 12.674297], \"lat\": [46.603354, 42.6384261]}, {\"showlegend\": false, \"line\": {\"color\": \"red\", \"width\": 0.05251722065554066}, \"type\": \"scattergeo\", \"opacity\": 0.48577680525164113, \"mode\": \"lines\", \"lon\": [-73.783892, 97.7453061], \"lat\": [2.8894434, 64.6863136]}, {\"showlegend\": false, \"line\": {\"color\": \"red\", \"width\": 0.05251722065554066}, \"type\": \"scattergeo\", \"opacity\": 0.48577680525164113, \"mode\": \"lines\", \"lon\": [139.2394179, 42.2363448], \"lat\": [36.5748441, 17.7269134]}, {\"showlegend\": false, \"line\": {\"color\": \"red\", \"width\": 0.051777541491378115}, \"type\": \"scattergeo\", \"opacity\": 0.48577680525164113, \"mode\": \"lines\", \"lon\": [8.2319736, 24.6859225], \"lat\": [46.7985624, 45.9852129]}, {\"showlegend\": false, \"line\": {\"color\": \"red\", \"width\": 0.051407701909296846}, \"type\": \"scattergeo\", \"opacity\": 0.48577680525164113, \"mode\": \"lines\", \"lon\": [24.6859225, -7.9794599], \"lat\": [45.9852129, 52.865196]}, {\"showlegend\": false, \"line\": {\"color\": \"red\", \"width\": 0.051407701909296846}, \"type\": \"scattergeo\", \"opacity\": 0.48577680525164113, \"mode\": \"lines\", \"lon\": [31.2718321, 55.84951], \"lat\": [49.4871968, 25.61552]}, {\"showlegend\": false, \"line\": {\"color\": \"red\", \"width\": 0.051407701909296846}, \"type\": \"scattergeo\", \"opacity\": 0.48577680525164113, \"mode\": \"lines\", \"lon\": [78.6677428, 55.84951], \"lat\": [22.3511148, 25.61552]}, {\"showlegend\": false, \"line\": {\"color\": \"red\", \"width\": 0.051407701909296846}, \"type\": \"scattergeo\", \"opacity\": 0.48577680525164113, \"mode\": \"lines\", \"lon\": [134.755, -100.4458825], \"lat\": [-24.7761086, 39.7837304]}, {\"showlegend\": false, \"line\": {\"color\": \"red\", \"width\": 0.05103786232721557}, \"type\": \"scattergeo\", \"opacity\": 0.48577680525164113, \"mode\": \"lines\", \"lon\": [0.0732, -100.4458825], \"lat\": [51.303, 39.7837304]}, {\"showlegend\": false, \"line\": {\"color\": \"red\", \"width\": 0.050668022745134295}, \"type\": \"scattergeo\", \"opacity\": 0.48577680525164113, \"mode\": \"lines\", \"lon\": [-4.003104, 116.407395], \"lat\": [40.0028028, 39.904211]}, {\"showlegend\": false, \"line\": {\"color\": \"red\", \"width\": 0.050298183163053026}, \"type\": \"scattergeo\", \"opacity\": 0.48577680525164113, \"mode\": \"lines\", \"lon\": [28.5110236, 11.5280364395482], \"lat\": [47.286747, 64.5731537]}, {\"showlegend\": false, \"line\": {\"color\": \"red\", \"width\": 0.04992834358097175}, \"type\": \"scattergeo\", \"opacity\": 0.48577680525164113, \"mode\": \"lines\", \"lon\": [-99.1333416, -99.1333416], \"lat\": [19.4326009, 19.4326009]}, {\"showlegend\": false, \"line\": {\"color\": \"red\", \"width\": 0.04992834358097175}, \"type\": \"scattergeo\", \"opacity\": 0.48577680525164113, \"mode\": \"lines\", \"lon\": [44.78151767883003, -100.4458825], \"lat\": [40.18658704808404, 39.7837304]}, {\"showlegend\": false, \"line\": {\"color\": \"red\", \"width\": 0.048818824834727936}, \"type\": \"scattergeo\", \"opacity\": 0.48577680525164113, \"mode\": \"lines\", \"lon\": [8.2319736, 34.9249653], \"lat\": [46.7985624, 38.9597594]}, {\"showlegend\": false, \"line\": {\"color\": \"red\", \"width\": 0.048818824834727936}, \"type\": \"scattergeo\", \"opacity\": 0.48577680525164113, \"mode\": \"lines\", \"lon\": [55.84951, 0.0732], \"lat\": [25.61552, 51.303]}, {\"showlegend\": false, \"line\": {\"color\": \"red\", \"width\": 0.04622994776015903}, \"type\": \"scattergeo\", \"opacity\": 0.48577680525164113, \"mode\": \"lines\", \"lon\": [116.407395, 1.8883335], \"lat\": [39.904211, 46.603354]}, {\"showlegend\": false, \"line\": {\"color\": \"red\", \"width\": 0.0440109102676714}, \"type\": \"scattergeo\", \"opacity\": 0.48577680525164113, \"mode\": \"lines\", \"lon\": [78.6677428, 1.8883335], \"lat\": [22.3511148, 46.603354]}, {\"showlegend\": false, \"line\": {\"color\": \"red\", \"width\": 0.04327123110350885}, \"type\": \"scattergeo\", \"opacity\": 0.48577680525164113, \"mode\": \"lines\", \"lon\": [31.2718321, 13.199959], \"lat\": [49.4871968, 47.2000338]}, {\"showlegend\": false, \"line\": {\"color\": \"red\", \"width\": 0.041791872775183765}, \"type\": \"scattergeo\", \"opacity\": 0.48577680525164113, \"mode\": \"lines\", \"lon\": [-100.4458825, 114.1849161], \"lat\": [39.7837304, 22.350627]}, {\"showlegend\": false, \"line\": {\"color\": \"red\", \"width\": 0.0399426748647774}, \"type\": \"scattergeo\", \"opacity\": 0.48577680525164113, \"mode\": \"lines\", \"lon\": [5.53460738161551, 12.674297], \"lat\": [52.2379891, 42.6384261]}, {\"showlegend\": false, \"line\": {\"color\": \"red\", \"width\": 0.0373537977902085}, \"type\": \"scattergeo\", \"opacity\": 0.48577680525164113, \"mode\": \"lines\", \"lon\": [42.2363448, 55.84951], \"lat\": [17.7269134, 25.61552]}, {\"showlegend\": false, \"line\": {\"color\": \"red\", \"width\": 0.03587443946188341}, \"type\": \"scattergeo\", \"opacity\": 0.48577680525164113, \"mode\": \"lines\", \"lon\": [114.1849161, -100.4458825], \"lat\": [22.350627, 39.7837304]}, {\"showlegend\": false, \"line\": {\"color\": \"red\", \"width\": 0.03513476029772086}, \"type\": \"scattergeo\", \"opacity\": 0.48577680525164113, \"mode\": \"lines\", \"lon\": [19.0258159, -100.4458825], \"lat\": [52.0977181, 39.7837304]}, {\"showlegend\": false, \"line\": {\"color\": \"red\", \"width\": 0.03291572280523323}, \"type\": \"scattergeo\", \"opacity\": 0.48577680525164113, \"mode\": \"lines\", \"lon\": [14.4808369, -7.9794599], \"lat\": [45.8133113, 52.865196]}, {\"showlegend\": false, \"line\": {\"color\": \"red\", \"width\": 0.03291572280523323}, \"type\": \"scattergeo\", \"opacity\": 0.48577680525164113, \"mode\": \"lines\", \"lon\": [-64.9912286, -100.4458825], \"lat\": [-17.0568696, 39.7837304]}, {\"showlegend\": false, \"line\": {\"color\": \"red\", \"width\": 0.032176043641070684}, \"type\": \"scattergeo\", \"opacity\": 0.48577680525164113, \"mode\": \"lines\", \"lon\": [78.6677428, -7.8896263], \"lat\": [22.3511148, 40.033265]}, {\"showlegend\": false, \"line\": {\"color\": \"red\", \"width\": 0.030696685312745598}, \"type\": \"scattergeo\", \"opacity\": 0.48577680525164113, \"mode\": \"lines\", \"lon\": [34.9249653, 103.8520359], \"lat\": [38.9597594, 1.2904753]}, {\"showlegend\": false, \"line\": {\"color\": \"red\", \"width\": 0.026628449909851602}, \"type\": \"scattergeo\", \"opacity\": 0.48577680525164113, \"mode\": \"lines\", \"lon\": [122.7312101, 122.7312101], \"lat\": [12.7503486, 12.7503486]}, {\"showlegend\": true, \"type\": \"scattergeo\", \"hoverinfo\": \"text\", \"name\": \"Flux intra pays\", \"mode\": \"markers\", \"lon\": [-100.4458825, 1.8883335, 42.2363448, 114.1849161, 97.7453061, 12.674297, 33.1451285, 10.4234469, 0.0732, -7.8896263, -99.1333416, 122.7312101], \"lat\": [39.7837304, 46.603354, 17.7269134, 22.350627, 64.6863136, 42.6384261, 34.9823018, 51.0834196, 51.303, 40.033265, 19.4326009, 12.7503486], \"marker\": {\"color\": \"rgb(33,113,181)\", \"size\": [34.083306365863805, 0.40423466321483054, 0.37131894040959734, 0.30844621145578105, 0.25814802829272804, 0.16753733068281634, 0.15866118071286578, 0.15570246405621563, 0.05547593731219083, 0.052887060237621936, 0.04992834358097175, 0.026628449909851602], \"line\": {\"width\": 0}}, \"legendgroup\": \"group2\", \"text\": [\"united states\", \"france\", \"saudi arabia\", \"hong kong\", \"russia\", \"italy\", \"cyprus\", \"germany\", \"united kingdom\", \"portugal\", \"mexico\", \"philippines\"]}, {\"showlegend\": true, \"type\": \"scattergeo\", \"hoverinfo\": \"text\", \"name\": \"Flux inter pays\", \"mode\": \"markers\", \"lon\": [-100.4458825, 116.407395, 116.407395, 31.2718321, 5.53460738161551, 116.407395, -100.4458825, 78.6677428, 126.9779692, 116.407395, 34.9249653, 8.2319736, 116.407395, -73.783892, 116.407395, 5.53460738161551, 24.6859225, -4.003104, -64.9672817, 19.0258159, 71.247499, -100.4458825, 1.8883335, 42.2363448, 139.2394179, 108.4265113, 116.407395, 10.4234469, -53.2, 114.1849161, 4.66696, 28.5110236, 1.8883335, 8.2319736, 122.7312101, 97.7453061, 116.407395, -71.3187697, 34.9249653, -4.003104, 71.247499, 126.9779692, -73.783892, 5.53460738161551, 15.4749544, 97.7453061, -99.1333416, -99.1333416, 108.4265113, 10.4234469, 12.674297, 108.4265113, 120.835363138175, 33.1451285, 12.674297, 10.4234469, -64.7603583, 15.4749544, 114.1849161, 44.78151767883003, 122.7312101, 0.0732, 103.8499736, 5.53460738161551, -107.9917071, 35.0015196, -7.9794599, 116.407395, 139.2394179, 29.2675469, 172.8344077, 108.4265113, -7.8896263, -100.4458825, 8.2319736, 120.835363138175, 100.83273, 126.9779692, 114.5632032, 114.5632032, 1.8883335, -107.9917071, 12.674297, 8.2319736, 100.83273, -100.4458825, -7.9794599, -53.2, -100.4458825, 71.247499, 116.407395, 116.407395, -100.4458825, 25.4856617, 78.6677428, -100.4458825, -100.4458825, 139.2394179, 78.6677428, 19.0258159, -100.4458825, 5.53460738161551, 0.0732, -100.4458825, -100.4458825, -100.4458825, 139.2394179, 120.835363138175, -66.1109318, 90.2932426, 10.4234469, 116.407395, -7.8896263, 1.8883335, -73.783892, 139.2394179, 8.2319736, 24.6859225, 31.2718321, 78.6677428, 134.755, 0.0732, -4.003104, 28.5110236, -99.1333416, 44.78151767883003, 8.2319736, 55.84951, 116.407395, 78.6677428, 31.2718321, -100.4458825, 5.53460738161551, 42.2363448, 114.1849161, 19.0258159, 14.4808369, -64.9912286, 78.6677428, 34.9249653, 122.7312101], \"lat\": [39.7837304, 39.904211, 39.904211, 49.4871968, 52.2379891, 39.904211, 39.7837304, 22.3511148, 37.566535, 39.904211, 38.9597594, 46.7985624, 39.904211, 2.8894434, 39.904211, 52.2379891, 45.9852129, 40.0028028, -34.9964963, 52.0977181, 30.3308401, 39.7837304, 46.603354, 17.7269134, 36.5748441, 13.2904027, 39.904211, 51.0834196, -10.3333333, 22.350627, 50.6407351, 47.286747, 46.603354, 46.7985624, 12.7503486, 64.6863136, 39.904211, -31.7613365, 38.9597594, 40.0028028, 30.3308401, 37.566535, 2.8894434, 52.2379891, 49.8167003, 64.6863136, 19.4326009, 19.4326009, 13.2904027, 51.0834196, 42.6384261, 13.2904027, 23.59829785, 34.9823018, 42.6384261, 51.0834196, 32.3018217, 49.8167003, 22.350627, 40.18658704808404, 12.7503486, 51.303, 46.8250388, 52.2379891, 61.0666922, 30.8760272, 52.865196, 39.904211, 36.5748441, 26.2540493, -41.5000831, 13.2904027, 40.033265, 39.7837304, 46.7985624, 23.59829785, 14.8971921, 37.566535, -4.7993356, -4.7993356, 46.603354, 61.0666922, 42.6384261, 46.7985624, 14.8971921, 39.7837304, 52.865196, -10.3333333, 39.7837304, 30.3308401, 39.904211, 39.904211, 39.7837304, 42.6073975, 22.3511148, 39.7837304, 39.7837304, 36.5748441, 22.3511148, 52.0977181, 39.7837304, 52.2379891, 51.303, 39.7837304, 39.7837304, 39.7837304, 36.5748441, 23.59829785, 8.0018709, 24.4768783, 51.0834196, 39.904211, 40.033265, 46.603354, 2.8894434, 36.5748441, 46.7985624, 45.9852129, 49.4871968, 22.3511148, -24.7761086, 51.303, 40.0028028, 47.286747, 19.4326009, 40.18658704808404, 46.7985624, 25.61552, 39.904211, 22.3511148, 49.4871968, 39.7837304, 52.2379891, 17.7269134, 22.350627, 52.0977181, 45.8133113, -17.0568696, 22.3511148, 38.9597594, 12.7503486], \"marker\": {\"color\": \"rgb(255, 0, 0)\", \"size\": 2, \"line\": {\"width\": 1, \"color\": \"rgba(68, 68, 68, 0)\"}}, \"legendgroup\": \"group1\", \"text\": [\"united states\", \"china\", \"china\", \"ukraine\", \"netherlands\", \"china\", \"united states\", \"india\", \"south korea\", \"china\", \"turkey\", \"swiss\", \"china\", \"colombia\", \"china\", \"netherlands\", \"roumania\", \"spain\", \"argentina\", \"poland\", \"pakistan\", \"united states\", \"france\", \"saudi arabia\", \"japan\", \"vietnam\", \"china\", \"germany\", \"brazil\", \"hong kong\", \"belgium\", \"moldova\", \"france\", \"swiss\", \"philippines\", \"russia\", \"china\", \"chile\", \"turkey\", \"spain\", \"pakistan\", \"south korea\", \"colombia\", \"netherlands\", \"czech republic\", \"russia\", \"mexico\", \"mexico\", \"vietnam\", \"germany\", \"italy\", \"vietnam\", \"taiwan\", \"cyprus\", \"italy\", \"germany\", \"bermuda\", \"czech republic\", \"hong kong\", \"armenia\", \"philippines\", \"united kingdom\", \"mongolia\", \"netherlands\", \"canada\", \"israel\", \"ireland\", \"china\", \"japan\", \"egypt\", \"new zealand\", \"vietnam\", \"portugal\", \"united states\", \"swiss\", \"taiwan\", \"thailand\", \"south korea\", \"indonesia\", \"indonesia\", \"france\", \"canada\", \"italy\", \"swiss\", \"thailand\", \"united states\", \"ireland\", \"brazil\", \"united states\", \"pakistan\", \"china\", \"china\", \"united states\", \"bulgaria\", \"india\", \"united states\", \"united states\", \"japan\", \"india\", \"poland\", \"united states\", \"netherlands\", \"united kingdom\", \"united states\", \"united states\", \"united states\", \"japan\", \"taiwan\", \"venezuela\", \"bangladesh\", \"germany\", \"china\", \"portugal\", \"france\", \"colombia\", \"japan\", \"swiss\", \"roumania\", \"ukraine\", \"india\", \"australia\", \"united kingdom\", \"spain\", \"moldova\", \"mexico\", \"armenia\", \"swiss\", \"united arab emirates\", \"china\", \"india\", \"ukraine\", \"united states\", \"netherlands\", \"saudi arabia\", \"hong kong\", \"poland\", \"slovenia\", \"bolivia\", \"india\", \"turkey\", \"philippines\"]}], {\"geo\": {\"landcolor\": \"rgb(243, 243, 243)\", \"showcountries\": true, \"showland\": true, \"projection\": {\"type\": \"orthographic\"}, \"countrycolor\": \"rgb(204, 204, 204)\", \"scope\": \"world\"}, \"title\": \"Flux des cyberattaques mondiale en mars 2018 <br> source : <a href=\\\"http://www.norse-corp.com/about-us/who-we-are/\\\">Norse </a>\"}, {\"linkText\": \"Export to plot.ly\", \"showLink\": true})});</script>"
      ]
     },
     "metadata": {},
     "output_type": "display_data"
    }
   ],
   "source": [
    "df['showlegend'] = False\n",
    "data_norse = df[['lat', 'line', 'lon', 'mode', 'opacity','type', 'showlegend']].to_dict(orient='records')\n",
    "df_intra_pays = df[df['attacker'] == df['target']]\n",
    "\n",
    "labels = [ dict(\n",
    "        type = 'scattergeo',\n",
    "        hoverinfo = 'text',\n",
    "        lon = df['longitude_attacker'],\n",
    "        lat = df['latitude_attacker'],\n",
    "        text = df['attacker'],\n",
    "        mode = 'markers',\n",
    "        marker = dict( \n",
    "            size=2, \n",
    "            color='rgb(255, 0, 0)',\n",
    "            line = dict(\n",
    "                width=1,\n",
    "                color='rgba(68, 68, 68, 0)'\n",
    "            )   \n",
    "        ),\n",
    "        legendgroup = 'group1', # this can be any string, not just \"group\"\n",
    "        name = 'Flux inter pays',\n",
    "        showlegend = True\n",
    "    \n",
    ")]\n",
    "\n",
    "cases = []\n",
    "cases.append(go.Scattergeo(\n",
    "    hoverinfo = 'text',\n",
    "    lon = df_intra_pays['longitude_attacker'], \n",
    "    lat = df_intra_pays['latitude_attacker'],\n",
    "    text = df_intra_pays['attacker'],\n",
    "    marker = dict(\n",
    "        size = df_intra_pays['nb_attack'].apply(lambda x :  x / sum(df['nb_attack']) * 80),\n",
    "        color = 'rgb(33,113,181)',\n",
    "        line = dict(width = 0)\n",
    "    ),\n",
    "    legendgroup = 'group2', # this can be any string, not just \"group\"\n",
    "    name = 'Flux intra pays',\n",
    "    mode = 'markers',\n",
    "    showlegend = True\n",
    "    \n",
    "))\n",
    "\n",
    " \n",
    "layout = dict(\n",
    "    title = 'Flux des cyberattaques mondiale en mars 2018 <br> source : <a href=\"http://www.norse-corp.com/about-us/who-we-are/\">\\\n",
    "Norse </a>',\n",
    "        \n",
    "        geo = dict(\n",
    "            scope='world',\n",
    "            projection= dict( type='orthographic'),\n",
    "            showland = True,\n",
    "            landcolor = 'rgb(243, 243, 243)',\n",
    "            countrycolor = 'rgb(204, 204, 204)',\n",
    "            showcountries = True\n",
    "        )\n",
    "    )\n",
    "    \n",
    "fig = dict(data = data_norse + cases + labels, layout=layout )\n",
    "iplot(fig, filename='d3-world-map')"
   ]
  },
  {
   "cell_type": "code",
   "execution_count": 348,
   "metadata": {
    "collapsed": true
   },
   "outputs": [],
   "source": [
    "# 1ère cartes : Représentation des cyber attaques \n",
    "# 2 ème carte : cibles des cyber-attaques \n",
    "# 3 ème carte : origine des attaques "
   ]
  },
  {
   "cell_type": "code",
   "execution_count": 349,
   "metadata": {
    "collapsed": true
   },
   "outputs": [],
   "source": [
    "df_code_country = pd.read_csv('https://raw.githubusercontent.com/plotly/datasets/master/2014_world_gdp_with_codes.csv')[['CODE', 'COUNTRY']]\n",
    "df_code_country['country'] = df_code_country['COUNTRY'].apply(lambda x : x.lower())\n",
    "df_code_country = df_code_country.drop(['COUNTRY'], axis = 'columns')"
   ]
  },
  {
   "cell_type": "code",
   "execution_count": 350,
   "metadata": {
    "collapsed": true
   },
   "outputs": [],
   "source": [
    "sum_target = df.groupby(['target'])['nb_attack'].sum()\n",
    "df_target = df.set_index(['target'])[['latitude_target', 'longitude_target']]\n",
    "df_target['latitude'] = df_target['latitude_target']\n",
    "df_target['longitude'] = df_target['longitude_target']\n",
    "df_target['Nb_attack'] = sum_target\n",
    "df_target = df_target.reset_index()\n",
    "df_target = df_target.drop_duplicates('target')\n",
    "df_target['country'] = df_target['target']\n",
    "df_target = df_target.drop(['target', 'latitude_target','longitude_target'], axis = 'columns')"
   ]
  },
  {
   "cell_type": "code",
   "execution_count": 351,
   "metadata": {
    "collapsed": true
   },
   "outputs": [],
   "source": [
    "df_target = pd.merge(df_target, df_code_country, how = 'left', on = ['country'])"
   ]
  },
  {
   "cell_type": "code",
   "execution_count": 352,
   "metadata": {},
   "outputs": [
    {
     "data": {
      "text/html": [
       "<div>\n",
       "<style scoped>\n",
       "    .dataframe tbody tr th:only-of-type {\n",
       "        vertical-align: middle;\n",
       "    }\n",
       "\n",
       "    .dataframe tbody tr th {\n",
       "        vertical-align: top;\n",
       "    }\n",
       "\n",
       "    .dataframe thead th {\n",
       "        text-align: right;\n",
       "    }\n",
       "</style>\n",
       "<table border=\"1\" class=\"dataframe\">\n",
       "  <thead>\n",
       "    <tr style=\"text-align: right;\">\n",
       "      <th></th>\n",
       "      <th>latitude</th>\n",
       "      <th>longitude</th>\n",
       "      <th>Nb_attack</th>\n",
       "      <th>country</th>\n",
       "      <th>CODE</th>\n",
       "    </tr>\n",
       "  </thead>\n",
       "  <tbody>\n",
       "    <tr>\n",
       "      <th>0</th>\n",
       "      <td>39.783730</td>\n",
       "      <td>-100.445882</td>\n",
       "      <td>137702</td>\n",
       "      <td>united states</td>\n",
       "      <td>USA</td>\n",
       "    </tr>\n",
       "    <tr>\n",
       "      <th>1</th>\n",
       "      <td>25.615520</td>\n",
       "      <td>55.849510</td>\n",
       "      <td>45635</td>\n",
       "      <td>united arab emirates</td>\n",
       "      <td>ARE</td>\n",
       "    </tr>\n",
       "    <tr>\n",
       "      <th>2</th>\n",
       "      <td>40.002803</td>\n",
       "      <td>-4.003104</td>\n",
       "      <td>7740</td>\n",
       "      <td>spain</td>\n",
       "      <td>ESP</td>\n",
       "    </tr>\n",
       "    <tr>\n",
       "      <th>3</th>\n",
       "      <td>1.290475</td>\n",
       "      <td>103.852036</td>\n",
       "      <td>2702</td>\n",
       "      <td>singapore</td>\n",
       "      <td>SGP</td>\n",
       "    </tr>\n",
       "    <tr>\n",
       "      <th>4</th>\n",
       "      <td>64.573154</td>\n",
       "      <td>11.528036</td>\n",
       "      <td>1828</td>\n",
       "      <td>norway</td>\n",
       "      <td>NOR</td>\n",
       "    </tr>\n",
       "  </tbody>\n",
       "</table>\n",
       "</div>"
      ],
      "text/plain": [
       "    latitude   longitude  Nb_attack               country CODE\n",
       "0  39.783730 -100.445882     137702         united states  USA\n",
       "1  25.615520   55.849510      45635  united arab emirates  ARE\n",
       "2  40.002803   -4.003104       7740                 spain  ESP\n",
       "3   1.290475  103.852036       2702             singapore  SGP\n",
       "4  64.573154   11.528036       1828                norway  NOR"
      ]
     },
     "execution_count": 352,
     "metadata": {},
     "output_type": "execute_result"
    }
   ],
   "source": [
    "df_target.head()"
   ]
  },
  {
   "cell_type": "code",
   "execution_count": 353,
   "metadata": {
    "collapsed": true
   },
   "outputs": [],
   "source": [
    "sum_attacker = df.groupby(['attacker'])['nb_attack'].sum()\n",
    "df_attacker = df.set_index(['attacker'])[['latitude_attacker', 'longitude_attacker']]\n",
    "df_attacker['sum_attacker'] = sum_attacker\n",
    "df_attacker = df_attacker.reset_index()\n",
    "df_attacker = df_attacker.drop_duplicates('attacker')\n",
    "df_attacker['country'] = df_attacker['attacker']\n",
    "df_attacker = df_attacker.drop(['attacker'], axis = 'columns')"
   ]
  },
  {
   "cell_type": "code",
   "execution_count": 354,
   "metadata": {
    "collapsed": true
   },
   "outputs": [],
   "source": [
    "df_attacker = pd.merge(df_attacker, df_code_country, how = 'left', on = ['country'])"
   ]
  },
  {
   "cell_type": "code",
   "execution_count": 355,
   "metadata": {},
   "outputs": [
    {
     "data": {
      "text/html": [
       "<div>\n",
       "<style scoped>\n",
       "    .dataframe tbody tr th:only-of-type {\n",
       "        vertical-align: middle;\n",
       "    }\n",
       "\n",
       "    .dataframe tbody tr th {\n",
       "        vertical-align: top;\n",
       "    }\n",
       "\n",
       "    .dataframe thead th {\n",
       "        text-align: right;\n",
       "    }\n",
       "</style>\n",
       "<table border=\"1\" class=\"dataframe\">\n",
       "  <thead>\n",
       "    <tr style=\"text-align: right;\">\n",
       "      <th></th>\n",
       "      <th>latitude_attacker</th>\n",
       "      <th>longitude_attacker</th>\n",
       "      <th>sum_attacker</th>\n",
       "      <th>country</th>\n",
       "      <th>CODE</th>\n",
       "    </tr>\n",
       "  </thead>\n",
       "  <tbody>\n",
       "    <tr>\n",
       "      <th>0</th>\n",
       "      <td>39.783730</td>\n",
       "      <td>-100.445882</td>\n",
       "      <td>97988</td>\n",
       "      <td>united states</td>\n",
       "      <td>USA</td>\n",
       "    </tr>\n",
       "    <tr>\n",
       "      <th>1</th>\n",
       "      <td>39.904211</td>\n",
       "      <td>116.407395</td>\n",
       "      <td>52725</td>\n",
       "      <td>china</td>\n",
       "      <td>CHN</td>\n",
       "    </tr>\n",
       "    <tr>\n",
       "      <th>2</th>\n",
       "      <td>49.487197</td>\n",
       "      <td>31.271832</td>\n",
       "      <td>6680</td>\n",
       "      <td>ukraine</td>\n",
       "      <td>UKR</td>\n",
       "    </tr>\n",
       "    <tr>\n",
       "      <th>3</th>\n",
       "      <td>52.237989</td>\n",
       "      <td>5.534607</td>\n",
       "      <td>7854</td>\n",
       "      <td>netherlands</td>\n",
       "      <td>NLD</td>\n",
       "    </tr>\n",
       "    <tr>\n",
       "      <th>4</th>\n",
       "      <td>22.351115</td>\n",
       "      <td>78.667743</td>\n",
       "      <td>3183</td>\n",
       "      <td>india</td>\n",
       "      <td>IND</td>\n",
       "    </tr>\n",
       "  </tbody>\n",
       "</table>\n",
       "</div>"
      ],
      "text/plain": [
       "   latitude_attacker  longitude_attacker  sum_attacker        country CODE\n",
       "0          39.783730         -100.445882         97988  united states  USA\n",
       "1          39.904211          116.407395         52725          china  CHN\n",
       "2          49.487197           31.271832          6680        ukraine  UKR\n",
       "3          52.237989            5.534607          7854    netherlands  NLD\n",
       "4          22.351115           78.667743          3183          india  IND"
      ]
     },
     "execution_count": 355,
     "metadata": {},
     "output_type": "execute_result"
    }
   ],
   "source": [
    "df_attacker.head()"
   ]
  },
  {
   "cell_type": "code",
   "execution_count": 358,
   "metadata": {},
   "outputs": [
    {
     "data": {
      "application/vnd.plotly.v1+json": {
       "data": [
        {
         "autocolorscale": false,
         "colorbar": {
          "title": "Cyberattaques <br>échelle logarithmique"
         },
         "colorscale": [
          [
           0,
           "#f7fbff"
          ],
          [
           0.25,
           "#FE96A0"
          ],
          [
           0.45,
           "#FF6F7D"
          ],
          [
           0.65,
           "#FF6F7D"
          ],
          [
           0.85,
           "#DB1702"
          ],
          [
           1,
           "#D90115"
          ]
         ],
         "locations": [
          "USA",
          "ARE",
          "ESP",
          "SGP",
          "NOR",
          "PHL",
          "BEL",
          "FRA",
          "ITA",
          "SAU",
          "HKG",
          "RUS",
          "THA",
          "GBR",
          "CYP",
          "DEU",
          "TUR",
          "IRL",
          "PRT",
          "AUS",
          null,
          "ISL",
          "CAN",
          "POL",
          "CHN",
          "MEX",
          "AUT"
         ],
         "marker": {
          "line": {
           "color": "rgb(255,255,255)",
           "width": 0
          }
         },
         "text": [
          "united states",
          "united arab emirates",
          "spain",
          "singapore",
          "norway",
          "philippines",
          "belgium",
          "france",
          "italy",
          "saudi arabia",
          "hong kong",
          "russia",
          "thailand",
          "united kingdom",
          "cyprus",
          "germany",
          "turkey",
          "ireland",
          "portugal",
          "australia",
          "roumania",
          "iceland",
          "canada",
          "poland",
          "china",
          "mexico",
          "austria"
         ],
         "type": "choropleth",
         "z": [
          11.83284720893952,
          10.728430244950978,
          8.954156966583772,
          7.9017475185201445,
          7.510977752014095,
          7.570443252057374,
          7.518064181233078,
          8.299534570332597,
          7.960672608388117,
          7.312553498102598,
          7.04141166379481,
          7.085064293952548,
          6.870053411798126,
          6.672032945461067,
          6.586171654854675,
          6.364750756851911,
          6.066108090103747,
          6.489204931325317,
          6.18826412308259,
          5.717027701406222,
          5.673323267171493,
          4.983606621708336,
          5.666426688112432,
          4.969813299576001,
          4.919980925828125,
          4.90527477843843,
          4.762173934797756
         ]
        }
       ],
       "layout": {
        "geo": {
         "countrycolor": "rgb(204, 204, 204)",
         "landcolor": "rgb(243, 243, 243)",
         "projection": {
          "type": "equirectangular"
         },
         "scope": "world",
         "showcountries": true,
         "showland": true
        },
        "title": "Cibles des cyberattaques -  mars 2018 <br> source : <a href=\"http://www.norse-corp.com/about-us/who-we-are/\">Norse </a>"
       }
      },
      "text/html": [
       "<div id=\"7de8fee3-4e5e-4591-90bc-70a6c0d89858\" style=\"height: 525px; width: 100%;\" class=\"plotly-graph-div\"></div><script type=\"text/javascript\">require([\"plotly\"], function(Plotly) { window.PLOTLYENV=window.PLOTLYENV || {};window.PLOTLYENV.BASE_URL=\"https://plot.ly\";Plotly.newPlot(\"7de8fee3-4e5e-4591-90bc-70a6c0d89858\", [{\"colorbar\": {\"title\": \"Cyberattaques <br>\\u00e9chelle logarithmique\"}, \"colorscale\": [[0, \"#f7fbff\"], [0.25, \"#FE96A0\"], [0.45, \"#FF6F7D\"], [0.65, \"#FF6F7D\"], [0.85, \"#DB1702\"], [1, \"#D90115\"]], \"type\": \"choropleth\", \"text\": [\"united states\", \"united arab emirates\", \"spain\", \"singapore\", \"norway\", \"philippines\", \"belgium\", \"france\", \"italy\", \"saudi arabia\", \"hong kong\", \"russia\", \"thailand\", \"united kingdom\", \"cyprus\", \"germany\", \"turkey\", \"ireland\", \"portugal\", \"australia\", \"roumania\", \"iceland\", \"canada\", \"poland\", \"china\", \"mexico\", \"austria\"], \"locations\": [\"USA\", \"ARE\", \"ESP\", \"SGP\", \"NOR\", \"PHL\", \"BEL\", \"FRA\", \"ITA\", \"SAU\", \"HKG\", \"RUS\", \"THA\", \"GBR\", \"CYP\", \"DEU\", \"TUR\", \"IRL\", \"PRT\", \"AUS\", null, \"ISL\", \"CAN\", \"POL\", \"CHN\", \"MEX\", \"AUT\"], \"z\": [11.83284720893952, 10.728430244950978, 8.954156966583772, 7.9017475185201445, 7.510977752014095, 7.570443252057374, 7.518064181233078, 8.299534570332597, 7.960672608388117, 7.312553498102598, 7.04141166379481, 7.085064293952548, 6.870053411798126, 6.672032945461067, 6.586171654854675, 6.364750756851911, 6.066108090103747, 6.489204931325317, 6.18826412308259, 5.717027701406222, 5.673323267171493, 4.983606621708336, 5.666426688112432, 4.969813299576001, 4.919980925828125, 4.90527477843843, 4.762173934797756], \"autocolorscale\": false, \"marker\": {\"line\": {\"color\": \"rgb(255,255,255)\", \"width\": 0}}}], {\"geo\": {\"landcolor\": \"rgb(243, 243, 243)\", \"showcountries\": true, \"showland\": true, \"projection\": {\"type\": \"equirectangular\"}, \"countrycolor\": \"rgb(204, 204, 204)\", \"scope\": \"world\"}, \"title\": \"Cibles des cyberattaques -  mars 2018 <br> source : <a href=\\\"http://www.norse-corp.com/about-us/who-we-are/\\\">Norse </a>\"}, {\"linkText\": \"Export to plot.ly\", \"showLink\": true})});</script>"
      ],
      "text/vnd.plotly.v1+html": [
       "<div id=\"7de8fee3-4e5e-4591-90bc-70a6c0d89858\" style=\"height: 525px; width: 100%;\" class=\"plotly-graph-div\"></div><script type=\"text/javascript\">require([\"plotly\"], function(Plotly) { window.PLOTLYENV=window.PLOTLYENV || {};window.PLOTLYENV.BASE_URL=\"https://plot.ly\";Plotly.newPlot(\"7de8fee3-4e5e-4591-90bc-70a6c0d89858\", [{\"colorbar\": {\"title\": \"Cyberattaques <br>\\u00e9chelle logarithmique\"}, \"colorscale\": [[0, \"#f7fbff\"], [0.25, \"#FE96A0\"], [0.45, \"#FF6F7D\"], [0.65, \"#FF6F7D\"], [0.85, \"#DB1702\"], [1, \"#D90115\"]], \"type\": \"choropleth\", \"text\": [\"united states\", \"united arab emirates\", \"spain\", \"singapore\", \"norway\", \"philippines\", \"belgium\", \"france\", \"italy\", \"saudi arabia\", \"hong kong\", \"russia\", \"thailand\", \"united kingdom\", \"cyprus\", \"germany\", \"turkey\", \"ireland\", \"portugal\", \"australia\", \"roumania\", \"iceland\", \"canada\", \"poland\", \"china\", \"mexico\", \"austria\"], \"locations\": [\"USA\", \"ARE\", \"ESP\", \"SGP\", \"NOR\", \"PHL\", \"BEL\", \"FRA\", \"ITA\", \"SAU\", \"HKG\", \"RUS\", \"THA\", \"GBR\", \"CYP\", \"DEU\", \"TUR\", \"IRL\", \"PRT\", \"AUS\", null, \"ISL\", \"CAN\", \"POL\", \"CHN\", \"MEX\", \"AUT\"], \"z\": [11.83284720893952, 10.728430244950978, 8.954156966583772, 7.9017475185201445, 7.510977752014095, 7.570443252057374, 7.518064181233078, 8.299534570332597, 7.960672608388117, 7.312553498102598, 7.04141166379481, 7.085064293952548, 6.870053411798126, 6.672032945461067, 6.586171654854675, 6.364750756851911, 6.066108090103747, 6.489204931325317, 6.18826412308259, 5.717027701406222, 5.673323267171493, 4.983606621708336, 5.666426688112432, 4.969813299576001, 4.919980925828125, 4.90527477843843, 4.762173934797756], \"autocolorscale\": false, \"marker\": {\"line\": {\"color\": \"rgb(255,255,255)\", \"width\": 0}}}], {\"geo\": {\"landcolor\": \"rgb(243, 243, 243)\", \"showcountries\": true, \"showland\": true, \"projection\": {\"type\": \"equirectangular\"}, \"countrycolor\": \"rgb(204, 204, 204)\", \"scope\": \"world\"}, \"title\": \"Cibles des cyberattaques -  mars 2018 <br> source : <a href=\\\"http://www.norse-corp.com/about-us/who-we-are/\\\">Norse </a>\"}, {\"linkText\": \"Export to plot.ly\", \"showLink\": true})});</script>"
      ]
     },
     "metadata": {},
     "output_type": "display_data"
    }
   ],
   "source": [
    "colorscale=[[0, \"#f7fbff\"], [0.25, \"#FE96A0\"], [0.45, \"#FF6F7D\"], [0.65, \"#FF6F7D\"], [0.85, \"#DB1702\"], [1,\"#D90115\"]]\n",
    "\n",
    "\n",
    "data = [ dict(\n",
    "        type='choropleth',\n",
    "        colorscale = colorscale,\n",
    "        autocolorscale = False,\n",
    "        locations = df_target['CODE'],\n",
    "        z = np.log(df_target['Nb_attack']).astype(float),\n",
    "        text = df_target['country'],\n",
    "        marker = dict(\n",
    "            line = dict (\n",
    "                color = 'rgb(255,255,255)',\n",
    "                width = 0\n",
    "            ) ),\n",
    "        colorbar = dict(\n",
    "            title = \"Cyberattaques <br>échelle logarithmique\")\n",
    "        ) ]\n",
    "\n",
    " \n",
    "layout = dict(\n",
    "    title = 'Cibles des cyberattaques -  mars 2018 <br> source : <a href=\"http://www.norse-corp.com/about-us/who-we-are/\">\\\n",
    "Norse </a>',\n",
    "        \n",
    "        geo = dict(\n",
    "            scope='world',\n",
    "            projection= dict( type='equirectangular'),\n",
    "            showland = True,\n",
    "            landcolor = 'rgb(243, 243, 243)',\n",
    "            countrycolor = 'rgb(204, 204, 204)',\n",
    "            showcountries = True\n",
    "        )\n",
    "    )\n",
    "    \n",
    "fig = dict( data=data, layout=layout )\n",
    "iplot( fig, filename='d3-cloropleth-map' )"
   ]
  },
  {
   "cell_type": "code",
   "execution_count": 416,
   "metadata": {},
   "outputs": [
    {
     "data": {
      "application/vnd.plotly.v1+json": {
       "data": [
        {
         "autocolorscale": false,
         "colorbar": {
          "title": "Cyberattaques"
         },
         "colorscale": [
          [
           0,
           "#f7fbff"
          ],
          [
           0.004,
           "#FE96A0"
          ],
          [
           0.005,
           "#FF6F7D"
          ],
          [
           0.03,
           "#FF6F7D"
          ],
          [
           0.2,
           "#DB1702"
          ],
          [
           1,
           "#D90115"
          ]
         ],
         "locations": [
          "USA",
          "ARE",
          "ESP",
          "SGP",
          "NOR",
          "PHL",
          "BEL",
          "FRA",
          "ITA",
          "SAU",
          "HKG",
          "RUS",
          "THA",
          "GBR",
          "CYP",
          "DEU",
          "TUR",
          "IRL",
          "PRT",
          "AUS",
          null,
          "ISL",
          "CAN",
          "POL",
          "CHN",
          "MEX",
          "AUT"
         ],
         "marker": {
          "line": {
           "color": "rgb(255,255,255)",
           "width": 0
          }
         },
         "text": [
          "united states",
          "united arab emirates",
          "spain",
          "singapore",
          "norway",
          "philippines",
          "belgium",
          "france",
          "italy",
          "saudi arabia",
          "hong kong",
          "russia",
          "thailand",
          "united kingdom",
          "cyprus",
          "germany",
          "turkey",
          "ireland",
          "portugal",
          "australia",
          "roumania",
          "iceland",
          "canada",
          "poland",
          "china",
          "mexico",
          "austria"
         ],
         "type": "choropleth",
         "z": [
          137702,
          45635,
          7740,
          2702,
          1828,
          1940,
          1841,
          4022,
          2866,
          1499,
          1143,
          1194,
          963,
          790,
          725,
          581,
          431,
          658,
          487,
          304,
          291,
          146,
          289,
          144,
          137,
          135,
          117
         ]
        }
       ],
       "layout": {
        "geo": {
         "countrycolor": "rgb(204, 204, 204)",
         "landcolor": "rgb(243, 243, 243)",
         "projection": {
          "type": "equirectangular"
         },
         "scope": "world",
         "showcountries": true,
         "showland": true
        },
        "title": "Cibles des cyberattaques -  mars 2018 <br> source : <a href=\"http://www.norse-corp.com/about-us/who-we-are/\">Norse </a>"
       }
      },
      "text/html": [
       "<div id=\"7113771c-0548-4c21-8914-591495785cc4\" style=\"height: 525px; width: 100%;\" class=\"plotly-graph-div\"></div><script type=\"text/javascript\">require([\"plotly\"], function(Plotly) { window.PLOTLYENV=window.PLOTLYENV || {};window.PLOTLYENV.BASE_URL=\"https://plot.ly\";Plotly.newPlot(\"7113771c-0548-4c21-8914-591495785cc4\", [{\"colorbar\": {\"title\": \"Cyberattaques\"}, \"colorscale\": [[0, \"#f7fbff\"], [0.004, \"#FE96A0\"], [0.005, \"#FF6F7D\"], [0.03, \"#FF6F7D\"], [0.2, \"#DB1702\"], [1, \"#D90115\"]], \"type\": \"choropleth\", \"text\": [\"united states\", \"united arab emirates\", \"spain\", \"singapore\", \"norway\", \"philippines\", \"belgium\", \"france\", \"italy\", \"saudi arabia\", \"hong kong\", \"russia\", \"thailand\", \"united kingdom\", \"cyprus\", \"germany\", \"turkey\", \"ireland\", \"portugal\", \"australia\", \"roumania\", \"iceland\", \"canada\", \"poland\", \"china\", \"mexico\", \"austria\"], \"locations\": [\"USA\", \"ARE\", \"ESP\", \"SGP\", \"NOR\", \"PHL\", \"BEL\", \"FRA\", \"ITA\", \"SAU\", \"HKG\", \"RUS\", \"THA\", \"GBR\", \"CYP\", \"DEU\", \"TUR\", \"IRL\", \"PRT\", \"AUS\", null, \"ISL\", \"CAN\", \"POL\", \"CHN\", \"MEX\", \"AUT\"], \"z\": [137702.0, 45635.0, 7740.0, 2702.0, 1828.0, 1940.0, 1841.0, 4022.0, 2866.0, 1499.0, 1143.0, 1194.0, 963.0, 790.0, 725.0, 581.0, 431.0, 658.0, 487.0, 304.0, 291.0, 146.0, 289.0, 144.0, 137.0, 135.0, 117.0], \"autocolorscale\": false, \"marker\": {\"line\": {\"color\": \"rgb(255,255,255)\", \"width\": 0}}}], {\"geo\": {\"landcolor\": \"rgb(243, 243, 243)\", \"showcountries\": true, \"showland\": true, \"projection\": {\"type\": \"equirectangular\"}, \"countrycolor\": \"rgb(204, 204, 204)\", \"scope\": \"world\"}, \"title\": \"Cibles des cyberattaques -  mars 2018 <br> source : <a href=\\\"http://www.norse-corp.com/about-us/who-we-are/\\\">Norse </a>\"}, {\"linkText\": \"Export to plot.ly\", \"showLink\": true})});</script>"
      ],
      "text/vnd.plotly.v1+html": [
       "<div id=\"7113771c-0548-4c21-8914-591495785cc4\" style=\"height: 525px; width: 100%;\" class=\"plotly-graph-div\"></div><script type=\"text/javascript\">require([\"plotly\"], function(Plotly) { window.PLOTLYENV=window.PLOTLYENV || {};window.PLOTLYENV.BASE_URL=\"https://plot.ly\";Plotly.newPlot(\"7113771c-0548-4c21-8914-591495785cc4\", [{\"colorbar\": {\"title\": \"Cyberattaques\"}, \"colorscale\": [[0, \"#f7fbff\"], [0.004, \"#FE96A0\"], [0.005, \"#FF6F7D\"], [0.03, \"#FF6F7D\"], [0.2, \"#DB1702\"], [1, \"#D90115\"]], \"type\": \"choropleth\", \"text\": [\"united states\", \"united arab emirates\", \"spain\", \"singapore\", \"norway\", \"philippines\", \"belgium\", \"france\", \"italy\", \"saudi arabia\", \"hong kong\", \"russia\", \"thailand\", \"united kingdom\", \"cyprus\", \"germany\", \"turkey\", \"ireland\", \"portugal\", \"australia\", \"roumania\", \"iceland\", \"canada\", \"poland\", \"china\", \"mexico\", \"austria\"], \"locations\": [\"USA\", \"ARE\", \"ESP\", \"SGP\", \"NOR\", \"PHL\", \"BEL\", \"FRA\", \"ITA\", \"SAU\", \"HKG\", \"RUS\", \"THA\", \"GBR\", \"CYP\", \"DEU\", \"TUR\", \"IRL\", \"PRT\", \"AUS\", null, \"ISL\", \"CAN\", \"POL\", \"CHN\", \"MEX\", \"AUT\"], \"z\": [137702.0, 45635.0, 7740.0, 2702.0, 1828.0, 1940.0, 1841.0, 4022.0, 2866.0, 1499.0, 1143.0, 1194.0, 963.0, 790.0, 725.0, 581.0, 431.0, 658.0, 487.0, 304.0, 291.0, 146.0, 289.0, 144.0, 137.0, 135.0, 117.0], \"autocolorscale\": false, \"marker\": {\"line\": {\"color\": \"rgb(255,255,255)\", \"width\": 0}}}], {\"geo\": {\"landcolor\": \"rgb(243, 243, 243)\", \"showcountries\": true, \"showland\": true, \"projection\": {\"type\": \"equirectangular\"}, \"countrycolor\": \"rgb(204, 204, 204)\", \"scope\": \"world\"}, \"title\": \"Cibles des cyberattaques -  mars 2018 <br> source : <a href=\\\"http://www.norse-corp.com/about-us/who-we-are/\\\">Norse </a>\"}, {\"linkText\": \"Export to plot.ly\", \"showLink\": true})});</script>"
      ]
     },
     "metadata": {},
     "output_type": "display_data"
    }
   ],
   "source": [
    "colorscale=[[0, \"#f7fbff\"], [0.004, \"#FE96A0\"], [0.005, \"#FF6F7D\"], [0.03, \"#FF6F7D\"], [0.20, \"#DB1702\"], [1,\"#D90115\"]]\n",
    "\n",
    "\n",
    "\n",
    "data = [ dict(\n",
    "        type='choropleth',\n",
    "        colorscale = colorscale,\n",
    "        autocolorscale = False,\n",
    "        locations = df_target['CODE'],\n",
    "        z = df_target['Nb_attack'].astype(float),\n",
    "        text = df_target['country'],\n",
    "        marker = dict(\n",
    "            line = dict (\n",
    "                color = 'rgb(255,255,255)',\n",
    "                width = 0\n",
    "            ) ),\n",
    "        colorbar = dict(\n",
    "            title = \"Cyberattaques\")\n",
    "        ) ]\n",
    "\n",
    "layout = dict(\n",
    "    title = 'Cibles des cyberattaques -  mars 2018 <br> source : <a href=\"http://www.norse-corp.com/about-us/who-we-are/\">\\\n",
    "Norse </a>',\n",
    "        \n",
    "        geo = dict(\n",
    "            scope='world',\n",
    "            projection= dict( type='equirectangular'),\n",
    "            showland = True,\n",
    "            landcolor = 'rgb(243, 243, 243)',\n",
    "            countrycolor = 'rgb(204, 204, 204)',\n",
    "            showcountries = True\n",
    "        )\n",
    "    )\n",
    "    \n",
    "fig = dict( data=data, layout=layout )\n",
    "iplot( fig, filename='d3-cloropleth-map' )"
   ]
  },
  {
   "cell_type": "code",
   "execution_count": 415,
   "metadata": {},
   "outputs": [
    {
     "data": {
      "application/vnd.plotly.v1+json": {
       "data": [
        {
         "autocolorscale": false,
         "colorbar": {
          "title": "Cyberattaques <br>échelle logarithmique"
         },
         "colorscale": [
          [
           1,
           "rgb(165,0,38)"
          ],
          [
           0.8888,
           "rgb(215,48,39)"
          ],
          [
           0.777,
           "rgb(244,109,67)"
          ],
          [
           0.666,
           "rgb(253,174,97)"
          ],
          [
           0.555,
           "rgb(254,224,144)"
          ],
          [
           0.444,
           "rgb(224,243,248)"
          ],
          [
           0.333,
           "rgb(171,217,233)"
          ],
          [
           0.222,
           "rgb(116,173,209)"
          ],
          [
           0.111,
           "rgb(69,117,180)"
          ],
          [
           0,
           "rgb(49,54,149)"
          ]
         ],
         "locations": [
          "USA",
          "CHN",
          "UKR",
          "NLD",
          "IND",
          null,
          "TUR",
          null,
          "COL",
          null,
          "ESP",
          "ARG",
          "POL",
          "PAK",
          "FRA",
          "SAU",
          "JPN",
          "VNM",
          "DEU",
          "BRA",
          "HKG",
          "BEL",
          "MDA",
          "PHL",
          "RUS",
          "CHL",
          "CZE",
          "MEX",
          "ITA",
          "TWN",
          "CYP",
          "BMU",
          "ARM",
          "GBR",
          "MNG",
          "CAN",
          "ISR",
          "IRL",
          "EGY",
          "NZL",
          "PRT",
          "THA",
          "IDN",
          "BGR",
          "VEN",
          "BGD",
          "AUS",
          "ARE",
          "SVN",
          "BOL"
         ],
         "marker": {
          "line": {
           "color": "rgb(255,255,255)",
           "width": 0
          }
         },
         "text": [
          "united states",
          "china",
          "ukraine",
          "netherlands",
          "india",
          "south korea",
          "turkey",
          "swiss",
          "colombia",
          "roumania",
          "spain",
          "argentina",
          "poland",
          "pakistan",
          "france",
          "saudi arabia",
          "japan",
          "vietnam",
          "germany",
          "brazil",
          "hong kong",
          "belgium",
          "moldova",
          "philippines",
          "russia",
          "chile",
          "czech republic",
          "mexico",
          "italy",
          "taiwan",
          "cyprus",
          "bermuda",
          "armenia",
          "united kingdom",
          "mongolia",
          "canada",
          "israel",
          "ireland",
          "egypt",
          "new zealand",
          "portugal",
          "thailand",
          "indonesia",
          "bulgaria",
          "venezuela",
          "bangladesh",
          "australia",
          "united arab emirates",
          "slovenia",
          "bolivia"
         ],
         "type": "choropleth",
         "z": [
          11.492600301175628,
          10.872845005346976,
          8.806873266530692,
          8.968778235137956,
          8.065579427282092,
          8.111928063310739,
          7.860570785538664,
          8.156510226079966,
          7.704811922932594,
          7.3777589082278725,
          7.683403681053826,
          7.187657164114956,
          7.3277805384216315,
          7.584264818389059,
          7.746732907753622,
          7.007600613951853,
          7.459338895220296,
          7.719129840906732,
          7.584773077612199,
          6.9957661563048505,
          7.20414929203594,
          6.723832440821209,
          6.8690144506657065,
          7.078341579557671,
          7.121252453244542,
          6.395261598115449,
          6.8690144506657065,
          7.0925737159746784,
          7.037905963447182,
          6.75110146893676,
          6.061456918928017,
          6.037870919922137,
          6.284134161070802,
          6.519147287940395,
          5.942799375126701,
          6.385194398997726,
          5.786897381366708,
          6.304448802421981,
          5.673323267171493,
          5.652489180268651,
          6.049733455231958,
          6.272877006546167,
          6.284134161070802,
          5.10594547390058,
          4.969813299576001,
          4.969813299576001,
          4.9344739331306915,
          4.882801922586371,
          4.48863636973214,
          4.48863636973214
         ]
        }
       ],
       "layout": {
        "geo": {
         "countrycolor": "rgb(204, 204, 204)",
         "landcolor": "rgb(243, 243, 243)",
         "projection": {
          "type": "equirectangular"
         },
         "scope": "world",
         "showcountries": true,
         "showland": true
        },
        "title": "Origine des cyberattaques - mars 2018 <br> source : <a href=\"http://www.norse-corp.com/about-us/who-we-are/\">Norse </a>"
       }
      },
      "text/html": [
       "<div id=\"07491a8b-acf4-4947-9ef2-b1ceda65655c\" style=\"height: 525px; width: 100%;\" class=\"plotly-graph-div\"></div><script type=\"text/javascript\">require([\"plotly\"], function(Plotly) { window.PLOTLYENV=window.PLOTLYENV || {};window.PLOTLYENV.BASE_URL=\"https://plot.ly\";Plotly.newPlot(\"07491a8b-acf4-4947-9ef2-b1ceda65655c\", [{\"colorbar\": {\"title\": \"Cyberattaques <br>\\u00e9chelle logarithmique\"}, \"colorscale\": [[1, \"rgb(165,0,38)\"], [0.8888, \"rgb(215,48,39)\"], [0.777, \"rgb(244,109,67)\"], [0.666, \"rgb(253,174,97)\"], [0.555, \"rgb(254,224,144)\"], [0.444, \"rgb(224,243,248)\"], [0.333, \"rgb(171,217,233)\"], [0.222, \"rgb(116,173,209)\"], [0.111, \"rgb(69,117,180)\"], [0, \"rgb(49,54,149)\"]], \"type\": \"choropleth\", \"text\": [\"united states\", \"china\", \"ukraine\", \"netherlands\", \"india\", \"south korea\", \"turkey\", \"swiss\", \"colombia\", \"roumania\", \"spain\", \"argentina\", \"poland\", \"pakistan\", \"france\", \"saudi arabia\", \"japan\", \"vietnam\", \"germany\", \"brazil\", \"hong kong\", \"belgium\", \"moldova\", \"philippines\", \"russia\", \"chile\", \"czech republic\", \"mexico\", \"italy\", \"taiwan\", \"cyprus\", \"bermuda\", \"armenia\", \"united kingdom\", \"mongolia\", \"canada\", \"israel\", \"ireland\", \"egypt\", \"new zealand\", \"portugal\", \"thailand\", \"indonesia\", \"bulgaria\", \"venezuela\", \"bangladesh\", \"australia\", \"united arab emirates\", \"slovenia\", \"bolivia\"], \"locations\": [\"USA\", \"CHN\", \"UKR\", \"NLD\", \"IND\", null, \"TUR\", null, \"COL\", null, \"ESP\", \"ARG\", \"POL\", \"PAK\", \"FRA\", \"SAU\", \"JPN\", \"VNM\", \"DEU\", \"BRA\", \"HKG\", \"BEL\", \"MDA\", \"PHL\", \"RUS\", \"CHL\", \"CZE\", \"MEX\", \"ITA\", \"TWN\", \"CYP\", \"BMU\", \"ARM\", \"GBR\", \"MNG\", \"CAN\", \"ISR\", \"IRL\", \"EGY\", \"NZL\", \"PRT\", \"THA\", \"IDN\", \"BGR\", \"VEN\", \"BGD\", \"AUS\", \"ARE\", \"SVN\", \"BOL\"], \"z\": [11.492600301175628, 10.872845005346976, 8.806873266530692, 8.968778235137956, 8.065579427282092, 8.111928063310739, 7.860570785538664, 8.156510226079966, 7.704811922932594, 7.3777589082278725, 7.683403681053826, 7.187657164114956, 7.3277805384216315, 7.584264818389059, 7.746732907753622, 7.007600613951853, 7.459338895220296, 7.719129840906732, 7.584773077612199, 6.9957661563048505, 7.20414929203594, 6.723832440821209, 6.8690144506657065, 7.078341579557671, 7.121252453244542, 6.395261598115449, 6.8690144506657065, 7.0925737159746784, 7.037905963447182, 6.75110146893676, 6.061456918928017, 6.037870919922137, 6.284134161070802, 6.519147287940395, 5.942799375126701, 6.385194398997726, 5.786897381366708, 6.304448802421981, 5.673323267171493, 5.652489180268651, 6.049733455231958, 6.272877006546167, 6.284134161070802, 5.10594547390058, 4.969813299576001, 4.969813299576001, 4.9344739331306915, 4.882801922586371, 4.48863636973214, 4.48863636973214], \"autocolorscale\": false, \"marker\": {\"line\": {\"color\": \"rgb(255,255,255)\", \"width\": 0}}}], {\"geo\": {\"landcolor\": \"rgb(243, 243, 243)\", \"showcountries\": true, \"showland\": true, \"projection\": {\"type\": \"equirectangular\"}, \"countrycolor\": \"rgb(204, 204, 204)\", \"scope\": \"world\"}, \"title\": \"Origine des cyberattaques - mars 2018 <br> source : <a href=\\\"http://www.norse-corp.com/about-us/who-we-are/\\\">Norse </a>\"}, {\"linkText\": \"Export to plot.ly\", \"showLink\": true})});</script>"
      ],
      "text/vnd.plotly.v1+html": [
       "<div id=\"07491a8b-acf4-4947-9ef2-b1ceda65655c\" style=\"height: 525px; width: 100%;\" class=\"plotly-graph-div\"></div><script type=\"text/javascript\">require([\"plotly\"], function(Plotly) { window.PLOTLYENV=window.PLOTLYENV || {};window.PLOTLYENV.BASE_URL=\"https://plot.ly\";Plotly.newPlot(\"07491a8b-acf4-4947-9ef2-b1ceda65655c\", [{\"colorbar\": {\"title\": \"Cyberattaques <br>\\u00e9chelle logarithmique\"}, \"colorscale\": [[1, \"rgb(165,0,38)\"], [0.8888, \"rgb(215,48,39)\"], [0.777, \"rgb(244,109,67)\"], [0.666, \"rgb(253,174,97)\"], [0.555, \"rgb(254,224,144)\"], [0.444, \"rgb(224,243,248)\"], [0.333, \"rgb(171,217,233)\"], [0.222, \"rgb(116,173,209)\"], [0.111, \"rgb(69,117,180)\"], [0, \"rgb(49,54,149)\"]], \"type\": \"choropleth\", \"text\": [\"united states\", \"china\", \"ukraine\", \"netherlands\", \"india\", \"south korea\", \"turkey\", \"swiss\", \"colombia\", \"roumania\", \"spain\", \"argentina\", \"poland\", \"pakistan\", \"france\", \"saudi arabia\", \"japan\", \"vietnam\", \"germany\", \"brazil\", \"hong kong\", \"belgium\", \"moldova\", \"philippines\", \"russia\", \"chile\", \"czech republic\", \"mexico\", \"italy\", \"taiwan\", \"cyprus\", \"bermuda\", \"armenia\", \"united kingdom\", \"mongolia\", \"canada\", \"israel\", \"ireland\", \"egypt\", \"new zealand\", \"portugal\", \"thailand\", \"indonesia\", \"bulgaria\", \"venezuela\", \"bangladesh\", \"australia\", \"united arab emirates\", \"slovenia\", \"bolivia\"], \"locations\": [\"USA\", \"CHN\", \"UKR\", \"NLD\", \"IND\", null, \"TUR\", null, \"COL\", null, \"ESP\", \"ARG\", \"POL\", \"PAK\", \"FRA\", \"SAU\", \"JPN\", \"VNM\", \"DEU\", \"BRA\", \"HKG\", \"BEL\", \"MDA\", \"PHL\", \"RUS\", \"CHL\", \"CZE\", \"MEX\", \"ITA\", \"TWN\", \"CYP\", \"BMU\", \"ARM\", \"GBR\", \"MNG\", \"CAN\", \"ISR\", \"IRL\", \"EGY\", \"NZL\", \"PRT\", \"THA\", \"IDN\", \"BGR\", \"VEN\", \"BGD\", \"AUS\", \"ARE\", \"SVN\", \"BOL\"], \"z\": [11.492600301175628, 10.872845005346976, 8.806873266530692, 8.968778235137956, 8.065579427282092, 8.111928063310739, 7.860570785538664, 8.156510226079966, 7.704811922932594, 7.3777589082278725, 7.683403681053826, 7.187657164114956, 7.3277805384216315, 7.584264818389059, 7.746732907753622, 7.007600613951853, 7.459338895220296, 7.719129840906732, 7.584773077612199, 6.9957661563048505, 7.20414929203594, 6.723832440821209, 6.8690144506657065, 7.078341579557671, 7.121252453244542, 6.395261598115449, 6.8690144506657065, 7.0925737159746784, 7.037905963447182, 6.75110146893676, 6.061456918928017, 6.037870919922137, 6.284134161070802, 6.519147287940395, 5.942799375126701, 6.385194398997726, 5.786897381366708, 6.304448802421981, 5.673323267171493, 5.652489180268651, 6.049733455231958, 6.272877006546167, 6.284134161070802, 5.10594547390058, 4.969813299576001, 4.969813299576001, 4.9344739331306915, 4.882801922586371, 4.48863636973214, 4.48863636973214], \"autocolorscale\": false, \"marker\": {\"line\": {\"color\": \"rgb(255,255,255)\", \"width\": 0}}}], {\"geo\": {\"landcolor\": \"rgb(243, 243, 243)\", \"showcountries\": true, \"showland\": true, \"projection\": {\"type\": \"equirectangular\"}, \"countrycolor\": \"rgb(204, 204, 204)\", \"scope\": \"world\"}, \"title\": \"Origine des cyberattaques - mars 2018 <br> source : <a href=\\\"http://www.norse-corp.com/about-us/who-we-are/\\\">Norse </a>\"}, {\"linkText\": \"Export to plot.ly\", \"showLink\": true})});</script>"
      ]
     },
     "metadata": {},
     "output_type": "display_data"
    }
   ],
   "source": [
    "colorscale=[[1, 'rgb(165,0,38)'], [0.8888, 'rgb(215,48,39)'], [0.777, 'rgb(244,109,67)'], [0.666, 'rgb(253,174,97)'], [0.555, 'rgb(254,224,144)'], [0.444, 'rgb(224,243,248)'], [0.333, 'rgb(171,217,233)'], [0.222, 'rgb(116,173,209)'], [0.111, 'rgb(69,117,180)'], [0, 'rgb(49,54,149)']]\n",
    "    \n",
    "data = [ dict(\n",
    "        type='choropleth',\n",
    "        colorscale = colorscale,\n",
    "        autocolorscale = False,\n",
    "        locations = df_attacker['CODE'],\n",
    "        z = np.log(df_attacker['sum_attacker']).astype(float),\n",
    "        text = df_attacker['country'],\n",
    "        marker = dict(\n",
    "            line = dict (\n",
    "                color = 'rgb(255,255,255)',\n",
    "                width = 0\n",
    "            ) ),\n",
    "        colorbar = dict(\n",
    "            title = \"Cyberattaques <br>échelle logarithmique\")\n",
    "        ) ]\n",
    "\n",
    " \n",
    "layout = dict(\n",
    "    title = 'Origine des cyberattaques - mars 2018 <br> source : <a href=\"http://www.norse-corp.com/about-us/who-we-are/\">\\\n",
    "Norse </a>',\n",
    "        \n",
    "        geo = dict(\n",
    "            scope='world',\n",
    "            projection= dict( type='equirectangular'),\n",
    "            showland = True,\n",
    "            landcolor = 'rgb(243, 243, 243)',\n",
    "            countrycolor = 'rgb(204, 204, 204)',\n",
    "            showcountries = True\n",
    "        )\n",
    "    )\n",
    "    \n",
    "fig = dict( data=data, layout=layout )\n",
    "iplot( fig, filename='d3-cloropleth-map' )"
   ]
  },
  {
   "cell_type": "code",
   "execution_count": 360,
   "metadata": {},
   "outputs": [],
   "source": [
    "df_zone_h = pd.read_csv('./../CSV_for_analyse/NbrAttack_Pays_ZoneH.csv', encoding = 'latin-1',index_col=0)"
   ]
  },
  {
   "cell_type": "code",
   "execution_count": 361,
   "metadata": {},
   "outputs": [
    {
     "data": {
      "text/html": [
       "<div>\n",
       "<style scoped>\n",
       "    .dataframe tbody tr th:only-of-type {\n",
       "        vertical-align: middle;\n",
       "    }\n",
       "\n",
       "    .dataframe tbody tr th {\n",
       "        vertical-align: top;\n",
       "    }\n",
       "\n",
       "    .dataframe thead th {\n",
       "        text-align: right;\n",
       "    }\n",
       "</style>\n",
       "<table border=\"1\" class=\"dataframe\">\n",
       "  <thead>\n",
       "    <tr style=\"text-align: right;\">\n",
       "      <th></th>\n",
       "      <th>Pays</th>\n",
       "      <th>Nb_attack</th>\n",
       "    </tr>\n",
       "  </thead>\n",
       "  <tbody>\n",
       "    <tr>\n",
       "      <th>0</th>\n",
       "      <td>united states</td>\n",
       "      <td>34734</td>\n",
       "    </tr>\n",
       "    <tr>\n",
       "      <th>1</th>\n",
       "      <td>brazil</td>\n",
       "      <td>8586</td>\n",
       "    </tr>\n",
       "    <tr>\n",
       "      <th>2</th>\n",
       "      <td>united kingdom</td>\n",
       "      <td>6128</td>\n",
       "    </tr>\n",
       "    <tr>\n",
       "      <th>3</th>\n",
       "      <td>germany</td>\n",
       "      <td>4436</td>\n",
       "    </tr>\n",
       "    <tr>\n",
       "      <th>4</th>\n",
       "      <td>china</td>\n",
       "      <td>2770</td>\n",
       "    </tr>\n",
       "  </tbody>\n",
       "</table>\n",
       "</div>"
      ],
      "text/plain": [
       "             Pays  Nb_attack\n",
       "0   united states      34734\n",
       "1          brazil       8586\n",
       "2  united kingdom       6128\n",
       "3         germany       4436\n",
       "4           china       2770"
      ]
     },
     "execution_count": 361,
     "metadata": {},
     "output_type": "execute_result"
    }
   ],
   "source": [
    "df_zone_h.head()"
   ]
  },
  {
   "cell_type": "code",
   "execution_count": 362,
   "metadata": {
    "collapsed": true
   },
   "outputs": [],
   "source": [
    "df_country = pd.DataFrame(list(set(df_zone_h['Pays'])), columns = ['Pays'])"
   ]
  },
  {
   "cell_type": "code",
   "execution_count": 363,
   "metadata": {},
   "outputs": [],
   "source": [
    "geolocator = Nominatim()\n",
    "df_country['lattitude_longitude'] = df_country['Pays'].apply(lambda x : geolocator.geocode(x,  timeout=10)[1])"
   ]
  },
  {
   "cell_type": "code",
   "execution_count": 364,
   "metadata": {
    "collapsed": true
   },
   "outputs": [],
   "source": [
    "# Geolocator is wrong for united arabe emirates \n",
    "df_country['lattitude_longitude'] = df_country.apply(lambda x : (25.61552, 55.84951) if x['Pays'] == 'united arab emirates' else x['lattitude_longitude'], axis = 'columns')\n",
    "df_country['lattitude_longitude'] = df_country.apply(lambda x : (39.904211, 116.407395) if x['Pays'] == 'china' else x['lattitude_longitude'], axis = 'columns')\n",
    "df_country['lattitude_longitude'] = df_country.apply(lambda x : (37.566535, 126.9779692) if x['Pays'] == 'south korea' else x['lattitude_longitude'], axis = 'columns') \n",
    "df_country['lattitude_longitude'] = df_country.apply(lambda x : (51.3030, 0.0732) if x['Pays'] == 'united kingdom' else x['lattitude_longitude'], axis = 'columns') \n",
    "df_country['lattitude_longitude'] = df_country.apply(lambda x : (40.18658704808404, 44.78151767883003) if x['Pays'] == 'armenia' else x['lattitude_longitude'], axis = 'columns') "
   ]
  },
  {
   "cell_type": "code",
   "execution_count": 365,
   "metadata": {
    "collapsed": true
   },
   "outputs": [],
   "source": [
    "df_country['latitude'] = df_country['lattitude_longitude'].apply(lambda x : x[0])\n",
    "df_country['longitude'] = df_country['lattitude_longitude'].apply(lambda x : x[1])"
   ]
  },
  {
   "cell_type": "code",
   "execution_count": 366,
   "metadata": {},
   "outputs": [
    {
     "data": {
      "text/html": [
       "<div>\n",
       "<style scoped>\n",
       "    .dataframe tbody tr th:only-of-type {\n",
       "        vertical-align: middle;\n",
       "    }\n",
       "\n",
       "    .dataframe tbody tr th {\n",
       "        vertical-align: top;\n",
       "    }\n",
       "\n",
       "    .dataframe thead th {\n",
       "        text-align: right;\n",
       "    }\n",
       "</style>\n",
       "<table border=\"1\" class=\"dataframe\">\n",
       "  <thead>\n",
       "    <tr style=\"text-align: right;\">\n",
       "      <th></th>\n",
       "      <th>Pays</th>\n",
       "      <th>lattitude_longitude</th>\n",
       "      <th>latitude</th>\n",
       "      <th>longitude</th>\n",
       "    </tr>\n",
       "  </thead>\n",
       "  <tbody>\n",
       "    <tr>\n",
       "      <th>0</th>\n",
       "      <td>mexico</td>\n",
       "      <td>(19.4326009, -99.1333416)</td>\n",
       "      <td>19.432601</td>\n",
       "      <td>-99.133342</td>\n",
       "    </tr>\n",
       "    <tr>\n",
       "      <th>1</th>\n",
       "      <td>cyprus</td>\n",
       "      <td>(34.9823018, 33.1451285)</td>\n",
       "      <td>34.982302</td>\n",
       "      <td>33.145128</td>\n",
       "    </tr>\n",
       "    <tr>\n",
       "      <th>2</th>\n",
       "      <td>israel</td>\n",
       "      <td>(30.8760272, 35.0015196)</td>\n",
       "      <td>30.876027</td>\n",
       "      <td>35.001520</td>\n",
       "    </tr>\n",
       "    <tr>\n",
       "      <th>3</th>\n",
       "      <td>NaN</td>\n",
       "      <td>(45.1674908, 5.4175633)</td>\n",
       "      <td>45.167491</td>\n",
       "      <td>5.417563</td>\n",
       "    </tr>\n",
       "    <tr>\n",
       "      <th>4</th>\n",
       "      <td>pakistan</td>\n",
       "      <td>(30.3308401, 71.247499)</td>\n",
       "      <td>30.330840</td>\n",
       "      <td>71.247499</td>\n",
       "    </tr>\n",
       "  </tbody>\n",
       "</table>\n",
       "</div>"
      ],
      "text/plain": [
       "       Pays        lattitude_longitude   latitude  longitude\n",
       "0    mexico  (19.4326009, -99.1333416)  19.432601 -99.133342\n",
       "1    cyprus   (34.9823018, 33.1451285)  34.982302  33.145128\n",
       "2    israel   (30.8760272, 35.0015196)  30.876027  35.001520\n",
       "3       NaN    (45.1674908, 5.4175633)  45.167491   5.417563\n",
       "4  pakistan    (30.3308401, 71.247499)  30.330840  71.247499"
      ]
     },
     "execution_count": 366,
     "metadata": {},
     "output_type": "execute_result"
    }
   ],
   "source": [
    "df_country.head()"
   ]
  },
  {
   "cell_type": "code",
   "execution_count": 367,
   "metadata": {},
   "outputs": [],
   "source": [
    "df_zone_h = pd.merge(df_zone_h, df_country, how = 'left', on= ['Pays']).dropna()"
   ]
  },
  {
   "cell_type": "code",
   "execution_count": 368,
   "metadata": {},
   "outputs": [],
   "source": [
    "df_zone_h['country'] = df_zone_h['Pays']\n",
    "df_zone_h = df_zone_h.drop(['Pays'], axis = 'columns')"
   ]
  },
  {
   "cell_type": "code",
   "execution_count": 369,
   "metadata": {},
   "outputs": [],
   "source": [
    "df_zone_h = pd.merge(df_zone_h, df_code_country, how = 'left', on = ['country'])[['Nb_attack', 'latitude', 'longitude', 'country', 'CODE']]"
   ]
  },
  {
   "cell_type": "code",
   "execution_count": 418,
   "metadata": {},
   "outputs": [
    {
     "data": {
      "application/vnd.plotly.v1+json": {
       "data": [
        {
         "autocolorscale": false,
         "colorbar": {
          "title": "Cyberattaques <br>échelle logarithmique"
         },
         "colorscale": [
          [
           0,
           "#f7fbff"
          ],
          [
           0.25,
           "#FE96A0"
          ],
          [
           0.45,
           "#FF6F7D"
          ],
          [
           0.65,
           "#FF6F7D"
          ],
          [
           0.85,
           "#DB1702"
          ],
          [
           1,
           "#D90115"
          ]
         ],
         "locations": [
          "USA",
          "BRA",
          "GBR",
          "DEU",
          "CHN",
          null,
          "MEX",
          "TWN",
          "FRA",
          "POL",
          "JPN",
          "NLD",
          "CAN",
          "HKG",
          "AUS",
          "SVN",
          "NOR",
          "ARG",
          "SGP",
          "IND",
          "ISR",
          "BEL",
          "AUT",
          "THA",
          "ESP",
          "CHL",
          "TUR",
          "CZE",
          "PRT",
          "COL",
          "IDN",
          "BOL",
          "PHL",
          "EGY",
          "PAK",
          "VEN",
          "IRL",
          "ITA",
          "UKR",
          "SWE",
          null,
          "ARM",
          "ISL",
          "BGR",
          "CYP",
          "CHE",
          "BMU",
          "FIN",
          "VNM",
          "MNG",
          "LKA",
          "DNK",
          "GRC",
          "RUS",
          null,
          "ROU",
          "PER",
          "MDA",
          "MYS",
          "MLT",
          "SRB",
          "ZAF",
          "ARE",
          "BGD",
          "ALB",
          "EST",
          "KWT",
          "LBN",
          "OMN",
          null,
          "WSM"
         ],
         "marker": {
          "line": {
           "color": "rgb(255,255,255)",
           "width": 0
          }
         },
         "text": [
          "united states",
          "brazil",
          "united kingdom",
          "germany",
          "china",
          "south korea",
          "mexico",
          "taiwan",
          "france",
          "poland",
          "japan",
          "netherlands",
          "canada",
          "hong kong",
          "australia",
          "slovenia",
          "norway",
          "argentina",
          "singapore",
          "india",
          "israel",
          "belgium",
          "austria",
          "thailand",
          "spain",
          "chile",
          "turkey",
          "czech republic",
          "portugal",
          "colombia",
          "indonesia",
          "bolivia",
          "philippines",
          "egypt",
          "pakistan",
          "venezuela",
          "ireland",
          "italy",
          "ukraine",
          "sweden",
          "korea",
          "armenia",
          "iceland",
          "bulgaria",
          "cyprus",
          "switzerland",
          "bermuda",
          "finland",
          "vietnam",
          "mongolia",
          "sri lanka",
          "denmark",
          "greece",
          "russia",
          "republic of macedonia",
          "romania",
          "peru",
          "moldova",
          "malaysia",
          "malta",
          "serbia",
          "south africa",
          "united arab emirates",
          "bangladesh",
          "albania",
          "estonia",
          "kuwait",
          "lebanon",
          "oman",
          "republic of china",
          "samoa"
         ],
         "type": "choropleth",
         "z": [
          10.45547431330706,
          9.057888248784506,
          8.720623711420426,
          8.397508348470257,
          7.926602599181384,
          7.9017475185201445,
          7.8336002236611035,
          7.831220214604293,
          7.705262474866325,
          7.477604243197589,
          7.465082736399547,
          7.404887575616125,
          7.265429723253953,
          7.1592919047975645,
          7.132497551660044,
          6.907755278982137,
          6.854354502255021,
          6.60934924316738,
          6.495265555937008,
          6.45833828334479,
          6.369900982828227,
          6.345636360828596,
          6.306275286948016,
          6.226536669287466,
          6.139884552226255,
          6.063785208687608,
          5.966146739123692,
          5.945420608606575,
          5.755742213586912,
          5.66988092298052,
          5.66988092298052,
          5.44673737166631,
          5.393627546352362,
          5.384495062789089,
          4.983606621708336,
          4.6443908991413725,
          4.624972813284271,
          4.276666119016055,
          4.248495242049359,
          3.784189633918261,
          3.784189633918261,
          3.784189633918261,
          3.6888794541139363,
          3.58351893845611,
          3.332204510175204,
          3.1780538303479458,
          3.091042453358316,
          2.995732273553991,
          2.8903717578961645,
          2.302585092994046,
          2.0794415416798357,
          2.0794415416798357,
          1.791759469228055,
          1.791759469228055,
          1.3862943611198906,
          1.3862943611198906,
          1.3862943611198906,
          1.3862943611198906,
          1.3862943611198906,
          1.3862943611198906,
          1.3862943611198906,
          1.3862943611198906,
          1.3862943611198906,
          1.3862943611198906,
          0.6931471805599453,
          0.6931471805599453,
          0.6931471805599453,
          0.6931471805599453,
          0.6931471805599453,
          0.6931471805599453,
          0.6931471805599453
         ]
        }
       ],
       "layout": {
        "geo": {
         "countrycolor": "rgb(204, 204, 204)",
         "landcolor": "rgb(243, 243, 243)",
         "projection": {
          "type": "equirectangular"
         },
         "scope": "world",
         "showcountries": true,
         "showland": true
        },
        "title": "Cibles des cyberattaques - depuis 1998 <br> source : <a href=\"http://zone-h.org/?zh=1\">Zone H </a>"
       }
      },
      "text/html": [
       "<div id=\"b9688f42-18bf-4c5d-a72e-19d468c192d2\" style=\"height: 525px; width: 100%;\" class=\"plotly-graph-div\"></div><script type=\"text/javascript\">require([\"plotly\"], function(Plotly) { window.PLOTLYENV=window.PLOTLYENV || {};window.PLOTLYENV.BASE_URL=\"https://plot.ly\";Plotly.newPlot(\"b9688f42-18bf-4c5d-a72e-19d468c192d2\", [{\"colorbar\": {\"title\": \"Cyberattaques <br>\\u00e9chelle logarithmique\"}, \"colorscale\": [[0, \"#f7fbff\"], [0.25, \"#FE96A0\"], [0.45, \"#FF6F7D\"], [0.65, \"#FF6F7D\"], [0.85, \"#DB1702\"], [1, \"#D90115\"]], \"type\": \"choropleth\", \"text\": [\"united states\", \"brazil\", \"united kingdom\", \"germany\", \"china\", \"south korea\", \"mexico\", \"taiwan\", \"france\", \"poland\", \"japan\", \"netherlands\", \"canada\", \"hong kong\", \"australia\", \"slovenia\", \"norway\", \"argentina\", \"singapore\", \"india\", \"israel\", \"belgium\", \"austria\", \"thailand\", \"spain\", \"chile\", \"turkey\", \"czech republic\", \"portugal\", \"colombia\", \"indonesia\", \"bolivia\", \"philippines\", \"egypt\", \"pakistan\", \"venezuela\", \"ireland\", \"italy\", \"ukraine\", \"sweden\", \"korea\", \"armenia\", \"iceland\", \"bulgaria\", \"cyprus\", \"switzerland\", \"bermuda\", \"finland\", \"vietnam\", \"mongolia\", \"sri lanka\", \"denmark\", \"greece\", \"russia\", \"republic of macedonia\", \"romania\", \"peru\", \"moldova\", \"malaysia\", \"malta\", \"serbia\", \"south africa\", \"united arab emirates\", \"bangladesh\", \"albania\", \"estonia\", \"kuwait\", \"lebanon\", \"oman\", \"republic of china\", \"samoa\"], \"locations\": [\"USA\", \"BRA\", \"GBR\", \"DEU\", \"CHN\", null, \"MEX\", \"TWN\", \"FRA\", \"POL\", \"JPN\", \"NLD\", \"CAN\", \"HKG\", \"AUS\", \"SVN\", \"NOR\", \"ARG\", \"SGP\", \"IND\", \"ISR\", \"BEL\", \"AUT\", \"THA\", \"ESP\", \"CHL\", \"TUR\", \"CZE\", \"PRT\", \"COL\", \"IDN\", \"BOL\", \"PHL\", \"EGY\", \"PAK\", \"VEN\", \"IRL\", \"ITA\", \"UKR\", \"SWE\", null, \"ARM\", \"ISL\", \"BGR\", \"CYP\", \"CHE\", \"BMU\", \"FIN\", \"VNM\", \"MNG\", \"LKA\", \"DNK\", \"GRC\", \"RUS\", null, \"ROU\", \"PER\", \"MDA\", \"MYS\", \"MLT\", \"SRB\", \"ZAF\", \"ARE\", \"BGD\", \"ALB\", \"EST\", \"KWT\", \"LBN\", \"OMN\", null, \"WSM\"], \"z\": [10.45547431330706, 9.057888248784506, 8.720623711420426, 8.397508348470257, 7.926602599181384, 7.9017475185201445, 7.8336002236611035, 7.831220214604293, 7.705262474866325, 7.477604243197589, 7.465082736399547, 7.404887575616125, 7.265429723253953, 7.1592919047975645, 7.132497551660044, 6.907755278982137, 6.854354502255021, 6.60934924316738, 6.495265555937008, 6.45833828334479, 6.369900982828227, 6.345636360828596, 6.306275286948016, 6.226536669287466, 6.139884552226255, 6.063785208687608, 5.966146739123692, 5.945420608606575, 5.755742213586912, 5.66988092298052, 5.66988092298052, 5.44673737166631, 5.393627546352362, 5.384495062789089, 4.983606621708336, 4.6443908991413725, 4.624972813284271, 4.276666119016055, 4.248495242049359, 3.784189633918261, 3.784189633918261, 3.784189633918261, 3.6888794541139363, 3.58351893845611, 3.332204510175204, 3.1780538303479458, 3.091042453358316, 2.995732273553991, 2.8903717578961645, 2.302585092994046, 2.0794415416798357, 2.0794415416798357, 1.791759469228055, 1.791759469228055, 1.3862943611198906, 1.3862943611198906, 1.3862943611198906, 1.3862943611198906, 1.3862943611198906, 1.3862943611198906, 1.3862943611198906, 1.3862943611198906, 1.3862943611198906, 1.3862943611198906, 0.6931471805599453, 0.6931471805599453, 0.6931471805599453, 0.6931471805599453, 0.6931471805599453, 0.6931471805599453, 0.6931471805599453], \"autocolorscale\": false, \"marker\": {\"line\": {\"color\": \"rgb(255,255,255)\", \"width\": 0}}}], {\"geo\": {\"landcolor\": \"rgb(243, 243, 243)\", \"showcountries\": true, \"showland\": true, \"projection\": {\"type\": \"equirectangular\"}, \"countrycolor\": \"rgb(204, 204, 204)\", \"scope\": \"world\"}, \"title\": \"Cibles des cyberattaques - depuis 1998 <br> source : <a href=\\\"http://zone-h.org/?zh=1\\\">Zone H </a>\"}, {\"linkText\": \"Export to plot.ly\", \"showLink\": true})});</script>"
      ],
      "text/vnd.plotly.v1+html": [
       "<div id=\"b9688f42-18bf-4c5d-a72e-19d468c192d2\" style=\"height: 525px; width: 100%;\" class=\"plotly-graph-div\"></div><script type=\"text/javascript\">require([\"plotly\"], function(Plotly) { window.PLOTLYENV=window.PLOTLYENV || {};window.PLOTLYENV.BASE_URL=\"https://plot.ly\";Plotly.newPlot(\"b9688f42-18bf-4c5d-a72e-19d468c192d2\", [{\"colorbar\": {\"title\": \"Cyberattaques <br>\\u00e9chelle logarithmique\"}, \"colorscale\": [[0, \"#f7fbff\"], [0.25, \"#FE96A0\"], [0.45, \"#FF6F7D\"], [0.65, \"#FF6F7D\"], [0.85, \"#DB1702\"], [1, \"#D90115\"]], \"type\": \"choropleth\", \"text\": [\"united states\", \"brazil\", \"united kingdom\", \"germany\", \"china\", \"south korea\", \"mexico\", \"taiwan\", \"france\", \"poland\", \"japan\", \"netherlands\", \"canada\", \"hong kong\", \"australia\", \"slovenia\", \"norway\", \"argentina\", \"singapore\", \"india\", \"israel\", \"belgium\", \"austria\", \"thailand\", \"spain\", \"chile\", \"turkey\", \"czech republic\", \"portugal\", \"colombia\", \"indonesia\", \"bolivia\", \"philippines\", \"egypt\", \"pakistan\", \"venezuela\", \"ireland\", \"italy\", \"ukraine\", \"sweden\", \"korea\", \"armenia\", \"iceland\", \"bulgaria\", \"cyprus\", \"switzerland\", \"bermuda\", \"finland\", \"vietnam\", \"mongolia\", \"sri lanka\", \"denmark\", \"greece\", \"russia\", \"republic of macedonia\", \"romania\", \"peru\", \"moldova\", \"malaysia\", \"malta\", \"serbia\", \"south africa\", \"united arab emirates\", \"bangladesh\", \"albania\", \"estonia\", \"kuwait\", \"lebanon\", \"oman\", \"republic of china\", \"samoa\"], \"locations\": [\"USA\", \"BRA\", \"GBR\", \"DEU\", \"CHN\", null, \"MEX\", \"TWN\", \"FRA\", \"POL\", \"JPN\", \"NLD\", \"CAN\", \"HKG\", \"AUS\", \"SVN\", \"NOR\", \"ARG\", \"SGP\", \"IND\", \"ISR\", \"BEL\", \"AUT\", \"THA\", \"ESP\", \"CHL\", \"TUR\", \"CZE\", \"PRT\", \"COL\", \"IDN\", \"BOL\", \"PHL\", \"EGY\", \"PAK\", \"VEN\", \"IRL\", \"ITA\", \"UKR\", \"SWE\", null, \"ARM\", \"ISL\", \"BGR\", \"CYP\", \"CHE\", \"BMU\", \"FIN\", \"VNM\", \"MNG\", \"LKA\", \"DNK\", \"GRC\", \"RUS\", null, \"ROU\", \"PER\", \"MDA\", \"MYS\", \"MLT\", \"SRB\", \"ZAF\", \"ARE\", \"BGD\", \"ALB\", \"EST\", \"KWT\", \"LBN\", \"OMN\", null, \"WSM\"], \"z\": [10.45547431330706, 9.057888248784506, 8.720623711420426, 8.397508348470257, 7.926602599181384, 7.9017475185201445, 7.8336002236611035, 7.831220214604293, 7.705262474866325, 7.477604243197589, 7.465082736399547, 7.404887575616125, 7.265429723253953, 7.1592919047975645, 7.132497551660044, 6.907755278982137, 6.854354502255021, 6.60934924316738, 6.495265555937008, 6.45833828334479, 6.369900982828227, 6.345636360828596, 6.306275286948016, 6.226536669287466, 6.139884552226255, 6.063785208687608, 5.966146739123692, 5.945420608606575, 5.755742213586912, 5.66988092298052, 5.66988092298052, 5.44673737166631, 5.393627546352362, 5.384495062789089, 4.983606621708336, 4.6443908991413725, 4.624972813284271, 4.276666119016055, 4.248495242049359, 3.784189633918261, 3.784189633918261, 3.784189633918261, 3.6888794541139363, 3.58351893845611, 3.332204510175204, 3.1780538303479458, 3.091042453358316, 2.995732273553991, 2.8903717578961645, 2.302585092994046, 2.0794415416798357, 2.0794415416798357, 1.791759469228055, 1.791759469228055, 1.3862943611198906, 1.3862943611198906, 1.3862943611198906, 1.3862943611198906, 1.3862943611198906, 1.3862943611198906, 1.3862943611198906, 1.3862943611198906, 1.3862943611198906, 1.3862943611198906, 0.6931471805599453, 0.6931471805599453, 0.6931471805599453, 0.6931471805599453, 0.6931471805599453, 0.6931471805599453, 0.6931471805599453], \"autocolorscale\": false, \"marker\": {\"line\": {\"color\": \"rgb(255,255,255)\", \"width\": 0}}}], {\"geo\": {\"landcolor\": \"rgb(243, 243, 243)\", \"showcountries\": true, \"showland\": true, \"projection\": {\"type\": \"equirectangular\"}, \"countrycolor\": \"rgb(204, 204, 204)\", \"scope\": \"world\"}, \"title\": \"Cibles des cyberattaques - depuis 1998 <br> source : <a href=\\\"http://zone-h.org/?zh=1\\\">Zone H </a>\"}, {\"linkText\": \"Export to plot.ly\", \"showLink\": true})});</script>"
      ]
     },
     "metadata": {},
     "output_type": "display_data"
    }
   ],
   "source": [
    "colorscale=[[0, \"#f7fbff\"], [0.25, \"#FE96A0\"], [0.45, \"#FF6F7D\"], [0.65, \"#FF6F7D\"], [0.85, \"#DB1702\"], [1,\"#D90115\"]]\n",
    "\n",
    "data = [ dict(\n",
    "        type='choropleth',\n",
    "        colorscale = colorscale,\n",
    "        autocolorscale = False,\n",
    "        locations = df_zone_h['CODE'],\n",
    "        z = np.log(df_zone_h['Nb_attack']).astype(float),\n",
    "        text = df_zone_h['country'],\n",
    "        marker = dict(\n",
    "            line = dict (\n",
    "                color = 'rgb(255,255,255)',\n",
    "                width = 0\n",
    "            ) ),\n",
    "        colorbar = dict(\n",
    "            title = \"Cyberattaques <br>échelle logarithmique\")\n",
    "        ) ]\n",
    "\n",
    " \n",
    "layout = dict(\n",
    "    title = 'Cibles des cyberattaques - depuis 1998 <br> source : <a href=\"http://zone-h.org/?zh=1\">\\\n",
    "Zone H </a>' ,\n",
    "        \n",
    "        geo = dict(\n",
    "            scope='world',\n",
    "            projection= dict( type='equirectangular'),\n",
    "            showland = True,\n",
    "            landcolor = 'rgb(243, 243, 243)',\n",
    "            countrycolor = 'rgb(204, 204, 204)',\n",
    "            showcountries = True\n",
    "        )\n",
    "    )\n",
    "    \n",
    "fig = dict( data=data, layout=layout )\n",
    "iplot( fig, filename='d3-cloropleth-map' )"
   ]
  },
  {
   "cell_type": "code",
   "execution_count": 419,
   "metadata": {},
   "outputs": [
    {
     "data": {
      "text/html": [
       "<div>\n",
       "<style scoped>\n",
       "    .dataframe tbody tr th:only-of-type {\n",
       "        vertical-align: middle;\n",
       "    }\n",
       "\n",
       "    .dataframe tbody tr th {\n",
       "        vertical-align: top;\n",
       "    }\n",
       "\n",
       "    .dataframe thead th {\n",
       "        text-align: right;\n",
       "    }\n",
       "</style>\n",
       "<table border=\"1\" class=\"dataframe\">\n",
       "  <thead>\n",
       "    <tr style=\"text-align: right;\">\n",
       "      <th></th>\n",
       "      <th>Nb_attack</th>\n",
       "      <th>latitude</th>\n",
       "      <th>longitude</th>\n",
       "      <th>country</th>\n",
       "      <th>CODE</th>\n",
       "    </tr>\n",
       "  </thead>\n",
       "  <tbody>\n",
       "    <tr>\n",
       "      <th>0</th>\n",
       "      <td>34734</td>\n",
       "      <td>39.783730</td>\n",
       "      <td>-100.445882</td>\n",
       "      <td>united states</td>\n",
       "      <td>USA</td>\n",
       "    </tr>\n",
       "    <tr>\n",
       "      <th>1</th>\n",
       "      <td>8586</td>\n",
       "      <td>-10.333333</td>\n",
       "      <td>-53.200000</td>\n",
       "      <td>brazil</td>\n",
       "      <td>BRA</td>\n",
       "    </tr>\n",
       "    <tr>\n",
       "      <th>2</th>\n",
       "      <td>6128</td>\n",
       "      <td>51.303000</td>\n",
       "      <td>0.073200</td>\n",
       "      <td>united kingdom</td>\n",
       "      <td>GBR</td>\n",
       "    </tr>\n",
       "    <tr>\n",
       "      <th>3</th>\n",
       "      <td>4436</td>\n",
       "      <td>51.083420</td>\n",
       "      <td>10.423447</td>\n",
       "      <td>germany</td>\n",
       "      <td>DEU</td>\n",
       "    </tr>\n",
       "    <tr>\n",
       "      <th>4</th>\n",
       "      <td>2770</td>\n",
       "      <td>39.904211</td>\n",
       "      <td>116.407395</td>\n",
       "      <td>china</td>\n",
       "      <td>CHN</td>\n",
       "    </tr>\n",
       "    <tr>\n",
       "      <th>5</th>\n",
       "      <td>2702</td>\n",
       "      <td>37.566535</td>\n",
       "      <td>126.977969</td>\n",
       "      <td>south korea</td>\n",
       "      <td>NaN</td>\n",
       "    </tr>\n",
       "    <tr>\n",
       "      <th>6</th>\n",
       "      <td>2524</td>\n",
       "      <td>19.432601</td>\n",
       "      <td>-99.133342</td>\n",
       "      <td>mexico</td>\n",
       "      <td>MEX</td>\n",
       "    </tr>\n",
       "    <tr>\n",
       "      <th>7</th>\n",
       "      <td>2518</td>\n",
       "      <td>23.598298</td>\n",
       "      <td>120.835363</td>\n",
       "      <td>taiwan</td>\n",
       "      <td>TWN</td>\n",
       "    </tr>\n",
       "    <tr>\n",
       "      <th>8</th>\n",
       "      <td>2220</td>\n",
       "      <td>46.603354</td>\n",
       "      <td>1.888334</td>\n",
       "      <td>france</td>\n",
       "      <td>FRA</td>\n",
       "    </tr>\n",
       "    <tr>\n",
       "      <th>9</th>\n",
       "      <td>1768</td>\n",
       "      <td>52.097718</td>\n",
       "      <td>19.025816</td>\n",
       "      <td>poland</td>\n",
       "      <td>POL</td>\n",
       "    </tr>\n",
       "    <tr>\n",
       "      <th>10</th>\n",
       "      <td>1746</td>\n",
       "      <td>36.574844</td>\n",
       "      <td>139.239418</td>\n",
       "      <td>japan</td>\n",
       "      <td>JPN</td>\n",
       "    </tr>\n",
       "    <tr>\n",
       "      <th>11</th>\n",
       "      <td>1644</td>\n",
       "      <td>52.237989</td>\n",
       "      <td>5.534607</td>\n",
       "      <td>netherlands</td>\n",
       "      <td>NLD</td>\n",
       "    </tr>\n",
       "    <tr>\n",
       "      <th>12</th>\n",
       "      <td>1430</td>\n",
       "      <td>61.066692</td>\n",
       "      <td>-107.991707</td>\n",
       "      <td>canada</td>\n",
       "      <td>CAN</td>\n",
       "    </tr>\n",
       "    <tr>\n",
       "      <th>13</th>\n",
       "      <td>1286</td>\n",
       "      <td>22.350627</td>\n",
       "      <td>114.184916</td>\n",
       "      <td>hong kong</td>\n",
       "      <td>HKG</td>\n",
       "    </tr>\n",
       "    <tr>\n",
       "      <th>14</th>\n",
       "      <td>1252</td>\n",
       "      <td>-24.776109</td>\n",
       "      <td>134.755000</td>\n",
       "      <td>australia</td>\n",
       "      <td>AUS</td>\n",
       "    </tr>\n",
       "    <tr>\n",
       "      <th>15</th>\n",
       "      <td>1000</td>\n",
       "      <td>45.813311</td>\n",
       "      <td>14.480837</td>\n",
       "      <td>slovenia</td>\n",
       "      <td>SVN</td>\n",
       "    </tr>\n",
       "    <tr>\n",
       "      <th>16</th>\n",
       "      <td>948</td>\n",
       "      <td>64.573154</td>\n",
       "      <td>11.528036</td>\n",
       "      <td>norway</td>\n",
       "      <td>NOR</td>\n",
       "    </tr>\n",
       "    <tr>\n",
       "      <th>17</th>\n",
       "      <td>742</td>\n",
       "      <td>-34.996496</td>\n",
       "      <td>-64.967282</td>\n",
       "      <td>argentina</td>\n",
       "      <td>ARG</td>\n",
       "    </tr>\n",
       "    <tr>\n",
       "      <th>18</th>\n",
       "      <td>662</td>\n",
       "      <td>1.290475</td>\n",
       "      <td>103.852036</td>\n",
       "      <td>singapore</td>\n",
       "      <td>SGP</td>\n",
       "    </tr>\n",
       "    <tr>\n",
       "      <th>19</th>\n",
       "      <td>638</td>\n",
       "      <td>22.351115</td>\n",
       "      <td>78.667743</td>\n",
       "      <td>india</td>\n",
       "      <td>IND</td>\n",
       "    </tr>\n",
       "    <tr>\n",
       "      <th>20</th>\n",
       "      <td>584</td>\n",
       "      <td>30.876027</td>\n",
       "      <td>35.001520</td>\n",
       "      <td>israel</td>\n",
       "      <td>ISR</td>\n",
       "    </tr>\n",
       "    <tr>\n",
       "      <th>21</th>\n",
       "      <td>570</td>\n",
       "      <td>50.640735</td>\n",
       "      <td>4.666960</td>\n",
       "      <td>belgium</td>\n",
       "      <td>BEL</td>\n",
       "    </tr>\n",
       "    <tr>\n",
       "      <th>22</th>\n",
       "      <td>548</td>\n",
       "      <td>47.200034</td>\n",
       "      <td>13.199959</td>\n",
       "      <td>austria</td>\n",
       "      <td>AUT</td>\n",
       "    </tr>\n",
       "    <tr>\n",
       "      <th>23</th>\n",
       "      <td>506</td>\n",
       "      <td>14.897192</td>\n",
       "      <td>100.832730</td>\n",
       "      <td>thailand</td>\n",
       "      <td>THA</td>\n",
       "    </tr>\n",
       "    <tr>\n",
       "      <th>24</th>\n",
       "      <td>464</td>\n",
       "      <td>40.002803</td>\n",
       "      <td>-4.003104</td>\n",
       "      <td>spain</td>\n",
       "      <td>ESP</td>\n",
       "    </tr>\n",
       "    <tr>\n",
       "      <th>25</th>\n",
       "      <td>430</td>\n",
       "      <td>-31.761336</td>\n",
       "      <td>-71.318770</td>\n",
       "      <td>chile</td>\n",
       "      <td>CHL</td>\n",
       "    </tr>\n",
       "    <tr>\n",
       "      <th>26</th>\n",
       "      <td>390</td>\n",
       "      <td>38.959759</td>\n",
       "      <td>34.924965</td>\n",
       "      <td>turkey</td>\n",
       "      <td>TUR</td>\n",
       "    </tr>\n",
       "    <tr>\n",
       "      <th>27</th>\n",
       "      <td>382</td>\n",
       "      <td>49.816700</td>\n",
       "      <td>15.474954</td>\n",
       "      <td>czech republic</td>\n",
       "      <td>CZE</td>\n",
       "    </tr>\n",
       "    <tr>\n",
       "      <th>28</th>\n",
       "      <td>316</td>\n",
       "      <td>40.033265</td>\n",
       "      <td>-7.889626</td>\n",
       "      <td>portugal</td>\n",
       "      <td>PRT</td>\n",
       "    </tr>\n",
       "    <tr>\n",
       "      <th>29</th>\n",
       "      <td>290</td>\n",
       "      <td>2.889443</td>\n",
       "      <td>-73.783892</td>\n",
       "      <td>colombia</td>\n",
       "      <td>COL</td>\n",
       "    </tr>\n",
       "    <tr>\n",
       "      <th>...</th>\n",
       "      <td>...</td>\n",
       "      <td>...</td>\n",
       "      <td>...</td>\n",
       "      <td>...</td>\n",
       "      <td>...</td>\n",
       "    </tr>\n",
       "    <tr>\n",
       "      <th>41</th>\n",
       "      <td>44</td>\n",
       "      <td>40.186587</td>\n",
       "      <td>44.781518</td>\n",
       "      <td>armenia</td>\n",
       "      <td>ARM</td>\n",
       "    </tr>\n",
       "    <tr>\n",
       "      <th>42</th>\n",
       "      <td>40</td>\n",
       "      <td>51.386610</td>\n",
       "      <td>0.547715</td>\n",
       "      <td>iceland</td>\n",
       "      <td>ISL</td>\n",
       "    </tr>\n",
       "    <tr>\n",
       "      <th>43</th>\n",
       "      <td>36</td>\n",
       "      <td>42.607397</td>\n",
       "      <td>25.485662</td>\n",
       "      <td>bulgaria</td>\n",
       "      <td>BGR</td>\n",
       "    </tr>\n",
       "    <tr>\n",
       "      <th>44</th>\n",
       "      <td>28</td>\n",
       "      <td>34.982302</td>\n",
       "      <td>33.145128</td>\n",
       "      <td>cyprus</td>\n",
       "      <td>CYP</td>\n",
       "    </tr>\n",
       "    <tr>\n",
       "      <th>45</th>\n",
       "      <td>24</td>\n",
       "      <td>46.798562</td>\n",
       "      <td>8.231974</td>\n",
       "      <td>switzerland</td>\n",
       "      <td>CHE</td>\n",
       "    </tr>\n",
       "    <tr>\n",
       "      <th>46</th>\n",
       "      <td>22</td>\n",
       "      <td>32.301822</td>\n",
       "      <td>-64.760358</td>\n",
       "      <td>bermuda</td>\n",
       "      <td>BMU</td>\n",
       "    </tr>\n",
       "    <tr>\n",
       "      <th>47</th>\n",
       "      <td>20</td>\n",
       "      <td>63.246778</td>\n",
       "      <td>25.920916</td>\n",
       "      <td>finland</td>\n",
       "      <td>FIN</td>\n",
       "    </tr>\n",
       "    <tr>\n",
       "      <th>48</th>\n",
       "      <td>18</td>\n",
       "      <td>13.290403</td>\n",
       "      <td>108.426511</td>\n",
       "      <td>vietnam</td>\n",
       "      <td>VNM</td>\n",
       "    </tr>\n",
       "    <tr>\n",
       "      <th>49</th>\n",
       "      <td>10</td>\n",
       "      <td>46.825039</td>\n",
       "      <td>103.849974</td>\n",
       "      <td>mongolia</td>\n",
       "      <td>MNG</td>\n",
       "    </tr>\n",
       "    <tr>\n",
       "      <th>50</th>\n",
       "      <td>8</td>\n",
       "      <td>25.229511</td>\n",
       "      <td>55.182142</td>\n",
       "      <td>sri lanka</td>\n",
       "      <td>LKA</td>\n",
       "    </tr>\n",
       "    <tr>\n",
       "      <th>51</th>\n",
       "      <td>8</td>\n",
       "      <td>55.670249</td>\n",
       "      <td>10.333328</td>\n",
       "      <td>denmark</td>\n",
       "      <td>DNK</td>\n",
       "    </tr>\n",
       "    <tr>\n",
       "      <th>52</th>\n",
       "      <td>6</td>\n",
       "      <td>38.995368</td>\n",
       "      <td>21.987713</td>\n",
       "      <td>greece</td>\n",
       "      <td>GRC</td>\n",
       "    </tr>\n",
       "    <tr>\n",
       "      <th>53</th>\n",
       "      <td>6</td>\n",
       "      <td>64.686314</td>\n",
       "      <td>97.745306</td>\n",
       "      <td>russia</td>\n",
       "      <td>RUS</td>\n",
       "    </tr>\n",
       "    <tr>\n",
       "      <th>54</th>\n",
       "      <td>4</td>\n",
       "      <td>51.499222</td>\n",
       "      <td>-0.137884</td>\n",
       "      <td>republic of macedonia</td>\n",
       "      <td>NaN</td>\n",
       "    </tr>\n",
       "    <tr>\n",
       "      <th>55</th>\n",
       "      <td>4</td>\n",
       "      <td>45.985213</td>\n",
       "      <td>24.685923</td>\n",
       "      <td>romania</td>\n",
       "      <td>ROU</td>\n",
       "    </tr>\n",
       "    <tr>\n",
       "      <th>56</th>\n",
       "      <td>4</td>\n",
       "      <td>41.327292</td>\n",
       "      <td>-89.128764</td>\n",
       "      <td>peru</td>\n",
       "      <td>PER</td>\n",
       "    </tr>\n",
       "    <tr>\n",
       "      <th>57</th>\n",
       "      <td>4</td>\n",
       "      <td>47.286747</td>\n",
       "      <td>28.511024</td>\n",
       "      <td>moldova</td>\n",
       "      <td>MDA</td>\n",
       "    </tr>\n",
       "    <tr>\n",
       "      <th>58</th>\n",
       "      <td>4</td>\n",
       "      <td>2.392376</td>\n",
       "      <td>112.847194</td>\n",
       "      <td>malaysia</td>\n",
       "      <td>MYS</td>\n",
       "    </tr>\n",
       "    <tr>\n",
       "      <th>59</th>\n",
       "      <td>4</td>\n",
       "      <td>35.888599</td>\n",
       "      <td>14.447691</td>\n",
       "      <td>malta</td>\n",
       "      <td>MLT</td>\n",
       "    </tr>\n",
       "    <tr>\n",
       "      <th>60</th>\n",
       "      <td>4</td>\n",
       "      <td>44.153412</td>\n",
       "      <td>20.551440</td>\n",
       "      <td>serbia</td>\n",
       "      <td>SRB</td>\n",
       "    </tr>\n",
       "    <tr>\n",
       "      <th>61</th>\n",
       "      <td>4</td>\n",
       "      <td>-28.816624</td>\n",
       "      <td>24.991639</td>\n",
       "      <td>south africa</td>\n",
       "      <td>ZAF</td>\n",
       "    </tr>\n",
       "    <tr>\n",
       "      <th>62</th>\n",
       "      <td>4</td>\n",
       "      <td>25.615520</td>\n",
       "      <td>55.849510</td>\n",
       "      <td>united arab emirates</td>\n",
       "      <td>ARE</td>\n",
       "    </tr>\n",
       "    <tr>\n",
       "      <th>63</th>\n",
       "      <td>4</td>\n",
       "      <td>24.476878</td>\n",
       "      <td>90.293243</td>\n",
       "      <td>bangladesh</td>\n",
       "      <td>BGD</td>\n",
       "    </tr>\n",
       "    <tr>\n",
       "      <th>64</th>\n",
       "      <td>2</td>\n",
       "      <td>11.244883</td>\n",
       "      <td>-72.516099</td>\n",
       "      <td>albania</td>\n",
       "      <td>ALB</td>\n",
       "    </tr>\n",
       "    <tr>\n",
       "      <th>65</th>\n",
       "      <td>2</td>\n",
       "      <td>58.752378</td>\n",
       "      <td>25.331908</td>\n",
       "      <td>estonia</td>\n",
       "      <td>EST</td>\n",
       "    </tr>\n",
       "    <tr>\n",
       "      <th>66</th>\n",
       "      <td>2</td>\n",
       "      <td>29.273396</td>\n",
       "      <td>47.497948</td>\n",
       "      <td>kuwait</td>\n",
       "      <td>KWT</td>\n",
       "    </tr>\n",
       "    <tr>\n",
       "      <th>67</th>\n",
       "      <td>2</td>\n",
       "      <td>40.342968</td>\n",
       "      <td>-76.423382</td>\n",
       "      <td>lebanon</td>\n",
       "      <td>LBN</td>\n",
       "    </tr>\n",
       "    <tr>\n",
       "      <th>68</th>\n",
       "      <td>2</td>\n",
       "      <td>25.227893</td>\n",
       "      <td>55.176669</td>\n",
       "      <td>oman</td>\n",
       "      <td>OMN</td>\n",
       "    </tr>\n",
       "    <tr>\n",
       "      <th>69</th>\n",
       "      <td>2</td>\n",
       "      <td>23.973937</td>\n",
       "      <td>120.982018</td>\n",
       "      <td>republic of china</td>\n",
       "      <td>NaN</td>\n",
       "    </tr>\n",
       "    <tr>\n",
       "      <th>70</th>\n",
       "      <td>2</td>\n",
       "      <td>40.818737</td>\n",
       "      <td>-124.186452</td>\n",
       "      <td>samoa</td>\n",
       "      <td>WSM</td>\n",
       "    </tr>\n",
       "  </tbody>\n",
       "</table>\n",
       "<p>71 rows × 5 columns</p>\n",
       "</div>"
      ],
      "text/plain": [
       "    Nb_attack   latitude   longitude                country CODE\n",
       "0       34734  39.783730 -100.445882          united states  USA\n",
       "1        8586 -10.333333  -53.200000                 brazil  BRA\n",
       "2        6128  51.303000    0.073200         united kingdom  GBR\n",
       "3        4436  51.083420   10.423447                germany  DEU\n",
       "4        2770  39.904211  116.407395                  china  CHN\n",
       "5        2702  37.566535  126.977969            south korea  NaN\n",
       "6        2524  19.432601  -99.133342                 mexico  MEX\n",
       "7        2518  23.598298  120.835363                 taiwan  TWN\n",
       "8        2220  46.603354    1.888334                 france  FRA\n",
       "9        1768  52.097718   19.025816                 poland  POL\n",
       "10       1746  36.574844  139.239418                  japan  JPN\n",
       "11       1644  52.237989    5.534607            netherlands  NLD\n",
       "12       1430  61.066692 -107.991707                 canada  CAN\n",
       "13       1286  22.350627  114.184916              hong kong  HKG\n",
       "14       1252 -24.776109  134.755000              australia  AUS\n",
       "15       1000  45.813311   14.480837               slovenia  SVN\n",
       "16        948  64.573154   11.528036                 norway  NOR\n",
       "17        742 -34.996496  -64.967282              argentina  ARG\n",
       "18        662   1.290475  103.852036              singapore  SGP\n",
       "19        638  22.351115   78.667743                  india  IND\n",
       "20        584  30.876027   35.001520                 israel  ISR\n",
       "21        570  50.640735    4.666960                belgium  BEL\n",
       "22        548  47.200034   13.199959                austria  AUT\n",
       "23        506  14.897192  100.832730               thailand  THA\n",
       "24        464  40.002803   -4.003104                  spain  ESP\n",
       "25        430 -31.761336  -71.318770                  chile  CHL\n",
       "26        390  38.959759   34.924965                 turkey  TUR\n",
       "27        382  49.816700   15.474954         czech republic  CZE\n",
       "28        316  40.033265   -7.889626               portugal  PRT\n",
       "29        290   2.889443  -73.783892               colombia  COL\n",
       "..        ...        ...         ...                    ...  ...\n",
       "41         44  40.186587   44.781518                armenia  ARM\n",
       "42         40  51.386610    0.547715                iceland  ISL\n",
       "43         36  42.607397   25.485662               bulgaria  BGR\n",
       "44         28  34.982302   33.145128                 cyprus  CYP\n",
       "45         24  46.798562    8.231974            switzerland  CHE\n",
       "46         22  32.301822  -64.760358                bermuda  BMU\n",
       "47         20  63.246778   25.920916                finland  FIN\n",
       "48         18  13.290403  108.426511                vietnam  VNM\n",
       "49         10  46.825039  103.849974               mongolia  MNG\n",
       "50          8  25.229511   55.182142              sri lanka  LKA\n",
       "51          8  55.670249   10.333328                denmark  DNK\n",
       "52          6  38.995368   21.987713                 greece  GRC\n",
       "53          6  64.686314   97.745306                 russia  RUS\n",
       "54          4  51.499222   -0.137884  republic of macedonia  NaN\n",
       "55          4  45.985213   24.685923                romania  ROU\n",
       "56          4  41.327292  -89.128764                   peru  PER\n",
       "57          4  47.286747   28.511024                moldova  MDA\n",
       "58          4   2.392376  112.847194               malaysia  MYS\n",
       "59          4  35.888599   14.447691                  malta  MLT\n",
       "60          4  44.153412   20.551440                 serbia  SRB\n",
       "61          4 -28.816624   24.991639           south africa  ZAF\n",
       "62          4  25.615520   55.849510   united arab emirates  ARE\n",
       "63          4  24.476878   90.293243             bangladesh  BGD\n",
       "64          2  11.244883  -72.516099                albania  ALB\n",
       "65          2  58.752378   25.331908                estonia  EST\n",
       "66          2  29.273396   47.497948                 kuwait  KWT\n",
       "67          2  40.342968  -76.423382                lebanon  LBN\n",
       "68          2  25.227893   55.176669                   oman  OMN\n",
       "69          2  23.973937  120.982018      republic of china  NaN\n",
       "70          2  40.818737 -124.186452                  samoa  WSM\n",
       "\n",
       "[71 rows x 5 columns]"
      ]
     },
     "execution_count": 419,
     "metadata": {},
     "output_type": "execute_result"
    }
   ],
   "source": [
    "df_zone_h"
   ]
  },
  {
   "cell_type": "code",
   "execution_count": 371,
   "metadata": {},
   "outputs": [],
   "source": [
    "df_target_norse_zone_h = pd.concat([df_target, df_zone_h])"
   ]
  },
  {
   "cell_type": "code",
   "execution_count": 372,
   "metadata": {},
   "outputs": [],
   "source": [
    "sum_attack = df_target_norse_zone_h.groupby(['country'])['Nb_attack'].sum()\n",
    "df_target_norse_zone_h = df_target_norse_zone_h.drop(['Nb_attack'], axis = 'columns')"
   ]
  },
  {
   "cell_type": "code",
   "execution_count": 373,
   "metadata": {},
   "outputs": [],
   "source": [
    "df_target_norse_zone_h = pd.merge(df_target_norse_zone_h.drop_duplicates(['country']), sum_attack.reset_index(), how = 'left', on = ['country'])"
   ]
  },
  {
   "cell_type": "code",
   "execution_count": 432,
   "metadata": {},
   "outputs": [
    {
     "data": {
      "application/vnd.plotly.v1+json": {
       "data": [
        {
         "autocolorscale": false,
         "colorbar": {
          "title": "Cyberattaques <br>échelle logarithmique"
         },
         "colorscale": [
          [
           0,
           "#f7fbff"
          ],
          [
           0.25,
           "#FE96A0"
          ],
          [
           0.45,
           "#FF6F7D"
          ],
          [
           0.65,
           "#FF6F7D"
          ],
          [
           0.85,
           "#DB1702"
          ],
          [
           1,
           "#D90115"
          ]
         ],
         "locations": [
          "USA",
          "ARE",
          "ESP",
          "SGP",
          "NOR",
          "PHL",
          "BEL",
          "FRA",
          "ITA",
          "SAU",
          "HKG",
          "RUS",
          "THA",
          "GBR",
          "CYP",
          "DEU",
          "TUR",
          "IRL",
          "PRT",
          "AUS",
          null,
          "ISL",
          "CAN",
          "POL",
          "CHN",
          "MEX",
          "AUT",
          "BRA",
          null,
          "TWN",
          "JPN",
          "NLD",
          "SVN",
          "ARG",
          "IND",
          "ISR",
          "CHL",
          "CZE",
          "COL",
          "IDN",
          "BOL",
          "EGY",
          "PAK",
          "VEN",
          "UKR",
          "SWE",
          null,
          "ARM",
          "BGR",
          "CHE",
          "BMU",
          "FIN",
          "VNM",
          "MNG",
          "LKA",
          "DNK",
          "GRC",
          null,
          "ROU",
          "PER",
          "MDA",
          "MYS",
          "MLT",
          "SRB",
          "ZAF",
          "BGD",
          "ALB",
          "EST",
          "KWT",
          "LBN",
          "OMN",
          null,
          "WSM"
         ],
         "marker": {
          "line": {
           "color": "rgb(255,255,255)",
           "width": 0
          }
         },
         "text": [
          "united states",
          "united arab emirates",
          "spain",
          "singapore",
          "norway",
          "philippines",
          "belgium",
          "france",
          "italy",
          "saudi arabia",
          "hong kong",
          "russia",
          "thailand",
          "united kingdom",
          "cyprus",
          "germany",
          "turkey",
          "ireland",
          "portugal",
          "australia",
          "roumania",
          "iceland",
          "canada",
          "poland",
          "china",
          "mexico",
          "austria",
          "brazil",
          "south korea",
          "taiwan",
          "japan",
          "netherlands",
          "slovenia",
          "argentina",
          "india",
          "israel",
          "chile",
          "czech republic",
          "colombia",
          "indonesia",
          "bolivia",
          "egypt",
          "pakistan",
          "venezuela",
          "ukraine",
          "sweden",
          "korea",
          "armenia",
          "bulgaria",
          "switzerland",
          "bermuda",
          "finland",
          "vietnam",
          "mongolia",
          "sri lanka",
          "denmark",
          "greece",
          "republic of macedonia",
          "romania",
          "peru",
          "moldova",
          "malaysia",
          "malta",
          "serbia",
          "south africa",
          "bangladesh",
          "albania",
          "estonia",
          "kuwait",
          "lebanon",
          "oman",
          "republic of china",
          "samoa"
         ],
         "type": "choropleth",
         "z": [
          12.057781432117892,
          10.728517893131238,
          9.012377119192271,
          8.120886021092838,
          7.9287663216266955,
          7.67786350067821,
          7.787796878181171,
          8.739055922830724,
          7.9854843567338225,
          7.312553498102598,
          7.795234929002173,
          7.090076835776092,
          7.292337176173877,
          8.841881989497114,
          6.6240652277998935,
          8.520587424484253,
          6.710523109452428,
          6.633318433280377,
          6.688354713946762,
          7.349873704738337,
          5.673323267171493,
          5.225746673713202,
          7.449498005382849,
          7.555905093611346,
          7.9748769005588755,
          7.88570539124302,
          6.499787040655854,
          9.057888248784506,
          7.9017475185201445,
          7.831220214604293,
          7.465082736399547,
          7.404887575616125,
          6.907755278982137,
          6.60934924316738,
          6.45833828334479,
          6.369900982828227,
          6.063785208687608,
          5.945420608606575,
          5.66988092298052,
          5.66988092298052,
          5.44673737166631,
          5.384495062789089,
          4.983606621708336,
          4.6443908991413725,
          4.248495242049359,
          3.784189633918261,
          3.784189633918261,
          3.784189633918261,
          3.58351893845611,
          3.1780538303479458,
          3.091042453358316,
          2.995732273553991,
          2.8903717578961645,
          2.302585092994046,
          2.0794415416798357,
          2.0794415416798357,
          1.791759469228055,
          1.3862943611198906,
          1.3862943611198906,
          1.3862943611198906,
          1.3862943611198906,
          1.3862943611198906,
          1.3862943611198906,
          1.3862943611198906,
          1.3862943611198906,
          1.3862943611198906,
          0.6931471805599453,
          0.6931471805599453,
          0.6931471805599453,
          0.6931471805599453,
          0.6931471805599453,
          0.6931471805599453,
          0.6931471805599453
         ]
        }
       ],
       "layout": {
        "geo": {
         "countrycolor": "rgb(204, 204, 204)",
         "landcolor": "rgb(243, 243, 243)",
         "projection": {
          "type": ""
         },
         "scope": "world",
         "showcountries": true,
         "showland": true
        },
        "title": "Cibles des cyberattaques <br> fusion des sources : <a href=\"http://zone-h.org/?zh=1\">Zone H </a> et <a href=\"http://www.norse-corp.com/about-us/who-we-are/\">Norse"
       }
      },
      "text/html": [
       "<div id=\"9f7a85eb-465b-4b26-b11b-498ebbd88204\" style=\"height: 525px; width: 100%;\" class=\"plotly-graph-div\"></div><script type=\"text/javascript\">require([\"plotly\"], function(Plotly) { window.PLOTLYENV=window.PLOTLYENV || {};window.PLOTLYENV.BASE_URL=\"https://plot.ly\";Plotly.newPlot(\"9f7a85eb-465b-4b26-b11b-498ebbd88204\", [{\"colorbar\": {\"title\": \"Cyberattaques <br>\\u00e9chelle logarithmique\"}, \"colorscale\": [[0, \"#f7fbff\"], [0.25, \"#FE96A0\"], [0.45, \"#FF6F7D\"], [0.65, \"#FF6F7D\"], [0.85, \"#DB1702\"], [1, \"#D90115\"]], \"type\": \"choropleth\", \"text\": [\"united states\", \"united arab emirates\", \"spain\", \"singapore\", \"norway\", \"philippines\", \"belgium\", \"france\", \"italy\", \"saudi arabia\", \"hong kong\", \"russia\", \"thailand\", \"united kingdom\", \"cyprus\", \"germany\", \"turkey\", \"ireland\", \"portugal\", \"australia\", \"roumania\", \"iceland\", \"canada\", \"poland\", \"china\", \"mexico\", \"austria\", \"brazil\", \"south korea\", \"taiwan\", \"japan\", \"netherlands\", \"slovenia\", \"argentina\", \"india\", \"israel\", \"chile\", \"czech republic\", \"colombia\", \"indonesia\", \"bolivia\", \"egypt\", \"pakistan\", \"venezuela\", \"ukraine\", \"sweden\", \"korea\", \"armenia\", \"bulgaria\", \"switzerland\", \"bermuda\", \"finland\", \"vietnam\", \"mongolia\", \"sri lanka\", \"denmark\", \"greece\", \"republic of macedonia\", \"romania\", \"peru\", \"moldova\", \"malaysia\", \"malta\", \"serbia\", \"south africa\", \"bangladesh\", \"albania\", \"estonia\", \"kuwait\", \"lebanon\", \"oman\", \"republic of china\", \"samoa\"], \"locations\": [\"USA\", \"ARE\", \"ESP\", \"SGP\", \"NOR\", \"PHL\", \"BEL\", \"FRA\", \"ITA\", \"SAU\", \"HKG\", \"RUS\", \"THA\", \"GBR\", \"CYP\", \"DEU\", \"TUR\", \"IRL\", \"PRT\", \"AUS\", null, \"ISL\", \"CAN\", \"POL\", \"CHN\", \"MEX\", \"AUT\", \"BRA\", null, \"TWN\", \"JPN\", \"NLD\", \"SVN\", \"ARG\", \"IND\", \"ISR\", \"CHL\", \"CZE\", \"COL\", \"IDN\", \"BOL\", \"EGY\", \"PAK\", \"VEN\", \"UKR\", \"SWE\", null, \"ARM\", \"BGR\", \"CHE\", \"BMU\", \"FIN\", \"VNM\", \"MNG\", \"LKA\", \"DNK\", \"GRC\", null, \"ROU\", \"PER\", \"MDA\", \"MYS\", \"MLT\", \"SRB\", \"ZAF\", \"BGD\", \"ALB\", \"EST\", \"KWT\", \"LBN\", \"OMN\", null, \"WSM\"], \"z\": [12.057781432117892, 10.728517893131238, 9.012377119192271, 8.120886021092838, 7.9287663216266955, 7.67786350067821, 7.787796878181171, 8.739055922830724, 7.9854843567338225, 7.312553498102598, 7.795234929002173, 7.090076835776092, 7.292337176173877, 8.841881989497114, 6.6240652277998935, 8.520587424484253, 6.710523109452428, 6.633318433280377, 6.688354713946762, 7.349873704738337, 5.673323267171493, 5.225746673713202, 7.449498005382849, 7.555905093611346, 7.9748769005588755, 7.88570539124302, 6.499787040655854, 9.057888248784506, 7.9017475185201445, 7.831220214604293, 7.465082736399547, 7.404887575616125, 6.907755278982137, 6.60934924316738, 6.45833828334479, 6.369900982828227, 6.063785208687608, 5.945420608606575, 5.66988092298052, 5.66988092298052, 5.44673737166631, 5.384495062789089, 4.983606621708336, 4.6443908991413725, 4.248495242049359, 3.784189633918261, 3.784189633918261, 3.784189633918261, 3.58351893845611, 3.1780538303479458, 3.091042453358316, 2.995732273553991, 2.8903717578961645, 2.302585092994046, 2.0794415416798357, 2.0794415416798357, 1.791759469228055, 1.3862943611198906, 1.3862943611198906, 1.3862943611198906, 1.3862943611198906, 1.3862943611198906, 1.3862943611198906, 1.3862943611198906, 1.3862943611198906, 1.3862943611198906, 0.6931471805599453, 0.6931471805599453, 0.6931471805599453, 0.6931471805599453, 0.6931471805599453, 0.6931471805599453, 0.6931471805599453], \"autocolorscale\": false, \"marker\": {\"line\": {\"color\": \"rgb(255,255,255)\", \"width\": 0}}}], {\"geo\": {\"landcolor\": \"rgb(243, 243, 243)\", \"showcountries\": true, \"showland\": true, \"projection\": {\"type\": \"\"}, \"countrycolor\": \"rgb(204, 204, 204)\", \"scope\": \"world\"}, \"title\": \"Cibles des cyberattaques <br> fusion des sources : <a href=\\\"http://zone-h.org/?zh=1\\\">Zone H </a> et <a href=\\\"http://www.norse-corp.com/about-us/who-we-are/\\\">Norse\"}, {\"linkText\": \"Export to plot.ly\", \"showLink\": true})});</script>"
      ],
      "text/vnd.plotly.v1+html": [
       "<div id=\"9f7a85eb-465b-4b26-b11b-498ebbd88204\" style=\"height: 525px; width: 100%;\" class=\"plotly-graph-div\"></div><script type=\"text/javascript\">require([\"plotly\"], function(Plotly) { window.PLOTLYENV=window.PLOTLYENV || {};window.PLOTLYENV.BASE_URL=\"https://plot.ly\";Plotly.newPlot(\"9f7a85eb-465b-4b26-b11b-498ebbd88204\", [{\"colorbar\": {\"title\": \"Cyberattaques <br>\\u00e9chelle logarithmique\"}, \"colorscale\": [[0, \"#f7fbff\"], [0.25, \"#FE96A0\"], [0.45, \"#FF6F7D\"], [0.65, \"#FF6F7D\"], [0.85, \"#DB1702\"], [1, \"#D90115\"]], \"type\": \"choropleth\", \"text\": [\"united states\", \"united arab emirates\", \"spain\", \"singapore\", \"norway\", \"philippines\", \"belgium\", \"france\", \"italy\", \"saudi arabia\", \"hong kong\", \"russia\", \"thailand\", \"united kingdom\", \"cyprus\", \"germany\", \"turkey\", \"ireland\", \"portugal\", \"australia\", \"roumania\", \"iceland\", \"canada\", \"poland\", \"china\", \"mexico\", \"austria\", \"brazil\", \"south korea\", \"taiwan\", \"japan\", \"netherlands\", \"slovenia\", \"argentina\", \"india\", \"israel\", \"chile\", \"czech republic\", \"colombia\", \"indonesia\", \"bolivia\", \"egypt\", \"pakistan\", \"venezuela\", \"ukraine\", \"sweden\", \"korea\", \"armenia\", \"bulgaria\", \"switzerland\", \"bermuda\", \"finland\", \"vietnam\", \"mongolia\", \"sri lanka\", \"denmark\", \"greece\", \"republic of macedonia\", \"romania\", \"peru\", \"moldova\", \"malaysia\", \"malta\", \"serbia\", \"south africa\", \"bangladesh\", \"albania\", \"estonia\", \"kuwait\", \"lebanon\", \"oman\", \"republic of china\", \"samoa\"], \"locations\": [\"USA\", \"ARE\", \"ESP\", \"SGP\", \"NOR\", \"PHL\", \"BEL\", \"FRA\", \"ITA\", \"SAU\", \"HKG\", \"RUS\", \"THA\", \"GBR\", \"CYP\", \"DEU\", \"TUR\", \"IRL\", \"PRT\", \"AUS\", null, \"ISL\", \"CAN\", \"POL\", \"CHN\", \"MEX\", \"AUT\", \"BRA\", null, \"TWN\", \"JPN\", \"NLD\", \"SVN\", \"ARG\", \"IND\", \"ISR\", \"CHL\", \"CZE\", \"COL\", \"IDN\", \"BOL\", \"EGY\", \"PAK\", \"VEN\", \"UKR\", \"SWE\", null, \"ARM\", \"BGR\", \"CHE\", \"BMU\", \"FIN\", \"VNM\", \"MNG\", \"LKA\", \"DNK\", \"GRC\", null, \"ROU\", \"PER\", \"MDA\", \"MYS\", \"MLT\", \"SRB\", \"ZAF\", \"BGD\", \"ALB\", \"EST\", \"KWT\", \"LBN\", \"OMN\", null, \"WSM\"], \"z\": [12.057781432117892, 10.728517893131238, 9.012377119192271, 8.120886021092838, 7.9287663216266955, 7.67786350067821, 7.787796878181171, 8.739055922830724, 7.9854843567338225, 7.312553498102598, 7.795234929002173, 7.090076835776092, 7.292337176173877, 8.841881989497114, 6.6240652277998935, 8.520587424484253, 6.710523109452428, 6.633318433280377, 6.688354713946762, 7.349873704738337, 5.673323267171493, 5.225746673713202, 7.449498005382849, 7.555905093611346, 7.9748769005588755, 7.88570539124302, 6.499787040655854, 9.057888248784506, 7.9017475185201445, 7.831220214604293, 7.465082736399547, 7.404887575616125, 6.907755278982137, 6.60934924316738, 6.45833828334479, 6.369900982828227, 6.063785208687608, 5.945420608606575, 5.66988092298052, 5.66988092298052, 5.44673737166631, 5.384495062789089, 4.983606621708336, 4.6443908991413725, 4.248495242049359, 3.784189633918261, 3.784189633918261, 3.784189633918261, 3.58351893845611, 3.1780538303479458, 3.091042453358316, 2.995732273553991, 2.8903717578961645, 2.302585092994046, 2.0794415416798357, 2.0794415416798357, 1.791759469228055, 1.3862943611198906, 1.3862943611198906, 1.3862943611198906, 1.3862943611198906, 1.3862943611198906, 1.3862943611198906, 1.3862943611198906, 1.3862943611198906, 1.3862943611198906, 0.6931471805599453, 0.6931471805599453, 0.6931471805599453, 0.6931471805599453, 0.6931471805599453, 0.6931471805599453, 0.6931471805599453], \"autocolorscale\": false, \"marker\": {\"line\": {\"color\": \"rgb(255,255,255)\", \"width\": 0}}}], {\"geo\": {\"landcolor\": \"rgb(243, 243, 243)\", \"showcountries\": true, \"showland\": true, \"projection\": {\"type\": \"\"}, \"countrycolor\": \"rgb(204, 204, 204)\", \"scope\": \"world\"}, \"title\": \"Cibles des cyberattaques <br> fusion des sources : <a href=\\\"http://zone-h.org/?zh=1\\\">Zone H </a> et <a href=\\\"http://www.norse-corp.com/about-us/who-we-are/\\\">Norse\"}, {\"linkText\": \"Export to plot.ly\", \"showLink\": true})});</script>"
      ]
     },
     "metadata": {},
     "output_type": "display_data"
    }
   ],
   "source": [
    "colorscale=[[0, \"#f7fbff\"], [0.25, \"#FE96A0\"], [0.45, \"#FF6F7D\"], [0.65, \"#FF6F7D\"], [0.85, \"#DB1702\"], [1,\"#D90115\"]]\n",
    "\n",
    "data = [ dict(\n",
    "        type='choropleth',\n",
    "        colorscale = colorscale,\n",
    "        autocolorscale = False,\n",
    "        locations = df_target_norse_zone_h['CODE'],\n",
    "        z = np.log(df_target_norse_zone_h['Nb_attack']).astype(float),\n",
    "        text = df_target_norse_zone_h['country'],\n",
    "        marker = dict(\n",
    "            line = dict (\n",
    "                color = 'rgb(255,255,255)',\n",
    "                width = 0\n",
    "            ) ),\n",
    "        colorbar = dict(\n",
    "            title = \"Cyberattaques <br>échelle logarithmique\")\n",
    "        ) ]\n",
    "\n",
    " \n",
    "layout = dict(\n",
    "    title = 'Cibles des cyberattaques <br> fusion des sources : <a href=\"http://zone-h.org/?zh=1\">\\\n",
    "Zone H </a> et <a href=\"http://www.norse-corp.com/about-us/who-we-are/\">\\\n",
    "Norse',\n",
    "        \n",
    "        geo = dict(\n",
    "            scope='world',\n",
    "            projection= dict( type=''),\n",
    "            showland = True,\n",
    "            landcolor = 'rgb(243, 243, 243)',\n",
    "            countrycolor = 'rgb(204, 204, 204)',\n",
    "            showcountries = True\n",
    "        ),\n",
    "    )\n",
    "\n",
    "\n",
    "\n",
    "fig = dict( data=data, layout=layout )\n",
    "iplot(fig, filename='d3-cloropleth-map' )"
   ]
  },
  {
   "cell_type": "code",
   "execution_count": null,
   "metadata": {
    "collapsed": true
   },
   "outputs": [],
   "source": []
  }
 ],
 "metadata": {
  "kernelspec": {
   "display_name": "Python [conda root]",
   "language": "python",
   "name": "conda-root-py"
  },
  "language_info": {
   "codemirror_mode": {
    "name": "ipython",
    "version": 3
   },
   "file_extension": ".py",
   "mimetype": "text/x-python",
   "name": "python",
   "nbconvert_exporter": "python",
   "pygments_lexer": "ipython3",
   "version": "3.5.3"
  }
 },
 "nbformat": 4,
 "nbformat_minor": 2
}

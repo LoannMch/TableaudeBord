{
 "cells": [
  {
   "cell_type": "code",
   "execution_count": 429,
   "metadata": {
    "collapsed": true
   },
   "outputs": [],
   "source": [
    "import wikipedia\n",
    "import numpy as np\n",
    "import pandas as pd\n",
    "import math"
   ]
  },
  {
   "cell_type": "code",
   "execution_count": null,
   "metadata": {
    "collapsed": true
   },
   "outputs": [],
   "source": [
    "def find_town_label(company) : \n",
    "    print(company)\n",
    "    try : \n",
    "        page = wikipedia.page(company)\n",
    "    except : \n",
    "        return(np.nan, np.nan)\n",
    "    \n",
    "    matching_town = [s for s in page.categories if \"establishments in\" in s]\n",
    "    \n",
    "    if matching_town  : \n",
    "        town = matching_town[-1].split('establishments in ')[-1]\n",
    "    else : \n",
    "        matching_town = [s for s in page.categories if \"companies established in\" in s]\n",
    "        if matching_town : \n",
    "            town = matching_town[-1].split(' companies established in ')[0]\n",
    "        else : \n",
    "            town = np.nan\n",
    "            \n",
    "    matching_label = [s for s in page.categories if \"companies\" in s]\n",
    "    \n",
    "    if matching_label  : \n",
    "        label = matching_label[-1].split(' ')[0]\n",
    "    else : \n",
    "        label = np.nan\n",
    "    print(town, label)\n",
    "    return [town, label]"
   ]
  },
  {
   "cell_type": "code",
   "execution_count": 471,
   "metadata": {},
   "outputs": [
    {
     "name": "stdout",
     "output_type": "stream",
     "text": [
      "hewlettpackard\n"
     ]
    },
    {
     "data": {
      "text/plain": [
       "(nan, nan)"
      ]
     },
     "execution_count": 471,
     "metadata": {},
     "output_type": "execute_result"
    }
   ],
   "source": [
    "find_town_label('hewlettpackard')"
   ]
  },
  {
   "cell_type": "code",
   "execution_count": 1,
   "metadata": {},
   "outputs": [
    {
     "ename": "NameError",
     "evalue": "name 'pd' is not defined",
     "output_type": "error",
     "traceback": [
      "\u001b[0;31m---------------------------------------------------------------------------\u001b[0m",
      "\u001b[0;31mNameError\u001b[0m                                 Traceback (most recent call last)",
      "\u001b[0;32m<ipython-input-1-28fcf547e1cb>\u001b[0m in \u001b[0;36m<module>\u001b[0;34m()\u001b[0m\n\u001b[0;32m----> 1\u001b[0;31m \u001b[0mdata\u001b[0m \u001b[0;34m=\u001b[0m \u001b[0mpd\u001b[0m\u001b[0;34m.\u001b[0m\u001b[0mread_csv\u001b[0m\u001b[0;34m(\u001b[0m\u001b[0;34m'../data/FinalSource_Real Cases.csv'\u001b[0m\u001b[0;34m,\u001b[0m \u001b[0msep\u001b[0m\u001b[0;34m=\u001b[0m\u001b[0;34m','\u001b[0m\u001b[0;34m,\u001b[0m  \u001b[0merror_bad_lines\u001b[0m\u001b[0;34m=\u001b[0m\u001b[0;32mFalse\u001b[0m\u001b[0;34m,\u001b[0m \u001b[0mencoding\u001b[0m \u001b[0;34m=\u001b[0m \u001b[0;34m'ISO-8859-1'\u001b[0m\u001b[0;34m)\u001b[0m\u001b[0;34m\u001b[0m\u001b[0m\n\u001b[0m",
      "\u001b[0;31mNameError\u001b[0m: name 'pd' is not defined"
     ]
    }
   ],
   "source": [
    "data = pd.read_csv('data/FinalSource_Real Cases.csv', sep=',',  error_bad_lines=False, encoding = 'ISO-8859-1')"
   ]
  },
  {
   "cell_type": "code",
   "execution_count": 419,
   "metadata": {
    "collapsed": true
   },
   "outputs": [],
   "source": [
    "def extract_company(url):\n",
    "    try : \n",
    "        try : \n",
    "            company = url.split('www.')[1]\n",
    "        except : \n",
    "            company = url.split('//')[1]\n",
    "        \n",
    "        company = company.split('.')[0]\n",
    "        return company\n",
    "    except : \n",
    "        return np.nan"
   ]
  },
  {
   "cell_type": "code",
   "execution_count": 421,
   "metadata": {
    "collapsed": true
   },
   "outputs": [],
   "source": [
    "data['company'] = data['URL'].apply(extract_company)"
   ]
  },
  {
   "cell_type": "code",
   "execution_count": 422,
   "metadata": {},
   "outputs": [
    {
     "data": {
      "text/html": [
       "<div>\n",
       "<style scoped>\n",
       "    .dataframe tbody tr th:only-of-type {\n",
       "        vertical-align: middle;\n",
       "    }\n",
       "\n",
       "    .dataframe tbody tr th {\n",
       "        vertical-align: top;\n",
       "    }\n",
       "\n",
       "    .dataframe thead th {\n",
       "        text-align: right;\n",
       "    }\n",
       "</style>\n",
       "<table border=\"1\" class=\"dataframe\">\n",
       "  <thead>\n",
       "    <tr style=\"text-align: right;\">\n",
       "      <th></th>\n",
       "      <th>Date</th>\n",
       "      <th>Notify</th>\n",
       "      <th>URL</th>\n",
       "      <th>IP</th>\n",
       "      <th>Country</th>\n",
       "      <th>OS</th>\n",
       "      <th>WebServer</th>\n",
       "      <th>Encoding</th>\n",
       "      <th>Lang</th>\n",
       "      <th>company</th>\n",
       "    </tr>\n",
       "  </thead>\n",
       "  <tbody>\n",
       "    <tr>\n",
       "      <th>0</th>\n",
       "      <td>1998-01-02</td>\n",
       "      <td>Team CodeZero</td>\n",
       "      <td>http://www.janet-jackson.com</td>\n",
       "      <td>NaN</td>\n",
       "      <td>UNKNOWN</td>\n",
       "      <td>Unknown</td>\n",
       "      <td>Unknown</td>\n",
       "      <td>utf-8</td>\n",
       "      <td>NaN</td>\n",
       "      <td>janet-jackson</td>\n",
       "    </tr>\n",
       "    <tr>\n",
       "      <th>1</th>\n",
       "      <td>1998-01-03</td>\n",
       "      <td>Feliz</td>\n",
       "      <td>http://cariari.ucr.ac.cr</td>\n",
       "      <td>NaN</td>\n",
       "      <td>COSTARICA</td>\n",
       "      <td>Unknown</td>\n",
       "      <td>Unknown</td>\n",
       "      <td>NaN</td>\n",
       "      <td>NaN</td>\n",
       "      <td>cariari</td>\n",
       "    </tr>\n",
       "    <tr>\n",
       "      <th>2</th>\n",
       "      <td>1998-01-04</td>\n",
       "      <td>Optiklenz(LOU)</td>\n",
       "      <td>http://marin.k12.ca.us</td>\n",
       "      <td>NaN</td>\n",
       "      <td>UNITED STATES</td>\n",
       "      <td>Unknown</td>\n",
       "      <td>Unknown</td>\n",
       "      <td>iso-8859-1</td>\n",
       "      <td>Helvetica</td>\n",
       "      <td>marin</td>\n",
       "    </tr>\n",
       "    <tr>\n",
       "      <th>3</th>\n",
       "      <td>1998-01-04</td>\n",
       "      <td>Team CodeZero</td>\n",
       "      <td>http://www.dm.af.mil</td>\n",
       "      <td>NaN</td>\n",
       "      <td>AFGHANISTAN</td>\n",
       "      <td>Unknown</td>\n",
       "      <td>Unknown</td>\n",
       "      <td>utf-8</td>\n",
       "      <td>NaN</td>\n",
       "      <td>dm</td>\n",
       "    </tr>\n",
       "    <tr>\n",
       "      <th>4</th>\n",
       "      <td>1998-01-04</td>\n",
       "      <td>Team CodeZero</td>\n",
       "      <td>http://www.bolling.af.mil</td>\n",
       "      <td>NaN</td>\n",
       "      <td>AFGHANISTAN</td>\n",
       "      <td>Unknown</td>\n",
       "      <td>Unknown</td>\n",
       "      <td>windows-1252</td>\n",
       "      <td>Times New Roman</td>\n",
       "      <td>bolling</td>\n",
       "    </tr>\n",
       "  </tbody>\n",
       "</table>\n",
       "</div>"
      ],
      "text/plain": [
       "         Date          Notify                           URL   IP  \\\n",
       "0  1998-01-02   Team CodeZero  http://www.janet-jackson.com  NaN   \n",
       "1  1998-01-03           Feliz      http://cariari.ucr.ac.cr  NaN   \n",
       "2  1998-01-04  Optiklenz(LOU)        http://marin.k12.ca.us  NaN   \n",
       "3  1998-01-04   Team CodeZero          http://www.dm.af.mil  NaN   \n",
       "4  1998-01-04   Team CodeZero     http://www.bolling.af.mil  NaN   \n",
       "\n",
       "         Country       OS WebServer      Encoding             Lang  \\\n",
       "0        UNKNOWN  Unknown   Unknown         utf-8              NaN   \n",
       "1      COSTARICA  Unknown   Unknown           NaN              NaN   \n",
       "2  UNITED STATES  Unknown   Unknown    iso-8859-1        Helvetica   \n",
       "3    AFGHANISTAN  Unknown   Unknown         utf-8              NaN   \n",
       "4    AFGHANISTAN  Unknown   Unknown  windows-1252  Times New Roman   \n",
       "\n",
       "         company  \n",
       "0  janet-jackson  \n",
       "1        cariari  \n",
       "2          marin  \n",
       "3             dm  \n",
       "4        bolling  "
      ]
     },
     "execution_count": 422,
     "metadata": {},
     "output_type": "execute_result"
    }
   ],
   "source": [
    "data.head()"
   ]
  },
  {
   "cell_type": "code",
   "execution_count": 463,
   "metadata": {},
   "outputs": [
    {
     "name": "stdout",
     "output_type": "stream",
     "text": [
      "janet-jackson\n",
      "cariari\n",
      "marin\n"
     ]
    },
    {
     "name": "stderr",
     "output_type": "stream",
     "text": [
      "/Users/raphael/anaconda/lib/python3.5/site-packages/bs4/__init__.py:181: UserWarning: No parser was explicitly specified, so I'm using the best available HTML parser for this system (\"lxml\"). This usually isn't a problem, but if you run this code on another system, or in a different virtual environment, it may use a different parser and behave differently.\n",
      "\n",
      "The code that caused this warning is on line 193 of the file /Users/raphael/anaconda/lib/python3.5/runpy.py. To get rid of this warning, change code that looks like this:\n",
      "\n",
      " BeautifulSoup(YOUR_MARKUP})\n",
      "\n",
      "to this:\n",
      "\n",
      " BeautifulSoup(YOUR_MARKUP, \"lxml\")\n",
      "\n",
      "  markup_type=markup_type))\n"
     ]
    },
    {
     "name": "stdout",
     "output_type": "stream",
     "text": [
      "dm\n",
      "bolling\n",
      "hope\n",
      "nic\n",
      "tamu-commerce\n",
      "pr0n\n",
      "unicef\n",
      "wvlc\n",
      "trsystems\n",
      "webbnet\n",
      "easysoftware\n",
      "itp\n",
      "emergent\n",
      "thebuzz\n",
      "kvtc\n",
      "njcool\n",
      "kalnet\n",
      "jrc\n",
      "legislate\n",
      "kleiber\n",
      "chem\n",
      "hartnet\n",
      "datapark\n",
      "resopal\n",
      "connectos\n",
      "stat-usa\n",
      "koreamls\n",
      "leonardodicaprio\n",
      "michaelpowles\n",
      "fantasyfootball\n",
      "leje\n",
      "dencom\n",
      "intelliprise\n",
      "aps-plc\n",
      "tugmanufacturing\n",
      "dyervolvo\n",
      "rtnielson\n",
      "cartoon\n",
      "barc\n",
      "nyt\n",
      "slashdot\n",
      "sanpedro\n",
      "jackdaniels\n",
      "kernkraftwerk\n",
      "cartoon-network\n",
      "hptesla\n",
      "collinsoftware\n"
     ]
    },
    {
     "data": {
      "text/plain": [
       "0                  [nan, nan]\n",
       "1                  [nan, nan]\n",
       "2                  (nan, nan)\n",
       "3                  (nan, nan)\n",
       "4                  (nan, nan)\n",
       "5                  [nan, nan]\n",
       "6                  (nan, nan)\n",
       "7                [Texas, nan]\n",
       "8                  [nan, nan]\n",
       "9     [New York (state), nan]\n",
       "10                 [nan, nan]\n",
       "11                 (nan, nan)\n",
       "12                 (nan, nan)\n",
       "13                 (nan, nan)\n",
       "14                 (nan, nan)\n",
       "15                 (nan, nan)\n",
       "16                 (nan, nan)\n",
       "17                 [nan, nan]\n",
       "18                 (nan, nan)\n",
       "19                 (nan, nan)\n",
       "20                 (nan, nan)\n",
       "21                 [nan, nan]\n",
       "22                 [nan, nan]\n",
       "23                 (nan, nan)\n",
       "24                 (nan, nan)\n",
       "25                 [nan, nan]\n",
       "26                 (nan, nan)\n",
       "27                 (nan, nan)\n",
       "28                 (nan, nan)\n",
       "29                 [nan, nan]\n",
       "30                 [nan, nan]\n",
       "31                 (nan, nan)\n",
       "32                 (nan, nan)\n",
       "33                 [nan, nan]\n",
       "34                 (nan, nan)\n",
       "35                 (nan, nan)\n",
       "36               [Malta, nan]\n",
       "37                 (nan, nan)\n",
       "38                 (nan, nan)\n",
       "39                 (nan, nan)\n",
       "40                 [nan, nan]\n",
       "41                 (nan, nan)\n",
       "42                 (nan, nan)\n",
       "43                 [nan, nan]\n",
       "44                 (nan, nan)\n",
       "45                 [nan, nan]\n",
       "46                 [nan, nan]\n",
       "47       [American, American]\n",
       "48                 (nan, nan)\n",
       "49                 (nan, nan)\n",
       "Name: company, dtype: object"
      ]
     },
     "execution_count": 463,
     "metadata": {},
     "output_type": "execute_result"
    }
   ],
   "source": [
    "data[0:50]['company'].apply(find_town_label)"
   ]
  },
  {
   "cell_type": "code",
   "execution_count": 456,
   "metadata": {
    "collapsed": true
   },
   "outputs": [],
   "source": [
    "import requests\n",
    "import bs4\n",
    "\n",
    "def celine(company) : \n",
    "\n",
    "    req = requests.get('https://en.wikipedia.org/wiki/' + company)\n",
    "    data = req.text\n",
    "    soup = bs4.BeautifulSoup(data, \"lxml\")\n",
    "    ii = 0\n",
    "    balises_b = soup.find_all('b')\n",
    "    page_ok = True\n",
    "    while ii < len(soup.find_all('b')) and page_ok:\n",
    "        if balises_b[ii].get_text() == 'Wikipedia does not have an article with this exact name.':\n",
    "            page_ok = False\n",
    "            print(\"La page n'existe pas\")\n",
    "        else:\n",
    "            ii += 1\n",
    "    if page_ok:\n",
    "        print(company)\n",
    "        if soup.find('table', attrs={'class': 'infobox vcard'}) : \n",
    "            try : \n",
    "                infobox = soup.find('table', attrs={'class': 'infobox vcard'}).get_text()\n",
    "            except : \n",
    "                #print(soup.find('table', attrs={'class': 'infobox vcard'}))\n",
    "                return(np.nan)\n",
    "            \n",
    "            tab = infobox.split()\n",
    "            pays = np.nan\n",
    "            for balise_th in soup.find_all('th', attrs={'style': \"padding-right:0.5em;\"}):\n",
    "                if balise_th.get_text() == 'Headquarters':\n",
    "                    pays = balise_th.parent.find('td').get_text().split(', ')[-1]\n",
    "                    \n",
    "\n",
    "            #if tab.index('Industry'):\n",
    "            try : \n",
    "                type_Industry = tab[tab.index('Industry')+1]\n",
    "            #else:\n",
    "            except : \n",
    "                type_Industry = np.nan\n",
    "        else:\n",
    "            pays = np.nan\n",
    "            type_Industry = np.nan\n",
    "    \n",
    "        return(pays, type_Industry)"
   ]
  },
  {
   "cell_type": "code",
   "execution_count": 458,
   "metadata": {},
   "outputs": [
    {
     "name": "stdout",
     "output_type": "stream",
     "text": [
      "La page n'existe pas\n",
      "La page n'existe pas\n",
      "marin\n",
      "dm\n",
      "bolling\n",
      "hope\n",
      "nic\n",
      "La page n'existe pas\n",
      "pr0n\n",
      "unicef\n",
      "La page n'existe pas\n",
      "La page n'existe pas\n",
      "La page n'existe pas\n",
      "La page n'existe pas\n",
      "La page n'existe pas\n",
      "emergent\n",
      "La page n'existe pas\n",
      "La page n'existe pas\n",
      "La page n'existe pas\n",
      "La page n'existe pas\n",
      "jrc\n",
      "legislate\n",
      "kleiber\n",
      "chem\n",
      "La page n'existe pas\n",
      "La page n'existe pas\n",
      "La page n'existe pas\n",
      "La page n'existe pas\n",
      "La page n'existe pas\n",
      "La page n'existe pas\n",
      "La page n'existe pas\n",
      "La page n'existe pas\n",
      "La page n'existe pas\n",
      "La page n'existe pas\n",
      "La page n'existe pas\n",
      "La page n'existe pas\n",
      "La page n'existe pas\n",
      "La page n'existe pas\n",
      "La page n'existe pas\n",
      "La page n'existe pas\n",
      "cartoon\n",
      "barc\n",
      "nyt\n",
      "slashdot\n",
      "La page n'existe pas\n",
      "La page n'existe pas\n",
      "La page n'existe pas\n",
      "La page n'existe pas\n",
      "La page n'existe pas\n",
      "La page n'existe pas\n"
     ]
    },
    {
     "data": {
      "text/plain": [
       "0           None\n",
       "1           None\n",
       "2     (nan, nan)\n",
       "3     (nan, nan)\n",
       "4     (nan, nan)\n",
       "5     (nan, nan)\n",
       "6     (nan, nan)\n",
       "7           None\n",
       "8     (nan, nan)\n",
       "9     (nan, nan)\n",
       "10          None\n",
       "11          None\n",
       "12          None\n",
       "13          None\n",
       "14          None\n",
       "15    (nan, nan)\n",
       "16          None\n",
       "17          None\n",
       "18          None\n",
       "19          None\n",
       "20    (nan, nan)\n",
       "21    (nan, nan)\n",
       "22    (nan, nan)\n",
       "23    (nan, nan)\n",
       "24          None\n",
       "25          None\n",
       "26          None\n",
       "27          None\n",
       "28          None\n",
       "29          None\n",
       "30          None\n",
       "31          None\n",
       "32          None\n",
       "33          None\n",
       "34          None\n",
       "35          None\n",
       "36          None\n",
       "37          None\n",
       "38          None\n",
       "39          None\n",
       "40    (nan, nan)\n",
       "41    (nan, nan)\n",
       "42    (nan, nan)\n",
       "43    (nan, nan)\n",
       "44          None\n",
       "45          None\n",
       "46          None\n",
       "47          None\n",
       "48          None\n",
       "49          None\n",
       "Name: company, dtype: object"
      ]
     },
     "execution_count": 458,
     "metadata": {},
     "output_type": "execute_result"
    }
   ],
   "source": [
    "data[0:50]['company'].apply(celine)"
   ]
  },
  {
   "cell_type": "code",
   "execution_count": null,
   "metadata": {
    "collapsed": true
   },
   "outputs": [],
   "source": []
  }
 ],
 "metadata": {
  "kernelspec": {
   "display_name": "Python [conda root]",
   "language": "python",
   "name": "conda-root-py"
  },
  "language_info": {
   "codemirror_mode": {
    "name": "ipython",
    "version": 3
   },
   "file_extension": ".py",
   "mimetype": "text/x-python",
   "name": "python",
   "nbconvert_exporter": "python",
   "pygments_lexer": "ipython3",
   "version": "3.5.3"
  }
 },
 "nbformat": 4,
 "nbformat_minor": 2
}

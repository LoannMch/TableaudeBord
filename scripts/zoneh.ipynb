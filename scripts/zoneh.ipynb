{
 "cells": [
  {
   "cell_type": "code",
   "execution_count": 68,
   "metadata": {},
   "outputs": [],
   "source": [
    "import scrapy\n",
    "from scrapy_splash import SplashRequest\n",
    "\n",
    "\n",
    "class IeeeSpider(scrapy.Spider):\n",
    "    name = 'ieee'\n",
    "    # paramètrage pour faire le lien avec le serveur Splash local\n",
    "    custom_settings = {\n",
    "        'SPLASH_URL': 'http://localhost:8050',\n",
    "        'DOWNLOADER_MIDDLEWARES': {\n",
    "            'scrapy_splash.SplashCookiesMiddleware': 723,\n",
    "            'scrapy_splash.SplashMiddleware': 725,\n",
    "            'scrapy.downloadermiddlewares.httpcompression.HttpCompressionMiddleware': 810,\n",
    "        },\n",
    "        'SPIDER_MIDDLEWARES': {\n",
    "            'scrapy_splash.SplashDeduplicateArgsMiddleware': 100,\n",
    "        },\n",
    "        'DUPEFILTER_CLASS': 'scrapy_splash.SplashAwareDupeFilter',\n",
    "    }\n",
    "\n",
    "    def start_requests(self):\n",
    "        yield SplashRequest(\n",
    "            url='http://www.zone-h.org/archive/special=1/page=31',\n",
    "            callback=self.parse,\n",
    "        )\n",
    "\n",
    "    def parse(self, response):\n",
    "        print('########################################################################################################################')\n",
    "        print('########################################################################################################################')\n",
    "        #> div > span.ng-binding.ng-scope > a.ng-binding\n",
    "        # [string(/strong[contains(., \"IEEE Keywords\")])]\n",
    "        # print(response.xpath('string(//strong[contains(., \"IEEE Keywords\")])').extract())\n",
    "\n",
    "        yield {\n",
    "        # div.stats-keywords-container.ng-scope >\n",
    "            'test': response.css('div.ng-scope.doc-ft-extra-padded > section.ng-isolate-scope > div.ng-scope > section.document-all-keywords.ng-scope > h2.document-ft-section-header::text').extract(),\n",
    "            'mots-cles': response.css('div.stats-keywords-container.ng-scope > ul.doc-all-keywords-list > li.doc-all-keywords-list-item.ng-scope > strong.ng-binding::text').extract(),\n",
    "            'titre': response.css('h1.document-title > span.ng-binding::text').extract_first(),\n",
    "            'auteurs': response.css('div.pure-u-18-24 > div > a > span.ng-binding::text').extract(),\n",
    "            'url': response.url,\n",
    "            'date': response.css('div.u-pb-1.doc-abstract-confdate.ng-binding.ng-scope::text').extract()[2],\n",
    "            'nb-vues': response.css('div.document-banner-metric-count.ng-binding::text').extract()[1],\n",
    "            'resume': response.css('div.abstract-text.ng-binding::text').extract_first(),\n",
    "        }\n"
   ]
  },
  {
   "cell_type": "code",
   "execution_count": 69,
   "metadata": {},
   "outputs": [],
   "source": [
    "scrapper = IeeeSpider(scrapy.Spider)"
   ]
  },
  {
   "cell_type": "code",
   "execution_count": 71,
   "metadata": {},
   "outputs": [
    {
     "data": {
      "text/plain": [
       "<IeeeSpider <class 'scrapy.spiders.Spider'> at 0x111d21908>"
      ]
     },
     "execution_count": 71,
     "metadata": {},
     "output_type": "execute_result"
    }
   ],
   "source": [
    "scrapper"
   ]
  },
  {
   "cell_type": "code",
   "execution_count": null,
   "metadata": {
    "collapsed": true
   },
   "outputs": [],
   "source": []
  }
 ],
 "metadata": {
  "kernelspec": {
   "display_name": "Python [conda root]",
   "language": "python",
   "name": "conda-root-py"
  },
  "language_info": {
   "codemirror_mode": {
    "name": "ipython",
    "version": 3
   },
   "file_extension": ".py",
   "mimetype": "text/x-python",
   "name": "python",
   "nbconvert_exporter": "python",
   "pygments_lexer": "ipython3",
   "version": "3.5.3"
  }
 },
 "nbformat": 4,
 "nbformat_minor": 2
}

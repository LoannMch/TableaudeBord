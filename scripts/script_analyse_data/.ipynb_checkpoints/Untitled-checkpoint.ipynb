{
 "cells": [
  {
   "cell_type": "code",
   "execution_count": 51,
   "metadata": {},
   "outputs": [],
   "source": [
    "import pandas as pd\n",
    "import os\n",
    "import glob\n",
    "import datetime\n",
    "import pyodbc"
   ]
  },
  {
   "cell_type": "code",
   "execution_count": 52,
   "metadata": {},
   "outputs": [],
   "source": [
    "df = pd.read_csv('./../../data/myData103000_104000.csv', low_memory=False)"
   ]
  },
  {
   "cell_type": "code",
   "execution_count": 53,
   "metadata": {
    "collapsed": true
   },
   "outputs": [],
   "source": [
    "def call_procedure(con, data, file_name, mapping_country):\n",
    "    data['Date'] = pd.to_datetime(data['Date'])\n",
    "    data['Date'] = data['Date'].apply(lambda x : update_date(x))\n",
    "\n",
    "    data['Notify'] = data['Notify'].apply(lambda x : x.lower() if x == x else x)\n",
    "    data['Country'] = data['Country'].apply(lambda x : x.lower() if x == x else x)\n",
    "\n",
    "    data.apply(procedure_insert, axis = 'columns')"
   ]
  },
  {
   "cell_type": "code",
   "execution_count": 54,
   "metadata": {},
   "outputs": [],
   "source": [
    "def update_date(x):\n",
    "    return('{:02d}-{:02d}-{} {:02d}:{:02d}:{:02d}'.format(x.day, x.month, x.year, x.hour, x.minute, x.second))"
   ]
  },
  {
   "cell_type": "code",
   "execution_count": 55,
   "metadata": {
    "collapsed": true
   },
   "outputs": [],
   "source": [
    "def procedure_insert(row):\n",
    "    sql = 'exec InsertDataFromNorse @type_attack=\\''+row['attack_type']+'\\',@target_country=\\''+row['target_country']+'\\',@target_town=\\''+row['target_town']+'\\',@attacker_town=\\''+row['attacker_town']+'\\',@attacker_country=\\''+row['attacker_country']+'\\',@attacker=\\''+row['attacker']+'\\',@date=\\''+row['date']+'\\''\n",
    "    cursor = con.cursor()\n",
    "    cursor.execute(sql)\n",
    "    cursor.commit()"
   ]
  },
  {
   "cell_type": "code",
   "execution_count": 56,
   "metadata": {},
   "outputs": [
    {
     "ename": "Error",
     "evalue": "('01000', \"[01000] [unixODBC][Driver Manager]Can't open lib 'SQL Server' : file not found (0) (SQLDriverConnect)\")",
     "output_type": "error",
     "traceback": [
      "\u001b[0;31m---------------------------------------------------------------------------\u001b[0m",
      "\u001b[0;31mError\u001b[0m                                     Traceback (most recent call last)",
      "\u001b[0;32m<ipython-input-56-5d1f998b0a02>\u001b[0m in \u001b[0;36m<module>\u001b[0;34m()\u001b[0m\n\u001b[0;32m----> 1\u001b[0;31m con = pyodbc.connect(\"Driver={SQL Server};\"\n\u001b[0m\u001b[1;32m      2\u001b[0m                         \u001b[0;34m\"Server=LAPTOP-4H4QSG7A\\SQLEXPRESS;\"\u001b[0m\u001b[0;34m\u001b[0m\u001b[0m\n\u001b[1;32m      3\u001b[0m                         \u001b[0;34m\"Database=master;\"\u001b[0m\u001b[0;34m\u001b[0m\u001b[0m\n\u001b[1;32m      4\u001b[0m                         \"Trusted_Connection=yes;\")\n",
      "\u001b[0;31mError\u001b[0m: ('01000', \"[01000] [unixODBC][Driver Manager]Can't open lib 'SQL Server' : file not found (0) (SQLDriverConnect)\")"
     ]
    }
   ],
   "source": [
    "con = pyodbc.connect(\"Driver={SQL Server};\"\n",
    "                        \"Server=LAPTOP-4H4QSG7A\\SQLEXPRESS;\"\n",
    "                        \"Database=master;\"\n",
    "                        \"Trusted_Connection=yes;\")"
   ]
  },
  {
   "cell_type": "code",
   "execution_count": 57,
   "metadata": {
    "collapsed": true
   },
   "outputs": [],
   "source": [
    "cwd = os.getcwd()\n",
    "list_file = glob.glob(\"./../../data/*.csv\".format(cwd))\n",
    "\n",
    "for file in list_file : \n",
    "    file_name = file.split('/')[-1].split('.csv')[0]\n",
    "    with open(file) as json_data:\n",
    "        data = json.load(json_data)\n",
    "        call_procedure(con, data, file_name, mapping_country)\n",
    "\n",
    "    print('File analyzed : {}'.format(file_name))"
   ]
  },
  {
   "cell_type": "code",
   "execution_count": 68,
   "metadata": {
    "collapsed": true
   },
   "outputs": [],
   "source": [
    "cwd = os.getcwd()\n",
    "list_file = glob.glob(\"./../data/*0.csv\".format(cwd))\n"
   ]
  },
  {
   "cell_type": "code",
   "execution_count": 64,
   "metadata": {},
   "outputs": [],
   "source": [
    "for file in list_file : \n",
    "    file_name = file.split('/')[-1].split('.csv')[0]"
   ]
  },
  {
   "cell_type": "code",
   "execution_count": 65,
   "metadata": {},
   "outputs": [
    {
     "data": {
      "text/plain": [
       "['./../../data/myData143000_144000.csv',\n",
       " './../../data/myData110000_111000.csv',\n",
       " './../../data/myData79000.csv',\n",
       " './../../data/myData150000_208000.csv',\n",
       " './../../data/myData103000_104000.csv',\n",
       " './../../data/myData123000_124000.csv',\n",
       " './../../data/myData98000_99000.csv',\n",
       " './../../data/myData150000_151000.csv',\n",
       " './../../data/myData94000_95000.csv']"
      ]
     },
     "execution_count": 65,
     "metadata": {},
     "output_type": "execute_result"
    }
   ],
   "source": [
    "list_file"
   ]
  },
  {
   "cell_type": "code",
   "execution_count": 66,
   "metadata": {},
   "outputs": [
    {
     "data": {
      "text/plain": [
       "(212093, 12)"
      ]
     },
     "execution_count": 66,
     "metadata": {},
     "output_type": "execute_result"
    }
   ],
   "source": [
    "df.shape"
   ]
  },
  {
   "cell_type": "code",
   "execution_count": 71,
   "metadata": {},
   "outputs": [
    {
     "data": {
      "text/plain": [
       "0         False\n",
       "1         False\n",
       "2         False\n",
       "3         False\n",
       "4         False\n",
       "5         False\n",
       "6         False\n",
       "7         False\n",
       "8         False\n",
       "9         False\n",
       "10        False\n",
       "11        False\n",
       "12        False\n",
       "13        False\n",
       "14        False\n",
       "15        False\n",
       "16        False\n",
       "17        False\n",
       "18        False\n",
       "19        False\n",
       "20        False\n",
       "21        False\n",
       "22        False\n",
       "23        False\n",
       "24        False\n",
       "25        False\n",
       "26        False\n",
       "27        False\n",
       "28        False\n",
       "29        False\n",
       "          ...  \n",
       "212063    False\n",
       "212064    False\n",
       "212065    False\n",
       "212066    False\n",
       "212067    False\n",
       "212068    False\n",
       "212069    False\n",
       "212070    False\n",
       "212071    False\n",
       "212072    False\n",
       "212073    False\n",
       "212074    False\n",
       "212075    False\n",
       "212076    False\n",
       "212077    False\n",
       "212078    False\n",
       "212079    False\n",
       "212080    False\n",
       "212081    False\n",
       "212082    False\n",
       "212083    False\n",
       "212084    False\n",
       "212085    False\n",
       "212086    False\n",
       "212087    False\n",
       "212088    False\n",
       "212089    False\n",
       "212090    False\n",
       "212091    False\n",
       "212092    False\n",
       "Name: retrieveIndustry, Length: 212093, dtype: bool"
      ]
     },
     "execution_count": 71,
     "metadata": {},
     "output_type": "execute_result"
    }
   ],
   "source": [
    "df['famous'] = df['retrieveIndustry'].apply(lambda x : x==x)"
   ]
  },
  {
   "cell_type": "code",
   "execution_count": null,
   "metadata": {
    "collapsed": true
   },
   "outputs": [],
   "source": []
  }
 ],
 "metadata": {
  "kernelspec": {
   "display_name": "Python [conda root]",
   "language": "python",
   "name": "conda-root-py"
  },
  "language_info": {
   "codemirror_mode": {
    "name": "ipython",
    "version": 3
   },
   "file_extension": ".py",
   "mimetype": "text/x-python",
   "name": "python",
   "nbconvert_exporter": "python",
   "pygments_lexer": "ipython3",
   "version": "3.5.3"
  }
 },
 "nbformat": 4,
 "nbformat_minor": 2
}

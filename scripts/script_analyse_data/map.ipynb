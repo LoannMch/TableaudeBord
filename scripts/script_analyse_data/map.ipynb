{
 "cells": [
  {
   "cell_type": "code",
   "execution_count": 34,
   "metadata": {},
   "outputs": [],
   "source": [
    "import pandas as pd\n",
    "import numpy as np\n",
    "import math\n",
    "from geopy.geocoders import Nominatim\n",
    "from plotly import __version__\n",
    "from plotly.offline import download_plotlyjs, init_notebook_mode, plot, iplot\n",
    "import plotly.graph_objs as go"
   ]
  },
  {
   "cell_type": "markdown",
   "metadata": {},
   "source": [
    "### Map monde, sympa pour l'oral, remplacer 'equirectangular' par 'orthographic'"
   ]
  },
  {
   "cell_type": "code",
   "execution_count": 35,
   "metadata": {},
   "outputs": [
    {
     "data": {
      "text/html": [
       "<script>requirejs.config({paths: { 'plotly': ['https://cdn.plot.ly/plotly-latest.min']},});if(!window.Plotly) {{require(['plotly'],function(plotly) {window.Plotly=plotly;});}}</script>"
      ],
      "text/vnd.plotly.v1+html": [
       "<script>requirejs.config({paths: { 'plotly': ['https://cdn.plot.ly/plotly-latest.min']},});if(!window.Plotly) {{require(['plotly'],function(plotly) {window.Plotly=plotly;});}}</script>"
      ]
     },
     "metadata": {},
     "output_type": "display_data"
    }
   ],
   "source": [
    "#Plotly with jupyter offline : \n",
    "init_notebook_mode(connected=True)"
   ]
  },
  {
   "cell_type": "code",
   "execution_count": 36,
   "metadata": {
    "collapsed": true
   },
   "outputs": [],
   "source": [
    "df = pd.read_csv('map.csv', index_col=0, names = ['nb_attack', 'target', 'attacker'], header = 0)"
   ]
  },
  {
   "cell_type": "code",
   "execution_count": 37,
   "metadata": {},
   "outputs": [
    {
     "data": {
      "text/html": [
       "<div>\n",
       "<style scoped>\n",
       "    .dataframe tbody tr th:only-of-type {\n",
       "        vertical-align: middle;\n",
       "    }\n",
       "\n",
       "    .dataframe tbody tr th {\n",
       "        vertical-align: top;\n",
       "    }\n",
       "\n",
       "    .dataframe thead th {\n",
       "        text-align: right;\n",
       "    }\n",
       "</style>\n",
       "<table border=\"1\" class=\"dataframe\">\n",
       "  <thead>\n",
       "    <tr style=\"text-align: right;\">\n",
       "      <th></th>\n",
       "      <th>nb_attack</th>\n",
       "      <th>target</th>\n",
       "      <th>attacker</th>\n",
       "    </tr>\n",
       "  </thead>\n",
       "  <tbody>\n",
       "    <tr>\n",
       "      <th>0</th>\n",
       "      <td>92157</td>\n",
       "      <td>united states</td>\n",
       "      <td>united states</td>\n",
       "    </tr>\n",
       "    <tr>\n",
       "      <th>1</th>\n",
       "      <td>26877</td>\n",
       "      <td>united arab emirates</td>\n",
       "      <td>china</td>\n",
       "    </tr>\n",
       "    <tr>\n",
       "      <th>2</th>\n",
       "      <td>13059</td>\n",
       "      <td>united states</td>\n",
       "      <td>china</td>\n",
       "    </tr>\n",
       "    <tr>\n",
       "      <th>3</th>\n",
       "      <td>6424</td>\n",
       "      <td>united states</td>\n",
       "      <td>ukraine</td>\n",
       "    </tr>\n",
       "    <tr>\n",
       "      <th>4</th>\n",
       "      <td>5202</td>\n",
       "      <td>united arab emirates</td>\n",
       "      <td>netherlands</td>\n",
       "    </tr>\n",
       "  </tbody>\n",
       "</table>\n",
       "</div>"
      ],
      "text/plain": [
       "   nb_attack                target       attacker\n",
       "0      92157         united states  united states\n",
       "1      26877  united arab emirates          china\n",
       "2      13059         united states          china\n",
       "3       6424         united states        ukraine\n",
       "4       5202  united arab emirates    netherlands"
      ]
     },
     "execution_count": 37,
     "metadata": {},
     "output_type": "execute_result"
    }
   ],
   "source": [
    "df.head()"
   ]
  },
  {
   "cell_type": "code",
   "execution_count": 38,
   "metadata": {
    "collapsed": true
   },
   "outputs": [],
   "source": [
    "df_country = pd.DataFrame(list(set(list(df['attacker'].unique()) + list(df['target'].unique()))), columns = ['country'] )"
   ]
  },
  {
   "cell_type": "code",
   "execution_count": 39,
   "metadata": {
    "collapsed": true
   },
   "outputs": [],
   "source": [
    "geolocator = Nominatim()\n",
    "df_country['lattitude_longitude'] = df_country['country'].apply(lambda x : geolocator.geocode(x,  timeout=10)[1])"
   ]
  },
  {
   "cell_type": "code",
   "execution_count": 40,
   "metadata": {
    "collapsed": true
   },
   "outputs": [],
   "source": [
    "# Geolocator is wrong for united arabe emirates \n",
    "df_country['lattitude_longitude'] = df_country.apply(lambda x : (25.61552, 55.84951) if x['country'] == 'united arab emirates' else x['lattitude_longitude'], axis = 'columns')\n",
    "df_country['lattitude_longitude'] = df_country.apply(lambda x : (39.904211, 116.407395) if x['country'] == 'china' else x['lattitude_longitude'], axis = 'columns')\n",
    "df_country['lattitude_longitude'] = df_country.apply(lambda x : (37.566535, 126.9779692) if x['country'] == 'south korea' else x['lattitude_longitude'], axis = 'columns') \n",
    "df_country['lattitude_longitude'] = df_country.apply(lambda x : (51.3030, 0.0732) if x['country'] == 'united kingdom' else x['lattitude_longitude'], axis = 'columns') \n",
    "df_country['lattitude_longitude'] = df_country.apply(lambda x : (40.18658704808404, 44.78151767883003) if x['country'] == 'armenia' else x['lattitude_longitude'], axis = 'columns') "
   ]
  },
  {
   "cell_type": "code",
   "execution_count": 41,
   "metadata": {
    "collapsed": true
   },
   "outputs": [],
   "source": [
    "df_country['latitude_attacker'] = df_country['lattitude_longitude'].apply(lambda x : x[0])\n",
    "df_country['longitude_attacker'] = df_country['lattitude_longitude'].apply(lambda x : x[1])\n",
    "df_country['attacker'] = df_country['country']\n",
    "df_country = df_country.drop(['lattitude_longitude', 'country'], axis = 'columns')"
   ]
  },
  {
   "cell_type": "code",
   "execution_count": 42,
   "metadata": {
    "collapsed": true
   },
   "outputs": [],
   "source": [
    "df = pd.merge(df, df_country, how = 'left', on = ['attacker'])"
   ]
  },
  {
   "cell_type": "code",
   "execution_count": 43,
   "metadata": {
    "collapsed": true
   },
   "outputs": [],
   "source": [
    "df_country['latitude_target'] = df_country['latitude_attacker']\n",
    "df_country['longitude_target'] = df_country['longitude_attacker']\n",
    "df_country['target'] = df_country['attacker']\n",
    "df_country = df_country.drop(['longitude_attacker', 'attacker', 'latitude_attacker'], axis = 'columns')"
   ]
  },
  {
   "cell_type": "code",
   "execution_count": 44,
   "metadata": {
    "collapsed": true
   },
   "outputs": [],
   "source": [
    "df = pd.merge(df, df_country, how = 'left', on = ['target'])"
   ]
  },
  {
   "cell_type": "code",
   "execution_count": 45,
   "metadata": {},
   "outputs": [
    {
     "data": {
      "text/html": [
       "<div>\n",
       "<style scoped>\n",
       "    .dataframe tbody tr th:only-of-type {\n",
       "        vertical-align: middle;\n",
       "    }\n",
       "\n",
       "    .dataframe tbody tr th {\n",
       "        vertical-align: top;\n",
       "    }\n",
       "\n",
       "    .dataframe thead th {\n",
       "        text-align: right;\n",
       "    }\n",
       "</style>\n",
       "<table border=\"1\" class=\"dataframe\">\n",
       "  <thead>\n",
       "    <tr style=\"text-align: right;\">\n",
       "      <th></th>\n",
       "      <th>nb_attack</th>\n",
       "      <th>target</th>\n",
       "      <th>attacker</th>\n",
       "      <th>latitude_attacker</th>\n",
       "      <th>longitude_attacker</th>\n",
       "      <th>latitude_target</th>\n",
       "      <th>longitude_target</th>\n",
       "    </tr>\n",
       "  </thead>\n",
       "  <tbody>\n",
       "    <tr>\n",
       "      <th>0</th>\n",
       "      <td>92157</td>\n",
       "      <td>united states</td>\n",
       "      <td>united states</td>\n",
       "      <td>39.783730</td>\n",
       "      <td>-100.445882</td>\n",
       "      <td>39.78373</td>\n",
       "      <td>-100.445882</td>\n",
       "    </tr>\n",
       "    <tr>\n",
       "      <th>1</th>\n",
       "      <td>26877</td>\n",
       "      <td>united arab emirates</td>\n",
       "      <td>china</td>\n",
       "      <td>39.904211</td>\n",
       "      <td>116.407395</td>\n",
       "      <td>25.61552</td>\n",
       "      <td>55.849510</td>\n",
       "    </tr>\n",
       "    <tr>\n",
       "      <th>2</th>\n",
       "      <td>13059</td>\n",
       "      <td>united states</td>\n",
       "      <td>china</td>\n",
       "      <td>39.904211</td>\n",
       "      <td>116.407395</td>\n",
       "      <td>39.78373</td>\n",
       "      <td>-100.445882</td>\n",
       "    </tr>\n",
       "    <tr>\n",
       "      <th>3</th>\n",
       "      <td>6424</td>\n",
       "      <td>united states</td>\n",
       "      <td>ukraine</td>\n",
       "      <td>49.487197</td>\n",
       "      <td>31.271832</td>\n",
       "      <td>39.78373</td>\n",
       "      <td>-100.445882</td>\n",
       "    </tr>\n",
       "    <tr>\n",
       "      <th>4</th>\n",
       "      <td>5202</td>\n",
       "      <td>united arab emirates</td>\n",
       "      <td>netherlands</td>\n",
       "      <td>52.237989</td>\n",
       "      <td>5.534607</td>\n",
       "      <td>25.61552</td>\n",
       "      <td>55.849510</td>\n",
       "    </tr>\n",
       "  </tbody>\n",
       "</table>\n",
       "</div>"
      ],
      "text/plain": [
       "   nb_attack                target       attacker  latitude_attacker  \\\n",
       "0      92157         united states  united states          39.783730   \n",
       "1      26877  united arab emirates          china          39.904211   \n",
       "2      13059         united states          china          39.904211   \n",
       "3       6424         united states        ukraine          49.487197   \n",
       "4       5202  united arab emirates    netherlands          52.237989   \n",
       "\n",
       "   longitude_attacker  latitude_target  longitude_target  \n",
       "0         -100.445882         39.78373       -100.445882  \n",
       "1          116.407395         25.61552         55.849510  \n",
       "2          116.407395         39.78373       -100.445882  \n",
       "3           31.271832         39.78373       -100.445882  \n",
       "4            5.534607         25.61552         55.849510  "
      ]
     },
     "execution_count": 45,
     "metadata": {},
     "output_type": "execute_result"
    }
   ],
   "source": [
    "df.head()"
   ]
  },
  {
   "cell_type": "code",
   "execution_count": 46,
   "metadata": {
    "collapsed": true
   },
   "outputs": [],
   "source": [
    "df['lat'] = df.apply(lambda x :[x['latitude_attacker'], x['latitude_target']], axis ='columns')\n",
    "df['lon'] =  df.apply(lambda x :[x['longitude_attacker'], x['longitude_target']], axis ='columns')"
   ]
  },
  {
   "cell_type": "code",
   "execution_count": 47,
   "metadata": {
    "collapsed": true
   },
   "outputs": [],
   "source": [
    "df['line'] = ''\n",
    "#df['line'] = df['line'].apply(lambda x : {'color' : 'red', 'width' : 1}) \n",
    "df['line'] = df.apply(lambda x : {'color' : 'red', 'width' : (x['nb_attack'] / sum(df['nb_attack']))*80}, axis='columns')"
   ]
  },
  {
   "cell_type": "code",
   "execution_count": 48,
   "metadata": {
    "collapsed": true
   },
   "outputs": [],
   "source": [
    "df['opacity'] = 0\n",
    "df['opacity'] = df['opacity'].apply(lambda x : 0.48577680525164113)"
   ]
  },
  {
   "cell_type": "code",
   "execution_count": 49,
   "metadata": {
    "collapsed": true
   },
   "outputs": [],
   "source": [
    "df['type'] = ''\n",
    "df['type'] = df['type'].apply(lambda x : 'scattergeo')"
   ]
  },
  {
   "cell_type": "code",
   "execution_count": 50,
   "metadata": {
    "collapsed": true
   },
   "outputs": [],
   "source": [
    "df['mode'] = ''\n",
    "df['mode'] = df['mode'].apply(lambda x : 'lines')"
   ]
  },
  {
   "cell_type": "code",
   "execution_count": 51,
   "metadata": {
    "collapsed": true
   },
   "outputs": [],
   "source": [
    "df['text'] = df.apply(lambda x : '{} - {} : {} times'.format(x['attacker'],x['target'], x['nb_attack']), axis='columns')"
   ]
  },
  {
   "cell_type": "code",
   "execution_count": 52,
   "metadata": {},
   "outputs": [
    {
     "data": {
      "text/html": [
       "<div>\n",
       "<style scoped>\n",
       "    .dataframe tbody tr th:only-of-type {\n",
       "        vertical-align: middle;\n",
       "    }\n",
       "\n",
       "    .dataframe tbody tr th {\n",
       "        vertical-align: top;\n",
       "    }\n",
       "\n",
       "    .dataframe thead th {\n",
       "        text-align: right;\n",
       "    }\n",
       "</style>\n",
       "<table border=\"1\" class=\"dataframe\">\n",
       "  <thead>\n",
       "    <tr style=\"text-align: right;\">\n",
       "      <th></th>\n",
       "      <th>nb_attack</th>\n",
       "      <th>target</th>\n",
       "      <th>attacker</th>\n",
       "      <th>latitude_attacker</th>\n",
       "      <th>longitude_attacker</th>\n",
       "      <th>latitude_target</th>\n",
       "      <th>longitude_target</th>\n",
       "      <th>lat</th>\n",
       "      <th>lon</th>\n",
       "      <th>line</th>\n",
       "      <th>opacity</th>\n",
       "      <th>type</th>\n",
       "      <th>mode</th>\n",
       "      <th>text</th>\n",
       "    </tr>\n",
       "  </thead>\n",
       "  <tbody>\n",
       "    <tr>\n",
       "      <th>0</th>\n",
       "      <td>92157</td>\n",
       "      <td>united states</td>\n",
       "      <td>united states</td>\n",
       "      <td>39.783730</td>\n",
       "      <td>-100.445882</td>\n",
       "      <td>39.783730</td>\n",
       "      <td>-100.445882</td>\n",
       "      <td>[39.7837304, 39.7837304]</td>\n",
       "      <td>[-100.4458825, -100.4458825]</td>\n",
       "      <td>{'width': 34.083306365863805, 'color': 'red'}</td>\n",
       "      <td>0.485777</td>\n",
       "      <td>scattergeo</td>\n",
       "      <td>lines</td>\n",
       "      <td>united states - united states : 92157 times</td>\n",
       "    </tr>\n",
       "    <tr>\n",
       "      <th>1</th>\n",
       "      <td>26877</td>\n",
       "      <td>united arab emirates</td>\n",
       "      <td>china</td>\n",
       "      <td>39.904211</td>\n",
       "      <td>116.407395</td>\n",
       "      <td>25.615520</td>\n",
       "      <td>55.849510</td>\n",
       "      <td>[39.904211, 25.61552]</td>\n",
       "      <td>[116.407395, 55.84951]</td>\n",
       "      <td>{'width': 9.940178447598354, 'color': 'red'}</td>\n",
       "      <td>0.485777</td>\n",
       "      <td>scattergeo</td>\n",
       "      <td>lines</td>\n",
       "      <td>china - united arab emirates : 26877 times</td>\n",
       "    </tr>\n",
       "    <tr>\n",
       "      <th>2</th>\n",
       "      <td>13059</td>\n",
       "      <td>united states</td>\n",
       "      <td>china</td>\n",
       "      <td>39.904211</td>\n",
       "      <td>116.407395</td>\n",
       "      <td>39.783730</td>\n",
       "      <td>-100.445882</td>\n",
       "      <td>[39.904211, 39.7837304]</td>\n",
       "      <td>[116.407395, -100.4458825]</td>\n",
       "      <td>{'width': 4.829735102399334, 'color': 'red'}</td>\n",
       "      <td>0.485777</td>\n",
       "      <td>scattergeo</td>\n",
       "      <td>lines</td>\n",
       "      <td>china - united states : 13059 times</td>\n",
       "    </tr>\n",
       "    <tr>\n",
       "      <th>3</th>\n",
       "      <td>6424</td>\n",
       "      <td>united states</td>\n",
       "      <td>ukraine</td>\n",
       "      <td>49.487197</td>\n",
       "      <td>31.271832</td>\n",
       "      <td>39.783730</td>\n",
       "      <td>-100.445882</td>\n",
       "      <td>[49.4871968, 39.7837304]</td>\n",
       "      <td>[31.2718321, -100.4458825]</td>\n",
       "      <td>{'width': 2.375849475290093, 'color': 'red'}</td>\n",
       "      <td>0.485777</td>\n",
       "      <td>scattergeo</td>\n",
       "      <td>lines</td>\n",
       "      <td>ukraine - united states : 6424 times</td>\n",
       "    </tr>\n",
       "    <tr>\n",
       "      <th>4</th>\n",
       "      <td>5202</td>\n",
       "      <td>united arab emirates</td>\n",
       "      <td>netherlands</td>\n",
       "      <td>52.237989</td>\n",
       "      <td>5.534607</td>\n",
       "      <td>25.615520</td>\n",
       "      <td>55.849510</td>\n",
       "      <td>[52.2379891, 25.61552]</td>\n",
       "      <td>[5.53460738161551, 55.84951]</td>\n",
       "      <td>{'width': 1.9239055059867782, 'color': 'red'}</td>\n",
       "      <td>0.485777</td>\n",
       "      <td>scattergeo</td>\n",
       "      <td>lines</td>\n",
       "      <td>netherlands - united arab emirates : 5202 times</td>\n",
       "    </tr>\n",
       "    <tr>\n",
       "      <th>5</th>\n",
       "      <td>4761</td>\n",
       "      <td>spain</td>\n",
       "      <td>china</td>\n",
       "      <td>39.904211</td>\n",
       "      <td>116.407395</td>\n",
       "      <td>40.002803</td>\n",
       "      <td>-4.003104</td>\n",
       "      <td>[39.904211, 40.0028028]</td>\n",
       "      <td>[116.407395, -4.003104]</td>\n",
       "      <td>{'width': 1.7608062502889372, 'color': 'red'}</td>\n",
       "      <td>0.485777</td>\n",
       "      <td>scattergeo</td>\n",
       "      <td>lines</td>\n",
       "      <td>china - spain : 4761 times</td>\n",
       "    </tr>\n",
       "    <tr>\n",
       "      <th>6</th>\n",
       "      <td>2754</td>\n",
       "      <td>united arab emirates</td>\n",
       "      <td>united states</td>\n",
       "      <td>39.783730</td>\n",
       "      <td>-100.445882</td>\n",
       "      <td>25.615520</td>\n",
       "      <td>55.849510</td>\n",
       "      <td>[39.7837304, 25.61552]</td>\n",
       "      <td>[-100.4458825, 55.84951]</td>\n",
       "      <td>{'width': 1.0185382090518238, 'color': 'red'}</td>\n",
       "      <td>0.485777</td>\n",
       "      <td>scattergeo</td>\n",
       "      <td>lines</td>\n",
       "      <td>united states - united arab emirates : 2754 times</td>\n",
       "    </tr>\n",
       "    <tr>\n",
       "      <th>7</th>\n",
       "      <td>2523</td>\n",
       "      <td>united states</td>\n",
       "      <td>india</td>\n",
       "      <td>22.351115</td>\n",
       "      <td>78.667743</td>\n",
       "      <td>39.783730</td>\n",
       "      <td>-100.445882</td>\n",
       "      <td>[22.3511148, 39.7837304]</td>\n",
       "      <td>[78.6677428, -100.4458825]</td>\n",
       "      <td>{'width': 0.9331052655910499, 'color': 'red'}</td>\n",
       "      <td>0.485777</td>\n",
       "      <td>scattergeo</td>\n",
       "      <td>lines</td>\n",
       "      <td>india - united states : 2523 times</td>\n",
       "    </tr>\n",
       "    <tr>\n",
       "      <th>8</th>\n",
       "      <td>2502</td>\n",
       "      <td>united states</td>\n",
       "      <td>south korea</td>\n",
       "      <td>37.566535</td>\n",
       "      <td>126.977969</td>\n",
       "      <td>39.783730</td>\n",
       "      <td>-100.445882</td>\n",
       "      <td>[37.566535, 39.7837304]</td>\n",
       "      <td>[126.9779692, -100.4458825]</td>\n",
       "      <td>{'width': 0.9253386343673432, 'color': 'red'}</td>\n",
       "      <td>0.485777</td>\n",
       "      <td>scattergeo</td>\n",
       "      <td>lines</td>\n",
       "      <td>south korea - united states : 2502 times</td>\n",
       "    </tr>\n",
       "    <tr>\n",
       "      <th>9</th>\n",
       "      <td>2458</td>\n",
       "      <td>singapore</td>\n",
       "      <td>china</td>\n",
       "      <td>39.904211</td>\n",
       "      <td>116.407395</td>\n",
       "      <td>1.290475</td>\n",
       "      <td>103.852036</td>\n",
       "      <td>[39.904211, 1.2904753]</td>\n",
       "      <td>[116.407395, 103.8520359]</td>\n",
       "      <td>{'width': 0.9090656927557672, 'color': 'red'}</td>\n",
       "      <td>0.485777</td>\n",
       "      <td>scattergeo</td>\n",
       "      <td>lines</td>\n",
       "      <td>china - singapore : 2458 times</td>\n",
       "    </tr>\n",
       "    <tr>\n",
       "      <th>10</th>\n",
       "      <td>1921</td>\n",
       "      <td>united states</td>\n",
       "      <td>turkey</td>\n",
       "      <td>38.959759</td>\n",
       "      <td>34.924965</td>\n",
       "      <td>39.783730</td>\n",
       "      <td>-100.445882</td>\n",
       "      <td>[38.9597594, 39.7837304]</td>\n",
       "      <td>[34.9249653, -100.4458825]</td>\n",
       "      <td>{'width': 0.7104618371781241, 'color': 'red'}</td>\n",
       "      <td>0.485777</td>\n",
       "      <td>scattergeo</td>\n",
       "      <td>lines</td>\n",
       "      <td>turkey - united states : 1921 times</td>\n",
       "    </tr>\n",
       "    <tr>\n",
       "      <th>11</th>\n",
       "      <td>1889</td>\n",
       "      <td>united states</td>\n",
       "      <td>swiss</td>\n",
       "      <td>46.798562</td>\n",
       "      <td>8.231974</td>\n",
       "      <td>39.783730</td>\n",
       "      <td>-100.445882</td>\n",
       "      <td>[46.7985624, 39.7837304]</td>\n",
       "      <td>[8.2319736, -100.4458825]</td>\n",
       "      <td>{'width': 0.6986269705515233, 'color': 'red'}</td>\n",
       "      <td>0.485777</td>\n",
       "      <td>scattergeo</td>\n",
       "      <td>lines</td>\n",
       "      <td>swiss - united states : 1889 times</td>\n",
       "    </tr>\n",
       "    <tr>\n",
       "      <th>12</th>\n",
       "      <td>1545</td>\n",
       "      <td>norway</td>\n",
       "      <td>china</td>\n",
       "      <td>39.904211</td>\n",
       "      <td>116.407395</td>\n",
       "      <td>64.573154</td>\n",
       "      <td>11.528036</td>\n",
       "      <td>[39.904211, 64.5731537]</td>\n",
       "      <td>[116.407395, 11.5280364395482]</td>\n",
       "      <td>{'width': 0.5714021543155656, 'color': 'red'}</td>\n",
       "      <td>0.485777</td>\n",
       "      <td>scattergeo</td>\n",
       "      <td>lines</td>\n",
       "      <td>china - norway : 1545 times</td>\n",
       "    </tr>\n",
       "    <tr>\n",
       "      <th>13</th>\n",
       "      <td>1521</td>\n",
       "      <td>spain</td>\n",
       "      <td>colombia</td>\n",
       "      <td>2.889443</td>\n",
       "      <td>-73.783892</td>\n",
       "      <td>40.002803</td>\n",
       "      <td>-4.003104</td>\n",
       "      <td>[2.8894434, 40.0028028]</td>\n",
       "      <td>[-73.783892, -4.003104]</td>\n",
       "      <td>{'width': 0.5625260043456151, 'color': 'red'}</td>\n",
       "      <td>0.485777</td>\n",
       "      <td>scattergeo</td>\n",
       "      <td>lines</td>\n",
       "      <td>colombia - spain : 1521 times</td>\n",
       "    </tr>\n",
       "    <tr>\n",
       "      <th>14</th>\n",
       "      <td>1494</td>\n",
       "      <td>philippines</td>\n",
       "      <td>china</td>\n",
       "      <td>39.904211</td>\n",
       "      <td>116.407395</td>\n",
       "      <td>12.750349</td>\n",
       "      <td>122.731210</td>\n",
       "      <td>[39.904211, 12.7503486]</td>\n",
       "      <td>[116.407395, 122.7312101]</td>\n",
       "      <td>{'width': 0.5525403356294207, 'color': 'red'}</td>\n",
       "      <td>0.485777</td>\n",
       "      <td>scattergeo</td>\n",
       "      <td>lines</td>\n",
       "      <td>china - philippines : 1494 times</td>\n",
       "    </tr>\n",
       "    <tr>\n",
       "      <th>15</th>\n",
       "      <td>1492</td>\n",
       "      <td>belgium</td>\n",
       "      <td>netherlands</td>\n",
       "      <td>52.237989</td>\n",
       "      <td>5.534607</td>\n",
       "      <td>50.640735</td>\n",
       "      <td>4.666960</td>\n",
       "      <td>[52.2379891, 50.6407351]</td>\n",
       "      <td>[5.53460738161551, 4.66696]</td>\n",
       "      <td>{'width': 0.5518006564652582, 'color': 'red'}</td>\n",
       "      <td>0.485777</td>\n",
       "      <td>scattergeo</td>\n",
       "      <td>lines</td>\n",
       "      <td>netherlands - belgium : 1492 times</td>\n",
       "    </tr>\n",
       "    <tr>\n",
       "      <th>16</th>\n",
       "      <td>1461</td>\n",
       "      <td>united states</td>\n",
       "      <td>roumania</td>\n",
       "      <td>45.985213</td>\n",
       "      <td>24.685923</td>\n",
       "      <td>39.783730</td>\n",
       "      <td>-100.445882</td>\n",
       "      <td>[45.9852129, 39.7837304]</td>\n",
       "      <td>[24.6859225, -100.4458825]</td>\n",
       "      <td>{'width': 0.5403356294207388, 'color': 'red'}</td>\n",
       "      <td>0.485777</td>\n",
       "      <td>scattergeo</td>\n",
       "      <td>lines</td>\n",
       "      <td>roumania - united states : 1461 times</td>\n",
       "    </tr>\n",
       "    <tr>\n",
       "      <th>17</th>\n",
       "      <td>1453</td>\n",
       "      <td>united states</td>\n",
       "      <td>spain</td>\n",
       "      <td>40.002803</td>\n",
       "      <td>-4.003104</td>\n",
       "      <td>39.783730</td>\n",
       "      <td>-100.445882</td>\n",
       "      <td>[40.0028028, 39.7837304]</td>\n",
       "      <td>[-4.003104, -100.4458825]</td>\n",
       "      <td>{'width': 0.5373769127640886, 'color': 'red'}</td>\n",
       "      <td>0.485777</td>\n",
       "      <td>scattergeo</td>\n",
       "      <td>lines</td>\n",
       "      <td>spain - united states : 1453 times</td>\n",
       "    </tr>\n",
       "    <tr>\n",
       "      <th>18</th>\n",
       "      <td>1323</td>\n",
       "      <td>united states</td>\n",
       "      <td>argentina</td>\n",
       "      <td>-34.996496</td>\n",
       "      <td>-64.967282</td>\n",
       "      <td>39.783730</td>\n",
       "      <td>-100.445882</td>\n",
       "      <td>[-34.9964963, 39.7837304]</td>\n",
       "      <td>[-64.9672817, -100.4458825]</td>\n",
       "      <td>{'width': 0.48929776709352324, 'color': 'red'}</td>\n",
       "      <td>0.485777</td>\n",
       "      <td>scattergeo</td>\n",
       "      <td>lines</td>\n",
       "      <td>argentina - united states : 1323 times</td>\n",
       "    </tr>\n",
       "    <tr>\n",
       "      <th>19</th>\n",
       "      <td>1275</td>\n",
       "      <td>united arab emirates</td>\n",
       "      <td>poland</td>\n",
       "      <td>52.097718</td>\n",
       "      <td>19.025816</td>\n",
       "      <td>25.615520</td>\n",
       "      <td>55.849510</td>\n",
       "      <td>[52.0977181, 25.61552]</td>\n",
       "      <td>[19.0258159, 55.84951]</td>\n",
       "      <td>{'width': 0.4715454671536221, 'color': 'red'}</td>\n",
       "      <td>0.485777</td>\n",
       "      <td>scattergeo</td>\n",
       "      <td>lines</td>\n",
       "      <td>poland - united arab emirates : 1275 times</td>\n",
       "    </tr>\n",
       "    <tr>\n",
       "      <th>20</th>\n",
       "      <td>1186</td>\n",
       "      <td>france</td>\n",
       "      <td>pakistan</td>\n",
       "      <td>30.330840</td>\n",
       "      <td>71.247499</td>\n",
       "      <td>46.603354</td>\n",
       "      <td>1.888334</td>\n",
       "      <td>[30.3308401, 46.603354]</td>\n",
       "      <td>[71.247499, 1.8883335]</td>\n",
       "      <td>{'width': 0.43862974434838886, 'color': 'red'}</td>\n",
       "      <td>0.485777</td>\n",
       "      <td>scattergeo</td>\n",
       "      <td>lines</td>\n",
       "      <td>pakistan - france : 1186 times</td>\n",
       "    </tr>\n",
       "    <tr>\n",
       "      <th>21</th>\n",
       "      <td>1107</td>\n",
       "      <td>italy</td>\n",
       "      <td>united states</td>\n",
       "      <td>39.783730</td>\n",
       "      <td>-100.445882</td>\n",
       "      <td>42.638426</td>\n",
       "      <td>12.674297</td>\n",
       "      <td>[39.7837304, 42.6384261]</td>\n",
       "      <td>[-100.4458825, 12.674297]</td>\n",
       "      <td>{'width': 0.4094124173639684, 'color': 'red'}</td>\n",
       "      <td>0.485777</td>\n",
       "      <td>scattergeo</td>\n",
       "      <td>lines</td>\n",
       "      <td>united states - italy : 1107 times</td>\n",
       "    </tr>\n",
       "    <tr>\n",
       "      <th>22</th>\n",
       "      <td>1093</td>\n",
       "      <td>france</td>\n",
       "      <td>france</td>\n",
       "      <td>46.603354</td>\n",
       "      <td>1.888334</td>\n",
       "      <td>46.603354</td>\n",
       "      <td>1.888334</td>\n",
       "      <td>[46.603354, 46.603354]</td>\n",
       "      <td>[1.8883335, 1.8883335]</td>\n",
       "      <td>{'width': 0.40423466321483054, 'color': 'red'}</td>\n",
       "      <td>0.485777</td>\n",
       "      <td>scattergeo</td>\n",
       "      <td>lines</td>\n",
       "      <td>france - france : 1093 times</td>\n",
       "    </tr>\n",
       "    <tr>\n",
       "      <th>23</th>\n",
       "      <td>1004</td>\n",
       "      <td>saudi arabia</td>\n",
       "      <td>saudi arabia</td>\n",
       "      <td>17.726913</td>\n",
       "      <td>42.236345</td>\n",
       "      <td>17.726913</td>\n",
       "      <td>42.236345</td>\n",
       "      <td>[17.7269134, 17.7269134]</td>\n",
       "      <td>[42.2363448, 42.2363448]</td>\n",
       "      <td>{'width': 0.37131894040959734, 'color': 'red'}</td>\n",
       "      <td>0.485777</td>\n",
       "      <td>scattergeo</td>\n",
       "      <td>lines</td>\n",
       "      <td>saudi arabia - saudi arabia : 1004 times</td>\n",
       "    </tr>\n",
       "    <tr>\n",
       "      <th>24</th>\n",
       "      <td>998</td>\n",
       "      <td>united states</td>\n",
       "      <td>japan</td>\n",
       "      <td>36.574844</td>\n",
       "      <td>139.239418</td>\n",
       "      <td>39.783730</td>\n",
       "      <td>-100.445882</td>\n",
       "      <td>[36.5748441, 39.7837304]</td>\n",
       "      <td>[139.2394179, -100.4458825]</td>\n",
       "      <td>{'width': 0.3690999029171097, 'color': 'red'}</td>\n",
       "      <td>0.485777</td>\n",
       "      <td>scattergeo</td>\n",
       "      <td>lines</td>\n",
       "      <td>japan - united states : 998 times</td>\n",
       "    </tr>\n",
       "    <tr>\n",
       "      <th>25</th>\n",
       "      <td>995</td>\n",
       "      <td>france</td>\n",
       "      <td>vietnam</td>\n",
       "      <td>13.290403</td>\n",
       "      <td>108.426511</td>\n",
       "      <td>46.603354</td>\n",
       "      <td>1.888334</td>\n",
       "      <td>[13.2904027, 46.603354]</td>\n",
       "      <td>[108.4265113, 1.8883335]</td>\n",
       "      <td>{'width': 0.3679903841708659, 'color': 'red'}</td>\n",
       "      <td>0.485777</td>\n",
       "      <td>scattergeo</td>\n",
       "      <td>lines</td>\n",
       "      <td>vietnam - france : 995 times</td>\n",
       "    </tr>\n",
       "    <tr>\n",
       "      <th>26</th>\n",
       "      <td>902</td>\n",
       "      <td>italy</td>\n",
       "      <td>china</td>\n",
       "      <td>39.904211</td>\n",
       "      <td>116.407395</td>\n",
       "      <td>42.638426</td>\n",
       "      <td>12.674297</td>\n",
       "      <td>[39.904211, 42.6384261]</td>\n",
       "      <td>[116.407395, 12.674297]</td>\n",
       "      <td>{'width': 0.33359530303730756, 'color': 'red'}</td>\n",
       "      <td>0.485777</td>\n",
       "      <td>scattergeo</td>\n",
       "      <td>lines</td>\n",
       "      <td>china - italy : 902 times</td>\n",
       "    </tr>\n",
       "    <tr>\n",
       "      <th>27</th>\n",
       "      <td>895</td>\n",
       "      <td>united states</td>\n",
       "      <td>germany</td>\n",
       "      <td>51.083420</td>\n",
       "      <td>10.423447</td>\n",
       "      <td>39.783730</td>\n",
       "      <td>-100.445882</td>\n",
       "      <td>[51.0834196, 39.7837304]</td>\n",
       "      <td>[10.4234469, -100.4458825]</td>\n",
       "      <td>{'width': 0.33100642596273866, 'color': 'red'}</td>\n",
       "      <td>0.485777</td>\n",
       "      <td>scattergeo</td>\n",
       "      <td>lines</td>\n",
       "      <td>germany - united states : 895 times</td>\n",
       "    </tr>\n",
       "    <tr>\n",
       "      <th>28</th>\n",
       "      <td>859</td>\n",
       "      <td>united states</td>\n",
       "      <td>brazil</td>\n",
       "      <td>-10.333333</td>\n",
       "      <td>-53.200000</td>\n",
       "      <td>39.783730</td>\n",
       "      <td>-100.445882</td>\n",
       "      <td>[-10.3333333, 39.7837304]</td>\n",
       "      <td>[-53.2, -100.4458825]</td>\n",
       "      <td>{'width': 0.31769220100781287, 'color': 'red'}</td>\n",
       "      <td>0.485777</td>\n",
       "      <td>scattergeo</td>\n",
       "      <td>lines</td>\n",
       "      <td>brazil - united states : 859 times</td>\n",
       "    </tr>\n",
       "    <tr>\n",
       "      <th>29</th>\n",
       "      <td>834</td>\n",
       "      <td>hong kong</td>\n",
       "      <td>hong kong</td>\n",
       "      <td>22.350627</td>\n",
       "      <td>114.184916</td>\n",
       "      <td>22.350627</td>\n",
       "      <td>114.184916</td>\n",
       "      <td>[22.350627, 22.350627]</td>\n",
       "      <td>[114.1849161, 114.1849161]</td>\n",
       "      <td>{'width': 0.30844621145578105, 'color': 'red'}</td>\n",
       "      <td>0.485777</td>\n",
       "      <td>scattergeo</td>\n",
       "      <td>lines</td>\n",
       "      <td>hong kong - hong kong : 834 times</td>\n",
       "    </tr>\n",
       "    <tr>\n",
       "      <th>...</th>\n",
       "      <td>...</td>\n",
       "      <td>...</td>\n",
       "      <td>...</td>\n",
       "      <td>...</td>\n",
       "      <td>...</td>\n",
       "      <td>...</td>\n",
       "      <td>...</td>\n",
       "      <td>...</td>\n",
       "      <td>...</td>\n",
       "      <td>...</td>\n",
       "      <td>...</td>\n",
       "      <td>...</td>\n",
       "      <td>...</td>\n",
       "      <td>...</td>\n",
       "    </tr>\n",
       "    <tr>\n",
       "      <th>111</th>\n",
       "      <td>143</td>\n",
       "      <td>canada</td>\n",
       "      <td>china</td>\n",
       "      <td>39.904211</td>\n",
       "      <td>116.407395</td>\n",
       "      <td>61.066692</td>\n",
       "      <td>-107.991707</td>\n",
       "      <td>[39.904211, 61.0666922]</td>\n",
       "      <td>[116.407395, -107.9917071]</td>\n",
       "      <td>{'width': 0.052887060237621936, 'color': 'red'}</td>\n",
       "      <td>0.485777</td>\n",
       "      <td>scattergeo</td>\n",
       "      <td>lines</td>\n",
       "      <td>china - canada : 143 times</td>\n",
       "    </tr>\n",
       "    <tr>\n",
       "      <th>112</th>\n",
       "      <td>143</td>\n",
       "      <td>portugal</td>\n",
       "      <td>portugal</td>\n",
       "      <td>40.033265</td>\n",
       "      <td>-7.889626</td>\n",
       "      <td>40.033265</td>\n",
       "      <td>-7.889626</td>\n",
       "      <td>[40.033265, 40.033265]</td>\n",
       "      <td>[-7.8896263, -7.8896263]</td>\n",
       "      <td>{'width': 0.052887060237621936, 'color': 'red'}</td>\n",
       "      <td>0.485777</td>\n",
       "      <td>scattergeo</td>\n",
       "      <td>lines</td>\n",
       "      <td>portugal - portugal : 143 times</td>\n",
       "    </tr>\n",
       "    <tr>\n",
       "      <th>113</th>\n",
       "      <td>142</td>\n",
       "      <td>italy</td>\n",
       "      <td>france</td>\n",
       "      <td>46.603354</td>\n",
       "      <td>1.888334</td>\n",
       "      <td>42.638426</td>\n",
       "      <td>12.674297</td>\n",
       "      <td>[46.603354, 42.6384261]</td>\n",
       "      <td>[1.8883335, 12.674297]</td>\n",
       "      <td>{'width': 0.05251722065554066, 'color': 'red'}</td>\n",
       "      <td>0.485777</td>\n",
       "      <td>scattergeo</td>\n",
       "      <td>lines</td>\n",
       "      <td>france - italy : 142 times</td>\n",
       "    </tr>\n",
       "    <tr>\n",
       "      <th>114</th>\n",
       "      <td>142</td>\n",
       "      <td>russia</td>\n",
       "      <td>colombia</td>\n",
       "      <td>2.889443</td>\n",
       "      <td>-73.783892</td>\n",
       "      <td>64.686314</td>\n",
       "      <td>97.745306</td>\n",
       "      <td>[2.8894434, 64.6863136]</td>\n",
       "      <td>[-73.783892, 97.7453061]</td>\n",
       "      <td>{'width': 0.05251722065554066, 'color': 'red'}</td>\n",
       "      <td>0.485777</td>\n",
       "      <td>scattergeo</td>\n",
       "      <td>lines</td>\n",
       "      <td>colombia - russia : 142 times</td>\n",
       "    </tr>\n",
       "    <tr>\n",
       "      <th>115</th>\n",
       "      <td>142</td>\n",
       "      <td>saudi arabia</td>\n",
       "      <td>japan</td>\n",
       "      <td>36.574844</td>\n",
       "      <td>139.239418</td>\n",
       "      <td>17.726913</td>\n",
       "      <td>42.236345</td>\n",
       "      <td>[36.5748441, 17.7269134]</td>\n",
       "      <td>[139.2394179, 42.2363448]</td>\n",
       "      <td>{'width': 0.05251722065554066, 'color': 'red'}</td>\n",
       "      <td>0.485777</td>\n",
       "      <td>scattergeo</td>\n",
       "      <td>lines</td>\n",
       "      <td>japan - saudi arabia : 142 times</td>\n",
       "    </tr>\n",
       "    <tr>\n",
       "      <th>116</th>\n",
       "      <td>140</td>\n",
       "      <td>roumania</td>\n",
       "      <td>swiss</td>\n",
       "      <td>46.798562</td>\n",
       "      <td>8.231974</td>\n",
       "      <td>45.985213</td>\n",
       "      <td>24.685923</td>\n",
       "      <td>[46.7985624, 45.9852129]</td>\n",
       "      <td>[8.2319736, 24.6859225]</td>\n",
       "      <td>{'width': 0.051777541491378115, 'color': 'red'}</td>\n",
       "      <td>0.485777</td>\n",
       "      <td>scattergeo</td>\n",
       "      <td>lines</td>\n",
       "      <td>swiss - roumania : 140 times</td>\n",
       "    </tr>\n",
       "    <tr>\n",
       "      <th>117</th>\n",
       "      <td>139</td>\n",
       "      <td>ireland</td>\n",
       "      <td>roumania</td>\n",
       "      <td>45.985213</td>\n",
       "      <td>24.685923</td>\n",
       "      <td>52.865196</td>\n",
       "      <td>-7.979460</td>\n",
       "      <td>[45.9852129, 52.865196]</td>\n",
       "      <td>[24.6859225, -7.9794599]</td>\n",
       "      <td>{'width': 0.051407701909296846, 'color': 'red'}</td>\n",
       "      <td>0.485777</td>\n",
       "      <td>scattergeo</td>\n",
       "      <td>lines</td>\n",
       "      <td>roumania - ireland : 139 times</td>\n",
       "    </tr>\n",
       "    <tr>\n",
       "      <th>118</th>\n",
       "      <td>139</td>\n",
       "      <td>united arab emirates</td>\n",
       "      <td>ukraine</td>\n",
       "      <td>49.487197</td>\n",
       "      <td>31.271832</td>\n",
       "      <td>25.615520</td>\n",
       "      <td>55.849510</td>\n",
       "      <td>[49.4871968, 25.61552]</td>\n",
       "      <td>[31.2718321, 55.84951]</td>\n",
       "      <td>{'width': 0.051407701909296846, 'color': 'red'}</td>\n",
       "      <td>0.485777</td>\n",
       "      <td>scattergeo</td>\n",
       "      <td>lines</td>\n",
       "      <td>ukraine - united arab emirates : 139 times</td>\n",
       "    </tr>\n",
       "    <tr>\n",
       "      <th>119</th>\n",
       "      <td>139</td>\n",
       "      <td>united arab emirates</td>\n",
       "      <td>india</td>\n",
       "      <td>22.351115</td>\n",
       "      <td>78.667743</td>\n",
       "      <td>25.615520</td>\n",
       "      <td>55.849510</td>\n",
       "      <td>[22.3511148, 25.61552]</td>\n",
       "      <td>[78.6677428, 55.84951]</td>\n",
       "      <td>{'width': 0.051407701909296846, 'color': 'red'}</td>\n",
       "      <td>0.485777</td>\n",
       "      <td>scattergeo</td>\n",
       "      <td>lines</td>\n",
       "      <td>india - united arab emirates : 139 times</td>\n",
       "    </tr>\n",
       "    <tr>\n",
       "      <th>120</th>\n",
       "      <td>139</td>\n",
       "      <td>united states</td>\n",
       "      <td>australia</td>\n",
       "      <td>-24.776109</td>\n",
       "      <td>134.755000</td>\n",
       "      <td>39.783730</td>\n",
       "      <td>-100.445882</td>\n",
       "      <td>[-24.7761086, 39.7837304]</td>\n",
       "      <td>[134.755, -100.4458825]</td>\n",
       "      <td>{'width': 0.051407701909296846, 'color': 'red'}</td>\n",
       "      <td>0.485777</td>\n",
       "      <td>scattergeo</td>\n",
       "      <td>lines</td>\n",
       "      <td>australia - united states : 139 times</td>\n",
       "    </tr>\n",
       "    <tr>\n",
       "      <th>121</th>\n",
       "      <td>138</td>\n",
       "      <td>united states</td>\n",
       "      <td>united kingdom</td>\n",
       "      <td>51.303000</td>\n",
       "      <td>0.073200</td>\n",
       "      <td>39.783730</td>\n",
       "      <td>-100.445882</td>\n",
       "      <td>[51.303, 39.7837304]</td>\n",
       "      <td>[0.0732, -100.4458825]</td>\n",
       "      <td>{'width': 0.05103786232721557, 'color': 'red'}</td>\n",
       "      <td>0.485777</td>\n",
       "      <td>scattergeo</td>\n",
       "      <td>lines</td>\n",
       "      <td>united kingdom - united states : 138 times</td>\n",
       "    </tr>\n",
       "    <tr>\n",
       "      <th>122</th>\n",
       "      <td>137</td>\n",
       "      <td>china</td>\n",
       "      <td>spain</td>\n",
       "      <td>40.002803</td>\n",
       "      <td>-4.003104</td>\n",
       "      <td>39.904211</td>\n",
       "      <td>116.407395</td>\n",
       "      <td>[40.0028028, 39.904211]</td>\n",
       "      <td>[-4.003104, 116.407395]</td>\n",
       "      <td>{'width': 0.050668022745134295, 'color': 'red'}</td>\n",
       "      <td>0.485777</td>\n",
       "      <td>scattergeo</td>\n",
       "      <td>lines</td>\n",
       "      <td>spain - china : 137 times</td>\n",
       "    </tr>\n",
       "    <tr>\n",
       "      <th>123</th>\n",
       "      <td>136</td>\n",
       "      <td>norway</td>\n",
       "      <td>moldova</td>\n",
       "      <td>47.286747</td>\n",
       "      <td>28.511024</td>\n",
       "      <td>64.573154</td>\n",
       "      <td>11.528036</td>\n",
       "      <td>[47.286747, 64.5731537]</td>\n",
       "      <td>[28.5110236, 11.5280364395482]</td>\n",
       "      <td>{'width': 0.050298183163053026, 'color': 'red'}</td>\n",
       "      <td>0.485777</td>\n",
       "      <td>scattergeo</td>\n",
       "      <td>lines</td>\n",
       "      <td>moldova - norway : 136 times</td>\n",
       "    </tr>\n",
       "    <tr>\n",
       "      <th>124</th>\n",
       "      <td>135</td>\n",
       "      <td>mexico</td>\n",
       "      <td>mexico</td>\n",
       "      <td>19.432601</td>\n",
       "      <td>-99.133342</td>\n",
       "      <td>19.432601</td>\n",
       "      <td>-99.133342</td>\n",
       "      <td>[19.4326009, 19.4326009]</td>\n",
       "      <td>[-99.1333416, -99.1333416]</td>\n",
       "      <td>{'width': 0.04992834358097175, 'color': 'red'}</td>\n",
       "      <td>0.485777</td>\n",
       "      <td>scattergeo</td>\n",
       "      <td>lines</td>\n",
       "      <td>mexico - mexico : 135 times</td>\n",
       "    </tr>\n",
       "    <tr>\n",
       "      <th>125</th>\n",
       "      <td>135</td>\n",
       "      <td>united states</td>\n",
       "      <td>armenia</td>\n",
       "      <td>40.186587</td>\n",
       "      <td>44.781518</td>\n",
       "      <td>39.783730</td>\n",
       "      <td>-100.445882</td>\n",
       "      <td>[40.18658704808404, 39.7837304]</td>\n",
       "      <td>[44.78151767883003, -100.4458825]</td>\n",
       "      <td>{'width': 0.04992834358097175, 'color': 'red'}</td>\n",
       "      <td>0.485777</td>\n",
       "      <td>scattergeo</td>\n",
       "      <td>lines</td>\n",
       "      <td>armenia - united states : 135 times</td>\n",
       "    </tr>\n",
       "    <tr>\n",
       "      <th>126</th>\n",
       "      <td>132</td>\n",
       "      <td>turkey</td>\n",
       "      <td>swiss</td>\n",
       "      <td>46.798562</td>\n",
       "      <td>8.231974</td>\n",
       "      <td>38.959759</td>\n",
       "      <td>34.924965</td>\n",
       "      <td>[46.7985624, 38.9597594]</td>\n",
       "      <td>[8.2319736, 34.9249653]</td>\n",
       "      <td>{'width': 0.048818824834727936, 'color': 'red'}</td>\n",
       "      <td>0.485777</td>\n",
       "      <td>scattergeo</td>\n",
       "      <td>lines</td>\n",
       "      <td>swiss - turkey : 132 times</td>\n",
       "    </tr>\n",
       "    <tr>\n",
       "      <th>127</th>\n",
       "      <td>132</td>\n",
       "      <td>united kingdom</td>\n",
       "      <td>united arab emirates</td>\n",
       "      <td>25.615520</td>\n",
       "      <td>55.849510</td>\n",
       "      <td>51.303000</td>\n",
       "      <td>0.073200</td>\n",
       "      <td>[25.61552, 51.303]</td>\n",
       "      <td>[55.84951, 0.0732]</td>\n",
       "      <td>{'width': 0.048818824834727936, 'color': 'red'}</td>\n",
       "      <td>0.485777</td>\n",
       "      <td>scattergeo</td>\n",
       "      <td>lines</td>\n",
       "      <td>united arab emirates - united kingdom : 132 times</td>\n",
       "    </tr>\n",
       "    <tr>\n",
       "      <th>128</th>\n",
       "      <td>125</td>\n",
       "      <td>france</td>\n",
       "      <td>china</td>\n",
       "      <td>39.904211</td>\n",
       "      <td>116.407395</td>\n",
       "      <td>46.603354</td>\n",
       "      <td>1.888334</td>\n",
       "      <td>[39.904211, 46.603354]</td>\n",
       "      <td>[116.407395, 1.8883335]</td>\n",
       "      <td>{'width': 0.04622994776015903, 'color': 'red'}</td>\n",
       "      <td>0.485777</td>\n",
       "      <td>scattergeo</td>\n",
       "      <td>lines</td>\n",
       "      <td>china - france : 125 times</td>\n",
       "    </tr>\n",
       "    <tr>\n",
       "      <th>129</th>\n",
       "      <td>119</td>\n",
       "      <td>france</td>\n",
       "      <td>india</td>\n",
       "      <td>22.351115</td>\n",
       "      <td>78.667743</td>\n",
       "      <td>46.603354</td>\n",
       "      <td>1.888334</td>\n",
       "      <td>[22.3511148, 46.603354]</td>\n",
       "      <td>[78.6677428, 1.8883335]</td>\n",
       "      <td>{'width': 0.0440109102676714, 'color': 'red'}</td>\n",
       "      <td>0.485777</td>\n",
       "      <td>scattergeo</td>\n",
       "      <td>lines</td>\n",
       "      <td>india - france : 119 times</td>\n",
       "    </tr>\n",
       "    <tr>\n",
       "      <th>130</th>\n",
       "      <td>117</td>\n",
       "      <td>austria</td>\n",
       "      <td>ukraine</td>\n",
       "      <td>49.487197</td>\n",
       "      <td>31.271832</td>\n",
       "      <td>47.200034</td>\n",
       "      <td>13.199959</td>\n",
       "      <td>[49.4871968, 47.2000338]</td>\n",
       "      <td>[31.2718321, 13.199959]</td>\n",
       "      <td>{'width': 0.04327123110350885, 'color': 'red'}</td>\n",
       "      <td>0.485777</td>\n",
       "      <td>scattergeo</td>\n",
       "      <td>lines</td>\n",
       "      <td>ukraine - austria : 117 times</td>\n",
       "    </tr>\n",
       "    <tr>\n",
       "      <th>131</th>\n",
       "      <td>113</td>\n",
       "      <td>hong kong</td>\n",
       "      <td>united states</td>\n",
       "      <td>39.783730</td>\n",
       "      <td>-100.445882</td>\n",
       "      <td>22.350627</td>\n",
       "      <td>114.184916</td>\n",
       "      <td>[39.7837304, 22.350627]</td>\n",
       "      <td>[-100.4458825, 114.1849161]</td>\n",
       "      <td>{'width': 0.041791872775183765, 'color': 'red'}</td>\n",
       "      <td>0.485777</td>\n",
       "      <td>scattergeo</td>\n",
       "      <td>lines</td>\n",
       "      <td>united states - hong kong : 113 times</td>\n",
       "    </tr>\n",
       "    <tr>\n",
       "      <th>132</th>\n",
       "      <td>108</td>\n",
       "      <td>italy</td>\n",
       "      <td>netherlands</td>\n",
       "      <td>52.237989</td>\n",
       "      <td>5.534607</td>\n",
       "      <td>42.638426</td>\n",
       "      <td>12.674297</td>\n",
       "      <td>[52.2379891, 42.6384261]</td>\n",
       "      <td>[5.53460738161551, 12.674297]</td>\n",
       "      <td>{'width': 0.0399426748647774, 'color': 'red'}</td>\n",
       "      <td>0.485777</td>\n",
       "      <td>scattergeo</td>\n",
       "      <td>lines</td>\n",
       "      <td>netherlands - italy : 108 times</td>\n",
       "    </tr>\n",
       "    <tr>\n",
       "      <th>133</th>\n",
       "      <td>101</td>\n",
       "      <td>united arab emirates</td>\n",
       "      <td>saudi arabia</td>\n",
       "      <td>17.726913</td>\n",
       "      <td>42.236345</td>\n",
       "      <td>25.615520</td>\n",
       "      <td>55.849510</td>\n",
       "      <td>[17.7269134, 25.61552]</td>\n",
       "      <td>[42.2363448, 55.84951]</td>\n",
       "      <td>{'width': 0.0373537977902085, 'color': 'red'}</td>\n",
       "      <td>0.485777</td>\n",
       "      <td>scattergeo</td>\n",
       "      <td>lines</td>\n",
       "      <td>saudi arabia - united arab emirates : 101 times</td>\n",
       "    </tr>\n",
       "    <tr>\n",
       "      <th>134</th>\n",
       "      <td>97</td>\n",
       "      <td>united states</td>\n",
       "      <td>hong kong</td>\n",
       "      <td>22.350627</td>\n",
       "      <td>114.184916</td>\n",
       "      <td>39.783730</td>\n",
       "      <td>-100.445882</td>\n",
       "      <td>[22.350627, 39.7837304]</td>\n",
       "      <td>[114.1849161, -100.4458825]</td>\n",
       "      <td>{'width': 0.03587443946188341, 'color': 'red'}</td>\n",
       "      <td>0.485777</td>\n",
       "      <td>scattergeo</td>\n",
       "      <td>lines</td>\n",
       "      <td>hong kong - united states : 97 times</td>\n",
       "    </tr>\n",
       "    <tr>\n",
       "      <th>135</th>\n",
       "      <td>95</td>\n",
       "      <td>united states</td>\n",
       "      <td>poland</td>\n",
       "      <td>52.097718</td>\n",
       "      <td>19.025816</td>\n",
       "      <td>39.783730</td>\n",
       "      <td>-100.445882</td>\n",
       "      <td>[52.0977181, 39.7837304]</td>\n",
       "      <td>[19.0258159, -100.4458825]</td>\n",
       "      <td>{'width': 0.03513476029772086, 'color': 'red'}</td>\n",
       "      <td>0.485777</td>\n",
       "      <td>scattergeo</td>\n",
       "      <td>lines</td>\n",
       "      <td>poland - united states : 95 times</td>\n",
       "    </tr>\n",
       "    <tr>\n",
       "      <th>136</th>\n",
       "      <td>89</td>\n",
       "      <td>ireland</td>\n",
       "      <td>slovenia</td>\n",
       "      <td>45.813311</td>\n",
       "      <td>14.480837</td>\n",
       "      <td>52.865196</td>\n",
       "      <td>-7.979460</td>\n",
       "      <td>[45.8133113, 52.865196]</td>\n",
       "      <td>[14.4808369, -7.9794599]</td>\n",
       "      <td>{'width': 0.03291572280523323, 'color': 'red'}</td>\n",
       "      <td>0.485777</td>\n",
       "      <td>scattergeo</td>\n",
       "      <td>lines</td>\n",
       "      <td>slovenia - ireland : 89 times</td>\n",
       "    </tr>\n",
       "    <tr>\n",
       "      <th>137</th>\n",
       "      <td>89</td>\n",
       "      <td>united states</td>\n",
       "      <td>bolivia</td>\n",
       "      <td>-17.056870</td>\n",
       "      <td>-64.991229</td>\n",
       "      <td>39.783730</td>\n",
       "      <td>-100.445882</td>\n",
       "      <td>[-17.0568696, 39.7837304]</td>\n",
       "      <td>[-64.9912286, -100.4458825]</td>\n",
       "      <td>{'width': 0.03291572280523323, 'color': 'red'}</td>\n",
       "      <td>0.485777</td>\n",
       "      <td>scattergeo</td>\n",
       "      <td>lines</td>\n",
       "      <td>bolivia - united states : 89 times</td>\n",
       "    </tr>\n",
       "    <tr>\n",
       "      <th>138</th>\n",
       "      <td>87</td>\n",
       "      <td>portugal</td>\n",
       "      <td>india</td>\n",
       "      <td>22.351115</td>\n",
       "      <td>78.667743</td>\n",
       "      <td>40.033265</td>\n",
       "      <td>-7.889626</td>\n",
       "      <td>[22.3511148, 40.033265]</td>\n",
       "      <td>[78.6677428, -7.8896263]</td>\n",
       "      <td>{'width': 0.032176043641070684, 'color': 'red'}</td>\n",
       "      <td>0.485777</td>\n",
       "      <td>scattergeo</td>\n",
       "      <td>lines</td>\n",
       "      <td>india - portugal : 87 times</td>\n",
       "    </tr>\n",
       "    <tr>\n",
       "      <th>139</th>\n",
       "      <td>83</td>\n",
       "      <td>singapore</td>\n",
       "      <td>turkey</td>\n",
       "      <td>38.959759</td>\n",
       "      <td>34.924965</td>\n",
       "      <td>1.290475</td>\n",
       "      <td>103.852036</td>\n",
       "      <td>[38.9597594, 1.2904753]</td>\n",
       "      <td>[34.9249653, 103.8520359]</td>\n",
       "      <td>{'width': 0.030696685312745598, 'color': 'red'}</td>\n",
       "      <td>0.485777</td>\n",
       "      <td>scattergeo</td>\n",
       "      <td>lines</td>\n",
       "      <td>turkey - singapore : 83 times</td>\n",
       "    </tr>\n",
       "    <tr>\n",
       "      <th>140</th>\n",
       "      <td>72</td>\n",
       "      <td>philippines</td>\n",
       "      <td>philippines</td>\n",
       "      <td>12.750349</td>\n",
       "      <td>122.731210</td>\n",
       "      <td>12.750349</td>\n",
       "      <td>122.731210</td>\n",
       "      <td>[12.7503486, 12.7503486]</td>\n",
       "      <td>[122.7312101, 122.7312101]</td>\n",
       "      <td>{'width': 0.026628449909851602, 'color': 'red'}</td>\n",
       "      <td>0.485777</td>\n",
       "      <td>scattergeo</td>\n",
       "      <td>lines</td>\n",
       "      <td>philippines - philippines : 72 times</td>\n",
       "    </tr>\n",
       "  </tbody>\n",
       "</table>\n",
       "<p>141 rows × 14 columns</p>\n",
       "</div>"
      ],
      "text/plain": [
       "     nb_attack                target              attacker  latitude_attacker  \\\n",
       "0        92157         united states         united states          39.783730   \n",
       "1        26877  united arab emirates                 china          39.904211   \n",
       "2        13059         united states                 china          39.904211   \n",
       "3         6424         united states               ukraine          49.487197   \n",
       "4         5202  united arab emirates           netherlands          52.237989   \n",
       "5         4761                 spain                 china          39.904211   \n",
       "6         2754  united arab emirates         united states          39.783730   \n",
       "7         2523         united states                 india          22.351115   \n",
       "8         2502         united states           south korea          37.566535   \n",
       "9         2458             singapore                 china          39.904211   \n",
       "10        1921         united states                turkey          38.959759   \n",
       "11        1889         united states                 swiss          46.798562   \n",
       "12        1545                norway                 china          39.904211   \n",
       "13        1521                 spain              colombia           2.889443   \n",
       "14        1494           philippines                 china          39.904211   \n",
       "15        1492               belgium           netherlands          52.237989   \n",
       "16        1461         united states              roumania          45.985213   \n",
       "17        1453         united states                 spain          40.002803   \n",
       "18        1323         united states             argentina         -34.996496   \n",
       "19        1275  united arab emirates                poland          52.097718   \n",
       "20        1186                france              pakistan          30.330840   \n",
       "21        1107                 italy         united states          39.783730   \n",
       "22        1093                france                france          46.603354   \n",
       "23        1004          saudi arabia          saudi arabia          17.726913   \n",
       "24         998         united states                 japan          36.574844   \n",
       "25         995                france               vietnam          13.290403   \n",
       "26         902                 italy                 china          39.904211   \n",
       "27         895         united states               germany          51.083420   \n",
       "28         859         united states                brazil         -10.333333   \n",
       "29         834             hong kong             hong kong          22.350627   \n",
       "..         ...                   ...                   ...                ...   \n",
       "111        143                canada                 china          39.904211   \n",
       "112        143              portugal              portugal          40.033265   \n",
       "113        142                 italy                france          46.603354   \n",
       "114        142                russia              colombia           2.889443   \n",
       "115        142          saudi arabia                 japan          36.574844   \n",
       "116        140              roumania                 swiss          46.798562   \n",
       "117        139               ireland              roumania          45.985213   \n",
       "118        139  united arab emirates               ukraine          49.487197   \n",
       "119        139  united arab emirates                 india          22.351115   \n",
       "120        139         united states             australia         -24.776109   \n",
       "121        138         united states        united kingdom          51.303000   \n",
       "122        137                 china                 spain          40.002803   \n",
       "123        136                norway               moldova          47.286747   \n",
       "124        135                mexico                mexico          19.432601   \n",
       "125        135         united states               armenia          40.186587   \n",
       "126        132                turkey                 swiss          46.798562   \n",
       "127        132        united kingdom  united arab emirates          25.615520   \n",
       "128        125                france                 china          39.904211   \n",
       "129        119                france                 india          22.351115   \n",
       "130        117               austria               ukraine          49.487197   \n",
       "131        113             hong kong         united states          39.783730   \n",
       "132        108                 italy           netherlands          52.237989   \n",
       "133        101  united arab emirates          saudi arabia          17.726913   \n",
       "134         97         united states             hong kong          22.350627   \n",
       "135         95         united states                poland          52.097718   \n",
       "136         89               ireland              slovenia          45.813311   \n",
       "137         89         united states               bolivia         -17.056870   \n",
       "138         87              portugal                 india          22.351115   \n",
       "139         83             singapore                turkey          38.959759   \n",
       "140         72           philippines           philippines          12.750349   \n",
       "\n",
       "     longitude_attacker  latitude_target  longitude_target  \\\n",
       "0           -100.445882        39.783730       -100.445882   \n",
       "1            116.407395        25.615520         55.849510   \n",
       "2            116.407395        39.783730       -100.445882   \n",
       "3             31.271832        39.783730       -100.445882   \n",
       "4              5.534607        25.615520         55.849510   \n",
       "5            116.407395        40.002803         -4.003104   \n",
       "6           -100.445882        25.615520         55.849510   \n",
       "7             78.667743        39.783730       -100.445882   \n",
       "8            126.977969        39.783730       -100.445882   \n",
       "9            116.407395         1.290475        103.852036   \n",
       "10            34.924965        39.783730       -100.445882   \n",
       "11             8.231974        39.783730       -100.445882   \n",
       "12           116.407395        64.573154         11.528036   \n",
       "13           -73.783892        40.002803         -4.003104   \n",
       "14           116.407395        12.750349        122.731210   \n",
       "15             5.534607        50.640735          4.666960   \n",
       "16            24.685923        39.783730       -100.445882   \n",
       "17            -4.003104        39.783730       -100.445882   \n",
       "18           -64.967282        39.783730       -100.445882   \n",
       "19            19.025816        25.615520         55.849510   \n",
       "20            71.247499        46.603354          1.888334   \n",
       "21          -100.445882        42.638426         12.674297   \n",
       "22             1.888334        46.603354          1.888334   \n",
       "23            42.236345        17.726913         42.236345   \n",
       "24           139.239418        39.783730       -100.445882   \n",
       "25           108.426511        46.603354          1.888334   \n",
       "26           116.407395        42.638426         12.674297   \n",
       "27            10.423447        39.783730       -100.445882   \n",
       "28           -53.200000        39.783730       -100.445882   \n",
       "29           114.184916        22.350627        114.184916   \n",
       "..                  ...              ...               ...   \n",
       "111          116.407395        61.066692       -107.991707   \n",
       "112           -7.889626        40.033265         -7.889626   \n",
       "113            1.888334        42.638426         12.674297   \n",
       "114          -73.783892        64.686314         97.745306   \n",
       "115          139.239418        17.726913         42.236345   \n",
       "116            8.231974        45.985213         24.685923   \n",
       "117           24.685923        52.865196         -7.979460   \n",
       "118           31.271832        25.615520         55.849510   \n",
       "119           78.667743        25.615520         55.849510   \n",
       "120          134.755000        39.783730       -100.445882   \n",
       "121            0.073200        39.783730       -100.445882   \n",
       "122           -4.003104        39.904211        116.407395   \n",
       "123           28.511024        64.573154         11.528036   \n",
       "124          -99.133342        19.432601        -99.133342   \n",
       "125           44.781518        39.783730       -100.445882   \n",
       "126            8.231974        38.959759         34.924965   \n",
       "127           55.849510        51.303000          0.073200   \n",
       "128          116.407395        46.603354          1.888334   \n",
       "129           78.667743        46.603354          1.888334   \n",
       "130           31.271832        47.200034         13.199959   \n",
       "131         -100.445882        22.350627        114.184916   \n",
       "132            5.534607        42.638426         12.674297   \n",
       "133           42.236345        25.615520         55.849510   \n",
       "134          114.184916        39.783730       -100.445882   \n",
       "135           19.025816        39.783730       -100.445882   \n",
       "136           14.480837        52.865196         -7.979460   \n",
       "137          -64.991229        39.783730       -100.445882   \n",
       "138           78.667743        40.033265         -7.889626   \n",
       "139           34.924965         1.290475        103.852036   \n",
       "140          122.731210        12.750349        122.731210   \n",
       "\n",
       "                                 lat                                lon  \\\n",
       "0           [39.7837304, 39.7837304]       [-100.4458825, -100.4458825]   \n",
       "1              [39.904211, 25.61552]             [116.407395, 55.84951]   \n",
       "2            [39.904211, 39.7837304]         [116.407395, -100.4458825]   \n",
       "3           [49.4871968, 39.7837304]         [31.2718321, -100.4458825]   \n",
       "4             [52.2379891, 25.61552]       [5.53460738161551, 55.84951]   \n",
       "5            [39.904211, 40.0028028]            [116.407395, -4.003104]   \n",
       "6             [39.7837304, 25.61552]           [-100.4458825, 55.84951]   \n",
       "7           [22.3511148, 39.7837304]         [78.6677428, -100.4458825]   \n",
       "8            [37.566535, 39.7837304]        [126.9779692, -100.4458825]   \n",
       "9             [39.904211, 1.2904753]          [116.407395, 103.8520359]   \n",
       "10          [38.9597594, 39.7837304]         [34.9249653, -100.4458825]   \n",
       "11          [46.7985624, 39.7837304]          [8.2319736, -100.4458825]   \n",
       "12           [39.904211, 64.5731537]     [116.407395, 11.5280364395482]   \n",
       "13           [2.8894434, 40.0028028]            [-73.783892, -4.003104]   \n",
       "14           [39.904211, 12.7503486]          [116.407395, 122.7312101]   \n",
       "15          [52.2379891, 50.6407351]        [5.53460738161551, 4.66696]   \n",
       "16          [45.9852129, 39.7837304]         [24.6859225, -100.4458825]   \n",
       "17          [40.0028028, 39.7837304]          [-4.003104, -100.4458825]   \n",
       "18         [-34.9964963, 39.7837304]        [-64.9672817, -100.4458825]   \n",
       "19            [52.0977181, 25.61552]             [19.0258159, 55.84951]   \n",
       "20           [30.3308401, 46.603354]             [71.247499, 1.8883335]   \n",
       "21          [39.7837304, 42.6384261]          [-100.4458825, 12.674297]   \n",
       "22            [46.603354, 46.603354]             [1.8883335, 1.8883335]   \n",
       "23          [17.7269134, 17.7269134]           [42.2363448, 42.2363448]   \n",
       "24          [36.5748441, 39.7837304]        [139.2394179, -100.4458825]   \n",
       "25           [13.2904027, 46.603354]           [108.4265113, 1.8883335]   \n",
       "26           [39.904211, 42.6384261]            [116.407395, 12.674297]   \n",
       "27          [51.0834196, 39.7837304]         [10.4234469, -100.4458825]   \n",
       "28         [-10.3333333, 39.7837304]              [-53.2, -100.4458825]   \n",
       "29            [22.350627, 22.350627]         [114.1849161, 114.1849161]   \n",
       "..                               ...                                ...   \n",
       "111          [39.904211, 61.0666922]         [116.407395, -107.9917071]   \n",
       "112           [40.033265, 40.033265]           [-7.8896263, -7.8896263]   \n",
       "113          [46.603354, 42.6384261]             [1.8883335, 12.674297]   \n",
       "114          [2.8894434, 64.6863136]           [-73.783892, 97.7453061]   \n",
       "115         [36.5748441, 17.7269134]          [139.2394179, 42.2363448]   \n",
       "116         [46.7985624, 45.9852129]            [8.2319736, 24.6859225]   \n",
       "117          [45.9852129, 52.865196]           [24.6859225, -7.9794599]   \n",
       "118           [49.4871968, 25.61552]             [31.2718321, 55.84951]   \n",
       "119           [22.3511148, 25.61552]             [78.6677428, 55.84951]   \n",
       "120        [-24.7761086, 39.7837304]            [134.755, -100.4458825]   \n",
       "121             [51.303, 39.7837304]             [0.0732, -100.4458825]   \n",
       "122          [40.0028028, 39.904211]            [-4.003104, 116.407395]   \n",
       "123          [47.286747, 64.5731537]     [28.5110236, 11.5280364395482]   \n",
       "124         [19.4326009, 19.4326009]         [-99.1333416, -99.1333416]   \n",
       "125  [40.18658704808404, 39.7837304]  [44.78151767883003, -100.4458825]   \n",
       "126         [46.7985624, 38.9597594]            [8.2319736, 34.9249653]   \n",
       "127               [25.61552, 51.303]                 [55.84951, 0.0732]   \n",
       "128           [39.904211, 46.603354]            [116.407395, 1.8883335]   \n",
       "129          [22.3511148, 46.603354]            [78.6677428, 1.8883335]   \n",
       "130         [49.4871968, 47.2000338]            [31.2718321, 13.199959]   \n",
       "131          [39.7837304, 22.350627]        [-100.4458825, 114.1849161]   \n",
       "132         [52.2379891, 42.6384261]      [5.53460738161551, 12.674297]   \n",
       "133           [17.7269134, 25.61552]             [42.2363448, 55.84951]   \n",
       "134          [22.350627, 39.7837304]        [114.1849161, -100.4458825]   \n",
       "135         [52.0977181, 39.7837304]         [19.0258159, -100.4458825]   \n",
       "136          [45.8133113, 52.865196]           [14.4808369, -7.9794599]   \n",
       "137        [-17.0568696, 39.7837304]        [-64.9912286, -100.4458825]   \n",
       "138          [22.3511148, 40.033265]           [78.6677428, -7.8896263]   \n",
       "139          [38.9597594, 1.2904753]          [34.9249653, 103.8520359]   \n",
       "140         [12.7503486, 12.7503486]         [122.7312101, 122.7312101]   \n",
       "\n",
       "                                                line   opacity        type  \\\n",
       "0      {'width': 34.083306365863805, 'color': 'red'}  0.485777  scattergeo   \n",
       "1       {'width': 9.940178447598354, 'color': 'red'}  0.485777  scattergeo   \n",
       "2       {'width': 4.829735102399334, 'color': 'red'}  0.485777  scattergeo   \n",
       "3       {'width': 2.375849475290093, 'color': 'red'}  0.485777  scattergeo   \n",
       "4      {'width': 1.9239055059867782, 'color': 'red'}  0.485777  scattergeo   \n",
       "5      {'width': 1.7608062502889372, 'color': 'red'}  0.485777  scattergeo   \n",
       "6      {'width': 1.0185382090518238, 'color': 'red'}  0.485777  scattergeo   \n",
       "7      {'width': 0.9331052655910499, 'color': 'red'}  0.485777  scattergeo   \n",
       "8      {'width': 0.9253386343673432, 'color': 'red'}  0.485777  scattergeo   \n",
       "9      {'width': 0.9090656927557672, 'color': 'red'}  0.485777  scattergeo   \n",
       "10     {'width': 0.7104618371781241, 'color': 'red'}  0.485777  scattergeo   \n",
       "11     {'width': 0.6986269705515233, 'color': 'red'}  0.485777  scattergeo   \n",
       "12     {'width': 0.5714021543155656, 'color': 'red'}  0.485777  scattergeo   \n",
       "13     {'width': 0.5625260043456151, 'color': 'red'}  0.485777  scattergeo   \n",
       "14     {'width': 0.5525403356294207, 'color': 'red'}  0.485777  scattergeo   \n",
       "15     {'width': 0.5518006564652582, 'color': 'red'}  0.485777  scattergeo   \n",
       "16     {'width': 0.5403356294207388, 'color': 'red'}  0.485777  scattergeo   \n",
       "17     {'width': 0.5373769127640886, 'color': 'red'}  0.485777  scattergeo   \n",
       "18    {'width': 0.48929776709352324, 'color': 'red'}  0.485777  scattergeo   \n",
       "19     {'width': 0.4715454671536221, 'color': 'red'}  0.485777  scattergeo   \n",
       "20    {'width': 0.43862974434838886, 'color': 'red'}  0.485777  scattergeo   \n",
       "21     {'width': 0.4094124173639684, 'color': 'red'}  0.485777  scattergeo   \n",
       "22    {'width': 0.40423466321483054, 'color': 'red'}  0.485777  scattergeo   \n",
       "23    {'width': 0.37131894040959734, 'color': 'red'}  0.485777  scattergeo   \n",
       "24     {'width': 0.3690999029171097, 'color': 'red'}  0.485777  scattergeo   \n",
       "25     {'width': 0.3679903841708659, 'color': 'red'}  0.485777  scattergeo   \n",
       "26    {'width': 0.33359530303730756, 'color': 'red'}  0.485777  scattergeo   \n",
       "27    {'width': 0.33100642596273866, 'color': 'red'}  0.485777  scattergeo   \n",
       "28    {'width': 0.31769220100781287, 'color': 'red'}  0.485777  scattergeo   \n",
       "29    {'width': 0.30844621145578105, 'color': 'red'}  0.485777  scattergeo   \n",
       "..                                               ...       ...         ...   \n",
       "111  {'width': 0.052887060237621936, 'color': 'red'}  0.485777  scattergeo   \n",
       "112  {'width': 0.052887060237621936, 'color': 'red'}  0.485777  scattergeo   \n",
       "113   {'width': 0.05251722065554066, 'color': 'red'}  0.485777  scattergeo   \n",
       "114   {'width': 0.05251722065554066, 'color': 'red'}  0.485777  scattergeo   \n",
       "115   {'width': 0.05251722065554066, 'color': 'red'}  0.485777  scattergeo   \n",
       "116  {'width': 0.051777541491378115, 'color': 'red'}  0.485777  scattergeo   \n",
       "117  {'width': 0.051407701909296846, 'color': 'red'}  0.485777  scattergeo   \n",
       "118  {'width': 0.051407701909296846, 'color': 'red'}  0.485777  scattergeo   \n",
       "119  {'width': 0.051407701909296846, 'color': 'red'}  0.485777  scattergeo   \n",
       "120  {'width': 0.051407701909296846, 'color': 'red'}  0.485777  scattergeo   \n",
       "121   {'width': 0.05103786232721557, 'color': 'red'}  0.485777  scattergeo   \n",
       "122  {'width': 0.050668022745134295, 'color': 'red'}  0.485777  scattergeo   \n",
       "123  {'width': 0.050298183163053026, 'color': 'red'}  0.485777  scattergeo   \n",
       "124   {'width': 0.04992834358097175, 'color': 'red'}  0.485777  scattergeo   \n",
       "125   {'width': 0.04992834358097175, 'color': 'red'}  0.485777  scattergeo   \n",
       "126  {'width': 0.048818824834727936, 'color': 'red'}  0.485777  scattergeo   \n",
       "127  {'width': 0.048818824834727936, 'color': 'red'}  0.485777  scattergeo   \n",
       "128   {'width': 0.04622994776015903, 'color': 'red'}  0.485777  scattergeo   \n",
       "129    {'width': 0.0440109102676714, 'color': 'red'}  0.485777  scattergeo   \n",
       "130   {'width': 0.04327123110350885, 'color': 'red'}  0.485777  scattergeo   \n",
       "131  {'width': 0.041791872775183765, 'color': 'red'}  0.485777  scattergeo   \n",
       "132    {'width': 0.0399426748647774, 'color': 'red'}  0.485777  scattergeo   \n",
       "133    {'width': 0.0373537977902085, 'color': 'red'}  0.485777  scattergeo   \n",
       "134   {'width': 0.03587443946188341, 'color': 'red'}  0.485777  scattergeo   \n",
       "135   {'width': 0.03513476029772086, 'color': 'red'}  0.485777  scattergeo   \n",
       "136   {'width': 0.03291572280523323, 'color': 'red'}  0.485777  scattergeo   \n",
       "137   {'width': 0.03291572280523323, 'color': 'red'}  0.485777  scattergeo   \n",
       "138  {'width': 0.032176043641070684, 'color': 'red'}  0.485777  scattergeo   \n",
       "139  {'width': 0.030696685312745598, 'color': 'red'}  0.485777  scattergeo   \n",
       "140  {'width': 0.026628449909851602, 'color': 'red'}  0.485777  scattergeo   \n",
       "\n",
       "      mode                                               text  \n",
       "0    lines        united states - united states : 92157 times  \n",
       "1    lines         china - united arab emirates : 26877 times  \n",
       "2    lines                china - united states : 13059 times  \n",
       "3    lines               ukraine - united states : 6424 times  \n",
       "4    lines    netherlands - united arab emirates : 5202 times  \n",
       "5    lines                         china - spain : 4761 times  \n",
       "6    lines  united states - united arab emirates : 2754 times  \n",
       "7    lines                 india - united states : 2523 times  \n",
       "8    lines           south korea - united states : 2502 times  \n",
       "9    lines                     china - singapore : 2458 times  \n",
       "10   lines                turkey - united states : 1921 times  \n",
       "11   lines                 swiss - united states : 1889 times  \n",
       "12   lines                        china - norway : 1545 times  \n",
       "13   lines                      colombia - spain : 1521 times  \n",
       "14   lines                   china - philippines : 1494 times  \n",
       "15   lines                 netherlands - belgium : 1492 times  \n",
       "16   lines              roumania - united states : 1461 times  \n",
       "17   lines                 spain - united states : 1453 times  \n",
       "18   lines             argentina - united states : 1323 times  \n",
       "19   lines         poland - united arab emirates : 1275 times  \n",
       "20   lines                     pakistan - france : 1186 times  \n",
       "21   lines                 united states - italy : 1107 times  \n",
       "22   lines                       france - france : 1093 times  \n",
       "23   lines           saudi arabia - saudi arabia : 1004 times  \n",
       "24   lines                  japan - united states : 998 times  \n",
       "25   lines                       vietnam - france : 995 times  \n",
       "26   lines                          china - italy : 902 times  \n",
       "27   lines                germany - united states : 895 times  \n",
       "28   lines                 brazil - united states : 859 times  \n",
       "29   lines                  hong kong - hong kong : 834 times  \n",
       "..     ...                                                ...  \n",
       "111  lines                         china - canada : 143 times  \n",
       "112  lines                    portugal - portugal : 143 times  \n",
       "113  lines                         france - italy : 142 times  \n",
       "114  lines                      colombia - russia : 142 times  \n",
       "115  lines                   japan - saudi arabia : 142 times  \n",
       "116  lines                       swiss - roumania : 140 times  \n",
       "117  lines                     roumania - ireland : 139 times  \n",
       "118  lines         ukraine - united arab emirates : 139 times  \n",
       "119  lines           india - united arab emirates : 139 times  \n",
       "120  lines              australia - united states : 139 times  \n",
       "121  lines         united kingdom - united states : 138 times  \n",
       "122  lines                          spain - china : 137 times  \n",
       "123  lines                       moldova - norway : 136 times  \n",
       "124  lines                        mexico - mexico : 135 times  \n",
       "125  lines                armenia - united states : 135 times  \n",
       "126  lines                         swiss - turkey : 132 times  \n",
       "127  lines  united arab emirates - united kingdom : 132 times  \n",
       "128  lines                         china - france : 125 times  \n",
       "129  lines                         india - france : 119 times  \n",
       "130  lines                      ukraine - austria : 117 times  \n",
       "131  lines              united states - hong kong : 113 times  \n",
       "132  lines                    netherlands - italy : 108 times  \n",
       "133  lines    saudi arabia - united arab emirates : 101 times  \n",
       "134  lines               hong kong - united states : 97 times  \n",
       "135  lines                  poland - united states : 95 times  \n",
       "136  lines                      slovenia - ireland : 89 times  \n",
       "137  lines                 bolivia - united states : 89 times  \n",
       "138  lines                        india - portugal : 87 times  \n",
       "139  lines                      turkey - singapore : 83 times  \n",
       "140  lines               philippines - philippines : 72 times  \n",
       "\n",
       "[141 rows x 14 columns]"
      ]
     },
     "execution_count": 52,
     "metadata": {},
     "output_type": "execute_result"
    }
   ],
   "source": [
    "df"
   ]
  },
  {
   "cell_type": "code",
   "execution_count": 221,
   "metadata": {},
   "outputs": [
    {
     "data": {
      "application/vnd.plotly.v1+json": {
       "data": [
        {
         "lat": [
          39.7837304,
          39.7837304
         ],
         "line": {
          "color": "red",
          "width": 34.083306365863805
         },
         "lon": [
          -100.4458825,
          -100.4458825
         ],
         "mode": "lines",
         "opacity": 0.48577680525164113,
         "showlegend": false,
         "type": "scattergeo"
        },
        {
         "lat": [
          39.904211,
          25.61552
         ],
         "line": {
          "color": "red",
          "width": 9.940178447598354
         },
         "lon": [
          116.407395,
          55.84951
         ],
         "mode": "lines",
         "opacity": 0.48577680525164113,
         "showlegend": false,
         "type": "scattergeo"
        },
        {
         "lat": [
          39.904211,
          39.7837304
         ],
         "line": {
          "color": "red",
          "width": 4.829735102399334
         },
         "lon": [
          116.407395,
          -100.4458825
         ],
         "mode": "lines",
         "opacity": 0.48577680525164113,
         "showlegend": false,
         "type": "scattergeo"
        },
        {
         "lat": [
          49.4871968,
          39.7837304
         ],
         "line": {
          "color": "red",
          "width": 2.375849475290093
         },
         "lon": [
          31.2718321,
          -100.4458825
         ],
         "mode": "lines",
         "opacity": 0.48577680525164113,
         "showlegend": false,
         "type": "scattergeo"
        },
        {
         "lat": [
          52.2379891,
          25.61552
         ],
         "line": {
          "color": "red",
          "width": 1.9239055059867782
         },
         "lon": [
          5.53460738161551,
          55.84951
         ],
         "mode": "lines",
         "opacity": 0.48577680525164113,
         "showlegend": false,
         "type": "scattergeo"
        },
        {
         "lat": [
          39.904211,
          40.0028028
         ],
         "line": {
          "color": "red",
          "width": 1.7608062502889372
         },
         "lon": [
          116.407395,
          -4.003104
         ],
         "mode": "lines",
         "opacity": 0.48577680525164113,
         "showlegend": false,
         "type": "scattergeo"
        },
        {
         "lat": [
          39.7837304,
          25.61552
         ],
         "line": {
          "color": "red",
          "width": 1.0185382090518238
         },
         "lon": [
          -100.4458825,
          55.84951
         ],
         "mode": "lines",
         "opacity": 0.48577680525164113,
         "showlegend": false,
         "type": "scattergeo"
        },
        {
         "lat": [
          22.3511148,
          39.7837304
         ],
         "line": {
          "color": "red",
          "width": 0.9331052655910499
         },
         "lon": [
          78.6677428,
          -100.4458825
         ],
         "mode": "lines",
         "opacity": 0.48577680525164113,
         "showlegend": false,
         "type": "scattergeo"
        },
        {
         "lat": [
          37.566535,
          39.7837304
         ],
         "line": {
          "color": "red",
          "width": 0.9253386343673432
         },
         "lon": [
          126.9779692,
          -100.4458825
         ],
         "mode": "lines",
         "opacity": 0.48577680525164113,
         "showlegend": false,
         "type": "scattergeo"
        },
        {
         "lat": [
          39.904211,
          1.2904753
         ],
         "line": {
          "color": "red",
          "width": 0.9090656927557672
         },
         "lon": [
          116.407395,
          103.8520359
         ],
         "mode": "lines",
         "opacity": 0.48577680525164113,
         "showlegend": false,
         "type": "scattergeo"
        },
        {
         "lat": [
          38.9597594,
          39.7837304
         ],
         "line": {
          "color": "red",
          "width": 0.7104618371781241
         },
         "lon": [
          34.9249653,
          -100.4458825
         ],
         "mode": "lines",
         "opacity": 0.48577680525164113,
         "showlegend": false,
         "type": "scattergeo"
        },
        {
         "lat": [
          46.7985624,
          39.7837304
         ],
         "line": {
          "color": "red",
          "width": 0.6986269705515233
         },
         "lon": [
          8.2319736,
          -100.4458825
         ],
         "mode": "lines",
         "opacity": 0.48577680525164113,
         "showlegend": false,
         "type": "scattergeo"
        },
        {
         "lat": [
          39.904211,
          64.5731537
         ],
         "line": {
          "color": "red",
          "width": 0.5714021543155656
         },
         "lon": [
          116.407395,
          11.5280364395482
         ],
         "mode": "lines",
         "opacity": 0.48577680525164113,
         "showlegend": false,
         "type": "scattergeo"
        },
        {
         "lat": [
          2.8894434,
          40.0028028
         ],
         "line": {
          "color": "red",
          "width": 0.5625260043456151
         },
         "lon": [
          -73.783892,
          -4.003104
         ],
         "mode": "lines",
         "opacity": 0.48577680525164113,
         "showlegend": false,
         "type": "scattergeo"
        },
        {
         "lat": [
          39.904211,
          12.7503486
         ],
         "line": {
          "color": "red",
          "width": 0.5525403356294207
         },
         "lon": [
          116.407395,
          122.7312101
         ],
         "mode": "lines",
         "opacity": 0.48577680525164113,
         "showlegend": false,
         "type": "scattergeo"
        },
        {
         "lat": [
          52.2379891,
          50.6407351
         ],
         "line": {
          "color": "red",
          "width": 0.5518006564652582
         },
         "lon": [
          5.53460738161551,
          4.66696
         ],
         "mode": "lines",
         "opacity": 0.48577680525164113,
         "showlegend": false,
         "type": "scattergeo"
        },
        {
         "lat": [
          45.9852129,
          39.7837304
         ],
         "line": {
          "color": "red",
          "width": 0.5403356294207388
         },
         "lon": [
          24.6859225,
          -100.4458825
         ],
         "mode": "lines",
         "opacity": 0.48577680525164113,
         "showlegend": false,
         "type": "scattergeo"
        },
        {
         "lat": [
          40.0028028,
          39.7837304
         ],
         "line": {
          "color": "red",
          "width": 0.5373769127640886
         },
         "lon": [
          -4.003104,
          -100.4458825
         ],
         "mode": "lines",
         "opacity": 0.48577680525164113,
         "showlegend": false,
         "type": "scattergeo"
        },
        {
         "lat": [
          -34.9964963,
          39.7837304
         ],
         "line": {
          "color": "red",
          "width": 0.48929776709352324
         },
         "lon": [
          -64.9672817,
          -100.4458825
         ],
         "mode": "lines",
         "opacity": 0.48577680525164113,
         "showlegend": false,
         "type": "scattergeo"
        },
        {
         "lat": [
          52.0977181,
          25.61552
         ],
         "line": {
          "color": "red",
          "width": 0.4715454671536221
         },
         "lon": [
          19.0258159,
          55.84951
         ],
         "mode": "lines",
         "opacity": 0.48577680525164113,
         "showlegend": false,
         "type": "scattergeo"
        },
        {
         "lat": [
          30.3308401,
          46.603354
         ],
         "line": {
          "color": "red",
          "width": 0.43862974434838886
         },
         "lon": [
          71.247499,
          1.8883335
         ],
         "mode": "lines",
         "opacity": 0.48577680525164113,
         "showlegend": false,
         "type": "scattergeo"
        },
        {
         "lat": [
          39.7837304,
          42.6384261
         ],
         "line": {
          "color": "red",
          "width": 0.4094124173639684
         },
         "lon": [
          -100.4458825,
          12.674297
         ],
         "mode": "lines",
         "opacity": 0.48577680525164113,
         "showlegend": false,
         "type": "scattergeo"
        },
        {
         "lat": [
          46.603354,
          46.603354
         ],
         "line": {
          "color": "red",
          "width": 0.40423466321483054
         },
         "lon": [
          1.8883335,
          1.8883335
         ],
         "mode": "lines",
         "opacity": 0.48577680525164113,
         "showlegend": false,
         "type": "scattergeo"
        },
        {
         "lat": [
          17.7269134,
          17.7269134
         ],
         "line": {
          "color": "red",
          "width": 0.37131894040959734
         },
         "lon": [
          42.2363448,
          42.2363448
         ],
         "mode": "lines",
         "opacity": 0.48577680525164113,
         "showlegend": false,
         "type": "scattergeo"
        },
        {
         "lat": [
          36.5748441,
          39.7837304
         ],
         "line": {
          "color": "red",
          "width": 0.3690999029171097
         },
         "lon": [
          139.2394179,
          -100.4458825
         ],
         "mode": "lines",
         "opacity": 0.48577680525164113,
         "showlegend": false,
         "type": "scattergeo"
        },
        {
         "lat": [
          13.2904027,
          46.603354
         ],
         "line": {
          "color": "red",
          "width": 0.3679903841708659
         },
         "lon": [
          108.4265113,
          1.8883335
         ],
         "mode": "lines",
         "opacity": 0.48577680525164113,
         "showlegend": false,
         "type": "scattergeo"
        },
        {
         "lat": [
          39.904211,
          42.6384261
         ],
         "line": {
          "color": "red",
          "width": 0.33359530303730756
         },
         "lon": [
          116.407395,
          12.674297
         ],
         "mode": "lines",
         "opacity": 0.48577680525164113,
         "showlegend": false,
         "type": "scattergeo"
        },
        {
         "lat": [
          51.0834196,
          39.7837304
         ],
         "line": {
          "color": "red",
          "width": 0.33100642596273866
         },
         "lon": [
          10.4234469,
          -100.4458825
         ],
         "mode": "lines",
         "opacity": 0.48577680525164113,
         "showlegend": false,
         "type": "scattergeo"
        },
        {
         "lat": [
          -10.3333333,
          39.7837304
         ],
         "line": {
          "color": "red",
          "width": 0.31769220100781287
         },
         "lon": [
          -53.2,
          -100.4458825
         ],
         "mode": "lines",
         "opacity": 0.48577680525164113,
         "showlegend": false,
         "type": "scattergeo"
        },
        {
         "lat": [
          22.350627,
          22.350627
         ],
         "line": {
          "color": "red",
          "width": 0.30844621145578105
         },
         "lon": [
          114.1849161,
          114.1849161
         ],
         "mode": "lines",
         "opacity": 0.48577680525164113,
         "showlegend": false,
         "type": "scattergeo"
        },
        {
         "lat": [
          50.6407351,
          39.7837304
         ],
         "line": {
          "color": "red",
          "width": 0.3077065322916185
         },
         "lon": [
          4.66696,
          -100.4458825
         ],
         "mode": "lines",
         "opacity": 0.48577680525164113,
         "showlegend": false,
         "type": "scattergeo"
        },
        {
         "lat": [
          47.286747,
          39.7837304
         ],
         "line": {
          "color": "red",
          "width": 0.3054874947991309
         },
         "lon": [
          28.5110236,
          -100.4458825
         ],
         "mode": "lines",
         "opacity": 0.48577680525164113,
         "showlegend": false,
         "type": "scattergeo"
        },
        {
         "lat": [
          46.603354,
          25.61552
         ],
         "line": {
          "color": "red",
          "width": 0.30030974064999305
         },
         "lon": [
          1.8883335,
          55.84951
         ],
         "mode": "lines",
         "opacity": 0.48577680525164113,
         "showlegend": false,
         "type": "scattergeo"
        },
        {
         "lat": [
          46.7985624,
          25.61552
         ],
         "line": {
          "color": "red",
          "width": 0.2932827885904489
         },
         "lon": [
          8.2319736,
          55.84951
         ],
         "mode": "lines",
         "opacity": 0.48577680525164113,
         "showlegend": false,
         "type": "scattergeo"
        },
        {
         "lat": [
          12.7503486,
          39.7837304
         ],
         "line": {
          "color": "red",
          "width": 0.2648051407701909
         },
         "lon": [
          122.7312101,
          -100.4458825
         ],
         "mode": "lines",
         "opacity": 0.48577680525164113,
         "showlegend": false,
         "type": "scattergeo"
        },
        {
         "lat": [
          64.6863136,
          64.6863136
         ],
         "line": {
          "color": "red",
          "width": 0.25814802829272804
         },
         "lon": [
          97.7453061,
          97.7453061
         ],
         "mode": "lines",
         "opacity": 0.48577680525164113,
         "showlegend": false,
         "type": "scattergeo"
        },
        {
         "lat": [
          39.904211,
          14.8971921
         ],
         "line": {
          "color": "red",
          "width": 0.24409412417363968
         },
         "lon": [
          116.407395,
          100.83273
         ],
         "mode": "lines",
         "opacity": 0.48577680525164113,
         "showlegend": false,
         "type": "scattergeo"
        },
        {
         "lat": [
          -31.7613365,
          39.7837304
         ],
         "line": {
          "color": "red",
          "width": 0.2215339096666821
         },
         "lon": [
          -71.3187697,
          -100.4458825
         ],
         "mode": "lines",
         "opacity": 0.48577680525164113,
         "showlegend": false,
         "type": "scattergeo"
        },
        {
         "lat": [
          38.9597594,
          25.61552
         ],
         "line": {
          "color": "red",
          "width": 0.21783551384586936
         },
         "lon": [
          34.9249653,
          55.84951
         ],
         "mode": "lines",
         "opacity": 0.48577680525164113,
         "showlegend": false,
         "type": "scattergeo"
        },
        {
         "lat": [
          40.0028028,
          25.61552
         ],
         "line": {
          "color": "red",
          "width": 0.21524663677130046
         },
         "lon": [
          -4.003104,
          55.84951
         ],
         "mode": "lines",
         "opacity": 0.48577680525164113,
         "showlegend": false,
         "type": "scattergeo"
        },
        {
         "lat": [
          30.3308401,
          39.7837304
         ],
         "line": {
          "color": "red",
          "width": 0.21117840136840646
         },
         "lon": [
          71.247499,
          -100.4458825
         ],
         "mode": "lines",
         "opacity": 0.48577680525164113,
         "showlegend": false,
         "type": "scattergeo"
        },
        {
         "lat": [
          37.566535,
          25.61552
         ],
         "line": {
          "color": "red",
          "width": 0.2067403263834312
         },
         "lon": [
          126.9779692,
          55.84951
         ],
         "mode": "lines",
         "opacity": 0.48577680525164113,
         "showlegend": false,
         "type": "scattergeo"
        },
        {
         "lat": [
          2.8894434,
          39.7837304
         ],
         "line": {
          "color": "red",
          "width": 0.20563080763718738
         },
         "lon": [
          -73.783892,
          -100.4458825
         ],
         "mode": "lines",
         "opacity": 0.48577680525164113,
         "showlegend": false,
         "type": "scattergeo"
        },
        {
         "lat": [
          52.2379891,
          39.7837304
         ],
         "line": {
          "color": "red",
          "width": 0.20267209098053718
         },
         "lon": [
          5.53460738161551,
          -100.4458825
         ],
         "mode": "lines",
         "opacity": 0.48577680525164113,
         "showlegend": false,
         "type": "scattergeo"
        },
        {
         "lat": [
          49.8167003,
          25.61552
         ],
         "line": {
          "color": "red",
          "width": 0.20230225139845592
         },
         "lon": [
          15.4749544,
          55.84951
         ],
         "mode": "lines",
         "opacity": 0.48577680525164113,
         "showlegend": false,
         "type": "scattergeo"
        },
        {
         "lat": [
          64.6863136,
          39.7837304
         ],
         "line": {
          "color": "red",
          "width": 0.199713374323887
         },
         "lon": [
          97.7453061,
          -100.4458825
         ],
         "mode": "lines",
         "opacity": 0.48577680525164113,
         "showlegend": false,
         "type": "scattergeo"
        },
        {
         "lat": [
          19.4326009,
          25.61552
         ],
         "line": {
          "color": "red",
          "width": 0.19897369515972446
         },
         "lon": [
          -99.1333416,
          55.84951
         ],
         "mode": "lines",
         "opacity": 0.48577680525164113,
         "showlegend": false,
         "type": "scattergeo"
        },
        {
         "lat": [
          19.4326009,
          39.7837304
         ],
         "line": {
          "color": "red",
          "width": 0.19601497850307428
         },
         "lon": [
          -99.1333416,
          -100.4458825
         ],
         "mode": "lines",
         "opacity": 0.48577680525164113,
         "showlegend": false,
         "type": "scattergeo"
        },
        {
         "lat": [
          13.2904027,
          40.0028028
         ],
         "line": {
          "color": "red",
          "width": 0.19268642226434285
         },
         "lon": [
          108.4265113,
          -4.003104
         ],
         "mode": "lines",
         "opacity": 0.48577680525164113,
         "showlegend": false,
         "type": "scattergeo"
        },
        {
         "lat": [
          51.0834196,
          51.303
         ],
         "line": {
          "color": "red",
          "width": 0.1878785076972863
         },
         "lon": [
          10.4234469,
          0.0732
         ],
         "mode": "lines",
         "opacity": 0.48577680525164113,
         "showlegend": false,
         "type": "scattergeo"
        },
        {
         "lat": [
          42.6384261,
          42.6384261
         ],
         "line": {
          "color": "red",
          "width": 0.16753733068281634
         },
         "lon": [
          12.674297,
          12.674297
         ],
         "mode": "lines",
         "opacity": 0.48577680525164113,
         "showlegend": false,
         "type": "scattergeo"
        },
        {
         "lat": [
          13.2904027,
          39.7837304
         ],
         "line": {
          "color": "red",
          "width": 0.16716749110073506
         },
         "lon": [
          108.4265113,
          -100.4458825
         ],
         "mode": "lines",
         "opacity": 0.48577680525164113,
         "showlegend": false,
         "type": "scattergeo"
        },
        {
         "lat": [
          23.59829785,
          25.61552
         ],
         "line": {
          "color": "red",
          "width": 0.16161989736951599
         },
         "lon": [
          120.835363138175,
          55.84951
         ],
         "mode": "lines",
         "opacity": 0.48577680525164113,
         "showlegend": false,
         "type": "scattergeo"
        },
        {
         "lat": [
          34.9823018,
          34.9823018
         ],
         "line": {
          "color": "red",
          "width": 0.15866118071286578
         },
         "lon": [
          33.1451285,
          33.1451285
         ],
         "mode": "lines",
         "opacity": 0.48577680525164113,
         "showlegend": false,
         "type": "scattergeo"
        },
        {
         "lat": [
          42.6384261,
          39.7837304
         ],
         "line": {
          "color": "red",
          "width": 0.15607230363829688
         },
         "lon": [
          12.674297,
          -100.4458825
         ],
         "mode": "lines",
         "opacity": 0.48577680525164113,
         "showlegend": false,
         "type": "scattergeo"
        },
        {
         "lat": [
          51.0834196,
          51.0834196
         ],
         "line": {
          "color": "red",
          "width": 0.15570246405621563
         },
         "lon": [
          10.4234469,
          10.4234469
         ],
         "mode": "lines",
         "opacity": 0.48577680525164113,
         "showlegend": false,
         "type": "scattergeo"
        },
        {
         "lat": [
          32.3018217,
          25.61552
         ],
         "line": {
          "color": "red",
          "width": 0.15496278489205306
         },
         "lon": [
          -64.7603583,
          55.84951
         ],
         "mode": "lines",
         "opacity": 0.48577680525164113,
         "showlegend": false,
         "type": "scattergeo"
        },
        {
         "lat": [
          49.8167003,
          39.7837304
         ],
         "line": {
          "color": "red",
          "width": 0.153483426563728
         },
         "lon": [
          15.4749544,
          -100.4458825
         ],
         "mode": "lines",
         "opacity": 0.48577680525164113,
         "showlegend": false,
         "type": "scattergeo"
        },
        {
         "lat": [
          22.350627,
          25.61552
         ],
         "line": {
          "color": "red",
          "width": 0.1531135869816467
         },
         "lon": [
          114.1849161,
          55.84951
         ],
         "mode": "lines",
         "opacity": 0.48577680525164113,
         "showlegend": false,
         "type": "scattergeo"
        },
        {
         "lat": [
          40.18658704808404,
          25.61552
         ],
         "line": {
          "color": "red",
          "width": 0.14830567241459017
         },
         "lon": [
          44.78151767883003,
          55.84951
         ],
         "mode": "lines",
         "opacity": 0.48577680525164113,
         "showlegend": false,
         "type": "scattergeo"
        },
        {
         "lat": [
          12.7503486,
          25.61552
         ],
         "line": {
          "color": "red",
          "width": 0.14719615366834635
         },
         "lon": [
          122.7312101,
          55.84951
         ],
         "mode": "lines",
         "opacity": 0.48577680525164113,
         "showlegend": false,
         "type": "scattergeo"
        },
        {
         "lat": [
          51.303,
          40.0028028
         ],
         "line": {
          "color": "red",
          "width": 0.14423743701169617
         },
         "lon": [
          0.0732,
          -4.003104
         ],
         "mode": "lines",
         "opacity": 0.48577680525164113,
         "showlegend": false,
         "type": "scattergeo"
        },
        {
         "lat": [
          46.8250388,
          39.7837304
         ],
         "line": {
          "color": "red",
          "width": 0.14090888077296473
         },
         "lon": [
          103.8499736,
          -100.4458825
         ],
         "mode": "lines",
         "opacity": 0.48577680525164113,
         "showlegend": false,
         "type": "scattergeo"
        },
        {
         "lat": [
          52.2379891,
          17.7269134
         ],
         "line": {
          "color": "red",
          "width": 0.1305533724746891
         },
         "lon": [
          5.53460738161551,
          42.2363448
         ],
         "mode": "lines",
         "opacity": 0.48577680525164113,
         "showlegend": false,
         "type": "scattergeo"
        },
        {
         "lat": [
          61.0666922,
          39.7837304
         ],
         "line": {
          "color": "red",
          "width": 0.12093754334057602
         },
         "lon": [
          -107.9917071,
          -100.4458825
         ],
         "mode": "lines",
         "opacity": 0.48577680525164113,
         "showlegend": false,
         "type": "scattergeo"
        },
        {
         "lat": [
          30.8760272,
          25.61552
         ],
         "line": {
          "color": "red",
          "width": 0.12056770375849474
         },
         "lon": [
          35.0015196,
          55.84951
         ],
         "mode": "lines",
         "opacity": 0.48577680525164113,
         "showlegend": false,
         "type": "scattergeo"
        },
        {
         "lat": [
          52.865196,
          14.8971921
         ],
         "line": {
          "color": "red",
          "width": 0.11206139337062548
         },
         "lon": [
          -7.9794599,
          100.83273
         ],
         "mode": "lines",
         "opacity": 0.48577680525164113,
         "showlegend": false,
         "type": "scattergeo"
        },
        {
         "lat": [
          39.904211,
          38.9597594
         ],
         "line": {
          "color": "red",
          "width": 0.11058203504230041
         },
         "lon": [
          116.407395,
          34.9249653
         ],
         "mode": "lines",
         "opacity": 0.48577680525164113,
         "showlegend": false,
         "type": "scattergeo"
        },
        {
         "lat": [
          36.5748441,
          25.61552
         ],
         "line": {
          "color": "red",
          "width": 0.1079931579677315
         },
         "lon": [
          139.2394179,
          55.84951
         ],
         "mode": "lines",
         "opacity": 0.48577680525164113,
         "showlegend": false,
         "type": "scattergeo"
        },
        {
         "lat": [
          26.2540493,
          39.7837304
         ],
         "line": {
          "color": "red",
          "width": 0.10762331838565023
         },
         "lon": [
          29.2675469,
          -100.4458825
         ],
         "mode": "lines",
         "opacity": 0.48577680525164113,
         "showlegend": false,
         "type": "scattergeo"
        },
        {
         "lat": [
          -41.5000831,
          39.7837304
         ],
         "line": {
          "color": "red",
          "width": 0.10540428089316259
         },
         "lon": [
          172.8344077,
          -100.4458825
         ],
         "mode": "lines",
         "opacity": 0.48577680525164113,
         "showlegend": false,
         "type": "scattergeo"
        },
        {
         "lat": [
          13.2904027,
          25.61552
         ],
         "line": {
          "color": "red",
          "width": 0.10466460172900005
         },
         "lon": [
          108.4265113,
          55.84951
         ],
         "mode": "lines",
         "opacity": 0.48577680525164113,
         "showlegend": false,
         "type": "scattergeo"
        },
        {
         "lat": [
          40.033265,
          39.7837304
         ],
         "line": {
          "color": "red",
          "width": 0.10392492256483751
         },
         "lon": [
          -7.8896263,
          -100.4458825
         ],
         "mode": "lines",
         "opacity": 0.48577680525164113,
         "showlegend": false,
         "type": "scattergeo"
        },
        {
         "lat": [
          39.7837304,
          52.865196
         ],
         "line": {
          "color": "red",
          "width": 0.10318524340067496
         },
         "lon": [
          -100.4458825,
          -7.9794599
         ],
         "mode": "lines",
         "opacity": 0.48577680525164113,
         "showlegend": false,
         "type": "scattergeo"
        },
        {
         "lat": [
          46.7985624,
          40.0028028
         ],
         "line": {
          "color": "red",
          "width": 0.10133604549026859
         },
         "lon": [
          8.2319736,
          -4.003104
         ],
         "mode": "lines",
         "opacity": 0.48577680525164113,
         "showlegend": false,
         "type": "scattergeo"
        },
        {
         "lat": [
          23.59829785,
          39.7837304
         ],
         "line": {
          "color": "red",
          "width": 0.10096620590818733
         },
         "lon": [
          120.835363138175,
          -100.4458825
         ],
         "mode": "lines",
         "opacity": 0.48577680525164113,
         "showlegend": false,
         "type": "scattergeo"
        },
        {
         "lat": [
          14.8971921,
          25.61552
         ],
         "line": {
          "color": "red",
          "width": 0.10096620590818733
         },
         "lon": [
          100.83273,
          55.84951
         ],
         "mode": "lines",
         "opacity": 0.48577680525164113,
         "showlegend": false,
         "type": "scattergeo"
        },
        {
         "lat": [
          37.566535,
          40.0028028
         ],
         "line": {
          "color": "red",
          "width": 0.10096620590818733
         },
         "lon": [
          126.9779692,
          -4.003104
         ],
         "mode": "lines",
         "opacity": 0.48577680525164113,
         "showlegend": false,
         "type": "scattergeo"
        },
        {
         "lat": [
          -4.7993356,
          25.61552
         ],
         "line": {
          "color": "red",
          "width": 0.09911700799778098
         },
         "lon": [
          114.5632032,
          55.84951
         ],
         "mode": "lines",
         "opacity": 0.48577680525164113,
         "showlegend": false,
         "type": "scattergeo"
        },
        {
         "lat": [
          -4.7993356,
          39.7837304
         ],
         "line": {
          "color": "red",
          "width": 0.09911700799778098
         },
         "lon": [
          114.5632032,
          -100.4458825
         ],
         "mode": "lines",
         "opacity": 0.48577680525164113,
         "showlegend": false,
         "type": "scattergeo"
        },
        {
         "lat": [
          46.603354,
          39.7837304
         ],
         "line": {
          "color": "red",
          "width": 0.0987471684156997
         },
         "lon": [
          1.8883335,
          -100.4458825
         ],
         "mode": "lines",
         "opacity": 0.48577680525164113,
         "showlegend": false,
         "type": "scattergeo"
        },
        {
         "lat": [
          61.0666922,
          25.61552
         ],
         "line": {
          "color": "red",
          "width": 0.09837732883361842
         },
         "lon": [
          -107.9917071,
          55.84951
         ],
         "mode": "lines",
         "opacity": 0.48577680525164113,
         "showlegend": false,
         "type": "scattergeo"
        },
        {
         "lat": [
          42.6384261,
          25.61552
         ],
         "line": {
          "color": "red",
          "width": 0.09763764966945587
         },
         "lon": [
          12.674297,
          55.84951
         ],
         "mode": "lines",
         "opacity": 0.48577680525164113,
         "showlegend": false,
         "type": "scattergeo"
        },
        {
         "lat": [
          46.7985624,
          46.603354
         ],
         "line": {
          "color": "red",
          "width": 0.09541861217696825
         },
         "lon": [
          8.2319736,
          1.8883335
         ],
         "mode": "lines",
         "opacity": 0.48577680525164113,
         "showlegend": false,
         "type": "scattergeo"
        },
        {
         "lat": [
          14.8971921,
          40.033265
         ],
         "line": {
          "color": "red",
          "width": 0.09504877259488696
         },
         "lon": [
          100.83273,
          -7.8896263
         ],
         "mode": "lines",
         "opacity": 0.48577680525164113,
         "showlegend": false,
         "type": "scattergeo"
        },
        {
         "lat": [
          39.7837304,
          46.603354
         ],
         "line": {
          "color": "red",
          "width": 0.09098053719199298
         },
         "lon": [
          -100.4458825,
          1.8883335
         ],
         "mode": "lines",
         "opacity": 0.48577680525164113,
         "showlegend": false,
         "type": "scattergeo"
        },
        {
         "lat": [
          52.865196,
          25.61552
         ],
         "line": {
          "color": "red",
          "width": 0.09024085802783043
         },
         "lon": [
          -7.9794599,
          55.84951
         ],
         "mode": "lines",
         "opacity": 0.48577680525164113,
         "showlegend": false,
         "type": "scattergeo"
        },
        {
         "lat": [
          -10.3333333,
          25.61552
         ],
         "line": {
          "color": "red",
          "width": 0.08617262262493644
         },
         "lon": [
          -53.2,
          55.84951
         ],
         "mode": "lines",
         "opacity": 0.48577680525164113,
         "showlegend": false,
         "type": "scattergeo"
        },
        {
         "lat": [
          39.7837304,
          12.7503486
         ],
         "line": {
          "color": "red",
          "width": 0.08506310387869262
         },
         "lon": [
          -100.4458825,
          122.7312101
         ],
         "mode": "lines",
         "opacity": 0.48577680525164113,
         "showlegend": false,
         "type": "scattergeo"
        },
        {
         "lat": [
          30.3308401,
          25.61552
         ],
         "line": {
          "color": "red",
          "width": 0.07766631223706717
         },
         "lon": [
          71.247499,
          55.84951
         ],
         "mode": "lines",
         "opacity": 0.48577680525164113,
         "showlegend": false,
         "type": "scattergeo"
        },
        {
         "lat": [
          39.904211,
          64.6863136
         ],
         "line": {
          "color": "red",
          "width": 0.07618695390874208
         },
         "lon": [
          116.407395,
          97.7453061
         ],
         "mode": "lines",
         "opacity": 0.48577680525164113,
         "showlegend": false,
         "type": "scattergeo"
        },
        {
         "lat": [
          39.904211,
          22.350627
         ],
         "line": {
          "color": "red",
          "width": 0.07248855808792935
         },
         "lon": [
          116.407395,
          114.1849161
         ],
         "mode": "lines",
         "opacity": 0.48577680525164113,
         "showlegend": false,
         "type": "scattergeo"
        },
        {
         "lat": [
          39.7837304,
          50.6407351
         ],
         "line": {
          "color": "red",
          "width": 0.07063936017752301
         },
         "lon": [
          -100.4458825,
          4.66696
         ],
         "mode": "lines",
         "opacity": 0.48577680525164113,
         "showlegend": false,
         "type": "scattergeo"
        },
        {
         "lat": [
          42.6073975,
          39.7837304
         ],
         "line": {
          "color": "red",
          "width": 0.06102353104340992
         },
         "lon": [
          25.4856617,
          -100.4458825
         ],
         "mode": "lines",
         "opacity": 0.48577680525164113,
         "showlegend": false,
         "type": "scattergeo"
        },
        {
         "lat": [
          22.3511148,
          1.2904753
         ],
         "line": {
          "color": "red",
          "width": 0.05954417271508483
         },
         "lon": [
          78.6677428,
          103.8520359
         ],
         "mode": "lines",
         "opacity": 0.48577680525164113,
         "showlegend": false,
         "type": "scattergeo"
        },
        {
         "lat": [
          39.7837304,
          51.0834196
         ],
         "line": {
          "color": "red",
          "width": 0.05917433313300356
         },
         "lon": [
          -100.4458825,
          10.4234469
         ],
         "mode": "lines",
         "opacity": 0.48577680525164113,
         "showlegend": false,
         "type": "scattergeo"
        },
        {
         "lat": [
          39.7837304,
          -24.7761086
         ],
         "line": {
          "color": "red",
          "width": 0.058804493550922286
         },
         "lon": [
          -100.4458825,
          134.755
         ],
         "mode": "lines",
         "opacity": 0.48577680525164113,
         "showlegend": false,
         "type": "scattergeo"
        },
        {
         "lat": [
          36.5748441,
          50.6407351
         ],
         "line": {
          "color": "red",
          "width": 0.05843465396884102
         },
         "lon": [
          139.2394179,
          4.66696
         ],
         "mode": "lines",
         "opacity": 0.48577680525164113,
         "showlegend": false,
         "type": "scattergeo"
        },
        {
         "lat": [
          22.3511148,
          42.6384261
         ],
         "line": {
          "color": "red",
          "width": 0.05695529564051592
         },
         "lon": [
          78.6677428,
          12.674297
         ],
         "mode": "lines",
         "opacity": 0.48577680525164113,
         "showlegend": false,
         "type": "scattergeo"
        },
        {
         "lat": [
          52.0977181,
          34.9823018
         ],
         "line": {
          "color": "red",
          "width": 0.05621561647635338
         },
         "lon": [
          19.0258159,
          33.1451285
         ],
         "mode": "lines",
         "opacity": 0.48577680525164113,
         "showlegend": false,
         "type": "scattergeo"
        },
        {
         "lat": [
          39.7837304,
          45.9852129
         ],
         "line": {
          "color": "red",
          "width": 0.05584577689427211
         },
         "lon": [
          -100.4458825,
          24.6859225
         ],
         "mode": "lines",
         "opacity": 0.48577680525164113,
         "showlegend": false,
         "type": "scattergeo"
        },
        {
         "lat": [
          52.2379891,
          52.865196
         ],
         "line": {
          "color": "red",
          "width": 0.05584577689427211
         },
         "lon": [
          5.53460738161551,
          -7.9794599
         ],
         "mode": "lines",
         "opacity": 0.48577680525164113,
         "showlegend": false,
         "type": "scattergeo"
        },
        {
         "lat": [
          51.303,
          51.303
         ],
         "line": {
          "color": "red",
          "width": 0.05547593731219083
         },
         "lon": [
          0.0732,
          0.0732
         ],
         "mode": "lines",
         "opacity": 0.48577680525164113,
         "showlegend": false,
         "type": "scattergeo"
        },
        {
         "lat": [
          39.7837304,
          64.6863136
         ],
         "line": {
          "color": "red",
          "width": 0.054736258148028294
         },
         "lon": [
          -100.4458825,
          97.7453061
         ],
         "mode": "lines",
         "opacity": 0.48577680525164113,
         "showlegend": false,
         "type": "scattergeo"
        },
        {
         "lat": [
          39.7837304,
          64.5731537
         ],
         "line": {
          "color": "red",
          "width": 0.054366418565947025
         },
         "lon": [
          -100.4458825,
          11.5280364395482
         ],
         "mode": "lines",
         "opacity": 0.48577680525164113,
         "showlegend": false,
         "type": "scattergeo"
        },
        {
         "lat": [
          39.7837304,
          51.38660965
         ],
         "line": {
          "color": "red",
          "width": 0.05399657898386575
         },
         "lon": [
          -100.4458825,
          0.547714867236488
         ],
         "mode": "lines",
         "opacity": 0.48577680525164113,
         "showlegend": false,
         "type": "scattergeo"
        },
        {
         "lat": [
          36.5748441,
          61.0666922
         ],
         "line": {
          "color": "red",
          "width": 0.05399657898386575
         },
         "lon": [
          139.2394179,
          -107.9917071
         ],
         "mode": "lines",
         "opacity": 0.48577680525164113,
         "showlegend": false,
         "type": "scattergeo"
        },
        {
         "lat": [
          23.59829785,
          -24.7761086
         ],
         "line": {
          "color": "red",
          "width": 0.05362673940178447
         },
         "lon": [
          120.835363138175,
          134.755
         ],
         "mode": "lines",
         "opacity": 0.48577680525164113,
         "showlegend": false,
         "type": "scattergeo"
        },
        {
         "lat": [
          8.0018709,
          12.7503486
         ],
         "line": {
          "color": "red",
          "width": 0.053256899819703205
         },
         "lon": [
          -66.1109318,
          122.7312101
         ],
         "mode": "lines",
         "opacity": 0.48577680525164113,
         "showlegend": false,
         "type": "scattergeo"
        },
        {
         "lat": [
          24.4768783,
          34.9823018
         ],
         "line": {
          "color": "red",
          "width": 0.053256899819703205
         },
         "lon": [
          90.2932426,
          33.1451285
         ],
         "mode": "lines",
         "opacity": 0.48577680525164113,
         "showlegend": false,
         "type": "scattergeo"
        },
        {
         "lat": [
          51.0834196,
          52.0977181
         ],
         "line": {
          "color": "red",
          "width": 0.053256899819703205
         },
         "lon": [
          10.4234469,
          19.0258159
         ],
         "mode": "lines",
         "opacity": 0.48577680525164113,
         "showlegend": false,
         "type": "scattergeo"
        },
        {
         "lat": [
          39.904211,
          61.0666922
         ],
         "line": {
          "color": "red",
          "width": 0.052887060237621936
         },
         "lon": [
          116.407395,
          -107.9917071
         ],
         "mode": "lines",
         "opacity": 0.48577680525164113,
         "showlegend": false,
         "type": "scattergeo"
        },
        {
         "lat": [
          40.033265,
          40.033265
         ],
         "line": {
          "color": "red",
          "width": 0.052887060237621936
         },
         "lon": [
          -7.8896263,
          -7.8896263
         ],
         "mode": "lines",
         "opacity": 0.48577680525164113,
         "showlegend": false,
         "type": "scattergeo"
        },
        {
         "lat": [
          46.603354,
          42.6384261
         ],
         "line": {
          "color": "red",
          "width": 0.05251722065554066
         },
         "lon": [
          1.8883335,
          12.674297
         ],
         "mode": "lines",
         "opacity": 0.48577680525164113,
         "showlegend": false,
         "type": "scattergeo"
        },
        {
         "lat": [
          2.8894434,
          64.6863136
         ],
         "line": {
          "color": "red",
          "width": 0.05251722065554066
         },
         "lon": [
          -73.783892,
          97.7453061
         ],
         "mode": "lines",
         "opacity": 0.48577680525164113,
         "showlegend": false,
         "type": "scattergeo"
        },
        {
         "lat": [
          36.5748441,
          17.7269134
         ],
         "line": {
          "color": "red",
          "width": 0.05251722065554066
         },
         "lon": [
          139.2394179,
          42.2363448
         ],
         "mode": "lines",
         "opacity": 0.48577680525164113,
         "showlegend": false,
         "type": "scattergeo"
        },
        {
         "lat": [
          46.7985624,
          45.9852129
         ],
         "line": {
          "color": "red",
          "width": 0.051777541491378115
         },
         "lon": [
          8.2319736,
          24.6859225
         ],
         "mode": "lines",
         "opacity": 0.48577680525164113,
         "showlegend": false,
         "type": "scattergeo"
        },
        {
         "lat": [
          45.9852129,
          52.865196
         ],
         "line": {
          "color": "red",
          "width": 0.051407701909296846
         },
         "lon": [
          24.6859225,
          -7.9794599
         ],
         "mode": "lines",
         "opacity": 0.48577680525164113,
         "showlegend": false,
         "type": "scattergeo"
        },
        {
         "lat": [
          49.4871968,
          25.61552
         ],
         "line": {
          "color": "red",
          "width": 0.051407701909296846
         },
         "lon": [
          31.2718321,
          55.84951
         ],
         "mode": "lines",
         "opacity": 0.48577680525164113,
         "showlegend": false,
         "type": "scattergeo"
        },
        {
         "lat": [
          22.3511148,
          25.61552
         ],
         "line": {
          "color": "red",
          "width": 0.051407701909296846
         },
         "lon": [
          78.6677428,
          55.84951
         ],
         "mode": "lines",
         "opacity": 0.48577680525164113,
         "showlegend": false,
         "type": "scattergeo"
        },
        {
         "lat": [
          -24.7761086,
          39.7837304
         ],
         "line": {
          "color": "red",
          "width": 0.051407701909296846
         },
         "lon": [
          134.755,
          -100.4458825
         ],
         "mode": "lines",
         "opacity": 0.48577680525164113,
         "showlegend": false,
         "type": "scattergeo"
        },
        {
         "lat": [
          51.303,
          39.7837304
         ],
         "line": {
          "color": "red",
          "width": 0.05103786232721557
         },
         "lon": [
          0.0732,
          -100.4458825
         ],
         "mode": "lines",
         "opacity": 0.48577680525164113,
         "showlegend": false,
         "type": "scattergeo"
        },
        {
         "lat": [
          40.0028028,
          39.904211
         ],
         "line": {
          "color": "red",
          "width": 0.050668022745134295
         },
         "lon": [
          -4.003104,
          116.407395
         ],
         "mode": "lines",
         "opacity": 0.48577680525164113,
         "showlegend": false,
         "type": "scattergeo"
        },
        {
         "lat": [
          47.286747,
          64.5731537
         ],
         "line": {
          "color": "red",
          "width": 0.050298183163053026
         },
         "lon": [
          28.5110236,
          11.5280364395482
         ],
         "mode": "lines",
         "opacity": 0.48577680525164113,
         "showlegend": false,
         "type": "scattergeo"
        },
        {
         "lat": [
          19.4326009,
          19.4326009
         ],
         "line": {
          "color": "red",
          "width": 0.04992834358097175
         },
         "lon": [
          -99.1333416,
          -99.1333416
         ],
         "mode": "lines",
         "opacity": 0.48577680525164113,
         "showlegend": false,
         "type": "scattergeo"
        },
        {
         "lat": [
          40.18658704808404,
          39.7837304
         ],
         "line": {
          "color": "red",
          "width": 0.04992834358097175
         },
         "lon": [
          44.78151767883003,
          -100.4458825
         ],
         "mode": "lines",
         "opacity": 0.48577680525164113,
         "showlegend": false,
         "type": "scattergeo"
        },
        {
         "lat": [
          46.7985624,
          38.9597594
         ],
         "line": {
          "color": "red",
          "width": 0.048818824834727936
         },
         "lon": [
          8.2319736,
          34.9249653
         ],
         "mode": "lines",
         "opacity": 0.48577680525164113,
         "showlegend": false,
         "type": "scattergeo"
        },
        {
         "lat": [
          25.61552,
          51.303
         ],
         "line": {
          "color": "red",
          "width": 0.048818824834727936
         },
         "lon": [
          55.84951,
          0.0732
         ],
         "mode": "lines",
         "opacity": 0.48577680525164113,
         "showlegend": false,
         "type": "scattergeo"
        },
        {
         "lat": [
          39.904211,
          46.603354
         ],
         "line": {
          "color": "red",
          "width": 0.04622994776015903
         },
         "lon": [
          116.407395,
          1.8883335
         ],
         "mode": "lines",
         "opacity": 0.48577680525164113,
         "showlegend": false,
         "type": "scattergeo"
        },
        {
         "lat": [
          22.3511148,
          46.603354
         ],
         "line": {
          "color": "red",
          "width": 0.0440109102676714
         },
         "lon": [
          78.6677428,
          1.8883335
         ],
         "mode": "lines",
         "opacity": 0.48577680525164113,
         "showlegend": false,
         "type": "scattergeo"
        },
        {
         "lat": [
          49.4871968,
          47.2000338
         ],
         "line": {
          "color": "red",
          "width": 0.04327123110350885
         },
         "lon": [
          31.2718321,
          13.199959
         ],
         "mode": "lines",
         "opacity": 0.48577680525164113,
         "showlegend": false,
         "type": "scattergeo"
        },
        {
         "lat": [
          39.7837304,
          22.350627
         ],
         "line": {
          "color": "red",
          "width": 0.041791872775183765
         },
         "lon": [
          -100.4458825,
          114.1849161
         ],
         "mode": "lines",
         "opacity": 0.48577680525164113,
         "showlegend": false,
         "type": "scattergeo"
        },
        {
         "lat": [
          52.2379891,
          42.6384261
         ],
         "line": {
          "color": "red",
          "width": 0.0399426748647774
         },
         "lon": [
          5.53460738161551,
          12.674297
         ],
         "mode": "lines",
         "opacity": 0.48577680525164113,
         "showlegend": false,
         "type": "scattergeo"
        },
        {
         "lat": [
          17.7269134,
          25.61552
         ],
         "line": {
          "color": "red",
          "width": 0.0373537977902085
         },
         "lon": [
          42.2363448,
          55.84951
         ],
         "mode": "lines",
         "opacity": 0.48577680525164113,
         "showlegend": false,
         "type": "scattergeo"
        },
        {
         "lat": [
          22.350627,
          39.7837304
         ],
         "line": {
          "color": "red",
          "width": 0.03587443946188341
         },
         "lon": [
          114.1849161,
          -100.4458825
         ],
         "mode": "lines",
         "opacity": 0.48577680525164113,
         "showlegend": false,
         "type": "scattergeo"
        },
        {
         "lat": [
          52.0977181,
          39.7837304
         ],
         "line": {
          "color": "red",
          "width": 0.03513476029772086
         },
         "lon": [
          19.0258159,
          -100.4458825
         ],
         "mode": "lines",
         "opacity": 0.48577680525164113,
         "showlegend": false,
         "type": "scattergeo"
        },
        {
         "lat": [
          45.8133113,
          52.865196
         ],
         "line": {
          "color": "red",
          "width": 0.03291572280523323
         },
         "lon": [
          14.4808369,
          -7.9794599
         ],
         "mode": "lines",
         "opacity": 0.48577680525164113,
         "showlegend": false,
         "type": "scattergeo"
        },
        {
         "lat": [
          -17.0568696,
          39.7837304
         ],
         "line": {
          "color": "red",
          "width": 0.03291572280523323
         },
         "lon": [
          -64.9912286,
          -100.4458825
         ],
         "mode": "lines",
         "opacity": 0.48577680525164113,
         "showlegend": false,
         "type": "scattergeo"
        },
        {
         "lat": [
          22.3511148,
          40.033265
         ],
         "line": {
          "color": "red",
          "width": 0.032176043641070684
         },
         "lon": [
          78.6677428,
          -7.8896263
         ],
         "mode": "lines",
         "opacity": 0.48577680525164113,
         "showlegend": false,
         "type": "scattergeo"
        },
        {
         "lat": [
          38.9597594,
          1.2904753
         ],
         "line": {
          "color": "red",
          "width": 0.030696685312745598
         },
         "lon": [
          34.9249653,
          103.8520359
         ],
         "mode": "lines",
         "opacity": 0.48577680525164113,
         "showlegend": false,
         "type": "scattergeo"
        },
        {
         "lat": [
          12.7503486,
          12.7503486
         ],
         "line": {
          "color": "red",
          "width": 0.026628449909851602
         },
         "lon": [
          122.7312101,
          122.7312101
         ],
         "mode": "lines",
         "opacity": 0.48577680525164113,
         "showlegend": false,
         "type": "scattergeo"
        },
        {
         "hoverinfo": "text",
         "lat": [
          39.7837304,
          46.603354,
          17.7269134,
          22.350627,
          64.6863136,
          42.6384261,
          34.9823018,
          51.0834196,
          51.303,
          40.033265,
          19.4326009,
          12.7503486
         ],
         "legendgroup": "group2",
         "lon": [
          -100.4458825,
          1.8883335,
          42.2363448,
          114.1849161,
          97.7453061,
          12.674297,
          33.1451285,
          10.4234469,
          0.0732,
          -7.8896263,
          -99.1333416,
          122.7312101
         ],
         "marker": {
          "color": "rgb(33,113,181)",
          "line": {
           "width": 0
          },
          "size": [
           34.083306365863805,
           0.40423466321483054,
           0.37131894040959734,
           0.30844621145578105,
           0.25814802829272804,
           0.16753733068281634,
           0.15866118071286578,
           0.15570246405621563,
           0.05547593731219083,
           0.052887060237621936,
           0.04992834358097175,
           0.026628449909851602
          ]
         },
         "mode": "markers",
         "name": "Flux intra pays",
         "showlegend": true,
         "text": [
          "united states",
          "france",
          "saudi arabia",
          "hong kong",
          "russia",
          "italy",
          "cyprus",
          "germany",
          "united kingdom",
          "portugal",
          "mexico",
          "philippines"
         ],
         "type": "scattergeo"
        },
        {
         "hoverinfo": "text",
         "lat": [
          39.7837304,
          39.904211,
          39.904211,
          49.4871968,
          52.2379891,
          39.904211,
          39.7837304,
          22.3511148,
          37.566535,
          39.904211,
          38.9597594,
          46.7985624,
          39.904211,
          2.8894434,
          39.904211,
          52.2379891,
          45.9852129,
          40.0028028,
          -34.9964963,
          52.0977181,
          30.3308401,
          39.7837304,
          46.603354,
          17.7269134,
          36.5748441,
          13.2904027,
          39.904211,
          51.0834196,
          -10.3333333,
          22.350627,
          50.6407351,
          47.286747,
          46.603354,
          46.7985624,
          12.7503486,
          64.6863136,
          39.904211,
          -31.7613365,
          38.9597594,
          40.0028028,
          30.3308401,
          37.566535,
          2.8894434,
          52.2379891,
          49.8167003,
          64.6863136,
          19.4326009,
          19.4326009,
          13.2904027,
          51.0834196,
          42.6384261,
          13.2904027,
          23.59829785,
          34.9823018,
          42.6384261,
          51.0834196,
          32.3018217,
          49.8167003,
          22.350627,
          40.18658704808404,
          12.7503486,
          51.303,
          46.8250388,
          52.2379891,
          61.0666922,
          30.8760272,
          52.865196,
          39.904211,
          36.5748441,
          26.2540493,
          -41.5000831,
          13.2904027,
          40.033265,
          39.7837304,
          46.7985624,
          23.59829785,
          14.8971921,
          37.566535,
          -4.7993356,
          -4.7993356,
          46.603354,
          61.0666922,
          42.6384261,
          46.7985624,
          14.8971921,
          39.7837304,
          52.865196,
          -10.3333333,
          39.7837304,
          30.3308401,
          39.904211,
          39.904211,
          39.7837304,
          42.6073975,
          22.3511148,
          39.7837304,
          39.7837304,
          36.5748441,
          22.3511148,
          52.0977181,
          39.7837304,
          52.2379891,
          51.303,
          39.7837304,
          39.7837304,
          39.7837304,
          36.5748441,
          23.59829785,
          8.0018709,
          24.4768783,
          51.0834196,
          39.904211,
          40.033265,
          46.603354,
          2.8894434,
          36.5748441,
          46.7985624,
          45.9852129,
          49.4871968,
          22.3511148,
          -24.7761086,
          51.303,
          40.0028028,
          47.286747,
          19.4326009,
          40.18658704808404,
          46.7985624,
          25.61552,
          39.904211,
          22.3511148,
          49.4871968,
          39.7837304,
          52.2379891,
          17.7269134,
          22.350627,
          52.0977181,
          45.8133113,
          -17.0568696,
          22.3511148,
          38.9597594,
          12.7503486
         ],
         "legendgroup": "group1",
         "lon": [
          -100.4458825,
          116.407395,
          116.407395,
          31.2718321,
          5.53460738161551,
          116.407395,
          -100.4458825,
          78.6677428,
          126.9779692,
          116.407395,
          34.9249653,
          8.2319736,
          116.407395,
          -73.783892,
          116.407395,
          5.53460738161551,
          24.6859225,
          -4.003104,
          -64.9672817,
          19.0258159,
          71.247499,
          -100.4458825,
          1.8883335,
          42.2363448,
          139.2394179,
          108.4265113,
          116.407395,
          10.4234469,
          -53.2,
          114.1849161,
          4.66696,
          28.5110236,
          1.8883335,
          8.2319736,
          122.7312101,
          97.7453061,
          116.407395,
          -71.3187697,
          34.9249653,
          -4.003104,
          71.247499,
          126.9779692,
          -73.783892,
          5.53460738161551,
          15.4749544,
          97.7453061,
          -99.1333416,
          -99.1333416,
          108.4265113,
          10.4234469,
          12.674297,
          108.4265113,
          120.835363138175,
          33.1451285,
          12.674297,
          10.4234469,
          -64.7603583,
          15.4749544,
          114.1849161,
          44.78151767883003,
          122.7312101,
          0.0732,
          103.8499736,
          5.53460738161551,
          -107.9917071,
          35.0015196,
          -7.9794599,
          116.407395,
          139.2394179,
          29.2675469,
          172.8344077,
          108.4265113,
          -7.8896263,
          -100.4458825,
          8.2319736,
          120.835363138175,
          100.83273,
          126.9779692,
          114.5632032,
          114.5632032,
          1.8883335,
          -107.9917071,
          12.674297,
          8.2319736,
          100.83273,
          -100.4458825,
          -7.9794599,
          -53.2,
          -100.4458825,
          71.247499,
          116.407395,
          116.407395,
          -100.4458825,
          25.4856617,
          78.6677428,
          -100.4458825,
          -100.4458825,
          139.2394179,
          78.6677428,
          19.0258159,
          -100.4458825,
          5.53460738161551,
          0.0732,
          -100.4458825,
          -100.4458825,
          -100.4458825,
          139.2394179,
          120.835363138175,
          -66.1109318,
          90.2932426,
          10.4234469,
          116.407395,
          -7.8896263,
          1.8883335,
          -73.783892,
          139.2394179,
          8.2319736,
          24.6859225,
          31.2718321,
          78.6677428,
          134.755,
          0.0732,
          -4.003104,
          28.5110236,
          -99.1333416,
          44.78151767883003,
          8.2319736,
          55.84951,
          116.407395,
          78.6677428,
          31.2718321,
          -100.4458825,
          5.53460738161551,
          42.2363448,
          114.1849161,
          19.0258159,
          14.4808369,
          -64.9912286,
          78.6677428,
          34.9249653,
          122.7312101
         ],
         "marker": {
          "color": "rgb(255, 0, 0)",
          "line": {
           "color": "rgba(68, 68, 68, 0)",
           "width": 1
          },
          "size": 2
         },
         "mode": "markers",
         "name": "Flux inter pays",
         "showlegend": true,
         "text": [
          "united states",
          "china",
          "china",
          "ukraine",
          "netherlands",
          "china",
          "united states",
          "india",
          "south korea",
          "china",
          "turkey",
          "swiss",
          "china",
          "colombia",
          "china",
          "netherlands",
          "roumania",
          "spain",
          "argentina",
          "poland",
          "pakistan",
          "united states",
          "france",
          "saudi arabia",
          "japan",
          "vietnam",
          "china",
          "germany",
          "brazil",
          "hong kong",
          "belgium",
          "moldova",
          "france",
          "swiss",
          "philippines",
          "russia",
          "china",
          "chile",
          "turkey",
          "spain",
          "pakistan",
          "south korea",
          "colombia",
          "netherlands",
          "czech republic",
          "russia",
          "mexico",
          "mexico",
          "vietnam",
          "germany",
          "italy",
          "vietnam",
          "taiwan",
          "cyprus",
          "italy",
          "germany",
          "bermuda",
          "czech republic",
          "hong kong",
          "armenia",
          "philippines",
          "united kingdom",
          "mongolia",
          "netherlands",
          "canada",
          "israel",
          "ireland",
          "china",
          "japan",
          "egypt",
          "new zealand",
          "vietnam",
          "portugal",
          "united states",
          "swiss",
          "taiwan",
          "thailand",
          "south korea",
          "indonesia",
          "indonesia",
          "france",
          "canada",
          "italy",
          "swiss",
          "thailand",
          "united states",
          "ireland",
          "brazil",
          "united states",
          "pakistan",
          "china",
          "china",
          "united states",
          "bulgaria",
          "india",
          "united states",
          "united states",
          "japan",
          "india",
          "poland",
          "united states",
          "netherlands",
          "united kingdom",
          "united states",
          "united states",
          "united states",
          "japan",
          "taiwan",
          "venezuela",
          "bangladesh",
          "germany",
          "china",
          "portugal",
          "france",
          "colombia",
          "japan",
          "swiss",
          "roumania",
          "ukraine",
          "india",
          "australia",
          "united kingdom",
          "spain",
          "moldova",
          "mexico",
          "armenia",
          "swiss",
          "united arab emirates",
          "china",
          "india",
          "ukraine",
          "united states",
          "netherlands",
          "saudi arabia",
          "hong kong",
          "poland",
          "slovenia",
          "bolivia",
          "india",
          "turkey",
          "philippines"
         ],
         "type": "scattergeo"
        }
       ],
       "layout": {
        "geo": {
         "countrycolor": "rgb(204, 204, 204)",
         "landcolor": "rgb(243, 243, 243)",
         "projection": {
          "type": "orthographic"
         },
         "scope": "world",
         "showcountries": true,
         "showland": true
        },
        "title": "Flux des cyberattaques mondiale en mars 2018 <br> source : <a href=\"http://www.norse-corp.com/about-us/who-we-are/\">Norse </a>"
       }
      },
      "text/html": [
       "<div id=\"ee20a5ce-160e-4547-ac80-7c317b4521c9\" style=\"height: 525px; width: 100%;\" class=\"plotly-graph-div\"></div><script type=\"text/javascript\">require([\"plotly\"], function(Plotly) { window.PLOTLYENV=window.PLOTLYENV || {};window.PLOTLYENV.BASE_URL=\"https://plot.ly\";Plotly.newPlot(\"ee20a5ce-160e-4547-ac80-7c317b4521c9\", [{\"showlegend\": false, \"line\": {\"color\": \"red\", \"width\": 34.083306365863805}, \"type\": \"scattergeo\", \"opacity\": 0.48577680525164113, \"mode\": \"lines\", \"lon\": [-100.4458825, -100.4458825], \"lat\": [39.7837304, 39.7837304]}, {\"showlegend\": false, \"line\": {\"color\": \"red\", \"width\": 9.940178447598354}, \"type\": \"scattergeo\", \"opacity\": 0.48577680525164113, \"mode\": \"lines\", \"lon\": [116.407395, 55.84951], \"lat\": [39.904211, 25.61552]}, {\"showlegend\": false, \"line\": {\"color\": \"red\", \"width\": 4.829735102399334}, \"type\": \"scattergeo\", \"opacity\": 0.48577680525164113, \"mode\": \"lines\", \"lon\": [116.407395, -100.4458825], \"lat\": [39.904211, 39.7837304]}, {\"showlegend\": false, \"line\": {\"color\": \"red\", \"width\": 2.375849475290093}, \"type\": \"scattergeo\", \"opacity\": 0.48577680525164113, \"mode\": \"lines\", \"lon\": [31.2718321, -100.4458825], \"lat\": [49.4871968, 39.7837304]}, {\"showlegend\": false, \"line\": {\"color\": \"red\", \"width\": 1.9239055059867782}, \"type\": \"scattergeo\", \"opacity\": 0.48577680525164113, \"mode\": \"lines\", \"lon\": [5.53460738161551, 55.84951], \"lat\": [52.2379891, 25.61552]}, {\"showlegend\": false, \"line\": {\"color\": \"red\", \"width\": 1.7608062502889372}, \"type\": \"scattergeo\", \"opacity\": 0.48577680525164113, \"mode\": \"lines\", \"lon\": [116.407395, -4.003104], \"lat\": [39.904211, 40.0028028]}, {\"showlegend\": false, \"line\": {\"color\": \"red\", \"width\": 1.0185382090518238}, \"type\": \"scattergeo\", \"opacity\": 0.48577680525164113, \"mode\": \"lines\", \"lon\": [-100.4458825, 55.84951], \"lat\": [39.7837304, 25.61552]}, {\"showlegend\": false, \"line\": {\"color\": \"red\", \"width\": 0.9331052655910499}, \"type\": \"scattergeo\", \"opacity\": 0.48577680525164113, \"mode\": \"lines\", \"lon\": [78.6677428, -100.4458825], \"lat\": [22.3511148, 39.7837304]}, {\"showlegend\": false, \"line\": {\"color\": \"red\", \"width\": 0.9253386343673432}, \"type\": \"scattergeo\", \"opacity\": 0.48577680525164113, \"mode\": \"lines\", \"lon\": [126.9779692, -100.4458825], \"lat\": [37.566535, 39.7837304]}, {\"showlegend\": false, \"line\": {\"color\": \"red\", \"width\": 0.9090656927557672}, \"type\": \"scattergeo\", \"opacity\": 0.48577680525164113, \"mode\": \"lines\", \"lon\": [116.407395, 103.8520359], \"lat\": [39.904211, 1.2904753]}, {\"showlegend\": false, \"line\": {\"color\": \"red\", \"width\": 0.7104618371781241}, \"type\": \"scattergeo\", \"opacity\": 0.48577680525164113, \"mode\": \"lines\", \"lon\": [34.9249653, -100.4458825], \"lat\": [38.9597594, 39.7837304]}, {\"showlegend\": false, \"line\": {\"color\": \"red\", \"width\": 0.6986269705515233}, \"type\": \"scattergeo\", \"opacity\": 0.48577680525164113, \"mode\": \"lines\", \"lon\": [8.2319736, -100.4458825], \"lat\": [46.7985624, 39.7837304]}, {\"showlegend\": false, \"line\": {\"color\": \"red\", \"width\": 0.5714021543155656}, \"type\": \"scattergeo\", \"opacity\": 0.48577680525164113, \"mode\": \"lines\", \"lon\": [116.407395, 11.5280364395482], \"lat\": [39.904211, 64.5731537]}, {\"showlegend\": false, \"line\": {\"color\": \"red\", \"width\": 0.5625260043456151}, \"type\": \"scattergeo\", \"opacity\": 0.48577680525164113, \"mode\": \"lines\", \"lon\": [-73.783892, -4.003104], \"lat\": [2.8894434, 40.0028028]}, {\"showlegend\": false, \"line\": {\"color\": \"red\", \"width\": 0.5525403356294207}, \"type\": \"scattergeo\", \"opacity\": 0.48577680525164113, \"mode\": \"lines\", \"lon\": [116.407395, 122.7312101], \"lat\": [39.904211, 12.7503486]}, {\"showlegend\": false, \"line\": {\"color\": \"red\", \"width\": 0.5518006564652582}, \"type\": \"scattergeo\", \"opacity\": 0.48577680525164113, \"mode\": \"lines\", \"lon\": [5.53460738161551, 4.66696], \"lat\": [52.2379891, 50.6407351]}, {\"showlegend\": false, \"line\": {\"color\": \"red\", \"width\": 0.5403356294207388}, \"type\": \"scattergeo\", \"opacity\": 0.48577680525164113, \"mode\": \"lines\", \"lon\": [24.6859225, -100.4458825], \"lat\": [45.9852129, 39.7837304]}, {\"showlegend\": false, \"line\": {\"color\": \"red\", \"width\": 0.5373769127640886}, \"type\": \"scattergeo\", \"opacity\": 0.48577680525164113, \"mode\": \"lines\", \"lon\": [-4.003104, -100.4458825], \"lat\": [40.0028028, 39.7837304]}, {\"showlegend\": false, \"line\": {\"color\": \"red\", \"width\": 0.48929776709352324}, \"type\": \"scattergeo\", \"opacity\": 0.48577680525164113, \"mode\": \"lines\", \"lon\": [-64.9672817, -100.4458825], \"lat\": [-34.9964963, 39.7837304]}, {\"showlegend\": false, \"line\": {\"color\": \"red\", \"width\": 0.4715454671536221}, \"type\": \"scattergeo\", \"opacity\": 0.48577680525164113, \"mode\": \"lines\", \"lon\": [19.0258159, 55.84951], \"lat\": [52.0977181, 25.61552]}, {\"showlegend\": false, \"line\": {\"color\": \"red\", \"width\": 0.43862974434838886}, \"type\": \"scattergeo\", \"opacity\": 0.48577680525164113, \"mode\": \"lines\", \"lon\": [71.247499, 1.8883335], \"lat\": [30.3308401, 46.603354]}, {\"showlegend\": false, \"line\": {\"color\": \"red\", \"width\": 0.4094124173639684}, \"type\": \"scattergeo\", \"opacity\": 0.48577680525164113, \"mode\": \"lines\", \"lon\": [-100.4458825, 12.674297], \"lat\": [39.7837304, 42.6384261]}, {\"showlegend\": false, \"line\": {\"color\": \"red\", \"width\": 0.40423466321483054}, \"type\": \"scattergeo\", \"opacity\": 0.48577680525164113, \"mode\": \"lines\", \"lon\": [1.8883335, 1.8883335], \"lat\": [46.603354, 46.603354]}, {\"showlegend\": false, \"line\": {\"color\": \"red\", \"width\": 0.37131894040959734}, \"type\": \"scattergeo\", \"opacity\": 0.48577680525164113, \"mode\": \"lines\", \"lon\": [42.2363448, 42.2363448], \"lat\": [17.7269134, 17.7269134]}, {\"showlegend\": false, \"line\": {\"color\": \"red\", \"width\": 0.3690999029171097}, \"type\": \"scattergeo\", \"opacity\": 0.48577680525164113, \"mode\": \"lines\", \"lon\": [139.2394179, -100.4458825], \"lat\": [36.5748441, 39.7837304]}, {\"showlegend\": false, \"line\": {\"color\": \"red\", \"width\": 0.3679903841708659}, \"type\": \"scattergeo\", \"opacity\": 0.48577680525164113, \"mode\": \"lines\", \"lon\": [108.4265113, 1.8883335], \"lat\": [13.2904027, 46.603354]}, {\"showlegend\": false, \"line\": {\"color\": \"red\", \"width\": 0.33359530303730756}, \"type\": \"scattergeo\", \"opacity\": 0.48577680525164113, \"mode\": \"lines\", \"lon\": [116.407395, 12.674297], \"lat\": [39.904211, 42.6384261]}, {\"showlegend\": false, \"line\": {\"color\": \"red\", \"width\": 0.33100642596273866}, \"type\": \"scattergeo\", \"opacity\": 0.48577680525164113, \"mode\": \"lines\", \"lon\": [10.4234469, -100.4458825], \"lat\": [51.0834196, 39.7837304]}, {\"showlegend\": false, \"line\": {\"color\": \"red\", \"width\": 0.31769220100781287}, \"type\": \"scattergeo\", \"opacity\": 0.48577680525164113, \"mode\": \"lines\", \"lon\": [-53.2, -100.4458825], \"lat\": [-10.3333333, 39.7837304]}, {\"showlegend\": false, \"line\": {\"color\": \"red\", \"width\": 0.30844621145578105}, \"type\": \"scattergeo\", \"opacity\": 0.48577680525164113, \"mode\": \"lines\", \"lon\": [114.1849161, 114.1849161], \"lat\": [22.350627, 22.350627]}, {\"showlegend\": false, \"line\": {\"color\": \"red\", \"width\": 0.3077065322916185}, \"type\": \"scattergeo\", \"opacity\": 0.48577680525164113, \"mode\": \"lines\", \"lon\": [4.66696, -100.4458825], \"lat\": [50.6407351, 39.7837304]}, {\"showlegend\": false, \"line\": {\"color\": \"red\", \"width\": 0.3054874947991309}, \"type\": \"scattergeo\", \"opacity\": 0.48577680525164113, \"mode\": \"lines\", \"lon\": [28.5110236, -100.4458825], \"lat\": [47.286747, 39.7837304]}, {\"showlegend\": false, \"line\": {\"color\": \"red\", \"width\": 0.30030974064999305}, \"type\": \"scattergeo\", \"opacity\": 0.48577680525164113, \"mode\": \"lines\", \"lon\": [1.8883335, 55.84951], \"lat\": [46.603354, 25.61552]}, {\"showlegend\": false, \"line\": {\"color\": \"red\", \"width\": 0.2932827885904489}, \"type\": \"scattergeo\", \"opacity\": 0.48577680525164113, \"mode\": \"lines\", \"lon\": [8.2319736, 55.84951], \"lat\": [46.7985624, 25.61552]}, {\"showlegend\": false, \"line\": {\"color\": \"red\", \"width\": 0.2648051407701909}, \"type\": \"scattergeo\", \"opacity\": 0.48577680525164113, \"mode\": \"lines\", \"lon\": [122.7312101, -100.4458825], \"lat\": [12.7503486, 39.7837304]}, {\"showlegend\": false, \"line\": {\"color\": \"red\", \"width\": 0.25814802829272804}, \"type\": \"scattergeo\", \"opacity\": 0.48577680525164113, \"mode\": \"lines\", \"lon\": [97.7453061, 97.7453061], \"lat\": [64.6863136, 64.6863136]}, {\"showlegend\": false, \"line\": {\"color\": \"red\", \"width\": 0.24409412417363968}, \"type\": \"scattergeo\", \"opacity\": 0.48577680525164113, \"mode\": \"lines\", \"lon\": [116.407395, 100.83273], \"lat\": [39.904211, 14.8971921]}, {\"showlegend\": false, \"line\": {\"color\": \"red\", \"width\": 0.2215339096666821}, \"type\": \"scattergeo\", \"opacity\": 0.48577680525164113, \"mode\": \"lines\", \"lon\": [-71.3187697, -100.4458825], \"lat\": [-31.7613365, 39.7837304]}, {\"showlegend\": false, \"line\": {\"color\": \"red\", \"width\": 0.21783551384586936}, \"type\": \"scattergeo\", \"opacity\": 0.48577680525164113, \"mode\": \"lines\", \"lon\": [34.9249653, 55.84951], \"lat\": [38.9597594, 25.61552]}, {\"showlegend\": false, \"line\": {\"color\": \"red\", \"width\": 0.21524663677130046}, \"type\": \"scattergeo\", \"opacity\": 0.48577680525164113, \"mode\": \"lines\", \"lon\": [-4.003104, 55.84951], \"lat\": [40.0028028, 25.61552]}, {\"showlegend\": false, \"line\": {\"color\": \"red\", \"width\": 0.21117840136840646}, \"type\": \"scattergeo\", \"opacity\": 0.48577680525164113, \"mode\": \"lines\", \"lon\": [71.247499, -100.4458825], \"lat\": [30.3308401, 39.7837304]}, {\"showlegend\": false, \"line\": {\"color\": \"red\", \"width\": 0.2067403263834312}, \"type\": \"scattergeo\", \"opacity\": 0.48577680525164113, \"mode\": \"lines\", \"lon\": [126.9779692, 55.84951], \"lat\": [37.566535, 25.61552]}, {\"showlegend\": false, \"line\": {\"color\": \"red\", \"width\": 0.20563080763718738}, \"type\": \"scattergeo\", \"opacity\": 0.48577680525164113, \"mode\": \"lines\", \"lon\": [-73.783892, -100.4458825], \"lat\": [2.8894434, 39.7837304]}, {\"showlegend\": false, \"line\": {\"color\": \"red\", \"width\": 0.20267209098053718}, \"type\": \"scattergeo\", \"opacity\": 0.48577680525164113, \"mode\": \"lines\", \"lon\": [5.53460738161551, -100.4458825], \"lat\": [52.2379891, 39.7837304]}, {\"showlegend\": false, \"line\": {\"color\": \"red\", \"width\": 0.20230225139845592}, \"type\": \"scattergeo\", \"opacity\": 0.48577680525164113, \"mode\": \"lines\", \"lon\": [15.4749544, 55.84951], \"lat\": [49.8167003, 25.61552]}, {\"showlegend\": false, \"line\": {\"color\": \"red\", \"width\": 0.199713374323887}, \"type\": \"scattergeo\", \"opacity\": 0.48577680525164113, \"mode\": \"lines\", \"lon\": [97.7453061, -100.4458825], \"lat\": [64.6863136, 39.7837304]}, {\"showlegend\": false, \"line\": {\"color\": \"red\", \"width\": 0.19897369515972446}, \"type\": \"scattergeo\", \"opacity\": 0.48577680525164113, \"mode\": \"lines\", \"lon\": [-99.1333416, 55.84951], \"lat\": [19.4326009, 25.61552]}, {\"showlegend\": false, \"line\": {\"color\": \"red\", \"width\": 0.19601497850307428}, \"type\": \"scattergeo\", \"opacity\": 0.48577680525164113, \"mode\": \"lines\", \"lon\": [-99.1333416, -100.4458825], \"lat\": [19.4326009, 39.7837304]}, {\"showlegend\": false, \"line\": {\"color\": \"red\", \"width\": 0.19268642226434285}, \"type\": \"scattergeo\", \"opacity\": 0.48577680525164113, \"mode\": \"lines\", \"lon\": [108.4265113, -4.003104], \"lat\": [13.2904027, 40.0028028]}, {\"showlegend\": false, \"line\": {\"color\": \"red\", \"width\": 0.1878785076972863}, \"type\": \"scattergeo\", \"opacity\": 0.48577680525164113, \"mode\": \"lines\", \"lon\": [10.4234469, 0.0732], \"lat\": [51.0834196, 51.303]}, {\"showlegend\": false, \"line\": {\"color\": \"red\", \"width\": 0.16753733068281634}, \"type\": \"scattergeo\", \"opacity\": 0.48577680525164113, \"mode\": \"lines\", \"lon\": [12.674297, 12.674297], \"lat\": [42.6384261, 42.6384261]}, {\"showlegend\": false, \"line\": {\"color\": \"red\", \"width\": 0.16716749110073506}, \"type\": \"scattergeo\", \"opacity\": 0.48577680525164113, \"mode\": \"lines\", \"lon\": [108.4265113, -100.4458825], \"lat\": [13.2904027, 39.7837304]}, {\"showlegend\": false, \"line\": {\"color\": \"red\", \"width\": 0.16161989736951599}, \"type\": \"scattergeo\", \"opacity\": 0.48577680525164113, \"mode\": \"lines\", \"lon\": [120.835363138175, 55.84951], \"lat\": [23.59829785, 25.61552]}, {\"showlegend\": false, \"line\": {\"color\": \"red\", \"width\": 0.15866118071286578}, \"type\": \"scattergeo\", \"opacity\": 0.48577680525164113, \"mode\": \"lines\", \"lon\": [33.1451285, 33.1451285], \"lat\": [34.9823018, 34.9823018]}, {\"showlegend\": false, \"line\": {\"color\": \"red\", \"width\": 0.15607230363829688}, \"type\": \"scattergeo\", \"opacity\": 0.48577680525164113, \"mode\": \"lines\", \"lon\": [12.674297, -100.4458825], \"lat\": [42.6384261, 39.7837304]}, {\"showlegend\": false, \"line\": {\"color\": \"red\", \"width\": 0.15570246405621563}, \"type\": \"scattergeo\", \"opacity\": 0.48577680525164113, \"mode\": \"lines\", \"lon\": [10.4234469, 10.4234469], \"lat\": [51.0834196, 51.0834196]}, {\"showlegend\": false, \"line\": {\"color\": \"red\", \"width\": 0.15496278489205306}, \"type\": \"scattergeo\", \"opacity\": 0.48577680525164113, \"mode\": \"lines\", \"lon\": [-64.7603583, 55.84951], \"lat\": [32.3018217, 25.61552]}, {\"showlegend\": false, \"line\": {\"color\": \"red\", \"width\": 0.153483426563728}, \"type\": \"scattergeo\", \"opacity\": 0.48577680525164113, \"mode\": \"lines\", \"lon\": [15.4749544, -100.4458825], \"lat\": [49.8167003, 39.7837304]}, {\"showlegend\": false, \"line\": {\"color\": \"red\", \"width\": 0.1531135869816467}, \"type\": \"scattergeo\", \"opacity\": 0.48577680525164113, \"mode\": \"lines\", \"lon\": [114.1849161, 55.84951], \"lat\": [22.350627, 25.61552]}, {\"showlegend\": false, \"line\": {\"color\": \"red\", \"width\": 0.14830567241459017}, \"type\": \"scattergeo\", \"opacity\": 0.48577680525164113, \"mode\": \"lines\", \"lon\": [44.78151767883003, 55.84951], \"lat\": [40.18658704808404, 25.61552]}, {\"showlegend\": false, \"line\": {\"color\": \"red\", \"width\": 0.14719615366834635}, \"type\": \"scattergeo\", \"opacity\": 0.48577680525164113, \"mode\": \"lines\", \"lon\": [122.7312101, 55.84951], \"lat\": [12.7503486, 25.61552]}, {\"showlegend\": false, \"line\": {\"color\": \"red\", \"width\": 0.14423743701169617}, \"type\": \"scattergeo\", \"opacity\": 0.48577680525164113, \"mode\": \"lines\", \"lon\": [0.0732, -4.003104], \"lat\": [51.303, 40.0028028]}, {\"showlegend\": false, \"line\": {\"color\": \"red\", \"width\": 0.14090888077296473}, \"type\": \"scattergeo\", \"opacity\": 0.48577680525164113, \"mode\": \"lines\", \"lon\": [103.8499736, -100.4458825], \"lat\": [46.8250388, 39.7837304]}, {\"showlegend\": false, \"line\": {\"color\": \"red\", \"width\": 0.1305533724746891}, \"type\": \"scattergeo\", \"opacity\": 0.48577680525164113, \"mode\": \"lines\", \"lon\": [5.53460738161551, 42.2363448], \"lat\": [52.2379891, 17.7269134]}, {\"showlegend\": false, \"line\": {\"color\": \"red\", \"width\": 0.12093754334057602}, \"type\": \"scattergeo\", \"opacity\": 0.48577680525164113, \"mode\": \"lines\", \"lon\": [-107.9917071, -100.4458825], \"lat\": [61.0666922, 39.7837304]}, {\"showlegend\": false, \"line\": {\"color\": \"red\", \"width\": 0.12056770375849474}, \"type\": \"scattergeo\", \"opacity\": 0.48577680525164113, \"mode\": \"lines\", \"lon\": [35.0015196, 55.84951], \"lat\": [30.8760272, 25.61552]}, {\"showlegend\": false, \"line\": {\"color\": \"red\", \"width\": 0.11206139337062548}, \"type\": \"scattergeo\", \"opacity\": 0.48577680525164113, \"mode\": \"lines\", \"lon\": [-7.9794599, 100.83273], \"lat\": [52.865196, 14.8971921]}, {\"showlegend\": false, \"line\": {\"color\": \"red\", \"width\": 0.11058203504230041}, \"type\": \"scattergeo\", \"opacity\": 0.48577680525164113, \"mode\": \"lines\", \"lon\": [116.407395, 34.9249653], \"lat\": [39.904211, 38.9597594]}, {\"showlegend\": false, \"line\": {\"color\": \"red\", \"width\": 0.1079931579677315}, \"type\": \"scattergeo\", \"opacity\": 0.48577680525164113, \"mode\": \"lines\", \"lon\": [139.2394179, 55.84951], \"lat\": [36.5748441, 25.61552]}, {\"showlegend\": false, \"line\": {\"color\": \"red\", \"width\": 0.10762331838565023}, \"type\": \"scattergeo\", \"opacity\": 0.48577680525164113, \"mode\": \"lines\", \"lon\": [29.2675469, -100.4458825], \"lat\": [26.2540493, 39.7837304]}, {\"showlegend\": false, \"line\": {\"color\": \"red\", \"width\": 0.10540428089316259}, \"type\": \"scattergeo\", \"opacity\": 0.48577680525164113, \"mode\": \"lines\", \"lon\": [172.8344077, -100.4458825], \"lat\": [-41.5000831, 39.7837304]}, {\"showlegend\": false, \"line\": {\"color\": \"red\", \"width\": 0.10466460172900005}, \"type\": \"scattergeo\", \"opacity\": 0.48577680525164113, \"mode\": \"lines\", \"lon\": [108.4265113, 55.84951], \"lat\": [13.2904027, 25.61552]}, {\"showlegend\": false, \"line\": {\"color\": \"red\", \"width\": 0.10392492256483751}, \"type\": \"scattergeo\", \"opacity\": 0.48577680525164113, \"mode\": \"lines\", \"lon\": [-7.8896263, -100.4458825], \"lat\": [40.033265, 39.7837304]}, {\"showlegend\": false, \"line\": {\"color\": \"red\", \"width\": 0.10318524340067496}, \"type\": \"scattergeo\", \"opacity\": 0.48577680525164113, \"mode\": \"lines\", \"lon\": [-100.4458825, -7.9794599], \"lat\": [39.7837304, 52.865196]}, {\"showlegend\": false, \"line\": {\"color\": \"red\", \"width\": 0.10133604549026859}, \"type\": \"scattergeo\", \"opacity\": 0.48577680525164113, \"mode\": \"lines\", \"lon\": [8.2319736, -4.003104], \"lat\": [46.7985624, 40.0028028]}, {\"showlegend\": false, \"line\": {\"color\": \"red\", \"width\": 0.10096620590818733}, \"type\": \"scattergeo\", \"opacity\": 0.48577680525164113, \"mode\": \"lines\", \"lon\": [120.835363138175, -100.4458825], \"lat\": [23.59829785, 39.7837304]}, {\"showlegend\": false, \"line\": {\"color\": \"red\", \"width\": 0.10096620590818733}, \"type\": \"scattergeo\", \"opacity\": 0.48577680525164113, \"mode\": \"lines\", \"lon\": [100.83273, 55.84951], \"lat\": [14.8971921, 25.61552]}, {\"showlegend\": false, \"line\": {\"color\": \"red\", \"width\": 0.10096620590818733}, \"type\": \"scattergeo\", \"opacity\": 0.48577680525164113, \"mode\": \"lines\", \"lon\": [126.9779692, -4.003104], \"lat\": [37.566535, 40.0028028]}, {\"showlegend\": false, \"line\": {\"color\": \"red\", \"width\": 0.09911700799778098}, \"type\": \"scattergeo\", \"opacity\": 0.48577680525164113, \"mode\": \"lines\", \"lon\": [114.5632032, 55.84951], \"lat\": [-4.7993356, 25.61552]}, {\"showlegend\": false, \"line\": {\"color\": \"red\", \"width\": 0.09911700799778098}, \"type\": \"scattergeo\", \"opacity\": 0.48577680525164113, \"mode\": \"lines\", \"lon\": [114.5632032, -100.4458825], \"lat\": [-4.7993356, 39.7837304]}, {\"showlegend\": false, \"line\": {\"color\": \"red\", \"width\": 0.0987471684156997}, \"type\": \"scattergeo\", \"opacity\": 0.48577680525164113, \"mode\": \"lines\", \"lon\": [1.8883335, -100.4458825], \"lat\": [46.603354, 39.7837304]}, {\"showlegend\": false, \"line\": {\"color\": \"red\", \"width\": 0.09837732883361842}, \"type\": \"scattergeo\", \"opacity\": 0.48577680525164113, \"mode\": \"lines\", \"lon\": [-107.9917071, 55.84951], \"lat\": [61.0666922, 25.61552]}, {\"showlegend\": false, \"line\": {\"color\": \"red\", \"width\": 0.09763764966945587}, \"type\": \"scattergeo\", \"opacity\": 0.48577680525164113, \"mode\": \"lines\", \"lon\": [12.674297, 55.84951], \"lat\": [42.6384261, 25.61552]}, {\"showlegend\": false, \"line\": {\"color\": \"red\", \"width\": 0.09541861217696825}, \"type\": \"scattergeo\", \"opacity\": 0.48577680525164113, \"mode\": \"lines\", \"lon\": [8.2319736, 1.8883335], \"lat\": [46.7985624, 46.603354]}, {\"showlegend\": false, \"line\": {\"color\": \"red\", \"width\": 0.09504877259488696}, \"type\": \"scattergeo\", \"opacity\": 0.48577680525164113, \"mode\": \"lines\", \"lon\": [100.83273, -7.8896263], \"lat\": [14.8971921, 40.033265]}, {\"showlegend\": false, \"line\": {\"color\": \"red\", \"width\": 0.09098053719199298}, \"type\": \"scattergeo\", \"opacity\": 0.48577680525164113, \"mode\": \"lines\", \"lon\": [-100.4458825, 1.8883335], \"lat\": [39.7837304, 46.603354]}, {\"showlegend\": false, \"line\": {\"color\": \"red\", \"width\": 0.09024085802783043}, \"type\": \"scattergeo\", \"opacity\": 0.48577680525164113, \"mode\": \"lines\", \"lon\": [-7.9794599, 55.84951], \"lat\": [52.865196, 25.61552]}, {\"showlegend\": false, \"line\": {\"color\": \"red\", \"width\": 0.08617262262493644}, \"type\": \"scattergeo\", \"opacity\": 0.48577680525164113, \"mode\": \"lines\", \"lon\": [-53.2, 55.84951], \"lat\": [-10.3333333, 25.61552]}, {\"showlegend\": false, \"line\": {\"color\": \"red\", \"width\": 0.08506310387869262}, \"type\": \"scattergeo\", \"opacity\": 0.48577680525164113, \"mode\": \"lines\", \"lon\": [-100.4458825, 122.7312101], \"lat\": [39.7837304, 12.7503486]}, {\"showlegend\": false, \"line\": {\"color\": \"red\", \"width\": 0.07766631223706717}, \"type\": \"scattergeo\", \"opacity\": 0.48577680525164113, \"mode\": \"lines\", \"lon\": [71.247499, 55.84951], \"lat\": [30.3308401, 25.61552]}, {\"showlegend\": false, \"line\": {\"color\": \"red\", \"width\": 0.07618695390874208}, \"type\": \"scattergeo\", \"opacity\": 0.48577680525164113, \"mode\": \"lines\", \"lon\": [116.407395, 97.7453061], \"lat\": [39.904211, 64.6863136]}, {\"showlegend\": false, \"line\": {\"color\": \"red\", \"width\": 0.07248855808792935}, \"type\": \"scattergeo\", \"opacity\": 0.48577680525164113, \"mode\": \"lines\", \"lon\": [116.407395, 114.1849161], \"lat\": [39.904211, 22.350627]}, {\"showlegend\": false, \"line\": {\"color\": \"red\", \"width\": 0.07063936017752301}, \"type\": \"scattergeo\", \"opacity\": 0.48577680525164113, \"mode\": \"lines\", \"lon\": [-100.4458825, 4.66696], \"lat\": [39.7837304, 50.6407351]}, {\"showlegend\": false, \"line\": {\"color\": \"red\", \"width\": 0.06102353104340992}, \"type\": \"scattergeo\", \"opacity\": 0.48577680525164113, \"mode\": \"lines\", \"lon\": [25.4856617, -100.4458825], \"lat\": [42.6073975, 39.7837304]}, {\"showlegend\": false, \"line\": {\"color\": \"red\", \"width\": 0.05954417271508483}, \"type\": \"scattergeo\", \"opacity\": 0.48577680525164113, \"mode\": \"lines\", \"lon\": [78.6677428, 103.8520359], \"lat\": [22.3511148, 1.2904753]}, {\"showlegend\": false, \"line\": {\"color\": \"red\", \"width\": 0.05917433313300356}, \"type\": \"scattergeo\", \"opacity\": 0.48577680525164113, \"mode\": \"lines\", \"lon\": [-100.4458825, 10.4234469], \"lat\": [39.7837304, 51.0834196]}, {\"showlegend\": false, \"line\": {\"color\": \"red\", \"width\": 0.058804493550922286}, \"type\": \"scattergeo\", \"opacity\": 0.48577680525164113, \"mode\": \"lines\", \"lon\": [-100.4458825, 134.755], \"lat\": [39.7837304, -24.7761086]}, {\"showlegend\": false, \"line\": {\"color\": \"red\", \"width\": 0.05843465396884102}, \"type\": \"scattergeo\", \"opacity\": 0.48577680525164113, \"mode\": \"lines\", \"lon\": [139.2394179, 4.66696], \"lat\": [36.5748441, 50.6407351]}, {\"showlegend\": false, \"line\": {\"color\": \"red\", \"width\": 0.05695529564051592}, \"type\": \"scattergeo\", \"opacity\": 0.48577680525164113, \"mode\": \"lines\", \"lon\": [78.6677428, 12.674297], \"lat\": [22.3511148, 42.6384261]}, {\"showlegend\": false, \"line\": {\"color\": \"red\", \"width\": 0.05621561647635338}, \"type\": \"scattergeo\", \"opacity\": 0.48577680525164113, \"mode\": \"lines\", \"lon\": [19.0258159, 33.1451285], \"lat\": [52.0977181, 34.9823018]}, {\"showlegend\": false, \"line\": {\"color\": \"red\", \"width\": 0.05584577689427211}, \"type\": \"scattergeo\", \"opacity\": 0.48577680525164113, \"mode\": \"lines\", \"lon\": [-100.4458825, 24.6859225], \"lat\": [39.7837304, 45.9852129]}, {\"showlegend\": false, \"line\": {\"color\": \"red\", \"width\": 0.05584577689427211}, \"type\": \"scattergeo\", \"opacity\": 0.48577680525164113, \"mode\": \"lines\", \"lon\": [5.53460738161551, -7.9794599], \"lat\": [52.2379891, 52.865196]}, {\"showlegend\": false, \"line\": {\"color\": \"red\", \"width\": 0.05547593731219083}, \"type\": \"scattergeo\", \"opacity\": 0.48577680525164113, \"mode\": \"lines\", \"lon\": [0.0732, 0.0732], \"lat\": [51.303, 51.303]}, {\"showlegend\": false, \"line\": {\"color\": \"red\", \"width\": 0.054736258148028294}, \"type\": \"scattergeo\", \"opacity\": 0.48577680525164113, \"mode\": \"lines\", \"lon\": [-100.4458825, 97.7453061], \"lat\": [39.7837304, 64.6863136]}, {\"showlegend\": false, \"line\": {\"color\": \"red\", \"width\": 0.054366418565947025}, \"type\": \"scattergeo\", \"opacity\": 0.48577680525164113, \"mode\": \"lines\", \"lon\": [-100.4458825, 11.5280364395482], \"lat\": [39.7837304, 64.5731537]}, {\"showlegend\": false, \"line\": {\"color\": \"red\", \"width\": 0.05399657898386575}, \"type\": \"scattergeo\", \"opacity\": 0.48577680525164113, \"mode\": \"lines\", \"lon\": [-100.4458825, 0.547714867236488], \"lat\": [39.7837304, 51.38660965]}, {\"showlegend\": false, \"line\": {\"color\": \"red\", \"width\": 0.05399657898386575}, \"type\": \"scattergeo\", \"opacity\": 0.48577680525164113, \"mode\": \"lines\", \"lon\": [139.2394179, -107.9917071], \"lat\": [36.5748441, 61.0666922]}, {\"showlegend\": false, \"line\": {\"color\": \"red\", \"width\": 0.05362673940178447}, \"type\": \"scattergeo\", \"opacity\": 0.48577680525164113, \"mode\": \"lines\", \"lon\": [120.835363138175, 134.755], \"lat\": [23.59829785, -24.7761086]}, {\"showlegend\": false, \"line\": {\"color\": \"red\", \"width\": 0.053256899819703205}, \"type\": \"scattergeo\", \"opacity\": 0.48577680525164113, \"mode\": \"lines\", \"lon\": [-66.1109318, 122.7312101], \"lat\": [8.0018709, 12.7503486]}, {\"showlegend\": false, \"line\": {\"color\": \"red\", \"width\": 0.053256899819703205}, \"type\": \"scattergeo\", \"opacity\": 0.48577680525164113, \"mode\": \"lines\", \"lon\": [90.2932426, 33.1451285], \"lat\": [24.4768783, 34.9823018]}, {\"showlegend\": false, \"line\": {\"color\": \"red\", \"width\": 0.053256899819703205}, \"type\": \"scattergeo\", \"opacity\": 0.48577680525164113, \"mode\": \"lines\", \"lon\": [10.4234469, 19.0258159], \"lat\": [51.0834196, 52.0977181]}, {\"showlegend\": false, \"line\": {\"color\": \"red\", \"width\": 0.052887060237621936}, \"type\": \"scattergeo\", \"opacity\": 0.48577680525164113, \"mode\": \"lines\", \"lon\": [116.407395, -107.9917071], \"lat\": [39.904211, 61.0666922]}, {\"showlegend\": false, \"line\": {\"color\": \"red\", \"width\": 0.052887060237621936}, \"type\": \"scattergeo\", \"opacity\": 0.48577680525164113, \"mode\": \"lines\", \"lon\": [-7.8896263, -7.8896263], \"lat\": [40.033265, 40.033265]}, {\"showlegend\": false, \"line\": {\"color\": \"red\", \"width\": 0.05251722065554066}, \"type\": \"scattergeo\", \"opacity\": 0.48577680525164113, \"mode\": \"lines\", \"lon\": [1.8883335, 12.674297], \"lat\": [46.603354, 42.6384261]}, {\"showlegend\": false, \"line\": {\"color\": \"red\", \"width\": 0.05251722065554066}, \"type\": \"scattergeo\", \"opacity\": 0.48577680525164113, \"mode\": \"lines\", \"lon\": [-73.783892, 97.7453061], \"lat\": [2.8894434, 64.6863136]}, {\"showlegend\": false, \"line\": {\"color\": \"red\", \"width\": 0.05251722065554066}, \"type\": \"scattergeo\", \"opacity\": 0.48577680525164113, \"mode\": \"lines\", \"lon\": [139.2394179, 42.2363448], \"lat\": [36.5748441, 17.7269134]}, {\"showlegend\": false, \"line\": {\"color\": \"red\", \"width\": 0.051777541491378115}, \"type\": \"scattergeo\", \"opacity\": 0.48577680525164113, \"mode\": \"lines\", \"lon\": [8.2319736, 24.6859225], \"lat\": [46.7985624, 45.9852129]}, {\"showlegend\": false, \"line\": {\"color\": \"red\", \"width\": 0.051407701909296846}, \"type\": \"scattergeo\", \"opacity\": 0.48577680525164113, \"mode\": \"lines\", \"lon\": [24.6859225, -7.9794599], \"lat\": [45.9852129, 52.865196]}, {\"showlegend\": false, \"line\": {\"color\": \"red\", \"width\": 0.051407701909296846}, \"type\": \"scattergeo\", \"opacity\": 0.48577680525164113, \"mode\": \"lines\", \"lon\": [31.2718321, 55.84951], \"lat\": [49.4871968, 25.61552]}, {\"showlegend\": false, \"line\": {\"color\": \"red\", \"width\": 0.051407701909296846}, \"type\": \"scattergeo\", \"opacity\": 0.48577680525164113, \"mode\": \"lines\", \"lon\": [78.6677428, 55.84951], \"lat\": [22.3511148, 25.61552]}, {\"showlegend\": false, \"line\": {\"color\": \"red\", \"width\": 0.051407701909296846}, \"type\": \"scattergeo\", \"opacity\": 0.48577680525164113, \"mode\": \"lines\", \"lon\": [134.755, -100.4458825], \"lat\": [-24.7761086, 39.7837304]}, {\"showlegend\": false, \"line\": {\"color\": \"red\", \"width\": 0.05103786232721557}, \"type\": \"scattergeo\", \"opacity\": 0.48577680525164113, \"mode\": \"lines\", \"lon\": [0.0732, -100.4458825], \"lat\": [51.303, 39.7837304]}, {\"showlegend\": false, \"line\": {\"color\": \"red\", \"width\": 0.050668022745134295}, \"type\": \"scattergeo\", \"opacity\": 0.48577680525164113, \"mode\": \"lines\", \"lon\": [-4.003104, 116.407395], \"lat\": [40.0028028, 39.904211]}, {\"showlegend\": false, \"line\": {\"color\": \"red\", \"width\": 0.050298183163053026}, \"type\": \"scattergeo\", \"opacity\": 0.48577680525164113, \"mode\": \"lines\", \"lon\": [28.5110236, 11.5280364395482], \"lat\": [47.286747, 64.5731537]}, {\"showlegend\": false, \"line\": {\"color\": \"red\", \"width\": 0.04992834358097175}, \"type\": \"scattergeo\", \"opacity\": 0.48577680525164113, \"mode\": \"lines\", \"lon\": [-99.1333416, -99.1333416], \"lat\": [19.4326009, 19.4326009]}, {\"showlegend\": false, \"line\": {\"color\": \"red\", \"width\": 0.04992834358097175}, \"type\": \"scattergeo\", \"opacity\": 0.48577680525164113, \"mode\": \"lines\", \"lon\": [44.78151767883003, -100.4458825], \"lat\": [40.18658704808404, 39.7837304]}, {\"showlegend\": false, \"line\": {\"color\": \"red\", \"width\": 0.048818824834727936}, \"type\": \"scattergeo\", \"opacity\": 0.48577680525164113, \"mode\": \"lines\", \"lon\": [8.2319736, 34.9249653], \"lat\": [46.7985624, 38.9597594]}, {\"showlegend\": false, \"line\": {\"color\": \"red\", \"width\": 0.048818824834727936}, \"type\": \"scattergeo\", \"opacity\": 0.48577680525164113, \"mode\": \"lines\", \"lon\": [55.84951, 0.0732], \"lat\": [25.61552, 51.303]}, {\"showlegend\": false, \"line\": {\"color\": \"red\", \"width\": 0.04622994776015903}, \"type\": \"scattergeo\", \"opacity\": 0.48577680525164113, \"mode\": \"lines\", \"lon\": [116.407395, 1.8883335], \"lat\": [39.904211, 46.603354]}, {\"showlegend\": false, \"line\": {\"color\": \"red\", \"width\": 0.0440109102676714}, \"type\": \"scattergeo\", \"opacity\": 0.48577680525164113, \"mode\": \"lines\", \"lon\": [78.6677428, 1.8883335], \"lat\": [22.3511148, 46.603354]}, {\"showlegend\": false, \"line\": {\"color\": \"red\", \"width\": 0.04327123110350885}, \"type\": \"scattergeo\", \"opacity\": 0.48577680525164113, \"mode\": \"lines\", \"lon\": [31.2718321, 13.199959], \"lat\": [49.4871968, 47.2000338]}, {\"showlegend\": false, \"line\": {\"color\": \"red\", \"width\": 0.041791872775183765}, \"type\": \"scattergeo\", \"opacity\": 0.48577680525164113, \"mode\": \"lines\", \"lon\": [-100.4458825, 114.1849161], \"lat\": [39.7837304, 22.350627]}, {\"showlegend\": false, \"line\": {\"color\": \"red\", \"width\": 0.0399426748647774}, \"type\": \"scattergeo\", \"opacity\": 0.48577680525164113, \"mode\": \"lines\", \"lon\": [5.53460738161551, 12.674297], \"lat\": [52.2379891, 42.6384261]}, {\"showlegend\": false, \"line\": {\"color\": \"red\", \"width\": 0.0373537977902085}, \"type\": \"scattergeo\", \"opacity\": 0.48577680525164113, \"mode\": \"lines\", \"lon\": [42.2363448, 55.84951], \"lat\": [17.7269134, 25.61552]}, {\"showlegend\": false, \"line\": {\"color\": \"red\", \"width\": 0.03587443946188341}, \"type\": \"scattergeo\", \"opacity\": 0.48577680525164113, \"mode\": \"lines\", \"lon\": [114.1849161, -100.4458825], \"lat\": [22.350627, 39.7837304]}, {\"showlegend\": false, \"line\": {\"color\": \"red\", \"width\": 0.03513476029772086}, \"type\": \"scattergeo\", \"opacity\": 0.48577680525164113, \"mode\": \"lines\", \"lon\": [19.0258159, -100.4458825], \"lat\": [52.0977181, 39.7837304]}, {\"showlegend\": false, \"line\": {\"color\": \"red\", \"width\": 0.03291572280523323}, \"type\": \"scattergeo\", \"opacity\": 0.48577680525164113, \"mode\": \"lines\", \"lon\": [14.4808369, -7.9794599], \"lat\": [45.8133113, 52.865196]}, {\"showlegend\": false, \"line\": {\"color\": \"red\", \"width\": 0.03291572280523323}, \"type\": \"scattergeo\", \"opacity\": 0.48577680525164113, \"mode\": \"lines\", \"lon\": [-64.9912286, -100.4458825], \"lat\": [-17.0568696, 39.7837304]}, {\"showlegend\": false, \"line\": {\"color\": \"red\", \"width\": 0.032176043641070684}, \"type\": \"scattergeo\", \"opacity\": 0.48577680525164113, \"mode\": \"lines\", \"lon\": [78.6677428, -7.8896263], \"lat\": [22.3511148, 40.033265]}, {\"showlegend\": false, \"line\": {\"color\": \"red\", \"width\": 0.030696685312745598}, \"type\": \"scattergeo\", \"opacity\": 0.48577680525164113, \"mode\": \"lines\", \"lon\": [34.9249653, 103.8520359], \"lat\": [38.9597594, 1.2904753]}, {\"showlegend\": false, \"line\": {\"color\": \"red\", \"width\": 0.026628449909851602}, \"type\": \"scattergeo\", \"opacity\": 0.48577680525164113, \"mode\": \"lines\", \"lon\": [122.7312101, 122.7312101], \"lat\": [12.7503486, 12.7503486]}, {\"showlegend\": true, \"type\": \"scattergeo\", \"hoverinfo\": \"text\", \"name\": \"Flux intra pays\", \"mode\": \"markers\", \"lon\": [-100.4458825, 1.8883335, 42.2363448, 114.1849161, 97.7453061, 12.674297, 33.1451285, 10.4234469, 0.0732, -7.8896263, -99.1333416, 122.7312101], \"lat\": [39.7837304, 46.603354, 17.7269134, 22.350627, 64.6863136, 42.6384261, 34.9823018, 51.0834196, 51.303, 40.033265, 19.4326009, 12.7503486], \"marker\": {\"color\": \"rgb(33,113,181)\", \"size\": [34.083306365863805, 0.40423466321483054, 0.37131894040959734, 0.30844621145578105, 0.25814802829272804, 0.16753733068281634, 0.15866118071286578, 0.15570246405621563, 0.05547593731219083, 0.052887060237621936, 0.04992834358097175, 0.026628449909851602], \"line\": {\"width\": 0}}, \"legendgroup\": \"group2\", \"text\": [\"united states\", \"france\", \"saudi arabia\", \"hong kong\", \"russia\", \"italy\", \"cyprus\", \"germany\", \"united kingdom\", \"portugal\", \"mexico\", \"philippines\"]}, {\"showlegend\": true, \"type\": \"scattergeo\", \"hoverinfo\": \"text\", \"name\": \"Flux inter pays\", \"mode\": \"markers\", \"lon\": [-100.4458825, 116.407395, 116.407395, 31.2718321, 5.53460738161551, 116.407395, -100.4458825, 78.6677428, 126.9779692, 116.407395, 34.9249653, 8.2319736, 116.407395, -73.783892, 116.407395, 5.53460738161551, 24.6859225, -4.003104, -64.9672817, 19.0258159, 71.247499, -100.4458825, 1.8883335, 42.2363448, 139.2394179, 108.4265113, 116.407395, 10.4234469, -53.2, 114.1849161, 4.66696, 28.5110236, 1.8883335, 8.2319736, 122.7312101, 97.7453061, 116.407395, -71.3187697, 34.9249653, -4.003104, 71.247499, 126.9779692, -73.783892, 5.53460738161551, 15.4749544, 97.7453061, -99.1333416, -99.1333416, 108.4265113, 10.4234469, 12.674297, 108.4265113, 120.835363138175, 33.1451285, 12.674297, 10.4234469, -64.7603583, 15.4749544, 114.1849161, 44.78151767883003, 122.7312101, 0.0732, 103.8499736, 5.53460738161551, -107.9917071, 35.0015196, -7.9794599, 116.407395, 139.2394179, 29.2675469, 172.8344077, 108.4265113, -7.8896263, -100.4458825, 8.2319736, 120.835363138175, 100.83273, 126.9779692, 114.5632032, 114.5632032, 1.8883335, -107.9917071, 12.674297, 8.2319736, 100.83273, -100.4458825, -7.9794599, -53.2, -100.4458825, 71.247499, 116.407395, 116.407395, -100.4458825, 25.4856617, 78.6677428, -100.4458825, -100.4458825, 139.2394179, 78.6677428, 19.0258159, -100.4458825, 5.53460738161551, 0.0732, -100.4458825, -100.4458825, -100.4458825, 139.2394179, 120.835363138175, -66.1109318, 90.2932426, 10.4234469, 116.407395, -7.8896263, 1.8883335, -73.783892, 139.2394179, 8.2319736, 24.6859225, 31.2718321, 78.6677428, 134.755, 0.0732, -4.003104, 28.5110236, -99.1333416, 44.78151767883003, 8.2319736, 55.84951, 116.407395, 78.6677428, 31.2718321, -100.4458825, 5.53460738161551, 42.2363448, 114.1849161, 19.0258159, 14.4808369, -64.9912286, 78.6677428, 34.9249653, 122.7312101], \"lat\": [39.7837304, 39.904211, 39.904211, 49.4871968, 52.2379891, 39.904211, 39.7837304, 22.3511148, 37.566535, 39.904211, 38.9597594, 46.7985624, 39.904211, 2.8894434, 39.904211, 52.2379891, 45.9852129, 40.0028028, -34.9964963, 52.0977181, 30.3308401, 39.7837304, 46.603354, 17.7269134, 36.5748441, 13.2904027, 39.904211, 51.0834196, -10.3333333, 22.350627, 50.6407351, 47.286747, 46.603354, 46.7985624, 12.7503486, 64.6863136, 39.904211, -31.7613365, 38.9597594, 40.0028028, 30.3308401, 37.566535, 2.8894434, 52.2379891, 49.8167003, 64.6863136, 19.4326009, 19.4326009, 13.2904027, 51.0834196, 42.6384261, 13.2904027, 23.59829785, 34.9823018, 42.6384261, 51.0834196, 32.3018217, 49.8167003, 22.350627, 40.18658704808404, 12.7503486, 51.303, 46.8250388, 52.2379891, 61.0666922, 30.8760272, 52.865196, 39.904211, 36.5748441, 26.2540493, -41.5000831, 13.2904027, 40.033265, 39.7837304, 46.7985624, 23.59829785, 14.8971921, 37.566535, -4.7993356, -4.7993356, 46.603354, 61.0666922, 42.6384261, 46.7985624, 14.8971921, 39.7837304, 52.865196, -10.3333333, 39.7837304, 30.3308401, 39.904211, 39.904211, 39.7837304, 42.6073975, 22.3511148, 39.7837304, 39.7837304, 36.5748441, 22.3511148, 52.0977181, 39.7837304, 52.2379891, 51.303, 39.7837304, 39.7837304, 39.7837304, 36.5748441, 23.59829785, 8.0018709, 24.4768783, 51.0834196, 39.904211, 40.033265, 46.603354, 2.8894434, 36.5748441, 46.7985624, 45.9852129, 49.4871968, 22.3511148, -24.7761086, 51.303, 40.0028028, 47.286747, 19.4326009, 40.18658704808404, 46.7985624, 25.61552, 39.904211, 22.3511148, 49.4871968, 39.7837304, 52.2379891, 17.7269134, 22.350627, 52.0977181, 45.8133113, -17.0568696, 22.3511148, 38.9597594, 12.7503486], \"marker\": {\"color\": \"rgb(255, 0, 0)\", \"size\": 2, \"line\": {\"width\": 1, \"color\": \"rgba(68, 68, 68, 0)\"}}, \"legendgroup\": \"group1\", \"text\": [\"united states\", \"china\", \"china\", \"ukraine\", \"netherlands\", \"china\", \"united states\", \"india\", \"south korea\", \"china\", \"turkey\", \"swiss\", \"china\", \"colombia\", \"china\", \"netherlands\", \"roumania\", \"spain\", \"argentina\", \"poland\", \"pakistan\", \"united states\", \"france\", \"saudi arabia\", \"japan\", \"vietnam\", \"china\", \"germany\", \"brazil\", \"hong kong\", \"belgium\", \"moldova\", \"france\", \"swiss\", \"philippines\", \"russia\", \"china\", \"chile\", \"turkey\", \"spain\", \"pakistan\", \"south korea\", \"colombia\", \"netherlands\", \"czech republic\", \"russia\", \"mexico\", \"mexico\", \"vietnam\", \"germany\", \"italy\", \"vietnam\", \"taiwan\", \"cyprus\", \"italy\", \"germany\", \"bermuda\", \"czech republic\", \"hong kong\", \"armenia\", \"philippines\", \"united kingdom\", \"mongolia\", \"netherlands\", \"canada\", \"israel\", \"ireland\", \"china\", \"japan\", \"egypt\", \"new zealand\", \"vietnam\", \"portugal\", \"united states\", \"swiss\", \"taiwan\", \"thailand\", \"south korea\", \"indonesia\", \"indonesia\", \"france\", \"canada\", \"italy\", \"swiss\", \"thailand\", \"united states\", \"ireland\", \"brazil\", \"united states\", \"pakistan\", \"china\", \"china\", \"united states\", \"bulgaria\", \"india\", \"united states\", \"united states\", \"japan\", \"india\", \"poland\", \"united states\", \"netherlands\", \"united kingdom\", \"united states\", \"united states\", \"united states\", \"japan\", \"taiwan\", \"venezuela\", \"bangladesh\", \"germany\", \"china\", \"portugal\", \"france\", \"colombia\", \"japan\", \"swiss\", \"roumania\", \"ukraine\", \"india\", \"australia\", \"united kingdom\", \"spain\", \"moldova\", \"mexico\", \"armenia\", \"swiss\", \"united arab emirates\", \"china\", \"india\", \"ukraine\", \"united states\", \"netherlands\", \"saudi arabia\", \"hong kong\", \"poland\", \"slovenia\", \"bolivia\", \"india\", \"turkey\", \"philippines\"]}], {\"geo\": {\"landcolor\": \"rgb(243, 243, 243)\", \"showcountries\": true, \"showland\": true, \"projection\": {\"type\": \"orthographic\"}, \"countrycolor\": \"rgb(204, 204, 204)\", \"scope\": \"world\"}, \"title\": \"Flux des cyberattaques mondiale en mars 2018 <br> source : <a href=\\\"http://www.norse-corp.com/about-us/who-we-are/\\\">Norse </a>\"}, {\"linkText\": \"Export to plot.ly\", \"showLink\": true})});</script>"
      ],
      "text/vnd.plotly.v1+html": [
       "<div id=\"ee20a5ce-160e-4547-ac80-7c317b4521c9\" style=\"height: 525px; width: 100%;\" class=\"plotly-graph-div\"></div><script type=\"text/javascript\">require([\"plotly\"], function(Plotly) { window.PLOTLYENV=window.PLOTLYENV || {};window.PLOTLYENV.BASE_URL=\"https://plot.ly\";Plotly.newPlot(\"ee20a5ce-160e-4547-ac80-7c317b4521c9\", [{\"showlegend\": false, \"line\": {\"color\": \"red\", \"width\": 34.083306365863805}, \"type\": \"scattergeo\", \"opacity\": 0.48577680525164113, \"mode\": \"lines\", \"lon\": [-100.4458825, -100.4458825], \"lat\": [39.7837304, 39.7837304]}, {\"showlegend\": false, \"line\": {\"color\": \"red\", \"width\": 9.940178447598354}, \"type\": \"scattergeo\", \"opacity\": 0.48577680525164113, \"mode\": \"lines\", \"lon\": [116.407395, 55.84951], \"lat\": [39.904211, 25.61552]}, {\"showlegend\": false, \"line\": {\"color\": \"red\", \"width\": 4.829735102399334}, \"type\": \"scattergeo\", \"opacity\": 0.48577680525164113, \"mode\": \"lines\", \"lon\": [116.407395, -100.4458825], \"lat\": [39.904211, 39.7837304]}, {\"showlegend\": false, \"line\": {\"color\": \"red\", \"width\": 2.375849475290093}, \"type\": \"scattergeo\", \"opacity\": 0.48577680525164113, \"mode\": \"lines\", \"lon\": [31.2718321, -100.4458825], \"lat\": [49.4871968, 39.7837304]}, {\"showlegend\": false, \"line\": {\"color\": \"red\", \"width\": 1.9239055059867782}, \"type\": \"scattergeo\", \"opacity\": 0.48577680525164113, \"mode\": \"lines\", \"lon\": [5.53460738161551, 55.84951], \"lat\": [52.2379891, 25.61552]}, {\"showlegend\": false, \"line\": {\"color\": \"red\", \"width\": 1.7608062502889372}, \"type\": \"scattergeo\", \"opacity\": 0.48577680525164113, \"mode\": \"lines\", \"lon\": [116.407395, -4.003104], \"lat\": [39.904211, 40.0028028]}, {\"showlegend\": false, \"line\": {\"color\": \"red\", \"width\": 1.0185382090518238}, \"type\": \"scattergeo\", \"opacity\": 0.48577680525164113, \"mode\": \"lines\", \"lon\": [-100.4458825, 55.84951], \"lat\": [39.7837304, 25.61552]}, {\"showlegend\": false, \"line\": {\"color\": \"red\", \"width\": 0.9331052655910499}, \"type\": \"scattergeo\", \"opacity\": 0.48577680525164113, \"mode\": \"lines\", \"lon\": [78.6677428, -100.4458825], \"lat\": [22.3511148, 39.7837304]}, {\"showlegend\": false, \"line\": {\"color\": \"red\", \"width\": 0.9253386343673432}, \"type\": \"scattergeo\", \"opacity\": 0.48577680525164113, \"mode\": \"lines\", \"lon\": [126.9779692, -100.4458825], \"lat\": [37.566535, 39.7837304]}, {\"showlegend\": false, \"line\": {\"color\": \"red\", \"width\": 0.9090656927557672}, \"type\": \"scattergeo\", \"opacity\": 0.48577680525164113, \"mode\": \"lines\", \"lon\": [116.407395, 103.8520359], \"lat\": [39.904211, 1.2904753]}, {\"showlegend\": false, \"line\": {\"color\": \"red\", \"width\": 0.7104618371781241}, \"type\": \"scattergeo\", \"opacity\": 0.48577680525164113, \"mode\": \"lines\", \"lon\": [34.9249653, -100.4458825], \"lat\": [38.9597594, 39.7837304]}, {\"showlegend\": false, \"line\": {\"color\": \"red\", \"width\": 0.6986269705515233}, \"type\": \"scattergeo\", \"opacity\": 0.48577680525164113, \"mode\": \"lines\", \"lon\": [8.2319736, -100.4458825], \"lat\": [46.7985624, 39.7837304]}, {\"showlegend\": false, \"line\": {\"color\": \"red\", \"width\": 0.5714021543155656}, \"type\": \"scattergeo\", \"opacity\": 0.48577680525164113, \"mode\": \"lines\", \"lon\": [116.407395, 11.5280364395482], \"lat\": [39.904211, 64.5731537]}, {\"showlegend\": false, \"line\": {\"color\": \"red\", \"width\": 0.5625260043456151}, \"type\": \"scattergeo\", \"opacity\": 0.48577680525164113, \"mode\": \"lines\", \"lon\": [-73.783892, -4.003104], \"lat\": [2.8894434, 40.0028028]}, {\"showlegend\": false, \"line\": {\"color\": \"red\", \"width\": 0.5525403356294207}, \"type\": \"scattergeo\", \"opacity\": 0.48577680525164113, \"mode\": \"lines\", \"lon\": [116.407395, 122.7312101], \"lat\": [39.904211, 12.7503486]}, {\"showlegend\": false, \"line\": {\"color\": \"red\", \"width\": 0.5518006564652582}, \"type\": \"scattergeo\", \"opacity\": 0.48577680525164113, \"mode\": \"lines\", \"lon\": [5.53460738161551, 4.66696], \"lat\": [52.2379891, 50.6407351]}, {\"showlegend\": false, \"line\": {\"color\": \"red\", \"width\": 0.5403356294207388}, \"type\": \"scattergeo\", \"opacity\": 0.48577680525164113, \"mode\": \"lines\", \"lon\": [24.6859225, -100.4458825], \"lat\": [45.9852129, 39.7837304]}, {\"showlegend\": false, \"line\": {\"color\": \"red\", \"width\": 0.5373769127640886}, \"type\": \"scattergeo\", \"opacity\": 0.48577680525164113, \"mode\": \"lines\", \"lon\": [-4.003104, -100.4458825], \"lat\": [40.0028028, 39.7837304]}, {\"showlegend\": false, \"line\": {\"color\": \"red\", \"width\": 0.48929776709352324}, \"type\": \"scattergeo\", \"opacity\": 0.48577680525164113, \"mode\": \"lines\", \"lon\": [-64.9672817, -100.4458825], \"lat\": [-34.9964963, 39.7837304]}, {\"showlegend\": false, \"line\": {\"color\": \"red\", \"width\": 0.4715454671536221}, \"type\": \"scattergeo\", \"opacity\": 0.48577680525164113, \"mode\": \"lines\", \"lon\": [19.0258159, 55.84951], \"lat\": [52.0977181, 25.61552]}, {\"showlegend\": false, \"line\": {\"color\": \"red\", \"width\": 0.43862974434838886}, \"type\": \"scattergeo\", \"opacity\": 0.48577680525164113, \"mode\": \"lines\", \"lon\": [71.247499, 1.8883335], \"lat\": [30.3308401, 46.603354]}, {\"showlegend\": false, \"line\": {\"color\": \"red\", \"width\": 0.4094124173639684}, \"type\": \"scattergeo\", \"opacity\": 0.48577680525164113, \"mode\": \"lines\", \"lon\": [-100.4458825, 12.674297], \"lat\": [39.7837304, 42.6384261]}, {\"showlegend\": false, \"line\": {\"color\": \"red\", \"width\": 0.40423466321483054}, \"type\": \"scattergeo\", \"opacity\": 0.48577680525164113, \"mode\": \"lines\", \"lon\": [1.8883335, 1.8883335], \"lat\": [46.603354, 46.603354]}, {\"showlegend\": false, \"line\": {\"color\": \"red\", \"width\": 0.37131894040959734}, \"type\": \"scattergeo\", \"opacity\": 0.48577680525164113, \"mode\": \"lines\", \"lon\": [42.2363448, 42.2363448], \"lat\": [17.7269134, 17.7269134]}, {\"showlegend\": false, \"line\": {\"color\": \"red\", \"width\": 0.3690999029171097}, \"type\": \"scattergeo\", \"opacity\": 0.48577680525164113, \"mode\": \"lines\", \"lon\": [139.2394179, -100.4458825], \"lat\": [36.5748441, 39.7837304]}, {\"showlegend\": false, \"line\": {\"color\": \"red\", \"width\": 0.3679903841708659}, \"type\": \"scattergeo\", \"opacity\": 0.48577680525164113, \"mode\": \"lines\", \"lon\": [108.4265113, 1.8883335], \"lat\": [13.2904027, 46.603354]}, {\"showlegend\": false, \"line\": {\"color\": \"red\", \"width\": 0.33359530303730756}, \"type\": \"scattergeo\", \"opacity\": 0.48577680525164113, \"mode\": \"lines\", \"lon\": [116.407395, 12.674297], \"lat\": [39.904211, 42.6384261]}, {\"showlegend\": false, \"line\": {\"color\": \"red\", \"width\": 0.33100642596273866}, \"type\": \"scattergeo\", \"opacity\": 0.48577680525164113, \"mode\": \"lines\", \"lon\": [10.4234469, -100.4458825], \"lat\": [51.0834196, 39.7837304]}, {\"showlegend\": false, \"line\": {\"color\": \"red\", \"width\": 0.31769220100781287}, \"type\": \"scattergeo\", \"opacity\": 0.48577680525164113, \"mode\": \"lines\", \"lon\": [-53.2, -100.4458825], \"lat\": [-10.3333333, 39.7837304]}, {\"showlegend\": false, \"line\": {\"color\": \"red\", \"width\": 0.30844621145578105}, \"type\": \"scattergeo\", \"opacity\": 0.48577680525164113, \"mode\": \"lines\", \"lon\": [114.1849161, 114.1849161], \"lat\": [22.350627, 22.350627]}, {\"showlegend\": false, \"line\": {\"color\": \"red\", \"width\": 0.3077065322916185}, \"type\": \"scattergeo\", \"opacity\": 0.48577680525164113, \"mode\": \"lines\", \"lon\": [4.66696, -100.4458825], \"lat\": [50.6407351, 39.7837304]}, {\"showlegend\": false, \"line\": {\"color\": \"red\", \"width\": 0.3054874947991309}, \"type\": \"scattergeo\", \"opacity\": 0.48577680525164113, \"mode\": \"lines\", \"lon\": [28.5110236, -100.4458825], \"lat\": [47.286747, 39.7837304]}, {\"showlegend\": false, \"line\": {\"color\": \"red\", \"width\": 0.30030974064999305}, \"type\": \"scattergeo\", \"opacity\": 0.48577680525164113, \"mode\": \"lines\", \"lon\": [1.8883335, 55.84951], \"lat\": [46.603354, 25.61552]}, {\"showlegend\": false, \"line\": {\"color\": \"red\", \"width\": 0.2932827885904489}, \"type\": \"scattergeo\", \"opacity\": 0.48577680525164113, \"mode\": \"lines\", \"lon\": [8.2319736, 55.84951], \"lat\": [46.7985624, 25.61552]}, {\"showlegend\": false, \"line\": {\"color\": \"red\", \"width\": 0.2648051407701909}, \"type\": \"scattergeo\", \"opacity\": 0.48577680525164113, \"mode\": \"lines\", \"lon\": [122.7312101, -100.4458825], \"lat\": [12.7503486, 39.7837304]}, {\"showlegend\": false, \"line\": {\"color\": \"red\", \"width\": 0.25814802829272804}, \"type\": \"scattergeo\", \"opacity\": 0.48577680525164113, \"mode\": \"lines\", \"lon\": [97.7453061, 97.7453061], \"lat\": [64.6863136, 64.6863136]}, {\"showlegend\": false, \"line\": {\"color\": \"red\", \"width\": 0.24409412417363968}, \"type\": \"scattergeo\", \"opacity\": 0.48577680525164113, \"mode\": \"lines\", \"lon\": [116.407395, 100.83273], \"lat\": [39.904211, 14.8971921]}, {\"showlegend\": false, \"line\": {\"color\": \"red\", \"width\": 0.2215339096666821}, \"type\": \"scattergeo\", \"opacity\": 0.48577680525164113, \"mode\": \"lines\", \"lon\": [-71.3187697, -100.4458825], \"lat\": [-31.7613365, 39.7837304]}, {\"showlegend\": false, \"line\": {\"color\": \"red\", \"width\": 0.21783551384586936}, \"type\": \"scattergeo\", \"opacity\": 0.48577680525164113, \"mode\": \"lines\", \"lon\": [34.9249653, 55.84951], \"lat\": [38.9597594, 25.61552]}, {\"showlegend\": false, \"line\": {\"color\": \"red\", \"width\": 0.21524663677130046}, \"type\": \"scattergeo\", \"opacity\": 0.48577680525164113, \"mode\": \"lines\", \"lon\": [-4.003104, 55.84951], \"lat\": [40.0028028, 25.61552]}, {\"showlegend\": false, \"line\": {\"color\": \"red\", \"width\": 0.21117840136840646}, \"type\": \"scattergeo\", \"opacity\": 0.48577680525164113, \"mode\": \"lines\", \"lon\": [71.247499, -100.4458825], \"lat\": [30.3308401, 39.7837304]}, {\"showlegend\": false, \"line\": {\"color\": \"red\", \"width\": 0.2067403263834312}, \"type\": \"scattergeo\", \"opacity\": 0.48577680525164113, \"mode\": \"lines\", \"lon\": [126.9779692, 55.84951], \"lat\": [37.566535, 25.61552]}, {\"showlegend\": false, \"line\": {\"color\": \"red\", \"width\": 0.20563080763718738}, \"type\": \"scattergeo\", \"opacity\": 0.48577680525164113, \"mode\": \"lines\", \"lon\": [-73.783892, -100.4458825], \"lat\": [2.8894434, 39.7837304]}, {\"showlegend\": false, \"line\": {\"color\": \"red\", \"width\": 0.20267209098053718}, \"type\": \"scattergeo\", \"opacity\": 0.48577680525164113, \"mode\": \"lines\", \"lon\": [5.53460738161551, -100.4458825], \"lat\": [52.2379891, 39.7837304]}, {\"showlegend\": false, \"line\": {\"color\": \"red\", \"width\": 0.20230225139845592}, \"type\": \"scattergeo\", \"opacity\": 0.48577680525164113, \"mode\": \"lines\", \"lon\": [15.4749544, 55.84951], \"lat\": [49.8167003, 25.61552]}, {\"showlegend\": false, \"line\": {\"color\": \"red\", \"width\": 0.199713374323887}, \"type\": \"scattergeo\", \"opacity\": 0.48577680525164113, \"mode\": \"lines\", \"lon\": [97.7453061, -100.4458825], \"lat\": [64.6863136, 39.7837304]}, {\"showlegend\": false, \"line\": {\"color\": \"red\", \"width\": 0.19897369515972446}, \"type\": \"scattergeo\", \"opacity\": 0.48577680525164113, \"mode\": \"lines\", \"lon\": [-99.1333416, 55.84951], \"lat\": [19.4326009, 25.61552]}, {\"showlegend\": false, \"line\": {\"color\": \"red\", \"width\": 0.19601497850307428}, \"type\": \"scattergeo\", \"opacity\": 0.48577680525164113, \"mode\": \"lines\", \"lon\": [-99.1333416, -100.4458825], \"lat\": [19.4326009, 39.7837304]}, {\"showlegend\": false, \"line\": {\"color\": \"red\", \"width\": 0.19268642226434285}, \"type\": \"scattergeo\", \"opacity\": 0.48577680525164113, \"mode\": \"lines\", \"lon\": [108.4265113, -4.003104], \"lat\": [13.2904027, 40.0028028]}, {\"showlegend\": false, \"line\": {\"color\": \"red\", \"width\": 0.1878785076972863}, \"type\": \"scattergeo\", \"opacity\": 0.48577680525164113, \"mode\": \"lines\", \"lon\": [10.4234469, 0.0732], \"lat\": [51.0834196, 51.303]}, {\"showlegend\": false, \"line\": {\"color\": \"red\", \"width\": 0.16753733068281634}, \"type\": \"scattergeo\", \"opacity\": 0.48577680525164113, \"mode\": \"lines\", \"lon\": [12.674297, 12.674297], \"lat\": [42.6384261, 42.6384261]}, {\"showlegend\": false, \"line\": {\"color\": \"red\", \"width\": 0.16716749110073506}, \"type\": \"scattergeo\", \"opacity\": 0.48577680525164113, \"mode\": \"lines\", \"lon\": [108.4265113, -100.4458825], \"lat\": [13.2904027, 39.7837304]}, {\"showlegend\": false, \"line\": {\"color\": \"red\", \"width\": 0.16161989736951599}, \"type\": \"scattergeo\", \"opacity\": 0.48577680525164113, \"mode\": \"lines\", \"lon\": [120.835363138175, 55.84951], \"lat\": [23.59829785, 25.61552]}, {\"showlegend\": false, \"line\": {\"color\": \"red\", \"width\": 0.15866118071286578}, \"type\": \"scattergeo\", \"opacity\": 0.48577680525164113, \"mode\": \"lines\", \"lon\": [33.1451285, 33.1451285], \"lat\": [34.9823018, 34.9823018]}, {\"showlegend\": false, \"line\": {\"color\": \"red\", \"width\": 0.15607230363829688}, \"type\": \"scattergeo\", \"opacity\": 0.48577680525164113, \"mode\": \"lines\", \"lon\": [12.674297, -100.4458825], \"lat\": [42.6384261, 39.7837304]}, {\"showlegend\": false, \"line\": {\"color\": \"red\", \"width\": 0.15570246405621563}, \"type\": \"scattergeo\", \"opacity\": 0.48577680525164113, \"mode\": \"lines\", \"lon\": [10.4234469, 10.4234469], \"lat\": [51.0834196, 51.0834196]}, {\"showlegend\": false, \"line\": {\"color\": \"red\", \"width\": 0.15496278489205306}, \"type\": \"scattergeo\", \"opacity\": 0.48577680525164113, \"mode\": \"lines\", \"lon\": [-64.7603583, 55.84951], \"lat\": [32.3018217, 25.61552]}, {\"showlegend\": false, \"line\": {\"color\": \"red\", \"width\": 0.153483426563728}, \"type\": \"scattergeo\", \"opacity\": 0.48577680525164113, \"mode\": \"lines\", \"lon\": [15.4749544, -100.4458825], \"lat\": [49.8167003, 39.7837304]}, {\"showlegend\": false, \"line\": {\"color\": \"red\", \"width\": 0.1531135869816467}, \"type\": \"scattergeo\", \"opacity\": 0.48577680525164113, \"mode\": \"lines\", \"lon\": [114.1849161, 55.84951], \"lat\": [22.350627, 25.61552]}, {\"showlegend\": false, \"line\": {\"color\": \"red\", \"width\": 0.14830567241459017}, \"type\": \"scattergeo\", \"opacity\": 0.48577680525164113, \"mode\": \"lines\", \"lon\": [44.78151767883003, 55.84951], \"lat\": [40.18658704808404, 25.61552]}, {\"showlegend\": false, \"line\": {\"color\": \"red\", \"width\": 0.14719615366834635}, \"type\": \"scattergeo\", \"opacity\": 0.48577680525164113, \"mode\": \"lines\", \"lon\": [122.7312101, 55.84951], \"lat\": [12.7503486, 25.61552]}, {\"showlegend\": false, \"line\": {\"color\": \"red\", \"width\": 0.14423743701169617}, \"type\": \"scattergeo\", \"opacity\": 0.48577680525164113, \"mode\": \"lines\", \"lon\": [0.0732, -4.003104], \"lat\": [51.303, 40.0028028]}, {\"showlegend\": false, \"line\": {\"color\": \"red\", \"width\": 0.14090888077296473}, \"type\": \"scattergeo\", \"opacity\": 0.48577680525164113, \"mode\": \"lines\", \"lon\": [103.8499736, -100.4458825], \"lat\": [46.8250388, 39.7837304]}, {\"showlegend\": false, \"line\": {\"color\": \"red\", \"width\": 0.1305533724746891}, \"type\": \"scattergeo\", \"opacity\": 0.48577680525164113, \"mode\": \"lines\", \"lon\": [5.53460738161551, 42.2363448], \"lat\": [52.2379891, 17.7269134]}, {\"showlegend\": false, \"line\": {\"color\": \"red\", \"width\": 0.12093754334057602}, \"type\": \"scattergeo\", \"opacity\": 0.48577680525164113, \"mode\": \"lines\", \"lon\": [-107.9917071, -100.4458825], \"lat\": [61.0666922, 39.7837304]}, {\"showlegend\": false, \"line\": {\"color\": \"red\", \"width\": 0.12056770375849474}, \"type\": \"scattergeo\", \"opacity\": 0.48577680525164113, \"mode\": \"lines\", \"lon\": [35.0015196, 55.84951], \"lat\": [30.8760272, 25.61552]}, {\"showlegend\": false, \"line\": {\"color\": \"red\", \"width\": 0.11206139337062548}, \"type\": \"scattergeo\", \"opacity\": 0.48577680525164113, \"mode\": \"lines\", \"lon\": [-7.9794599, 100.83273], \"lat\": [52.865196, 14.8971921]}, {\"showlegend\": false, \"line\": {\"color\": \"red\", \"width\": 0.11058203504230041}, \"type\": \"scattergeo\", \"opacity\": 0.48577680525164113, \"mode\": \"lines\", \"lon\": [116.407395, 34.9249653], \"lat\": [39.904211, 38.9597594]}, {\"showlegend\": false, \"line\": {\"color\": \"red\", \"width\": 0.1079931579677315}, \"type\": \"scattergeo\", \"opacity\": 0.48577680525164113, \"mode\": \"lines\", \"lon\": [139.2394179, 55.84951], \"lat\": [36.5748441, 25.61552]}, {\"showlegend\": false, \"line\": {\"color\": \"red\", \"width\": 0.10762331838565023}, \"type\": \"scattergeo\", \"opacity\": 0.48577680525164113, \"mode\": \"lines\", \"lon\": [29.2675469, -100.4458825], \"lat\": [26.2540493, 39.7837304]}, {\"showlegend\": false, \"line\": {\"color\": \"red\", \"width\": 0.10540428089316259}, \"type\": \"scattergeo\", \"opacity\": 0.48577680525164113, \"mode\": \"lines\", \"lon\": [172.8344077, -100.4458825], \"lat\": [-41.5000831, 39.7837304]}, {\"showlegend\": false, \"line\": {\"color\": \"red\", \"width\": 0.10466460172900005}, \"type\": \"scattergeo\", \"opacity\": 0.48577680525164113, \"mode\": \"lines\", \"lon\": [108.4265113, 55.84951], \"lat\": [13.2904027, 25.61552]}, {\"showlegend\": false, \"line\": {\"color\": \"red\", \"width\": 0.10392492256483751}, \"type\": \"scattergeo\", \"opacity\": 0.48577680525164113, \"mode\": \"lines\", \"lon\": [-7.8896263, -100.4458825], \"lat\": [40.033265, 39.7837304]}, {\"showlegend\": false, \"line\": {\"color\": \"red\", \"width\": 0.10318524340067496}, \"type\": \"scattergeo\", \"opacity\": 0.48577680525164113, \"mode\": \"lines\", \"lon\": [-100.4458825, -7.9794599], \"lat\": [39.7837304, 52.865196]}, {\"showlegend\": false, \"line\": {\"color\": \"red\", \"width\": 0.10133604549026859}, \"type\": \"scattergeo\", \"opacity\": 0.48577680525164113, \"mode\": \"lines\", \"lon\": [8.2319736, -4.003104], \"lat\": [46.7985624, 40.0028028]}, {\"showlegend\": false, \"line\": {\"color\": \"red\", \"width\": 0.10096620590818733}, \"type\": \"scattergeo\", \"opacity\": 0.48577680525164113, \"mode\": \"lines\", \"lon\": [120.835363138175, -100.4458825], \"lat\": [23.59829785, 39.7837304]}, {\"showlegend\": false, \"line\": {\"color\": \"red\", \"width\": 0.10096620590818733}, \"type\": \"scattergeo\", \"opacity\": 0.48577680525164113, \"mode\": \"lines\", \"lon\": [100.83273, 55.84951], \"lat\": [14.8971921, 25.61552]}, {\"showlegend\": false, \"line\": {\"color\": \"red\", \"width\": 0.10096620590818733}, \"type\": \"scattergeo\", \"opacity\": 0.48577680525164113, \"mode\": \"lines\", \"lon\": [126.9779692, -4.003104], \"lat\": [37.566535, 40.0028028]}, {\"showlegend\": false, \"line\": {\"color\": \"red\", \"width\": 0.09911700799778098}, \"type\": \"scattergeo\", \"opacity\": 0.48577680525164113, \"mode\": \"lines\", \"lon\": [114.5632032, 55.84951], \"lat\": [-4.7993356, 25.61552]}, {\"showlegend\": false, \"line\": {\"color\": \"red\", \"width\": 0.09911700799778098}, \"type\": \"scattergeo\", \"opacity\": 0.48577680525164113, \"mode\": \"lines\", \"lon\": [114.5632032, -100.4458825], \"lat\": [-4.7993356, 39.7837304]}, {\"showlegend\": false, \"line\": {\"color\": \"red\", \"width\": 0.0987471684156997}, \"type\": \"scattergeo\", \"opacity\": 0.48577680525164113, \"mode\": \"lines\", \"lon\": [1.8883335, -100.4458825], \"lat\": [46.603354, 39.7837304]}, {\"showlegend\": false, \"line\": {\"color\": \"red\", \"width\": 0.09837732883361842}, \"type\": \"scattergeo\", \"opacity\": 0.48577680525164113, \"mode\": \"lines\", \"lon\": [-107.9917071, 55.84951], \"lat\": [61.0666922, 25.61552]}, {\"showlegend\": false, \"line\": {\"color\": \"red\", \"width\": 0.09763764966945587}, \"type\": \"scattergeo\", \"opacity\": 0.48577680525164113, \"mode\": \"lines\", \"lon\": [12.674297, 55.84951], \"lat\": [42.6384261, 25.61552]}, {\"showlegend\": false, \"line\": {\"color\": \"red\", \"width\": 0.09541861217696825}, \"type\": \"scattergeo\", \"opacity\": 0.48577680525164113, \"mode\": \"lines\", \"lon\": [8.2319736, 1.8883335], \"lat\": [46.7985624, 46.603354]}, {\"showlegend\": false, \"line\": {\"color\": \"red\", \"width\": 0.09504877259488696}, \"type\": \"scattergeo\", \"opacity\": 0.48577680525164113, \"mode\": \"lines\", \"lon\": [100.83273, -7.8896263], \"lat\": [14.8971921, 40.033265]}, {\"showlegend\": false, \"line\": {\"color\": \"red\", \"width\": 0.09098053719199298}, \"type\": \"scattergeo\", \"opacity\": 0.48577680525164113, \"mode\": \"lines\", \"lon\": [-100.4458825, 1.8883335], \"lat\": [39.7837304, 46.603354]}, {\"showlegend\": false, \"line\": {\"color\": \"red\", \"width\": 0.09024085802783043}, \"type\": \"scattergeo\", \"opacity\": 0.48577680525164113, \"mode\": \"lines\", \"lon\": [-7.9794599, 55.84951], \"lat\": [52.865196, 25.61552]}, {\"showlegend\": false, \"line\": {\"color\": \"red\", \"width\": 0.08617262262493644}, \"type\": \"scattergeo\", \"opacity\": 0.48577680525164113, \"mode\": \"lines\", \"lon\": [-53.2, 55.84951], \"lat\": [-10.3333333, 25.61552]}, {\"showlegend\": false, \"line\": {\"color\": \"red\", \"width\": 0.08506310387869262}, \"type\": \"scattergeo\", \"opacity\": 0.48577680525164113, \"mode\": \"lines\", \"lon\": [-100.4458825, 122.7312101], \"lat\": [39.7837304, 12.7503486]}, {\"showlegend\": false, \"line\": {\"color\": \"red\", \"width\": 0.07766631223706717}, \"type\": \"scattergeo\", \"opacity\": 0.48577680525164113, \"mode\": \"lines\", \"lon\": [71.247499, 55.84951], \"lat\": [30.3308401, 25.61552]}, {\"showlegend\": false, \"line\": {\"color\": \"red\", \"width\": 0.07618695390874208}, \"type\": \"scattergeo\", \"opacity\": 0.48577680525164113, \"mode\": \"lines\", \"lon\": [116.407395, 97.7453061], \"lat\": [39.904211, 64.6863136]}, {\"showlegend\": false, \"line\": {\"color\": \"red\", \"width\": 0.07248855808792935}, \"type\": \"scattergeo\", \"opacity\": 0.48577680525164113, \"mode\": \"lines\", \"lon\": [116.407395, 114.1849161], \"lat\": [39.904211, 22.350627]}, {\"showlegend\": false, \"line\": {\"color\": \"red\", \"width\": 0.07063936017752301}, \"type\": \"scattergeo\", \"opacity\": 0.48577680525164113, \"mode\": \"lines\", \"lon\": [-100.4458825, 4.66696], \"lat\": [39.7837304, 50.6407351]}, {\"showlegend\": false, \"line\": {\"color\": \"red\", \"width\": 0.06102353104340992}, \"type\": \"scattergeo\", \"opacity\": 0.48577680525164113, \"mode\": \"lines\", \"lon\": [25.4856617, -100.4458825], \"lat\": [42.6073975, 39.7837304]}, {\"showlegend\": false, \"line\": {\"color\": \"red\", \"width\": 0.05954417271508483}, \"type\": \"scattergeo\", \"opacity\": 0.48577680525164113, \"mode\": \"lines\", \"lon\": [78.6677428, 103.8520359], \"lat\": [22.3511148, 1.2904753]}, {\"showlegend\": false, \"line\": {\"color\": \"red\", \"width\": 0.05917433313300356}, \"type\": \"scattergeo\", \"opacity\": 0.48577680525164113, \"mode\": \"lines\", \"lon\": [-100.4458825, 10.4234469], \"lat\": [39.7837304, 51.0834196]}, {\"showlegend\": false, \"line\": {\"color\": \"red\", \"width\": 0.058804493550922286}, \"type\": \"scattergeo\", \"opacity\": 0.48577680525164113, \"mode\": \"lines\", \"lon\": [-100.4458825, 134.755], \"lat\": [39.7837304, -24.7761086]}, {\"showlegend\": false, \"line\": {\"color\": \"red\", \"width\": 0.05843465396884102}, \"type\": \"scattergeo\", \"opacity\": 0.48577680525164113, \"mode\": \"lines\", \"lon\": [139.2394179, 4.66696], \"lat\": [36.5748441, 50.6407351]}, {\"showlegend\": false, \"line\": {\"color\": \"red\", \"width\": 0.05695529564051592}, \"type\": \"scattergeo\", \"opacity\": 0.48577680525164113, \"mode\": \"lines\", \"lon\": [78.6677428, 12.674297], \"lat\": [22.3511148, 42.6384261]}, {\"showlegend\": false, \"line\": {\"color\": \"red\", \"width\": 0.05621561647635338}, \"type\": \"scattergeo\", \"opacity\": 0.48577680525164113, \"mode\": \"lines\", \"lon\": [19.0258159, 33.1451285], \"lat\": [52.0977181, 34.9823018]}, {\"showlegend\": false, \"line\": {\"color\": \"red\", \"width\": 0.05584577689427211}, \"type\": \"scattergeo\", \"opacity\": 0.48577680525164113, \"mode\": \"lines\", \"lon\": [-100.4458825, 24.6859225], \"lat\": [39.7837304, 45.9852129]}, {\"showlegend\": false, \"line\": {\"color\": \"red\", \"width\": 0.05584577689427211}, \"type\": \"scattergeo\", \"opacity\": 0.48577680525164113, \"mode\": \"lines\", \"lon\": [5.53460738161551, -7.9794599], \"lat\": [52.2379891, 52.865196]}, {\"showlegend\": false, \"line\": {\"color\": \"red\", \"width\": 0.05547593731219083}, \"type\": \"scattergeo\", \"opacity\": 0.48577680525164113, \"mode\": \"lines\", \"lon\": [0.0732, 0.0732], \"lat\": [51.303, 51.303]}, {\"showlegend\": false, \"line\": {\"color\": \"red\", \"width\": 0.054736258148028294}, \"type\": \"scattergeo\", \"opacity\": 0.48577680525164113, \"mode\": \"lines\", \"lon\": [-100.4458825, 97.7453061], \"lat\": [39.7837304, 64.6863136]}, {\"showlegend\": false, \"line\": {\"color\": \"red\", \"width\": 0.054366418565947025}, \"type\": \"scattergeo\", \"opacity\": 0.48577680525164113, \"mode\": \"lines\", \"lon\": [-100.4458825, 11.5280364395482], \"lat\": [39.7837304, 64.5731537]}, {\"showlegend\": false, \"line\": {\"color\": \"red\", \"width\": 0.05399657898386575}, \"type\": \"scattergeo\", \"opacity\": 0.48577680525164113, \"mode\": \"lines\", \"lon\": [-100.4458825, 0.547714867236488], \"lat\": [39.7837304, 51.38660965]}, {\"showlegend\": false, \"line\": {\"color\": \"red\", \"width\": 0.05399657898386575}, \"type\": \"scattergeo\", \"opacity\": 0.48577680525164113, \"mode\": \"lines\", \"lon\": [139.2394179, -107.9917071], \"lat\": [36.5748441, 61.0666922]}, {\"showlegend\": false, \"line\": {\"color\": \"red\", \"width\": 0.05362673940178447}, \"type\": \"scattergeo\", \"opacity\": 0.48577680525164113, \"mode\": \"lines\", \"lon\": [120.835363138175, 134.755], \"lat\": [23.59829785, -24.7761086]}, {\"showlegend\": false, \"line\": {\"color\": \"red\", \"width\": 0.053256899819703205}, \"type\": \"scattergeo\", \"opacity\": 0.48577680525164113, \"mode\": \"lines\", \"lon\": [-66.1109318, 122.7312101], \"lat\": [8.0018709, 12.7503486]}, {\"showlegend\": false, \"line\": {\"color\": \"red\", \"width\": 0.053256899819703205}, \"type\": \"scattergeo\", \"opacity\": 0.48577680525164113, \"mode\": \"lines\", \"lon\": [90.2932426, 33.1451285], \"lat\": [24.4768783, 34.9823018]}, {\"showlegend\": false, \"line\": {\"color\": \"red\", \"width\": 0.053256899819703205}, \"type\": \"scattergeo\", \"opacity\": 0.48577680525164113, \"mode\": \"lines\", \"lon\": [10.4234469, 19.0258159], \"lat\": [51.0834196, 52.0977181]}, {\"showlegend\": false, \"line\": {\"color\": \"red\", \"width\": 0.052887060237621936}, \"type\": \"scattergeo\", \"opacity\": 0.48577680525164113, \"mode\": \"lines\", \"lon\": [116.407395, -107.9917071], \"lat\": [39.904211, 61.0666922]}, {\"showlegend\": false, \"line\": {\"color\": \"red\", \"width\": 0.052887060237621936}, \"type\": \"scattergeo\", \"opacity\": 0.48577680525164113, \"mode\": \"lines\", \"lon\": [-7.8896263, -7.8896263], \"lat\": [40.033265, 40.033265]}, {\"showlegend\": false, \"line\": {\"color\": \"red\", \"width\": 0.05251722065554066}, \"type\": \"scattergeo\", \"opacity\": 0.48577680525164113, \"mode\": \"lines\", \"lon\": [1.8883335, 12.674297], \"lat\": [46.603354, 42.6384261]}, {\"showlegend\": false, \"line\": {\"color\": \"red\", \"width\": 0.05251722065554066}, \"type\": \"scattergeo\", \"opacity\": 0.48577680525164113, \"mode\": \"lines\", \"lon\": [-73.783892, 97.7453061], \"lat\": [2.8894434, 64.6863136]}, {\"showlegend\": false, \"line\": {\"color\": \"red\", \"width\": 0.05251722065554066}, \"type\": \"scattergeo\", \"opacity\": 0.48577680525164113, \"mode\": \"lines\", \"lon\": [139.2394179, 42.2363448], \"lat\": [36.5748441, 17.7269134]}, {\"showlegend\": false, \"line\": {\"color\": \"red\", \"width\": 0.051777541491378115}, \"type\": \"scattergeo\", \"opacity\": 0.48577680525164113, \"mode\": \"lines\", \"lon\": [8.2319736, 24.6859225], \"lat\": [46.7985624, 45.9852129]}, {\"showlegend\": false, \"line\": {\"color\": \"red\", \"width\": 0.051407701909296846}, \"type\": \"scattergeo\", \"opacity\": 0.48577680525164113, \"mode\": \"lines\", \"lon\": [24.6859225, -7.9794599], \"lat\": [45.9852129, 52.865196]}, {\"showlegend\": false, \"line\": {\"color\": \"red\", \"width\": 0.051407701909296846}, \"type\": \"scattergeo\", \"opacity\": 0.48577680525164113, \"mode\": \"lines\", \"lon\": [31.2718321, 55.84951], \"lat\": [49.4871968, 25.61552]}, {\"showlegend\": false, \"line\": {\"color\": \"red\", \"width\": 0.051407701909296846}, \"type\": \"scattergeo\", \"opacity\": 0.48577680525164113, \"mode\": \"lines\", \"lon\": [78.6677428, 55.84951], \"lat\": [22.3511148, 25.61552]}, {\"showlegend\": false, \"line\": {\"color\": \"red\", \"width\": 0.051407701909296846}, \"type\": \"scattergeo\", \"opacity\": 0.48577680525164113, \"mode\": \"lines\", \"lon\": [134.755, -100.4458825], \"lat\": [-24.7761086, 39.7837304]}, {\"showlegend\": false, \"line\": {\"color\": \"red\", \"width\": 0.05103786232721557}, \"type\": \"scattergeo\", \"opacity\": 0.48577680525164113, \"mode\": \"lines\", \"lon\": [0.0732, -100.4458825], \"lat\": [51.303, 39.7837304]}, {\"showlegend\": false, \"line\": {\"color\": \"red\", \"width\": 0.050668022745134295}, \"type\": \"scattergeo\", \"opacity\": 0.48577680525164113, \"mode\": \"lines\", \"lon\": [-4.003104, 116.407395], \"lat\": [40.0028028, 39.904211]}, {\"showlegend\": false, \"line\": {\"color\": \"red\", \"width\": 0.050298183163053026}, \"type\": \"scattergeo\", \"opacity\": 0.48577680525164113, \"mode\": \"lines\", \"lon\": [28.5110236, 11.5280364395482], \"lat\": [47.286747, 64.5731537]}, {\"showlegend\": false, \"line\": {\"color\": \"red\", \"width\": 0.04992834358097175}, \"type\": \"scattergeo\", \"opacity\": 0.48577680525164113, \"mode\": \"lines\", \"lon\": [-99.1333416, -99.1333416], \"lat\": [19.4326009, 19.4326009]}, {\"showlegend\": false, \"line\": {\"color\": \"red\", \"width\": 0.04992834358097175}, \"type\": \"scattergeo\", \"opacity\": 0.48577680525164113, \"mode\": \"lines\", \"lon\": [44.78151767883003, -100.4458825], \"lat\": [40.18658704808404, 39.7837304]}, {\"showlegend\": false, \"line\": {\"color\": \"red\", \"width\": 0.048818824834727936}, \"type\": \"scattergeo\", \"opacity\": 0.48577680525164113, \"mode\": \"lines\", \"lon\": [8.2319736, 34.9249653], \"lat\": [46.7985624, 38.9597594]}, {\"showlegend\": false, \"line\": {\"color\": \"red\", \"width\": 0.048818824834727936}, \"type\": \"scattergeo\", \"opacity\": 0.48577680525164113, \"mode\": \"lines\", \"lon\": [55.84951, 0.0732], \"lat\": [25.61552, 51.303]}, {\"showlegend\": false, \"line\": {\"color\": \"red\", \"width\": 0.04622994776015903}, \"type\": \"scattergeo\", \"opacity\": 0.48577680525164113, \"mode\": \"lines\", \"lon\": [116.407395, 1.8883335], \"lat\": [39.904211, 46.603354]}, {\"showlegend\": false, \"line\": {\"color\": \"red\", \"width\": 0.0440109102676714}, \"type\": \"scattergeo\", \"opacity\": 0.48577680525164113, \"mode\": \"lines\", \"lon\": [78.6677428, 1.8883335], \"lat\": [22.3511148, 46.603354]}, {\"showlegend\": false, \"line\": {\"color\": \"red\", \"width\": 0.04327123110350885}, \"type\": \"scattergeo\", \"opacity\": 0.48577680525164113, \"mode\": \"lines\", \"lon\": [31.2718321, 13.199959], \"lat\": [49.4871968, 47.2000338]}, {\"showlegend\": false, \"line\": {\"color\": \"red\", \"width\": 0.041791872775183765}, \"type\": \"scattergeo\", \"opacity\": 0.48577680525164113, \"mode\": \"lines\", \"lon\": [-100.4458825, 114.1849161], \"lat\": [39.7837304, 22.350627]}, {\"showlegend\": false, \"line\": {\"color\": \"red\", \"width\": 0.0399426748647774}, \"type\": \"scattergeo\", \"opacity\": 0.48577680525164113, \"mode\": \"lines\", \"lon\": [5.53460738161551, 12.674297], \"lat\": [52.2379891, 42.6384261]}, {\"showlegend\": false, \"line\": {\"color\": \"red\", \"width\": 0.0373537977902085}, \"type\": \"scattergeo\", \"opacity\": 0.48577680525164113, \"mode\": \"lines\", \"lon\": [42.2363448, 55.84951], \"lat\": [17.7269134, 25.61552]}, {\"showlegend\": false, \"line\": {\"color\": \"red\", \"width\": 0.03587443946188341}, \"type\": \"scattergeo\", \"opacity\": 0.48577680525164113, \"mode\": \"lines\", \"lon\": [114.1849161, -100.4458825], \"lat\": [22.350627, 39.7837304]}, {\"showlegend\": false, \"line\": {\"color\": \"red\", \"width\": 0.03513476029772086}, \"type\": \"scattergeo\", \"opacity\": 0.48577680525164113, \"mode\": \"lines\", \"lon\": [19.0258159, -100.4458825], \"lat\": [52.0977181, 39.7837304]}, {\"showlegend\": false, \"line\": {\"color\": \"red\", \"width\": 0.03291572280523323}, \"type\": \"scattergeo\", \"opacity\": 0.48577680525164113, \"mode\": \"lines\", \"lon\": [14.4808369, -7.9794599], \"lat\": [45.8133113, 52.865196]}, {\"showlegend\": false, \"line\": {\"color\": \"red\", \"width\": 0.03291572280523323}, \"type\": \"scattergeo\", \"opacity\": 0.48577680525164113, \"mode\": \"lines\", \"lon\": [-64.9912286, -100.4458825], \"lat\": [-17.0568696, 39.7837304]}, {\"showlegend\": false, \"line\": {\"color\": \"red\", \"width\": 0.032176043641070684}, \"type\": \"scattergeo\", \"opacity\": 0.48577680525164113, \"mode\": \"lines\", \"lon\": [78.6677428, -7.8896263], \"lat\": [22.3511148, 40.033265]}, {\"showlegend\": false, \"line\": {\"color\": \"red\", \"width\": 0.030696685312745598}, \"type\": \"scattergeo\", \"opacity\": 0.48577680525164113, \"mode\": \"lines\", \"lon\": [34.9249653, 103.8520359], \"lat\": [38.9597594, 1.2904753]}, {\"showlegend\": false, \"line\": {\"color\": \"red\", \"width\": 0.026628449909851602}, \"type\": \"scattergeo\", \"opacity\": 0.48577680525164113, \"mode\": \"lines\", \"lon\": [122.7312101, 122.7312101], \"lat\": [12.7503486, 12.7503486]}, {\"showlegend\": true, \"type\": \"scattergeo\", \"hoverinfo\": \"text\", \"name\": \"Flux intra pays\", \"mode\": \"markers\", \"lon\": [-100.4458825, 1.8883335, 42.2363448, 114.1849161, 97.7453061, 12.674297, 33.1451285, 10.4234469, 0.0732, -7.8896263, -99.1333416, 122.7312101], \"lat\": [39.7837304, 46.603354, 17.7269134, 22.350627, 64.6863136, 42.6384261, 34.9823018, 51.0834196, 51.303, 40.033265, 19.4326009, 12.7503486], \"marker\": {\"color\": \"rgb(33,113,181)\", \"size\": [34.083306365863805, 0.40423466321483054, 0.37131894040959734, 0.30844621145578105, 0.25814802829272804, 0.16753733068281634, 0.15866118071286578, 0.15570246405621563, 0.05547593731219083, 0.052887060237621936, 0.04992834358097175, 0.026628449909851602], \"line\": {\"width\": 0}}, \"legendgroup\": \"group2\", \"text\": [\"united states\", \"france\", \"saudi arabia\", \"hong kong\", \"russia\", \"italy\", \"cyprus\", \"germany\", \"united kingdom\", \"portugal\", \"mexico\", \"philippines\"]}, {\"showlegend\": true, \"type\": \"scattergeo\", \"hoverinfo\": \"text\", \"name\": \"Flux inter pays\", \"mode\": \"markers\", \"lon\": [-100.4458825, 116.407395, 116.407395, 31.2718321, 5.53460738161551, 116.407395, -100.4458825, 78.6677428, 126.9779692, 116.407395, 34.9249653, 8.2319736, 116.407395, -73.783892, 116.407395, 5.53460738161551, 24.6859225, -4.003104, -64.9672817, 19.0258159, 71.247499, -100.4458825, 1.8883335, 42.2363448, 139.2394179, 108.4265113, 116.407395, 10.4234469, -53.2, 114.1849161, 4.66696, 28.5110236, 1.8883335, 8.2319736, 122.7312101, 97.7453061, 116.407395, -71.3187697, 34.9249653, -4.003104, 71.247499, 126.9779692, -73.783892, 5.53460738161551, 15.4749544, 97.7453061, -99.1333416, -99.1333416, 108.4265113, 10.4234469, 12.674297, 108.4265113, 120.835363138175, 33.1451285, 12.674297, 10.4234469, -64.7603583, 15.4749544, 114.1849161, 44.78151767883003, 122.7312101, 0.0732, 103.8499736, 5.53460738161551, -107.9917071, 35.0015196, -7.9794599, 116.407395, 139.2394179, 29.2675469, 172.8344077, 108.4265113, -7.8896263, -100.4458825, 8.2319736, 120.835363138175, 100.83273, 126.9779692, 114.5632032, 114.5632032, 1.8883335, -107.9917071, 12.674297, 8.2319736, 100.83273, -100.4458825, -7.9794599, -53.2, -100.4458825, 71.247499, 116.407395, 116.407395, -100.4458825, 25.4856617, 78.6677428, -100.4458825, -100.4458825, 139.2394179, 78.6677428, 19.0258159, -100.4458825, 5.53460738161551, 0.0732, -100.4458825, -100.4458825, -100.4458825, 139.2394179, 120.835363138175, -66.1109318, 90.2932426, 10.4234469, 116.407395, -7.8896263, 1.8883335, -73.783892, 139.2394179, 8.2319736, 24.6859225, 31.2718321, 78.6677428, 134.755, 0.0732, -4.003104, 28.5110236, -99.1333416, 44.78151767883003, 8.2319736, 55.84951, 116.407395, 78.6677428, 31.2718321, -100.4458825, 5.53460738161551, 42.2363448, 114.1849161, 19.0258159, 14.4808369, -64.9912286, 78.6677428, 34.9249653, 122.7312101], \"lat\": [39.7837304, 39.904211, 39.904211, 49.4871968, 52.2379891, 39.904211, 39.7837304, 22.3511148, 37.566535, 39.904211, 38.9597594, 46.7985624, 39.904211, 2.8894434, 39.904211, 52.2379891, 45.9852129, 40.0028028, -34.9964963, 52.0977181, 30.3308401, 39.7837304, 46.603354, 17.7269134, 36.5748441, 13.2904027, 39.904211, 51.0834196, -10.3333333, 22.350627, 50.6407351, 47.286747, 46.603354, 46.7985624, 12.7503486, 64.6863136, 39.904211, -31.7613365, 38.9597594, 40.0028028, 30.3308401, 37.566535, 2.8894434, 52.2379891, 49.8167003, 64.6863136, 19.4326009, 19.4326009, 13.2904027, 51.0834196, 42.6384261, 13.2904027, 23.59829785, 34.9823018, 42.6384261, 51.0834196, 32.3018217, 49.8167003, 22.350627, 40.18658704808404, 12.7503486, 51.303, 46.8250388, 52.2379891, 61.0666922, 30.8760272, 52.865196, 39.904211, 36.5748441, 26.2540493, -41.5000831, 13.2904027, 40.033265, 39.7837304, 46.7985624, 23.59829785, 14.8971921, 37.566535, -4.7993356, -4.7993356, 46.603354, 61.0666922, 42.6384261, 46.7985624, 14.8971921, 39.7837304, 52.865196, -10.3333333, 39.7837304, 30.3308401, 39.904211, 39.904211, 39.7837304, 42.6073975, 22.3511148, 39.7837304, 39.7837304, 36.5748441, 22.3511148, 52.0977181, 39.7837304, 52.2379891, 51.303, 39.7837304, 39.7837304, 39.7837304, 36.5748441, 23.59829785, 8.0018709, 24.4768783, 51.0834196, 39.904211, 40.033265, 46.603354, 2.8894434, 36.5748441, 46.7985624, 45.9852129, 49.4871968, 22.3511148, -24.7761086, 51.303, 40.0028028, 47.286747, 19.4326009, 40.18658704808404, 46.7985624, 25.61552, 39.904211, 22.3511148, 49.4871968, 39.7837304, 52.2379891, 17.7269134, 22.350627, 52.0977181, 45.8133113, -17.0568696, 22.3511148, 38.9597594, 12.7503486], \"marker\": {\"color\": \"rgb(255, 0, 0)\", \"size\": 2, \"line\": {\"width\": 1, \"color\": \"rgba(68, 68, 68, 0)\"}}, \"legendgroup\": \"group1\", \"text\": [\"united states\", \"china\", \"china\", \"ukraine\", \"netherlands\", \"china\", \"united states\", \"india\", \"south korea\", \"china\", \"turkey\", \"swiss\", \"china\", \"colombia\", \"china\", \"netherlands\", \"roumania\", \"spain\", \"argentina\", \"poland\", \"pakistan\", \"united states\", \"france\", \"saudi arabia\", \"japan\", \"vietnam\", \"china\", \"germany\", \"brazil\", \"hong kong\", \"belgium\", \"moldova\", \"france\", \"swiss\", \"philippines\", \"russia\", \"china\", \"chile\", \"turkey\", \"spain\", \"pakistan\", \"south korea\", \"colombia\", \"netherlands\", \"czech republic\", \"russia\", \"mexico\", \"mexico\", \"vietnam\", \"germany\", \"italy\", \"vietnam\", \"taiwan\", \"cyprus\", \"italy\", \"germany\", \"bermuda\", \"czech republic\", \"hong kong\", \"armenia\", \"philippines\", \"united kingdom\", \"mongolia\", \"netherlands\", \"canada\", \"israel\", \"ireland\", \"china\", \"japan\", \"egypt\", \"new zealand\", \"vietnam\", \"portugal\", \"united states\", \"swiss\", \"taiwan\", \"thailand\", \"south korea\", \"indonesia\", \"indonesia\", \"france\", \"canada\", \"italy\", \"swiss\", \"thailand\", \"united states\", \"ireland\", \"brazil\", \"united states\", \"pakistan\", \"china\", \"china\", \"united states\", \"bulgaria\", \"india\", \"united states\", \"united states\", \"japan\", \"india\", \"poland\", \"united states\", \"netherlands\", \"united kingdom\", \"united states\", \"united states\", \"united states\", \"japan\", \"taiwan\", \"venezuela\", \"bangladesh\", \"germany\", \"china\", \"portugal\", \"france\", \"colombia\", \"japan\", \"swiss\", \"roumania\", \"ukraine\", \"india\", \"australia\", \"united kingdom\", \"spain\", \"moldova\", \"mexico\", \"armenia\", \"swiss\", \"united arab emirates\", \"china\", \"india\", \"ukraine\", \"united states\", \"netherlands\", \"saudi arabia\", \"hong kong\", \"poland\", \"slovenia\", \"bolivia\", \"india\", \"turkey\", \"philippines\"]}], {\"geo\": {\"landcolor\": \"rgb(243, 243, 243)\", \"showcountries\": true, \"showland\": true, \"projection\": {\"type\": \"orthographic\"}, \"countrycolor\": \"rgb(204, 204, 204)\", \"scope\": \"world\"}, \"title\": \"Flux des cyberattaques mondiale en mars 2018 <br> source : <a href=\\\"http://www.norse-corp.com/about-us/who-we-are/\\\">Norse </a>\"}, {\"linkText\": \"Export to plot.ly\", \"showLink\": true})});</script>"
      ]
     },
     "metadata": {},
     "output_type": "display_data"
    }
   ],
   "source": [
    "df['showlegend'] = False\n",
    "data_norse = df[['lat', 'line', 'lon', 'mode', 'opacity','type', 'showlegend']].to_dict(orient='records')\n",
    "df_intra_pays = df[df['attacker'] == df['target']]\n",
    "\n",
    "labels = [ dict(\n",
    "        type = 'scattergeo',\n",
    "        hoverinfo = 'text',\n",
    "        lon = df['longitude_attacker'],\n",
    "        lat = df['latitude_attacker'],\n",
    "        text = df['attacker'],\n",
    "        mode = 'markers',\n",
    "        marker = dict( \n",
    "            size=2, \n",
    "            color='rgb(255, 0, 0)',\n",
    "            line = dict(\n",
    "                width=1,\n",
    "                color='rgba(68, 68, 68, 0)'\n",
    "            )   \n",
    "        ),\n",
    "        legendgroup = 'group1', # this can be any string, not just \"group\"\n",
    "        name = 'Flux inter pays',\n",
    "        showlegend = True\n",
    "    \n",
    ")]\n",
    "\n",
    "cases = []\n",
    "cases.append(go.Scattergeo(\n",
    "    hoverinfo = 'text',\n",
    "    lon = df_intra_pays['longitude_attacker'], \n",
    "    lat = df_intra_pays['latitude_attacker'],\n",
    "    text = df_intra_pays['attacker'],\n",
    "    marker = dict(\n",
    "        size = df_intra_pays['nb_attack'].apply(lambda x :  x / sum(df['nb_attack']) * 80),\n",
    "        color = 'rgb(33,113,181)',\n",
    "        line = dict(width = 0)\n",
    "    ),\n",
    "    legendgroup = 'group2', # this can be any string, not just \"group\"\n",
    "    name = 'Flux intra pays',\n",
    "    mode = 'markers',\n",
    "    showlegend = True\n",
    "    \n",
    "))\n",
    "\n",
    " \n",
    "layout = dict(\n",
    "    title = 'Flux des cyberattaques mondiale en mars 2018 <br> source : <a href=\"http://www.norse-corp.com/about-us/who-we-are/\">\\\n",
    "Norse </a>',\n",
    "        \n",
    "        geo = dict(\n",
    "            scope='world',\n",
    "            projection= dict( type='orthographic'),\n",
    "            showland = True,\n",
    "            landcolor = 'rgb(243, 243, 243)',\n",
    "            countrycolor = 'rgb(204, 204, 204)',\n",
    "            showcountries = True\n",
    "        )\n",
    "    )\n",
    "    \n",
    "fig = dict(data = data_norse + cases + labels, layout=layout )\n",
    "iplot(fig, filename='d3-world-map')"
   ]
  },
  {
   "cell_type": "code",
   "execution_count": 191,
   "metadata": {},
   "outputs": [
    {
     "data": {
      "text/plain": [
       "[{'hoverinfo': 'text', 'lat': 0      39.783730\n",
       "  22     46.603354\n",
       "  23     17.726913\n",
       "  29     22.350627\n",
       "  35     64.686314\n",
       "  50     42.638426\n",
       "  53     34.982302\n",
       "  55     51.083420\n",
       "  102    51.303000\n",
       "  112    40.033265\n",
       "  124    19.432601\n",
       "  140    12.750349\n",
       "  Name: latitude_attacker, dtype: float64, 'legendgroup': 'group2', 'lon': 0     -100.445882\n",
       "  22       1.888334\n",
       "  23      42.236345\n",
       "  29     114.184916\n",
       "  35      97.745306\n",
       "  50      12.674297\n",
       "  53      33.145128\n",
       "  55      10.423447\n",
       "  102      0.073200\n",
       "  112     -7.889626\n",
       "  124    -99.133342\n",
       "  140    122.731210\n",
       "  Name: longitude_attacker, dtype: float64, 'marker': {'color': 'rgb(33,113,181)',\n",
       "   'line': {'width': 0},\n",
       "   'size': 0      34.083306\n",
       "   22      0.404235\n",
       "   23      0.371319\n",
       "   29      0.308446\n",
       "   35      0.258148\n",
       "   50      0.167537\n",
       "   53      0.158661\n",
       "   55      0.155702\n",
       "   102     0.055476\n",
       "   112     0.052887\n",
       "   124     0.049928\n",
       "   140     0.026628\n",
       "   Name: nb_attack, dtype: float64}, 'mode': 'markers', 'name': 'Flux intra pays', 'showlegend': True, 'text': 0       united states\n",
       "  22             france\n",
       "  23       saudi arabia\n",
       "  29          hong kong\n",
       "  35             russia\n",
       "  50              italy\n",
       "  53             cyprus\n",
       "  55            germany\n",
       "  102    united kingdom\n",
       "  112          portugal\n",
       "  124            mexico\n",
       "  140       philippines\n",
       "  Name: attacker, dtype: object, 'type': 'scattergeo'}]"
      ]
     },
     "execution_count": 191,
     "metadata": {},
     "output_type": "execute_result"
    }
   ],
   "source": [
    "cases"
   ]
  },
  {
   "cell_type": "code",
   "execution_count": 54,
   "metadata": {
    "collapsed": true
   },
   "outputs": [],
   "source": [
    "# 1ère cartes : Représentation des cyber attaques \n",
    "# 2 ème carte : cibles des cyber-attaques \n",
    "# 3 ème carte : origine des attaques "
   ]
  },
  {
   "cell_type": "code",
   "execution_count": 55,
   "metadata": {
    "collapsed": true
   },
   "outputs": [],
   "source": [
    "df_code_country = pd.read_csv('https://raw.githubusercontent.com/plotly/datasets/master/2014_world_gdp_with_codes.csv')[['CODE', 'COUNTRY']]\n",
    "df_code_country['country'] = df_code_country['COUNTRY'].apply(lambda x : x.lower())\n",
    "df_code_country = df_code_country.drop(['COUNTRY'], axis = 'columns')"
   ]
  },
  {
   "cell_type": "code",
   "execution_count": 56,
   "metadata": {
    "collapsed": true
   },
   "outputs": [],
   "source": [
    "sum_target = df.groupby(['target'])['nb_attack'].sum()\n",
    "df_target = df.set_index(['target'])[['latitude_target', 'longitude_target']]\n",
    "df_target['sum_target'] = sum_target\n",
    "df_target = df_target.reset_index()\n",
    "df_target = df_target.drop_duplicates('target')\n",
    "df_target['country'] = df_target['target']\n",
    "df_target = df_target.drop(['target'], axis = 'columns')"
   ]
  },
  {
   "cell_type": "code",
   "execution_count": 57,
   "metadata": {
    "collapsed": true
   },
   "outputs": [],
   "source": [
    "df_target = pd.merge(df_target, df_code_country, how = 'left', on = ['country'])"
   ]
  },
  {
   "cell_type": "code",
   "execution_count": 58,
   "metadata": {},
   "outputs": [
    {
     "data": {
      "text/html": [
       "<div>\n",
       "<style scoped>\n",
       "    .dataframe tbody tr th:only-of-type {\n",
       "        vertical-align: middle;\n",
       "    }\n",
       "\n",
       "    .dataframe tbody tr th {\n",
       "        vertical-align: top;\n",
       "    }\n",
       "\n",
       "    .dataframe thead th {\n",
       "        text-align: right;\n",
       "    }\n",
       "</style>\n",
       "<table border=\"1\" class=\"dataframe\">\n",
       "  <thead>\n",
       "    <tr style=\"text-align: right;\">\n",
       "      <th></th>\n",
       "      <th>latitude_target</th>\n",
       "      <th>longitude_target</th>\n",
       "      <th>sum_target</th>\n",
       "      <th>country</th>\n",
       "      <th>CODE</th>\n",
       "    </tr>\n",
       "  </thead>\n",
       "  <tbody>\n",
       "    <tr>\n",
       "      <th>0</th>\n",
       "      <td>39.783730</td>\n",
       "      <td>-100.445882</td>\n",
       "      <td>137702</td>\n",
       "      <td>united states</td>\n",
       "      <td>USA</td>\n",
       "    </tr>\n",
       "    <tr>\n",
       "      <th>1</th>\n",
       "      <td>25.615520</td>\n",
       "      <td>55.849510</td>\n",
       "      <td>45635</td>\n",
       "      <td>united arab emirates</td>\n",
       "      <td>ARE</td>\n",
       "    </tr>\n",
       "    <tr>\n",
       "      <th>2</th>\n",
       "      <td>40.002803</td>\n",
       "      <td>-4.003104</td>\n",
       "      <td>7740</td>\n",
       "      <td>spain</td>\n",
       "      <td>ESP</td>\n",
       "    </tr>\n",
       "    <tr>\n",
       "      <th>3</th>\n",
       "      <td>1.290475</td>\n",
       "      <td>103.852036</td>\n",
       "      <td>2702</td>\n",
       "      <td>singapore</td>\n",
       "      <td>SGP</td>\n",
       "    </tr>\n",
       "    <tr>\n",
       "      <th>4</th>\n",
       "      <td>64.573154</td>\n",
       "      <td>11.528036</td>\n",
       "      <td>1828</td>\n",
       "      <td>norway</td>\n",
       "      <td>NOR</td>\n",
       "    </tr>\n",
       "  </tbody>\n",
       "</table>\n",
       "</div>"
      ],
      "text/plain": [
       "   latitude_target  longitude_target  sum_target               country CODE\n",
       "0        39.783730       -100.445882      137702         united states  USA\n",
       "1        25.615520         55.849510       45635  united arab emirates  ARE\n",
       "2        40.002803         -4.003104        7740                 spain  ESP\n",
       "3         1.290475        103.852036        2702             singapore  SGP\n",
       "4        64.573154         11.528036        1828                norway  NOR"
      ]
     },
     "execution_count": 58,
     "metadata": {},
     "output_type": "execute_result"
    }
   ],
   "source": [
    "df_target.head()"
   ]
  },
  {
   "cell_type": "code",
   "execution_count": 59,
   "metadata": {
    "collapsed": true
   },
   "outputs": [],
   "source": [
    "sum_attacker = df.groupby(['attacker'])['nb_attack'].sum()\n",
    "df_attacker = df.set_index(['attacker'])[['latitude_attacker', 'longitude_attacker']]\n",
    "df_attacker['sum_attacker'] = sum_attacker\n",
    "df_attacker = df_attacker.reset_index()\n",
    "df_attacker = df_attacker.drop_duplicates('attacker')\n",
    "df_attacker['country'] = df_attacker['attacker']\n",
    "df_attacker = df_attacker.drop(['attacker'], axis = 'columns')"
   ]
  },
  {
   "cell_type": "code",
   "execution_count": 60,
   "metadata": {
    "collapsed": true
   },
   "outputs": [],
   "source": [
    "df_attacker = pd.merge(df_attacker, df_code_country, how = 'left', on = ['country'])"
   ]
  },
  {
   "cell_type": "code",
   "execution_count": 61,
   "metadata": {},
   "outputs": [
    {
     "data": {
      "text/html": [
       "<div>\n",
       "<style scoped>\n",
       "    .dataframe tbody tr th:only-of-type {\n",
       "        vertical-align: middle;\n",
       "    }\n",
       "\n",
       "    .dataframe tbody tr th {\n",
       "        vertical-align: top;\n",
       "    }\n",
       "\n",
       "    .dataframe thead th {\n",
       "        text-align: right;\n",
       "    }\n",
       "</style>\n",
       "<table border=\"1\" class=\"dataframe\">\n",
       "  <thead>\n",
       "    <tr style=\"text-align: right;\">\n",
       "      <th></th>\n",
       "      <th>latitude_attacker</th>\n",
       "      <th>longitude_attacker</th>\n",
       "      <th>sum_attacker</th>\n",
       "      <th>country</th>\n",
       "      <th>CODE</th>\n",
       "    </tr>\n",
       "  </thead>\n",
       "  <tbody>\n",
       "    <tr>\n",
       "      <th>0</th>\n",
       "      <td>39.783730</td>\n",
       "      <td>-100.445882</td>\n",
       "      <td>97988</td>\n",
       "      <td>united states</td>\n",
       "      <td>USA</td>\n",
       "    </tr>\n",
       "    <tr>\n",
       "      <th>1</th>\n",
       "      <td>39.904211</td>\n",
       "      <td>116.407395</td>\n",
       "      <td>52725</td>\n",
       "      <td>china</td>\n",
       "      <td>CHN</td>\n",
       "    </tr>\n",
       "    <tr>\n",
       "      <th>2</th>\n",
       "      <td>49.487197</td>\n",
       "      <td>31.271832</td>\n",
       "      <td>6680</td>\n",
       "      <td>ukraine</td>\n",
       "      <td>UKR</td>\n",
       "    </tr>\n",
       "    <tr>\n",
       "      <th>3</th>\n",
       "      <td>52.237989</td>\n",
       "      <td>5.534607</td>\n",
       "      <td>7854</td>\n",
       "      <td>netherlands</td>\n",
       "      <td>NLD</td>\n",
       "    </tr>\n",
       "    <tr>\n",
       "      <th>4</th>\n",
       "      <td>22.351115</td>\n",
       "      <td>78.667743</td>\n",
       "      <td>3183</td>\n",
       "      <td>india</td>\n",
       "      <td>IND</td>\n",
       "    </tr>\n",
       "  </tbody>\n",
       "</table>\n",
       "</div>"
      ],
      "text/plain": [
       "   latitude_attacker  longitude_attacker  sum_attacker        country CODE\n",
       "0          39.783730         -100.445882         97988  united states  USA\n",
       "1          39.904211          116.407395         52725          china  CHN\n",
       "2          49.487197           31.271832          6680        ukraine  UKR\n",
       "3          52.237989            5.534607          7854    netherlands  NLD\n",
       "4          22.351115           78.667743          3183          india  IND"
      ]
     },
     "execution_count": 61,
     "metadata": {},
     "output_type": "execute_result"
    }
   ],
   "source": [
    "df_attacker.head()"
   ]
  },
  {
   "cell_type": "code",
   "execution_count": 216,
   "metadata": {},
   "outputs": [
    {
     "data": {
      "application/vnd.plotly.v1+json": {
       "data": [
        {
         "autocolorscale": false,
         "colorbar": {
          "title": "Cyberattaques <br>échelle logarithmique"
         },
         "colorscale": [
          [
           0,
           "#f7fbff"
          ],
          [
           0.25,
           "#FE96A0"
          ],
          [
           0.45,
           "#FF6F7D"
          ],
          [
           0.65,
           "#FF6F7D"
          ],
          [
           0.85,
           "#DB1702"
          ],
          [
           1,
           "#D90115"
          ]
         ],
         "locations": [
          "USA",
          "ARE",
          "ESP",
          "SGP",
          "NOR",
          "PHL",
          "BEL",
          "FRA",
          "ITA",
          "SAU",
          "HKG",
          "RUS",
          "THA",
          "GBR",
          "CYP",
          "DEU",
          "TUR",
          "IRL",
          "PRT",
          "AUS",
          null,
          "ISL",
          "CAN",
          "POL",
          "CHN",
          "MEX",
          "AUT"
         ],
         "marker": {
          "line": {
           "color": "rgb(255,255,255)",
           "width": 0
          }
         },
         "text": [
          "united states",
          "united arab emirates",
          "spain",
          "singapore",
          "norway",
          "philippines",
          "belgium",
          "france",
          "italy",
          "saudi arabia",
          "hong kong",
          "russia",
          "thailand",
          "united kingdom",
          "cyprus",
          "germany",
          "turkey",
          "ireland",
          "portugal",
          "australia",
          "roumania",
          "iceland",
          "canada",
          "poland",
          "china",
          "mexico",
          "austria"
         ],
         "type": "choropleth",
         "z": [
          11.83284720893952,
          10.728430244950978,
          8.954156966583772,
          7.9017475185201445,
          7.510977752014095,
          7.570443252057374,
          7.518064181233078,
          8.299534570332597,
          7.960672608388117,
          7.312553498102598,
          7.04141166379481,
          7.085064293952548,
          6.870053411798126,
          6.672032945461067,
          6.586171654854675,
          6.364750756851911,
          6.066108090103747,
          6.489204931325317,
          6.18826412308259,
          5.717027701406222,
          5.673323267171493,
          4.983606621708336,
          5.666426688112432,
          4.969813299576001,
          4.919980925828125,
          4.90527477843843,
          4.762173934797756
         ]
        }
       ],
       "layout": {
        "geo": {
         "countrycolor": "rgb(204, 204, 204)",
         "landcolor": "rgb(243, 243, 243)",
         "projection": {
          "type": "equirectangular"
         },
         "scope": "world",
         "showcountries": true,
         "showland": true
        },
        "title": "Cibles des cyberattaques <br> source : <a href=\"http://www.norse-corp.com/about-us/who-we-are/\">Norse </a>"
       }
      },
      "text/html": [
       "<div id=\"a8716cff-b149-41fa-84e8-83f2b49aabfb\" style=\"height: 525px; width: 100%;\" class=\"plotly-graph-div\"></div><script type=\"text/javascript\">require([\"plotly\"], function(Plotly) { window.PLOTLYENV=window.PLOTLYENV || {};window.PLOTLYENV.BASE_URL=\"https://plot.ly\";Plotly.newPlot(\"a8716cff-b149-41fa-84e8-83f2b49aabfb\", [{\"colorbar\": {\"title\": \"Cyberattaques <br>\\u00e9chelle logarithmique\"}, \"colorscale\": [[0, \"#f7fbff\"], [0.25, \"#FE96A0\"], [0.45, \"#FF6F7D\"], [0.65, \"#FF6F7D\"], [0.85, \"#DB1702\"], [1, \"#D90115\"]], \"type\": \"choropleth\", \"text\": [\"united states\", \"united arab emirates\", \"spain\", \"singapore\", \"norway\", \"philippines\", \"belgium\", \"france\", \"italy\", \"saudi arabia\", \"hong kong\", \"russia\", \"thailand\", \"united kingdom\", \"cyprus\", \"germany\", \"turkey\", \"ireland\", \"portugal\", \"australia\", \"roumania\", \"iceland\", \"canada\", \"poland\", \"china\", \"mexico\", \"austria\"], \"locations\": [\"USA\", \"ARE\", \"ESP\", \"SGP\", \"NOR\", \"PHL\", \"BEL\", \"FRA\", \"ITA\", \"SAU\", \"HKG\", \"RUS\", \"THA\", \"GBR\", \"CYP\", \"DEU\", \"TUR\", \"IRL\", \"PRT\", \"AUS\", null, \"ISL\", \"CAN\", \"POL\", \"CHN\", \"MEX\", \"AUT\"], \"z\": [11.83284720893952, 10.728430244950978, 8.954156966583772, 7.9017475185201445, 7.510977752014095, 7.570443252057374, 7.518064181233078, 8.299534570332597, 7.960672608388117, 7.312553498102598, 7.04141166379481, 7.085064293952548, 6.870053411798126, 6.672032945461067, 6.586171654854675, 6.364750756851911, 6.066108090103747, 6.489204931325317, 6.18826412308259, 5.717027701406222, 5.673323267171493, 4.983606621708336, 5.666426688112432, 4.969813299576001, 4.919980925828125, 4.90527477843843, 4.762173934797756], \"autocolorscale\": false, \"marker\": {\"line\": {\"color\": \"rgb(255,255,255)\", \"width\": 0}}}], {\"geo\": {\"landcolor\": \"rgb(243, 243, 243)\", \"showcountries\": true, \"showland\": true, \"projection\": {\"type\": \"equirectangular\"}, \"countrycolor\": \"rgb(204, 204, 204)\", \"scope\": \"world\"}, \"title\": \"Cibles des cyberattaques <br> source : <a href=\\\"http://www.norse-corp.com/about-us/who-we-are/\\\">Norse </a>\"}, {\"linkText\": \"Export to plot.ly\", \"showLink\": true})});</script>"
      ],
      "text/vnd.plotly.v1+html": [
       "<div id=\"a8716cff-b149-41fa-84e8-83f2b49aabfb\" style=\"height: 525px; width: 100%;\" class=\"plotly-graph-div\"></div><script type=\"text/javascript\">require([\"plotly\"], function(Plotly) { window.PLOTLYENV=window.PLOTLYENV || {};window.PLOTLYENV.BASE_URL=\"https://plot.ly\";Plotly.newPlot(\"a8716cff-b149-41fa-84e8-83f2b49aabfb\", [{\"colorbar\": {\"title\": \"Cyberattaques <br>\\u00e9chelle logarithmique\"}, \"colorscale\": [[0, \"#f7fbff\"], [0.25, \"#FE96A0\"], [0.45, \"#FF6F7D\"], [0.65, \"#FF6F7D\"], [0.85, \"#DB1702\"], [1, \"#D90115\"]], \"type\": \"choropleth\", \"text\": [\"united states\", \"united arab emirates\", \"spain\", \"singapore\", \"norway\", \"philippines\", \"belgium\", \"france\", \"italy\", \"saudi arabia\", \"hong kong\", \"russia\", \"thailand\", \"united kingdom\", \"cyprus\", \"germany\", \"turkey\", \"ireland\", \"portugal\", \"australia\", \"roumania\", \"iceland\", \"canada\", \"poland\", \"china\", \"mexico\", \"austria\"], \"locations\": [\"USA\", \"ARE\", \"ESP\", \"SGP\", \"NOR\", \"PHL\", \"BEL\", \"FRA\", \"ITA\", \"SAU\", \"HKG\", \"RUS\", \"THA\", \"GBR\", \"CYP\", \"DEU\", \"TUR\", \"IRL\", \"PRT\", \"AUS\", null, \"ISL\", \"CAN\", \"POL\", \"CHN\", \"MEX\", \"AUT\"], \"z\": [11.83284720893952, 10.728430244950978, 8.954156966583772, 7.9017475185201445, 7.510977752014095, 7.570443252057374, 7.518064181233078, 8.299534570332597, 7.960672608388117, 7.312553498102598, 7.04141166379481, 7.085064293952548, 6.870053411798126, 6.672032945461067, 6.586171654854675, 6.364750756851911, 6.066108090103747, 6.489204931325317, 6.18826412308259, 5.717027701406222, 5.673323267171493, 4.983606621708336, 5.666426688112432, 4.969813299576001, 4.919980925828125, 4.90527477843843, 4.762173934797756], \"autocolorscale\": false, \"marker\": {\"line\": {\"color\": \"rgb(255,255,255)\", \"width\": 0}}}], {\"geo\": {\"landcolor\": \"rgb(243, 243, 243)\", \"showcountries\": true, \"showland\": true, \"projection\": {\"type\": \"equirectangular\"}, \"countrycolor\": \"rgb(204, 204, 204)\", \"scope\": \"world\"}, \"title\": \"Cibles des cyberattaques <br> source : <a href=\\\"http://www.norse-corp.com/about-us/who-we-are/\\\">Norse </a>\"}, {\"linkText\": \"Export to plot.ly\", \"showLink\": true})});</script>"
      ]
     },
     "metadata": {},
     "output_type": "display_data"
    }
   ],
   "source": [
    "colorscale=[[0, \"#f7fbff\"], [0.25, \"#FE96A0\"], [0.45, \"#FF6F7D\"], [0.65, \"#FF6F7D\"], [0.85, \"#DB1702\"], [1,\"#D90115\"]]\n",
    "\n",
    "\n",
    "data = [ dict(\n",
    "        type='choropleth',\n",
    "        colorscale = colorscale,\n",
    "        autocolorscale = False,\n",
    "        locations = df_target['CODE'],\n",
    "        z = np.log(df_target['sum_target']).astype(float),\n",
    "        text = df_target['country'],\n",
    "        marker = dict(\n",
    "            line = dict (\n",
    "                color = 'rgb(255,255,255)',\n",
    "                width = 0\n",
    "            ) ),\n",
    "        colorbar = dict(\n",
    "            title = \"Cyberattaques <br>échelle logarithmique\")\n",
    "        ) ]\n",
    "\n",
    " \n",
    "layout = dict(\n",
    "    title = 'Cibles des cyberattaques <br> source : <a href=\"http://www.norse-corp.com/about-us/who-we-are/\">\\\n",
    "Norse </a>',\n",
    "        \n",
    "        geo = dict(\n",
    "            scope='world',\n",
    "            projection= dict( type='equirectangular'),\n",
    "            showland = True,\n",
    "            landcolor = 'rgb(243, 243, 243)',\n",
    "            countrycolor = 'rgb(204, 204, 204)',\n",
    "            showcountries = True\n",
    "        )\n",
    "    )\n",
    "    \n",
    "fig = dict( data=data, layout=layout )\n",
    "iplot( fig, filename='d3-cloropleth-map' )"
   ]
  },
  {
   "cell_type": "code",
   "execution_count": 217,
   "metadata": {},
   "outputs": [
    {
     "data": {
      "application/vnd.plotly.v1+json": {
       "data": [
        {
         "autocolorscale": false,
         "colorbar": {
          "title": "Cyberattaques <br>échelle logarithmique"
         },
         "colorscale": [
          [
           0,
           "#f7fbff"
          ],
          [
           0.25,
           "#FE96A0"
          ],
          [
           0.45,
           "#FF6F7D"
          ],
          [
           0.65,
           "#FF6F7D"
          ],
          [
           0.85,
           "#DB1702"
          ],
          [
           1,
           "#D90115"
          ]
         ],
         "locations": [
          "USA",
          "CHN",
          "UKR",
          "NLD",
          "IND",
          null,
          "TUR",
          null,
          "COL",
          null,
          "ESP",
          "ARG",
          "POL",
          "PAK",
          "FRA",
          "SAU",
          "JPN",
          "VNM",
          "DEU",
          "BRA",
          "HKG",
          "BEL",
          "MDA",
          "PHL",
          "RUS",
          "CHL",
          "CZE",
          "MEX",
          "ITA",
          "TWN",
          "CYP",
          "BMU",
          "ARM",
          "GBR",
          "MNG",
          "CAN",
          "ISR",
          "IRL",
          "EGY",
          "NZL",
          "PRT",
          "THA",
          "IDN",
          "BGR",
          "VEN",
          "BGD",
          "AUS",
          "ARE",
          "SVN",
          "BOL"
         ],
         "marker": {
          "line": {
           "color": "rgb(255,255,255)",
           "width": 0
          }
         },
         "text": [
          "united states",
          "china",
          "ukraine",
          "netherlands",
          "india",
          "south korea",
          "turkey",
          "swiss",
          "colombia",
          "roumania",
          "spain",
          "argentina",
          "poland",
          "pakistan",
          "france",
          "saudi arabia",
          "japan",
          "vietnam",
          "germany",
          "brazil",
          "hong kong",
          "belgium",
          "moldova",
          "philippines",
          "russia",
          "chile",
          "czech republic",
          "mexico",
          "italy",
          "taiwan",
          "cyprus",
          "bermuda",
          "armenia",
          "united kingdom",
          "mongolia",
          "canada",
          "israel",
          "ireland",
          "egypt",
          "new zealand",
          "portugal",
          "thailand",
          "indonesia",
          "bulgaria",
          "venezuela",
          "bangladesh",
          "australia",
          "united arab emirates",
          "slovenia",
          "bolivia"
         ],
         "type": "choropleth",
         "z": [
          11.492600301175628,
          10.872845005346976,
          8.806873266530692,
          8.968778235137956,
          8.065579427282092,
          8.111928063310739,
          7.860570785538664,
          8.156510226079966,
          7.704811922932594,
          7.3777589082278725,
          7.683403681053826,
          7.187657164114956,
          7.3277805384216315,
          7.584264818389059,
          7.746732907753622,
          7.007600613951853,
          7.459338895220296,
          7.719129840906732,
          7.584773077612199,
          6.9957661563048505,
          7.20414929203594,
          6.723832440821209,
          6.8690144506657065,
          7.078341579557671,
          7.121252453244542,
          6.395261598115449,
          6.8690144506657065,
          7.0925737159746784,
          7.037905963447182,
          6.75110146893676,
          6.061456918928017,
          6.037870919922137,
          6.284134161070802,
          6.519147287940395,
          5.942799375126701,
          6.385194398997726,
          5.786897381366708,
          6.304448802421981,
          5.673323267171493,
          5.652489180268651,
          6.049733455231958,
          6.272877006546167,
          6.284134161070802,
          5.10594547390058,
          4.969813299576001,
          4.969813299576001,
          4.9344739331306915,
          4.882801922586371,
          4.48863636973214,
          4.48863636973214
         ]
        }
       ],
       "layout": {
        "geo": {
         "countrycolor": "rgb(204, 204, 204)",
         "landcolor": "rgb(243, 243, 243)",
         "projection": {
          "type": "equirectangular"
         },
         "scope": "world",
         "showcountries": true,
         "showland": true
        },
        "title": "Origine des cyberattaques <br> source : <a href=\"http://www.norse-corp.com/about-us/who-we-are/\">Norse </a>"
       }
      },
      "text/html": [
       "<div id=\"a856af24-fda6-40c4-a953-a744b2f89521\" style=\"height: 525px; width: 100%;\" class=\"plotly-graph-div\"></div><script type=\"text/javascript\">require([\"plotly\"], function(Plotly) { window.PLOTLYENV=window.PLOTLYENV || {};window.PLOTLYENV.BASE_URL=\"https://plot.ly\";Plotly.newPlot(\"a856af24-fda6-40c4-a953-a744b2f89521\", [{\"colorbar\": {\"title\": \"Cyberattaques <br>\\u00e9chelle logarithmique\"}, \"colorscale\": [[0, \"#f7fbff\"], [0.25, \"#FE96A0\"], [0.45, \"#FF6F7D\"], [0.65, \"#FF6F7D\"], [0.85, \"#DB1702\"], [1, \"#D90115\"]], \"type\": \"choropleth\", \"text\": [\"united states\", \"china\", \"ukraine\", \"netherlands\", \"india\", \"south korea\", \"turkey\", \"swiss\", \"colombia\", \"roumania\", \"spain\", \"argentina\", \"poland\", \"pakistan\", \"france\", \"saudi arabia\", \"japan\", \"vietnam\", \"germany\", \"brazil\", \"hong kong\", \"belgium\", \"moldova\", \"philippines\", \"russia\", \"chile\", \"czech republic\", \"mexico\", \"italy\", \"taiwan\", \"cyprus\", \"bermuda\", \"armenia\", \"united kingdom\", \"mongolia\", \"canada\", \"israel\", \"ireland\", \"egypt\", \"new zealand\", \"portugal\", \"thailand\", \"indonesia\", \"bulgaria\", \"venezuela\", \"bangladesh\", \"australia\", \"united arab emirates\", \"slovenia\", \"bolivia\"], \"locations\": [\"USA\", \"CHN\", \"UKR\", \"NLD\", \"IND\", null, \"TUR\", null, \"COL\", null, \"ESP\", \"ARG\", \"POL\", \"PAK\", \"FRA\", \"SAU\", \"JPN\", \"VNM\", \"DEU\", \"BRA\", \"HKG\", \"BEL\", \"MDA\", \"PHL\", \"RUS\", \"CHL\", \"CZE\", \"MEX\", \"ITA\", \"TWN\", \"CYP\", \"BMU\", \"ARM\", \"GBR\", \"MNG\", \"CAN\", \"ISR\", \"IRL\", \"EGY\", \"NZL\", \"PRT\", \"THA\", \"IDN\", \"BGR\", \"VEN\", \"BGD\", \"AUS\", \"ARE\", \"SVN\", \"BOL\"], \"z\": [11.492600301175628, 10.872845005346976, 8.806873266530692, 8.968778235137956, 8.065579427282092, 8.111928063310739, 7.860570785538664, 8.156510226079966, 7.704811922932594, 7.3777589082278725, 7.683403681053826, 7.187657164114956, 7.3277805384216315, 7.584264818389059, 7.746732907753622, 7.007600613951853, 7.459338895220296, 7.719129840906732, 7.584773077612199, 6.9957661563048505, 7.20414929203594, 6.723832440821209, 6.8690144506657065, 7.078341579557671, 7.121252453244542, 6.395261598115449, 6.8690144506657065, 7.0925737159746784, 7.037905963447182, 6.75110146893676, 6.061456918928017, 6.037870919922137, 6.284134161070802, 6.519147287940395, 5.942799375126701, 6.385194398997726, 5.786897381366708, 6.304448802421981, 5.673323267171493, 5.652489180268651, 6.049733455231958, 6.272877006546167, 6.284134161070802, 5.10594547390058, 4.969813299576001, 4.969813299576001, 4.9344739331306915, 4.882801922586371, 4.48863636973214, 4.48863636973214], \"autocolorscale\": false, \"marker\": {\"line\": {\"color\": \"rgb(255,255,255)\", \"width\": 0}}}], {\"geo\": {\"landcolor\": \"rgb(243, 243, 243)\", \"showcountries\": true, \"showland\": true, \"projection\": {\"type\": \"equirectangular\"}, \"countrycolor\": \"rgb(204, 204, 204)\", \"scope\": \"world\"}, \"title\": \"Origine des cyberattaques <br> source : <a href=\\\"http://www.norse-corp.com/about-us/who-we-are/\\\">Norse </a>\"}, {\"linkText\": \"Export to plot.ly\", \"showLink\": true})});</script>"
      ],
      "text/vnd.plotly.v1+html": [
       "<div id=\"a856af24-fda6-40c4-a953-a744b2f89521\" style=\"height: 525px; width: 100%;\" class=\"plotly-graph-div\"></div><script type=\"text/javascript\">require([\"plotly\"], function(Plotly) { window.PLOTLYENV=window.PLOTLYENV || {};window.PLOTLYENV.BASE_URL=\"https://plot.ly\";Plotly.newPlot(\"a856af24-fda6-40c4-a953-a744b2f89521\", [{\"colorbar\": {\"title\": \"Cyberattaques <br>\\u00e9chelle logarithmique\"}, \"colorscale\": [[0, \"#f7fbff\"], [0.25, \"#FE96A0\"], [0.45, \"#FF6F7D\"], [0.65, \"#FF6F7D\"], [0.85, \"#DB1702\"], [1, \"#D90115\"]], \"type\": \"choropleth\", \"text\": [\"united states\", \"china\", \"ukraine\", \"netherlands\", \"india\", \"south korea\", \"turkey\", \"swiss\", \"colombia\", \"roumania\", \"spain\", \"argentina\", \"poland\", \"pakistan\", \"france\", \"saudi arabia\", \"japan\", \"vietnam\", \"germany\", \"brazil\", \"hong kong\", \"belgium\", \"moldova\", \"philippines\", \"russia\", \"chile\", \"czech republic\", \"mexico\", \"italy\", \"taiwan\", \"cyprus\", \"bermuda\", \"armenia\", \"united kingdom\", \"mongolia\", \"canada\", \"israel\", \"ireland\", \"egypt\", \"new zealand\", \"portugal\", \"thailand\", \"indonesia\", \"bulgaria\", \"venezuela\", \"bangladesh\", \"australia\", \"united arab emirates\", \"slovenia\", \"bolivia\"], \"locations\": [\"USA\", \"CHN\", \"UKR\", \"NLD\", \"IND\", null, \"TUR\", null, \"COL\", null, \"ESP\", \"ARG\", \"POL\", \"PAK\", \"FRA\", \"SAU\", \"JPN\", \"VNM\", \"DEU\", \"BRA\", \"HKG\", \"BEL\", \"MDA\", \"PHL\", \"RUS\", \"CHL\", \"CZE\", \"MEX\", \"ITA\", \"TWN\", \"CYP\", \"BMU\", \"ARM\", \"GBR\", \"MNG\", \"CAN\", \"ISR\", \"IRL\", \"EGY\", \"NZL\", \"PRT\", \"THA\", \"IDN\", \"BGR\", \"VEN\", \"BGD\", \"AUS\", \"ARE\", \"SVN\", \"BOL\"], \"z\": [11.492600301175628, 10.872845005346976, 8.806873266530692, 8.968778235137956, 8.065579427282092, 8.111928063310739, 7.860570785538664, 8.156510226079966, 7.704811922932594, 7.3777589082278725, 7.683403681053826, 7.187657164114956, 7.3277805384216315, 7.584264818389059, 7.746732907753622, 7.007600613951853, 7.459338895220296, 7.719129840906732, 7.584773077612199, 6.9957661563048505, 7.20414929203594, 6.723832440821209, 6.8690144506657065, 7.078341579557671, 7.121252453244542, 6.395261598115449, 6.8690144506657065, 7.0925737159746784, 7.037905963447182, 6.75110146893676, 6.061456918928017, 6.037870919922137, 6.284134161070802, 6.519147287940395, 5.942799375126701, 6.385194398997726, 5.786897381366708, 6.304448802421981, 5.673323267171493, 5.652489180268651, 6.049733455231958, 6.272877006546167, 6.284134161070802, 5.10594547390058, 4.969813299576001, 4.969813299576001, 4.9344739331306915, 4.882801922586371, 4.48863636973214, 4.48863636973214], \"autocolorscale\": false, \"marker\": {\"line\": {\"color\": \"rgb(255,255,255)\", \"width\": 0}}}], {\"geo\": {\"landcolor\": \"rgb(243, 243, 243)\", \"showcountries\": true, \"showland\": true, \"projection\": {\"type\": \"equirectangular\"}, \"countrycolor\": \"rgb(204, 204, 204)\", \"scope\": \"world\"}, \"title\": \"Origine des cyberattaques <br> source : <a href=\\\"http://www.norse-corp.com/about-us/who-we-are/\\\">Norse </a>\"}, {\"linkText\": \"Export to plot.ly\", \"showLink\": true})});</script>"
      ]
     },
     "metadata": {},
     "output_type": "display_data"
    }
   ],
   "source": [
    "colorscale=[[0, \"#f7fbff\"], [0.25, \"#FE96A0\"], [0.45, \"#FF6F7D\"], [0.65, \"#FF6F7D\"], [0.85, \"#DB1702\"], [1,\"#D90115\"]]\n",
    "\n",
    "data = [ dict(\n",
    "        type='choropleth',\n",
    "        colorscale = colorscale,\n",
    "        autocolorscale = False,\n",
    "        locations = df_attacker['CODE'],\n",
    "        z = np.log(df_attacker['sum_attacker']).astype(float),\n",
    "        text = df_attacker['country'],\n",
    "        marker = dict(\n",
    "            line = dict (\n",
    "                color = 'rgb(255,255,255)',\n",
    "                width = 0\n",
    "            ) ),\n",
    "        colorbar = dict(\n",
    "            title = \"Cyberattaques <br>échelle logarithmique\")\n",
    "        ) ]\n",
    "\n",
    " \n",
    "layout = dict(\n",
    "    title = 'Origine des cyberattaques <br> source : <a href=\"http://www.norse-corp.com/about-us/who-we-are/\">\\\n",
    "Norse </a>',\n",
    "        \n",
    "        geo = dict(\n",
    "            scope='world',\n",
    "            projection= dict( type='equirectangular'),\n",
    "            showland = True,\n",
    "            landcolor = 'rgb(243, 243, 243)',\n",
    "            countrycolor = 'rgb(204, 204, 204)',\n",
    "            showcountries = True\n",
    "        )\n",
    "    )\n",
    "    \n",
    "fig = dict( data=data, layout=layout )\n",
    "iplot( fig, filename='d3-cloropleth-map' )"
   ]
  },
  {
   "cell_type": "code",
   "execution_count": 194,
   "metadata": {},
   "outputs": [
    {
     "name": "stderr",
     "output_type": "stream",
     "text": [
      "/Users/raphael/anaconda/lib/python3.5/site-packages/IPython/core/interactiveshell.py:2717: DtypeWarning:\n",
      "\n",
      "Columns (10) have mixed types. Specify dtype option on import or set low_memory=False.\n",
      "\n"
     ]
    }
   ],
   "source": [
    "zone_h = pd.read_csv('./../../data/DataCountryClean.csv', encoding=\"latin-1\")#.fillna('null')"
   ]
  },
  {
   "cell_type": "code",
   "execution_count": 195,
   "metadata": {},
   "outputs": [],
   "source": [
    "zone_h['Country'] = zone_h['Country'].replace(np.nan,'UNKNOWN')"
   ]
  },
  {
   "cell_type": "code",
   "execution_count": 196,
   "metadata": {
    "collapsed": true
   },
   "outputs": [],
   "source": [
    "mapping_country = {\n",
    "    'NL' : 'netherlands', \n",
    "    'CN' : 'china', \n",
    "    'US' : 'united states', \n",
    "    'MX' : 'mexico', \n",
    "    'TR' : 'turkey', \n",
    "    'PK' : 'pakistan', \n",
    "    'HK' : 'hong kong', \n",
    "    'VN' : 'vietnam', \n",
    "    'RO' : 'roumania', \n",
    "    'IT' : 'italia', \n",
    "    'KR' : 'south korea',\n",
    "    'JP' : 'japan', \n",
    "    'CH' : 'swiss', \n",
    "    'UA' : 'ukraine', \n",
    "    'ES' : 'spain', \n",
    "    'CZ' : 'czech republic', \n",
    "    'BR' : 'brazil', \n",
    "    'IN' : 'india', \n",
    "    'PH' : 'philippines', \n",
    "    'GB' : 'united kingdom', \n",
    "    'PL' : 'poland', \n",
    "    'FR' : 'france', \n",
    "    'IL' : 'israel', \n",
    "    'CA' : 'canada', \n",
    "    'CO' : 'colombia', \n",
    "    'DE' : 'germany', \n",
    "    'SA' : 'saudi arabia', \n",
    "    'AM' : 'armenia', \n",
    "    'BO' : 'bolivia', \n",
    "    'BG' : 'bulgaria', \n",
    "    'AR' : 'argentina', \n",
    "    'TW' : 'taiwan', \n",
    "    'MD' : 'moldova',\n",
    "    'ID' : 'indonesia', \n",
    "    'BE' : 'belgium', \n",
    "    'TH' : 'thailand', \n",
    "    'PT' : 'portugal', \n",
    "    'EG' : 'egypt', \n",
    "    'CL' : 'chile', \n",
    "    'NZ' : 'new zealand', \n",
    "    'RU' : 'russia', \n",
    "    'CY' : 'cyprus', \n",
    "    'BM' : 'bermuda', \n",
    "    'MN' : 'mongolia',\n",
    "    'IR' : 'ireland', \n",
    "    'BD' : 'bangladesh', \n",
    "    'SI' : 'slovenia', \n",
    "    'VE' : 'venezuela', \n",
    "    'AU' : 'australia', \n",
    "    'AE' : 'united arab emirates',\n",
    "    'NO' : 'norway',\n",
    "    'SG' : 'singapore',\n",
    "    'IE' : 'ireland',\n",
    "    'IS' : 'iceland',\n",
    "    'AT' : 'austria'    \n",
    "}"
   ]
  },
  {
   "cell_type": "code",
   "execution_count": 197,
   "metadata": {},
   "outputs": [],
   "source": [
    "mapping_country = list(mapping_country.values())"
   ]
  },
  {
   "cell_type": "code",
   "execution_count": 198,
   "metadata": {},
   "outputs": [],
   "source": [
    "zone_h['Country'] = zone_h['Country'].apply(lambda x : x.lower())"
   ]
  },
  {
   "cell_type": "code",
   "execution_count": 199,
   "metadata": {
    "collapsed": true
   },
   "outputs": [],
   "source": [
    "def referenced_country(x):\n",
    "    if x in mapping_country : \n",
    "        return x\n",
    "    else : \n",
    "        return np.nan"
   ]
  },
  {
   "cell_type": "code",
   "execution_count": 200,
   "metadata": {},
   "outputs": [],
   "source": [
    "zone_h['Country'] = zone_h['Country'].apply(lambda x : referenced_country(x))"
   ]
  },
  {
   "cell_type": "code",
   "execution_count": 201,
   "metadata": {
    "scrolled": false
   },
   "outputs": [
    {
     "data": {
      "text/html": [
       "<div>\n",
       "<style scoped>\n",
       "    .dataframe tbody tr th:only-of-type {\n",
       "        vertical-align: middle;\n",
       "    }\n",
       "\n",
       "    .dataframe tbody tr th {\n",
       "        vertical-align: top;\n",
       "    }\n",
       "\n",
       "    .dataframe thead th {\n",
       "        text-align: right;\n",
       "    }\n",
       "</style>\n",
       "<table border=\"1\" class=\"dataframe\">\n",
       "  <thead>\n",
       "    <tr style=\"text-align: right;\">\n",
       "      <th></th>\n",
       "      <th>Date</th>\n",
       "      <th>Notify</th>\n",
       "      <th>URL</th>\n",
       "      <th>IP</th>\n",
       "      <th>Country</th>\n",
       "      <th>OS</th>\n",
       "      <th>WebServer</th>\n",
       "      <th>Encoding</th>\n",
       "      <th>Lang</th>\n",
       "      <th>company</th>\n",
       "      <th>retrieveCountry</th>\n",
       "      <th>retrieveIndustry</th>\n",
       "    </tr>\n",
       "  </thead>\n",
       "  <tbody>\n",
       "    <tr>\n",
       "      <th>9</th>\n",
       "      <td>1998-01-07</td>\n",
       "      <td>D.A.M.M.</td>\n",
       "      <td>http://www.unicef.org</td>\n",
       "      <td>NaN</td>\n",
       "      <td>NaN</td>\n",
       "      <td>Unknown</td>\n",
       "      <td>Unknown</td>\n",
       "      <td>windows-1252</td>\n",
       "      <td>NaN</td>\n",
       "      <td>unicef</td>\n",
       "      <td>united states</td>\n",
       "      <td>NaN</td>\n",
       "    </tr>\n",
       "    <tr>\n",
       "      <th>104</th>\n",
       "      <td>1999-06-15</td>\n",
       "      <td>Forpaxe</td>\n",
       "      <td>http://insite.net</td>\n",
       "      <td>NaN</td>\n",
       "      <td>NaN</td>\n",
       "      <td>Unknown</td>\n",
       "      <td>Unknown</td>\n",
       "      <td>utf-8</td>\n",
       "      <td>NaN</td>\n",
       "      <td>insite</td>\n",
       "      <td>canada</td>\n",
       "      <td>health</td>\n",
       "    </tr>\n",
       "    <tr>\n",
       "      <th>119</th>\n",
       "      <td>1999-06-21</td>\n",
       "      <td>V3|uW3</td>\n",
       "      <td>http://www.lancia.nl</td>\n",
       "      <td>NaN</td>\n",
       "      <td>NaN</td>\n",
       "      <td>Unknown</td>\n",
       "      <td>NaN</td>\n",
       "      <td>NaN</td>\n",
       "      <td>NaN</td>\n",
       "      <td>lancia</td>\n",
       "      <td>italy</td>\n",
       "      <td>automotive</td>\n",
       "    </tr>\n",
       "    <tr>\n",
       "      <th>121</th>\n",
       "      <td>1999-06-21</td>\n",
       "      <td>BiS</td>\n",
       "      <td>http://data3.gmu.edu</td>\n",
       "      <td>NaN</td>\n",
       "      <td>NaN</td>\n",
       "      <td>Unknown</td>\n",
       "      <td>Unknown</td>\n",
       "      <td>NaN</td>\n",
       "      <td>NaN</td>\n",
       "      <td>data3</td>\n",
       "      <td>australia</td>\n",
       "      <td>information</td>\n",
       "    </tr>\n",
       "    <tr>\n",
       "      <th>295</th>\n",
       "      <td>1999-08-03</td>\n",
       "      <td>bl0w</td>\n",
       "      <td>http://www.symantec.com</td>\n",
       "      <td>NaN</td>\n",
       "      <td>NaN</td>\n",
       "      <td>Unknown</td>\n",
       "      <td>Unknown</td>\n",
       "      <td>iso-8859-1</td>\n",
       "      <td>NaN</td>\n",
       "      <td>symantec</td>\n",
       "      <td>united states</td>\n",
       "      <td>computer</td>\n",
       "    </tr>\n",
       "  </tbody>\n",
       "</table>\n",
       "</div>"
      ],
      "text/plain": [
       "           Date    Notify                      URL   IP Country       OS  \\\n",
       "9    1998-01-07  D.A.M.M.    http://www.unicef.org  NaN     NaN  Unknown   \n",
       "104  1999-06-15   Forpaxe        http://insite.net  NaN     NaN  Unknown   \n",
       "119  1999-06-21    V3|uW3     http://www.lancia.nl  NaN     NaN  Unknown   \n",
       "121  1999-06-21       BiS     http://data3.gmu.edu  NaN     NaN  Unknown   \n",
       "295  1999-08-03      bl0w  http://www.symantec.com  NaN     NaN  Unknown   \n",
       "\n",
       "    WebServer      Encoding Lang   company retrieveCountry retrieveIndustry  \n",
       "9     Unknown  windows-1252  NaN    unicef   united states              NaN  \n",
       "104   Unknown         utf-8  NaN    insite          canada           health  \n",
       "119       NaN           NaN  NaN    lancia           italy       automotive  \n",
       "121   Unknown           NaN  NaN     data3       australia      information  \n",
       "295   Unknown    iso-8859-1  NaN  symantec   united states         computer  "
      ]
     },
     "execution_count": 201,
     "metadata": {},
     "output_type": "execute_result"
    }
   ],
   "source": [
    "zone_h[zone_h['retrieveCountry'].notnull()].head()"
   ]
  },
  {
   "cell_type": "code",
   "execution_count": 202,
   "metadata": {},
   "outputs": [],
   "source": [
    "zone_h['retrieveCountry'] = zone_h['retrieveCountry'].replace('unknown ', np.nan)\n",
    "zone_h['retrieveCountry'] = zone_h['retrieveCountry'].fillna(zone_h['Country'])"
   ]
  },
  {
   "cell_type": "code",
   "execution_count": 203,
   "metadata": {},
   "outputs": [],
   "source": [
    "zone_h['retrieveCountry'] = zone_h['retrieveCountry'].replace('unknown', np.nan)"
   ]
  },
  {
   "cell_type": "code",
   "execution_count": 207,
   "metadata": {},
   "outputs": [
    {
     "data": {
      "text/plain": [
       "117750"
      ]
     },
     "execution_count": 207,
     "metadata": {},
     "output_type": "execute_result"
    }
   ],
   "source": [
    "len(zone_h) - zone_h['retrieveCountry'].isnull().sum()"
   ]
  },
  {
   "cell_type": "code",
   "execution_count": null,
   "metadata": {
    "collapsed": true
   },
   "outputs": [],
   "source": []
  },
  {
   "cell_type": "code",
   "execution_count": null,
   "metadata": {
    "collapsed": true
   },
   "outputs": [],
   "source": []
  }
 ],
 "metadata": {
  "kernelspec": {
   "display_name": "Python [conda root]",
   "language": "python",
   "name": "conda-root-py"
  },
  "language_info": {
   "codemirror_mode": {
    "name": "ipython",
    "version": 3
   },
   "file_extension": ".py",
   "mimetype": "text/x-python",
   "name": "python",
   "nbconvert_exporter": "python",
   "pygments_lexer": "ipython3",
   "version": "3.5.3"
  }
 },
 "nbformat": 4,
 "nbformat_minor": 2
}

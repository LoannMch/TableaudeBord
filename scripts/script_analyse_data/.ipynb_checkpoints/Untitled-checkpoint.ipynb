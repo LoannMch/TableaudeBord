{
 "cells": [
  {
   "cell_type": "code",
   "execution_count": 51,
   "metadata": {},
   "outputs": [],
   "source": [
    "import pandas as pd\n",
    "import os\n",
    "import glob\n",
    "import datetime\n",
    "import pyodbc"
   ]
  },
  {
   "cell_type": "code",
   "execution_count": 52,
   "metadata": {},
   "outputs": [],
   "source": [
    "df = pd.read_csv('./../../data/myData103000_104000.csv', low_memory=False)"
   ]
  },
  {
   "cell_type": "code",
   "execution_count": 53,
   "metadata": {
    "collapsed": true
   },
   "outputs": [],
   "source": [
    "def call_procedure(con, data, file_name, mapping_country):\n",
    "    data['Date'] = pd.to_datetime(data['Date'])\n",
    "    data['Date'] = data['Date'].apply(lambda x : update_date(x))\n",
    "\n",
    "    data['Notify'] = data['Notify'].apply(lambda x : x.lower() if x == x else x)\n",
    "    data['Country'] = data['Country'].apply(lambda x : x.lower() if x == x else x)\n",
    "\n",
    "    data.apply(procedure_insert, axis = 'columns')"
   ]
  },
  {
   "cell_type": "code",
   "execution_count": 54,
   "metadata": {},
   "outputs": [],
   "source": [
    "def update_date(x):\n",
    "    return('{:02d}-{:02d}-{} {:02d}:{:02d}:{:02d}'.format(x.day, x.month, x.year, x.hour, x.minute, x.second))"
   ]
  },
  {
   "cell_type": "code",
   "execution_count": 55,
   "metadata": {
    "collapsed": true
   },
   "outputs": [],
   "source": [
    "def procedure_insert(row):\n",
    "    sql = 'exec InsertDataFromNorse @type_attack=\\''+row['attack_type']+'\\',@target_country=\\''+row['target_country']+'\\',@target_town=\\''+row['target_town']+'\\',@attacker_town=\\''+row['attacker_town']+'\\',@attacker_country=\\''+row['attacker_country']+'\\',@attacker=\\''+row['attacker']+'\\',@date=\\''+row['date']+'\\''\n",
    "    cursor = con.cursor()\n",
    "    cursor.execute(sql)\n",
    "    cursor.commit()"
   ]
  },
  {
   "cell_type": "code",
   "execution_count": 56,
   "metadata": {},
   "outputs": [
    {
     "ename": "Error",
     "evalue": "('01000', \"[01000] [unixODBC][Driver Manager]Can't open lib 'SQL Server' : file not found (0) (SQLDriverConnect)\")",
     "output_type": "error",
     "traceback": [
      "\u001b[0;31m---------------------------------------------------------------------------\u001b[0m",
      "\u001b[0;31mError\u001b[0m                                     Traceback (most recent call last)",
      "\u001b[0;32m<ipython-input-56-5d1f998b0a02>\u001b[0m in \u001b[0;36m<module>\u001b[0;34m()\u001b[0m\n\u001b[0;32m----> 1\u001b[0;31m con = pyodbc.connect(\"Driver={SQL Server};\"\n\u001b[0m\u001b[1;32m      2\u001b[0m                         \u001b[0;34m\"Server=LAPTOP-4H4QSG7A\\SQLEXPRESS;\"\u001b[0m\u001b[0;34m\u001b[0m\u001b[0m\n\u001b[1;32m      3\u001b[0m                         \u001b[0;34m\"Database=master;\"\u001b[0m\u001b[0;34m\u001b[0m\u001b[0m\n\u001b[1;32m      4\u001b[0m                         \"Trusted_Connection=yes;\")\n",
      "\u001b[0;31mError\u001b[0m: ('01000', \"[01000] [unixODBC][Driver Manager]Can't open lib 'SQL Server' : file not found (0) (SQLDriverConnect)\")"
     ]
    }
   ],
   "source": [
    "con = pyodbc.connect(\"Driver={SQL Server};\"\n",
    "                        \"Server=LAPTOP-4H4QSG7A\\SQLEXPRESS;\"\n",
    "                        \"Database=master;\"\n",
    "                        \"Trusted_Connection=yes;\")"
   ]
  },
  {
   "cell_type": "code",
   "execution_count": 57,
   "metadata": {
    "collapsed": true
   },
   "outputs": [],
   "source": [
    "cwd = os.getcwd()\n",
    "list_file = glob.glob(\"./../../data/*.csv\".format(cwd))\n",
    "\n",
    "for file in list_file : \n",
    "    file_name = file.split('/')[-1].split('.csv')[0]\n",
    "    with open(file) as json_data:\n",
    "        data = json.load(json_data)\n",
    "        call_procedure(con, data, file_name, mapping_country)\n",
    "\n",
    "    print('File analyzed : {}'.format(file_name))"
   ]
  },
  {
   "cell_type": "code",
   "execution_count": 58,
   "metadata": {
    "collapsed": true
   },
   "outputs": [],
   "source": [
    "cwd = os.getcwd()\n",
    "list_file = glob.glob(\"./../../data/*.csv\".format(cwd))\n"
   ]
  },
  {
   "cell_type": "code",
   "execution_count": 61,
   "metadata": {},
   "outputs": [],
   "source": [
    "for file in list_file : \n",
    "    file_name = file.split('/')[-1].split('.csv')[0]"
   ]
  },
  {
   "cell_type": "code",
   "execution_count": 62,
   "metadata": {},
   "outputs": [
    {
     "data": {
      "text/plain": [
       "'FinalSource_Real Cases'"
      ]
     },
     "execution_count": 62,
     "metadata": {},
     "output_type": "execute_result"
    }
   ],
   "source": []
  },
  {
   "cell_type": "code",
   "execution_count": null,
   "metadata": {
    "collapsed": true
   },
   "outputs": [],
   "source": []
  }
 ],
 "metadata": {
  "kernelspec": {
   "display_name": "Python [conda root]",
   "language": "python",
   "name": "conda-root-py"
  },
  "language_info": {
   "codemirror_mode": {
    "name": "ipython",
    "version": 3
   },
   "file_extension": ".py",
   "mimetype": "text/x-python",
   "name": "python",
   "nbconvert_exporter": "python",
   "pygments_lexer": "ipython3",
   "version": "3.5.3"
  }
 },
 "nbformat": 4,
 "nbformat_minor": 2
}

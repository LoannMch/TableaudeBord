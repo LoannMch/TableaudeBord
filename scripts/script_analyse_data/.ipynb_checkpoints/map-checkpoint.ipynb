{
 "cells": [
  {
   "cell_type": "code",
   "execution_count": 391,
   "metadata": {
    "collapsed": true
   },
   "outputs": [],
   "source": [
    "import pandas as pd\n",
    "from geopy.geocoders import Nominatim\n",
    "from plotly import __version__\n",
    "from plotly.offline import download_plotlyjs, init_notebook_mode, plot, iplot"
   ]
  },
  {
   "cell_type": "code",
   "execution_count": 392,
   "metadata": {},
   "outputs": [
    {
     "data": {
      "text/html": [
       "<script>requirejs.config({paths: { 'plotly': ['https://cdn.plot.ly/plotly-latest.min']},});if(!window.Plotly) {{require(['plotly'],function(plotly) {window.Plotly=plotly;});}}</script>"
      ],
      "text/vnd.plotly.v1+html": [
       "<script>requirejs.config({paths: { 'plotly': ['https://cdn.plot.ly/plotly-latest.min']},});if(!window.Plotly) {{require(['plotly'],function(plotly) {window.Plotly=plotly;});}}</script>"
      ]
     },
     "metadata": {},
     "output_type": "display_data"
    }
   ],
   "source": [
    "#Plotly with jupyter offline : \n",
    "init_notebook_mode(connected=True)"
   ]
  },
  {
   "cell_type": "code",
   "execution_count": 393,
   "metadata": {},
   "outputs": [],
   "source": [
    "df = pd.read_csv('map.csv', index_col=0, names = ['nb_attack', 'target', 'attacker'], header = 1)"
   ]
  },
  {
   "cell_type": "code",
   "execution_count": 394,
   "metadata": {},
   "outputs": [
    {
     "data": {
      "text/html": [
       "<div>\n",
       "<style scoped>\n",
       "    .dataframe tbody tr th:only-of-type {\n",
       "        vertical-align: middle;\n",
       "    }\n",
       "\n",
       "    .dataframe tbody tr th {\n",
       "        vertical-align: top;\n",
       "    }\n",
       "\n",
       "    .dataframe thead th {\n",
       "        text-align: right;\n",
       "    }\n",
       "</style>\n",
       "<table border=\"1\" class=\"dataframe\">\n",
       "  <thead>\n",
       "    <tr style=\"text-align: right;\">\n",
       "      <th></th>\n",
       "      <th>nb_attack</th>\n",
       "      <th>target</th>\n",
       "      <th>attacker</th>\n",
       "    </tr>\n",
       "  </thead>\n",
       "  <tbody>\n",
       "    <tr>\n",
       "      <th>1</th>\n",
       "      <td>26877</td>\n",
       "      <td>united arab emirates</td>\n",
       "      <td>china</td>\n",
       "    </tr>\n",
       "    <tr>\n",
       "      <th>2</th>\n",
       "      <td>13059</td>\n",
       "      <td>united states</td>\n",
       "      <td>china</td>\n",
       "    </tr>\n",
       "    <tr>\n",
       "      <th>3</th>\n",
       "      <td>6424</td>\n",
       "      <td>united states</td>\n",
       "      <td>ukraine</td>\n",
       "    </tr>\n",
       "    <tr>\n",
       "      <th>4</th>\n",
       "      <td>5202</td>\n",
       "      <td>united arab emirates</td>\n",
       "      <td>netherlands</td>\n",
       "    </tr>\n",
       "    <tr>\n",
       "      <th>5</th>\n",
       "      <td>4761</td>\n",
       "      <td>spain</td>\n",
       "      <td>china</td>\n",
       "    </tr>\n",
       "  </tbody>\n",
       "</table>\n",
       "</div>"
      ],
      "text/plain": [
       "   nb_attack                target     attacker\n",
       "1      26877  united arab emirates        china\n",
       "2      13059         united states        china\n",
       "3       6424         united states      ukraine\n",
       "4       5202  united arab emirates  netherlands\n",
       "5       4761                 spain        china"
      ]
     },
     "execution_count": 394,
     "metadata": {},
     "output_type": "execute_result"
    }
   ],
   "source": [
    "df.head()"
   ]
  },
  {
   "cell_type": "code",
   "execution_count": 395,
   "metadata": {},
   "outputs": [],
   "source": [
    "df_country = pd.DataFrame(list(set(list(df['attacker'].unique()) + list(df['target'].unique()))), columns = ['country'] )"
   ]
  },
  {
   "cell_type": "code",
   "execution_count": 396,
   "metadata": {},
   "outputs": [],
   "source": [
    "geolocator = Nominatim()\n",
    "df_country['lattitude_longitude'] = df_country['country'].apply(lambda x : geolocator.geocode(x,  timeout=10)[1])"
   ]
  },
  {
   "cell_type": "code",
   "execution_count": 397,
   "metadata": {},
   "outputs": [],
   "source": [
    "# Geolocator is wrong for united arabe emirates \n",
    "df_country['lattitude_longitude'] = df_country.apply(lambda x : (25.61552, 55.84951) if x['country'] == 'united arab emirates' else x['lattitude_longitude'], axis = 'columns')\n",
    "df_country['lattitude_longitude'] = df_country.apply(lambda x : (39.904211, 116.407395) if x['country'] == 'china' else x['lattitude_longitude'], axis = 'columns')\n",
    "df_country['lattitude_longitude'] = df_country.apply(lambda x : (37.566535, 126.9779692) if x['country'] == 'south korea' else x['lattitude_longitude'], axis = 'columns') \n",
    "df_country['lattitude_longitude'] = df_country.apply(lambda x : (51.3030, 0.0732) if x['country'] == 'united kingdom' else x['lattitude_longitude'], axis = 'columns') "
   ]
  },
  {
   "cell_type": "code",
   "execution_count": 398,
   "metadata": {},
   "outputs": [],
   "source": [
    "df_country['latitude_attacker'] = df_country['lattitude_longitude'].apply(lambda x : x[0])\n",
    "df_country['longitude_attacker'] = df_country['lattitude_longitude'].apply(lambda x : x[1])\n",
    "df_country['attacker'] = df_country['country']\n",
    "df_country = df_country.drop(['lattitude_longitude', 'country'], axis = 'columns')"
   ]
  },
  {
   "cell_type": "code",
   "execution_count": 399,
   "metadata": {
    "collapsed": true
   },
   "outputs": [],
   "source": [
    "df = pd.merge(df, df_country, how = 'left', on = ['attacker'])"
   ]
  },
  {
   "cell_type": "code",
   "execution_count": 400,
   "metadata": {
    "collapsed": true
   },
   "outputs": [],
   "source": [
    "df_country['latitude_target'] = df_country['latitude_attacker']\n",
    "df_country['longitude_target'] = df_country['longitude_attacker']\n",
    "df_country['target'] = df_country['attacker']\n",
    "df_country = df_country.drop(['longitude_attacker', 'attacker', 'latitude_attacker'], axis = 'columns')"
   ]
  },
  {
   "cell_type": "code",
   "execution_count": 401,
   "metadata": {},
   "outputs": [],
   "source": [
    "df = pd.merge(df, df_country, how = 'left', on = ['target'])"
   ]
  },
  {
   "cell_type": "code",
   "execution_count": 402,
   "metadata": {},
   "outputs": [
    {
     "data": {
      "text/html": [
       "<div>\n",
       "<style scoped>\n",
       "    .dataframe tbody tr th:only-of-type {\n",
       "        vertical-align: middle;\n",
       "    }\n",
       "\n",
       "    .dataframe tbody tr th {\n",
       "        vertical-align: top;\n",
       "    }\n",
       "\n",
       "    .dataframe thead th {\n",
       "        text-align: right;\n",
       "    }\n",
       "</style>\n",
       "<table border=\"1\" class=\"dataframe\">\n",
       "  <thead>\n",
       "    <tr style=\"text-align: right;\">\n",
       "      <th></th>\n",
       "      <th>nb_attack</th>\n",
       "      <th>target</th>\n",
       "      <th>attacker</th>\n",
       "      <th>latitude_attacker</th>\n",
       "      <th>longitude_attacker</th>\n",
       "      <th>latitude_target</th>\n",
       "      <th>longitude_target</th>\n",
       "    </tr>\n",
       "  </thead>\n",
       "  <tbody>\n",
       "    <tr>\n",
       "      <th>0</th>\n",
       "      <td>26877</td>\n",
       "      <td>united arab emirates</td>\n",
       "      <td>china</td>\n",
       "      <td>39.904211</td>\n",
       "      <td>116.407395</td>\n",
       "      <td>25.615520</td>\n",
       "      <td>55.849510</td>\n",
       "    </tr>\n",
       "    <tr>\n",
       "      <th>1</th>\n",
       "      <td>13059</td>\n",
       "      <td>united states</td>\n",
       "      <td>china</td>\n",
       "      <td>39.904211</td>\n",
       "      <td>116.407395</td>\n",
       "      <td>39.783730</td>\n",
       "      <td>-100.445882</td>\n",
       "    </tr>\n",
       "    <tr>\n",
       "      <th>2</th>\n",
       "      <td>6424</td>\n",
       "      <td>united states</td>\n",
       "      <td>ukraine</td>\n",
       "      <td>49.487197</td>\n",
       "      <td>31.271832</td>\n",
       "      <td>39.783730</td>\n",
       "      <td>-100.445882</td>\n",
       "    </tr>\n",
       "    <tr>\n",
       "      <th>3</th>\n",
       "      <td>5202</td>\n",
       "      <td>united arab emirates</td>\n",
       "      <td>netherlands</td>\n",
       "      <td>52.237989</td>\n",
       "      <td>5.534607</td>\n",
       "      <td>25.615520</td>\n",
       "      <td>55.849510</td>\n",
       "    </tr>\n",
       "    <tr>\n",
       "      <th>4</th>\n",
       "      <td>4761</td>\n",
       "      <td>spain</td>\n",
       "      <td>china</td>\n",
       "      <td>39.904211</td>\n",
       "      <td>116.407395</td>\n",
       "      <td>40.002803</td>\n",
       "      <td>-4.003104</td>\n",
       "    </tr>\n",
       "  </tbody>\n",
       "</table>\n",
       "</div>"
      ],
      "text/plain": [
       "   nb_attack                target     attacker  latitude_attacker  \\\n",
       "0      26877  united arab emirates        china          39.904211   \n",
       "1      13059         united states        china          39.904211   \n",
       "2       6424         united states      ukraine          49.487197   \n",
       "3       5202  united arab emirates  netherlands          52.237989   \n",
       "4       4761                 spain        china          39.904211   \n",
       "\n",
       "   longitude_attacker  latitude_target  longitude_target  \n",
       "0          116.407395        25.615520         55.849510  \n",
       "1          116.407395        39.783730       -100.445882  \n",
       "2           31.271832        39.783730       -100.445882  \n",
       "3            5.534607        25.615520         55.849510  \n",
       "4          116.407395        40.002803         -4.003104  "
      ]
     },
     "execution_count": 402,
     "metadata": {},
     "output_type": "execute_result"
    }
   ],
   "source": [
    "df.head()"
   ]
  },
  {
   "cell_type": "markdown",
   "metadata": {},
   "source": [
    "- Map monde, sympa pour l'oral, remplacer 'equirectangular' par 'orthographic'"
   ]
  },
  {
   "cell_type": "code",
   "execution_count": 403,
   "metadata": {},
   "outputs": [
    {
     "data": {
      "application/vnd.plotly.v1+json": {
       "data": [
        {
         "lat": [
          32.89595056,
          35.04022222
         ],
         "line": {
          "color": "red",
          "width": 1
         },
         "locationmode": "USA-states",
         "lon": [
          -97.0372,
          -106.6091944
         ],
         "mode": "lines",
         "opacity": 0.48577680525164113,
         "type": "scattergeo"
        },
        {
         "lat": [
          41.979595,
          30.19453278
         ],
         "line": {
          "color": "red",
          "width": 1
         },
         "locationmode": "USA-states",
         "lon": [
          -87.90446417,
          -97.66987194
         ],
         "mode": "lines",
         "opacity": 0.18161925601750548,
         "type": "scattergeo"
        },
        {
         "lat": [
          32.89595056,
          41.93887417
         ],
         "line": {
          "color": "red",
          "width": 1
         },
         "locationmode": "USA-states",
         "lon": [
          -97.0372,
          -72.68322833
         ],
         "mode": "lines",
         "opacity": 0.1772428884026258,
         "type": "scattergeo"
        },
        {
         "lat": [
          18.43941667,
          41.93887417
         ],
         "line": {
          "color": "red",
          "width": 1
         },
         "locationmode": "USA-states",
         "lon": [
          -66.00183333,
          -72.68322833
         ],
         "mode": "lines",
         "opacity": 0.061269146608315096,
         "type": "scattergeo"
        },
        {
         "lat": [
          32.89595056,
          33.56294306
         ],
         "line": {
          "color": "red",
          "width": 1
         },
         "locationmode": "USA-states",
         "lon": [
          -97.0372,
          -86.75354972
         ],
         "mode": "lines",
         "opacity": 0.1838074398249453,
         "type": "scattergeo"
        },
        {
         "lat": [
          25.79325,
          36.12447667
         ],
         "line": {
          "color": "red",
          "width": 1
         },
         "locationmode": "USA-states",
         "lon": [
          -80.29055556,
          -86.67818222
         ],
         "mode": "lines",
         "opacity": 0.061269146608315096,
         "type": "scattergeo"
        },
        {
         "lat": [
          32.89595056,
          42.3643475
         ],
         "line": {
          "color": "red",
          "width": 1
         },
         "locationmode": "USA-states",
         "lon": [
          -97.0372,
          -71.00517917
         ],
         "mode": "lines",
         "opacity": 0.4617067833698031,
         "type": "scattergeo"
        },
        {
         "lat": [
          25.79325,
          42.3643475
         ],
         "line": {
          "color": "red",
          "width": 1
         },
         "locationmode": "USA-states",
         "lon": [
          -80.29055556,
          -71.00517917
         ],
         "mode": "lines",
         "opacity": 0.4288840262582057,
         "type": "scattergeo"
        },
        {
         "lat": [
          41.979595,
          42.3643475
         ],
         "line": {
          "color": "red",
          "width": 1
         },
         "locationmode": "USA-states",
         "lon": [
          -87.90446417,
          -71.00517917
         ],
         "mode": "lines",
         "opacity": 0.47045951859956237,
         "type": "scattergeo"
        },
        {
         "lat": [
          18.43941667,
          42.3643475
         ],
         "line": {
          "color": "red",
          "width": 1
         },
         "locationmode": "USA-states",
         "lon": [
          -66.00183333,
          -71.00517917
         ],
         "mode": "lines",
         "opacity": 0.061269146608315096,
         "type": "scattergeo"
        },
        {
         "lat": [
          18.33730556,
          42.3643475
         ],
         "line": {
          "color": "red",
          "width": 1
         },
         "locationmode": "USA-states",
         "lon": [
          -64.97336111,
          -71.00517917
         ],
         "mode": "lines",
         "opacity": 0.04814004376367615,
         "type": "scattergeo"
        },
        {
         "lat": [
          25.79325,
          39.17540167
         ],
         "line": {
          "color": "red",
          "width": 1
         },
         "locationmode": "USA-states",
         "lon": [
          -80.29055556,
          -76.66819833
         ],
         "mode": "lines",
         "opacity": 0.12253829321663019,
         "type": "scattergeo"
        },
        {
         "lat": [
          18.43941667,
          39.17540167
         ],
         "line": {
          "color": "red",
          "width": 1
         },
         "locationmode": "USA-states",
         "lon": [
          -66.00183333,
          -76.66819833
         ],
         "mode": "lines",
         "opacity": 0.061269146608315096,
         "type": "scattergeo"
        },
        {
         "lat": [
          32.89595056,
          35.21401111
         ],
         "line": {
          "color": "red",
          "width": 1
         },
         "locationmode": "USA-states",
         "lon": [
          -97.0372,
          -80.94312583
         ],
         "mode": "lines",
         "opacity": 0.3938730853391685,
         "type": "scattergeo"
        },
        {
         "lat": [
          32.89595056,
          38.80580556
         ],
         "line": {
          "color": "red",
          "width": 1
         },
         "locationmode": "USA-states",
         "lon": [
          -97.0372,
          -104.70025
         ],
         "mode": "lines",
         "opacity": 0.3041575492341357,
         "type": "scattergeo"
        },
        {
         "lat": [
          32.89595056,
          39.90237583
         ],
         "line": {
          "color": "red",
          "width": 1
         },
         "locationmode": "USA-states",
         "lon": [
          -97.0372,
          -84.219375
         ],
         "mode": "lines",
         "opacity": 0.1137855579868709,
         "type": "scattergeo"
        },
        {
         "lat": [
          32.89595056,
          38.85208333
         ],
         "line": {
          "color": "red",
          "width": 1
         },
         "locationmode": "USA-states",
         "lon": [
          -97.0372,
          -77.03772222
         ],
         "mode": "lines",
         "opacity": 0.6433260393873085,
         "type": "scattergeo"
        },
        {
         "lat": [
          25.79325,
          39.85840806
         ],
         "line": {
          "color": "red",
          "width": 1
         },
         "locationmode": "USA-states",
         "lon": [
          -80.29055556,
          -104.6670019
         ],
         "mode": "lines",
         "opacity": 0.12253829321663019,
         "type": "scattergeo"
        },
        {
         "lat": [
          41.979595,
          39.85840806
         ],
         "line": {
          "color": "red",
          "width": 1
         },
         "locationmode": "USA-states",
         "lon": [
          -87.90446417,
          -104.6670019
         ],
         "mode": "lines",
         "opacity": 0.12253829321663019,
         "type": "scattergeo"
        },
        {
         "lat": [
          33.64044444,
          32.89595056
         ],
         "line": {
          "color": "red",
          "width": 1
         },
         "locationmode": "USA-states",
         "lon": [
          -84.42694444,
          -97.0372
         ],
         "mode": "lines",
         "opacity": 0.6345733041575492,
         "type": "scattergeo"
        },
        {
         "lat": [
          30.19453278,
          32.89595056
         ],
         "line": {
          "color": "red",
          "width": 1
         },
         "locationmode": "USA-states",
         "lon": [
          -97.66987194,
          -97.0372
         ],
         "mode": "lines",
         "opacity": 0.8971553610503282,
         "type": "scattergeo"
        },
        {
         "lat": [
          36.12447667,
          32.89595056
         ],
         "line": {
          "color": "red",
          "width": 1
         },
         "locationmode": "USA-states",
         "lon": [
          -86.67818222,
          -97.0372
         ],
         "mode": "lines",
         "opacity": 0.47702407002188185,
         "type": "scattergeo"
        },
        {
         "lat": [
          34.20061917,
          32.89595056
         ],
         "line": {
          "color": "red",
          "width": 1
         },
         "locationmode": "USA-states",
         "lon": [
          -118.3584969,
          -97.0372
         ],
         "mode": "lines",
         "opacity": 0.2275711159737418,
         "type": "scattergeo"
        },
        {
         "lat": [
          39.17540167,
          32.89595056
         ],
         "line": {
          "color": "red",
          "width": 1
         },
         "locationmode": "USA-states",
         "lon": [
          -76.66819833,
          -97.0372
         ],
         "mode": "lines",
         "opacity": 0.35667396061269147,
         "type": "scattergeo"
        },
        {
         "lat": [
          39.99798528,
          32.89595056
         ],
         "line": {
          "color": "red",
          "width": 1
         },
         "locationmode": "USA-states",
         "lon": [
          -82.89188278,
          -97.0372
         ],
         "mode": "lines",
         "opacity": 0.1137855579868709,
         "type": "scattergeo"
        },
        {
         "lat": [
          39.85840806,
          32.89595056
         ],
         "line": {
          "color": "red",
          "width": 1
         },
         "locationmode": "USA-states",
         "lon": [
          -104.6670019,
          -97.0372
         ],
         "mode": "lines",
         "opacity": 0.6105032822757112,
         "type": "scattergeo"
        },
        {
         "lat": [
          42.21205889,
          32.89595056
         ],
         "line": {
          "color": "red",
          "width": 1
         },
         "locationmode": "USA-states",
         "lon": [
          -83.34883583,
          -97.0372
         ],
         "mode": "lines",
         "opacity": 0.2844638949671772,
         "type": "scattergeo"
        },
        {
         "lat": [
          39.64256778,
          32.89595056
         ],
         "line": {
          "color": "red",
          "width": 1
         },
         "locationmode": "USA-states",
         "lon": [
          -106.91769529999999,
          -97.0372
         ],
         "mode": "lines",
         "opacity": 0.1487964989059081,
         "type": "scattergeo"
        },
        {
         "lat": [
          40.69249722,
          32.89595056
         ],
         "line": {
          "color": "red",
          "width": 1
         },
         "locationmode": "USA-states",
         "lon": [
          -74.16866056,
          -97.0372
         ],
         "mode": "lines",
         "opacity": 0.33916849015317285,
         "type": "scattergeo"
        },
        {
         "lat": [
          36.77619444,
          32.89595056
         ],
         "line": {
          "color": "red",
          "width": 1
         },
         "locationmode": "USA-states",
         "lon": [
          -119.7181389,
          -97.0372
         ],
         "mode": "lines",
         "opacity": 0.12253829321663019,
         "type": "scattergeo"
        },
        {
         "lat": [
          26.07258333,
          32.89595056
         ],
         "line": {
          "color": "red",
          "width": 1
         },
         "locationmode": "USA-states",
         "lon": [
          -80.15275,
          -97.0372
         ],
         "mode": "lines",
         "opacity": 0.3676148796498906,
         "type": "scattergeo"
        },
        {
         "lat": [
          34.6404475,
          32.89595056
         ],
         "line": {
          "color": "red",
          "width": 1
         },
         "locationmode": "USA-states",
         "lon": [
          -86.77310944,
          -97.0372
         ],
         "mode": "lines",
         "opacity": 0.17286652078774617,
         "type": "scattergeo"
        },
        {
         "lat": [
          29.98047222,
          32.89595056
         ],
         "line": {
          "color": "red",
          "width": 1
         },
         "locationmode": "USA-states",
         "lon": [
          -95.33972222,
          -97.0372
         ],
         "mode": "lines",
         "opacity": 0.3544857768052516,
         "type": "scattergeo"
        },
        {
         "lat": [
          33.94253611,
          32.89595056
         ],
         "line": {
          "color": "red",
          "width": 1
         },
         "locationmode": "USA-states",
         "lon": [
          -118.40807439999999,
          -97.0372
         ],
         "mode": "lines",
         "opacity": 1,
         "type": "scattergeo"
        },
        {
         "lat": [
          39.29760528,
          32.89595056
         ],
         "line": {
          "color": "red",
          "width": 1
         },
         "locationmode": "USA-states",
         "lon": [
          -94.71390556,
          -97.0372
         ],
         "mode": "lines",
         "opacity": 0.47702407002188185,
         "type": "scattergeo"
        },
        {
         "lat": [
          28.42888889,
          32.89595056
         ],
         "line": {
          "color": "red",
          "width": 1
         },
         "locationmode": "USA-states",
         "lon": [
          -81.31602778,
          -97.0372
         ],
         "mode": "lines",
         "opacity": 0.5470459518599562,
         "type": "scattergeo"
        },
        {
         "lat": [
          35.04241667,
          32.89595056
         ],
         "line": {
          "color": "red",
          "width": 1
         },
         "locationmode": "USA-states",
         "lon": [
          -89.97666667,
          -97.0372
         ],
         "mode": "lines",
         "opacity": 0.23413566739606126,
         "type": "scattergeo"
        },
        {
         "lat": [
          26.17583333,
          32.89595056
         ],
         "line": {
          "color": "red",
          "width": 1
         },
         "locationmode": "USA-states",
         "lon": [
          -98.23861111,
          -97.0372
         ],
         "mode": "lines",
         "opacity": 0.23413566739606126,
         "type": "scattergeo"
        },
        {
         "lat": [
          25.79325,
          32.89595056
         ],
         "line": {
          "color": "red",
          "width": 1
         },
         "locationmode": "USA-states",
         "lon": [
          -80.29055556,
          -97.0372
         ],
         "mode": "lines",
         "opacity": 0.612691466083151,
         "type": "scattergeo"
        },
        {
         "lat": [
          44.88054694,
          32.89595056
         ],
         "line": {
          "color": "red",
          "width": 1
         },
         "locationmode": "USA-states",
         "lon": [
          -93.2169225,
          -97.0372
         ],
         "mode": "lines",
         "opacity": 0.35667396061269147,
         "type": "scattergeo"
        },
        {
         "lat": [
          38.50886722,
          32.89595056
         ],
         "line": {
          "color": "red",
          "width": 1
         },
         "locationmode": "USA-states",
         "lon": [
          -107.89383329999998,
          -97.0372
         ],
         "mode": "lines",
         "opacity": 0.0175054704595186,
         "type": "scattergeo"
        },
        {
         "lat": [
          20.89864972,
          32.89595056
         ],
         "line": {
          "color": "red",
          "width": 1
         },
         "locationmode": "USA-states",
         "lon": [
          -156.43045780000003,
          -97.0372
         ],
         "mode": "lines",
         "opacity": 0.061269146608315096,
         "type": "scattergeo"
        },
        {
         "lat": [
          35.39308833,
          32.89595056
         ],
         "line": {
          "color": "red",
          "width": 1
         },
         "locationmode": "USA-states",
         "lon": [
          -97.60073389,
          -97.0372
         ],
         "mode": "lines",
         "opacity": 0.42669584245076586,
         "type": "scattergeo"
        },
        {
         "lat": [
          41.30251861,
          32.89595056
         ],
         "line": {
          "color": "red",
          "width": 1
         },
         "locationmode": "USA-states",
         "lon": [
          -95.89417306,
          -97.0372
         ],
         "mode": "lines",
         "opacity": 0.2975929978118162,
         "type": "scattergeo"
        },
        {
         "lat": [
          41.979595,
          32.89595056
         ],
         "line": {
          "color": "red",
          "width": 1
         },
         "locationmode": "USA-states",
         "lon": [
          -87.90446417,
          -97.0372
         ],
         "mode": "lines",
         "opacity": 0.9026258205689278,
         "type": "scattergeo"
        },
        {
         "lat": [
          39.87195278,
          32.89595056
         ],
         "line": {
          "color": "red",
          "width": 1
         },
         "locationmode": "USA-states",
         "lon": [
          -75.24114083,
          -97.0372
         ],
         "mode": "lines",
         "opacity": 0.3522975929978118,
         "type": "scattergeo"
        },
        {
         "lat": [
          33.43416667,
          32.89595056
         ],
         "line": {
          "color": "red",
          "width": 1
         },
         "locationmode": "USA-states",
         "lon": [
          -112.00805559999999,
          -97.0372
         ],
         "mode": "lines",
         "opacity": 0.6017505470459519,
         "type": "scattergeo"
        },
        {
         "lat": [
          37.50516667,
          32.89595056
         ],
         "line": {
          "color": "red",
          "width": 1
         },
         "locationmode": "USA-states",
         "lon": [
          -77.31966667,
          -97.0372
         ],
         "mode": "lines",
         "opacity": 0.18161925601750548,
         "type": "scattergeo"
        },
        {
         "lat": [
          39.49857611,
          32.89595056
         ],
         "line": {
          "color": "red",
          "width": 1
         },
         "locationmode": "USA-states",
         "lon": [
          -119.76806470000001,
          -97.0372
         ],
         "mode": "lines",
         "opacity": 0.16411378555798686,
         "type": "scattergeo"
        },
        {
         "lat": [
          32.73355611,
          32.89595056
         ],
         "line": {
          "color": "red",
          "width": 1
         },
         "locationmode": "USA-states",
         "lon": [
          -117.1896567,
          -97.0372
         ],
         "mode": "lines",
         "opacity": 0.5470459518599562,
         "type": "scattergeo"
        },
        {
         "lat": [
          29.53369444,
          32.89595056
         ],
         "line": {
          "color": "red",
          "width": 1
         },
         "locationmode": "USA-states",
         "lon": [
          -98.46977778,
          -97.0372
         ],
         "mode": "lines",
         "opacity": 0.9037199124726477,
         "type": "scattergeo"
        },
        {
         "lat": [
          38.17438889,
          32.89595056
         ],
         "line": {
          "color": "red",
          "width": 1
         },
         "locationmode": "USA-states",
         "lon": [
          -85.736,
          -97.0372
         ],
         "mode": "lines",
         "opacity": 0.17943107221006566,
         "type": "scattergeo"
        },
        {
         "lat": [
          37.61900194,
          32.89595056
         ],
         "line": {
          "color": "red",
          "width": 1
         },
         "locationmode": "USA-states",
         "lon": [
          -122.3748433,
          -97.0372
         ],
         "mode": "lines",
         "opacity": 0.5754923413566739,
         "type": "scattergeo"
        },
        {
         "lat": [
          37.36186194,
          32.89595056
         ],
         "line": {
          "color": "red",
          "width": 1
         },
         "locationmode": "USA-states",
         "lon": [
          -121.92900890000001,
          -97.0372
         ],
         "mode": "lines",
         "opacity": 0.3479212253829322,
         "type": "scattergeo"
        },
        {
         "lat": [
          40.78838778,
          32.89595056
         ],
         "line": {
          "color": "red",
          "width": 1
         },
         "locationmode": "USA-states",
         "lon": [
          -111.9777731,
          -97.0372
         ],
         "mode": "lines",
         "opacity": 0.3063457330415755,
         "type": "scattergeo"
        },
        {
         "lat": [
          38.74768694,
          32.89595056
         ],
         "line": {
          "color": "red",
          "width": 1
         },
         "locationmode": "USA-states",
         "lon": [
          -90.35998972,
          -97.0372
         ],
         "mode": "lines",
         "opacity": 0.5317286652078774,
         "type": "scattergeo"
        },
        {
         "lat": [
          36.28186944,
          32.89595056
         ],
         "line": {
          "color": "red",
          "width": 1
         },
         "locationmode": "USA-states",
         "lon": [
          -94.30681111,
          -97.0372
         ],
         "mode": "lines",
         "opacity": 0.05470459518599562,
         "type": "scattergeo"
        },
        {
         "lat": [
          25.79325,
          42.21205889
         ],
         "line": {
          "color": "red",
          "width": 1
         },
         "locationmode": "USA-states",
         "lon": [
          -80.29055556,
          -83.34883583
         ],
         "mode": "lines",
         "opacity": 0.12253829321663019,
         "type": "scattergeo"
        },
        {
         "lat": [
          40.77724306,
          39.64256778
         ],
         "line": {
          "color": "red",
          "width": 1
         },
         "locationmode": "USA-states",
         "lon": [
          -73.87260917,
          -106.91769529999999
         ],
         "mode": "lines",
         "opacity": 0.0087527352297593,
         "type": "scattergeo"
        },
        {
         "lat": [
          41.979595,
          39.64256778
         ],
         "line": {
          "color": "red",
          "width": 1
         },
         "locationmode": "USA-states",
         "lon": [
          -87.90446417,
          -106.91769529999999
         ],
         "mode": "lines",
         "opacity": 0.0700218818380744,
         "type": "scattergeo"
        },
        {
         "lat": [
          32.89595056,
          31.80666667
         ],
         "line": {
          "color": "red",
          "width": 1
         },
         "locationmode": "USA-states",
         "lon": [
          -97.0372,
          -106.37780559999999
         ],
         "mode": "lines",
         "opacity": 0.474835886214442,
         "type": "scattergeo"
        },
        {
         "lat": [
          33.94253611,
          40.69249722
         ],
         "line": {
          "color": "red",
          "width": 1
         },
         "locationmode": "USA-states",
         "lon": [
          -118.40807439999999,
          -74.16866056
         ],
         "mode": "lines",
         "opacity": 0.05908096280087528,
         "type": "scattergeo"
        },
        {
         "lat": [
          25.79325,
          40.69249722
         ],
         "line": {
          "color": "red",
          "width": 1
         },
         "locationmode": "USA-states",
         "lon": [
          -80.29055556,
          -74.16866056
         ],
         "mode": "lines",
         "opacity": 0.1838074398249453,
         "type": "scattergeo"
        },
        {
         "lat": [
          40.63975111,
          26.07258333
         ],
         "line": {
          "color": "red",
          "width": 1
         },
         "locationmode": "USA-states",
         "lon": [
          -73.77892556,
          -80.15275
         ],
         "mode": "lines",
         "opacity": 0.12253829321663019,
         "type": "scattergeo"
        },
        {
         "lat": [
          32.89595056,
          40.48118028
         ],
         "line": {
          "color": "red",
          "width": 1
         },
         "locationmode": "USA-states",
         "lon": [
          -97.0372,
          -107.21765970000001
         ],
         "mode": "lines",
         "opacity": 0.0700218818380744,
         "type": "scattergeo"
        },
        {
         "lat": [
          32.89595056,
          21.31869111
         ],
         "line": {
          "color": "red",
          "width": 1
         },
         "locationmode": "USA-states",
         "lon": [
          -97.0372,
          -157.92240719999998
         ],
         "mode": "lines",
         "opacity": 0.12253829321663019,
         "type": "scattergeo"
        },
        {
         "lat": [
          33.94253611,
          21.31869111
         ],
         "line": {
          "color": "red",
          "width": 1
         },
         "locationmode": "USA-states",
         "lon": [
          -118.40807439999999,
          -157.92240719999998
         ],
         "mode": "lines",
         "opacity": 0.2363238512035011,
         "type": "scattergeo"
        },
        {
         "lat": [
          32.89595056,
          38.94453194
         ],
         "line": {
          "color": "red",
          "width": 1
         },
         "locationmode": "USA-states",
         "lon": [
          -97.0372,
          -77.45580972
         ],
         "mode": "lines",
         "opacity": 0.33698030634573306,
         "type": "scattergeo"
        },
        {
         "lat": [
          33.94253611,
          38.94453194
         ],
         "line": {
          "color": "red",
          "width": 1
         },
         "locationmode": "USA-states",
         "lon": [
          -118.40807439999999,
          -77.45580972
         ],
         "mode": "lines",
         "opacity": 0.18161925601750548,
         "type": "scattergeo"
        },
        {
         "lat": [
          25.79325,
          38.94453194
         ],
         "line": {
          "color": "red",
          "width": 1
         },
         "locationmode": "USA-states",
         "lon": [
          -80.29055556,
          -77.45580972
         ],
         "mode": "lines",
         "opacity": 0.12253829321663019,
         "type": "scattergeo"
        },
        {
         "lat": [
          25.79325,
          29.98047222
         ],
         "line": {
          "color": "red",
          "width": 1
         },
         "locationmode": "USA-states",
         "lon": [
          -80.29055556,
          -95.33972222
         ],
         "mode": "lines",
         "opacity": 0.1838074398249453,
         "type": "scattergeo"
        },
        {
         "lat": [
          32.89595056,
          37.64995889
         ],
         "line": {
          "color": "red",
          "width": 1
         },
         "locationmode": "USA-states",
         "lon": [
          -97.0372,
          -97.43304583
         ],
         "mode": "lines",
         "opacity": 0.23413566739606126,
         "type": "scattergeo"
        },
        {
         "lat": [
          32.89595056,
          39.71732917
         ],
         "line": {
          "color": "red",
          "width": 1
         },
         "locationmode": "USA-states",
         "lon": [
          -97.0372,
          -86.29438417
         ],
         "mode": "lines",
         "opacity": 0.3041575492341357,
         "type": "scattergeo"
        },
        {
         "lat": [
          32.89595056,
          43.60732417
         ],
         "line": {
          "color": "red",
          "width": 1
         },
         "locationmode": "USA-states",
         "lon": [
          -97.0372,
          -110.7377389
         ],
         "mode": "lines",
         "opacity": 0.0262582056892779,
         "type": "scattergeo"
        },
        {
         "lat": [
          32.89595056,
          30.49405556
         ],
         "line": {
          "color": "red",
          "width": 1
         },
         "locationmode": "USA-states",
         "lon": [
          -97.0372,
          -81.68786111
         ],
         "mode": "lines",
         "opacity": 0.2363238512035011,
         "type": "scattergeo"
        },
        {
         "lat": [
          30.19453278,
          40.63975111
         ],
         "line": {
          "color": "red",
          "width": 1
         },
         "locationmode": "USA-states",
         "lon": [
          -97.66987194,
          -73.77892556
         ],
         "mode": "lines",
         "opacity": 0.061269146608315096,
         "type": "scattergeo"
        },
        {
         "lat": [
          32.89595056,
          40.63975111
         ],
         "line": {
          "color": "red",
          "width": 1
         },
         "locationmode": "USA-states",
         "lon": [
          -97.0372,
          -73.77892556
         ],
         "mode": "lines",
         "opacity": 0.061269146608315096,
         "type": "scattergeo"
        },
        {
         "lat": [
          39.64256778,
          40.63975111
         ],
         "line": {
          "color": "red",
          "width": 1
         },
         "locationmode": "USA-states",
         "lon": [
          -106.91769529999999,
          -73.77892556
         ],
         "mode": "lines",
         "opacity": 0.061269146608315096,
         "type": "scattergeo"
        },
        {
         "lat": [
          28.42888889,
          40.63975111
         ],
         "line": {
          "color": "red",
          "width": 1
         },
         "locationmode": "USA-states",
         "lon": [
          -81.31602778,
          -73.77892556
         ],
         "mode": "lines",
         "opacity": 0.24507658643326038,
         "type": "scattergeo"
        },
        {
         "lat": [
          25.79325,
          40.63975111
         ],
         "line": {
          "color": "red",
          "width": 1
         },
         "locationmode": "USA-states",
         "lon": [
          -80.29055556,
          -73.77892556
         ],
         "mode": "lines",
         "opacity": 0.4288840262582057,
         "type": "scattergeo"
        },
        {
         "lat": [
          47.44898194,
          40.63975111
         ],
         "line": {
          "color": "red",
          "width": 1
         },
         "locationmode": "USA-states",
         "lon": [
          -122.30931310000001,
          -73.77892556
         ],
         "mode": "lines",
         "opacity": 0.061269146608315096,
         "type": "scattergeo"
        },
        {
         "lat": [
          37.61900194,
          40.63975111
         ],
         "line": {
          "color": "red",
          "width": 1
         },
         "locationmode": "USA-states",
         "lon": [
          -122.3748433,
          -73.77892556
         ],
         "mode": "lines",
         "opacity": 0.3041575492341357,
         "type": "scattergeo"
        },
        {
         "lat": [
          18.33730556,
          40.63975111
         ],
         "line": {
          "color": "red",
          "width": 1
         },
         "locationmode": "USA-states",
         "lon": [
          -64.97336111,
          -73.77892556
         ],
         "mode": "lines",
         "opacity": 0.061269146608315096,
         "type": "scattergeo"
        },
        {
         "lat": [
          27.97547222,
          40.63975111
         ],
         "line": {
          "color": "red",
          "width": 1
         },
         "locationmode": "USA-states",
         "lon": [
          -82.53325,
          -73.77892556
         ],
         "mode": "lines",
         "opacity": 0.061269146608315096,
         "type": "scattergeo"
        },
        {
         "lat": [
          32.89595056,
          36.08036111
         ],
         "line": {
          "color": "red",
          "width": 1
         },
         "locationmode": "USA-states",
         "lon": [
          -97.0372,
          -115.15233329999998
         ],
         "mode": "lines",
         "opacity": 0.6225382932166302,
         "type": "scattergeo"
        },
        {
         "lat": [
          40.63975111,
          36.08036111
         ],
         "line": {
          "color": "red",
          "width": 1
         },
         "locationmode": "USA-states",
         "lon": [
          -73.77892556,
          -115.15233329999998
         ],
         "mode": "lines",
         "opacity": 0.12253829321663019,
         "type": "scattergeo"
        },
        {
         "lat": [
          33.94253611,
          36.08036111
         ],
         "line": {
          "color": "red",
          "width": 1
         },
         "locationmode": "USA-states",
         "lon": [
          -118.40807439999999,
          -115.15233329999998
         ],
         "mode": "lines",
         "opacity": 0.24288840262582057,
         "type": "scattergeo"
        },
        {
         "lat": [
          41.979595,
          36.08036111
         ],
         "line": {
          "color": "red",
          "width": 1
         },
         "locationmode": "USA-states",
         "lon": [
          -87.90446417,
          -115.15233329999998
         ],
         "mode": "lines",
         "opacity": 0.3063457330415755,
         "type": "scattergeo"
        },
        {
         "lat": [
          30.19453278,
          33.94253611
         ],
         "line": {
          "color": "red",
          "width": 1
         },
         "locationmode": "USA-states",
         "lon": [
          -97.66987194,
          -118.40807439999999
         ],
         "mode": "lines",
         "opacity": 0.1772428884026258,
         "type": "scattergeo"
        },
        {
         "lat": [
          36.12447667,
          33.94253611
         ],
         "line": {
          "color": "red",
          "width": 1
         },
         "locationmode": "USA-states",
         "lon": [
          -86.67818222,
          -118.40807439999999
         ],
         "mode": "lines",
         "opacity": 0.061269146608315096,
         "type": "scattergeo"
        },
        {
         "lat": [
          42.3643475,
          33.94253611
         ],
         "line": {
          "color": "red",
          "width": 1
         },
         "locationmode": "USA-states",
         "lon": [
          -71.00517917,
          -118.40807439999999
         ],
         "mode": "lines",
         "opacity": 0.1838074398249453,
         "type": "scattergeo"
        },
        {
         "lat": [
          39.64256778,
          33.94253611
         ],
         "line": {
          "color": "red",
          "width": 1
         },
         "locationmode": "USA-states",
         "lon": [
          -106.91769529999999,
          -118.40807439999999
         ],
         "mode": "lines",
         "opacity": 0.061269146608315096,
         "type": "scattergeo"
        },
        {
         "lat": [
          40.63975111,
          33.94253611
         ],
         "line": {
          "color": "red",
          "width": 1
         },
         "locationmode": "USA-states",
         "lon": [
          -73.77892556,
          -118.40807439999999
         ],
         "mode": "lines",
         "opacity": 0.5995623632385121,
         "type": "scattergeo"
        },
        {
         "lat": [
          19.73876583,
          33.94253611
         ],
         "line": {
          "color": "red",
          "width": 1
         },
         "locationmode": "USA-states",
         "lon": [
          -156.0456314,
          -118.40807439999999
         ],
         "mode": "lines",
         "opacity": 0.061269146608315096,
         "type": "scattergeo"
        },
        {
         "lat": [
          20.89864972,
          33.94253611
         ],
         "line": {
          "color": "red",
          "width": 1
         },
         "locationmode": "USA-states",
         "lon": [
          -156.43045780000003,
          -118.40807439999999
         ],
         "mode": "lines",
         "opacity": 0.12253829321663019,
         "type": "scattergeo"
        },
        {
         "lat": [
          41.979595,
          33.94253611
         ],
         "line": {
          "color": "red",
          "width": 1
         },
         "locationmode": "USA-states",
         "lon": [
          -87.90446417,
          -118.40807439999999
         ],
         "mode": "lines",
         "opacity": 0.5426695842450766,
         "type": "scattergeo"
        },
        {
         "lat": [
          38.74768694,
          33.94253611
         ],
         "line": {
          "color": "red",
          "width": 1
         },
         "locationmode": "USA-states",
         "lon": [
          -90.35998972,
          -118.40807439999999
         ],
         "mode": "lines",
         "opacity": 0.18161925601750548,
         "type": "scattergeo"
        },
        {
         "lat": [
          36.12447667,
          40.77724306
         ],
         "line": {
          "color": "red",
          "width": 1
         },
         "locationmode": "USA-states",
         "lon": [
          -86.67818222,
          -73.87260917
         ],
         "mode": "lines",
         "opacity": 0.11159737417943107,
         "type": "scattergeo"
        },
        {
         "lat": [
          32.89595056,
          40.77724306
         ],
         "line": {
          "color": "red",
          "width": 1
         },
         "locationmode": "USA-states",
         "lon": [
          -97.0372,
          -73.87260917
         ],
         "mode": "lines",
         "opacity": 0.849015317286652,
         "type": "scattergeo"
        },
        {
         "lat": [
          38.74768694,
          40.77724306
         ],
         "line": {
          "color": "red",
          "width": 1
         },
         "locationmode": "USA-states",
         "lon": [
          -90.35998972,
          -73.87260917
         ],
         "mode": "lines",
         "opacity": 0.22538293216630198,
         "type": "scattergeo"
        },
        {
         "lat": [
          33.94253611,
          21.97598306
         ],
         "line": {
          "color": "red",
          "width": 1
         },
         "locationmode": "USA-states",
         "lon": [
          -118.40807439999999,
          -159.3389581
         ],
         "mode": "lines",
         "opacity": 0.061269146608315096,
         "type": "scattergeo"
        },
        {
         "lat": [
          33.94253611,
          28.42888889
         ],
         "line": {
          "color": "red",
          "width": 1
         },
         "locationmode": "USA-states",
         "lon": [
          -118.40807439999999,
          -81.31602778
         ],
         "mode": "lines",
         "opacity": 0.061269146608315096,
         "type": "scattergeo"
        },
        {
         "lat": [
          25.79325,
          28.42888889
         ],
         "line": {
          "color": "red",
          "width": 1
         },
         "locationmode": "USA-states",
         "lon": [
          -80.29055556,
          -81.31602778
         ],
         "mode": "lines",
         "opacity": 0.49015317286652077,
         "type": "scattergeo"
        },
        {
         "lat": [
          33.64044444,
          25.79325
         ],
         "line": {
          "color": "red",
          "width": 1
         },
         "locationmode": "USA-states",
         "lon": [
          -84.42694444,
          -80.29055556
         ],
         "mode": "lines",
         "opacity": 0.24507658643326038,
         "type": "scattergeo"
        },
        {
         "lat": [
          41.93887417,
          25.79325
         ],
         "line": {
          "color": "red",
          "width": 1
         },
         "locationmode": "USA-states",
         "lon": [
          -72.68322833,
          -80.29055556
         ],
         "mode": "lines",
         "opacity": 0.12253829321663019,
         "type": "scattergeo"
        },
        {
         "lat": [
          38.85208333,
          25.79325
         ],
         "line": {
          "color": "red",
          "width": 1
         },
         "locationmode": "USA-states",
         "lon": [
          -77.03772222,
          -80.29055556
         ],
         "mode": "lines",
         "opacity": 0.5514223194748359,
         "type": "scattergeo"
        },
        {
         "lat": [
          39.64256778,
          25.79325
         ],
         "line": {
          "color": "red",
          "width": 1
         },
         "locationmode": "USA-states",
         "lon": [
          -106.91769529999999,
          -80.29055556
         ],
         "mode": "lines",
         "opacity": 0.0525164113785558,
         "type": "scattergeo"
        },
        {
         "lat": [
          36.08036111,
          25.79325
         ],
         "line": {
          "color": "red",
          "width": 1
         },
         "locationmode": "USA-states",
         "lon": [
          -115.15233329999998,
          -80.29055556
         ],
         "mode": "lines",
         "opacity": 0.1838074398249453,
         "type": "scattergeo"
        },
        {
         "lat": [
          33.94253611,
          25.79325
         ],
         "line": {
          "color": "red",
          "width": 1
         },
         "locationmode": "USA-states",
         "lon": [
          -118.40807439999999,
          -80.29055556
         ],
         "mode": "lines",
         "opacity": 0.4288840262582057,
         "type": "scattergeo"
        },
        {
         "lat": [
          40.77724306,
          25.79325
         ],
         "line": {
          "color": "red",
          "width": 1
         },
         "locationmode": "USA-states",
         "lon": [
          -73.87260917,
          -80.29055556
         ],
         "mode": "lines",
         "opacity": 0.6728665207877462,
         "type": "scattergeo"
        },
        {
         "lat": [
          44.88054694,
          25.79325
         ],
         "line": {
          "color": "red",
          "width": 1
         },
         "locationmode": "USA-states",
         "lon": [
          -93.2169225,
          -80.29055556
         ],
         "mode": "lines",
         "opacity": 0.061269146608315096,
         "type": "scattergeo"
        },
        {
         "lat": [
          41.979595,
          25.79325
         ],
         "line": {
          "color": "red",
          "width": 1
         },
         "locationmode": "USA-states",
         "lon": [
          -87.90446417,
          -80.29055556
         ],
         "mode": "lines",
         "opacity": 0.5525164113785558,
         "type": "scattergeo"
        },
        {
         "lat": [
          39.87195278,
          25.79325
         ],
         "line": {
          "color": "red",
          "width": 1
         },
         "locationmode": "USA-states",
         "lon": [
          -75.24114083,
          -80.29055556
         ],
         "mode": "lines",
         "opacity": 0.1838074398249453,
         "type": "scattergeo"
        },
        {
         "lat": [
          33.43416667,
          25.79325
         ],
         "line": {
          "color": "red",
          "width": 1
         },
         "locationmode": "USA-states",
         "lon": [
          -112.00805559999999,
          -80.29055556
         ],
         "mode": "lines",
         "opacity": 0.061269146608315096,
         "type": "scattergeo"
        },
        {
         "lat": [
          37.61900194,
          25.79325
         ],
         "line": {
          "color": "red",
          "width": 1
         },
         "locationmode": "USA-states",
         "lon": [
          -122.3748433,
          -80.29055556
         ],
         "mode": "lines",
         "opacity": 0.1838074398249453,
         "type": "scattergeo"
        },
        {
         "lat": [
          18.43941667,
          25.79325
         ],
         "line": {
          "color": "red",
          "width": 1
         },
         "locationmode": "USA-states",
         "lon": [
          -66.00183333,
          -80.29055556
         ],
         "mode": "lines",
         "opacity": 0.49015317286652077,
         "type": "scattergeo"
        },
        {
         "lat": [
          36.19837222,
          25.79325
         ],
         "line": {
          "color": "red",
          "width": 1
         },
         "locationmode": "USA-states",
         "lon": [
          -95.88824167,
          -80.29055556
         ],
         "mode": "lines",
         "opacity": 0.00437636761487965,
         "type": "scattergeo"
        },
        {
         "lat": [
          41.979595,
          44.88054694
         ],
         "line": {
          "color": "red",
          "width": 1
         },
         "locationmode": "USA-states",
         "lon": [
          -87.90446417,
          -93.2169225
         ],
         "mode": "lines",
         "opacity": 0.175054704595186,
         "type": "scattergeo"
        },
        {
         "lat": [
          32.89595056,
          29.99338889
         ],
         "line": {
          "color": "red",
          "width": 1
         },
         "locationmode": "USA-states",
         "lon": [
          -97.0372,
          -90.25802778
         ],
         "mode": "lines",
         "opacity": 0.3676148796498906,
         "type": "scattergeo"
        },
        {
         "lat": [
          25.79325,
          29.99338889
         ],
         "line": {
          "color": "red",
          "width": 1
         },
         "locationmode": "USA-states",
         "lon": [
          -80.29055556,
          -90.25802778
         ],
         "mode": "lines",
         "opacity": 0.1838074398249453,
         "type": "scattergeo"
        },
        {
         "lat": [
          41.979595,
          29.99338889
         ],
         "line": {
          "color": "red",
          "width": 1
         },
         "locationmode": "USA-states",
         "lon": [
          -87.90446417,
          -90.25802778
         ],
         "mode": "lines",
         "opacity": 0.16301969365426697,
         "type": "scattergeo"
        },
        {
         "lat": [
          32.89595056,
          34.056
         ],
         "line": {
          "color": "red",
          "width": 1
         },
         "locationmode": "USA-states",
         "lon": [
          -97.0372,
          -117.60119440000001
         ],
         "mode": "lines",
         "opacity": 0.24288840262582057,
         "type": "scattergeo"
        },
        {
         "lat": [
          38.85208333,
          41.979595
         ],
         "line": {
          "color": "red",
          "width": 1
         },
         "locationmode": "USA-states",
         "lon": [
          -77.03772222,
          -87.90446417
         ],
         "mode": "lines",
         "opacity": 0.3544857768052516,
         "type": "scattergeo"
        },
        {
         "lat": [
          40.69249722,
          41.979595
         ],
         "line": {
          "color": "red",
          "width": 1
         },
         "locationmode": "USA-states",
         "lon": [
          -74.16866056,
          -87.90446417
         ],
         "mode": "lines",
         "opacity": 0.1838074398249453,
         "type": "scattergeo"
        },
        {
         "lat": [
          26.07258333,
          41.979595
         ],
         "line": {
          "color": "red",
          "width": 1
         },
         "locationmode": "USA-states",
         "lon": [
          -80.15275,
          -87.90446417
         ],
         "mode": "lines",
         "opacity": 0.1838074398249453,
         "type": "scattergeo"
        },
        {
         "lat": [
          40.48118028,
          41.979595
         ],
         "line": {
          "color": "red",
          "width": 1
         },
         "locationmode": "USA-states",
         "lon": [
          -107.21765970000001,
          -87.90446417
         ],
         "mode": "lines",
         "opacity": 0.0525164113785558,
         "type": "scattergeo"
        },
        {
         "lat": [
          21.31869111,
          41.979595
         ],
         "line": {
          "color": "red",
          "width": 1
         },
         "locationmode": "USA-states",
         "lon": [
          -157.92240719999998,
          -87.90446417
         ],
         "mode": "lines",
         "opacity": 0.05032822757111598,
         "type": "scattergeo"
        },
        {
         "lat": [
          43.60732417,
          41.979595
         ],
         "line": {
          "color": "red",
          "width": 1
         },
         "locationmode": "USA-states",
         "lon": [
          -110.7377389,
          -87.90446417
         ],
         "mode": "lines",
         "opacity": 0.061269146608315096,
         "type": "scattergeo"
        },
        {
         "lat": [
          40.63975111,
          41.979595
         ],
         "line": {
          "color": "red",
          "width": 1
         },
         "locationmode": "USA-states",
         "lon": [
          -73.77892556,
          -87.90446417
         ],
         "mode": "lines",
         "opacity": 0.061269146608315096,
         "type": "scattergeo"
        },
        {
         "lat": [
          40.77724306,
          41.979595
         ],
         "line": {
          "color": "red",
          "width": 1
         },
         "locationmode": "USA-states",
         "lon": [
          -73.87260917,
          -87.90446417
         ],
         "mode": "lines",
         "opacity": 0.9409190371991247,
         "type": "scattergeo"
        },
        {
         "lat": [
          39.29760528,
          41.979595
         ],
         "line": {
          "color": "red",
          "width": 1
         },
         "locationmode": "USA-states",
         "lon": [
          -94.71390556,
          -87.90446417
         ],
         "mode": "lines",
         "opacity": 0.23413566739606126,
         "type": "scattergeo"
        },
        {
         "lat": [
          28.42888889,
          41.979595
         ],
         "line": {
          "color": "red",
          "width": 1
         },
         "locationmode": "USA-states",
         "lon": [
          -81.31602778,
          -87.90446417
         ],
         "mode": "lines",
         "opacity": 0.24507658643326038,
         "type": "scattergeo"
        },
        {
         "lat": [
          35.87763889,
          41.979595
         ],
         "line": {
          "color": "red",
          "width": 1
         },
         "locationmode": "USA-states",
         "lon": [
          -78.78747222,
          -87.90446417
         ],
         "mode": "lines",
         "opacity": 0.17067833698030635,
         "type": "scattergeo"
        },
        {
         "lat": [
          39.49857611,
          41.979595
         ],
         "line": {
          "color": "red",
          "width": 1
         },
         "locationmode": "USA-states",
         "lon": [
          -119.76806470000001,
          -87.90446417
         ],
         "mode": "lines",
         "opacity": 0.061269146608315096,
         "type": "scattergeo"
        },
        {
         "lat": [
          32.73355611,
          41.979595
         ],
         "line": {
          "color": "red",
          "width": 1
         },
         "locationmode": "USA-states",
         "lon": [
          -117.1896567,
          -87.90446417
         ],
         "mode": "lines",
         "opacity": 0.24507658643326038,
         "type": "scattergeo"
        },
        {
         "lat": [
          29.53369444,
          41.979595
         ],
         "line": {
          "color": "red",
          "width": 1
         },
         "locationmode": "USA-states",
         "lon": [
          -98.46977778,
          -87.90446417
         ],
         "mode": "lines",
         "opacity": 0.12253829321663019,
         "type": "scattergeo"
        },
        {
         "lat": [
          37.36186194,
          41.979595
         ],
         "line": {
          "color": "red",
          "width": 1
         },
         "locationmode": "USA-states",
         "lon": [
          -121.92900890000001,
          -87.90446417
         ],
         "mode": "lines",
         "opacity": 0.12253829321663019,
         "type": "scattergeo"
        },
        {
         "lat": [
          18.43941667,
          41.979595
         ],
         "line": {
          "color": "red",
          "width": 1
         },
         "locationmode": "USA-states",
         "lon": [
          -66.00183333,
          -87.90446417
         ],
         "mode": "lines",
         "opacity": 0.12253829321663019,
         "type": "scattergeo"
        },
        {
         "lat": [
          38.74768694,
          41.979595
         ],
         "line": {
          "color": "red",
          "width": 1
         },
         "locationmode": "USA-states",
         "lon": [
          -90.35998972,
          -87.90446417
         ],
         "mode": "lines",
         "opacity": 0.5284463894967177,
         "type": "scattergeo"
        },
        {
         "lat": [
          36.19837222,
          41.979595
         ],
         "line": {
          "color": "red",
          "width": 1
         },
         "locationmode": "USA-states",
         "lon": [
          -95.88824167,
          -87.90446417
         ],
         "mode": "lines",
         "opacity": 0.061269146608315096,
         "type": "scattergeo"
        },
        {
         "lat": [
          32.11608333,
          41.979595
         ],
         "line": {
          "color": "red",
          "width": 1
         },
         "locationmode": "USA-states",
         "lon": [
          -110.94102779999999,
          -87.90446417
         ],
         "mode": "lines",
         "opacity": 0.12253829321663019,
         "type": "scattergeo"
        },
        {
         "lat": [
          32.89595056,
          36.89461111
         ],
         "line": {
          "color": "red",
          "width": 1
         },
         "locationmode": "USA-states",
         "lon": [
          -97.0372,
          -76.20122222
         ],
         "mode": "lines",
         "opacity": 0.12253829321663019,
         "type": "scattergeo"
        },
        {
         "lat": [
          32.89595056,
          26.68316194
         ],
         "line": {
          "color": "red",
          "width": 1
         },
         "locationmode": "USA-states",
         "lon": [
          -97.0372,
          -80.09559417
         ],
         "mode": "lines",
         "opacity": 0.12253829321663019,
         "type": "scattergeo"
        },
        {
         "lat": [
          41.979595,
          26.68316194
         ],
         "line": {
          "color": "red",
          "width": 1
         },
         "locationmode": "USA-states",
         "lon": [
          -87.90446417,
          -80.09559417
         ],
         "mode": "lines",
         "opacity": 0.16411378555798686,
         "type": "scattergeo"
        },
        {
         "lat": [
          32.89595056,
          45.58872222
         ],
         "line": {
          "color": "red",
          "width": 1
         },
         "locationmode": "USA-states",
         "lon": [
          -97.0372,
          -122.5975
         ],
         "mode": "lines",
         "opacity": 0.24507658643326038,
         "type": "scattergeo"
        },
        {
         "lat": [
          41.979595,
          39.87195278
         ],
         "line": {
          "color": "red",
          "width": 1
         },
         "locationmode": "USA-states",
         "lon": [
          -87.90446417,
          -75.24114083
         ],
         "mode": "lines",
         "opacity": 0.12035010940919037,
         "type": "scattergeo"
        },
        {
         "lat": [
          18.43941667,
          39.87195278
         ],
         "line": {
          "color": "red",
          "width": 1
         },
         "locationmode": "USA-states",
         "lon": [
          -66.00183333,
          -75.24114083
         ],
         "mode": "lines",
         "opacity": 0.061269146608315096,
         "type": "scattergeo"
        },
        {
         "lat": [
          41.979595,
          33.43416667
         ],
         "line": {
          "color": "red",
          "width": 1
         },
         "locationmode": "USA-states",
         "lon": [
          -87.90446417,
          -112.00805559999999
         ],
         "mode": "lines",
         "opacity": 0.3063457330415755,
         "type": "scattergeo"
        },
        {
         "lat": [
          32.89595056,
          40.49146583
         ],
         "line": {
          "color": "red",
          "width": 1
         },
         "locationmode": "USA-states",
         "lon": [
          -97.0372,
          -80.23287083
         ],
         "mode": "lines",
         "opacity": 0.18599562363238512,
         "type": "scattergeo"
        },
        {
         "lat": [
          32.89595056,
          33.82921556
         ],
         "line": {
          "color": "red",
          "width": 1
         },
         "locationmode": "USA-states",
         "lon": [
          -97.0372,
          -116.5062531
         ],
         "mode": "lines",
         "opacity": 0.1838074398249453,
         "type": "scattergeo"
        },
        {
         "lat": [
          41.979595,
          33.82921556
         ],
         "line": {
          "color": "red",
          "width": 1
         },
         "locationmode": "USA-states",
         "lon": [
          -87.90446417,
          -116.5062531
         ],
         "mode": "lines",
         "opacity": 0.0700218818380744,
         "type": "scattergeo"
        },
        {
         "lat": [
          32.89595056,
          35.87763889
         ],
         "line": {
          "color": "red",
          "width": 1
         },
         "locationmode": "USA-states",
         "lon": [
          -97.0372,
          -78.78747222
         ],
         "mode": "lines",
         "opacity": 0.3041575492341357,
         "type": "scattergeo"
        },
        {
         "lat": [
          25.79325,
          35.87763889
         ],
         "line": {
          "color": "red",
          "width": 1
         },
         "locationmode": "USA-states",
         "lon": [
          -80.29055556,
          -78.78747222
         ],
         "mode": "lines",
         "opacity": 0.1838074398249453,
         "type": "scattergeo"
        },
        {
         "lat": [
          32.89595056,
          26.53616667
         ],
         "line": {
          "color": "red",
          "width": 1
         },
         "locationmode": "USA-states",
         "lon": [
          -97.0372,
          -81.75516667
         ],
         "mode": "lines",
         "opacity": 0.1838074398249453,
         "type": "scattergeo"
        },
        {
         "lat": [
          41.979595,
          26.53616667
         ],
         "line": {
          "color": "red",
          "width": 1
         },
         "locationmode": "USA-states",
         "lon": [
          -87.90446417,
          -81.75516667
         ],
         "mode": "lines",
         "opacity": 0.1838074398249453,
         "type": "scattergeo"
        },
        {
         "lat": [
          40.63975111,
          32.73355611
         ],
         "line": {
          "color": "red",
          "width": 1
         },
         "locationmode": "USA-states",
         "lon": [
          -73.77892556,
          -117.1896567
         ],
         "mode": "lines",
         "opacity": 0.061269146608315096,
         "type": "scattergeo"
        },
        {
         "lat": [
          32.89595056,
          47.44898194
         ],
         "line": {
          "color": "red",
          "width": 1
         },
         "locationmode": "USA-states",
         "lon": [
          -97.0372,
          -122.30931310000001
         ],
         "mode": "lines",
         "opacity": 0.4288840262582057,
         "type": "scattergeo"
        },
        {
         "lat": [
          41.979595,
          47.44898194
         ],
         "line": {
          "color": "red",
          "width": 1
         },
         "locationmode": "USA-states",
         "lon": [
          -87.90446417,
          -122.30931310000001
         ],
         "mode": "lines",
         "opacity": 0.23413566739606126,
         "type": "scattergeo"
        },
        {
         "lat": [
          21.31869111,
          37.61900194
         ],
         "line": {
          "color": "red",
          "width": 1
         },
         "locationmode": "USA-states",
         "lon": [
          -157.92240719999998,
          -122.3748433
         ],
         "mode": "lines",
         "opacity": 0.061269146608315096,
         "type": "scattergeo"
        },
        {
         "lat": [
          33.94253611,
          37.61900194
         ],
         "line": {
          "color": "red",
          "width": 1
         },
         "locationmode": "USA-states",
         "lon": [
          -118.40807439999999,
          -122.3748433
         ],
         "mode": "lines",
         "opacity": 0.3676148796498906,
         "type": "scattergeo"
        },
        {
         "lat": [
          41.979595,
          37.61900194
         ],
         "line": {
          "color": "red",
          "width": 1
         },
         "locationmode": "USA-states",
         "lon": [
          -87.90446417,
          -122.3748433
         ],
         "mode": "lines",
         "opacity": 0.35667396061269147,
         "type": "scattergeo"
        },
        {
         "lat": [
          32.89595056,
          18.43941667
         ],
         "line": {
          "color": "red",
          "width": 1
         },
         "locationmode": "USA-states",
         "lon": [
          -97.0372,
          -66.00183333
         ],
         "mode": "lines",
         "opacity": 0.13129102844638948,
         "type": "scattergeo"
        },
        {
         "lat": [
          38.94453194,
          18.43941667
         ],
         "line": {
          "color": "red",
          "width": 1
         },
         "locationmode": "USA-states",
         "lon": [
          -77.45580972,
          -66.00183333
         ],
         "mode": "lines",
         "opacity": 0.061269146608315096,
         "type": "scattergeo"
        },
        {
         "lat": [
          40.63975111,
          18.43941667
         ],
         "line": {
          "color": "red",
          "width": 1
         },
         "locationmode": "USA-states",
         "lon": [
          -73.77892556,
          -66.00183333
         ],
         "mode": "lines",
         "opacity": 0.1838074398249453,
         "type": "scattergeo"
        },
        {
         "lat": [
          33.94253611,
          18.43941667
         ],
         "line": {
          "color": "red",
          "width": 1
         },
         "locationmode": "USA-states",
         "lon": [
          -118.40807439999999,
          -66.00183333
         ],
         "mode": "lines",
         "opacity": 0.0175054704595186,
         "type": "scattergeo"
        },
        {
         "lat": [
          32.89595056,
          38.69542167
         ],
         "line": {
          "color": "red",
          "width": 1
         },
         "locationmode": "USA-states",
         "lon": [
          -97.0372,
          -121.5907669
         ],
         "mode": "lines",
         "opacity": 0.24507658643326038,
         "type": "scattergeo"
        },
        {
         "lat": [
          32.89595056,
          33.67565861
         ],
         "line": {
          "color": "red",
          "width": 1
         },
         "locationmode": "USA-states",
         "lon": [
          -97.0372,
          -117.86822250000002
         ],
         "mode": "lines",
         "opacity": 0.6323851203501094,
         "type": "scattergeo"
        },
        {
         "lat": [
          41.979595,
          33.67565861
         ],
         "line": {
          "color": "red",
          "width": 1
         },
         "locationmode": "USA-states",
         "lon": [
          -87.90446417,
          -117.86822250000002
         ],
         "mode": "lines",
         "opacity": 0.16630196936542668,
         "type": "scattergeo"
        },
        {
         "lat": [
          38.85208333,
          38.74768694
         ],
         "line": {
          "color": "red",
          "width": 1
         },
         "locationmode": "USA-states",
         "lon": [
          -77.03772222,
          -90.35998972
         ],
         "mode": "lines",
         "opacity": 0.2188183807439825,
         "type": "scattergeo"
        },
        {
         "lat": [
          25.79325,
          38.74768694
         ],
         "line": {
          "color": "red",
          "width": 1
         },
         "locationmode": "USA-states",
         "lon": [
          -80.29055556,
          -90.35998972
         ],
         "mode": "lines",
         "opacity": 0.1838074398249453,
         "type": "scattergeo"
        },
        {
         "lat": [
          25.79325,
          18.33730556
         ],
         "line": {
          "color": "red",
          "width": 1
         },
         "locationmode": "USA-states",
         "lon": [
          -80.29055556,
          -64.97336111
         ],
         "mode": "lines",
         "opacity": 0.12253829321663019,
         "type": "scattergeo"
        },
        {
         "lat": [
          25.79325,
          17.70188889
         ],
         "line": {
          "color": "red",
          "width": 1
         },
         "locationmode": "USA-states",
         "lon": [
          -80.29055556,
          -64.79855556
         ],
         "mode": "lines",
         "opacity": 0.06783369803063458,
         "type": "scattergeo"
        },
        {
         "lat": [
          32.89595056,
          27.97547222
         ],
         "line": {
          "color": "red",
          "width": 1
         },
         "locationmode": "USA-states",
         "lon": [
          -97.0372,
          -82.53325
         ],
         "mode": "lines",
         "opacity": 0.4288840262582057,
         "type": "scattergeo"
        },
        {
         "lat": [
          25.79325,
          27.97547222
         ],
         "line": {
          "color": "red",
          "width": 1
         },
         "locationmode": "USA-states",
         "lon": [
          -80.29055556,
          -82.53325
         ],
         "mode": "lines",
         "opacity": 0.32603938730853393,
         "type": "scattergeo"
        },
        {
         "lat": [
          41.979595,
          27.97547222
         ],
         "line": {
          "color": "red",
          "width": 1
         },
         "locationmode": "USA-states",
         "lon": [
          -87.90446417,
          -82.53325
         ],
         "mode": "lines",
         "opacity": 0.16411378555798686,
         "type": "scattergeo"
        },
        {
         "lat": [
          18.43941667,
          27.97547222
         ],
         "line": {
          "color": "red",
          "width": 1
         },
         "locationmode": "USA-states",
         "lon": [
          -66.00183333,
          -82.53325
         ],
         "mode": "lines",
         "opacity": 0.061269146608315096,
         "type": "scattergeo"
        },
        {
         "lat": [
          32.89595056,
          36.19837222
         ],
         "line": {
          "color": "red",
          "width": 1
         },
         "locationmode": "USA-states",
         "lon": [
          -97.0372,
          -95.88824167
         ],
         "mode": "lines",
         "opacity": 0.42669584245076586,
         "type": "scattergeo"
        },
        {
         "lat": [
          32.89595056,
          32.11608333
         ],
         "line": {
          "color": "red",
          "width": 1
         },
         "locationmode": "USA-states",
         "lon": [
          -97.0372,
          -110.94102779999999
         ],
         "mode": "lines",
         "opacity": 0.45842450765864334,
         "type": "scattergeo"
        },
        {
         "hoverinfo": "text",
         "lat": [
          41.979595,
          33.64044444,
          32.89595056,
          33.43416667,
          39.85840806,
          29.98047222,
          37.61900194,
          33.94253611,
          28.42888889,
          35.21401111,
          40.78838778,
          27.97547222,
          40.69249722,
          36.08036111,
          39.87195278,
          44.88054694,
          47.44898194,
          40.77724306,
          41.7859825,
          38.94453194,
          32.73355611,
          38.74768694,
          42.21205889,
          40.63975111,
          25.79325,
          42.3643475,
          38.69542167,
          39.17540167,
          33.67565861,
          29.99338889,
          37.36186194,
          38.85208333,
          45.58872222,
          26.53616667,
          26.68316194,
          35.87763889,
          29.64541861,
          29.53369444,
          26.07258333,
          39.29760528,
          37.72129083,
          40.49146583,
          35.04241667,
          42.94722222,
          41.41089417,
          30.49405556,
          32.11608333,
          39.71732917,
          39.49857611,
          35.39308833,
          41.72399917,
          36.19837222,
          39.04614278,
          39.99798528,
          38.17438889,
          34.056,
          34.72939611,
          32.84711389,
          41.30251861,
          36.89461111,
          39.90237583,
          43.11886611,
          36.28186944,
          36.12447667,
          35.04022222,
          32.31116667,
          31.80666667,
          37.50516667,
          41.93887417,
          31.94252778,
          30.53316083,
          35.81248722,
          38.80580556,
          30.47330556,
          43.11118694,
          33.56294306,
          42.93451639,
          33.82921556,
          27.39533333,
          27.77036083,
          34.6404475,
          33.93884,
          30.20527972,
          34.42621194,
          47.61985556,
          30.69141667,
          37.64995889,
          42.94052472,
          41.53493306,
          40.19349528,
          43.64616667,
          32.30064417,
          37.13189556,
          41.06695778,
          36.5869825,
          42.88081972,
          30.448674,
          32.65658333,
          39.22316,
          30.39652778,
          30.40728028,
          44.04532139,
          33.81772222,
          34.27061111,
          38.03697222,
          43.13985778,
          44.123259999999995,
          32.12758333,
          33.66363889,
          41.88458833,
          34.89566722,
          36.09774694,
          40.7952425,
          41.44852639,
          35.43619444,
          40.91631194,
          40.47798556,
          26.22850611,
          30.48325,
          32.446627500000005,
          46.91934889,
          40.48118028,
          42.37422778,
          40.66424333,
          27.54373861,
          30.19453278,
          32.41132,
          37.24432611,
          42.96550333,
          36.47521417,
          31.06489778,
          32.89864639,
          44.48507333,
          44.25406722,
          32.51633333,
          41.70895361,
          43.56444444,
          33.67975,
          48.25937778,
          40.03925,
          37.32546833,
          39.64256778,
          43.60732417,
          45.77690139,
          39.1224125,
          34.20061917,
          38.03799139,
          38.53396333,
          43.51455556,
          36.77619444,
          39.84395194,
          26.17583333,
          40.50898361,
          47.949255,
          43.58135111,
          42.48180389,
          34.89924833,
          42.91130556,
          31.32133917,
          34.82916444,
          38.50886722,
          46.77411111,
          42.90835556,
          44.74144472,
          32.51086556,
          46.26468028,
          39.14096722,
          31.32737167,
          43.41713889,
          35.61677778,
          42.15614361,
          41.50409361,
          38.13863889,
          30.7825,
          44.77761917,
          35.65884306,
          40.97811528,
          31.25902778,
          40.85097222,
          40.97846583,
          44.52019417,
          37.06083333,
          35.23705806,
          41.33814944,
          33.45033444,
          44.34889806,
          35.07297222,
          33.369955,
          35.33659028,
          32.35413889,
          46.60681806,
          47.48200194,
          32.33313333,
          46.353639,
          37.95375861,
          35.03526833,
          46.37449806,
          37.70097028,
          42.74811944,
          44.47300361,
          48.31140472,
          28.10275,
          29.17991667,
          40.65236278,
          46.84209028,
          41.155722499999996,
          41.5942175,
          37.85830556,
          38.37315083,
          48.79275,
          37.62404861,
          44.25740806,
          36.385913,
          27.91076333,
          33.98879611,
          34.99147222,
          44.86525722,
          42.40295944,
          43.90882639,
          34.681499,
          45.8076625
         ],
         "locationmode": "USA-states",
         "lon": [
          -87.90446417,
          -84.42694444,
          -97.0372,
          -112.00805559999999,
          -104.6670019,
          -95.33972222,
          -122.3748433,
          -118.40807439999999,
          -81.31602778,
          -80.94312583,
          -111.9777731,
          -82.53325,
          -74.16866056,
          -115.15233329999998,
          -75.24114083,
          -93.2169225,
          -122.30931310000001,
          -73.87260917,
          -87.75242444,
          -77.45580972,
          -117.1896567,
          -90.35998972,
          -83.34883583,
          -73.77892556,
          -80.29055556,
          -71.00517917,
          -121.5907669,
          -76.66819833,
          -117.86822250000002,
          -90.25802778,
          -121.92900890000001,
          -77.03772222,
          -122.5975,
          -81.75516667,
          -80.09559417,
          -78.78747222,
          -95.27888889,
          -98.46977778,
          -80.15275,
          -94.71390556,
          -122.22071670000001,
          -80.23287083,
          -89.97666667,
          -87.89658333,
          -81.84939667,
          -81.68786111,
          -110.94102779999999,
          -86.29438417,
          -119.76806470000001,
          -97.60073389,
          -71.42822111,
          -95.88824167,
          -84.6621725,
          -82.89188278,
          -85.736,
          -117.60119440000001,
          -92.22424556,
          -96.85177222,
          -95.89417306,
          -76.20122222,
          -84.219375,
          -77.67238389,
          -94.30681111,
          -86.67818222,
          -106.6091944,
          -90.07588889,
          -106.37780559999999,
          -77.31966667,
          -72.68322833,
          -102.20191390000001,
          -91.14963444,
          -83.99285583,
          -104.70025,
          -87.18744444,
          -76.10631056,
          -86.75354972,
          -71.43705583,
          -116.5062531,
          -82.55411111,
          -97.50121528,
          -86.77310944,
          -81.11953944,
          -91.987655,
          -119.8403733,
          -117.5338425,
          -88.24283333,
          -97.43304583,
          -78.73216667,
          -93.66068222,
          -76.76340361,
          -70.30875,
          -86.39397611,
          -76.4929875,
          -73.70757444,
          -121.84294779999999,
          -85.52276778,
          -84.550781,
          -114.60597220000001,
          -106.868845,
          -84.35033333,
          -89.07009278,
          -103.0573708,
          -118.1516111,
          -77.90255556,
          -84.60538889,
          -89.33751361,
          -123.21868559999999,
          -81.20213889,
          -101.8227778,
          -91.71087222,
          -82.21885833,
          -79.9372975,
          -73.10021194,
          -90.50753917,
          -82.54180556,
          -81.44246556,
          -88.91595278,
          -97.65439389,
          -86.5254,
          -93.82559833,
          -96.81498889,
          -107.21765970000001,
          -122.8734978,
          -89.69330556,
          -99.46154361,
          -97.66987194,
          -99.68189722,
          -93.38685806,
          -83.74345639,
          -82.40742056,
          -97.82779778,
          -80.04050583,
          -88.12959000000001,
          -121.1499633,
          -84.93886111,
          -86.31847417,
          -116.22277779999999,
          -78.92833333,
          -101.2803339,
          -88.27805556,
          -79.97542833,
          -106.91769529999999,
          -110.7377389,
          -111.15300719999999,
          -108.5267347,
          -118.3584969,
          -87.53062667,
          -106.9331817,
          -112.07016670000002,
          -119.7181389,
          -89.67761861,
          -98.23861111,
          -122.2934019,
          -97.17611111,
          -96.74170028,
          -114.4877356,
          -120.4575825,
          -112.59586110000001,
          -85.44962889,
          -77.61213778,
          -107.89383329999998,
          -100.74672220000001,
          -106.46446609999998,
          -85.582235,
          -92.03768778,
          -119.11902920000001,
          -96.67083278,
          -92.54855611,
          -124.2460278,
          -106.08813889999999,
          -121.7332081,
          -74.10483833,
          -78.45286111,
          -83.27672222,
          -89.66677944,
          -117.8295122,
          -124.1086189,
          -81.46630556,
          -96.75925,
          -85.19514639,
          -109.02379609999998,
          -88.77375,
          -120.64239309999999,
          -75.72426750000001,
          -88.59136861,
          -105.5393614,
          -77.04294444,
          -81.96449611,
          -94.36744111,
          -95.40238611,
          -111.9827503,
          -111.37068529999999,
          -88.75120556,
          -87.395361,
          -107.90848000000001,
          -85.20378778,
          -117.01539440000002,
          -113.098575,
          -73.80297861,
          -73.1503125,
          -114.25506940000001,
          -80.64580556,
          -81.05805556,
          -75.44040167,
          -92.19364861,
          -104.81183809999999,
          -109.0651928,
          -80.39947222,
          -81.59318972,
          -122.53752779999999,
          -118.8377722,
          -88.51947556,
          -92.548828,
          -82.68743944,
          -98.49189333,
          -78.88,
          -91.48507194,
          -90.70916722,
          -92.49798722,
          -90.348816,
          -108.54286110000001
         ],
         "marker": {
          "color": "rgb(255, 0, 0)",
          "line": {
           "color": "rgba(68, 68, 68, 0)",
           "width": 3
          },
          "size": 2
         },
         "mode": "markers",
         "text": [
          "Chicago O'Hare International",
          "William B Hartsfield-Atlanta Intl",
          "Dallas-Fort Worth International",
          "Phoenix Sky Harbor International",
          "Denver Intl",
          "George Bush Intercontinental",
          "San Francisco International",
          "Los Angeles International",
          "Orlando International",
          "Charlotte/Douglas International",
          "Salt Lake City Intl",
          "Tampa International ",
          "Newark Intl",
          "McCarran International",
          "Philadelphia Intl",
          "Minneapolis-St Paul Intl",
          "Seattle-Tacoma Intl",
          "LaGuardia",
          "Chicago Midway",
          "Washington Dulles International",
          "San Diego International-Lindbergh ",
          "Lambert-St Louis International",
          "Detroit Metropolitan-Wayne County",
          "John F Kennedy Intl",
          "Miami International",
          "Gen Edw L Logan Intl",
          "Sacramento International",
          "Baltimore-Washington International",
          "John Wayne /Orange Co",
          "New Orleans International ",
          "San Jose International",
          "Ronald Reagan Washington National",
          "Portland Intl",
          "Southwest Florida International",
          "Palm Beach International",
          "Raleigh-Durham International",
          "William P Hobby",
          "San Antonio International",
          "Fort Lauderdale-Hollywood Int'l",
          "Kansas City International",
          "Metropolitan Oakland International",
          "Pittsburgh International",
          "Memphis International",
          "General Mitchell International",
          "Cleveland-Hopkins Intl",
          "Jacksonville International",
          "Tucson International",
          "Indianapolis International",
          "Reno/Tahoe International",
          "Will Rogers World",
          "Theodore F Green State",
          "Tulsa International",
          "Cincinnati Northern Kentucky Intl",
          "Port Columbus Intl",
          "Louisville International-Standiford ",
          "Ontario International",
          "Adams ",
          "Dallas Love ",
          "Eppley Airfield",
          "Norfolk International",
          "James M Cox Dayton Intl",
          "Greater Rochester Int'l",
          "Northwest Arkansas Regional",
          "Nashville International",
          "Albuquerque International",
          "Jackson International",
          "El Paso International",
          "Richmond International",
          "Bradley International",
          "Midland International",
          "Baton Rouge Metropolitan, Ryan ",
          "McGhee-Tyson",
          "City of Colorado Springs Muni",
          "Pensacola Regional",
          "Syracuse-Hancock Intl",
          "Birmingham International",
          "Manchester",
          "Palm Springs International",
          "Sarasota Bradenton International",
          "Corpus Christi International",
          "Huntsville International ",
          "Columbia Metropolitan",
          "Lafayette Regional",
          "Santa Barbara Municipal",
          "Spokane Intl",
          "Mobile Regional",
          "Wichita Mid-Continent",
          "Buffalo Niagara Intl",
          "Des Moines International",
          "Harrisburg Intl",
          "Portland International Jetport",
          "Montgomery Regional Apt",
          "Newport News/Williamsburg International",
          "Westchester Cty",
          "Monterey Peninsula",
          "Kent County International",
          "Florida Beach",
          "Yuma MCAS-Yuma International",
          "Aspen-Pitkin Co/Sardy ",
          "Tallahassee Regional",
          "Gulfport-Biloxi Regional",
          "Rapid City Regional",
          "Long Beach (Daugherty )",
          "Wilmington International",
          "Blue Grass ",
          "Dane County Regional",
          "Mahlon Sweet ",
          "Savannah International",
          "Lubbock International",
          "Eastern Iowa ",
          "Greenville-Spartanburg",
          "Piedmont Triad International",
          "Long Island - MacArthur",
          "Quad City",
          "Asheville Regional",
          "Akron-Canton Regional",
          "Central Illinois Regional",
          "Valley International",
          "Eglin Air Force Base",
          "Shreveport Regional",
          "Hector International",
          "Yampa Valley",
          "Rogue Valley International",
          "Greater Peoria Regional",
          "Laredo International",
          "Austin-Bergstrom International",
          "Abilene Regional",
          "Springfield-Branson Regional",
          "Bishop",
          "Tri-Cities Regional",
          "Robert Gray AAF",
          "Charleston AFB/International",
          "Austin Straubel International",
          "Roberts ",
          "Columbus Metropolitan",
          "South Bend Regional",
          "Boise Air Terminal",
          "Myrtle Beach International",
          "Minot International",
          "University of Illinois-Willard",
          "Roanoke Regional/ Woodrum ",
          "Eagle County Regional",
          "Jackson Hole",
          "Gallatin ",
          "Walker ",
          "Burbank-Glendale-Pasadena",
          "Evansville Regional",
          "Gunnison County",
          "Idaho Falls Regional",
          "Fresno Yosemite International",
          "Capital",
          "McAllen Miller International",
          "Redding Municipal",
          "Grand Forks International",
          "Joe Foss ",
          "Joslin Field - Magic Valley",
          "Santa Maria Pub/Capt G Allan Hancock ",
          "Pocatello Regional",
          "Dothan ",
          "Albert J Ellis",
          "Montrose Regional",
          "Bismarck Municipal",
          "Natrona County Intl",
          "Cherry Capital",
          "Monroe Regional",
          "Tri-Cities",
          "Manhattan Regional",
          "Alexandria International",
          "North Bend Muni",
          "Santa Fe Municipal",
          "Klamath Falls International",
          "Stewart",
          "Charlottesville-Albermarle",
          "Valdosta Regional",
          "Central Wisconsin",
          "Inyokern",
          "Arcata",
          "Glynco Jetport",
          "Lincoln Municipal",
          "Fort Wayne International",
          "Yellowstone Regional",
          "Barkley Regional",
          "San Luis Obispo Co-McChesney ",
          "Wilkes-Barre/Scranton Intl",
          "Golden Triangle Regional",
          "Gillette-Campbell County",
          "Craven County Regional",
          "Bush ",
          "Fort Smith Regional",
          "Tyler Pounds ",
          "Helena Regional",
          "Great Falls Intl",
          "Key ",
          "Marquette County Airport",
          "Telluride Regional",
          "Lovell ",
          "Lewiston-Nez Perce County",
          "Cedar City Muni",
          "Albany Cty",
          "Burlington International",
          "Glacier Park Intl",
          "Melbourne International ",
          "Daytona Beach International",
          "Lehigh Valley International",
          "Duluth International",
          "Cheyenne",
          "Rock Springs-Sweetwater County",
          "Greenbrier Valley",
          "Yeager",
          "Bellingham Intl",
          "Mammoth Yosemite",
          "Outagamie County Regional",
          "Branson Airport",
          "St. Petersburg-Clearwater International",
          "Sheppard AFB/Wichita Falls Municipal",
          "Fayetteville Municipal",
          "Chippewa Valley Regional",
          "Dubuque Municipal",
          "Rochester International",
          "Tunica Municipal Airport",
          "Billings Logan Intl"
         ],
         "type": "scattergeo"
        }
       ],
       "layout": {
        "geo": {
         "countrycolor": "rgb(204, 204, 204)",
         "landcolor": "rgb(243, 243, 243)",
         "projection": {
          "type": "equirectangular"
         },
         "scope": "world",
         "showland": true
        },
        "showlegend": false
       }
      },
      "text/html": [
       "<div id=\"d5eb1833-12cd-4ead-a0a9-201d99d8c1c3\" style=\"height: 525px; width: 100%;\" class=\"plotly-graph-div\"></div><script type=\"text/javascript\">require([\"plotly\"], function(Plotly) { window.PLOTLYENV=window.PLOTLYENV || {};window.PLOTLYENV.BASE_URL=\"https://plot.ly\";Plotly.newPlot(\"d5eb1833-12cd-4ead-a0a9-201d99d8c1c3\", [{\"lon\": [-97.0372, -106.6091944], \"opacity\": 0.48577680525164113, \"lat\": [32.89595056, 35.04022222], \"locationmode\": \"USA-states\", \"type\": \"scattergeo\", \"line\": {\"width\": 1, \"color\": \"red\"}, \"mode\": \"lines\"}, {\"lon\": [-87.90446417, -97.66987194], \"opacity\": 0.18161925601750548, \"lat\": [41.979595, 30.19453278], \"locationmode\": \"USA-states\", \"type\": \"scattergeo\", \"line\": {\"width\": 1, \"color\": \"red\"}, \"mode\": \"lines\"}, {\"lon\": [-97.0372, -72.68322833], \"opacity\": 0.1772428884026258, \"lat\": [32.89595056, 41.93887417], \"locationmode\": \"USA-states\", \"type\": \"scattergeo\", \"line\": {\"width\": 1, \"color\": \"red\"}, \"mode\": \"lines\"}, {\"lon\": [-66.00183333, -72.68322833], \"opacity\": 0.061269146608315096, \"lat\": [18.43941667, 41.93887417], \"locationmode\": \"USA-states\", \"type\": \"scattergeo\", \"line\": {\"width\": 1, \"color\": \"red\"}, \"mode\": \"lines\"}, {\"lon\": [-97.0372, -86.75354972], \"opacity\": 0.1838074398249453, \"lat\": [32.89595056, 33.56294306], \"locationmode\": \"USA-states\", \"type\": \"scattergeo\", \"line\": {\"width\": 1, \"color\": \"red\"}, \"mode\": \"lines\"}, {\"lon\": [-80.29055556, -86.67818222], \"opacity\": 0.061269146608315096, \"lat\": [25.79325, 36.12447667], \"locationmode\": \"USA-states\", \"type\": \"scattergeo\", \"line\": {\"width\": 1, \"color\": \"red\"}, \"mode\": \"lines\"}, {\"lon\": [-97.0372, -71.00517917], \"opacity\": 0.4617067833698031, \"lat\": [32.89595056, 42.3643475], \"locationmode\": \"USA-states\", \"type\": \"scattergeo\", \"line\": {\"width\": 1, \"color\": \"red\"}, \"mode\": \"lines\"}, {\"lon\": [-80.29055556, -71.00517917], \"opacity\": 0.4288840262582057, \"lat\": [25.79325, 42.3643475], \"locationmode\": \"USA-states\", \"type\": \"scattergeo\", \"line\": {\"width\": 1, \"color\": \"red\"}, \"mode\": \"lines\"}, {\"lon\": [-87.90446417, -71.00517917], \"opacity\": 0.47045951859956237, \"lat\": [41.979595, 42.3643475], \"locationmode\": \"USA-states\", \"type\": \"scattergeo\", \"line\": {\"width\": 1, \"color\": \"red\"}, \"mode\": \"lines\"}, {\"lon\": [-66.00183333, -71.00517917], \"opacity\": 0.061269146608315096, \"lat\": [18.43941667, 42.3643475], \"locationmode\": \"USA-states\", \"type\": \"scattergeo\", \"line\": {\"width\": 1, \"color\": \"red\"}, \"mode\": \"lines\"}, {\"lon\": [-64.97336111, -71.00517917], \"opacity\": 0.04814004376367615, \"lat\": [18.33730556, 42.3643475], \"locationmode\": \"USA-states\", \"type\": \"scattergeo\", \"line\": {\"width\": 1, \"color\": \"red\"}, \"mode\": \"lines\"}, {\"lon\": [-80.29055556, -76.66819833], \"opacity\": 0.12253829321663019, \"lat\": [25.79325, 39.17540167], \"locationmode\": \"USA-states\", \"type\": \"scattergeo\", \"line\": {\"width\": 1, \"color\": \"red\"}, \"mode\": \"lines\"}, {\"lon\": [-66.00183333, -76.66819833], \"opacity\": 0.061269146608315096, \"lat\": [18.43941667, 39.17540167], \"locationmode\": \"USA-states\", \"type\": \"scattergeo\", \"line\": {\"width\": 1, \"color\": \"red\"}, \"mode\": \"lines\"}, {\"lon\": [-97.0372, -80.94312583], \"opacity\": 0.3938730853391685, \"lat\": [32.89595056, 35.21401111], \"locationmode\": \"USA-states\", \"type\": \"scattergeo\", \"line\": {\"width\": 1, \"color\": \"red\"}, \"mode\": \"lines\"}, {\"lon\": [-97.0372, -104.70025], \"opacity\": 0.3041575492341357, \"lat\": [32.89595056, 38.80580556], \"locationmode\": \"USA-states\", \"type\": \"scattergeo\", \"line\": {\"width\": 1, \"color\": \"red\"}, \"mode\": \"lines\"}, {\"lon\": [-97.0372, -84.219375], \"opacity\": 0.1137855579868709, \"lat\": [32.89595056, 39.90237583], \"locationmode\": \"USA-states\", \"type\": \"scattergeo\", \"line\": {\"width\": 1, \"color\": \"red\"}, \"mode\": \"lines\"}, {\"lon\": [-97.0372, -77.03772222], \"opacity\": 0.6433260393873085, \"lat\": [32.89595056, 38.85208333], \"locationmode\": \"USA-states\", \"type\": \"scattergeo\", \"line\": {\"width\": 1, \"color\": \"red\"}, \"mode\": \"lines\"}, {\"lon\": [-80.29055556, -104.6670019], \"opacity\": 0.12253829321663019, \"lat\": [25.79325, 39.85840806], \"locationmode\": \"USA-states\", \"type\": \"scattergeo\", \"line\": {\"width\": 1, \"color\": \"red\"}, \"mode\": \"lines\"}, {\"lon\": [-87.90446417, -104.6670019], \"opacity\": 0.12253829321663019, \"lat\": [41.979595, 39.85840806], \"locationmode\": \"USA-states\", \"type\": \"scattergeo\", \"line\": {\"width\": 1, \"color\": \"red\"}, \"mode\": \"lines\"}, {\"lon\": [-84.42694444, -97.0372], \"opacity\": 0.6345733041575492, \"lat\": [33.64044444, 32.89595056], \"locationmode\": \"USA-states\", \"type\": \"scattergeo\", \"line\": {\"width\": 1, \"color\": \"red\"}, \"mode\": \"lines\"}, {\"lon\": [-97.66987194, -97.0372], \"opacity\": 0.8971553610503282, \"lat\": [30.19453278, 32.89595056], \"locationmode\": \"USA-states\", \"type\": \"scattergeo\", \"line\": {\"width\": 1, \"color\": \"red\"}, \"mode\": \"lines\"}, {\"lon\": [-86.67818222, -97.0372], \"opacity\": 0.47702407002188185, \"lat\": [36.12447667, 32.89595056], \"locationmode\": \"USA-states\", \"type\": \"scattergeo\", \"line\": {\"width\": 1, \"color\": \"red\"}, \"mode\": \"lines\"}, {\"lon\": [-118.3584969, -97.0372], \"opacity\": 0.2275711159737418, \"lat\": [34.20061917, 32.89595056], \"locationmode\": \"USA-states\", \"type\": \"scattergeo\", \"line\": {\"width\": 1, \"color\": \"red\"}, \"mode\": \"lines\"}, {\"lon\": [-76.66819833, -97.0372], \"opacity\": 0.35667396061269147, \"lat\": [39.17540167, 32.89595056], \"locationmode\": \"USA-states\", \"type\": \"scattergeo\", \"line\": {\"width\": 1, \"color\": \"red\"}, \"mode\": \"lines\"}, {\"lon\": [-82.89188278, -97.0372], \"opacity\": 0.1137855579868709, \"lat\": [39.99798528, 32.89595056], \"locationmode\": \"USA-states\", \"type\": \"scattergeo\", \"line\": {\"width\": 1, \"color\": \"red\"}, \"mode\": \"lines\"}, {\"lon\": [-104.6670019, -97.0372], \"opacity\": 0.6105032822757112, \"lat\": [39.85840806, 32.89595056], \"locationmode\": \"USA-states\", \"type\": \"scattergeo\", \"line\": {\"width\": 1, \"color\": \"red\"}, \"mode\": \"lines\"}, {\"lon\": [-83.34883583, -97.0372], \"opacity\": 0.2844638949671772, \"lat\": [42.21205889, 32.89595056], \"locationmode\": \"USA-states\", \"type\": \"scattergeo\", \"line\": {\"width\": 1, \"color\": \"red\"}, \"mode\": \"lines\"}, {\"lon\": [-106.91769529999999, -97.0372], \"opacity\": 0.1487964989059081, \"lat\": [39.64256778, 32.89595056], \"locationmode\": \"USA-states\", \"type\": \"scattergeo\", \"line\": {\"width\": 1, \"color\": \"red\"}, \"mode\": \"lines\"}, {\"lon\": [-74.16866056, -97.0372], \"opacity\": 0.33916849015317285, \"lat\": [40.69249722, 32.89595056], \"locationmode\": \"USA-states\", \"type\": \"scattergeo\", \"line\": {\"width\": 1, \"color\": \"red\"}, \"mode\": \"lines\"}, {\"lon\": [-119.7181389, -97.0372], \"opacity\": 0.12253829321663019, \"lat\": [36.77619444, 32.89595056], \"locationmode\": \"USA-states\", \"type\": \"scattergeo\", \"line\": {\"width\": 1, \"color\": \"red\"}, \"mode\": \"lines\"}, {\"lon\": [-80.15275, -97.0372], \"opacity\": 0.3676148796498906, \"lat\": [26.07258333, 32.89595056], \"locationmode\": \"USA-states\", \"type\": \"scattergeo\", \"line\": {\"width\": 1, \"color\": \"red\"}, \"mode\": \"lines\"}, {\"lon\": [-86.77310944, -97.0372], \"opacity\": 0.17286652078774617, \"lat\": [34.6404475, 32.89595056], \"locationmode\": \"USA-states\", \"type\": \"scattergeo\", \"line\": {\"width\": 1, \"color\": \"red\"}, \"mode\": \"lines\"}, {\"lon\": [-95.33972222, -97.0372], \"opacity\": 0.3544857768052516, \"lat\": [29.98047222, 32.89595056], \"locationmode\": \"USA-states\", \"type\": \"scattergeo\", \"line\": {\"width\": 1, \"color\": \"red\"}, \"mode\": \"lines\"}, {\"lon\": [-118.40807439999999, -97.0372], \"opacity\": 1.0, \"lat\": [33.94253611, 32.89595056], \"locationmode\": \"USA-states\", \"type\": \"scattergeo\", \"line\": {\"width\": 1, \"color\": \"red\"}, \"mode\": \"lines\"}, {\"lon\": [-94.71390556, -97.0372], \"opacity\": 0.47702407002188185, \"lat\": [39.29760528, 32.89595056], \"locationmode\": \"USA-states\", \"type\": \"scattergeo\", \"line\": {\"width\": 1, \"color\": \"red\"}, \"mode\": \"lines\"}, {\"lon\": [-81.31602778, -97.0372], \"opacity\": 0.5470459518599562, \"lat\": [28.42888889, 32.89595056], \"locationmode\": \"USA-states\", \"type\": \"scattergeo\", \"line\": {\"width\": 1, \"color\": \"red\"}, \"mode\": \"lines\"}, {\"lon\": [-89.97666667, -97.0372], \"opacity\": 0.23413566739606126, \"lat\": [35.04241667, 32.89595056], \"locationmode\": \"USA-states\", \"type\": \"scattergeo\", \"line\": {\"width\": 1, \"color\": \"red\"}, \"mode\": \"lines\"}, {\"lon\": [-98.23861111, -97.0372], \"opacity\": 0.23413566739606126, \"lat\": [26.17583333, 32.89595056], \"locationmode\": \"USA-states\", \"type\": \"scattergeo\", \"line\": {\"width\": 1, \"color\": \"red\"}, \"mode\": \"lines\"}, {\"lon\": [-80.29055556, -97.0372], \"opacity\": 0.612691466083151, \"lat\": [25.79325, 32.89595056], \"locationmode\": \"USA-states\", \"type\": \"scattergeo\", \"line\": {\"width\": 1, \"color\": \"red\"}, \"mode\": \"lines\"}, {\"lon\": [-93.2169225, -97.0372], \"opacity\": 0.35667396061269147, \"lat\": [44.88054694, 32.89595056], \"locationmode\": \"USA-states\", \"type\": \"scattergeo\", \"line\": {\"width\": 1, \"color\": \"red\"}, \"mode\": \"lines\"}, {\"lon\": [-107.89383329999998, -97.0372], \"opacity\": 0.0175054704595186, \"lat\": [38.50886722, 32.89595056], \"locationmode\": \"USA-states\", \"type\": \"scattergeo\", \"line\": {\"width\": 1, \"color\": \"red\"}, \"mode\": \"lines\"}, {\"lon\": [-156.43045780000003, -97.0372], \"opacity\": 0.061269146608315096, \"lat\": [20.89864972, 32.89595056], \"locationmode\": \"USA-states\", \"type\": \"scattergeo\", \"line\": {\"width\": 1, \"color\": \"red\"}, \"mode\": \"lines\"}, {\"lon\": [-97.60073389, -97.0372], \"opacity\": 0.42669584245076586, \"lat\": [35.39308833, 32.89595056], \"locationmode\": \"USA-states\", \"type\": \"scattergeo\", \"line\": {\"width\": 1, \"color\": \"red\"}, \"mode\": \"lines\"}, {\"lon\": [-95.89417306, -97.0372], \"opacity\": 0.2975929978118162, \"lat\": [41.30251861, 32.89595056], \"locationmode\": \"USA-states\", \"type\": \"scattergeo\", \"line\": {\"width\": 1, \"color\": \"red\"}, \"mode\": \"lines\"}, {\"lon\": [-87.90446417, -97.0372], \"opacity\": 0.9026258205689278, \"lat\": [41.979595, 32.89595056], \"locationmode\": \"USA-states\", \"type\": \"scattergeo\", \"line\": {\"width\": 1, \"color\": \"red\"}, \"mode\": \"lines\"}, {\"lon\": [-75.24114083, -97.0372], \"opacity\": 0.3522975929978118, \"lat\": [39.87195278, 32.89595056], \"locationmode\": \"USA-states\", \"type\": \"scattergeo\", \"line\": {\"width\": 1, \"color\": \"red\"}, \"mode\": \"lines\"}, {\"lon\": [-112.00805559999999, -97.0372], \"opacity\": 0.6017505470459519, \"lat\": [33.43416667, 32.89595056], \"locationmode\": \"USA-states\", \"type\": \"scattergeo\", \"line\": {\"width\": 1, \"color\": \"red\"}, \"mode\": \"lines\"}, {\"lon\": [-77.31966667, -97.0372], \"opacity\": 0.18161925601750548, \"lat\": [37.50516667, 32.89595056], \"locationmode\": \"USA-states\", \"type\": \"scattergeo\", \"line\": {\"width\": 1, \"color\": \"red\"}, \"mode\": \"lines\"}, {\"lon\": [-119.76806470000001, -97.0372], \"opacity\": 0.16411378555798686, \"lat\": [39.49857611, 32.89595056], \"locationmode\": \"USA-states\", \"type\": \"scattergeo\", \"line\": {\"width\": 1, \"color\": \"red\"}, \"mode\": \"lines\"}, {\"lon\": [-117.1896567, -97.0372], \"opacity\": 0.5470459518599562, \"lat\": [32.73355611, 32.89595056], \"locationmode\": \"USA-states\", \"type\": \"scattergeo\", \"line\": {\"width\": 1, \"color\": \"red\"}, \"mode\": \"lines\"}, {\"lon\": [-98.46977778, -97.0372], \"opacity\": 0.9037199124726477, \"lat\": [29.53369444, 32.89595056], \"locationmode\": \"USA-states\", \"type\": \"scattergeo\", \"line\": {\"width\": 1, \"color\": \"red\"}, \"mode\": \"lines\"}, {\"lon\": [-85.736, -97.0372], \"opacity\": 0.17943107221006566, \"lat\": [38.17438889, 32.89595056], \"locationmode\": \"USA-states\", \"type\": \"scattergeo\", \"line\": {\"width\": 1, \"color\": \"red\"}, \"mode\": \"lines\"}, {\"lon\": [-122.3748433, -97.0372], \"opacity\": 0.5754923413566739, \"lat\": [37.61900194, 32.89595056], \"locationmode\": \"USA-states\", \"type\": \"scattergeo\", \"line\": {\"width\": 1, \"color\": \"red\"}, \"mode\": \"lines\"}, {\"lon\": [-121.92900890000001, -97.0372], \"opacity\": 0.3479212253829322, \"lat\": [37.36186194, 32.89595056], \"locationmode\": \"USA-states\", \"type\": \"scattergeo\", \"line\": {\"width\": 1, \"color\": \"red\"}, \"mode\": \"lines\"}, {\"lon\": [-111.9777731, -97.0372], \"opacity\": 0.3063457330415755, \"lat\": [40.78838778, 32.89595056], \"locationmode\": \"USA-states\", \"type\": \"scattergeo\", \"line\": {\"width\": 1, \"color\": \"red\"}, \"mode\": \"lines\"}, {\"lon\": [-90.35998972, -97.0372], \"opacity\": 0.5317286652078774, \"lat\": [38.74768694, 32.89595056], \"locationmode\": \"USA-states\", \"type\": \"scattergeo\", \"line\": {\"width\": 1, \"color\": \"red\"}, \"mode\": \"lines\"}, {\"lon\": [-94.30681111, -97.0372], \"opacity\": 0.05470459518599562, \"lat\": [36.28186944, 32.89595056], \"locationmode\": \"USA-states\", \"type\": \"scattergeo\", \"line\": {\"width\": 1, \"color\": \"red\"}, \"mode\": \"lines\"}, {\"lon\": [-80.29055556, -83.34883583], \"opacity\": 0.12253829321663019, \"lat\": [25.79325, 42.21205889], \"locationmode\": \"USA-states\", \"type\": \"scattergeo\", \"line\": {\"width\": 1, \"color\": \"red\"}, \"mode\": \"lines\"}, {\"lon\": [-73.87260917, -106.91769529999999], \"opacity\": 0.0087527352297593, \"lat\": [40.77724306, 39.64256778], \"locationmode\": \"USA-states\", \"type\": \"scattergeo\", \"line\": {\"width\": 1, \"color\": \"red\"}, \"mode\": \"lines\"}, {\"lon\": [-87.90446417, -106.91769529999999], \"opacity\": 0.0700218818380744, \"lat\": [41.979595, 39.64256778], \"locationmode\": \"USA-states\", \"type\": \"scattergeo\", \"line\": {\"width\": 1, \"color\": \"red\"}, \"mode\": \"lines\"}, {\"lon\": [-97.0372, -106.37780559999999], \"opacity\": 0.474835886214442, \"lat\": [32.89595056, 31.80666667], \"locationmode\": \"USA-states\", \"type\": \"scattergeo\", \"line\": {\"width\": 1, \"color\": \"red\"}, \"mode\": \"lines\"}, {\"lon\": [-118.40807439999999, -74.16866056], \"opacity\": 0.05908096280087528, \"lat\": [33.94253611, 40.69249722], \"locationmode\": \"USA-states\", \"type\": \"scattergeo\", \"line\": {\"width\": 1, \"color\": \"red\"}, \"mode\": \"lines\"}, {\"lon\": [-80.29055556, -74.16866056], \"opacity\": 0.1838074398249453, \"lat\": [25.79325, 40.69249722], \"locationmode\": \"USA-states\", \"type\": \"scattergeo\", \"line\": {\"width\": 1, \"color\": \"red\"}, \"mode\": \"lines\"}, {\"lon\": [-73.77892556, -80.15275], \"opacity\": 0.12253829321663019, \"lat\": [40.63975111, 26.07258333], \"locationmode\": \"USA-states\", \"type\": \"scattergeo\", \"line\": {\"width\": 1, \"color\": \"red\"}, \"mode\": \"lines\"}, {\"lon\": [-97.0372, -107.21765970000001], \"opacity\": 0.0700218818380744, \"lat\": [32.89595056, 40.48118028], \"locationmode\": \"USA-states\", \"type\": \"scattergeo\", \"line\": {\"width\": 1, \"color\": \"red\"}, \"mode\": \"lines\"}, {\"lon\": [-97.0372, -157.92240719999998], \"opacity\": 0.12253829321663019, \"lat\": [32.89595056, 21.31869111], \"locationmode\": \"USA-states\", \"type\": \"scattergeo\", \"line\": {\"width\": 1, \"color\": \"red\"}, \"mode\": \"lines\"}, {\"lon\": [-118.40807439999999, -157.92240719999998], \"opacity\": 0.2363238512035011, \"lat\": [33.94253611, 21.31869111], \"locationmode\": \"USA-states\", \"type\": \"scattergeo\", \"line\": {\"width\": 1, \"color\": \"red\"}, \"mode\": \"lines\"}, {\"lon\": [-97.0372, -77.45580972], \"opacity\": 0.33698030634573306, \"lat\": [32.89595056, 38.94453194], \"locationmode\": \"USA-states\", \"type\": \"scattergeo\", \"line\": {\"width\": 1, \"color\": \"red\"}, \"mode\": \"lines\"}, {\"lon\": [-118.40807439999999, -77.45580972], \"opacity\": 0.18161925601750548, \"lat\": [33.94253611, 38.94453194], \"locationmode\": \"USA-states\", \"type\": \"scattergeo\", \"line\": {\"width\": 1, \"color\": \"red\"}, \"mode\": \"lines\"}, {\"lon\": [-80.29055556, -77.45580972], \"opacity\": 0.12253829321663019, \"lat\": [25.79325, 38.94453194], \"locationmode\": \"USA-states\", \"type\": \"scattergeo\", \"line\": {\"width\": 1, \"color\": \"red\"}, \"mode\": \"lines\"}, {\"lon\": [-80.29055556, -95.33972222], \"opacity\": 0.1838074398249453, \"lat\": [25.79325, 29.98047222], \"locationmode\": \"USA-states\", \"type\": \"scattergeo\", \"line\": {\"width\": 1, \"color\": \"red\"}, \"mode\": \"lines\"}, {\"lon\": [-97.0372, -97.43304583], \"opacity\": 0.23413566739606126, \"lat\": [32.89595056, 37.64995889], \"locationmode\": \"USA-states\", \"type\": \"scattergeo\", \"line\": {\"width\": 1, \"color\": \"red\"}, \"mode\": \"lines\"}, {\"lon\": [-97.0372, -86.29438417], \"opacity\": 0.3041575492341357, \"lat\": [32.89595056, 39.71732917], \"locationmode\": \"USA-states\", \"type\": \"scattergeo\", \"line\": {\"width\": 1, \"color\": \"red\"}, \"mode\": \"lines\"}, {\"lon\": [-97.0372, -110.7377389], \"opacity\": 0.0262582056892779, \"lat\": [32.89595056, 43.60732417], \"locationmode\": \"USA-states\", \"type\": \"scattergeo\", \"line\": {\"width\": 1, \"color\": \"red\"}, \"mode\": \"lines\"}, {\"lon\": [-97.0372, -81.68786111], \"opacity\": 0.2363238512035011, \"lat\": [32.89595056, 30.49405556], \"locationmode\": \"USA-states\", \"type\": \"scattergeo\", \"line\": {\"width\": 1, \"color\": \"red\"}, \"mode\": \"lines\"}, {\"lon\": [-97.66987194, -73.77892556], \"opacity\": 0.061269146608315096, \"lat\": [30.19453278, 40.63975111], \"locationmode\": \"USA-states\", \"type\": \"scattergeo\", \"line\": {\"width\": 1, \"color\": \"red\"}, \"mode\": \"lines\"}, {\"lon\": [-97.0372, -73.77892556], \"opacity\": 0.061269146608315096, \"lat\": [32.89595056, 40.63975111], \"locationmode\": \"USA-states\", \"type\": \"scattergeo\", \"line\": {\"width\": 1, \"color\": \"red\"}, \"mode\": \"lines\"}, {\"lon\": [-106.91769529999999, -73.77892556], \"opacity\": 0.061269146608315096, \"lat\": [39.64256778, 40.63975111], \"locationmode\": \"USA-states\", \"type\": \"scattergeo\", \"line\": {\"width\": 1, \"color\": \"red\"}, \"mode\": \"lines\"}, {\"lon\": [-81.31602778, -73.77892556], \"opacity\": 0.24507658643326038, \"lat\": [28.42888889, 40.63975111], \"locationmode\": \"USA-states\", \"type\": \"scattergeo\", \"line\": {\"width\": 1, \"color\": \"red\"}, \"mode\": \"lines\"}, {\"lon\": [-80.29055556, -73.77892556], \"opacity\": 0.4288840262582057, \"lat\": [25.79325, 40.63975111], \"locationmode\": \"USA-states\", \"type\": \"scattergeo\", \"line\": {\"width\": 1, \"color\": \"red\"}, \"mode\": \"lines\"}, {\"lon\": [-122.30931310000001, -73.77892556], \"opacity\": 0.061269146608315096, \"lat\": [47.44898194, 40.63975111], \"locationmode\": \"USA-states\", \"type\": \"scattergeo\", \"line\": {\"width\": 1, \"color\": \"red\"}, \"mode\": \"lines\"}, {\"lon\": [-122.3748433, -73.77892556], \"opacity\": 0.3041575492341357, \"lat\": [37.61900194, 40.63975111], \"locationmode\": \"USA-states\", \"type\": \"scattergeo\", \"line\": {\"width\": 1, \"color\": \"red\"}, \"mode\": \"lines\"}, {\"lon\": [-64.97336111, -73.77892556], \"opacity\": 0.061269146608315096, \"lat\": [18.33730556, 40.63975111], \"locationmode\": \"USA-states\", \"type\": \"scattergeo\", \"line\": {\"width\": 1, \"color\": \"red\"}, \"mode\": \"lines\"}, {\"lon\": [-82.53325, -73.77892556], \"opacity\": 0.061269146608315096, \"lat\": [27.97547222, 40.63975111], \"locationmode\": \"USA-states\", \"type\": \"scattergeo\", \"line\": {\"width\": 1, \"color\": \"red\"}, \"mode\": \"lines\"}, {\"lon\": [-97.0372, -115.15233329999998], \"opacity\": 0.6225382932166302, \"lat\": [32.89595056, 36.08036111], \"locationmode\": \"USA-states\", \"type\": \"scattergeo\", \"line\": {\"width\": 1, \"color\": \"red\"}, \"mode\": \"lines\"}, {\"lon\": [-73.77892556, -115.15233329999998], \"opacity\": 0.12253829321663019, \"lat\": [40.63975111, 36.08036111], \"locationmode\": \"USA-states\", \"type\": \"scattergeo\", \"line\": {\"width\": 1, \"color\": \"red\"}, \"mode\": \"lines\"}, {\"lon\": [-118.40807439999999, -115.15233329999998], \"opacity\": 0.24288840262582057, \"lat\": [33.94253611, 36.08036111], \"locationmode\": \"USA-states\", \"type\": \"scattergeo\", \"line\": {\"width\": 1, \"color\": \"red\"}, \"mode\": \"lines\"}, {\"lon\": [-87.90446417, -115.15233329999998], \"opacity\": 0.3063457330415755, \"lat\": [41.979595, 36.08036111], \"locationmode\": \"USA-states\", \"type\": \"scattergeo\", \"line\": {\"width\": 1, \"color\": \"red\"}, \"mode\": \"lines\"}, {\"lon\": [-97.66987194, -118.40807439999999], \"opacity\": 0.1772428884026258, \"lat\": [30.19453278, 33.94253611], \"locationmode\": \"USA-states\", \"type\": \"scattergeo\", \"line\": {\"width\": 1, \"color\": \"red\"}, \"mode\": \"lines\"}, {\"lon\": [-86.67818222, -118.40807439999999], \"opacity\": 0.061269146608315096, \"lat\": [36.12447667, 33.94253611], \"locationmode\": \"USA-states\", \"type\": \"scattergeo\", \"line\": {\"width\": 1, \"color\": \"red\"}, \"mode\": \"lines\"}, {\"lon\": [-71.00517917, -118.40807439999999], \"opacity\": 0.1838074398249453, \"lat\": [42.3643475, 33.94253611], \"locationmode\": \"USA-states\", \"type\": \"scattergeo\", \"line\": {\"width\": 1, \"color\": \"red\"}, \"mode\": \"lines\"}, {\"lon\": [-106.91769529999999, -118.40807439999999], \"opacity\": 0.061269146608315096, \"lat\": [39.64256778, 33.94253611], \"locationmode\": \"USA-states\", \"type\": \"scattergeo\", \"line\": {\"width\": 1, \"color\": \"red\"}, \"mode\": \"lines\"}, {\"lon\": [-73.77892556, -118.40807439999999], \"opacity\": 0.5995623632385121, \"lat\": [40.63975111, 33.94253611], \"locationmode\": \"USA-states\", \"type\": \"scattergeo\", \"line\": {\"width\": 1, \"color\": \"red\"}, \"mode\": \"lines\"}, {\"lon\": [-156.0456314, -118.40807439999999], \"opacity\": 0.061269146608315096, \"lat\": [19.73876583, 33.94253611], \"locationmode\": \"USA-states\", \"type\": \"scattergeo\", \"line\": {\"width\": 1, \"color\": \"red\"}, \"mode\": \"lines\"}, {\"lon\": [-156.43045780000003, -118.40807439999999], \"opacity\": 0.12253829321663019, \"lat\": [20.89864972, 33.94253611], \"locationmode\": \"USA-states\", \"type\": \"scattergeo\", \"line\": {\"width\": 1, \"color\": \"red\"}, \"mode\": \"lines\"}, {\"lon\": [-87.90446417, -118.40807439999999], \"opacity\": 0.5426695842450766, \"lat\": [41.979595, 33.94253611], \"locationmode\": \"USA-states\", \"type\": \"scattergeo\", \"line\": {\"width\": 1, \"color\": \"red\"}, \"mode\": \"lines\"}, {\"lon\": [-90.35998972, -118.40807439999999], \"opacity\": 0.18161925601750548, \"lat\": [38.74768694, 33.94253611], \"locationmode\": \"USA-states\", \"type\": \"scattergeo\", \"line\": {\"width\": 1, \"color\": \"red\"}, \"mode\": \"lines\"}, {\"lon\": [-86.67818222, -73.87260917], \"opacity\": 0.11159737417943107, \"lat\": [36.12447667, 40.77724306], \"locationmode\": \"USA-states\", \"type\": \"scattergeo\", \"line\": {\"width\": 1, \"color\": \"red\"}, \"mode\": \"lines\"}, {\"lon\": [-97.0372, -73.87260917], \"opacity\": 0.849015317286652, \"lat\": [32.89595056, 40.77724306], \"locationmode\": \"USA-states\", \"type\": \"scattergeo\", \"line\": {\"width\": 1, \"color\": \"red\"}, \"mode\": \"lines\"}, {\"lon\": [-90.35998972, -73.87260917], \"opacity\": 0.22538293216630198, \"lat\": [38.74768694, 40.77724306], \"locationmode\": \"USA-states\", \"type\": \"scattergeo\", \"line\": {\"width\": 1, \"color\": \"red\"}, \"mode\": \"lines\"}, {\"lon\": [-118.40807439999999, -159.3389581], \"opacity\": 0.061269146608315096, \"lat\": [33.94253611, 21.97598306], \"locationmode\": \"USA-states\", \"type\": \"scattergeo\", \"line\": {\"width\": 1, \"color\": \"red\"}, \"mode\": \"lines\"}, {\"lon\": [-118.40807439999999, -81.31602778], \"opacity\": 0.061269146608315096, \"lat\": [33.94253611, 28.42888889], \"locationmode\": \"USA-states\", \"type\": \"scattergeo\", \"line\": {\"width\": 1, \"color\": \"red\"}, \"mode\": \"lines\"}, {\"lon\": [-80.29055556, -81.31602778], \"opacity\": 0.49015317286652077, \"lat\": [25.79325, 28.42888889], \"locationmode\": \"USA-states\", \"type\": \"scattergeo\", \"line\": {\"width\": 1, \"color\": \"red\"}, \"mode\": \"lines\"}, {\"lon\": [-84.42694444, -80.29055556], \"opacity\": 0.24507658643326038, \"lat\": [33.64044444, 25.79325], \"locationmode\": \"USA-states\", \"type\": \"scattergeo\", \"line\": {\"width\": 1, \"color\": \"red\"}, \"mode\": \"lines\"}, {\"lon\": [-72.68322833, -80.29055556], \"opacity\": 0.12253829321663019, \"lat\": [41.93887417, 25.79325], \"locationmode\": \"USA-states\", \"type\": \"scattergeo\", \"line\": {\"width\": 1, \"color\": \"red\"}, \"mode\": \"lines\"}, {\"lon\": [-77.03772222, -80.29055556], \"opacity\": 0.5514223194748359, \"lat\": [38.85208333, 25.79325], \"locationmode\": \"USA-states\", \"type\": \"scattergeo\", \"line\": {\"width\": 1, \"color\": \"red\"}, \"mode\": \"lines\"}, {\"lon\": [-106.91769529999999, -80.29055556], \"opacity\": 0.0525164113785558, \"lat\": [39.64256778, 25.79325], \"locationmode\": \"USA-states\", \"type\": \"scattergeo\", \"line\": {\"width\": 1, \"color\": \"red\"}, \"mode\": \"lines\"}, {\"lon\": [-115.15233329999998, -80.29055556], \"opacity\": 0.1838074398249453, \"lat\": [36.08036111, 25.79325], \"locationmode\": \"USA-states\", \"type\": \"scattergeo\", \"line\": {\"width\": 1, \"color\": \"red\"}, \"mode\": \"lines\"}, {\"lon\": [-118.40807439999999, -80.29055556], \"opacity\": 0.4288840262582057, \"lat\": [33.94253611, 25.79325], \"locationmode\": \"USA-states\", \"type\": \"scattergeo\", \"line\": {\"width\": 1, \"color\": \"red\"}, \"mode\": \"lines\"}, {\"lon\": [-73.87260917, -80.29055556], \"opacity\": 0.6728665207877462, \"lat\": [40.77724306, 25.79325], \"locationmode\": \"USA-states\", \"type\": \"scattergeo\", \"line\": {\"width\": 1, \"color\": \"red\"}, \"mode\": \"lines\"}, {\"lon\": [-93.2169225, -80.29055556], \"opacity\": 0.061269146608315096, \"lat\": [44.88054694, 25.79325], \"locationmode\": \"USA-states\", \"type\": \"scattergeo\", \"line\": {\"width\": 1, \"color\": \"red\"}, \"mode\": \"lines\"}, {\"lon\": [-87.90446417, -80.29055556], \"opacity\": 0.5525164113785558, \"lat\": [41.979595, 25.79325], \"locationmode\": \"USA-states\", \"type\": \"scattergeo\", \"line\": {\"width\": 1, \"color\": \"red\"}, \"mode\": \"lines\"}, {\"lon\": [-75.24114083, -80.29055556], \"opacity\": 0.1838074398249453, \"lat\": [39.87195278, 25.79325], \"locationmode\": \"USA-states\", \"type\": \"scattergeo\", \"line\": {\"width\": 1, \"color\": \"red\"}, \"mode\": \"lines\"}, {\"lon\": [-112.00805559999999, -80.29055556], \"opacity\": 0.061269146608315096, \"lat\": [33.43416667, 25.79325], \"locationmode\": \"USA-states\", \"type\": \"scattergeo\", \"line\": {\"width\": 1, \"color\": \"red\"}, \"mode\": \"lines\"}, {\"lon\": [-122.3748433, -80.29055556], \"opacity\": 0.1838074398249453, \"lat\": [37.61900194, 25.79325], \"locationmode\": \"USA-states\", \"type\": \"scattergeo\", \"line\": {\"width\": 1, \"color\": \"red\"}, \"mode\": \"lines\"}, {\"lon\": [-66.00183333, -80.29055556], \"opacity\": 0.49015317286652077, \"lat\": [18.43941667, 25.79325], \"locationmode\": \"USA-states\", \"type\": \"scattergeo\", \"line\": {\"width\": 1, \"color\": \"red\"}, \"mode\": \"lines\"}, {\"lon\": [-95.88824167, -80.29055556], \"opacity\": 0.00437636761487965, \"lat\": [36.19837222, 25.79325], \"locationmode\": \"USA-states\", \"type\": \"scattergeo\", \"line\": {\"width\": 1, \"color\": \"red\"}, \"mode\": \"lines\"}, {\"lon\": [-87.90446417, -93.2169225], \"opacity\": 0.175054704595186, \"lat\": [41.979595, 44.88054694], \"locationmode\": \"USA-states\", \"type\": \"scattergeo\", \"line\": {\"width\": 1, \"color\": \"red\"}, \"mode\": \"lines\"}, {\"lon\": [-97.0372, -90.25802778], \"opacity\": 0.3676148796498906, \"lat\": [32.89595056, 29.99338889], \"locationmode\": \"USA-states\", \"type\": \"scattergeo\", \"line\": {\"width\": 1, \"color\": \"red\"}, \"mode\": \"lines\"}, {\"lon\": [-80.29055556, -90.25802778], \"opacity\": 0.1838074398249453, \"lat\": [25.79325, 29.99338889], \"locationmode\": \"USA-states\", \"type\": \"scattergeo\", \"line\": {\"width\": 1, \"color\": \"red\"}, \"mode\": \"lines\"}, {\"lon\": [-87.90446417, -90.25802778], \"opacity\": 0.16301969365426697, \"lat\": [41.979595, 29.99338889], \"locationmode\": \"USA-states\", \"type\": \"scattergeo\", \"line\": {\"width\": 1, \"color\": \"red\"}, \"mode\": \"lines\"}, {\"lon\": [-97.0372, -117.60119440000001], \"opacity\": 0.24288840262582057, \"lat\": [32.89595056, 34.056], \"locationmode\": \"USA-states\", \"type\": \"scattergeo\", \"line\": {\"width\": 1, \"color\": \"red\"}, \"mode\": \"lines\"}, {\"lon\": [-77.03772222, -87.90446417], \"opacity\": 0.3544857768052516, \"lat\": [38.85208333, 41.979595], \"locationmode\": \"USA-states\", \"type\": \"scattergeo\", \"line\": {\"width\": 1, \"color\": \"red\"}, \"mode\": \"lines\"}, {\"lon\": [-74.16866056, -87.90446417], \"opacity\": 0.1838074398249453, \"lat\": [40.69249722, 41.979595], \"locationmode\": \"USA-states\", \"type\": \"scattergeo\", \"line\": {\"width\": 1, \"color\": \"red\"}, \"mode\": \"lines\"}, {\"lon\": [-80.15275, -87.90446417], \"opacity\": 0.1838074398249453, \"lat\": [26.07258333, 41.979595], \"locationmode\": \"USA-states\", \"type\": \"scattergeo\", \"line\": {\"width\": 1, \"color\": \"red\"}, \"mode\": \"lines\"}, {\"lon\": [-107.21765970000001, -87.90446417], \"opacity\": 0.0525164113785558, \"lat\": [40.48118028, 41.979595], \"locationmode\": \"USA-states\", \"type\": \"scattergeo\", \"line\": {\"width\": 1, \"color\": \"red\"}, \"mode\": \"lines\"}, {\"lon\": [-157.92240719999998, -87.90446417], \"opacity\": 0.05032822757111598, \"lat\": [21.31869111, 41.979595], \"locationmode\": \"USA-states\", \"type\": \"scattergeo\", \"line\": {\"width\": 1, \"color\": \"red\"}, \"mode\": \"lines\"}, {\"lon\": [-110.7377389, -87.90446417], \"opacity\": 0.061269146608315096, \"lat\": [43.60732417, 41.979595], \"locationmode\": \"USA-states\", \"type\": \"scattergeo\", \"line\": {\"width\": 1, \"color\": \"red\"}, \"mode\": \"lines\"}, {\"lon\": [-73.77892556, -87.90446417], \"opacity\": 0.061269146608315096, \"lat\": [40.63975111, 41.979595], \"locationmode\": \"USA-states\", \"type\": \"scattergeo\", \"line\": {\"width\": 1, \"color\": \"red\"}, \"mode\": \"lines\"}, {\"lon\": [-73.87260917, -87.90446417], \"opacity\": 0.9409190371991247, \"lat\": [40.77724306, 41.979595], \"locationmode\": \"USA-states\", \"type\": \"scattergeo\", \"line\": {\"width\": 1, \"color\": \"red\"}, \"mode\": \"lines\"}, {\"lon\": [-94.71390556, -87.90446417], \"opacity\": 0.23413566739606126, \"lat\": [39.29760528, 41.979595], \"locationmode\": \"USA-states\", \"type\": \"scattergeo\", \"line\": {\"width\": 1, \"color\": \"red\"}, \"mode\": \"lines\"}, {\"lon\": [-81.31602778, -87.90446417], \"opacity\": 0.24507658643326038, \"lat\": [28.42888889, 41.979595], \"locationmode\": \"USA-states\", \"type\": \"scattergeo\", \"line\": {\"width\": 1, \"color\": \"red\"}, \"mode\": \"lines\"}, {\"lon\": [-78.78747222, -87.90446417], \"opacity\": 0.17067833698030635, \"lat\": [35.87763889, 41.979595], \"locationmode\": \"USA-states\", \"type\": \"scattergeo\", \"line\": {\"width\": 1, \"color\": \"red\"}, \"mode\": \"lines\"}, {\"lon\": [-119.76806470000001, -87.90446417], \"opacity\": 0.061269146608315096, \"lat\": [39.49857611, 41.979595], \"locationmode\": \"USA-states\", \"type\": \"scattergeo\", \"line\": {\"width\": 1, \"color\": \"red\"}, \"mode\": \"lines\"}, {\"lon\": [-117.1896567, -87.90446417], \"opacity\": 0.24507658643326038, \"lat\": [32.73355611, 41.979595], \"locationmode\": \"USA-states\", \"type\": \"scattergeo\", \"line\": {\"width\": 1, \"color\": \"red\"}, \"mode\": \"lines\"}, {\"lon\": [-98.46977778, -87.90446417], \"opacity\": 0.12253829321663019, \"lat\": [29.53369444, 41.979595], \"locationmode\": \"USA-states\", \"type\": \"scattergeo\", \"line\": {\"width\": 1, \"color\": \"red\"}, \"mode\": \"lines\"}, {\"lon\": [-121.92900890000001, -87.90446417], \"opacity\": 0.12253829321663019, \"lat\": [37.36186194, 41.979595], \"locationmode\": \"USA-states\", \"type\": \"scattergeo\", \"line\": {\"width\": 1, \"color\": \"red\"}, \"mode\": \"lines\"}, {\"lon\": [-66.00183333, -87.90446417], \"opacity\": 0.12253829321663019, \"lat\": [18.43941667, 41.979595], \"locationmode\": \"USA-states\", \"type\": \"scattergeo\", \"line\": {\"width\": 1, \"color\": \"red\"}, \"mode\": \"lines\"}, {\"lon\": [-90.35998972, -87.90446417], \"opacity\": 0.5284463894967177, \"lat\": [38.74768694, 41.979595], \"locationmode\": \"USA-states\", \"type\": \"scattergeo\", \"line\": {\"width\": 1, \"color\": \"red\"}, \"mode\": \"lines\"}, {\"lon\": [-95.88824167, -87.90446417], \"opacity\": 0.061269146608315096, \"lat\": [36.19837222, 41.979595], \"locationmode\": \"USA-states\", \"type\": \"scattergeo\", \"line\": {\"width\": 1, \"color\": \"red\"}, \"mode\": \"lines\"}, {\"lon\": [-110.94102779999999, -87.90446417], \"opacity\": 0.12253829321663019, \"lat\": [32.11608333, 41.979595], \"locationmode\": \"USA-states\", \"type\": \"scattergeo\", \"line\": {\"width\": 1, \"color\": \"red\"}, \"mode\": \"lines\"}, {\"lon\": [-97.0372, -76.20122222], \"opacity\": 0.12253829321663019, \"lat\": [32.89595056, 36.89461111], \"locationmode\": \"USA-states\", \"type\": \"scattergeo\", \"line\": {\"width\": 1, \"color\": \"red\"}, \"mode\": \"lines\"}, {\"lon\": [-97.0372, -80.09559417], \"opacity\": 0.12253829321663019, \"lat\": [32.89595056, 26.68316194], \"locationmode\": \"USA-states\", \"type\": \"scattergeo\", \"line\": {\"width\": 1, \"color\": \"red\"}, \"mode\": \"lines\"}, {\"lon\": [-87.90446417, -80.09559417], \"opacity\": 0.16411378555798686, \"lat\": [41.979595, 26.68316194], \"locationmode\": \"USA-states\", \"type\": \"scattergeo\", \"line\": {\"width\": 1, \"color\": \"red\"}, \"mode\": \"lines\"}, {\"lon\": [-97.0372, -122.5975], \"opacity\": 0.24507658643326038, \"lat\": [32.89595056, 45.58872222], \"locationmode\": \"USA-states\", \"type\": \"scattergeo\", \"line\": {\"width\": 1, \"color\": \"red\"}, \"mode\": \"lines\"}, {\"lon\": [-87.90446417, -75.24114083], \"opacity\": 0.12035010940919037, \"lat\": [41.979595, 39.87195278], \"locationmode\": \"USA-states\", \"type\": \"scattergeo\", \"line\": {\"width\": 1, \"color\": \"red\"}, \"mode\": \"lines\"}, {\"lon\": [-66.00183333, -75.24114083], \"opacity\": 0.061269146608315096, \"lat\": [18.43941667, 39.87195278], \"locationmode\": \"USA-states\", \"type\": \"scattergeo\", \"line\": {\"width\": 1, \"color\": \"red\"}, \"mode\": \"lines\"}, {\"lon\": [-87.90446417, -112.00805559999999], \"opacity\": 0.3063457330415755, \"lat\": [41.979595, 33.43416667], \"locationmode\": \"USA-states\", \"type\": \"scattergeo\", \"line\": {\"width\": 1, \"color\": \"red\"}, \"mode\": \"lines\"}, {\"lon\": [-97.0372, -80.23287083], \"opacity\": 0.18599562363238512, \"lat\": [32.89595056, 40.49146583], \"locationmode\": \"USA-states\", \"type\": \"scattergeo\", \"line\": {\"width\": 1, \"color\": \"red\"}, \"mode\": \"lines\"}, {\"lon\": [-97.0372, -116.5062531], \"opacity\": 0.1838074398249453, \"lat\": [32.89595056, 33.82921556], \"locationmode\": \"USA-states\", \"type\": \"scattergeo\", \"line\": {\"width\": 1, \"color\": \"red\"}, \"mode\": \"lines\"}, {\"lon\": [-87.90446417, -116.5062531], \"opacity\": 0.0700218818380744, \"lat\": [41.979595, 33.82921556], \"locationmode\": \"USA-states\", \"type\": \"scattergeo\", \"line\": {\"width\": 1, \"color\": \"red\"}, \"mode\": \"lines\"}, {\"lon\": [-97.0372, -78.78747222], \"opacity\": 0.3041575492341357, \"lat\": [32.89595056, 35.87763889], \"locationmode\": \"USA-states\", \"type\": \"scattergeo\", \"line\": {\"width\": 1, \"color\": \"red\"}, \"mode\": \"lines\"}, {\"lon\": [-80.29055556, -78.78747222], \"opacity\": 0.1838074398249453, \"lat\": [25.79325, 35.87763889], \"locationmode\": \"USA-states\", \"type\": \"scattergeo\", \"line\": {\"width\": 1, \"color\": \"red\"}, \"mode\": \"lines\"}, {\"lon\": [-97.0372, -81.75516667], \"opacity\": 0.1838074398249453, \"lat\": [32.89595056, 26.53616667], \"locationmode\": \"USA-states\", \"type\": \"scattergeo\", \"line\": {\"width\": 1, \"color\": \"red\"}, \"mode\": \"lines\"}, {\"lon\": [-87.90446417, -81.75516667], \"opacity\": 0.1838074398249453, \"lat\": [41.979595, 26.53616667], \"locationmode\": \"USA-states\", \"type\": \"scattergeo\", \"line\": {\"width\": 1, \"color\": \"red\"}, \"mode\": \"lines\"}, {\"lon\": [-73.77892556, -117.1896567], \"opacity\": 0.061269146608315096, \"lat\": [40.63975111, 32.73355611], \"locationmode\": \"USA-states\", \"type\": \"scattergeo\", \"line\": {\"width\": 1, \"color\": \"red\"}, \"mode\": \"lines\"}, {\"lon\": [-97.0372, -122.30931310000001], \"opacity\": 0.4288840262582057, \"lat\": [32.89595056, 47.44898194], \"locationmode\": \"USA-states\", \"type\": \"scattergeo\", \"line\": {\"width\": 1, \"color\": \"red\"}, \"mode\": \"lines\"}, {\"lon\": [-87.90446417, -122.30931310000001], \"opacity\": 0.23413566739606126, \"lat\": [41.979595, 47.44898194], \"locationmode\": \"USA-states\", \"type\": \"scattergeo\", \"line\": {\"width\": 1, \"color\": \"red\"}, \"mode\": \"lines\"}, {\"lon\": [-157.92240719999998, -122.3748433], \"opacity\": 0.061269146608315096, \"lat\": [21.31869111, 37.61900194], \"locationmode\": \"USA-states\", \"type\": \"scattergeo\", \"line\": {\"width\": 1, \"color\": \"red\"}, \"mode\": \"lines\"}, {\"lon\": [-118.40807439999999, -122.3748433], \"opacity\": 0.3676148796498906, \"lat\": [33.94253611, 37.61900194], \"locationmode\": \"USA-states\", \"type\": \"scattergeo\", \"line\": {\"width\": 1, \"color\": \"red\"}, \"mode\": \"lines\"}, {\"lon\": [-87.90446417, -122.3748433], \"opacity\": 0.35667396061269147, \"lat\": [41.979595, 37.61900194], \"locationmode\": \"USA-states\", \"type\": \"scattergeo\", \"line\": {\"width\": 1, \"color\": \"red\"}, \"mode\": \"lines\"}, {\"lon\": [-97.0372, -66.00183333], \"opacity\": 0.13129102844638948, \"lat\": [32.89595056, 18.43941667], \"locationmode\": \"USA-states\", \"type\": \"scattergeo\", \"line\": {\"width\": 1, \"color\": \"red\"}, \"mode\": \"lines\"}, {\"lon\": [-77.45580972, -66.00183333], \"opacity\": 0.061269146608315096, \"lat\": [38.94453194, 18.43941667], \"locationmode\": \"USA-states\", \"type\": \"scattergeo\", \"line\": {\"width\": 1, \"color\": \"red\"}, \"mode\": \"lines\"}, {\"lon\": [-73.77892556, -66.00183333], \"opacity\": 0.1838074398249453, \"lat\": [40.63975111, 18.43941667], \"locationmode\": \"USA-states\", \"type\": \"scattergeo\", \"line\": {\"width\": 1, \"color\": \"red\"}, \"mode\": \"lines\"}, {\"lon\": [-118.40807439999999, -66.00183333], \"opacity\": 0.0175054704595186, \"lat\": [33.94253611, 18.43941667], \"locationmode\": \"USA-states\", \"type\": \"scattergeo\", \"line\": {\"width\": 1, \"color\": \"red\"}, \"mode\": \"lines\"}, {\"lon\": [-97.0372, -121.5907669], \"opacity\": 0.24507658643326038, \"lat\": [32.89595056, 38.69542167], \"locationmode\": \"USA-states\", \"type\": \"scattergeo\", \"line\": {\"width\": 1, \"color\": \"red\"}, \"mode\": \"lines\"}, {\"lon\": [-97.0372, -117.86822250000002], \"opacity\": 0.6323851203501094, \"lat\": [32.89595056, 33.67565861], \"locationmode\": \"USA-states\", \"type\": \"scattergeo\", \"line\": {\"width\": 1, \"color\": \"red\"}, \"mode\": \"lines\"}, {\"lon\": [-87.90446417, -117.86822250000002], \"opacity\": 0.16630196936542668, \"lat\": [41.979595, 33.67565861], \"locationmode\": \"USA-states\", \"type\": \"scattergeo\", \"line\": {\"width\": 1, \"color\": \"red\"}, \"mode\": \"lines\"}, {\"lon\": [-77.03772222, -90.35998972], \"opacity\": 0.2188183807439825, \"lat\": [38.85208333, 38.74768694], \"locationmode\": \"USA-states\", \"type\": \"scattergeo\", \"line\": {\"width\": 1, \"color\": \"red\"}, \"mode\": \"lines\"}, {\"lon\": [-80.29055556, -90.35998972], \"opacity\": 0.1838074398249453, \"lat\": [25.79325, 38.74768694], \"locationmode\": \"USA-states\", \"type\": \"scattergeo\", \"line\": {\"width\": 1, \"color\": \"red\"}, \"mode\": \"lines\"}, {\"lon\": [-80.29055556, -64.97336111], \"opacity\": 0.12253829321663019, \"lat\": [25.79325, 18.33730556], \"locationmode\": \"USA-states\", \"type\": \"scattergeo\", \"line\": {\"width\": 1, \"color\": \"red\"}, \"mode\": \"lines\"}, {\"lon\": [-80.29055556, -64.79855556], \"opacity\": 0.06783369803063458, \"lat\": [25.79325, 17.70188889], \"locationmode\": \"USA-states\", \"type\": \"scattergeo\", \"line\": {\"width\": 1, \"color\": \"red\"}, \"mode\": \"lines\"}, {\"lon\": [-97.0372, -82.53325], \"opacity\": 0.4288840262582057, \"lat\": [32.89595056, 27.97547222], \"locationmode\": \"USA-states\", \"type\": \"scattergeo\", \"line\": {\"width\": 1, \"color\": \"red\"}, \"mode\": \"lines\"}, {\"lon\": [-80.29055556, -82.53325], \"opacity\": 0.32603938730853393, \"lat\": [25.79325, 27.97547222], \"locationmode\": \"USA-states\", \"type\": \"scattergeo\", \"line\": {\"width\": 1, \"color\": \"red\"}, \"mode\": \"lines\"}, {\"lon\": [-87.90446417, -82.53325], \"opacity\": 0.16411378555798686, \"lat\": [41.979595, 27.97547222], \"locationmode\": \"USA-states\", \"type\": \"scattergeo\", \"line\": {\"width\": 1, \"color\": \"red\"}, \"mode\": \"lines\"}, {\"lon\": [-66.00183333, -82.53325], \"opacity\": 0.061269146608315096, \"lat\": [18.43941667, 27.97547222], \"locationmode\": \"USA-states\", \"type\": \"scattergeo\", \"line\": {\"width\": 1, \"color\": \"red\"}, \"mode\": \"lines\"}, {\"lon\": [-97.0372, -95.88824167], \"opacity\": 0.42669584245076586, \"lat\": [32.89595056, 36.19837222], \"locationmode\": \"USA-states\", \"type\": \"scattergeo\", \"line\": {\"width\": 1, \"color\": \"red\"}, \"mode\": \"lines\"}, {\"lon\": [-97.0372, -110.94102779999999], \"opacity\": 0.45842450765864334, \"lat\": [32.89595056, 32.11608333], \"locationmode\": \"USA-states\", \"type\": \"scattergeo\", \"line\": {\"width\": 1, \"color\": \"red\"}, \"mode\": \"lines\"}, {\"text\": [\"Chicago O'Hare International\", \"William B Hartsfield-Atlanta Intl\", \"Dallas-Fort Worth International\", \"Phoenix Sky Harbor International\", \"Denver Intl\", \"George Bush Intercontinental\", \"San Francisco International\", \"Los Angeles International\", \"Orlando International\", \"Charlotte/Douglas International\", \"Salt Lake City Intl\", \"Tampa International \", \"Newark Intl\", \"McCarran International\", \"Philadelphia Intl\", \"Minneapolis-St Paul Intl\", \"Seattle-Tacoma Intl\", \"LaGuardia\", \"Chicago Midway\", \"Washington Dulles International\", \"San Diego International-Lindbergh \", \"Lambert-St Louis International\", \"Detroit Metropolitan-Wayne County\", \"John F Kennedy Intl\", \"Miami International\", \"Gen Edw L Logan Intl\", \"Sacramento International\", \"Baltimore-Washington International\", \"John Wayne /Orange Co\", \"New Orleans International \", \"San Jose International\", \"Ronald Reagan Washington National\", \"Portland Intl\", \"Southwest Florida International\", \"Palm Beach International\", \"Raleigh-Durham International\", \"William P Hobby\", \"San Antonio International\", \"Fort Lauderdale-Hollywood Int'l\", \"Kansas City International\", \"Metropolitan Oakland International\", \"Pittsburgh International\", \"Memphis International\", \"General Mitchell International\", \"Cleveland-Hopkins Intl\", \"Jacksonville International\", \"Tucson International\", \"Indianapolis International\", \"Reno/Tahoe International\", \"Will Rogers World\", \"Theodore F Green State\", \"Tulsa International\", \"Cincinnati Northern Kentucky Intl\", \"Port Columbus Intl\", \"Louisville International-Standiford \", \"Ontario International\", \"Adams \", \"Dallas Love \", \"Eppley Airfield\", \"Norfolk International\", \"James M Cox Dayton Intl\", \"Greater Rochester Int'l\", \"Northwest Arkansas Regional\", \"Nashville International\", \"Albuquerque International\", \"Jackson International\", \"El Paso International\", \"Richmond International\", \"Bradley International\", \"Midland International\", \"Baton Rouge Metropolitan, Ryan \", \"McGhee-Tyson\", \"City of Colorado Springs Muni\", \"Pensacola Regional\", \"Syracuse-Hancock Intl\", \"Birmingham International\", \"Manchester\", \"Palm Springs International\", \"Sarasota Bradenton International\", \"Corpus Christi International\", \"Huntsville International \", \"Columbia Metropolitan\", \"Lafayette Regional\", \"Santa Barbara Municipal\", \"Spokane Intl\", \"Mobile Regional\", \"Wichita Mid-Continent\", \"Buffalo Niagara Intl\", \"Des Moines International\", \"Harrisburg Intl\", \"Portland International Jetport\", \"Montgomery Regional Apt\", \"Newport News/Williamsburg International\", \"Westchester Cty\", \"Monterey Peninsula\", \"Kent County International\", \"Florida Beach\", \"Yuma MCAS-Yuma International\", \"Aspen-Pitkin Co/Sardy \", \"Tallahassee Regional\", \"Gulfport-Biloxi Regional\", \"Rapid City Regional\", \"Long Beach (Daugherty )\", \"Wilmington International\", \"Blue Grass \", \"Dane County Regional\", \"Mahlon Sweet \", \"Savannah International\", \"Lubbock International\", \"Eastern Iowa \", \"Greenville-Spartanburg\", \"Piedmont Triad International\", \"Long Island - MacArthur\", \"Quad City\", \"Asheville Regional\", \"Akron-Canton Regional\", \"Central Illinois Regional\", \"Valley International\", \"Eglin Air Force Base\", \"Shreveport Regional\", \"Hector International\", \"Yampa Valley\", \"Rogue Valley International\", \"Greater Peoria Regional\", \"Laredo International\", \"Austin-Bergstrom International\", \"Abilene Regional\", \"Springfield-Branson Regional\", \"Bishop\", \"Tri-Cities Regional\", \"Robert Gray AAF\", \"Charleston AFB/International\", \"Austin Straubel International\", \"Roberts \", \"Columbus Metropolitan\", \"South Bend Regional\", \"Boise Air Terminal\", \"Myrtle Beach International\", \"Minot International\", \"University of Illinois-Willard\", \"Roanoke Regional/ Woodrum \", \"Eagle County Regional\", \"Jackson Hole\", \"Gallatin \", \"Walker \", \"Burbank-Glendale-Pasadena\", \"Evansville Regional\", \"Gunnison County\", \"Idaho Falls Regional\", \"Fresno Yosemite International\", \"Capital\", \"McAllen Miller International\", \"Redding Municipal\", \"Grand Forks International\", \"Joe Foss \", \"Joslin Field - Magic Valley\", \"Santa Maria Pub/Capt G Allan Hancock \", \"Pocatello Regional\", \"Dothan \", \"Albert J Ellis\", \"Montrose Regional\", \"Bismarck Municipal\", \"Natrona County Intl\", \"Cherry Capital\", \"Monroe Regional\", \"Tri-Cities\", \"Manhattan Regional\", \"Alexandria International\", \"North Bend Muni\", \"Santa Fe Municipal\", \"Klamath Falls International\", \"Stewart\", \"Charlottesville-Albermarle\", \"Valdosta Regional\", \"Central Wisconsin\", \"Inyokern\", \"Arcata\", \"Glynco Jetport\", \"Lincoln Municipal\", \"Fort Wayne International\", \"Yellowstone Regional\", \"Barkley Regional\", \"San Luis Obispo Co-McChesney \", \"Wilkes-Barre/Scranton Intl\", \"Golden Triangle Regional\", \"Gillette-Campbell County\", \"Craven County Regional\", \"Bush \", \"Fort Smith Regional\", \"Tyler Pounds \", \"Helena Regional\", \"Great Falls Intl\", \"Key \", \"Marquette County Airport\", \"Telluride Regional\", \"Lovell \", \"Lewiston-Nez Perce County\", \"Cedar City Muni\", \"Albany Cty\", \"Burlington International\", \"Glacier Park Intl\", \"Melbourne International \", \"Daytona Beach International\", \"Lehigh Valley International\", \"Duluth International\", \"Cheyenne\", \"Rock Springs-Sweetwater County\", \"Greenbrier Valley\", \"Yeager\", \"Bellingham Intl\", \"Mammoth Yosemite\", \"Outagamie County Regional\", \"Branson Airport\", \"St. Petersburg-Clearwater International\", \"Sheppard AFB/Wichita Falls Municipal\", \"Fayetteville Municipal\", \"Chippewa Valley Regional\", \"Dubuque Municipal\", \"Rochester International\", \"Tunica Municipal Airport\", \"Billings Logan Intl\"], \"lon\": [-87.90446417, -84.42694444, -97.0372, -112.00805559999999, -104.6670019, -95.33972222, -122.3748433, -118.40807439999999, -81.31602778, -80.94312583, -111.9777731, -82.53325, -74.16866056, -115.15233329999998, -75.24114083, -93.2169225, -122.30931310000001, -73.87260917, -87.75242444, -77.45580972, -117.1896567, -90.35998972, -83.34883583, -73.77892556, -80.29055556, -71.00517917, -121.5907669, -76.66819833, -117.86822250000002, -90.25802778, -121.92900890000001, -77.03772222, -122.5975, -81.75516667, -80.09559417, -78.78747222, -95.27888889, -98.46977778, -80.15275, -94.71390556, -122.22071670000001, -80.23287083, -89.97666667, -87.89658333, -81.84939667, -81.68786111, -110.94102779999999, -86.29438417, -119.76806470000001, -97.60073389, -71.42822111, -95.88824167, -84.6621725, -82.89188278, -85.736, -117.60119440000001, -92.22424556, -96.85177222, -95.89417306, -76.20122222, -84.219375, -77.67238389, -94.30681111, -86.67818222, -106.6091944, -90.07588889, -106.37780559999999, -77.31966667, -72.68322833, -102.20191390000001, -91.14963444, -83.99285583, -104.70025, -87.18744444, -76.10631056, -86.75354972, -71.43705583, -116.5062531, -82.55411111, -97.50121528, -86.77310944, -81.11953944, -91.987655, -119.8403733, -117.5338425, -88.24283333, -97.43304583, -78.73216667, -93.66068222, -76.76340361, -70.30875, -86.39397611, -76.4929875, -73.70757444, -121.84294779999999, -85.52276778, -84.550781, -114.60597220000001, -106.868845, -84.35033333, -89.07009278, -103.0573708, -118.1516111, -77.90255556, -84.60538889, -89.33751361, -123.21868559999999, -81.20213889, -101.8227778, -91.71087222, -82.21885833, -79.9372975, -73.10021194, -90.50753917, -82.54180556, -81.44246556, -88.91595278, -97.65439389, -86.5254, -93.82559833, -96.81498889, -107.21765970000001, -122.8734978, -89.69330556, -99.46154361, -97.66987194, -99.68189722, -93.38685806, -83.74345639, -82.40742056, -97.82779778, -80.04050583, -88.12959000000001, -121.1499633, -84.93886111, -86.31847417, -116.22277779999999, -78.92833333, -101.2803339, -88.27805556, -79.97542833, -106.91769529999999, -110.7377389, -111.15300719999999, -108.5267347, -118.3584969, -87.53062667, -106.9331817, -112.07016670000002, -119.7181389, -89.67761861, -98.23861111, -122.2934019, -97.17611111, -96.74170028, -114.4877356, -120.4575825, -112.59586110000001, -85.44962889, -77.61213778, -107.89383329999998, -100.74672220000001, -106.46446609999998, -85.582235, -92.03768778, -119.11902920000001, -96.67083278, -92.54855611, -124.2460278, -106.08813889999999, -121.7332081, -74.10483833, -78.45286111, -83.27672222, -89.66677944, -117.8295122, -124.1086189, -81.46630556, -96.75925, -85.19514639, -109.02379609999998, -88.77375, -120.64239309999999, -75.72426750000001, -88.59136861, -105.5393614, -77.04294444, -81.96449611, -94.36744111, -95.40238611, -111.9827503, -111.37068529999999, -88.75120556, -87.395361, -107.90848000000001, -85.20378778, -117.01539440000002, -113.098575, -73.80297861, -73.1503125, -114.25506940000001, -80.64580556, -81.05805556, -75.44040167, -92.19364861, -104.81183809999999, -109.0651928, -80.39947222, -81.59318972, -122.53752779999999, -118.8377722, -88.51947556, -92.548828, -82.68743944, -98.49189333, -78.88, -91.48507194, -90.70916722, -92.49798722, -90.348816, -108.54286110000001], \"lat\": [41.979595, 33.64044444, 32.89595056, 33.43416667, 39.85840806, 29.98047222, 37.61900194, 33.94253611, 28.42888889, 35.21401111, 40.78838778, 27.97547222, 40.69249722, 36.08036111, 39.87195278, 44.88054694, 47.44898194, 40.77724306, 41.7859825, 38.94453194, 32.73355611, 38.74768694, 42.21205889, 40.63975111, 25.79325, 42.3643475, 38.69542167, 39.17540167, 33.67565861, 29.99338889, 37.36186194, 38.85208333, 45.58872222, 26.53616667, 26.68316194, 35.87763889, 29.64541861, 29.53369444, 26.07258333, 39.29760528, 37.72129083, 40.49146583, 35.04241667, 42.94722222, 41.41089417, 30.49405556, 32.11608333, 39.71732917, 39.49857611, 35.39308833, 41.72399917, 36.19837222, 39.04614278, 39.99798528, 38.17438889, 34.056, 34.72939611, 32.84711389, 41.30251861, 36.89461111, 39.90237583, 43.11886611, 36.28186944, 36.12447667, 35.04022222, 32.31116667, 31.80666667, 37.50516667, 41.93887417, 31.94252778, 30.53316083, 35.81248722, 38.80580556, 30.47330556, 43.11118694, 33.56294306, 42.93451639, 33.82921556, 27.39533333, 27.77036083, 34.6404475, 33.93884, 30.20527972, 34.42621194, 47.61985556, 30.69141667, 37.64995889, 42.94052472, 41.53493306, 40.19349528, 43.64616667, 32.30064417, 37.13189556, 41.06695778, 36.5869825, 42.88081972, 30.448674, 32.65658333, 39.22316, 30.39652778, 30.40728028, 44.04532139, 33.81772222, 34.27061111, 38.03697222, 43.13985778, 44.123259999999995, 32.12758333, 33.66363889, 41.88458833, 34.89566722, 36.09774694, 40.7952425, 41.44852639, 35.43619444, 40.91631194, 40.47798556, 26.22850611, 30.48325, 32.446627500000005, 46.91934889, 40.48118028, 42.37422778, 40.66424333, 27.54373861, 30.19453278, 32.41132, 37.24432611, 42.96550333, 36.47521417, 31.06489778, 32.89864639, 44.48507333, 44.25406722, 32.51633333, 41.70895361, 43.56444444, 33.67975, 48.25937778, 40.03925, 37.32546833, 39.64256778, 43.60732417, 45.77690139, 39.1224125, 34.20061917, 38.03799139, 38.53396333, 43.51455556, 36.77619444, 39.84395194, 26.17583333, 40.50898361, 47.949255, 43.58135111, 42.48180389, 34.89924833, 42.91130556, 31.32133917, 34.82916444, 38.50886722, 46.77411111, 42.90835556, 44.74144472, 32.51086556, 46.26468028, 39.14096722, 31.32737167, 43.41713889, 35.61677778, 42.15614361, 41.50409361, 38.13863889, 30.7825, 44.77761917, 35.65884306, 40.97811528, 31.25902778, 40.85097222, 40.97846583, 44.52019417, 37.06083333, 35.23705806, 41.33814944, 33.45033444, 44.34889806, 35.07297222, 33.369955, 35.33659028, 32.35413889, 46.60681806, 47.48200194, 32.33313333, 46.353639, 37.95375861, 35.03526833, 46.37449806, 37.70097028, 42.74811944, 44.47300361, 48.31140472, 28.10275, 29.17991667, 40.65236278, 46.84209028, 41.155722499999996, 41.5942175, 37.85830556, 38.37315083, 48.79275, 37.62404861, 44.25740806, 36.385913, 27.91076333, 33.98879611, 34.99147222, 44.86525722, 42.40295944, 43.90882639, 34.681499, 45.8076625], \"locationmode\": \"USA-states\", \"hoverinfo\": \"text\", \"type\": \"scattergeo\", \"marker\": {\"line\": {\"width\": 3, \"color\": \"rgba(68, 68, 68, 0)\"}, \"size\": 2, \"color\": \"rgb(255, 0, 0)\"}, \"mode\": \"markers\"}], {\"showlegend\": false, \"geo\": {\"landcolor\": \"rgb(243, 243, 243)\", \"scope\": \"world\", \"projection\": {\"type\": \"equirectangular\"}, \"countrycolor\": \"rgb(204, 204, 204)\", \"showland\": true}}, {\"linkText\": \"Export to plot.ly\", \"showLink\": true})});</script>"
      ],
      "text/vnd.plotly.v1+html": [
       "<div id=\"d5eb1833-12cd-4ead-a0a9-201d99d8c1c3\" style=\"height: 525px; width: 100%;\" class=\"plotly-graph-div\"></div><script type=\"text/javascript\">require([\"plotly\"], function(Plotly) { window.PLOTLYENV=window.PLOTLYENV || {};window.PLOTLYENV.BASE_URL=\"https://plot.ly\";Plotly.newPlot(\"d5eb1833-12cd-4ead-a0a9-201d99d8c1c3\", [{\"lon\": [-97.0372, -106.6091944], \"opacity\": 0.48577680525164113, \"lat\": [32.89595056, 35.04022222], \"locationmode\": \"USA-states\", \"type\": \"scattergeo\", \"line\": {\"width\": 1, \"color\": \"red\"}, \"mode\": \"lines\"}, {\"lon\": [-87.90446417, -97.66987194], \"opacity\": 0.18161925601750548, \"lat\": [41.979595, 30.19453278], \"locationmode\": \"USA-states\", \"type\": \"scattergeo\", \"line\": {\"width\": 1, \"color\": \"red\"}, \"mode\": \"lines\"}, {\"lon\": [-97.0372, -72.68322833], \"opacity\": 0.1772428884026258, \"lat\": [32.89595056, 41.93887417], \"locationmode\": \"USA-states\", \"type\": \"scattergeo\", \"line\": {\"width\": 1, \"color\": \"red\"}, \"mode\": \"lines\"}, {\"lon\": [-66.00183333, -72.68322833], \"opacity\": 0.061269146608315096, \"lat\": [18.43941667, 41.93887417], \"locationmode\": \"USA-states\", \"type\": \"scattergeo\", \"line\": {\"width\": 1, \"color\": \"red\"}, \"mode\": \"lines\"}, {\"lon\": [-97.0372, -86.75354972], \"opacity\": 0.1838074398249453, \"lat\": [32.89595056, 33.56294306], \"locationmode\": \"USA-states\", \"type\": \"scattergeo\", \"line\": {\"width\": 1, \"color\": \"red\"}, \"mode\": \"lines\"}, {\"lon\": [-80.29055556, -86.67818222], \"opacity\": 0.061269146608315096, \"lat\": [25.79325, 36.12447667], \"locationmode\": \"USA-states\", \"type\": \"scattergeo\", \"line\": {\"width\": 1, \"color\": \"red\"}, \"mode\": \"lines\"}, {\"lon\": [-97.0372, -71.00517917], \"opacity\": 0.4617067833698031, \"lat\": [32.89595056, 42.3643475], \"locationmode\": \"USA-states\", \"type\": \"scattergeo\", \"line\": {\"width\": 1, \"color\": \"red\"}, \"mode\": \"lines\"}, {\"lon\": [-80.29055556, -71.00517917], \"opacity\": 0.4288840262582057, \"lat\": [25.79325, 42.3643475], \"locationmode\": \"USA-states\", \"type\": \"scattergeo\", \"line\": {\"width\": 1, \"color\": \"red\"}, \"mode\": \"lines\"}, {\"lon\": [-87.90446417, -71.00517917], \"opacity\": 0.47045951859956237, \"lat\": [41.979595, 42.3643475], \"locationmode\": \"USA-states\", \"type\": \"scattergeo\", \"line\": {\"width\": 1, \"color\": \"red\"}, \"mode\": \"lines\"}, {\"lon\": [-66.00183333, -71.00517917], \"opacity\": 0.061269146608315096, \"lat\": [18.43941667, 42.3643475], \"locationmode\": \"USA-states\", \"type\": \"scattergeo\", \"line\": {\"width\": 1, \"color\": \"red\"}, \"mode\": \"lines\"}, {\"lon\": [-64.97336111, -71.00517917], \"opacity\": 0.04814004376367615, \"lat\": [18.33730556, 42.3643475], \"locationmode\": \"USA-states\", \"type\": \"scattergeo\", \"line\": {\"width\": 1, \"color\": \"red\"}, \"mode\": \"lines\"}, {\"lon\": [-80.29055556, -76.66819833], \"opacity\": 0.12253829321663019, \"lat\": [25.79325, 39.17540167], \"locationmode\": \"USA-states\", \"type\": \"scattergeo\", \"line\": {\"width\": 1, \"color\": \"red\"}, \"mode\": \"lines\"}, {\"lon\": [-66.00183333, -76.66819833], \"opacity\": 0.061269146608315096, \"lat\": [18.43941667, 39.17540167], \"locationmode\": \"USA-states\", \"type\": \"scattergeo\", \"line\": {\"width\": 1, \"color\": \"red\"}, \"mode\": \"lines\"}, {\"lon\": [-97.0372, -80.94312583], \"opacity\": 0.3938730853391685, \"lat\": [32.89595056, 35.21401111], \"locationmode\": \"USA-states\", \"type\": \"scattergeo\", \"line\": {\"width\": 1, \"color\": \"red\"}, \"mode\": \"lines\"}, {\"lon\": [-97.0372, -104.70025], \"opacity\": 0.3041575492341357, \"lat\": [32.89595056, 38.80580556], \"locationmode\": \"USA-states\", \"type\": \"scattergeo\", \"line\": {\"width\": 1, \"color\": \"red\"}, \"mode\": \"lines\"}, {\"lon\": [-97.0372, -84.219375], \"opacity\": 0.1137855579868709, \"lat\": [32.89595056, 39.90237583], \"locationmode\": \"USA-states\", \"type\": \"scattergeo\", \"line\": {\"width\": 1, \"color\": \"red\"}, \"mode\": \"lines\"}, {\"lon\": [-97.0372, -77.03772222], \"opacity\": 0.6433260393873085, \"lat\": [32.89595056, 38.85208333], \"locationmode\": \"USA-states\", \"type\": \"scattergeo\", \"line\": {\"width\": 1, \"color\": \"red\"}, \"mode\": \"lines\"}, {\"lon\": [-80.29055556, -104.6670019], \"opacity\": 0.12253829321663019, \"lat\": [25.79325, 39.85840806], \"locationmode\": \"USA-states\", \"type\": \"scattergeo\", \"line\": {\"width\": 1, \"color\": \"red\"}, \"mode\": \"lines\"}, {\"lon\": [-87.90446417, -104.6670019], \"opacity\": 0.12253829321663019, \"lat\": [41.979595, 39.85840806], \"locationmode\": \"USA-states\", \"type\": \"scattergeo\", \"line\": {\"width\": 1, \"color\": \"red\"}, \"mode\": \"lines\"}, {\"lon\": [-84.42694444, -97.0372], \"opacity\": 0.6345733041575492, \"lat\": [33.64044444, 32.89595056], \"locationmode\": \"USA-states\", \"type\": \"scattergeo\", \"line\": {\"width\": 1, \"color\": \"red\"}, \"mode\": \"lines\"}, {\"lon\": [-97.66987194, -97.0372], \"opacity\": 0.8971553610503282, \"lat\": [30.19453278, 32.89595056], \"locationmode\": \"USA-states\", \"type\": \"scattergeo\", \"line\": {\"width\": 1, \"color\": \"red\"}, \"mode\": \"lines\"}, {\"lon\": [-86.67818222, -97.0372], \"opacity\": 0.47702407002188185, \"lat\": [36.12447667, 32.89595056], \"locationmode\": \"USA-states\", \"type\": \"scattergeo\", \"line\": {\"width\": 1, \"color\": \"red\"}, \"mode\": \"lines\"}, {\"lon\": [-118.3584969, -97.0372], \"opacity\": 0.2275711159737418, \"lat\": [34.20061917, 32.89595056], \"locationmode\": \"USA-states\", \"type\": \"scattergeo\", \"line\": {\"width\": 1, \"color\": \"red\"}, \"mode\": \"lines\"}, {\"lon\": [-76.66819833, -97.0372], \"opacity\": 0.35667396061269147, \"lat\": [39.17540167, 32.89595056], \"locationmode\": \"USA-states\", \"type\": \"scattergeo\", \"line\": {\"width\": 1, \"color\": \"red\"}, \"mode\": \"lines\"}, {\"lon\": [-82.89188278, -97.0372], \"opacity\": 0.1137855579868709, \"lat\": [39.99798528, 32.89595056], \"locationmode\": \"USA-states\", \"type\": \"scattergeo\", \"line\": {\"width\": 1, \"color\": \"red\"}, \"mode\": \"lines\"}, {\"lon\": [-104.6670019, -97.0372], \"opacity\": 0.6105032822757112, \"lat\": [39.85840806, 32.89595056], \"locationmode\": \"USA-states\", \"type\": \"scattergeo\", \"line\": {\"width\": 1, \"color\": \"red\"}, \"mode\": \"lines\"}, {\"lon\": [-83.34883583, -97.0372], \"opacity\": 0.2844638949671772, \"lat\": [42.21205889, 32.89595056], \"locationmode\": \"USA-states\", \"type\": \"scattergeo\", \"line\": {\"width\": 1, \"color\": \"red\"}, \"mode\": \"lines\"}, {\"lon\": [-106.91769529999999, -97.0372], \"opacity\": 0.1487964989059081, \"lat\": [39.64256778, 32.89595056], \"locationmode\": \"USA-states\", \"type\": \"scattergeo\", \"line\": {\"width\": 1, \"color\": \"red\"}, \"mode\": \"lines\"}, {\"lon\": [-74.16866056, -97.0372], \"opacity\": 0.33916849015317285, \"lat\": [40.69249722, 32.89595056], \"locationmode\": \"USA-states\", \"type\": \"scattergeo\", \"line\": {\"width\": 1, \"color\": \"red\"}, \"mode\": \"lines\"}, {\"lon\": [-119.7181389, -97.0372], \"opacity\": 0.12253829321663019, \"lat\": [36.77619444, 32.89595056], \"locationmode\": \"USA-states\", \"type\": \"scattergeo\", \"line\": {\"width\": 1, \"color\": \"red\"}, \"mode\": \"lines\"}, {\"lon\": [-80.15275, -97.0372], \"opacity\": 0.3676148796498906, \"lat\": [26.07258333, 32.89595056], \"locationmode\": \"USA-states\", \"type\": \"scattergeo\", \"line\": {\"width\": 1, \"color\": \"red\"}, \"mode\": \"lines\"}, {\"lon\": [-86.77310944, -97.0372], \"opacity\": 0.17286652078774617, \"lat\": [34.6404475, 32.89595056], \"locationmode\": \"USA-states\", \"type\": \"scattergeo\", \"line\": {\"width\": 1, \"color\": \"red\"}, \"mode\": \"lines\"}, {\"lon\": [-95.33972222, -97.0372], \"opacity\": 0.3544857768052516, \"lat\": [29.98047222, 32.89595056], \"locationmode\": \"USA-states\", \"type\": \"scattergeo\", \"line\": {\"width\": 1, \"color\": \"red\"}, \"mode\": \"lines\"}, {\"lon\": [-118.40807439999999, -97.0372], \"opacity\": 1.0, \"lat\": [33.94253611, 32.89595056], \"locationmode\": \"USA-states\", \"type\": \"scattergeo\", \"line\": {\"width\": 1, \"color\": \"red\"}, \"mode\": \"lines\"}, {\"lon\": [-94.71390556, -97.0372], \"opacity\": 0.47702407002188185, \"lat\": [39.29760528, 32.89595056], \"locationmode\": \"USA-states\", \"type\": \"scattergeo\", \"line\": {\"width\": 1, \"color\": \"red\"}, \"mode\": \"lines\"}, {\"lon\": [-81.31602778, -97.0372], \"opacity\": 0.5470459518599562, \"lat\": [28.42888889, 32.89595056], \"locationmode\": \"USA-states\", \"type\": \"scattergeo\", \"line\": {\"width\": 1, \"color\": \"red\"}, \"mode\": \"lines\"}, {\"lon\": [-89.97666667, -97.0372], \"opacity\": 0.23413566739606126, \"lat\": [35.04241667, 32.89595056], \"locationmode\": \"USA-states\", \"type\": \"scattergeo\", \"line\": {\"width\": 1, \"color\": \"red\"}, \"mode\": \"lines\"}, {\"lon\": [-98.23861111, -97.0372], \"opacity\": 0.23413566739606126, \"lat\": [26.17583333, 32.89595056], \"locationmode\": \"USA-states\", \"type\": \"scattergeo\", \"line\": {\"width\": 1, \"color\": \"red\"}, \"mode\": \"lines\"}, {\"lon\": [-80.29055556, -97.0372], \"opacity\": 0.612691466083151, \"lat\": [25.79325, 32.89595056], \"locationmode\": \"USA-states\", \"type\": \"scattergeo\", \"line\": {\"width\": 1, \"color\": \"red\"}, \"mode\": \"lines\"}, {\"lon\": [-93.2169225, -97.0372], \"opacity\": 0.35667396061269147, \"lat\": [44.88054694, 32.89595056], \"locationmode\": \"USA-states\", \"type\": \"scattergeo\", \"line\": {\"width\": 1, \"color\": \"red\"}, \"mode\": \"lines\"}, {\"lon\": [-107.89383329999998, -97.0372], \"opacity\": 0.0175054704595186, \"lat\": [38.50886722, 32.89595056], \"locationmode\": \"USA-states\", \"type\": \"scattergeo\", \"line\": {\"width\": 1, \"color\": \"red\"}, \"mode\": \"lines\"}, {\"lon\": [-156.43045780000003, -97.0372], \"opacity\": 0.061269146608315096, \"lat\": [20.89864972, 32.89595056], \"locationmode\": \"USA-states\", \"type\": \"scattergeo\", \"line\": {\"width\": 1, \"color\": \"red\"}, \"mode\": \"lines\"}, {\"lon\": [-97.60073389, -97.0372], \"opacity\": 0.42669584245076586, \"lat\": [35.39308833, 32.89595056], \"locationmode\": \"USA-states\", \"type\": \"scattergeo\", \"line\": {\"width\": 1, \"color\": \"red\"}, \"mode\": \"lines\"}, {\"lon\": [-95.89417306, -97.0372], \"opacity\": 0.2975929978118162, \"lat\": [41.30251861, 32.89595056], \"locationmode\": \"USA-states\", \"type\": \"scattergeo\", \"line\": {\"width\": 1, \"color\": \"red\"}, \"mode\": \"lines\"}, {\"lon\": [-87.90446417, -97.0372], \"opacity\": 0.9026258205689278, \"lat\": [41.979595, 32.89595056], \"locationmode\": \"USA-states\", \"type\": \"scattergeo\", \"line\": {\"width\": 1, \"color\": \"red\"}, \"mode\": \"lines\"}, {\"lon\": [-75.24114083, -97.0372], \"opacity\": 0.3522975929978118, \"lat\": [39.87195278, 32.89595056], \"locationmode\": \"USA-states\", \"type\": \"scattergeo\", \"line\": {\"width\": 1, \"color\": \"red\"}, \"mode\": \"lines\"}, {\"lon\": [-112.00805559999999, -97.0372], \"opacity\": 0.6017505470459519, \"lat\": [33.43416667, 32.89595056], \"locationmode\": \"USA-states\", \"type\": \"scattergeo\", \"line\": {\"width\": 1, \"color\": \"red\"}, \"mode\": \"lines\"}, {\"lon\": [-77.31966667, -97.0372], \"opacity\": 0.18161925601750548, \"lat\": [37.50516667, 32.89595056], \"locationmode\": \"USA-states\", \"type\": \"scattergeo\", \"line\": {\"width\": 1, \"color\": \"red\"}, \"mode\": \"lines\"}, {\"lon\": [-119.76806470000001, -97.0372], \"opacity\": 0.16411378555798686, \"lat\": [39.49857611, 32.89595056], \"locationmode\": \"USA-states\", \"type\": \"scattergeo\", \"line\": {\"width\": 1, \"color\": \"red\"}, \"mode\": \"lines\"}, {\"lon\": [-117.1896567, -97.0372], \"opacity\": 0.5470459518599562, \"lat\": [32.73355611, 32.89595056], \"locationmode\": \"USA-states\", \"type\": \"scattergeo\", \"line\": {\"width\": 1, \"color\": \"red\"}, \"mode\": \"lines\"}, {\"lon\": [-98.46977778, -97.0372], \"opacity\": 0.9037199124726477, \"lat\": [29.53369444, 32.89595056], \"locationmode\": \"USA-states\", \"type\": \"scattergeo\", \"line\": {\"width\": 1, \"color\": \"red\"}, \"mode\": \"lines\"}, {\"lon\": [-85.736, -97.0372], \"opacity\": 0.17943107221006566, \"lat\": [38.17438889, 32.89595056], \"locationmode\": \"USA-states\", \"type\": \"scattergeo\", \"line\": {\"width\": 1, \"color\": \"red\"}, \"mode\": \"lines\"}, {\"lon\": [-122.3748433, -97.0372], \"opacity\": 0.5754923413566739, \"lat\": [37.61900194, 32.89595056], \"locationmode\": \"USA-states\", \"type\": \"scattergeo\", \"line\": {\"width\": 1, \"color\": \"red\"}, \"mode\": \"lines\"}, {\"lon\": [-121.92900890000001, -97.0372], \"opacity\": 0.3479212253829322, \"lat\": [37.36186194, 32.89595056], \"locationmode\": \"USA-states\", \"type\": \"scattergeo\", \"line\": {\"width\": 1, \"color\": \"red\"}, \"mode\": \"lines\"}, {\"lon\": [-111.9777731, -97.0372], \"opacity\": 0.3063457330415755, \"lat\": [40.78838778, 32.89595056], \"locationmode\": \"USA-states\", \"type\": \"scattergeo\", \"line\": {\"width\": 1, \"color\": \"red\"}, \"mode\": \"lines\"}, {\"lon\": [-90.35998972, -97.0372], \"opacity\": 0.5317286652078774, \"lat\": [38.74768694, 32.89595056], \"locationmode\": \"USA-states\", \"type\": \"scattergeo\", \"line\": {\"width\": 1, \"color\": \"red\"}, \"mode\": \"lines\"}, {\"lon\": [-94.30681111, -97.0372], \"opacity\": 0.05470459518599562, \"lat\": [36.28186944, 32.89595056], \"locationmode\": \"USA-states\", \"type\": \"scattergeo\", \"line\": {\"width\": 1, \"color\": \"red\"}, \"mode\": \"lines\"}, {\"lon\": [-80.29055556, -83.34883583], \"opacity\": 0.12253829321663019, \"lat\": [25.79325, 42.21205889], \"locationmode\": \"USA-states\", \"type\": \"scattergeo\", \"line\": {\"width\": 1, \"color\": \"red\"}, \"mode\": \"lines\"}, {\"lon\": [-73.87260917, -106.91769529999999], \"opacity\": 0.0087527352297593, \"lat\": [40.77724306, 39.64256778], \"locationmode\": \"USA-states\", \"type\": \"scattergeo\", \"line\": {\"width\": 1, \"color\": \"red\"}, \"mode\": \"lines\"}, {\"lon\": [-87.90446417, -106.91769529999999], \"opacity\": 0.0700218818380744, \"lat\": [41.979595, 39.64256778], \"locationmode\": \"USA-states\", \"type\": \"scattergeo\", \"line\": {\"width\": 1, \"color\": \"red\"}, \"mode\": \"lines\"}, {\"lon\": [-97.0372, -106.37780559999999], \"opacity\": 0.474835886214442, \"lat\": [32.89595056, 31.80666667], \"locationmode\": \"USA-states\", \"type\": \"scattergeo\", \"line\": {\"width\": 1, \"color\": \"red\"}, \"mode\": \"lines\"}, {\"lon\": [-118.40807439999999, -74.16866056], \"opacity\": 0.05908096280087528, \"lat\": [33.94253611, 40.69249722], \"locationmode\": \"USA-states\", \"type\": \"scattergeo\", \"line\": {\"width\": 1, \"color\": \"red\"}, \"mode\": \"lines\"}, {\"lon\": [-80.29055556, -74.16866056], \"opacity\": 0.1838074398249453, \"lat\": [25.79325, 40.69249722], \"locationmode\": \"USA-states\", \"type\": \"scattergeo\", \"line\": {\"width\": 1, \"color\": \"red\"}, \"mode\": \"lines\"}, {\"lon\": [-73.77892556, -80.15275], \"opacity\": 0.12253829321663019, \"lat\": [40.63975111, 26.07258333], \"locationmode\": \"USA-states\", \"type\": \"scattergeo\", \"line\": {\"width\": 1, \"color\": \"red\"}, \"mode\": \"lines\"}, {\"lon\": [-97.0372, -107.21765970000001], \"opacity\": 0.0700218818380744, \"lat\": [32.89595056, 40.48118028], \"locationmode\": \"USA-states\", \"type\": \"scattergeo\", \"line\": {\"width\": 1, \"color\": \"red\"}, \"mode\": \"lines\"}, {\"lon\": [-97.0372, -157.92240719999998], \"opacity\": 0.12253829321663019, \"lat\": [32.89595056, 21.31869111], \"locationmode\": \"USA-states\", \"type\": \"scattergeo\", \"line\": {\"width\": 1, \"color\": \"red\"}, \"mode\": \"lines\"}, {\"lon\": [-118.40807439999999, -157.92240719999998], \"opacity\": 0.2363238512035011, \"lat\": [33.94253611, 21.31869111], \"locationmode\": \"USA-states\", \"type\": \"scattergeo\", \"line\": {\"width\": 1, \"color\": \"red\"}, \"mode\": \"lines\"}, {\"lon\": [-97.0372, -77.45580972], \"opacity\": 0.33698030634573306, \"lat\": [32.89595056, 38.94453194], \"locationmode\": \"USA-states\", \"type\": \"scattergeo\", \"line\": {\"width\": 1, \"color\": \"red\"}, \"mode\": \"lines\"}, {\"lon\": [-118.40807439999999, -77.45580972], \"opacity\": 0.18161925601750548, \"lat\": [33.94253611, 38.94453194], \"locationmode\": \"USA-states\", \"type\": \"scattergeo\", \"line\": {\"width\": 1, \"color\": \"red\"}, \"mode\": \"lines\"}, {\"lon\": [-80.29055556, -77.45580972], \"opacity\": 0.12253829321663019, \"lat\": [25.79325, 38.94453194], \"locationmode\": \"USA-states\", \"type\": \"scattergeo\", \"line\": {\"width\": 1, \"color\": \"red\"}, \"mode\": \"lines\"}, {\"lon\": [-80.29055556, -95.33972222], \"opacity\": 0.1838074398249453, \"lat\": [25.79325, 29.98047222], \"locationmode\": \"USA-states\", \"type\": \"scattergeo\", \"line\": {\"width\": 1, \"color\": \"red\"}, \"mode\": \"lines\"}, {\"lon\": [-97.0372, -97.43304583], \"opacity\": 0.23413566739606126, \"lat\": [32.89595056, 37.64995889], \"locationmode\": \"USA-states\", \"type\": \"scattergeo\", \"line\": {\"width\": 1, \"color\": \"red\"}, \"mode\": \"lines\"}, {\"lon\": [-97.0372, -86.29438417], \"opacity\": 0.3041575492341357, \"lat\": [32.89595056, 39.71732917], \"locationmode\": \"USA-states\", \"type\": \"scattergeo\", \"line\": {\"width\": 1, \"color\": \"red\"}, \"mode\": \"lines\"}, {\"lon\": [-97.0372, -110.7377389], \"opacity\": 0.0262582056892779, \"lat\": [32.89595056, 43.60732417], \"locationmode\": \"USA-states\", \"type\": \"scattergeo\", \"line\": {\"width\": 1, \"color\": \"red\"}, \"mode\": \"lines\"}, {\"lon\": [-97.0372, -81.68786111], \"opacity\": 0.2363238512035011, \"lat\": [32.89595056, 30.49405556], \"locationmode\": \"USA-states\", \"type\": \"scattergeo\", \"line\": {\"width\": 1, \"color\": \"red\"}, \"mode\": \"lines\"}, {\"lon\": [-97.66987194, -73.77892556], \"opacity\": 0.061269146608315096, \"lat\": [30.19453278, 40.63975111], \"locationmode\": \"USA-states\", \"type\": \"scattergeo\", \"line\": {\"width\": 1, \"color\": \"red\"}, \"mode\": \"lines\"}, {\"lon\": [-97.0372, -73.77892556], \"opacity\": 0.061269146608315096, \"lat\": [32.89595056, 40.63975111], \"locationmode\": \"USA-states\", \"type\": \"scattergeo\", \"line\": {\"width\": 1, \"color\": \"red\"}, \"mode\": \"lines\"}, {\"lon\": [-106.91769529999999, -73.77892556], \"opacity\": 0.061269146608315096, \"lat\": [39.64256778, 40.63975111], \"locationmode\": \"USA-states\", \"type\": \"scattergeo\", \"line\": {\"width\": 1, \"color\": \"red\"}, \"mode\": \"lines\"}, {\"lon\": [-81.31602778, -73.77892556], \"opacity\": 0.24507658643326038, \"lat\": [28.42888889, 40.63975111], \"locationmode\": \"USA-states\", \"type\": \"scattergeo\", \"line\": {\"width\": 1, \"color\": \"red\"}, \"mode\": \"lines\"}, {\"lon\": [-80.29055556, -73.77892556], \"opacity\": 0.4288840262582057, \"lat\": [25.79325, 40.63975111], \"locationmode\": \"USA-states\", \"type\": \"scattergeo\", \"line\": {\"width\": 1, \"color\": \"red\"}, \"mode\": \"lines\"}, {\"lon\": [-122.30931310000001, -73.77892556], \"opacity\": 0.061269146608315096, \"lat\": [47.44898194, 40.63975111], \"locationmode\": \"USA-states\", \"type\": \"scattergeo\", \"line\": {\"width\": 1, \"color\": \"red\"}, \"mode\": \"lines\"}, {\"lon\": [-122.3748433, -73.77892556], \"opacity\": 0.3041575492341357, \"lat\": [37.61900194, 40.63975111], \"locationmode\": \"USA-states\", \"type\": \"scattergeo\", \"line\": {\"width\": 1, \"color\": \"red\"}, \"mode\": \"lines\"}, {\"lon\": [-64.97336111, -73.77892556], \"opacity\": 0.061269146608315096, \"lat\": [18.33730556, 40.63975111], \"locationmode\": \"USA-states\", \"type\": \"scattergeo\", \"line\": {\"width\": 1, \"color\": \"red\"}, \"mode\": \"lines\"}, {\"lon\": [-82.53325, -73.77892556], \"opacity\": 0.061269146608315096, \"lat\": [27.97547222, 40.63975111], \"locationmode\": \"USA-states\", \"type\": \"scattergeo\", \"line\": {\"width\": 1, \"color\": \"red\"}, \"mode\": \"lines\"}, {\"lon\": [-97.0372, -115.15233329999998], \"opacity\": 0.6225382932166302, \"lat\": [32.89595056, 36.08036111], \"locationmode\": \"USA-states\", \"type\": \"scattergeo\", \"line\": {\"width\": 1, \"color\": \"red\"}, \"mode\": \"lines\"}, {\"lon\": [-73.77892556, -115.15233329999998], \"opacity\": 0.12253829321663019, \"lat\": [40.63975111, 36.08036111], \"locationmode\": \"USA-states\", \"type\": \"scattergeo\", \"line\": {\"width\": 1, \"color\": \"red\"}, \"mode\": \"lines\"}, {\"lon\": [-118.40807439999999, -115.15233329999998], \"opacity\": 0.24288840262582057, \"lat\": [33.94253611, 36.08036111], \"locationmode\": \"USA-states\", \"type\": \"scattergeo\", \"line\": {\"width\": 1, \"color\": \"red\"}, \"mode\": \"lines\"}, {\"lon\": [-87.90446417, -115.15233329999998], \"opacity\": 0.3063457330415755, \"lat\": [41.979595, 36.08036111], \"locationmode\": \"USA-states\", \"type\": \"scattergeo\", \"line\": {\"width\": 1, \"color\": \"red\"}, \"mode\": \"lines\"}, {\"lon\": [-97.66987194, -118.40807439999999], \"opacity\": 0.1772428884026258, \"lat\": [30.19453278, 33.94253611], \"locationmode\": \"USA-states\", \"type\": \"scattergeo\", \"line\": {\"width\": 1, \"color\": \"red\"}, \"mode\": \"lines\"}, {\"lon\": [-86.67818222, -118.40807439999999], \"opacity\": 0.061269146608315096, \"lat\": [36.12447667, 33.94253611], \"locationmode\": \"USA-states\", \"type\": \"scattergeo\", \"line\": {\"width\": 1, \"color\": \"red\"}, \"mode\": \"lines\"}, {\"lon\": [-71.00517917, -118.40807439999999], \"opacity\": 0.1838074398249453, \"lat\": [42.3643475, 33.94253611], \"locationmode\": \"USA-states\", \"type\": \"scattergeo\", \"line\": {\"width\": 1, \"color\": \"red\"}, \"mode\": \"lines\"}, {\"lon\": [-106.91769529999999, -118.40807439999999], \"opacity\": 0.061269146608315096, \"lat\": [39.64256778, 33.94253611], \"locationmode\": \"USA-states\", \"type\": \"scattergeo\", \"line\": {\"width\": 1, \"color\": \"red\"}, \"mode\": \"lines\"}, {\"lon\": [-73.77892556, -118.40807439999999], \"opacity\": 0.5995623632385121, \"lat\": [40.63975111, 33.94253611], \"locationmode\": \"USA-states\", \"type\": \"scattergeo\", \"line\": {\"width\": 1, \"color\": \"red\"}, \"mode\": \"lines\"}, {\"lon\": [-156.0456314, -118.40807439999999], \"opacity\": 0.061269146608315096, \"lat\": [19.73876583, 33.94253611], \"locationmode\": \"USA-states\", \"type\": \"scattergeo\", \"line\": {\"width\": 1, \"color\": \"red\"}, \"mode\": \"lines\"}, {\"lon\": [-156.43045780000003, -118.40807439999999], \"opacity\": 0.12253829321663019, \"lat\": [20.89864972, 33.94253611], \"locationmode\": \"USA-states\", \"type\": \"scattergeo\", \"line\": {\"width\": 1, \"color\": \"red\"}, \"mode\": \"lines\"}, {\"lon\": [-87.90446417, -118.40807439999999], \"opacity\": 0.5426695842450766, \"lat\": [41.979595, 33.94253611], \"locationmode\": \"USA-states\", \"type\": \"scattergeo\", \"line\": {\"width\": 1, \"color\": \"red\"}, \"mode\": \"lines\"}, {\"lon\": [-90.35998972, -118.40807439999999], \"opacity\": 0.18161925601750548, \"lat\": [38.74768694, 33.94253611], \"locationmode\": \"USA-states\", \"type\": \"scattergeo\", \"line\": {\"width\": 1, \"color\": \"red\"}, \"mode\": \"lines\"}, {\"lon\": [-86.67818222, -73.87260917], \"opacity\": 0.11159737417943107, \"lat\": [36.12447667, 40.77724306], \"locationmode\": \"USA-states\", \"type\": \"scattergeo\", \"line\": {\"width\": 1, \"color\": \"red\"}, \"mode\": \"lines\"}, {\"lon\": [-97.0372, -73.87260917], \"opacity\": 0.849015317286652, \"lat\": [32.89595056, 40.77724306], \"locationmode\": \"USA-states\", \"type\": \"scattergeo\", \"line\": {\"width\": 1, \"color\": \"red\"}, \"mode\": \"lines\"}, {\"lon\": [-90.35998972, -73.87260917], \"opacity\": 0.22538293216630198, \"lat\": [38.74768694, 40.77724306], \"locationmode\": \"USA-states\", \"type\": \"scattergeo\", \"line\": {\"width\": 1, \"color\": \"red\"}, \"mode\": \"lines\"}, {\"lon\": [-118.40807439999999, -159.3389581], \"opacity\": 0.061269146608315096, \"lat\": [33.94253611, 21.97598306], \"locationmode\": \"USA-states\", \"type\": \"scattergeo\", \"line\": {\"width\": 1, \"color\": \"red\"}, \"mode\": \"lines\"}, {\"lon\": [-118.40807439999999, -81.31602778], \"opacity\": 0.061269146608315096, \"lat\": [33.94253611, 28.42888889], \"locationmode\": \"USA-states\", \"type\": \"scattergeo\", \"line\": {\"width\": 1, \"color\": \"red\"}, \"mode\": \"lines\"}, {\"lon\": [-80.29055556, -81.31602778], \"opacity\": 0.49015317286652077, \"lat\": [25.79325, 28.42888889], \"locationmode\": \"USA-states\", \"type\": \"scattergeo\", \"line\": {\"width\": 1, \"color\": \"red\"}, \"mode\": \"lines\"}, {\"lon\": [-84.42694444, -80.29055556], \"opacity\": 0.24507658643326038, \"lat\": [33.64044444, 25.79325], \"locationmode\": \"USA-states\", \"type\": \"scattergeo\", \"line\": {\"width\": 1, \"color\": \"red\"}, \"mode\": \"lines\"}, {\"lon\": [-72.68322833, -80.29055556], \"opacity\": 0.12253829321663019, \"lat\": [41.93887417, 25.79325], \"locationmode\": \"USA-states\", \"type\": \"scattergeo\", \"line\": {\"width\": 1, \"color\": \"red\"}, \"mode\": \"lines\"}, {\"lon\": [-77.03772222, -80.29055556], \"opacity\": 0.5514223194748359, \"lat\": [38.85208333, 25.79325], \"locationmode\": \"USA-states\", \"type\": \"scattergeo\", \"line\": {\"width\": 1, \"color\": \"red\"}, \"mode\": \"lines\"}, {\"lon\": [-106.91769529999999, -80.29055556], \"opacity\": 0.0525164113785558, \"lat\": [39.64256778, 25.79325], \"locationmode\": \"USA-states\", \"type\": \"scattergeo\", \"line\": {\"width\": 1, \"color\": \"red\"}, \"mode\": \"lines\"}, {\"lon\": [-115.15233329999998, -80.29055556], \"opacity\": 0.1838074398249453, \"lat\": [36.08036111, 25.79325], \"locationmode\": \"USA-states\", \"type\": \"scattergeo\", \"line\": {\"width\": 1, \"color\": \"red\"}, \"mode\": \"lines\"}, {\"lon\": [-118.40807439999999, -80.29055556], \"opacity\": 0.4288840262582057, \"lat\": [33.94253611, 25.79325], \"locationmode\": \"USA-states\", \"type\": \"scattergeo\", \"line\": {\"width\": 1, \"color\": \"red\"}, \"mode\": \"lines\"}, {\"lon\": [-73.87260917, -80.29055556], \"opacity\": 0.6728665207877462, \"lat\": [40.77724306, 25.79325], \"locationmode\": \"USA-states\", \"type\": \"scattergeo\", \"line\": {\"width\": 1, \"color\": \"red\"}, \"mode\": \"lines\"}, {\"lon\": [-93.2169225, -80.29055556], \"opacity\": 0.061269146608315096, \"lat\": [44.88054694, 25.79325], \"locationmode\": \"USA-states\", \"type\": \"scattergeo\", \"line\": {\"width\": 1, \"color\": \"red\"}, \"mode\": \"lines\"}, {\"lon\": [-87.90446417, -80.29055556], \"opacity\": 0.5525164113785558, \"lat\": [41.979595, 25.79325], \"locationmode\": \"USA-states\", \"type\": \"scattergeo\", \"line\": {\"width\": 1, \"color\": \"red\"}, \"mode\": \"lines\"}, {\"lon\": [-75.24114083, -80.29055556], \"opacity\": 0.1838074398249453, \"lat\": [39.87195278, 25.79325], \"locationmode\": \"USA-states\", \"type\": \"scattergeo\", \"line\": {\"width\": 1, \"color\": \"red\"}, \"mode\": \"lines\"}, {\"lon\": [-112.00805559999999, -80.29055556], \"opacity\": 0.061269146608315096, \"lat\": [33.43416667, 25.79325], \"locationmode\": \"USA-states\", \"type\": \"scattergeo\", \"line\": {\"width\": 1, \"color\": \"red\"}, \"mode\": \"lines\"}, {\"lon\": [-122.3748433, -80.29055556], \"opacity\": 0.1838074398249453, \"lat\": [37.61900194, 25.79325], \"locationmode\": \"USA-states\", \"type\": \"scattergeo\", \"line\": {\"width\": 1, \"color\": \"red\"}, \"mode\": \"lines\"}, {\"lon\": [-66.00183333, -80.29055556], \"opacity\": 0.49015317286652077, \"lat\": [18.43941667, 25.79325], \"locationmode\": \"USA-states\", \"type\": \"scattergeo\", \"line\": {\"width\": 1, \"color\": \"red\"}, \"mode\": \"lines\"}, {\"lon\": [-95.88824167, -80.29055556], \"opacity\": 0.00437636761487965, \"lat\": [36.19837222, 25.79325], \"locationmode\": \"USA-states\", \"type\": \"scattergeo\", \"line\": {\"width\": 1, \"color\": \"red\"}, \"mode\": \"lines\"}, {\"lon\": [-87.90446417, -93.2169225], \"opacity\": 0.175054704595186, \"lat\": [41.979595, 44.88054694], \"locationmode\": \"USA-states\", \"type\": \"scattergeo\", \"line\": {\"width\": 1, \"color\": \"red\"}, \"mode\": \"lines\"}, {\"lon\": [-97.0372, -90.25802778], \"opacity\": 0.3676148796498906, \"lat\": [32.89595056, 29.99338889], \"locationmode\": \"USA-states\", \"type\": \"scattergeo\", \"line\": {\"width\": 1, \"color\": \"red\"}, \"mode\": \"lines\"}, {\"lon\": [-80.29055556, -90.25802778], \"opacity\": 0.1838074398249453, \"lat\": [25.79325, 29.99338889], \"locationmode\": \"USA-states\", \"type\": \"scattergeo\", \"line\": {\"width\": 1, \"color\": \"red\"}, \"mode\": \"lines\"}, {\"lon\": [-87.90446417, -90.25802778], \"opacity\": 0.16301969365426697, \"lat\": [41.979595, 29.99338889], \"locationmode\": \"USA-states\", \"type\": \"scattergeo\", \"line\": {\"width\": 1, \"color\": \"red\"}, \"mode\": \"lines\"}, {\"lon\": [-97.0372, -117.60119440000001], \"opacity\": 0.24288840262582057, \"lat\": [32.89595056, 34.056], \"locationmode\": \"USA-states\", \"type\": \"scattergeo\", \"line\": {\"width\": 1, \"color\": \"red\"}, \"mode\": \"lines\"}, {\"lon\": [-77.03772222, -87.90446417], \"opacity\": 0.3544857768052516, \"lat\": [38.85208333, 41.979595], \"locationmode\": \"USA-states\", \"type\": \"scattergeo\", \"line\": {\"width\": 1, \"color\": \"red\"}, \"mode\": \"lines\"}, {\"lon\": [-74.16866056, -87.90446417], \"opacity\": 0.1838074398249453, \"lat\": [40.69249722, 41.979595], \"locationmode\": \"USA-states\", \"type\": \"scattergeo\", \"line\": {\"width\": 1, \"color\": \"red\"}, \"mode\": \"lines\"}, {\"lon\": [-80.15275, -87.90446417], \"opacity\": 0.1838074398249453, \"lat\": [26.07258333, 41.979595], \"locationmode\": \"USA-states\", \"type\": \"scattergeo\", \"line\": {\"width\": 1, \"color\": \"red\"}, \"mode\": \"lines\"}, {\"lon\": [-107.21765970000001, -87.90446417], \"opacity\": 0.0525164113785558, \"lat\": [40.48118028, 41.979595], \"locationmode\": \"USA-states\", \"type\": \"scattergeo\", \"line\": {\"width\": 1, \"color\": \"red\"}, \"mode\": \"lines\"}, {\"lon\": [-157.92240719999998, -87.90446417], \"opacity\": 0.05032822757111598, \"lat\": [21.31869111, 41.979595], \"locationmode\": \"USA-states\", \"type\": \"scattergeo\", \"line\": {\"width\": 1, \"color\": \"red\"}, \"mode\": \"lines\"}, {\"lon\": [-110.7377389, -87.90446417], \"opacity\": 0.061269146608315096, \"lat\": [43.60732417, 41.979595], \"locationmode\": \"USA-states\", \"type\": \"scattergeo\", \"line\": {\"width\": 1, \"color\": \"red\"}, \"mode\": \"lines\"}, {\"lon\": [-73.77892556, -87.90446417], \"opacity\": 0.061269146608315096, \"lat\": [40.63975111, 41.979595], \"locationmode\": \"USA-states\", \"type\": \"scattergeo\", \"line\": {\"width\": 1, \"color\": \"red\"}, \"mode\": \"lines\"}, {\"lon\": [-73.87260917, -87.90446417], \"opacity\": 0.9409190371991247, \"lat\": [40.77724306, 41.979595], \"locationmode\": \"USA-states\", \"type\": \"scattergeo\", \"line\": {\"width\": 1, \"color\": \"red\"}, \"mode\": \"lines\"}, {\"lon\": [-94.71390556, -87.90446417], \"opacity\": 0.23413566739606126, \"lat\": [39.29760528, 41.979595], \"locationmode\": \"USA-states\", \"type\": \"scattergeo\", \"line\": {\"width\": 1, \"color\": \"red\"}, \"mode\": \"lines\"}, {\"lon\": [-81.31602778, -87.90446417], \"opacity\": 0.24507658643326038, \"lat\": [28.42888889, 41.979595], \"locationmode\": \"USA-states\", \"type\": \"scattergeo\", \"line\": {\"width\": 1, \"color\": \"red\"}, \"mode\": \"lines\"}, {\"lon\": [-78.78747222, -87.90446417], \"opacity\": 0.17067833698030635, \"lat\": [35.87763889, 41.979595], \"locationmode\": \"USA-states\", \"type\": \"scattergeo\", \"line\": {\"width\": 1, \"color\": \"red\"}, \"mode\": \"lines\"}, {\"lon\": [-119.76806470000001, -87.90446417], \"opacity\": 0.061269146608315096, \"lat\": [39.49857611, 41.979595], \"locationmode\": \"USA-states\", \"type\": \"scattergeo\", \"line\": {\"width\": 1, \"color\": \"red\"}, \"mode\": \"lines\"}, {\"lon\": [-117.1896567, -87.90446417], \"opacity\": 0.24507658643326038, \"lat\": [32.73355611, 41.979595], \"locationmode\": \"USA-states\", \"type\": \"scattergeo\", \"line\": {\"width\": 1, \"color\": \"red\"}, \"mode\": \"lines\"}, {\"lon\": [-98.46977778, -87.90446417], \"opacity\": 0.12253829321663019, \"lat\": [29.53369444, 41.979595], \"locationmode\": \"USA-states\", \"type\": \"scattergeo\", \"line\": {\"width\": 1, \"color\": \"red\"}, \"mode\": \"lines\"}, {\"lon\": [-121.92900890000001, -87.90446417], \"opacity\": 0.12253829321663019, \"lat\": [37.36186194, 41.979595], \"locationmode\": \"USA-states\", \"type\": \"scattergeo\", \"line\": {\"width\": 1, \"color\": \"red\"}, \"mode\": \"lines\"}, {\"lon\": [-66.00183333, -87.90446417], \"opacity\": 0.12253829321663019, \"lat\": [18.43941667, 41.979595], \"locationmode\": \"USA-states\", \"type\": \"scattergeo\", \"line\": {\"width\": 1, \"color\": \"red\"}, \"mode\": \"lines\"}, {\"lon\": [-90.35998972, -87.90446417], \"opacity\": 0.5284463894967177, \"lat\": [38.74768694, 41.979595], \"locationmode\": \"USA-states\", \"type\": \"scattergeo\", \"line\": {\"width\": 1, \"color\": \"red\"}, \"mode\": \"lines\"}, {\"lon\": [-95.88824167, -87.90446417], \"opacity\": 0.061269146608315096, \"lat\": [36.19837222, 41.979595], \"locationmode\": \"USA-states\", \"type\": \"scattergeo\", \"line\": {\"width\": 1, \"color\": \"red\"}, \"mode\": \"lines\"}, {\"lon\": [-110.94102779999999, -87.90446417], \"opacity\": 0.12253829321663019, \"lat\": [32.11608333, 41.979595], \"locationmode\": \"USA-states\", \"type\": \"scattergeo\", \"line\": {\"width\": 1, \"color\": \"red\"}, \"mode\": \"lines\"}, {\"lon\": [-97.0372, -76.20122222], \"opacity\": 0.12253829321663019, \"lat\": [32.89595056, 36.89461111], \"locationmode\": \"USA-states\", \"type\": \"scattergeo\", \"line\": {\"width\": 1, \"color\": \"red\"}, \"mode\": \"lines\"}, {\"lon\": [-97.0372, -80.09559417], \"opacity\": 0.12253829321663019, \"lat\": [32.89595056, 26.68316194], \"locationmode\": \"USA-states\", \"type\": \"scattergeo\", \"line\": {\"width\": 1, \"color\": \"red\"}, \"mode\": \"lines\"}, {\"lon\": [-87.90446417, -80.09559417], \"opacity\": 0.16411378555798686, \"lat\": [41.979595, 26.68316194], \"locationmode\": \"USA-states\", \"type\": \"scattergeo\", \"line\": {\"width\": 1, \"color\": \"red\"}, \"mode\": \"lines\"}, {\"lon\": [-97.0372, -122.5975], \"opacity\": 0.24507658643326038, \"lat\": [32.89595056, 45.58872222], \"locationmode\": \"USA-states\", \"type\": \"scattergeo\", \"line\": {\"width\": 1, \"color\": \"red\"}, \"mode\": \"lines\"}, {\"lon\": [-87.90446417, -75.24114083], \"opacity\": 0.12035010940919037, \"lat\": [41.979595, 39.87195278], \"locationmode\": \"USA-states\", \"type\": \"scattergeo\", \"line\": {\"width\": 1, \"color\": \"red\"}, \"mode\": \"lines\"}, {\"lon\": [-66.00183333, -75.24114083], \"opacity\": 0.061269146608315096, \"lat\": [18.43941667, 39.87195278], \"locationmode\": \"USA-states\", \"type\": \"scattergeo\", \"line\": {\"width\": 1, \"color\": \"red\"}, \"mode\": \"lines\"}, {\"lon\": [-87.90446417, -112.00805559999999], \"opacity\": 0.3063457330415755, \"lat\": [41.979595, 33.43416667], \"locationmode\": \"USA-states\", \"type\": \"scattergeo\", \"line\": {\"width\": 1, \"color\": \"red\"}, \"mode\": \"lines\"}, {\"lon\": [-97.0372, -80.23287083], \"opacity\": 0.18599562363238512, \"lat\": [32.89595056, 40.49146583], \"locationmode\": \"USA-states\", \"type\": \"scattergeo\", \"line\": {\"width\": 1, \"color\": \"red\"}, \"mode\": \"lines\"}, {\"lon\": [-97.0372, -116.5062531], \"opacity\": 0.1838074398249453, \"lat\": [32.89595056, 33.82921556], \"locationmode\": \"USA-states\", \"type\": \"scattergeo\", \"line\": {\"width\": 1, \"color\": \"red\"}, \"mode\": \"lines\"}, {\"lon\": [-87.90446417, -116.5062531], \"opacity\": 0.0700218818380744, \"lat\": [41.979595, 33.82921556], \"locationmode\": \"USA-states\", \"type\": \"scattergeo\", \"line\": {\"width\": 1, \"color\": \"red\"}, \"mode\": \"lines\"}, {\"lon\": [-97.0372, -78.78747222], \"opacity\": 0.3041575492341357, \"lat\": [32.89595056, 35.87763889], \"locationmode\": \"USA-states\", \"type\": \"scattergeo\", \"line\": {\"width\": 1, \"color\": \"red\"}, \"mode\": \"lines\"}, {\"lon\": [-80.29055556, -78.78747222], \"opacity\": 0.1838074398249453, \"lat\": [25.79325, 35.87763889], \"locationmode\": \"USA-states\", \"type\": \"scattergeo\", \"line\": {\"width\": 1, \"color\": \"red\"}, \"mode\": \"lines\"}, {\"lon\": [-97.0372, -81.75516667], \"opacity\": 0.1838074398249453, \"lat\": [32.89595056, 26.53616667], \"locationmode\": \"USA-states\", \"type\": \"scattergeo\", \"line\": {\"width\": 1, \"color\": \"red\"}, \"mode\": \"lines\"}, {\"lon\": [-87.90446417, -81.75516667], \"opacity\": 0.1838074398249453, \"lat\": [41.979595, 26.53616667], \"locationmode\": \"USA-states\", \"type\": \"scattergeo\", \"line\": {\"width\": 1, \"color\": \"red\"}, \"mode\": \"lines\"}, {\"lon\": [-73.77892556, -117.1896567], \"opacity\": 0.061269146608315096, \"lat\": [40.63975111, 32.73355611], \"locationmode\": \"USA-states\", \"type\": \"scattergeo\", \"line\": {\"width\": 1, \"color\": \"red\"}, \"mode\": \"lines\"}, {\"lon\": [-97.0372, -122.30931310000001], \"opacity\": 0.4288840262582057, \"lat\": [32.89595056, 47.44898194], \"locationmode\": \"USA-states\", \"type\": \"scattergeo\", \"line\": {\"width\": 1, \"color\": \"red\"}, \"mode\": \"lines\"}, {\"lon\": [-87.90446417, -122.30931310000001], \"opacity\": 0.23413566739606126, \"lat\": [41.979595, 47.44898194], \"locationmode\": \"USA-states\", \"type\": \"scattergeo\", \"line\": {\"width\": 1, \"color\": \"red\"}, \"mode\": \"lines\"}, {\"lon\": [-157.92240719999998, -122.3748433], \"opacity\": 0.061269146608315096, \"lat\": [21.31869111, 37.61900194], \"locationmode\": \"USA-states\", \"type\": \"scattergeo\", \"line\": {\"width\": 1, \"color\": \"red\"}, \"mode\": \"lines\"}, {\"lon\": [-118.40807439999999, -122.3748433], \"opacity\": 0.3676148796498906, \"lat\": [33.94253611, 37.61900194], \"locationmode\": \"USA-states\", \"type\": \"scattergeo\", \"line\": {\"width\": 1, \"color\": \"red\"}, \"mode\": \"lines\"}, {\"lon\": [-87.90446417, -122.3748433], \"opacity\": 0.35667396061269147, \"lat\": [41.979595, 37.61900194], \"locationmode\": \"USA-states\", \"type\": \"scattergeo\", \"line\": {\"width\": 1, \"color\": \"red\"}, \"mode\": \"lines\"}, {\"lon\": [-97.0372, -66.00183333], \"opacity\": 0.13129102844638948, \"lat\": [32.89595056, 18.43941667], \"locationmode\": \"USA-states\", \"type\": \"scattergeo\", \"line\": {\"width\": 1, \"color\": \"red\"}, \"mode\": \"lines\"}, {\"lon\": [-77.45580972, -66.00183333], \"opacity\": 0.061269146608315096, \"lat\": [38.94453194, 18.43941667], \"locationmode\": \"USA-states\", \"type\": \"scattergeo\", \"line\": {\"width\": 1, \"color\": \"red\"}, \"mode\": \"lines\"}, {\"lon\": [-73.77892556, -66.00183333], \"opacity\": 0.1838074398249453, \"lat\": [40.63975111, 18.43941667], \"locationmode\": \"USA-states\", \"type\": \"scattergeo\", \"line\": {\"width\": 1, \"color\": \"red\"}, \"mode\": \"lines\"}, {\"lon\": [-118.40807439999999, -66.00183333], \"opacity\": 0.0175054704595186, \"lat\": [33.94253611, 18.43941667], \"locationmode\": \"USA-states\", \"type\": \"scattergeo\", \"line\": {\"width\": 1, \"color\": \"red\"}, \"mode\": \"lines\"}, {\"lon\": [-97.0372, -121.5907669], \"opacity\": 0.24507658643326038, \"lat\": [32.89595056, 38.69542167], \"locationmode\": \"USA-states\", \"type\": \"scattergeo\", \"line\": {\"width\": 1, \"color\": \"red\"}, \"mode\": \"lines\"}, {\"lon\": [-97.0372, -117.86822250000002], \"opacity\": 0.6323851203501094, \"lat\": [32.89595056, 33.67565861], \"locationmode\": \"USA-states\", \"type\": \"scattergeo\", \"line\": {\"width\": 1, \"color\": \"red\"}, \"mode\": \"lines\"}, {\"lon\": [-87.90446417, -117.86822250000002], \"opacity\": 0.16630196936542668, \"lat\": [41.979595, 33.67565861], \"locationmode\": \"USA-states\", \"type\": \"scattergeo\", \"line\": {\"width\": 1, \"color\": \"red\"}, \"mode\": \"lines\"}, {\"lon\": [-77.03772222, -90.35998972], \"opacity\": 0.2188183807439825, \"lat\": [38.85208333, 38.74768694], \"locationmode\": \"USA-states\", \"type\": \"scattergeo\", \"line\": {\"width\": 1, \"color\": \"red\"}, \"mode\": \"lines\"}, {\"lon\": [-80.29055556, -90.35998972], \"opacity\": 0.1838074398249453, \"lat\": [25.79325, 38.74768694], \"locationmode\": \"USA-states\", \"type\": \"scattergeo\", \"line\": {\"width\": 1, \"color\": \"red\"}, \"mode\": \"lines\"}, {\"lon\": [-80.29055556, -64.97336111], \"opacity\": 0.12253829321663019, \"lat\": [25.79325, 18.33730556], \"locationmode\": \"USA-states\", \"type\": \"scattergeo\", \"line\": {\"width\": 1, \"color\": \"red\"}, \"mode\": \"lines\"}, {\"lon\": [-80.29055556, -64.79855556], \"opacity\": 0.06783369803063458, \"lat\": [25.79325, 17.70188889], \"locationmode\": \"USA-states\", \"type\": \"scattergeo\", \"line\": {\"width\": 1, \"color\": \"red\"}, \"mode\": \"lines\"}, {\"lon\": [-97.0372, -82.53325], \"opacity\": 0.4288840262582057, \"lat\": [32.89595056, 27.97547222], \"locationmode\": \"USA-states\", \"type\": \"scattergeo\", \"line\": {\"width\": 1, \"color\": \"red\"}, \"mode\": \"lines\"}, {\"lon\": [-80.29055556, -82.53325], \"opacity\": 0.32603938730853393, \"lat\": [25.79325, 27.97547222], \"locationmode\": \"USA-states\", \"type\": \"scattergeo\", \"line\": {\"width\": 1, \"color\": \"red\"}, \"mode\": \"lines\"}, {\"lon\": [-87.90446417, -82.53325], \"opacity\": 0.16411378555798686, \"lat\": [41.979595, 27.97547222], \"locationmode\": \"USA-states\", \"type\": \"scattergeo\", \"line\": {\"width\": 1, \"color\": \"red\"}, \"mode\": \"lines\"}, {\"lon\": [-66.00183333, -82.53325], \"opacity\": 0.061269146608315096, \"lat\": [18.43941667, 27.97547222], \"locationmode\": \"USA-states\", \"type\": \"scattergeo\", \"line\": {\"width\": 1, \"color\": \"red\"}, \"mode\": \"lines\"}, {\"lon\": [-97.0372, -95.88824167], \"opacity\": 0.42669584245076586, \"lat\": [32.89595056, 36.19837222], \"locationmode\": \"USA-states\", \"type\": \"scattergeo\", \"line\": {\"width\": 1, \"color\": \"red\"}, \"mode\": \"lines\"}, {\"lon\": [-97.0372, -110.94102779999999], \"opacity\": 0.45842450765864334, \"lat\": [32.89595056, 32.11608333], \"locationmode\": \"USA-states\", \"type\": \"scattergeo\", \"line\": {\"width\": 1, \"color\": \"red\"}, \"mode\": \"lines\"}, {\"text\": [\"Chicago O'Hare International\", \"William B Hartsfield-Atlanta Intl\", \"Dallas-Fort Worth International\", \"Phoenix Sky Harbor International\", \"Denver Intl\", \"George Bush Intercontinental\", \"San Francisco International\", \"Los Angeles International\", \"Orlando International\", \"Charlotte/Douglas International\", \"Salt Lake City Intl\", \"Tampa International \", \"Newark Intl\", \"McCarran International\", \"Philadelphia Intl\", \"Minneapolis-St Paul Intl\", \"Seattle-Tacoma Intl\", \"LaGuardia\", \"Chicago Midway\", \"Washington Dulles International\", \"San Diego International-Lindbergh \", \"Lambert-St Louis International\", \"Detroit Metropolitan-Wayne County\", \"John F Kennedy Intl\", \"Miami International\", \"Gen Edw L Logan Intl\", \"Sacramento International\", \"Baltimore-Washington International\", \"John Wayne /Orange Co\", \"New Orleans International \", \"San Jose International\", \"Ronald Reagan Washington National\", \"Portland Intl\", \"Southwest Florida International\", \"Palm Beach International\", \"Raleigh-Durham International\", \"William P Hobby\", \"San Antonio International\", \"Fort Lauderdale-Hollywood Int'l\", \"Kansas City International\", \"Metropolitan Oakland International\", \"Pittsburgh International\", \"Memphis International\", \"General Mitchell International\", \"Cleveland-Hopkins Intl\", \"Jacksonville International\", \"Tucson International\", \"Indianapolis International\", \"Reno/Tahoe International\", \"Will Rogers World\", \"Theodore F Green State\", \"Tulsa International\", \"Cincinnati Northern Kentucky Intl\", \"Port Columbus Intl\", \"Louisville International-Standiford \", \"Ontario International\", \"Adams \", \"Dallas Love \", \"Eppley Airfield\", \"Norfolk International\", \"James M Cox Dayton Intl\", \"Greater Rochester Int'l\", \"Northwest Arkansas Regional\", \"Nashville International\", \"Albuquerque International\", \"Jackson International\", \"El Paso International\", \"Richmond International\", \"Bradley International\", \"Midland International\", \"Baton Rouge Metropolitan, Ryan \", \"McGhee-Tyson\", \"City of Colorado Springs Muni\", \"Pensacola Regional\", \"Syracuse-Hancock Intl\", \"Birmingham International\", \"Manchester\", \"Palm Springs International\", \"Sarasota Bradenton International\", \"Corpus Christi International\", \"Huntsville International \", \"Columbia Metropolitan\", \"Lafayette Regional\", \"Santa Barbara Municipal\", \"Spokane Intl\", \"Mobile Regional\", \"Wichita Mid-Continent\", \"Buffalo Niagara Intl\", \"Des Moines International\", \"Harrisburg Intl\", \"Portland International Jetport\", \"Montgomery Regional Apt\", \"Newport News/Williamsburg International\", \"Westchester Cty\", \"Monterey Peninsula\", \"Kent County International\", \"Florida Beach\", \"Yuma MCAS-Yuma International\", \"Aspen-Pitkin Co/Sardy \", \"Tallahassee Regional\", \"Gulfport-Biloxi Regional\", \"Rapid City Regional\", \"Long Beach (Daugherty )\", \"Wilmington International\", \"Blue Grass \", \"Dane County Regional\", \"Mahlon Sweet \", \"Savannah International\", \"Lubbock International\", \"Eastern Iowa \", \"Greenville-Spartanburg\", \"Piedmont Triad International\", \"Long Island - MacArthur\", \"Quad City\", \"Asheville Regional\", \"Akron-Canton Regional\", \"Central Illinois Regional\", \"Valley International\", \"Eglin Air Force Base\", \"Shreveport Regional\", \"Hector International\", \"Yampa Valley\", \"Rogue Valley International\", \"Greater Peoria Regional\", \"Laredo International\", \"Austin-Bergstrom International\", \"Abilene Regional\", \"Springfield-Branson Regional\", \"Bishop\", \"Tri-Cities Regional\", \"Robert Gray AAF\", \"Charleston AFB/International\", \"Austin Straubel International\", \"Roberts \", \"Columbus Metropolitan\", \"South Bend Regional\", \"Boise Air Terminal\", \"Myrtle Beach International\", \"Minot International\", \"University of Illinois-Willard\", \"Roanoke Regional/ Woodrum \", \"Eagle County Regional\", \"Jackson Hole\", \"Gallatin \", \"Walker \", \"Burbank-Glendale-Pasadena\", \"Evansville Regional\", \"Gunnison County\", \"Idaho Falls Regional\", \"Fresno Yosemite International\", \"Capital\", \"McAllen Miller International\", \"Redding Municipal\", \"Grand Forks International\", \"Joe Foss \", \"Joslin Field - Magic Valley\", \"Santa Maria Pub/Capt G Allan Hancock \", \"Pocatello Regional\", \"Dothan \", \"Albert J Ellis\", \"Montrose Regional\", \"Bismarck Municipal\", \"Natrona County Intl\", \"Cherry Capital\", \"Monroe Regional\", \"Tri-Cities\", \"Manhattan Regional\", \"Alexandria International\", \"North Bend Muni\", \"Santa Fe Municipal\", \"Klamath Falls International\", \"Stewart\", \"Charlottesville-Albermarle\", \"Valdosta Regional\", \"Central Wisconsin\", \"Inyokern\", \"Arcata\", \"Glynco Jetport\", \"Lincoln Municipal\", \"Fort Wayne International\", \"Yellowstone Regional\", \"Barkley Regional\", \"San Luis Obispo Co-McChesney \", \"Wilkes-Barre/Scranton Intl\", \"Golden Triangle Regional\", \"Gillette-Campbell County\", \"Craven County Regional\", \"Bush \", \"Fort Smith Regional\", \"Tyler Pounds \", \"Helena Regional\", \"Great Falls Intl\", \"Key \", \"Marquette County Airport\", \"Telluride Regional\", \"Lovell \", \"Lewiston-Nez Perce County\", \"Cedar City Muni\", \"Albany Cty\", \"Burlington International\", \"Glacier Park Intl\", \"Melbourne International \", \"Daytona Beach International\", \"Lehigh Valley International\", \"Duluth International\", \"Cheyenne\", \"Rock Springs-Sweetwater County\", \"Greenbrier Valley\", \"Yeager\", \"Bellingham Intl\", \"Mammoth Yosemite\", \"Outagamie County Regional\", \"Branson Airport\", \"St. Petersburg-Clearwater International\", \"Sheppard AFB/Wichita Falls Municipal\", \"Fayetteville Municipal\", \"Chippewa Valley Regional\", \"Dubuque Municipal\", \"Rochester International\", \"Tunica Municipal Airport\", \"Billings Logan Intl\"], \"lon\": [-87.90446417, -84.42694444, -97.0372, -112.00805559999999, -104.6670019, -95.33972222, -122.3748433, -118.40807439999999, -81.31602778, -80.94312583, -111.9777731, -82.53325, -74.16866056, -115.15233329999998, -75.24114083, -93.2169225, -122.30931310000001, -73.87260917, -87.75242444, -77.45580972, -117.1896567, -90.35998972, -83.34883583, -73.77892556, -80.29055556, -71.00517917, -121.5907669, -76.66819833, -117.86822250000002, -90.25802778, -121.92900890000001, -77.03772222, -122.5975, -81.75516667, -80.09559417, -78.78747222, -95.27888889, -98.46977778, -80.15275, -94.71390556, -122.22071670000001, -80.23287083, -89.97666667, -87.89658333, -81.84939667, -81.68786111, -110.94102779999999, -86.29438417, -119.76806470000001, -97.60073389, -71.42822111, -95.88824167, -84.6621725, -82.89188278, -85.736, -117.60119440000001, -92.22424556, -96.85177222, -95.89417306, -76.20122222, -84.219375, -77.67238389, -94.30681111, -86.67818222, -106.6091944, -90.07588889, -106.37780559999999, -77.31966667, -72.68322833, -102.20191390000001, -91.14963444, -83.99285583, -104.70025, -87.18744444, -76.10631056, -86.75354972, -71.43705583, -116.5062531, -82.55411111, -97.50121528, -86.77310944, -81.11953944, -91.987655, -119.8403733, -117.5338425, -88.24283333, -97.43304583, -78.73216667, -93.66068222, -76.76340361, -70.30875, -86.39397611, -76.4929875, -73.70757444, -121.84294779999999, -85.52276778, -84.550781, -114.60597220000001, -106.868845, -84.35033333, -89.07009278, -103.0573708, -118.1516111, -77.90255556, -84.60538889, -89.33751361, -123.21868559999999, -81.20213889, -101.8227778, -91.71087222, -82.21885833, -79.9372975, -73.10021194, -90.50753917, -82.54180556, -81.44246556, -88.91595278, -97.65439389, -86.5254, -93.82559833, -96.81498889, -107.21765970000001, -122.8734978, -89.69330556, -99.46154361, -97.66987194, -99.68189722, -93.38685806, -83.74345639, -82.40742056, -97.82779778, -80.04050583, -88.12959000000001, -121.1499633, -84.93886111, -86.31847417, -116.22277779999999, -78.92833333, -101.2803339, -88.27805556, -79.97542833, -106.91769529999999, -110.7377389, -111.15300719999999, -108.5267347, -118.3584969, -87.53062667, -106.9331817, -112.07016670000002, -119.7181389, -89.67761861, -98.23861111, -122.2934019, -97.17611111, -96.74170028, -114.4877356, -120.4575825, -112.59586110000001, -85.44962889, -77.61213778, -107.89383329999998, -100.74672220000001, -106.46446609999998, -85.582235, -92.03768778, -119.11902920000001, -96.67083278, -92.54855611, -124.2460278, -106.08813889999999, -121.7332081, -74.10483833, -78.45286111, -83.27672222, -89.66677944, -117.8295122, -124.1086189, -81.46630556, -96.75925, -85.19514639, -109.02379609999998, -88.77375, -120.64239309999999, -75.72426750000001, -88.59136861, -105.5393614, -77.04294444, -81.96449611, -94.36744111, -95.40238611, -111.9827503, -111.37068529999999, -88.75120556, -87.395361, -107.90848000000001, -85.20378778, -117.01539440000002, -113.098575, -73.80297861, -73.1503125, -114.25506940000001, -80.64580556, -81.05805556, -75.44040167, -92.19364861, -104.81183809999999, -109.0651928, -80.39947222, -81.59318972, -122.53752779999999, -118.8377722, -88.51947556, -92.548828, -82.68743944, -98.49189333, -78.88, -91.48507194, -90.70916722, -92.49798722, -90.348816, -108.54286110000001], \"lat\": [41.979595, 33.64044444, 32.89595056, 33.43416667, 39.85840806, 29.98047222, 37.61900194, 33.94253611, 28.42888889, 35.21401111, 40.78838778, 27.97547222, 40.69249722, 36.08036111, 39.87195278, 44.88054694, 47.44898194, 40.77724306, 41.7859825, 38.94453194, 32.73355611, 38.74768694, 42.21205889, 40.63975111, 25.79325, 42.3643475, 38.69542167, 39.17540167, 33.67565861, 29.99338889, 37.36186194, 38.85208333, 45.58872222, 26.53616667, 26.68316194, 35.87763889, 29.64541861, 29.53369444, 26.07258333, 39.29760528, 37.72129083, 40.49146583, 35.04241667, 42.94722222, 41.41089417, 30.49405556, 32.11608333, 39.71732917, 39.49857611, 35.39308833, 41.72399917, 36.19837222, 39.04614278, 39.99798528, 38.17438889, 34.056, 34.72939611, 32.84711389, 41.30251861, 36.89461111, 39.90237583, 43.11886611, 36.28186944, 36.12447667, 35.04022222, 32.31116667, 31.80666667, 37.50516667, 41.93887417, 31.94252778, 30.53316083, 35.81248722, 38.80580556, 30.47330556, 43.11118694, 33.56294306, 42.93451639, 33.82921556, 27.39533333, 27.77036083, 34.6404475, 33.93884, 30.20527972, 34.42621194, 47.61985556, 30.69141667, 37.64995889, 42.94052472, 41.53493306, 40.19349528, 43.64616667, 32.30064417, 37.13189556, 41.06695778, 36.5869825, 42.88081972, 30.448674, 32.65658333, 39.22316, 30.39652778, 30.40728028, 44.04532139, 33.81772222, 34.27061111, 38.03697222, 43.13985778, 44.123259999999995, 32.12758333, 33.66363889, 41.88458833, 34.89566722, 36.09774694, 40.7952425, 41.44852639, 35.43619444, 40.91631194, 40.47798556, 26.22850611, 30.48325, 32.446627500000005, 46.91934889, 40.48118028, 42.37422778, 40.66424333, 27.54373861, 30.19453278, 32.41132, 37.24432611, 42.96550333, 36.47521417, 31.06489778, 32.89864639, 44.48507333, 44.25406722, 32.51633333, 41.70895361, 43.56444444, 33.67975, 48.25937778, 40.03925, 37.32546833, 39.64256778, 43.60732417, 45.77690139, 39.1224125, 34.20061917, 38.03799139, 38.53396333, 43.51455556, 36.77619444, 39.84395194, 26.17583333, 40.50898361, 47.949255, 43.58135111, 42.48180389, 34.89924833, 42.91130556, 31.32133917, 34.82916444, 38.50886722, 46.77411111, 42.90835556, 44.74144472, 32.51086556, 46.26468028, 39.14096722, 31.32737167, 43.41713889, 35.61677778, 42.15614361, 41.50409361, 38.13863889, 30.7825, 44.77761917, 35.65884306, 40.97811528, 31.25902778, 40.85097222, 40.97846583, 44.52019417, 37.06083333, 35.23705806, 41.33814944, 33.45033444, 44.34889806, 35.07297222, 33.369955, 35.33659028, 32.35413889, 46.60681806, 47.48200194, 32.33313333, 46.353639, 37.95375861, 35.03526833, 46.37449806, 37.70097028, 42.74811944, 44.47300361, 48.31140472, 28.10275, 29.17991667, 40.65236278, 46.84209028, 41.155722499999996, 41.5942175, 37.85830556, 38.37315083, 48.79275, 37.62404861, 44.25740806, 36.385913, 27.91076333, 33.98879611, 34.99147222, 44.86525722, 42.40295944, 43.90882639, 34.681499, 45.8076625], \"locationmode\": \"USA-states\", \"hoverinfo\": \"text\", \"type\": \"scattergeo\", \"marker\": {\"line\": {\"width\": 3, \"color\": \"rgba(68, 68, 68, 0)\"}, \"size\": 2, \"color\": \"rgb(255, 0, 0)\"}, \"mode\": \"markers\"}], {\"showlegend\": false, \"geo\": {\"landcolor\": \"rgb(243, 243, 243)\", \"scope\": \"world\", \"projection\": {\"type\": \"equirectangular\"}, \"countrycolor\": \"rgb(204, 204, 204)\", \"showland\": true}}, {\"linkText\": \"Export to plot.ly\", \"showLink\": true})});</script>"
      ]
     },
     "metadata": {},
     "output_type": "display_data"
    }
   ],
   "source": [
    "df_airports = pd.read_csv('https://raw.githubusercontent.com/plotly/datasets/master/2011_february_us_airport_traffic.csv')\n",
    "df_airports.head()\n",
    "\n",
    "df_flight_paths = pd.read_csv('https://raw.githubusercontent.com/plotly/datasets/master/2011_february_aa_flight_paths.csv')\n",
    "df_flight_paths.head()\n",
    "\n",
    "airports = [ dict(\n",
    "        type = 'scattergeo',\n",
    "        locationmode = 'USA-states',\n",
    "        lon = df_airports['long'],\n",
    "        lat = df_airports['lat'],\n",
    "        hoverinfo = 'text',\n",
    "        text = df_airports['airport'],\n",
    "        mode = 'markers',\n",
    "        marker = dict( \n",
    "            size=2, \n",
    "            color='rgb(255, 0, 0)',\n",
    "            line = dict(\n",
    "                width=3,\n",
    "                color='rgba(68, 68, 68, 0)'\n",
    "            )\n",
    "        ))]\n",
    "        \n",
    "flight_paths = []\n",
    "for i in range( len( df_flight_paths ) ):\n",
    "    flight_paths.append(\n",
    "        dict(\n",
    "            type = 'scattergeo',\n",
    "            locationmode = 'USA-states',\n",
    "            lon = [ df_flight_paths['start_lon'][i], df_flight_paths['end_lon'][i] ],\n",
    "            lat = [ df_flight_paths['start_lat'][i], df_flight_paths['end_lat'][i] ],\n",
    "            mode = 'lines',\n",
    "            line = dict(\n",
    "                width = 1,\n",
    "                color = 'red',\n",
    "            ),\n",
    "            opacity = float(df_flight_paths['cnt'][i])/float(df_flight_paths['cnt'].max()),\n",
    "        )\n",
    "    )\n",
    "    \n",
    "layout = dict(\n",
    "        showlegend = False, \n",
    "        geo = dict(\n",
    "            scope='world',\n",
    "            projection= dict( type='equirectangular'),#dict( type='azimuthal equal area' ),\n",
    "            showland = True,\n",
    "            landcolor = 'rgb(243, 243, 243)',\n",
    "            countrycolor = 'rgb(204, 204, 204)',\n",
    "        ),\n",
    "    )\n",
    "    \n",
    "fig = dict( data=flight_paths + airports, layout=layout )\n",
    "iplot( fig, filename='d3-world-map')"
   ]
  },
  {
   "cell_type": "code",
   "execution_count": 404,
   "metadata": {},
   "outputs": [],
   "source": [
    "df['lat'] = df.apply(lambda x :[x['latitude_attacker'], x['latitude_target']], axis ='columns')\n",
    "df['lon'] =  df.apply(lambda x :[x['longitude_attacker'], x['longitude_target']], axis ='columns')"
   ]
  },
  {
   "cell_type": "code",
   "execution_count": 405,
   "metadata": {},
   "outputs": [],
   "source": [
    "import numpy as np\n",
    "df['line'] = ''\n",
    "#df['line'] = df['line'].apply(lambda x : {'color' : 'red', 'width' : 1}) \n",
    "df['line'] = df.apply(lambda x : {'color' : 'red', 'width' : (x['nb_attack'] / sum(df['nb_attack']))*80}, axis='columns')"
   ]
  },
  {
   "cell_type": "code",
   "execution_count": 406,
   "metadata": {
    "collapsed": true
   },
   "outputs": [],
   "source": [
    "df['opacity'] = 0\n",
    "df['opacity'] = df['opacity'].apply(lambda x : 0.48577680525164113)"
   ]
  },
  {
   "cell_type": "code",
   "execution_count": 407,
   "metadata": {
    "collapsed": true
   },
   "outputs": [],
   "source": [
    "df['type'] = ''\n",
    "df['type'] = df['type'].apply(lambda x : 'scattergeo')"
   ]
  },
  {
   "cell_type": "code",
   "execution_count": 408,
   "metadata": {
    "collapsed": true
   },
   "outputs": [],
   "source": [
    "df['mode'] = ''\n",
    "df['mode'] = df['mode'].apply(lambda x : 'lines')"
   ]
  },
  {
   "cell_type": "code",
   "execution_count": 409,
   "metadata": {
    "collapsed": true
   },
   "outputs": [],
   "source": [
    "df['text'] = df.apply(lambda x : '{} - {} : {} times'.format(x['attacker'],x['target'], x['nb_attack']), axis='columns')"
   ]
  },
  {
   "cell_type": "code",
   "execution_count": 410,
   "metadata": {},
   "outputs": [
    {
     "data": {
      "text/html": [
       "<div>\n",
       "<style scoped>\n",
       "    .dataframe tbody tr th:only-of-type {\n",
       "        vertical-align: middle;\n",
       "    }\n",
       "\n",
       "    .dataframe tbody tr th {\n",
       "        vertical-align: top;\n",
       "    }\n",
       "\n",
       "    .dataframe thead th {\n",
       "        text-align: right;\n",
       "    }\n",
       "</style>\n",
       "<table border=\"1\" class=\"dataframe\">\n",
       "  <thead>\n",
       "    <tr style=\"text-align: right;\">\n",
       "      <th></th>\n",
       "      <th>nb_attack</th>\n",
       "      <th>target</th>\n",
       "      <th>attacker</th>\n",
       "      <th>latitude_attacker</th>\n",
       "      <th>longitude_attacker</th>\n",
       "      <th>latitude_target</th>\n",
       "      <th>longitude_target</th>\n",
       "      <th>lat</th>\n",
       "      <th>lon</th>\n",
       "      <th>line</th>\n",
       "      <th>opacity</th>\n",
       "      <th>type</th>\n",
       "      <th>mode</th>\n",
       "      <th>text</th>\n",
       "    </tr>\n",
       "  </thead>\n",
       "  <tbody>\n",
       "    <tr>\n",
       "      <th>0</th>\n",
       "      <td>26877</td>\n",
       "      <td>united arab emirates</td>\n",
       "      <td>china</td>\n",
       "      <td>39.904211</td>\n",
       "      <td>116.407395</td>\n",
       "      <td>25.615520</td>\n",
       "      <td>55.849510</td>\n",
       "      <td>[39.904211, 25.61552]</td>\n",
       "      <td>[116.407395, 55.84951]</td>\n",
       "      <td>{'width': 17.318631043953832, 'color': 'red'}</td>\n",
       "      <td>0.485777</td>\n",
       "      <td>scattergeo</td>\n",
       "      <td>lines</td>\n",
       "      <td>china - united arab emirates : 26877 times</td>\n",
       "    </tr>\n",
       "    <tr>\n",
       "      <th>1</th>\n",
       "      <td>13059</td>\n",
       "      <td>united states</td>\n",
       "      <td>china</td>\n",
       "      <td>39.904211</td>\n",
       "      <td>116.407395</td>\n",
       "      <td>39.783730</td>\n",
       "      <td>-100.445882</td>\n",
       "      <td>[39.904211, 39.7837304]</td>\n",
       "      <td>[116.407395, -100.4458825]</td>\n",
       "      <td>{'width': 8.414778539382858, 'color': 'red'}</td>\n",
       "      <td>0.485777</td>\n",
       "      <td>scattergeo</td>\n",
       "      <td>lines</td>\n",
       "      <td>china - united states : 13059 times</td>\n",
       "    </tr>\n",
       "    <tr>\n",
       "      <th>2</th>\n",
       "      <td>6424</td>\n",
       "      <td>united states</td>\n",
       "      <td>ukraine</td>\n",
       "      <td>49.487197</td>\n",
       "      <td>31.271832</td>\n",
       "      <td>39.783730</td>\n",
       "      <td>-100.445882</td>\n",
       "      <td>[49.4871968, 39.7837304]</td>\n",
       "      <td>[31.2718321, -100.4458825]</td>\n",
       "      <td>{'width': 4.139408632896507, 'color': 'red'}</td>\n",
       "      <td>0.485777</td>\n",
       "      <td>scattergeo</td>\n",
       "      <td>lines</td>\n",
       "      <td>ukraine - united states : 6424 times</td>\n",
       "    </tr>\n",
       "    <tr>\n",
       "      <th>3</th>\n",
       "      <td>5202</td>\n",
       "      <td>united arab emirates</td>\n",
       "      <td>netherlands</td>\n",
       "      <td>52.237989</td>\n",
       "      <td>5.534607</td>\n",
       "      <td>25.615520</td>\n",
       "      <td>55.849510</td>\n",
       "      <td>[52.2379891, 25.61552]</td>\n",
       "      <td>[5.53460738161551, 55.84951]</td>\n",
       "      <td>{'width': 3.3519931052813865, 'color': 'red'}</td>\n",
       "      <td>0.485777</td>\n",
       "      <td>scattergeo</td>\n",
       "      <td>lines</td>\n",
       "      <td>netherlands - united arab emirates : 5202 times</td>\n",
       "    </tr>\n",
       "    <tr>\n",
       "      <th>4</th>\n",
       "      <td>4761</td>\n",
       "      <td>spain</td>\n",
       "      <td>china</td>\n",
       "      <td>39.904211</td>\n",
       "      <td>116.407395</td>\n",
       "      <td>40.002803</td>\n",
       "      <td>-4.003104</td>\n",
       "      <td>[39.904211, 40.0028028]</td>\n",
       "      <td>[116.407395, -4.003104]</td>\n",
       "      <td>{'width': 3.0678275998163556, 'color': 'red'}</td>\n",
       "      <td>0.485777</td>\n",
       "      <td>scattergeo</td>\n",
       "      <td>lines</td>\n",
       "      <td>china - spain : 4761 times</td>\n",
       "    </tr>\n",
       "    <tr>\n",
       "      <th>5</th>\n",
       "      <td>2754</td>\n",
       "      <td>united arab emirates</td>\n",
       "      <td>united states</td>\n",
       "      <td>39.783730</td>\n",
       "      <td>-100.445882</td>\n",
       "      <td>25.615520</td>\n",
       "      <td>55.849510</td>\n",
       "      <td>[39.7837304, 25.61552]</td>\n",
       "      <td>[-100.4458825, 55.84951]</td>\n",
       "      <td>{'width': 1.7745845851489694, 'color': 'red'}</td>\n",
       "      <td>0.485777</td>\n",
       "      <td>scattergeo</td>\n",
       "      <td>lines</td>\n",
       "      <td>united states - united arab emirates : 2754 times</td>\n",
       "    </tr>\n",
       "    <tr>\n",
       "      <th>6</th>\n",
       "      <td>2523</td>\n",
       "      <td>united states</td>\n",
       "      <td>india</td>\n",
       "      <td>22.351115</td>\n",
       "      <td>78.667743</td>\n",
       "      <td>39.783730</td>\n",
       "      <td>-100.445882</td>\n",
       "      <td>[22.3511148, 39.7837304]</td>\n",
       "      <td>[78.6677428, -100.4458825]</td>\n",
       "      <td>{'width': 1.6257359870482389, 'color': 'red'}</td>\n",
       "      <td>0.485777</td>\n",
       "      <td>scattergeo</td>\n",
       "      <td>lines</td>\n",
       "      <td>india - united states : 2523 times</td>\n",
       "    </tr>\n",
       "    <tr>\n",
       "      <th>7</th>\n",
       "      <td>2502</td>\n",
       "      <td>united states</td>\n",
       "      <td>south korea</td>\n",
       "      <td>37.566535</td>\n",
       "      <td>126.977969</td>\n",
       "      <td>39.783730</td>\n",
       "      <td>-100.445882</td>\n",
       "      <td>[37.566535, 39.7837304]</td>\n",
       "      <td>[126.9779692, -100.4458825]</td>\n",
       "      <td>{'width': 1.6122042963118088, 'color': 'red'}</td>\n",
       "      <td>0.485777</td>\n",
       "      <td>scattergeo</td>\n",
       "      <td>lines</td>\n",
       "      <td>south korea - united states : 2502 times</td>\n",
       "    </tr>\n",
       "    <tr>\n",
       "      <th>8</th>\n",
       "      <td>2458</td>\n",
       "      <td>singapore</td>\n",
       "      <td>china</td>\n",
       "      <td>39.904211</td>\n",
       "      <td>116.407395</td>\n",
       "      <td>1.290475</td>\n",
       "      <td>103.852036</td>\n",
       "      <td>[39.904211, 1.2904753]</td>\n",
       "      <td>[116.407395, 103.8520359]</td>\n",
       "      <td>{'width': 1.5838521823878602, 'color': 'red'}</td>\n",
       "      <td>0.485777</td>\n",
       "      <td>scattergeo</td>\n",
       "      <td>lines</td>\n",
       "      <td>china - singapore : 2458 times</td>\n",
       "    </tr>\n",
       "    <tr>\n",
       "      <th>9</th>\n",
       "      <td>1921</td>\n",
       "      <td>united states</td>\n",
       "      <td>turkey</td>\n",
       "      <td>38.959759</td>\n",
       "      <td>34.924965</td>\n",
       "      <td>39.783730</td>\n",
       "      <td>-100.445882</td>\n",
       "      <td>[38.9597594, 39.7837304]</td>\n",
       "      <td>[34.9249653, -100.4458825]</td>\n",
       "      <td>{'width': 1.2378275192705774, 'color': 'red'}</td>\n",
       "      <td>0.485777</td>\n",
       "      <td>scattergeo</td>\n",
       "      <td>lines</td>\n",
       "      <td>turkey - united states : 1921 times</td>\n",
       "    </tr>\n",
       "    <tr>\n",
       "      <th>10</th>\n",
       "      <td>1889</td>\n",
       "      <td>united states</td>\n",
       "      <td>swiss</td>\n",
       "      <td>46.798562</td>\n",
       "      <td>8.231974</td>\n",
       "      <td>39.783730</td>\n",
       "      <td>-100.445882</td>\n",
       "      <td>[46.7985624, 39.7837304]</td>\n",
       "      <td>[8.2319736, -100.4458825]</td>\n",
       "      <td>{'width': 1.2172078000531603, 'color': 'red'}</td>\n",
       "      <td>0.485777</td>\n",
       "      <td>scattergeo</td>\n",
       "      <td>lines</td>\n",
       "      <td>swiss - united states : 1889 times</td>\n",
       "    </tr>\n",
       "    <tr>\n",
       "      <th>11</th>\n",
       "      <td>1545</td>\n",
       "      <td>norway</td>\n",
       "      <td>china</td>\n",
       "      <td>39.904211</td>\n",
       "      <td>116.407395</td>\n",
       "      <td>64.573154</td>\n",
       "      <td>11.528036</td>\n",
       "      <td>[39.904211, 64.5731537]</td>\n",
       "      <td>[116.407395, 11.5280364395482]</td>\n",
       "      <td>{'width': 0.995545818465925, 'color': 'red'}</td>\n",
       "      <td>0.485777</td>\n",
       "      <td>scattergeo</td>\n",
       "      <td>lines</td>\n",
       "      <td>china - norway : 1545 times</td>\n",
       "    </tr>\n",
       "    <tr>\n",
       "      <th>12</th>\n",
       "      <td>1521</td>\n",
       "      <td>spain</td>\n",
       "      <td>colombia</td>\n",
       "      <td>2.889443</td>\n",
       "      <td>-73.783892</td>\n",
       "      <td>40.002803</td>\n",
       "      <td>-4.003104</td>\n",
       "      <td>[2.8894434, 40.0028028]</td>\n",
       "      <td>[-73.783892, -4.003104]</td>\n",
       "      <td>{'width': 0.9800810290528622, 'color': 'red'}</td>\n",
       "      <td>0.485777</td>\n",
       "      <td>scattergeo</td>\n",
       "      <td>lines</td>\n",
       "      <td>colombia - spain : 1521 times</td>\n",
       "    </tr>\n",
       "    <tr>\n",
       "      <th>13</th>\n",
       "      <td>1494</td>\n",
       "      <td>philippines</td>\n",
       "      <td>china</td>\n",
       "      <td>39.904211</td>\n",
       "      <td>116.407395</td>\n",
       "      <td>12.750349</td>\n",
       "      <td>122.731210</td>\n",
       "      <td>[39.904211, 12.7503486]</td>\n",
       "      <td>[116.407395, 122.7312101]</td>\n",
       "      <td>{'width': 0.9626831409631664, 'color': 'red'}</td>\n",
       "      <td>0.485777</td>\n",
       "      <td>scattergeo</td>\n",
       "      <td>lines</td>\n",
       "      <td>china - philippines : 1494 times</td>\n",
       "    </tr>\n",
       "    <tr>\n",
       "      <th>14</th>\n",
       "      <td>1492</td>\n",
       "      <td>belgium</td>\n",
       "      <td>netherlands</td>\n",
       "      <td>52.237989</td>\n",
       "      <td>5.534607</td>\n",
       "      <td>50.640735</td>\n",
       "      <td>4.666960</td>\n",
       "      <td>[52.2379891, 50.6407351]</td>\n",
       "      <td>[5.53460738161551, 4.66696]</td>\n",
       "      <td>{'width': 0.9613944085120778, 'color': 'red'}</td>\n",
       "      <td>0.485777</td>\n",
       "      <td>scattergeo</td>\n",
       "      <td>lines</td>\n",
       "      <td>netherlands - belgium : 1492 times</td>\n",
       "    </tr>\n",
       "    <tr>\n",
       "      <th>15</th>\n",
       "      <td>1461</td>\n",
       "      <td>united states</td>\n",
       "      <td>roumania</td>\n",
       "      <td>45.985213</td>\n",
       "      <td>24.685923</td>\n",
       "      <td>39.783730</td>\n",
       "      <td>-100.445882</td>\n",
       "      <td>[45.9852129, 39.7837304]</td>\n",
       "      <td>[24.6859225, -100.4458825]</td>\n",
       "      <td>{'width': 0.941419055520205, 'color': 'red'}</td>\n",
       "      <td>0.485777</td>\n",
       "      <td>scattergeo</td>\n",
       "      <td>lines</td>\n",
       "      <td>roumania - united states : 1461 times</td>\n",
       "    </tr>\n",
       "    <tr>\n",
       "      <th>16</th>\n",
       "      <td>1453</td>\n",
       "      <td>united states</td>\n",
       "      <td>spain</td>\n",
       "      <td>40.002803</td>\n",
       "      <td>-4.003104</td>\n",
       "      <td>39.783730</td>\n",
       "      <td>-100.445882</td>\n",
       "      <td>[40.0028028, 39.7837304]</td>\n",
       "      <td>[-4.003104, -100.4458825]</td>\n",
       "      <td>{'width': 0.9362641257158506, 'color': 'red'}</td>\n",
       "      <td>0.485777</td>\n",
       "      <td>scattergeo</td>\n",
       "      <td>lines</td>\n",
       "      <td>spain - united states : 1453 times</td>\n",
       "    </tr>\n",
       "    <tr>\n",
       "      <th>17</th>\n",
       "      <td>1323</td>\n",
       "      <td>united states</td>\n",
       "      <td>argentina</td>\n",
       "      <td>-34.996496</td>\n",
       "      <td>-64.967282</td>\n",
       "      <td>39.783730</td>\n",
       "      <td>-100.445882</td>\n",
       "      <td>[-34.9964963, 39.7837304]</td>\n",
       "      <td>[-64.9672817, -100.4458825]</td>\n",
       "      <td>{'width': 0.8524965163950932, 'color': 'red'}</td>\n",
       "      <td>0.485777</td>\n",
       "      <td>scattergeo</td>\n",
       "      <td>lines</td>\n",
       "      <td>argentina - united states : 1323 times</td>\n",
       "    </tr>\n",
       "    <tr>\n",
       "      <th>18</th>\n",
       "      <td>1275</td>\n",
       "      <td>united arab emirates</td>\n",
       "      <td>poland</td>\n",
       "      <td>52.097718</td>\n",
       "      <td>19.025816</td>\n",
       "      <td>25.615520</td>\n",
       "      <td>55.849510</td>\n",
       "      <td>[52.0977181, 25.61552]</td>\n",
       "      <td>[19.0258159, 55.84951]</td>\n",
       "      <td>{'width': 0.8215669375689673, 'color': 'red'}</td>\n",
       "      <td>0.485777</td>\n",
       "      <td>scattergeo</td>\n",
       "      <td>lines</td>\n",
       "      <td>poland - united arab emirates : 1275 times</td>\n",
       "    </tr>\n",
       "    <tr>\n",
       "      <th>19</th>\n",
       "      <td>1186</td>\n",
       "      <td>france</td>\n",
       "      <td>pakistan</td>\n",
       "      <td>30.330840</td>\n",
       "      <td>71.247499</td>\n",
       "      <td>46.603354</td>\n",
       "      <td>1.888334</td>\n",
       "      <td>[30.3308401, 46.603354]</td>\n",
       "      <td>[71.247499, 1.8883335]</td>\n",
       "      <td>{'width': 0.7642183434955256, 'color': 'red'}</td>\n",
       "      <td>0.485777</td>\n",
       "      <td>scattergeo</td>\n",
       "      <td>lines</td>\n",
       "      <td>pakistan - france : 1186 times</td>\n",
       "    </tr>\n",
       "    <tr>\n",
       "      <th>20</th>\n",
       "      <td>1107</td>\n",
       "      <td>italy</td>\n",
       "      <td>united states</td>\n",
       "      <td>39.783730</td>\n",
       "      <td>-100.445882</td>\n",
       "      <td>42.638426</td>\n",
       "      <td>12.674297</td>\n",
       "      <td>[39.7837304, 42.6384261]</td>\n",
       "      <td>[-100.4458825, 12.674297]</td>\n",
       "      <td>{'width': 0.7133134116775269, 'color': 'red'}</td>\n",
       "      <td>0.485777</td>\n",
       "      <td>scattergeo</td>\n",
       "      <td>lines</td>\n",
       "      <td>united states - italy : 1107 times</td>\n",
       "    </tr>\n",
       "    <tr>\n",
       "      <th>21</th>\n",
       "      <td>1093</td>\n",
       "      <td>france</td>\n",
       "      <td>france</td>\n",
       "      <td>46.603354</td>\n",
       "      <td>1.888334</td>\n",
       "      <td>46.603354</td>\n",
       "      <td>1.888334</td>\n",
       "      <td>[46.603354, 46.603354]</td>\n",
       "      <td>[1.8883335, 1.8883335]</td>\n",
       "      <td>{'width': 0.7042922845199069, 'color': 'red'}</td>\n",
       "      <td>0.485777</td>\n",
       "      <td>scattergeo</td>\n",
       "      <td>lines</td>\n",
       "      <td>france - france : 1093 times</td>\n",
       "    </tr>\n",
       "    <tr>\n",
       "      <th>22</th>\n",
       "      <td>1004</td>\n",
       "      <td>saudi arabia</td>\n",
       "      <td>saudi arabia</td>\n",
       "      <td>17.726913</td>\n",
       "      <td>42.236345</td>\n",
       "      <td>17.726913</td>\n",
       "      <td>42.236345</td>\n",
       "      <td>[17.7269134, 17.7269134]</td>\n",
       "      <td>[42.2363448, 42.2363448]</td>\n",
       "      <td>{'width': 0.6469436904464653, 'color': 'red'}</td>\n",
       "      <td>0.485777</td>\n",
       "      <td>scattergeo</td>\n",
       "      <td>lines</td>\n",
       "      <td>saudi arabia - saudi arabia : 1004 times</td>\n",
       "    </tr>\n",
       "    <tr>\n",
       "      <th>23</th>\n",
       "      <td>998</td>\n",
       "      <td>united states</td>\n",
       "      <td>japan</td>\n",
       "      <td>36.574844</td>\n",
       "      <td>139.239418</td>\n",
       "      <td>39.783730</td>\n",
       "      <td>-100.445882</td>\n",
       "      <td>[36.5748441, 39.7837304]</td>\n",
       "      <td>[139.2394179, -100.4458825]</td>\n",
       "      <td>{'width': 0.6430774930931995, 'color': 'red'}</td>\n",
       "      <td>0.485777</td>\n",
       "      <td>scattergeo</td>\n",
       "      <td>lines</td>\n",
       "      <td>japan - united states : 998 times</td>\n",
       "    </tr>\n",
       "    <tr>\n",
       "      <th>24</th>\n",
       "      <td>995</td>\n",
       "      <td>france</td>\n",
       "      <td>vietnam</td>\n",
       "      <td>13.290403</td>\n",
       "      <td>108.426511</td>\n",
       "      <td>46.603354</td>\n",
       "      <td>1.888334</td>\n",
       "      <td>[13.2904027, 46.603354]</td>\n",
       "      <td>[108.4265113, 1.8883335]</td>\n",
       "      <td>{'width': 0.6411443944165667, 'color': 'red'}</td>\n",
       "      <td>0.485777</td>\n",
       "      <td>scattergeo</td>\n",
       "      <td>lines</td>\n",
       "      <td>vietnam - france : 995 times</td>\n",
       "    </tr>\n",
       "    <tr>\n",
       "      <th>25</th>\n",
       "      <td>902</td>\n",
       "      <td>italy</td>\n",
       "      <td>china</td>\n",
       "      <td>39.904211</td>\n",
       "      <td>116.407395</td>\n",
       "      <td>42.638426</td>\n",
       "      <td>12.674297</td>\n",
       "      <td>[39.904211, 42.6384261]</td>\n",
       "      <td>[116.407395, 12.674297]</td>\n",
       "      <td>{'width': 0.5812183354409479, 'color': 'red'}</td>\n",
       "      <td>0.485777</td>\n",
       "      <td>scattergeo</td>\n",
       "      <td>lines</td>\n",
       "      <td>china - italy : 902 times</td>\n",
       "    </tr>\n",
       "    <tr>\n",
       "      <th>26</th>\n",
       "      <td>895</td>\n",
       "      <td>united states</td>\n",
       "      <td>germany</td>\n",
       "      <td>51.083420</td>\n",
       "      <td>10.423447</td>\n",
       "      <td>39.783730</td>\n",
       "      <td>-100.445882</td>\n",
       "      <td>[51.0834196, 39.7837304]</td>\n",
       "      <td>[10.4234469, -100.4458825]</td>\n",
       "      <td>{'width': 0.5767077718621378, 'color': 'red'}</td>\n",
       "      <td>0.485777</td>\n",
       "      <td>scattergeo</td>\n",
       "      <td>lines</td>\n",
       "      <td>germany - united states : 895 times</td>\n",
       "    </tr>\n",
       "    <tr>\n",
       "      <th>27</th>\n",
       "      <td>859</td>\n",
       "      <td>united states</td>\n",
       "      <td>brazil</td>\n",
       "      <td>-10.333333</td>\n",
       "      <td>-53.200000</td>\n",
       "      <td>39.783730</td>\n",
       "      <td>-100.445882</td>\n",
       "      <td>[-10.3333333, 39.7837304]</td>\n",
       "      <td>[-53.2, -100.4458825]</td>\n",
       "      <td>{'width': 0.5535105877425435, 'color': 'red'}</td>\n",
       "      <td>0.485777</td>\n",
       "      <td>scattergeo</td>\n",
       "      <td>lines</td>\n",
       "      <td>brazil - united states : 859 times</td>\n",
       "    </tr>\n",
       "    <tr>\n",
       "      <th>28</th>\n",
       "      <td>834</td>\n",
       "      <td>hong kong</td>\n",
       "      <td>hong kong</td>\n",
       "      <td>22.350627</td>\n",
       "      <td>114.184916</td>\n",
       "      <td>22.350627</td>\n",
       "      <td>114.184916</td>\n",
       "      <td>[22.350627, 22.350627]</td>\n",
       "      <td>[114.1849161, 114.1849161]</td>\n",
       "      <td>{'width': 0.5374014321039363, 'color': 'red'}</td>\n",
       "      <td>0.485777</td>\n",
       "      <td>scattergeo</td>\n",
       "      <td>lines</td>\n",
       "      <td>hong kong - hong kong : 834 times</td>\n",
       "    </tr>\n",
       "    <tr>\n",
       "      <th>29</th>\n",
       "      <td>832</td>\n",
       "      <td>united states</td>\n",
       "      <td>belgium</td>\n",
       "      <td>50.640735</td>\n",
       "      <td>4.666960</td>\n",
       "      <td>39.783730</td>\n",
       "      <td>-100.445882</td>\n",
       "      <td>[50.6407351, 39.7837304]</td>\n",
       "      <td>[4.66696, -100.4458825]</td>\n",
       "      <td>{'width': 0.5361126996528477, 'color': 'red'}</td>\n",
       "      <td>0.485777</td>\n",
       "      <td>scattergeo</td>\n",
       "      <td>lines</td>\n",
       "      <td>belgium - united states : 832 times</td>\n",
       "    </tr>\n",
       "    <tr>\n",
       "      <th>...</th>\n",
       "      <td>...</td>\n",
       "      <td>...</td>\n",
       "      <td>...</td>\n",
       "      <td>...</td>\n",
       "      <td>...</td>\n",
       "      <td>...</td>\n",
       "      <td>...</td>\n",
       "      <td>...</td>\n",
       "      <td>...</td>\n",
       "      <td>...</td>\n",
       "      <td>...</td>\n",
       "      <td>...</td>\n",
       "      <td>...</td>\n",
       "      <td>...</td>\n",
       "    </tr>\n",
       "    <tr>\n",
       "      <th>110</th>\n",
       "      <td>143</td>\n",
       "      <td>canada</td>\n",
       "      <td>china</td>\n",
       "      <td>39.904211</td>\n",
       "      <td>116.407395</td>\n",
       "      <td>61.066692</td>\n",
       "      <td>-107.991707</td>\n",
       "      <td>[39.904211, 61.0666922]</td>\n",
       "      <td>[116.407395, -107.9917071]</td>\n",
       "      <td>{'width': 0.0921443702528332, 'color': 'red'}</td>\n",
       "      <td>0.485777</td>\n",
       "      <td>scattergeo</td>\n",
       "      <td>lines</td>\n",
       "      <td>china - canada : 143 times</td>\n",
       "    </tr>\n",
       "    <tr>\n",
       "      <th>111</th>\n",
       "      <td>143</td>\n",
       "      <td>portugal</td>\n",
       "      <td>portugal</td>\n",
       "      <td>40.033265</td>\n",
       "      <td>-7.889626</td>\n",
       "      <td>40.033265</td>\n",
       "      <td>-7.889626</td>\n",
       "      <td>[40.033265, 40.033265]</td>\n",
       "      <td>[-7.8896263, -7.8896263]</td>\n",
       "      <td>{'width': 0.0921443702528332, 'color': 'red'}</td>\n",
       "      <td>0.485777</td>\n",
       "      <td>scattergeo</td>\n",
       "      <td>lines</td>\n",
       "      <td>portugal - portugal : 143 times</td>\n",
       "    </tr>\n",
       "    <tr>\n",
       "      <th>112</th>\n",
       "      <td>142</td>\n",
       "      <td>italy</td>\n",
       "      <td>france</td>\n",
       "      <td>46.603354</td>\n",
       "      <td>1.888334</td>\n",
       "      <td>42.638426</td>\n",
       "      <td>12.674297</td>\n",
       "      <td>[46.603354, 42.6384261]</td>\n",
       "      <td>[1.8883335, 12.674297]</td>\n",
       "      <td>{'width': 0.0915000040272889, 'color': 'red'}</td>\n",
       "      <td>0.485777</td>\n",
       "      <td>scattergeo</td>\n",
       "      <td>lines</td>\n",
       "      <td>france - italy : 142 times</td>\n",
       "    </tr>\n",
       "    <tr>\n",
       "      <th>113</th>\n",
       "      <td>142</td>\n",
       "      <td>russia</td>\n",
       "      <td>colombia</td>\n",
       "      <td>2.889443</td>\n",
       "      <td>-73.783892</td>\n",
       "      <td>64.686314</td>\n",
       "      <td>97.745306</td>\n",
       "      <td>[2.8894434, 64.6863136]</td>\n",
       "      <td>[-73.783892, 97.7453061]</td>\n",
       "      <td>{'width': 0.0915000040272889, 'color': 'red'}</td>\n",
       "      <td>0.485777</td>\n",
       "      <td>scattergeo</td>\n",
       "      <td>lines</td>\n",
       "      <td>colombia - russia : 142 times</td>\n",
       "    </tr>\n",
       "    <tr>\n",
       "      <th>114</th>\n",
       "      <td>142</td>\n",
       "      <td>saudi arabia</td>\n",
       "      <td>japan</td>\n",
       "      <td>36.574844</td>\n",
       "      <td>139.239418</td>\n",
       "      <td>17.726913</td>\n",
       "      <td>42.236345</td>\n",
       "      <td>[36.5748441, 17.7269134]</td>\n",
       "      <td>[139.2394179, 42.2363448]</td>\n",
       "      <td>{'width': 0.0915000040272889, 'color': 'red'}</td>\n",
       "      <td>0.485777</td>\n",
       "      <td>scattergeo</td>\n",
       "      <td>lines</td>\n",
       "      <td>japan - saudi arabia : 142 times</td>\n",
       "    </tr>\n",
       "    <tr>\n",
       "      <th>115</th>\n",
       "      <td>140</td>\n",
       "      <td>roumania</td>\n",
       "      <td>swiss</td>\n",
       "      <td>46.798562</td>\n",
       "      <td>8.231974</td>\n",
       "      <td>45.985213</td>\n",
       "      <td>24.685923</td>\n",
       "      <td>[46.7985624, 45.9852129]</td>\n",
       "      <td>[8.2319736, 24.6859225]</td>\n",
       "      <td>{'width': 0.09021127157620033, 'color': 'red'}</td>\n",
       "      <td>0.485777</td>\n",
       "      <td>scattergeo</td>\n",
       "      <td>lines</td>\n",
       "      <td>swiss - roumania : 140 times</td>\n",
       "    </tr>\n",
       "    <tr>\n",
       "      <th>116</th>\n",
       "      <td>139</td>\n",
       "      <td>ireland</td>\n",
       "      <td>roumania</td>\n",
       "      <td>45.985213</td>\n",
       "      <td>24.685923</td>\n",
       "      <td>52.865196</td>\n",
       "      <td>-7.979460</td>\n",
       "      <td>[45.9852129, 52.865196]</td>\n",
       "      <td>[24.6859225, -7.9794599]</td>\n",
       "      <td>{'width': 0.08956690535065605, 'color': 'red'}</td>\n",
       "      <td>0.485777</td>\n",
       "      <td>scattergeo</td>\n",
       "      <td>lines</td>\n",
       "      <td>roumania - ireland : 139 times</td>\n",
       "    </tr>\n",
       "    <tr>\n",
       "      <th>117</th>\n",
       "      <td>139</td>\n",
       "      <td>united arab emirates</td>\n",
       "      <td>ukraine</td>\n",
       "      <td>49.487197</td>\n",
       "      <td>31.271832</td>\n",
       "      <td>25.615520</td>\n",
       "      <td>55.849510</td>\n",
       "      <td>[49.4871968, 25.61552]</td>\n",
       "      <td>[31.2718321, 55.84951]</td>\n",
       "      <td>{'width': 0.08956690535065605, 'color': 'red'}</td>\n",
       "      <td>0.485777</td>\n",
       "      <td>scattergeo</td>\n",
       "      <td>lines</td>\n",
       "      <td>ukraine - united arab emirates : 139 times</td>\n",
       "    </tr>\n",
       "    <tr>\n",
       "      <th>118</th>\n",
       "      <td>139</td>\n",
       "      <td>united arab emirates</td>\n",
       "      <td>india</td>\n",
       "      <td>22.351115</td>\n",
       "      <td>78.667743</td>\n",
       "      <td>25.615520</td>\n",
       "      <td>55.849510</td>\n",
       "      <td>[22.3511148, 25.61552]</td>\n",
       "      <td>[78.6677428, 55.84951]</td>\n",
       "      <td>{'width': 0.08956690535065605, 'color': 'red'}</td>\n",
       "      <td>0.485777</td>\n",
       "      <td>scattergeo</td>\n",
       "      <td>lines</td>\n",
       "      <td>india - united arab emirates : 139 times</td>\n",
       "    </tr>\n",
       "    <tr>\n",
       "      <th>119</th>\n",
       "      <td>139</td>\n",
       "      <td>united states</td>\n",
       "      <td>australia</td>\n",
       "      <td>-24.776109</td>\n",
       "      <td>134.755000</td>\n",
       "      <td>39.783730</td>\n",
       "      <td>-100.445882</td>\n",
       "      <td>[-24.7761086, 39.7837304]</td>\n",
       "      <td>[134.755, -100.4458825]</td>\n",
       "      <td>{'width': 0.08956690535065605, 'color': 'red'}</td>\n",
       "      <td>0.485777</td>\n",
       "      <td>scattergeo</td>\n",
       "      <td>lines</td>\n",
       "      <td>australia - united states : 139 times</td>\n",
       "    </tr>\n",
       "    <tr>\n",
       "      <th>120</th>\n",
       "      <td>138</td>\n",
       "      <td>united states</td>\n",
       "      <td>united kingdom</td>\n",
       "      <td>51.303000</td>\n",
       "      <td>0.073200</td>\n",
       "      <td>39.783730</td>\n",
       "      <td>-100.445882</td>\n",
       "      <td>[51.303, 39.7837304]</td>\n",
       "      <td>[0.0732, -100.4458825]</td>\n",
       "      <td>{'width': 0.08892253912511175, 'color': 'red'}</td>\n",
       "      <td>0.485777</td>\n",
       "      <td>scattergeo</td>\n",
       "      <td>lines</td>\n",
       "      <td>united kingdom - united states : 138 times</td>\n",
       "    </tr>\n",
       "    <tr>\n",
       "      <th>121</th>\n",
       "      <td>137</td>\n",
       "      <td>china</td>\n",
       "      <td>spain</td>\n",
       "      <td>40.002803</td>\n",
       "      <td>-4.003104</td>\n",
       "      <td>39.904211</td>\n",
       "      <td>116.407395</td>\n",
       "      <td>[40.0028028, 39.904211]</td>\n",
       "      <td>[-4.003104, 116.407395]</td>\n",
       "      <td>{'width': 0.08827817289956746, 'color': 'red'}</td>\n",
       "      <td>0.485777</td>\n",
       "      <td>scattergeo</td>\n",
       "      <td>lines</td>\n",
       "      <td>spain - china : 137 times</td>\n",
       "    </tr>\n",
       "    <tr>\n",
       "      <th>122</th>\n",
       "      <td>136</td>\n",
       "      <td>norway</td>\n",
       "      <td>moldova</td>\n",
       "      <td>47.286747</td>\n",
       "      <td>28.511024</td>\n",
       "      <td>64.573154</td>\n",
       "      <td>11.528036</td>\n",
       "      <td>[47.286747, 64.5731537]</td>\n",
       "      <td>[28.5110236, 11.5280364395482]</td>\n",
       "      <td>{'width': 0.08763380667402318, 'color': 'red'}</td>\n",
       "      <td>0.485777</td>\n",
       "      <td>scattergeo</td>\n",
       "      <td>lines</td>\n",
       "      <td>moldova - norway : 136 times</td>\n",
       "    </tr>\n",
       "    <tr>\n",
       "      <th>123</th>\n",
       "      <td>135</td>\n",
       "      <td>mexico</td>\n",
       "      <td>mexico</td>\n",
       "      <td>19.432601</td>\n",
       "      <td>-99.133342</td>\n",
       "      <td>19.432601</td>\n",
       "      <td>-99.133342</td>\n",
       "      <td>[19.4326009, 19.4326009]</td>\n",
       "      <td>[-99.1333416, -99.1333416]</td>\n",
       "      <td>{'width': 0.0869894404484789, 'color': 'red'}</td>\n",
       "      <td>0.485777</td>\n",
       "      <td>scattergeo</td>\n",
       "      <td>lines</td>\n",
       "      <td>mexico - mexico : 135 times</td>\n",
       "    </tr>\n",
       "    <tr>\n",
       "      <th>124</th>\n",
       "      <td>135</td>\n",
       "      <td>united states</td>\n",
       "      <td>armenia</td>\n",
       "      <td>4.492267</td>\n",
       "      <td>-75.739625</td>\n",
       "      <td>39.783730</td>\n",
       "      <td>-100.445882</td>\n",
       "      <td>[4.4922673, 39.7837304]</td>\n",
       "      <td>[-75.7396253904384, -100.4458825]</td>\n",
       "      <td>{'width': 0.0869894404484789, 'color': 'red'}</td>\n",
       "      <td>0.485777</td>\n",
       "      <td>scattergeo</td>\n",
       "      <td>lines</td>\n",
       "      <td>armenia - united states : 135 times</td>\n",
       "    </tr>\n",
       "    <tr>\n",
       "      <th>125</th>\n",
       "      <td>132</td>\n",
       "      <td>turkey</td>\n",
       "      <td>swiss</td>\n",
       "      <td>46.798562</td>\n",
       "      <td>8.231974</td>\n",
       "      <td>38.959759</td>\n",
       "      <td>34.924965</td>\n",
       "      <td>[46.7985624, 38.9597594]</td>\n",
       "      <td>[8.2319736, 34.9249653]</td>\n",
       "      <td>{'width': 0.08505634177184604, 'color': 'red'}</td>\n",
       "      <td>0.485777</td>\n",
       "      <td>scattergeo</td>\n",
       "      <td>lines</td>\n",
       "      <td>swiss - turkey : 132 times</td>\n",
       "    </tr>\n",
       "    <tr>\n",
       "      <th>126</th>\n",
       "      <td>132</td>\n",
       "      <td>united kingdom</td>\n",
       "      <td>united arab emirates</td>\n",
       "      <td>25.615520</td>\n",
       "      <td>55.849510</td>\n",
       "      <td>51.303000</td>\n",
       "      <td>0.073200</td>\n",
       "      <td>[25.61552, 51.303]</td>\n",
       "      <td>[55.84951, 0.0732]</td>\n",
       "      <td>{'width': 0.08505634177184604, 'color': 'red'}</td>\n",
       "      <td>0.485777</td>\n",
       "      <td>scattergeo</td>\n",
       "      <td>lines</td>\n",
       "      <td>united arab emirates - united kingdom : 132 times</td>\n",
       "    </tr>\n",
       "    <tr>\n",
       "      <th>127</th>\n",
       "      <td>125</td>\n",
       "      <td>france</td>\n",
       "      <td>china</td>\n",
       "      <td>39.904211</td>\n",
       "      <td>116.407395</td>\n",
       "      <td>46.603354</td>\n",
       "      <td>1.888334</td>\n",
       "      <td>[39.904211, 46.603354]</td>\n",
       "      <td>[116.407395, 1.8883335]</td>\n",
       "      <td>{'width': 0.08054577819303602, 'color': 'red'}</td>\n",
       "      <td>0.485777</td>\n",
       "      <td>scattergeo</td>\n",
       "      <td>lines</td>\n",
       "      <td>china - france : 125 times</td>\n",
       "    </tr>\n",
       "    <tr>\n",
       "      <th>128</th>\n",
       "      <td>119</td>\n",
       "      <td>france</td>\n",
       "      <td>india</td>\n",
       "      <td>22.351115</td>\n",
       "      <td>78.667743</td>\n",
       "      <td>46.603354</td>\n",
       "      <td>1.888334</td>\n",
       "      <td>[22.3511148, 46.603354]</td>\n",
       "      <td>[78.6677428, 1.8883335]</td>\n",
       "      <td>{'width': 0.07667958083977028, 'color': 'red'}</td>\n",
       "      <td>0.485777</td>\n",
       "      <td>scattergeo</td>\n",
       "      <td>lines</td>\n",
       "      <td>india - france : 119 times</td>\n",
       "    </tr>\n",
       "    <tr>\n",
       "      <th>129</th>\n",
       "      <td>117</td>\n",
       "      <td>austria</td>\n",
       "      <td>ukraine</td>\n",
       "      <td>49.487197</td>\n",
       "      <td>31.271832</td>\n",
       "      <td>47.200034</td>\n",
       "      <td>13.199959</td>\n",
       "      <td>[49.4871968, 47.2000338]</td>\n",
       "      <td>[31.2718321, 13.199959]</td>\n",
       "      <td>{'width': 0.07539084838868171, 'color': 'red'}</td>\n",
       "      <td>0.485777</td>\n",
       "      <td>scattergeo</td>\n",
       "      <td>lines</td>\n",
       "      <td>ukraine - austria : 117 times</td>\n",
       "    </tr>\n",
       "    <tr>\n",
       "      <th>130</th>\n",
       "      <td>113</td>\n",
       "      <td>hong kong</td>\n",
       "      <td>united states</td>\n",
       "      <td>39.783730</td>\n",
       "      <td>-100.445882</td>\n",
       "      <td>22.350627</td>\n",
       "      <td>114.184916</td>\n",
       "      <td>[39.7837304, 22.350627]</td>\n",
       "      <td>[-100.4458825, 114.1849161]</td>\n",
       "      <td>{'width': 0.07281338348650455, 'color': 'red'}</td>\n",
       "      <td>0.485777</td>\n",
       "      <td>scattergeo</td>\n",
       "      <td>lines</td>\n",
       "      <td>united states - hong kong : 113 times</td>\n",
       "    </tr>\n",
       "    <tr>\n",
       "      <th>131</th>\n",
       "      <td>108</td>\n",
       "      <td>italy</td>\n",
       "      <td>netherlands</td>\n",
       "      <td>52.237989</td>\n",
       "      <td>5.534607</td>\n",
       "      <td>42.638426</td>\n",
       "      <td>12.674297</td>\n",
       "      <td>[52.2379891, 42.6384261]</td>\n",
       "      <td>[5.53460738161551, 12.674297]</td>\n",
       "      <td>{'width': 0.06959155235878312, 'color': 'red'}</td>\n",
       "      <td>0.485777</td>\n",
       "      <td>scattergeo</td>\n",
       "      <td>lines</td>\n",
       "      <td>netherlands - italy : 108 times</td>\n",
       "    </tr>\n",
       "    <tr>\n",
       "      <th>132</th>\n",
       "      <td>101</td>\n",
       "      <td>united arab emirates</td>\n",
       "      <td>saudi arabia</td>\n",
       "      <td>17.726913</td>\n",
       "      <td>42.236345</td>\n",
       "      <td>25.615520</td>\n",
       "      <td>55.849510</td>\n",
       "      <td>[17.7269134, 25.61552]</td>\n",
       "      <td>[42.2363448, 55.84951]</td>\n",
       "      <td>{'width': 0.06508098877997309, 'color': 'red'}</td>\n",
       "      <td>0.485777</td>\n",
       "      <td>scattergeo</td>\n",
       "      <td>lines</td>\n",
       "      <td>saudi arabia - united arab emirates : 101 times</td>\n",
       "    </tr>\n",
       "    <tr>\n",
       "      <th>133</th>\n",
       "      <td>97</td>\n",
       "      <td>united states</td>\n",
       "      <td>hong kong</td>\n",
       "      <td>22.350627</td>\n",
       "      <td>114.184916</td>\n",
       "      <td>39.783730</td>\n",
       "      <td>-100.445882</td>\n",
       "      <td>[22.350627, 39.7837304]</td>\n",
       "      <td>[114.1849161, -100.4458825]</td>\n",
       "      <td>{'width': 0.06250352387779595, 'color': 'red'}</td>\n",
       "      <td>0.485777</td>\n",
       "      <td>scattergeo</td>\n",
       "      <td>lines</td>\n",
       "      <td>hong kong - united states : 97 times</td>\n",
       "    </tr>\n",
       "    <tr>\n",
       "      <th>134</th>\n",
       "      <td>95</td>\n",
       "      <td>united states</td>\n",
       "      <td>poland</td>\n",
       "      <td>52.097718</td>\n",
       "      <td>19.025816</td>\n",
       "      <td>39.783730</td>\n",
       "      <td>-100.445882</td>\n",
       "      <td>[52.0977181, 39.7837304]</td>\n",
       "      <td>[19.0258159, -100.4458825]</td>\n",
       "      <td>{'width': 0.06121479142670737, 'color': 'red'}</td>\n",
       "      <td>0.485777</td>\n",
       "      <td>scattergeo</td>\n",
       "      <td>lines</td>\n",
       "      <td>poland - united states : 95 times</td>\n",
       "    </tr>\n",
       "    <tr>\n",
       "      <th>135</th>\n",
       "      <td>89</td>\n",
       "      <td>ireland</td>\n",
       "      <td>slovenia</td>\n",
       "      <td>45.813311</td>\n",
       "      <td>14.480837</td>\n",
       "      <td>52.865196</td>\n",
       "      <td>-7.979460</td>\n",
       "      <td>[45.8133113, 52.865196]</td>\n",
       "      <td>[14.4808369, -7.9794599]</td>\n",
       "      <td>{'width': 0.05734859407344164, 'color': 'red'}</td>\n",
       "      <td>0.485777</td>\n",
       "      <td>scattergeo</td>\n",
       "      <td>lines</td>\n",
       "      <td>slovenia - ireland : 89 times</td>\n",
       "    </tr>\n",
       "    <tr>\n",
       "      <th>136</th>\n",
       "      <td>89</td>\n",
       "      <td>united states</td>\n",
       "      <td>bolivia</td>\n",
       "      <td>-17.056870</td>\n",
       "      <td>-64.991229</td>\n",
       "      <td>39.783730</td>\n",
       "      <td>-100.445882</td>\n",
       "      <td>[-17.0568696, 39.7837304]</td>\n",
       "      <td>[-64.9912286, -100.4458825]</td>\n",
       "      <td>{'width': 0.05734859407344164, 'color': 'red'}</td>\n",
       "      <td>0.485777</td>\n",
       "      <td>scattergeo</td>\n",
       "      <td>lines</td>\n",
       "      <td>bolivia - united states : 89 times</td>\n",
       "    </tr>\n",
       "    <tr>\n",
       "      <th>137</th>\n",
       "      <td>87</td>\n",
       "      <td>portugal</td>\n",
       "      <td>india</td>\n",
       "      <td>22.351115</td>\n",
       "      <td>78.667743</td>\n",
       "      <td>40.033265</td>\n",
       "      <td>-7.889626</td>\n",
       "      <td>[22.3511148, 40.033265]</td>\n",
       "      <td>[78.6677428, -7.8896263]</td>\n",
       "      <td>{'width': 0.05605986162235306, 'color': 'red'}</td>\n",
       "      <td>0.485777</td>\n",
       "      <td>scattergeo</td>\n",
       "      <td>lines</td>\n",
       "      <td>india - portugal : 87 times</td>\n",
       "    </tr>\n",
       "    <tr>\n",
       "      <th>138</th>\n",
       "      <td>83</td>\n",
       "      <td>singapore</td>\n",
       "      <td>turkey</td>\n",
       "      <td>38.959759</td>\n",
       "      <td>34.924965</td>\n",
       "      <td>1.290475</td>\n",
       "      <td>103.852036</td>\n",
       "      <td>[38.9597594, 1.2904753]</td>\n",
       "      <td>[34.9249653, 103.8520359]</td>\n",
       "      <td>{'width': 0.05348239672017591, 'color': 'red'}</td>\n",
       "      <td>0.485777</td>\n",
       "      <td>scattergeo</td>\n",
       "      <td>lines</td>\n",
       "      <td>turkey - singapore : 83 times</td>\n",
       "    </tr>\n",
       "    <tr>\n",
       "      <th>139</th>\n",
       "      <td>72</td>\n",
       "      <td>philippines</td>\n",
       "      <td>philippines</td>\n",
       "      <td>12.750349</td>\n",
       "      <td>122.731210</td>\n",
       "      <td>12.750349</td>\n",
       "      <td>122.731210</td>\n",
       "      <td>[12.7503486, 12.7503486]</td>\n",
       "      <td>[122.7312101, 122.7312101]</td>\n",
       "      <td>{'width': 0.046394368239188744, 'color': 'red'}</td>\n",
       "      <td>0.485777</td>\n",
       "      <td>scattergeo</td>\n",
       "      <td>lines</td>\n",
       "      <td>philippines - philippines : 72 times</td>\n",
       "    </tr>\n",
       "  </tbody>\n",
       "</table>\n",
       "<p>140 rows × 14 columns</p>\n",
       "</div>"
      ],
      "text/plain": [
       "     nb_attack                target              attacker  latitude_attacker  \\\n",
       "0        26877  united arab emirates                 china          39.904211   \n",
       "1        13059         united states                 china          39.904211   \n",
       "2         6424         united states               ukraine          49.487197   \n",
       "3         5202  united arab emirates           netherlands          52.237989   \n",
       "4         4761                 spain                 china          39.904211   \n",
       "5         2754  united arab emirates         united states          39.783730   \n",
       "6         2523         united states                 india          22.351115   \n",
       "7         2502         united states           south korea          37.566535   \n",
       "8         2458             singapore                 china          39.904211   \n",
       "9         1921         united states                turkey          38.959759   \n",
       "10        1889         united states                 swiss          46.798562   \n",
       "11        1545                norway                 china          39.904211   \n",
       "12        1521                 spain              colombia           2.889443   \n",
       "13        1494           philippines                 china          39.904211   \n",
       "14        1492               belgium           netherlands          52.237989   \n",
       "15        1461         united states              roumania          45.985213   \n",
       "16        1453         united states                 spain          40.002803   \n",
       "17        1323         united states             argentina         -34.996496   \n",
       "18        1275  united arab emirates                poland          52.097718   \n",
       "19        1186                france              pakistan          30.330840   \n",
       "20        1107                 italy         united states          39.783730   \n",
       "21        1093                france                france          46.603354   \n",
       "22        1004          saudi arabia          saudi arabia          17.726913   \n",
       "23         998         united states                 japan          36.574844   \n",
       "24         995                france               vietnam          13.290403   \n",
       "25         902                 italy                 china          39.904211   \n",
       "26         895         united states               germany          51.083420   \n",
       "27         859         united states                brazil         -10.333333   \n",
       "28         834             hong kong             hong kong          22.350627   \n",
       "29         832         united states               belgium          50.640735   \n",
       "..         ...                   ...                   ...                ...   \n",
       "110        143                canada                 china          39.904211   \n",
       "111        143              portugal              portugal          40.033265   \n",
       "112        142                 italy                france          46.603354   \n",
       "113        142                russia              colombia           2.889443   \n",
       "114        142          saudi arabia                 japan          36.574844   \n",
       "115        140              roumania                 swiss          46.798562   \n",
       "116        139               ireland              roumania          45.985213   \n",
       "117        139  united arab emirates               ukraine          49.487197   \n",
       "118        139  united arab emirates                 india          22.351115   \n",
       "119        139         united states             australia         -24.776109   \n",
       "120        138         united states        united kingdom          51.303000   \n",
       "121        137                 china                 spain          40.002803   \n",
       "122        136                norway               moldova          47.286747   \n",
       "123        135                mexico                mexico          19.432601   \n",
       "124        135         united states               armenia           4.492267   \n",
       "125        132                turkey                 swiss          46.798562   \n",
       "126        132        united kingdom  united arab emirates          25.615520   \n",
       "127        125                france                 china          39.904211   \n",
       "128        119                france                 india          22.351115   \n",
       "129        117               austria               ukraine          49.487197   \n",
       "130        113             hong kong         united states          39.783730   \n",
       "131        108                 italy           netherlands          52.237989   \n",
       "132        101  united arab emirates          saudi arabia          17.726913   \n",
       "133         97         united states             hong kong          22.350627   \n",
       "134         95         united states                poland          52.097718   \n",
       "135         89               ireland              slovenia          45.813311   \n",
       "136         89         united states               bolivia         -17.056870   \n",
       "137         87              portugal                 india          22.351115   \n",
       "138         83             singapore                turkey          38.959759   \n",
       "139         72           philippines           philippines          12.750349   \n",
       "\n",
       "     longitude_attacker  latitude_target  longitude_target  \\\n",
       "0            116.407395        25.615520         55.849510   \n",
       "1            116.407395        39.783730       -100.445882   \n",
       "2             31.271832        39.783730       -100.445882   \n",
       "3              5.534607        25.615520         55.849510   \n",
       "4            116.407395        40.002803         -4.003104   \n",
       "5           -100.445882        25.615520         55.849510   \n",
       "6             78.667743        39.783730       -100.445882   \n",
       "7            126.977969        39.783730       -100.445882   \n",
       "8            116.407395         1.290475        103.852036   \n",
       "9             34.924965        39.783730       -100.445882   \n",
       "10             8.231974        39.783730       -100.445882   \n",
       "11           116.407395        64.573154         11.528036   \n",
       "12           -73.783892        40.002803         -4.003104   \n",
       "13           116.407395        12.750349        122.731210   \n",
       "14             5.534607        50.640735          4.666960   \n",
       "15            24.685923        39.783730       -100.445882   \n",
       "16            -4.003104        39.783730       -100.445882   \n",
       "17           -64.967282        39.783730       -100.445882   \n",
       "18            19.025816        25.615520         55.849510   \n",
       "19            71.247499        46.603354          1.888334   \n",
       "20          -100.445882        42.638426         12.674297   \n",
       "21             1.888334        46.603354          1.888334   \n",
       "22            42.236345        17.726913         42.236345   \n",
       "23           139.239418        39.783730       -100.445882   \n",
       "24           108.426511        46.603354          1.888334   \n",
       "25           116.407395        42.638426         12.674297   \n",
       "26            10.423447        39.783730       -100.445882   \n",
       "27           -53.200000        39.783730       -100.445882   \n",
       "28           114.184916        22.350627        114.184916   \n",
       "29             4.666960        39.783730       -100.445882   \n",
       "..                  ...              ...               ...   \n",
       "110          116.407395        61.066692       -107.991707   \n",
       "111           -7.889626        40.033265         -7.889626   \n",
       "112            1.888334        42.638426         12.674297   \n",
       "113          -73.783892        64.686314         97.745306   \n",
       "114          139.239418        17.726913         42.236345   \n",
       "115            8.231974        45.985213         24.685923   \n",
       "116           24.685923        52.865196         -7.979460   \n",
       "117           31.271832        25.615520         55.849510   \n",
       "118           78.667743        25.615520         55.849510   \n",
       "119          134.755000        39.783730       -100.445882   \n",
       "120            0.073200        39.783730       -100.445882   \n",
       "121           -4.003104        39.904211        116.407395   \n",
       "122           28.511024        64.573154         11.528036   \n",
       "123          -99.133342        19.432601        -99.133342   \n",
       "124          -75.739625        39.783730       -100.445882   \n",
       "125            8.231974        38.959759         34.924965   \n",
       "126           55.849510        51.303000          0.073200   \n",
       "127          116.407395        46.603354          1.888334   \n",
       "128           78.667743        46.603354          1.888334   \n",
       "129           31.271832        47.200034         13.199959   \n",
       "130         -100.445882        22.350627        114.184916   \n",
       "131            5.534607        42.638426         12.674297   \n",
       "132           42.236345        25.615520         55.849510   \n",
       "133          114.184916        39.783730       -100.445882   \n",
       "134           19.025816        39.783730       -100.445882   \n",
       "135           14.480837        52.865196         -7.979460   \n",
       "136          -64.991229        39.783730       -100.445882   \n",
       "137           78.667743        40.033265         -7.889626   \n",
       "138           34.924965         1.290475        103.852036   \n",
       "139          122.731210        12.750349        122.731210   \n",
       "\n",
       "                           lat                                lon  \\\n",
       "0        [39.904211, 25.61552]             [116.407395, 55.84951]   \n",
       "1      [39.904211, 39.7837304]         [116.407395, -100.4458825]   \n",
       "2     [49.4871968, 39.7837304]         [31.2718321, -100.4458825]   \n",
       "3       [52.2379891, 25.61552]       [5.53460738161551, 55.84951]   \n",
       "4      [39.904211, 40.0028028]            [116.407395, -4.003104]   \n",
       "5       [39.7837304, 25.61552]           [-100.4458825, 55.84951]   \n",
       "6     [22.3511148, 39.7837304]         [78.6677428, -100.4458825]   \n",
       "7      [37.566535, 39.7837304]        [126.9779692, -100.4458825]   \n",
       "8       [39.904211, 1.2904753]          [116.407395, 103.8520359]   \n",
       "9     [38.9597594, 39.7837304]         [34.9249653, -100.4458825]   \n",
       "10    [46.7985624, 39.7837304]          [8.2319736, -100.4458825]   \n",
       "11     [39.904211, 64.5731537]     [116.407395, 11.5280364395482]   \n",
       "12     [2.8894434, 40.0028028]            [-73.783892, -4.003104]   \n",
       "13     [39.904211, 12.7503486]          [116.407395, 122.7312101]   \n",
       "14    [52.2379891, 50.6407351]        [5.53460738161551, 4.66696]   \n",
       "15    [45.9852129, 39.7837304]         [24.6859225, -100.4458825]   \n",
       "16    [40.0028028, 39.7837304]          [-4.003104, -100.4458825]   \n",
       "17   [-34.9964963, 39.7837304]        [-64.9672817, -100.4458825]   \n",
       "18      [52.0977181, 25.61552]             [19.0258159, 55.84951]   \n",
       "19     [30.3308401, 46.603354]             [71.247499, 1.8883335]   \n",
       "20    [39.7837304, 42.6384261]          [-100.4458825, 12.674297]   \n",
       "21      [46.603354, 46.603354]             [1.8883335, 1.8883335]   \n",
       "22    [17.7269134, 17.7269134]           [42.2363448, 42.2363448]   \n",
       "23    [36.5748441, 39.7837304]        [139.2394179, -100.4458825]   \n",
       "24     [13.2904027, 46.603354]           [108.4265113, 1.8883335]   \n",
       "25     [39.904211, 42.6384261]            [116.407395, 12.674297]   \n",
       "26    [51.0834196, 39.7837304]         [10.4234469, -100.4458825]   \n",
       "27   [-10.3333333, 39.7837304]              [-53.2, -100.4458825]   \n",
       "28      [22.350627, 22.350627]         [114.1849161, 114.1849161]   \n",
       "29    [50.6407351, 39.7837304]            [4.66696, -100.4458825]   \n",
       "..                         ...                                ...   \n",
       "110    [39.904211, 61.0666922]         [116.407395, -107.9917071]   \n",
       "111     [40.033265, 40.033265]           [-7.8896263, -7.8896263]   \n",
       "112    [46.603354, 42.6384261]             [1.8883335, 12.674297]   \n",
       "113    [2.8894434, 64.6863136]           [-73.783892, 97.7453061]   \n",
       "114   [36.5748441, 17.7269134]          [139.2394179, 42.2363448]   \n",
       "115   [46.7985624, 45.9852129]            [8.2319736, 24.6859225]   \n",
       "116    [45.9852129, 52.865196]           [24.6859225, -7.9794599]   \n",
       "117     [49.4871968, 25.61552]             [31.2718321, 55.84951]   \n",
       "118     [22.3511148, 25.61552]             [78.6677428, 55.84951]   \n",
       "119  [-24.7761086, 39.7837304]            [134.755, -100.4458825]   \n",
       "120       [51.303, 39.7837304]             [0.0732, -100.4458825]   \n",
       "121    [40.0028028, 39.904211]            [-4.003104, 116.407395]   \n",
       "122    [47.286747, 64.5731537]     [28.5110236, 11.5280364395482]   \n",
       "123   [19.4326009, 19.4326009]         [-99.1333416, -99.1333416]   \n",
       "124    [4.4922673, 39.7837304]  [-75.7396253904384, -100.4458825]   \n",
       "125   [46.7985624, 38.9597594]            [8.2319736, 34.9249653]   \n",
       "126         [25.61552, 51.303]                 [55.84951, 0.0732]   \n",
       "127     [39.904211, 46.603354]            [116.407395, 1.8883335]   \n",
       "128    [22.3511148, 46.603354]            [78.6677428, 1.8883335]   \n",
       "129   [49.4871968, 47.2000338]            [31.2718321, 13.199959]   \n",
       "130    [39.7837304, 22.350627]        [-100.4458825, 114.1849161]   \n",
       "131   [52.2379891, 42.6384261]      [5.53460738161551, 12.674297]   \n",
       "132     [17.7269134, 25.61552]             [42.2363448, 55.84951]   \n",
       "133    [22.350627, 39.7837304]        [114.1849161, -100.4458825]   \n",
       "134   [52.0977181, 39.7837304]         [19.0258159, -100.4458825]   \n",
       "135    [45.8133113, 52.865196]           [14.4808369, -7.9794599]   \n",
       "136  [-17.0568696, 39.7837304]        [-64.9912286, -100.4458825]   \n",
       "137    [22.3511148, 40.033265]           [78.6677428, -7.8896263]   \n",
       "138    [38.9597594, 1.2904753]          [34.9249653, 103.8520359]   \n",
       "139   [12.7503486, 12.7503486]         [122.7312101, 122.7312101]   \n",
       "\n",
       "                                                line   opacity        type  \\\n",
       "0      {'width': 17.318631043953832, 'color': 'red'}  0.485777  scattergeo   \n",
       "1       {'width': 8.414778539382858, 'color': 'red'}  0.485777  scattergeo   \n",
       "2       {'width': 4.139408632896507, 'color': 'red'}  0.485777  scattergeo   \n",
       "3      {'width': 3.3519931052813865, 'color': 'red'}  0.485777  scattergeo   \n",
       "4      {'width': 3.0678275998163556, 'color': 'red'}  0.485777  scattergeo   \n",
       "5      {'width': 1.7745845851489694, 'color': 'red'}  0.485777  scattergeo   \n",
       "6      {'width': 1.6257359870482389, 'color': 'red'}  0.485777  scattergeo   \n",
       "7      {'width': 1.6122042963118088, 'color': 'red'}  0.485777  scattergeo   \n",
       "8      {'width': 1.5838521823878602, 'color': 'red'}  0.485777  scattergeo   \n",
       "9      {'width': 1.2378275192705774, 'color': 'red'}  0.485777  scattergeo   \n",
       "10     {'width': 1.2172078000531603, 'color': 'red'}  0.485777  scattergeo   \n",
       "11      {'width': 0.995545818465925, 'color': 'red'}  0.485777  scattergeo   \n",
       "12     {'width': 0.9800810290528622, 'color': 'red'}  0.485777  scattergeo   \n",
       "13     {'width': 0.9626831409631664, 'color': 'red'}  0.485777  scattergeo   \n",
       "14     {'width': 0.9613944085120778, 'color': 'red'}  0.485777  scattergeo   \n",
       "15      {'width': 0.941419055520205, 'color': 'red'}  0.485777  scattergeo   \n",
       "16     {'width': 0.9362641257158506, 'color': 'red'}  0.485777  scattergeo   \n",
       "17     {'width': 0.8524965163950932, 'color': 'red'}  0.485777  scattergeo   \n",
       "18     {'width': 0.8215669375689673, 'color': 'red'}  0.485777  scattergeo   \n",
       "19     {'width': 0.7642183434955256, 'color': 'red'}  0.485777  scattergeo   \n",
       "20     {'width': 0.7133134116775269, 'color': 'red'}  0.485777  scattergeo   \n",
       "21     {'width': 0.7042922845199069, 'color': 'red'}  0.485777  scattergeo   \n",
       "22     {'width': 0.6469436904464653, 'color': 'red'}  0.485777  scattergeo   \n",
       "23     {'width': 0.6430774930931995, 'color': 'red'}  0.485777  scattergeo   \n",
       "24     {'width': 0.6411443944165667, 'color': 'red'}  0.485777  scattergeo   \n",
       "25     {'width': 0.5812183354409479, 'color': 'red'}  0.485777  scattergeo   \n",
       "26     {'width': 0.5767077718621378, 'color': 'red'}  0.485777  scattergeo   \n",
       "27     {'width': 0.5535105877425435, 'color': 'red'}  0.485777  scattergeo   \n",
       "28     {'width': 0.5374014321039363, 'color': 'red'}  0.485777  scattergeo   \n",
       "29     {'width': 0.5361126996528477, 'color': 'red'}  0.485777  scattergeo   \n",
       "..                                               ...       ...         ...   \n",
       "110    {'width': 0.0921443702528332, 'color': 'red'}  0.485777  scattergeo   \n",
       "111    {'width': 0.0921443702528332, 'color': 'red'}  0.485777  scattergeo   \n",
       "112    {'width': 0.0915000040272889, 'color': 'red'}  0.485777  scattergeo   \n",
       "113    {'width': 0.0915000040272889, 'color': 'red'}  0.485777  scattergeo   \n",
       "114    {'width': 0.0915000040272889, 'color': 'red'}  0.485777  scattergeo   \n",
       "115   {'width': 0.09021127157620033, 'color': 'red'}  0.485777  scattergeo   \n",
       "116   {'width': 0.08956690535065605, 'color': 'red'}  0.485777  scattergeo   \n",
       "117   {'width': 0.08956690535065605, 'color': 'red'}  0.485777  scattergeo   \n",
       "118   {'width': 0.08956690535065605, 'color': 'red'}  0.485777  scattergeo   \n",
       "119   {'width': 0.08956690535065605, 'color': 'red'}  0.485777  scattergeo   \n",
       "120   {'width': 0.08892253912511175, 'color': 'red'}  0.485777  scattergeo   \n",
       "121   {'width': 0.08827817289956746, 'color': 'red'}  0.485777  scattergeo   \n",
       "122   {'width': 0.08763380667402318, 'color': 'red'}  0.485777  scattergeo   \n",
       "123    {'width': 0.0869894404484789, 'color': 'red'}  0.485777  scattergeo   \n",
       "124    {'width': 0.0869894404484789, 'color': 'red'}  0.485777  scattergeo   \n",
       "125   {'width': 0.08505634177184604, 'color': 'red'}  0.485777  scattergeo   \n",
       "126   {'width': 0.08505634177184604, 'color': 'red'}  0.485777  scattergeo   \n",
       "127   {'width': 0.08054577819303602, 'color': 'red'}  0.485777  scattergeo   \n",
       "128   {'width': 0.07667958083977028, 'color': 'red'}  0.485777  scattergeo   \n",
       "129   {'width': 0.07539084838868171, 'color': 'red'}  0.485777  scattergeo   \n",
       "130   {'width': 0.07281338348650455, 'color': 'red'}  0.485777  scattergeo   \n",
       "131   {'width': 0.06959155235878312, 'color': 'red'}  0.485777  scattergeo   \n",
       "132   {'width': 0.06508098877997309, 'color': 'red'}  0.485777  scattergeo   \n",
       "133   {'width': 0.06250352387779595, 'color': 'red'}  0.485777  scattergeo   \n",
       "134   {'width': 0.06121479142670737, 'color': 'red'}  0.485777  scattergeo   \n",
       "135   {'width': 0.05734859407344164, 'color': 'red'}  0.485777  scattergeo   \n",
       "136   {'width': 0.05734859407344164, 'color': 'red'}  0.485777  scattergeo   \n",
       "137   {'width': 0.05605986162235306, 'color': 'red'}  0.485777  scattergeo   \n",
       "138   {'width': 0.05348239672017591, 'color': 'red'}  0.485777  scattergeo   \n",
       "139  {'width': 0.046394368239188744, 'color': 'red'}  0.485777  scattergeo   \n",
       "\n",
       "      mode                                               text  \n",
       "0    lines         china - united arab emirates : 26877 times  \n",
       "1    lines                china - united states : 13059 times  \n",
       "2    lines               ukraine - united states : 6424 times  \n",
       "3    lines    netherlands - united arab emirates : 5202 times  \n",
       "4    lines                         china - spain : 4761 times  \n",
       "5    lines  united states - united arab emirates : 2754 times  \n",
       "6    lines                 india - united states : 2523 times  \n",
       "7    lines           south korea - united states : 2502 times  \n",
       "8    lines                     china - singapore : 2458 times  \n",
       "9    lines                turkey - united states : 1921 times  \n",
       "10   lines                 swiss - united states : 1889 times  \n",
       "11   lines                        china - norway : 1545 times  \n",
       "12   lines                      colombia - spain : 1521 times  \n",
       "13   lines                   china - philippines : 1494 times  \n",
       "14   lines                 netherlands - belgium : 1492 times  \n",
       "15   lines              roumania - united states : 1461 times  \n",
       "16   lines                 spain - united states : 1453 times  \n",
       "17   lines             argentina - united states : 1323 times  \n",
       "18   lines         poland - united arab emirates : 1275 times  \n",
       "19   lines                     pakistan - france : 1186 times  \n",
       "20   lines                 united states - italy : 1107 times  \n",
       "21   lines                       france - france : 1093 times  \n",
       "22   lines           saudi arabia - saudi arabia : 1004 times  \n",
       "23   lines                  japan - united states : 998 times  \n",
       "24   lines                       vietnam - france : 995 times  \n",
       "25   lines                          china - italy : 902 times  \n",
       "26   lines                germany - united states : 895 times  \n",
       "27   lines                 brazil - united states : 859 times  \n",
       "28   lines                  hong kong - hong kong : 834 times  \n",
       "29   lines                belgium - united states : 832 times  \n",
       "..     ...                                                ...  \n",
       "110  lines                         china - canada : 143 times  \n",
       "111  lines                    portugal - portugal : 143 times  \n",
       "112  lines                         france - italy : 142 times  \n",
       "113  lines                      colombia - russia : 142 times  \n",
       "114  lines                   japan - saudi arabia : 142 times  \n",
       "115  lines                       swiss - roumania : 140 times  \n",
       "116  lines                     roumania - ireland : 139 times  \n",
       "117  lines         ukraine - united arab emirates : 139 times  \n",
       "118  lines           india - united arab emirates : 139 times  \n",
       "119  lines              australia - united states : 139 times  \n",
       "120  lines         united kingdom - united states : 138 times  \n",
       "121  lines                          spain - china : 137 times  \n",
       "122  lines                       moldova - norway : 136 times  \n",
       "123  lines                        mexico - mexico : 135 times  \n",
       "124  lines                armenia - united states : 135 times  \n",
       "125  lines                         swiss - turkey : 132 times  \n",
       "126  lines  united arab emirates - united kingdom : 132 times  \n",
       "127  lines                         china - france : 125 times  \n",
       "128  lines                         india - france : 119 times  \n",
       "129  lines                      ukraine - austria : 117 times  \n",
       "130  lines              united states - hong kong : 113 times  \n",
       "131  lines                    netherlands - italy : 108 times  \n",
       "132  lines    saudi arabia - united arab emirates : 101 times  \n",
       "133  lines               hong kong - united states : 97 times  \n",
       "134  lines                  poland - united states : 95 times  \n",
       "135  lines                      slovenia - ireland : 89 times  \n",
       "136  lines                 bolivia - united states : 89 times  \n",
       "137  lines                        india - portugal : 87 times  \n",
       "138  lines                      turkey - singapore : 83 times  \n",
       "139  lines               philippines - philippines : 72 times  \n",
       "\n",
       "[140 rows x 14 columns]"
      ]
     },
     "execution_count": 410,
     "metadata": {},
     "output_type": "execute_result"
    }
   ],
   "source": [
    "df"
   ]
  },
  {
   "cell_type": "code",
   "execution_count": 411,
   "metadata": {},
   "outputs": [],
   "source": [
    "data_norse = df[['lat', 'line', 'lon', 'mode', 'opacity','type']].to_dict(orient='records')"
   ]
  },
  {
   "cell_type": "code",
   "execution_count": 412,
   "metadata": {},
   "outputs": [
    {
     "data": {
      "application/vnd.plotly.v1+json": {
       "data": [
        {
         "lat": [
          39.904211,
          25.61552
         ],
         "line": {
          "color": "red",
          "width": 17.318631043953832
         },
         "lon": [
          116.407395,
          55.84951
         ],
         "mode": "lines",
         "opacity": 0.48577680525164113,
         "type": "scattergeo"
        },
        {
         "lat": [
          39.904211,
          39.7837304
         ],
         "line": {
          "color": "red",
          "width": 8.414778539382858
         },
         "lon": [
          116.407395,
          -100.4458825
         ],
         "mode": "lines",
         "opacity": 0.48577680525164113,
         "type": "scattergeo"
        },
        {
         "lat": [
          49.4871968,
          39.7837304
         ],
         "line": {
          "color": "red",
          "width": 4.139408632896507
         },
         "lon": [
          31.2718321,
          -100.4458825
         ],
         "mode": "lines",
         "opacity": 0.48577680525164113,
         "type": "scattergeo"
        },
        {
         "lat": [
          52.2379891,
          25.61552
         ],
         "line": {
          "color": "red",
          "width": 3.3519931052813865
         },
         "lon": [
          5.53460738161551,
          55.84951
         ],
         "mode": "lines",
         "opacity": 0.48577680525164113,
         "type": "scattergeo"
        },
        {
         "lat": [
          39.904211,
          40.0028028
         ],
         "line": {
          "color": "red",
          "width": 3.0678275998163556
         },
         "lon": [
          116.407395,
          -4.003104
         ],
         "mode": "lines",
         "opacity": 0.48577680525164113,
         "type": "scattergeo"
        },
        {
         "lat": [
          39.7837304,
          25.61552
         ],
         "line": {
          "color": "red",
          "width": 1.7745845851489694
         },
         "lon": [
          -100.4458825,
          55.84951
         ],
         "mode": "lines",
         "opacity": 0.48577680525164113,
         "type": "scattergeo"
        },
        {
         "lat": [
          22.3511148,
          39.7837304
         ],
         "line": {
          "color": "red",
          "width": 1.6257359870482389
         },
         "lon": [
          78.6677428,
          -100.4458825
         ],
         "mode": "lines",
         "opacity": 0.48577680525164113,
         "type": "scattergeo"
        },
        {
         "lat": [
          37.566535,
          39.7837304
         ],
         "line": {
          "color": "red",
          "width": 1.6122042963118088
         },
         "lon": [
          126.9779692,
          -100.4458825
         ],
         "mode": "lines",
         "opacity": 0.48577680525164113,
         "type": "scattergeo"
        },
        {
         "lat": [
          39.904211,
          1.2904753
         ],
         "line": {
          "color": "red",
          "width": 1.5838521823878602
         },
         "lon": [
          116.407395,
          103.8520359
         ],
         "mode": "lines",
         "opacity": 0.48577680525164113,
         "type": "scattergeo"
        },
        {
         "lat": [
          38.9597594,
          39.7837304
         ],
         "line": {
          "color": "red",
          "width": 1.2378275192705774
         },
         "lon": [
          34.9249653,
          -100.4458825
         ],
         "mode": "lines",
         "opacity": 0.48577680525164113,
         "type": "scattergeo"
        },
        {
         "lat": [
          46.7985624,
          39.7837304
         ],
         "line": {
          "color": "red",
          "width": 1.2172078000531603
         },
         "lon": [
          8.2319736,
          -100.4458825
         ],
         "mode": "lines",
         "opacity": 0.48577680525164113,
         "type": "scattergeo"
        },
        {
         "lat": [
          39.904211,
          64.5731537
         ],
         "line": {
          "color": "red",
          "width": 0.995545818465925
         },
         "lon": [
          116.407395,
          11.5280364395482
         ],
         "mode": "lines",
         "opacity": 0.48577680525164113,
         "type": "scattergeo"
        },
        {
         "lat": [
          2.8894434,
          40.0028028
         ],
         "line": {
          "color": "red",
          "width": 0.9800810290528622
         },
         "lon": [
          -73.783892,
          -4.003104
         ],
         "mode": "lines",
         "opacity": 0.48577680525164113,
         "type": "scattergeo"
        },
        {
         "lat": [
          39.904211,
          12.7503486
         ],
         "line": {
          "color": "red",
          "width": 0.9626831409631664
         },
         "lon": [
          116.407395,
          122.7312101
         ],
         "mode": "lines",
         "opacity": 0.48577680525164113,
         "type": "scattergeo"
        },
        {
         "lat": [
          52.2379891,
          50.6407351
         ],
         "line": {
          "color": "red",
          "width": 0.9613944085120778
         },
         "lon": [
          5.53460738161551,
          4.66696
         ],
         "mode": "lines",
         "opacity": 0.48577680525164113,
         "type": "scattergeo"
        },
        {
         "lat": [
          45.9852129,
          39.7837304
         ],
         "line": {
          "color": "red",
          "width": 0.941419055520205
         },
         "lon": [
          24.6859225,
          -100.4458825
         ],
         "mode": "lines",
         "opacity": 0.48577680525164113,
         "type": "scattergeo"
        },
        {
         "lat": [
          40.0028028,
          39.7837304
         ],
         "line": {
          "color": "red",
          "width": 0.9362641257158506
         },
         "lon": [
          -4.003104,
          -100.4458825
         ],
         "mode": "lines",
         "opacity": 0.48577680525164113,
         "type": "scattergeo"
        },
        {
         "lat": [
          -34.9964963,
          39.7837304
         ],
         "line": {
          "color": "red",
          "width": 0.8524965163950932
         },
         "lon": [
          -64.9672817,
          -100.4458825
         ],
         "mode": "lines",
         "opacity": 0.48577680525164113,
         "type": "scattergeo"
        },
        {
         "lat": [
          52.0977181,
          25.61552
         ],
         "line": {
          "color": "red",
          "width": 0.8215669375689673
         },
         "lon": [
          19.0258159,
          55.84951
         ],
         "mode": "lines",
         "opacity": 0.48577680525164113,
         "type": "scattergeo"
        },
        {
         "lat": [
          30.3308401,
          46.603354
         ],
         "line": {
          "color": "red",
          "width": 0.7642183434955256
         },
         "lon": [
          71.247499,
          1.8883335
         ],
         "mode": "lines",
         "opacity": 0.48577680525164113,
         "type": "scattergeo"
        },
        {
         "lat": [
          39.7837304,
          42.6384261
         ],
         "line": {
          "color": "red",
          "width": 0.7133134116775269
         },
         "lon": [
          -100.4458825,
          12.674297
         ],
         "mode": "lines",
         "opacity": 0.48577680525164113,
         "type": "scattergeo"
        },
        {
         "lat": [
          46.603354,
          46.603354
         ],
         "line": {
          "color": "red",
          "width": 0.7042922845199069
         },
         "lon": [
          1.8883335,
          1.8883335
         ],
         "mode": "lines",
         "opacity": 0.48577680525164113,
         "type": "scattergeo"
        },
        {
         "lat": [
          17.7269134,
          17.7269134
         ],
         "line": {
          "color": "red",
          "width": 0.6469436904464653
         },
         "lon": [
          42.2363448,
          42.2363448
         ],
         "mode": "lines",
         "opacity": 0.48577680525164113,
         "type": "scattergeo"
        },
        {
         "lat": [
          36.5748441,
          39.7837304
         ],
         "line": {
          "color": "red",
          "width": 0.6430774930931995
         },
         "lon": [
          139.2394179,
          -100.4458825
         ],
         "mode": "lines",
         "opacity": 0.48577680525164113,
         "type": "scattergeo"
        },
        {
         "lat": [
          13.2904027,
          46.603354
         ],
         "line": {
          "color": "red",
          "width": 0.6411443944165667
         },
         "lon": [
          108.4265113,
          1.8883335
         ],
         "mode": "lines",
         "opacity": 0.48577680525164113,
         "type": "scattergeo"
        },
        {
         "lat": [
          39.904211,
          42.6384261
         ],
         "line": {
          "color": "red",
          "width": 0.5812183354409479
         },
         "lon": [
          116.407395,
          12.674297
         ],
         "mode": "lines",
         "opacity": 0.48577680525164113,
         "type": "scattergeo"
        },
        {
         "lat": [
          51.0834196,
          39.7837304
         ],
         "line": {
          "color": "red",
          "width": 0.5767077718621378
         },
         "lon": [
          10.4234469,
          -100.4458825
         ],
         "mode": "lines",
         "opacity": 0.48577680525164113,
         "type": "scattergeo"
        },
        {
         "lat": [
          -10.3333333,
          39.7837304
         ],
         "line": {
          "color": "red",
          "width": 0.5535105877425435
         },
         "lon": [
          -53.2,
          -100.4458825
         ],
         "mode": "lines",
         "opacity": 0.48577680525164113,
         "type": "scattergeo"
        },
        {
         "lat": [
          22.350627,
          22.350627
         ],
         "line": {
          "color": "red",
          "width": 0.5374014321039363
         },
         "lon": [
          114.1849161,
          114.1849161
         ],
         "mode": "lines",
         "opacity": 0.48577680525164113,
         "type": "scattergeo"
        },
        {
         "lat": [
          50.6407351,
          39.7837304
         ],
         "line": {
          "color": "red",
          "width": 0.5361126996528477
         },
         "lon": [
          4.66696,
          -100.4458825
         ],
         "mode": "lines",
         "opacity": 0.48577680525164113,
         "type": "scattergeo"
        },
        {
         "lat": [
          47.286747,
          39.7837304
         ],
         "line": {
          "color": "red",
          "width": 0.5322465022995819
         },
         "lon": [
          28.5110236,
          -100.4458825
         ],
         "mode": "lines",
         "opacity": 0.48577680525164113,
         "type": "scattergeo"
        },
        {
         "lat": [
          46.603354,
          25.61552
         ],
         "line": {
          "color": "red",
          "width": 0.523225375141962
         },
         "lon": [
          1.8883335,
          55.84951
         ],
         "mode": "lines",
         "opacity": 0.48577680525164113,
         "type": "scattergeo"
        },
        {
         "lat": [
          46.7985624,
          25.61552
         ],
         "line": {
          "color": "red",
          "width": 0.5109824168566204
         },
         "lon": [
          8.2319736,
          55.84951
         ],
         "mode": "lines",
         "opacity": 0.48577680525164113,
         "type": "scattergeo"
        },
        {
         "lat": [
          12.7503486,
          39.7837304
         ],
         "line": {
          "color": "red",
          "width": 0.4613662174897103
         },
         "lon": [
          122.7312101,
          -100.4458825
         ],
         "mode": "lines",
         "opacity": 0.48577680525164113,
         "type": "scattergeo"
        },
        {
         "lat": [
          64.6863136,
          64.6863136
         ],
         "line": {
          "color": "red",
          "width": 0.4497676254299131
         },
         "lon": [
          97.7453061,
          97.7453061
         ],
         "mode": "lines",
         "opacity": 0.48577680525164113,
         "type": "scattergeo"
        },
        {
         "lat": [
          39.904211,
          14.8971921
         ],
         "line": {
          "color": "red",
          "width": 0.4252817088592301
         },
         "lon": [
          116.407395,
          100.83273
         ],
         "mode": "lines",
         "opacity": 0.48577680525164113,
         "type": "scattergeo"
        },
        {
         "lat": [
          -31.7613365,
          39.7837304
         ],
         "line": {
          "color": "red",
          "width": 0.3859753691010286
         },
         "lon": [
          -71.3187697,
          -100.4458825
         ],
         "mode": "lines",
         "opacity": 0.48577680525164113,
         "type": "scattergeo"
        },
        {
         "lat": [
          38.9597594,
          25.61552
         ],
         "line": {
          "color": "red",
          "width": 0.3795317068455857
         },
         "lon": [
          34.9249653,
          55.84951
         ],
         "mode": "lines",
         "opacity": 0.48577680525164113,
         "type": "scattergeo"
        },
        {
         "lat": [
          40.0028028,
          25.61552
         ],
         "line": {
          "color": "red",
          "width": 0.3750211432667757
         },
         "lon": [
          -4.003104,
          55.84951
         ],
         "mode": "lines",
         "opacity": 0.48577680525164113,
         "type": "scattergeo"
        },
        {
         "lat": [
          30.3308401,
          39.7837304
         ],
         "line": {
          "color": "red",
          "width": 0.3679331147857885
         },
         "lon": [
          71.247499,
          -100.4458825
         ],
         "mode": "lines",
         "opacity": 0.48577680525164113,
         "type": "scattergeo"
        },
        {
         "lat": [
          37.566535,
          25.61552
         ],
         "line": {
          "color": "red",
          "width": 0.360200720079257
         },
         "lon": [
          126.9779692,
          55.84951
         ],
         "mode": "lines",
         "opacity": 0.48577680525164113,
         "type": "scattergeo"
        },
        {
         "lat": [
          2.8894434,
          39.7837304
         ],
         "line": {
          "color": "red",
          "width": 0.3582676214026242
         },
         "lon": [
          -73.783892,
          -100.4458825
         ],
         "mode": "lines",
         "opacity": 0.48577680525164113,
         "type": "scattergeo"
        },
        {
         "lat": [
          52.2379891,
          39.7837304
         ],
         "line": {
          "color": "red",
          "width": 0.35311269159826986
         },
         "lon": [
          5.53460738161551,
          -100.4458825
         ],
         "mode": "lines",
         "opacity": 0.48577680525164113,
         "type": "scattergeo"
        },
        {
         "lat": [
          49.8167003,
          25.61552
         ],
         "line": {
          "color": "red",
          "width": 0.3524683253727256
         },
         "lon": [
          15.4749544,
          55.84951
         ],
         "mode": "lines",
         "opacity": 0.48577680525164113,
         "type": "scattergeo"
        },
        {
         "lat": [
          64.6863136,
          39.7837304
         ],
         "line": {
          "color": "red",
          "width": 0.3479577617939156
         },
         "lon": [
          97.7453061,
          -100.4458825
         ],
         "mode": "lines",
         "opacity": 0.48577680525164113,
         "type": "scattergeo"
        },
        {
         "lat": [
          19.4326009,
          25.61552
         ],
         "line": {
          "color": "red",
          "width": 0.346669029342827
         },
         "lon": [
          -99.1333416,
          55.84951
         ],
         "mode": "lines",
         "opacity": 0.48577680525164113,
         "type": "scattergeo"
        },
        {
         "lat": [
          19.4326009,
          39.7837304
         ],
         "line": {
          "color": "red",
          "width": 0.34151409953847267
         },
         "lon": [
          -99.1333416,
          -100.4458825
         ],
         "mode": "lines",
         "opacity": 0.48577680525164113,
         "type": "scattergeo"
        },
        {
         "lat": [
          13.2904027,
          40.0028028
         ],
         "line": {
          "color": "red",
          "width": 0.3357148035085741
         },
         "lon": [
          108.4265113,
          -4.003104
         ],
         "mode": "lines",
         "opacity": 0.48577680525164113,
         "type": "scattergeo"
        },
        {
         "lat": [
          51.0834196,
          51.303
         ],
         "line": {
          "color": "red",
          "width": 0.32733804257649834
         },
         "lon": [
          10.4234469,
          0.0732
         ],
         "mode": "lines",
         "opacity": 0.48577680525164113,
         "type": "scattergeo"
        },
        {
         "lat": [
          42.6384261,
          42.6384261
         ],
         "line": {
          "color": "red",
          "width": 0.29189790017156253
         },
         "lon": [
          12.674297,
          12.674297
         ],
         "mode": "lines",
         "opacity": 0.48577680525164113,
         "type": "scattergeo"
        },
        {
         "lat": [
          13.2904027,
          39.7837304
         ],
         "line": {
          "color": "red",
          "width": 0.2912535339460182
         },
         "lon": [
          108.4265113,
          -100.4458825
         ],
         "mode": "lines",
         "opacity": 0.48577680525164113,
         "type": "scattergeo"
        },
        {
         "lat": [
          23.59829785,
          25.61552
         ],
         "line": {
          "color": "red",
          "width": 0.2815880405628539
         },
         "lon": [
          120.835363138175,
          55.84951
         ],
         "mode": "lines",
         "opacity": 0.48577680525164113,
         "type": "scattergeo"
        },
        {
         "lat": [
          34.9823018,
          34.9823018
         ],
         "line": {
          "color": "red",
          "width": 0.2764331107584996
         },
         "lon": [
          33.1451285,
          33.1451285
         ],
         "mode": "lines",
         "opacity": 0.48577680525164113,
         "type": "scattergeo"
        },
        {
         "lat": [
          42.6384261,
          39.7837304
         ],
         "line": {
          "color": "red",
          "width": 0.27192254717968956
         },
         "lon": [
          12.674297,
          -100.4458825
         ],
         "mode": "lines",
         "opacity": 0.48577680525164113,
         "type": "scattergeo"
        },
        {
         "lat": [
          51.0834196,
          51.0834196
         ],
         "line": {
          "color": "red",
          "width": 0.2712781809541453
         },
         "lon": [
          10.4234469,
          10.4234469
         ],
         "mode": "lines",
         "opacity": 0.48577680525164113,
         "type": "scattergeo"
        },
        {
         "lat": [
          32.3018217,
          25.61552
         ],
         "line": {
          "color": "red",
          "width": 0.26998944850305673
         },
         "lon": [
          -64.7603583,
          55.84951
         ],
         "mode": "lines",
         "opacity": 0.48577680525164113,
         "type": "scattergeo"
        },
        {
         "lat": [
          49.8167003,
          39.7837304
         ],
         "line": {
          "color": "red",
          "width": 0.2674119836008796
         },
         "lon": [
          15.4749544,
          -100.4458825
         ],
         "mode": "lines",
         "opacity": 0.48577680525164113,
         "type": "scattergeo"
        },
        {
         "lat": [
          22.350627,
          25.61552
         ],
         "line": {
          "color": "red",
          "width": 0.2667676173753353
         },
         "lon": [
          114.1849161,
          55.84951
         ],
         "mode": "lines",
         "opacity": 0.48577680525164113,
         "type": "scattergeo"
        },
        {
         "lat": [
          4.4922673,
          25.61552
         ],
         "line": {
          "color": "red",
          "width": 0.25839085644325954
         },
         "lon": [
          -75.7396253904384,
          55.84951
         ],
         "mode": "lines",
         "opacity": 0.48577680525164113,
         "type": "scattergeo"
        },
        {
         "lat": [
          12.7503486,
          25.61552
         ],
         "line": {
          "color": "red",
          "width": 0.25645775776662666
         },
         "lon": [
          122.7312101,
          55.84951
         ],
         "mode": "lines",
         "opacity": 0.48577680525164113,
         "type": "scattergeo"
        },
        {
         "lat": [
          51.303,
          40.0028028
         ],
         "line": {
          "color": "red",
          "width": 0.2513028279622724
         },
         "lon": [
          0.0732,
          -4.003104
         ],
         "mode": "lines",
         "opacity": 0.48577680525164113,
         "type": "scattergeo"
        },
        {
         "lat": [
          46.8250388,
          39.7837304
         ],
         "line": {
          "color": "red",
          "width": 0.2455035319323738
         },
         "lon": [
          103.8499736,
          -100.4458825
         ],
         "mode": "lines",
         "opacity": 0.48577680525164113,
         "type": "scattergeo"
        },
        {
         "lat": [
          52.2379891,
          17.7269134
         ],
         "line": {
          "color": "red",
          "width": 0.2274612776171337
         },
         "lon": [
          5.53460738161551,
          42.2363448
         ],
         "mode": "lines",
         "opacity": 0.48577680525164113,
         "type": "scattergeo"
        },
        {
         "lat": [
          61.0666922,
          39.7837304
         ],
         "line": {
          "color": "red",
          "width": 0.21070775575298223
         },
         "lon": [
          -107.9917071,
          -100.4458825
         ],
         "mode": "lines",
         "opacity": 0.48577680525164113,
         "type": "scattergeo"
        },
        {
         "lat": [
          30.8760272,
          25.61552
         ],
         "line": {
          "color": "red",
          "width": 0.21006338952743792
         },
         "lon": [
          35.0015196,
          55.84951
         ],
         "mode": "lines",
         "opacity": 0.48577680525164113,
         "type": "scattergeo"
        },
        {
         "lat": [
          52.865196,
          14.8971921
         ],
         "line": {
          "color": "red",
          "width": 0.19524296633991928
         },
         "lon": [
          -7.9794599,
          100.83273
         ],
         "mode": "lines",
         "opacity": 0.48577680525164113,
         "type": "scattergeo"
        },
        {
         "lat": [
          39.904211,
          38.9597594
         ],
         "line": {
          "color": "red",
          "width": 0.19266550143774214
         },
         "lon": [
          116.407395,
          34.9249653
         ],
         "mode": "lines",
         "opacity": 0.48577680525164113,
         "type": "scattergeo"
        },
        {
         "lat": [
          36.5748441,
          25.61552
         ],
         "line": {
          "color": "red",
          "width": 0.18815493785893211
         },
         "lon": [
          139.2394179,
          55.84951
         ],
         "mode": "lines",
         "opacity": 0.48577680525164113,
         "type": "scattergeo"
        },
        {
         "lat": [
          26.2540493,
          39.7837304
         ],
         "line": {
          "color": "red",
          "width": 0.18751057163338786
         },
         "lon": [
          29.2675469,
          -100.4458825
         ],
         "mode": "lines",
         "opacity": 0.48577680525164113,
         "type": "scattergeo"
        },
        {
         "lat": [
          -41.5000831,
          39.7837304
         ],
         "line": {
          "color": "red",
          "width": 0.1836443742801221
         },
         "lon": [
          172.8344077,
          -100.4458825
         ],
         "mode": "lines",
         "opacity": 0.48577680525164113,
         "type": "scattergeo"
        },
        {
         "lat": [
          13.2904027,
          25.61552
         ],
         "line": {
          "color": "red",
          "width": 0.18235564182903352
         },
         "lon": [
          108.4265113,
          55.84951
         ],
         "mode": "lines",
         "opacity": 0.48577680525164113,
         "type": "scattergeo"
        },
        {
         "lat": [
          40.033265,
          39.7837304
         ],
         "line": {
          "color": "red",
          "width": 0.18106690937794495
         },
         "lon": [
          -7.8896263,
          -100.4458825
         ],
         "mode": "lines",
         "opacity": 0.48577680525164113,
         "type": "scattergeo"
        },
        {
         "lat": [
          39.7837304,
          52.865196
         ],
         "line": {
          "color": "red",
          "width": 0.17977817692685638
         },
         "lon": [
          -100.4458825,
          -7.9794599
         ],
         "mode": "lines",
         "opacity": 0.48577680525164113,
         "type": "scattergeo"
        },
        {
         "lat": [
          46.7985624,
          40.0028028
         ],
         "line": {
          "color": "red",
          "width": 0.17655634579913493
         },
         "lon": [
          8.2319736,
          -4.003104
         ],
         "mode": "lines",
         "opacity": 0.48577680525164113,
         "type": "scattergeo"
        },
        {
         "lat": [
          23.59829785,
          39.7837304
         ],
         "line": {
          "color": "red",
          "width": 0.17591197957359067
         },
         "lon": [
          120.835363138175,
          -100.4458825
         ],
         "mode": "lines",
         "opacity": 0.48577680525164113,
         "type": "scattergeo"
        },
        {
         "lat": [
          14.8971921,
          25.61552
         ],
         "line": {
          "color": "red",
          "width": 0.17591197957359067
         },
         "lon": [
          100.83273,
          55.84951
         ],
         "mode": "lines",
         "opacity": 0.48577680525164113,
         "type": "scattergeo"
        },
        {
         "lat": [
          37.566535,
          40.0028028
         ],
         "line": {
          "color": "red",
          "width": 0.17591197957359067
         },
         "lon": [
          126.9779692,
          -4.003104
         ],
         "mode": "lines",
         "opacity": 0.48577680525164113,
         "type": "scattergeo"
        },
        {
         "lat": [
          -4.7993356,
          25.61552
         ],
         "line": {
          "color": "red",
          "width": 0.17269014844586922
         },
         "lon": [
          114.5632032,
          55.84951
         ],
         "mode": "lines",
         "opacity": 0.48577680525164113,
         "type": "scattergeo"
        },
        {
         "lat": [
          -4.7993356,
          39.7837304
         ],
         "line": {
          "color": "red",
          "width": 0.17269014844586922
         },
         "lon": [
          114.5632032,
          -100.4458825
         ],
         "mode": "lines",
         "opacity": 0.48577680525164113,
         "type": "scattergeo"
        },
        {
         "lat": [
          46.603354,
          39.7837304
         ],
         "line": {
          "color": "red",
          "width": 0.1720457822203249
         },
         "lon": [
          1.8883335,
          -100.4458825
         ],
         "mode": "lines",
         "opacity": 0.48577680525164113,
         "type": "scattergeo"
        },
        {
         "lat": [
          61.0666922,
          25.61552
         ],
         "line": {
          "color": "red",
          "width": 0.17140141599478062
         },
         "lon": [
          -107.9917071,
          55.84951
         ],
         "mode": "lines",
         "opacity": 0.48577680525164113,
         "type": "scattergeo"
        },
        {
         "lat": [
          42.6384261,
          25.61552
         ],
         "line": {
          "color": "red",
          "width": 0.17011268354369208
         },
         "lon": [
          12.674297,
          55.84951
         ],
         "mode": "lines",
         "opacity": 0.48577680525164113,
         "type": "scattergeo"
        },
        {
         "lat": [
          46.7985624,
          46.603354
         ],
         "line": {
          "color": "red",
          "width": 0.1662464861904263
         },
         "lon": [
          8.2319736,
          1.8883335
         ],
         "mode": "lines",
         "opacity": 0.48577680525164113,
         "type": "scattergeo"
        },
        {
         "lat": [
          14.8971921,
          40.033265
         ],
         "line": {
          "color": "red",
          "width": 0.16560211996488203
         },
         "lon": [
          100.83273,
          -7.8896263
         ],
         "mode": "lines",
         "opacity": 0.48577680525164113,
         "type": "scattergeo"
        },
        {
         "lat": [
          39.7837304,
          46.603354
         ],
         "line": {
          "color": "red",
          "width": 0.1585140914838949
         },
         "lon": [
          -100.4458825,
          1.8883335
         ],
         "mode": "lines",
         "opacity": 0.48577680525164113,
         "type": "scattergeo"
        },
        {
         "lat": [
          52.865196,
          25.61552
         ],
         "line": {
          "color": "red",
          "width": 0.1572253590328063
         },
         "lon": [
          -7.9794599,
          55.84951
         ],
         "mode": "lines",
         "opacity": 0.48577680525164113,
         "type": "scattergeo"
        },
        {
         "lat": [
          -10.3333333,
          25.61552
         ],
         "line": {
          "color": "red",
          "width": 0.15013733055181913
         },
         "lon": [
          -53.2,
          55.84951
         ],
         "mode": "lines",
         "opacity": 0.48577680525164113,
         "type": "scattergeo"
        },
        {
         "lat": [
          39.7837304,
          12.7503486
         ],
         "line": {
          "color": "red",
          "width": 0.14820423187518628
         },
         "lon": [
          -100.4458825,
          122.7312101
         ],
         "mode": "lines",
         "opacity": 0.48577680525164113,
         "type": "scattergeo"
        },
        {
         "lat": [
          30.3308401,
          25.61552
         ],
         "line": {
          "color": "red",
          "width": 0.1353169073643005
         },
         "lon": [
          71.247499,
          55.84951
         ],
         "mode": "lines",
         "opacity": 0.48577680525164113,
         "type": "scattergeo"
        },
        {
         "lat": [
          39.904211,
          64.6863136
         ],
         "line": {
          "color": "red",
          "width": 0.13273944246212335
         },
         "lon": [
          116.407395,
          97.7453061
         ],
         "mode": "lines",
         "opacity": 0.48577680525164113,
         "type": "scattergeo"
        },
        {
         "lat": [
          39.904211,
          22.350627
         ],
         "line": {
          "color": "red",
          "width": 0.12629578020668047
         },
         "lon": [
          116.407395,
          114.1849161
         ],
         "mode": "lines",
         "opacity": 0.48577680525164113,
         "type": "scattergeo"
        },
        {
         "lat": [
          39.7837304,
          50.6407351
         ],
         "line": {
          "color": "red",
          "width": 0.12307394907895902
         },
         "lon": [
          -100.4458825,
          4.66696
         ],
         "mode": "lines",
         "opacity": 0.48577680525164113,
         "type": "scattergeo"
        },
        {
         "lat": [
          42.6073975,
          39.7837304
         ],
         "line": {
          "color": "red",
          "width": 0.10632042721480753
         },
         "lon": [
          25.4856617,
          -100.4458825
         ],
         "mode": "lines",
         "opacity": 0.48577680525164113,
         "type": "scattergeo"
        },
        {
         "lat": [
          22.3511148,
          1.2904753
         ],
         "line": {
          "color": "red",
          "width": 0.10374296231263039
         },
         "lon": [
          78.6677428,
          103.8520359
         ],
         "mode": "lines",
         "opacity": 0.48577680525164113,
         "type": "scattergeo"
        },
        {
         "lat": [
          39.7837304,
          51.0834196
         ],
         "line": {
          "color": "red",
          "width": 0.10309859608708609
         },
         "lon": [
          -100.4458825,
          10.4234469
         ],
         "mode": "lines",
         "opacity": 0.48577680525164113,
         "type": "scattergeo"
        },
        {
         "lat": [
          39.7837304,
          -24.7761086
         ],
         "line": {
          "color": "red",
          "width": 0.10245422986154182
         },
         "lon": [
          -100.4458825,
          134.755
         ],
         "mode": "lines",
         "opacity": 0.48577680525164113,
         "type": "scattergeo"
        },
        {
         "lat": [
          36.5748441,
          50.6407351
         ],
         "line": {
          "color": "red",
          "width": 0.10180986363599752
         },
         "lon": [
          139.2394179,
          4.66696
         ],
         "mode": "lines",
         "opacity": 0.48577680525164113,
         "type": "scattergeo"
        },
        {
         "lat": [
          22.3511148,
          42.6384261
         ],
         "line": {
          "color": "red",
          "width": 0.09923239873382037
         },
         "lon": [
          78.6677428,
          12.674297
         ],
         "mode": "lines",
         "opacity": 0.48577680525164113,
         "type": "scattergeo"
        },
        {
         "lat": [
          52.0977181,
          34.9823018
         ],
         "line": {
          "color": "red",
          "width": 0.0979436662827318
         },
         "lon": [
          19.0258159,
          33.1451285
         ],
         "mode": "lines",
         "opacity": 0.48577680525164113,
         "type": "scattergeo"
        },
        {
         "lat": [
          39.7837304,
          45.9852129
         ],
         "line": {
          "color": "red",
          "width": 0.0972993000571875
         },
         "lon": [
          -100.4458825,
          24.6859225
         ],
         "mode": "lines",
         "opacity": 0.48577680525164113,
         "type": "scattergeo"
        },
        {
         "lat": [
          52.2379891,
          52.865196
         ],
         "line": {
          "color": "red",
          "width": 0.0972993000571875
         },
         "lon": [
          5.53460738161551,
          -7.9794599
         ],
         "mode": "lines",
         "opacity": 0.48577680525164113,
         "type": "scattergeo"
        },
        {
         "lat": [
          51.303,
          51.303
         ],
         "line": {
          "color": "red",
          "width": 0.09665493383164322
         },
         "lon": [
          0.0732,
          0.0732
         ],
         "mode": "lines",
         "opacity": 0.48577680525164113,
         "type": "scattergeo"
        },
        {
         "lat": [
          39.7837304,
          64.6863136
         ],
         "line": {
          "color": "red",
          "width": 0.09536620138055464
         },
         "lon": [
          -100.4458825,
          97.7453061
         ],
         "mode": "lines",
         "opacity": 0.48577680525164113,
         "type": "scattergeo"
        },
        {
         "lat": [
          39.7837304,
          64.5731537
         ],
         "line": {
          "color": "red",
          "width": 0.09472183515501034
         },
         "lon": [
          -100.4458825,
          11.5280364395482
         ],
         "mode": "lines",
         "opacity": 0.48577680525164113,
         "type": "scattergeo"
        },
        {
         "lat": [
          39.7837304,
          51.38660965
         ],
         "line": {
          "color": "red",
          "width": 0.09407746892946606
         },
         "lon": [
          -100.4458825,
          0.547714867236488
         ],
         "mode": "lines",
         "opacity": 0.48577680525164113,
         "type": "scattergeo"
        },
        {
         "lat": [
          36.5748441,
          61.0666922
         ],
         "line": {
          "color": "red",
          "width": 0.09407746892946606
         },
         "lon": [
          139.2394179,
          -107.9917071
         ],
         "mode": "lines",
         "opacity": 0.48577680525164113,
         "type": "scattergeo"
        },
        {
         "lat": [
          23.59829785,
          -24.7761086
         ],
         "line": {
          "color": "red",
          "width": 0.09343310270392177
         },
         "lon": [
          120.835363138175,
          134.755
         ],
         "mode": "lines",
         "opacity": 0.48577680525164113,
         "type": "scattergeo"
        },
        {
         "lat": [
          8.0018709,
          12.7503486
         ],
         "line": {
          "color": "red",
          "width": 0.09278873647837749
         },
         "lon": [
          -66.1109318,
          122.7312101
         ],
         "mode": "lines",
         "opacity": 0.48577680525164113,
         "type": "scattergeo"
        },
        {
         "lat": [
          24.4768783,
          34.9823018
         ],
         "line": {
          "color": "red",
          "width": 0.09278873647837749
         },
         "lon": [
          90.2932426,
          33.1451285
         ],
         "mode": "lines",
         "opacity": 0.48577680525164113,
         "type": "scattergeo"
        },
        {
         "lat": [
          51.0834196,
          52.0977181
         ],
         "line": {
          "color": "red",
          "width": 0.09278873647837749
         },
         "lon": [
          10.4234469,
          19.0258159
         ],
         "mode": "lines",
         "opacity": 0.48577680525164113,
         "type": "scattergeo"
        },
        {
         "lat": [
          39.904211,
          61.0666922
         ],
         "line": {
          "color": "red",
          "width": 0.0921443702528332
         },
         "lon": [
          116.407395,
          -107.9917071
         ],
         "mode": "lines",
         "opacity": 0.48577680525164113,
         "type": "scattergeo"
        },
        {
         "lat": [
          40.033265,
          40.033265
         ],
         "line": {
          "color": "red",
          "width": 0.0921443702528332
         },
         "lon": [
          -7.8896263,
          -7.8896263
         ],
         "mode": "lines",
         "opacity": 0.48577680525164113,
         "type": "scattergeo"
        },
        {
         "lat": [
          46.603354,
          42.6384261
         ],
         "line": {
          "color": "red",
          "width": 0.0915000040272889
         },
         "lon": [
          1.8883335,
          12.674297
         ],
         "mode": "lines",
         "opacity": 0.48577680525164113,
         "type": "scattergeo"
        },
        {
         "lat": [
          2.8894434,
          64.6863136
         ],
         "line": {
          "color": "red",
          "width": 0.0915000040272889
         },
         "lon": [
          -73.783892,
          97.7453061
         ],
         "mode": "lines",
         "opacity": 0.48577680525164113,
         "type": "scattergeo"
        },
        {
         "lat": [
          36.5748441,
          17.7269134
         ],
         "line": {
          "color": "red",
          "width": 0.0915000040272889
         },
         "lon": [
          139.2394179,
          42.2363448
         ],
         "mode": "lines",
         "opacity": 0.48577680525164113,
         "type": "scattergeo"
        },
        {
         "lat": [
          46.7985624,
          45.9852129
         ],
         "line": {
          "color": "red",
          "width": 0.09021127157620033
         },
         "lon": [
          8.2319736,
          24.6859225
         ],
         "mode": "lines",
         "opacity": 0.48577680525164113,
         "type": "scattergeo"
        },
        {
         "lat": [
          45.9852129,
          52.865196
         ],
         "line": {
          "color": "red",
          "width": 0.08956690535065605
         },
         "lon": [
          24.6859225,
          -7.9794599
         ],
         "mode": "lines",
         "opacity": 0.48577680525164113,
         "type": "scattergeo"
        },
        {
         "lat": [
          49.4871968,
          25.61552
         ],
         "line": {
          "color": "red",
          "width": 0.08956690535065605
         },
         "lon": [
          31.2718321,
          55.84951
         ],
         "mode": "lines",
         "opacity": 0.48577680525164113,
         "type": "scattergeo"
        },
        {
         "lat": [
          22.3511148,
          25.61552
         ],
         "line": {
          "color": "red",
          "width": 0.08956690535065605
         },
         "lon": [
          78.6677428,
          55.84951
         ],
         "mode": "lines",
         "opacity": 0.48577680525164113,
         "type": "scattergeo"
        },
        {
         "lat": [
          -24.7761086,
          39.7837304
         ],
         "line": {
          "color": "red",
          "width": 0.08956690535065605
         },
         "lon": [
          134.755,
          -100.4458825
         ],
         "mode": "lines",
         "opacity": 0.48577680525164113,
         "type": "scattergeo"
        },
        {
         "lat": [
          51.303,
          39.7837304
         ],
         "line": {
          "color": "red",
          "width": 0.08892253912511175
         },
         "lon": [
          0.0732,
          -100.4458825
         ],
         "mode": "lines",
         "opacity": 0.48577680525164113,
         "type": "scattergeo"
        },
        {
         "lat": [
          40.0028028,
          39.904211
         ],
         "line": {
          "color": "red",
          "width": 0.08827817289956746
         },
         "lon": [
          -4.003104,
          116.407395
         ],
         "mode": "lines",
         "opacity": 0.48577680525164113,
         "type": "scattergeo"
        },
        {
         "lat": [
          47.286747,
          64.5731537
         ],
         "line": {
          "color": "red",
          "width": 0.08763380667402318
         },
         "lon": [
          28.5110236,
          11.5280364395482
         ],
         "mode": "lines",
         "opacity": 0.48577680525164113,
         "type": "scattergeo"
        },
        {
         "lat": [
          19.4326009,
          19.4326009
         ],
         "line": {
          "color": "red",
          "width": 0.0869894404484789
         },
         "lon": [
          -99.1333416,
          -99.1333416
         ],
         "mode": "lines",
         "opacity": 0.48577680525164113,
         "type": "scattergeo"
        },
        {
         "lat": [
          4.4922673,
          39.7837304
         ],
         "line": {
          "color": "red",
          "width": 0.0869894404484789
         },
         "lon": [
          -75.7396253904384,
          -100.4458825
         ],
         "mode": "lines",
         "opacity": 0.48577680525164113,
         "type": "scattergeo"
        },
        {
         "lat": [
          46.7985624,
          38.9597594
         ],
         "line": {
          "color": "red",
          "width": 0.08505634177184604
         },
         "lon": [
          8.2319736,
          34.9249653
         ],
         "mode": "lines",
         "opacity": 0.48577680525164113,
         "type": "scattergeo"
        },
        {
         "lat": [
          25.61552,
          51.303
         ],
         "line": {
          "color": "red",
          "width": 0.08505634177184604
         },
         "lon": [
          55.84951,
          0.0732
         ],
         "mode": "lines",
         "opacity": 0.48577680525164113,
         "type": "scattergeo"
        },
        {
         "lat": [
          39.904211,
          46.603354
         ],
         "line": {
          "color": "red",
          "width": 0.08054577819303602
         },
         "lon": [
          116.407395,
          1.8883335
         ],
         "mode": "lines",
         "opacity": 0.48577680525164113,
         "type": "scattergeo"
        },
        {
         "lat": [
          22.3511148,
          46.603354
         ],
         "line": {
          "color": "red",
          "width": 0.07667958083977028
         },
         "lon": [
          78.6677428,
          1.8883335
         ],
         "mode": "lines",
         "opacity": 0.48577680525164113,
         "type": "scattergeo"
        },
        {
         "lat": [
          49.4871968,
          47.2000338
         ],
         "line": {
          "color": "red",
          "width": 0.07539084838868171
         },
         "lon": [
          31.2718321,
          13.199959
         ],
         "mode": "lines",
         "opacity": 0.48577680525164113,
         "type": "scattergeo"
        },
        {
         "lat": [
          39.7837304,
          22.350627
         ],
         "line": {
          "color": "red",
          "width": 0.07281338348650455
         },
         "lon": [
          -100.4458825,
          114.1849161
         ],
         "mode": "lines",
         "opacity": 0.48577680525164113,
         "type": "scattergeo"
        },
        {
         "lat": [
          52.2379891,
          42.6384261
         ],
         "line": {
          "color": "red",
          "width": 0.06959155235878312
         },
         "lon": [
          5.53460738161551,
          12.674297
         ],
         "mode": "lines",
         "opacity": 0.48577680525164113,
         "type": "scattergeo"
        },
        {
         "lat": [
          17.7269134,
          25.61552
         ],
         "line": {
          "color": "red",
          "width": 0.06508098877997309
         },
         "lon": [
          42.2363448,
          55.84951
         ],
         "mode": "lines",
         "opacity": 0.48577680525164113,
         "type": "scattergeo"
        },
        {
         "lat": [
          22.350627,
          39.7837304
         ],
         "line": {
          "color": "red",
          "width": 0.06250352387779595
         },
         "lon": [
          114.1849161,
          -100.4458825
         ],
         "mode": "lines",
         "opacity": 0.48577680525164113,
         "type": "scattergeo"
        },
        {
         "lat": [
          52.0977181,
          39.7837304
         ],
         "line": {
          "color": "red",
          "width": 0.06121479142670737
         },
         "lon": [
          19.0258159,
          -100.4458825
         ],
         "mode": "lines",
         "opacity": 0.48577680525164113,
         "type": "scattergeo"
        },
        {
         "lat": [
          45.8133113,
          52.865196
         ],
         "line": {
          "color": "red",
          "width": 0.05734859407344164
         },
         "lon": [
          14.4808369,
          -7.9794599
         ],
         "mode": "lines",
         "opacity": 0.48577680525164113,
         "type": "scattergeo"
        },
        {
         "lat": [
          -17.0568696,
          39.7837304
         ],
         "line": {
          "color": "red",
          "width": 0.05734859407344164
         },
         "lon": [
          -64.9912286,
          -100.4458825
         ],
         "mode": "lines",
         "opacity": 0.48577680525164113,
         "type": "scattergeo"
        },
        {
         "lat": [
          22.3511148,
          40.033265
         ],
         "line": {
          "color": "red",
          "width": 0.05605986162235306
         },
         "lon": [
          78.6677428,
          -7.8896263
         ],
         "mode": "lines",
         "opacity": 0.48577680525164113,
         "type": "scattergeo"
        },
        {
         "lat": [
          38.9597594,
          1.2904753
         ],
         "line": {
          "color": "red",
          "width": 0.05348239672017591
         },
         "lon": [
          34.9249653,
          103.8520359
         ],
         "mode": "lines",
         "opacity": 0.48577680525164113,
         "type": "scattergeo"
        },
        {
         "lat": [
          12.7503486,
          12.7503486
         ],
         "line": {
          "color": "red",
          "width": 0.046394368239188744
         },
         "lon": [
          122.7312101,
          122.7312101
         ],
         "mode": "lines",
         "opacity": 0.48577680525164113,
         "type": "scattergeo"
        },
        {
         "hoverinfo": "text",
         "lat": [
          39.904211,
          39.904211,
          49.4871968,
          52.2379891,
          39.904211,
          39.7837304,
          22.3511148,
          37.566535,
          39.904211,
          38.9597594,
          46.7985624,
          39.904211,
          2.8894434,
          39.904211,
          52.2379891,
          45.9852129,
          40.0028028,
          -34.9964963,
          52.0977181,
          30.3308401,
          39.7837304,
          46.603354,
          17.7269134,
          36.5748441,
          13.2904027,
          39.904211,
          51.0834196,
          -10.3333333,
          22.350627,
          50.6407351,
          47.286747,
          46.603354,
          46.7985624,
          12.7503486,
          64.6863136,
          39.904211,
          -31.7613365,
          38.9597594,
          40.0028028,
          30.3308401,
          37.566535,
          2.8894434,
          52.2379891,
          49.8167003,
          64.6863136,
          19.4326009,
          19.4326009,
          13.2904027,
          51.0834196,
          42.6384261,
          13.2904027,
          23.59829785,
          34.9823018,
          42.6384261,
          51.0834196,
          32.3018217,
          49.8167003,
          22.350627,
          4.4922673,
          12.7503486,
          51.303,
          46.8250388,
          52.2379891,
          61.0666922,
          30.8760272,
          52.865196,
          39.904211,
          36.5748441,
          26.2540493,
          -41.5000831,
          13.2904027,
          40.033265,
          39.7837304,
          46.7985624,
          23.59829785,
          14.8971921,
          37.566535,
          -4.7993356,
          -4.7993356,
          46.603354,
          61.0666922,
          42.6384261,
          46.7985624,
          14.8971921,
          39.7837304,
          52.865196,
          -10.3333333,
          39.7837304,
          30.3308401,
          39.904211,
          39.904211,
          39.7837304,
          42.6073975,
          22.3511148,
          39.7837304,
          39.7837304,
          36.5748441,
          22.3511148,
          52.0977181,
          39.7837304,
          52.2379891,
          51.303,
          39.7837304,
          39.7837304,
          39.7837304,
          36.5748441,
          23.59829785,
          8.0018709,
          24.4768783,
          51.0834196,
          39.904211,
          40.033265,
          46.603354,
          2.8894434,
          36.5748441,
          46.7985624,
          45.9852129,
          49.4871968,
          22.3511148,
          -24.7761086,
          51.303,
          40.0028028,
          47.286747,
          19.4326009,
          4.4922673,
          46.7985624,
          25.61552,
          39.904211,
          22.3511148,
          49.4871968,
          39.7837304,
          52.2379891,
          17.7269134,
          22.350627,
          52.0977181,
          45.8133113,
          -17.0568696,
          22.3511148,
          38.9597594,
          12.7503486
         ],
         "lon": [
          116.407395,
          116.407395,
          31.2718321,
          5.53460738161551,
          116.407395,
          -100.4458825,
          78.6677428,
          126.9779692,
          116.407395,
          34.9249653,
          8.2319736,
          116.407395,
          -73.783892,
          116.407395,
          5.53460738161551,
          24.6859225,
          -4.003104,
          -64.9672817,
          19.0258159,
          71.247499,
          -100.4458825,
          1.8883335,
          42.2363448,
          139.2394179,
          108.4265113,
          116.407395,
          10.4234469,
          -53.2,
          114.1849161,
          4.66696,
          28.5110236,
          1.8883335,
          8.2319736,
          122.7312101,
          97.7453061,
          116.407395,
          -71.3187697,
          34.9249653,
          -4.003104,
          71.247499,
          126.9779692,
          -73.783892,
          5.53460738161551,
          15.4749544,
          97.7453061,
          -99.1333416,
          -99.1333416,
          108.4265113,
          10.4234469,
          12.674297,
          108.4265113,
          120.835363138175,
          33.1451285,
          12.674297,
          10.4234469,
          -64.7603583,
          15.4749544,
          114.1849161,
          -75.7396253904384,
          122.7312101,
          0.0732,
          103.8499736,
          5.53460738161551,
          -107.9917071,
          35.0015196,
          -7.9794599,
          116.407395,
          139.2394179,
          29.2675469,
          172.8344077,
          108.4265113,
          -7.8896263,
          -100.4458825,
          8.2319736,
          120.835363138175,
          100.83273,
          126.9779692,
          114.5632032,
          114.5632032,
          1.8883335,
          -107.9917071,
          12.674297,
          8.2319736,
          100.83273,
          -100.4458825,
          -7.9794599,
          -53.2,
          -100.4458825,
          71.247499,
          116.407395,
          116.407395,
          -100.4458825,
          25.4856617,
          78.6677428,
          -100.4458825,
          -100.4458825,
          139.2394179,
          78.6677428,
          19.0258159,
          -100.4458825,
          5.53460738161551,
          0.0732,
          -100.4458825,
          -100.4458825,
          -100.4458825,
          139.2394179,
          120.835363138175,
          -66.1109318,
          90.2932426,
          10.4234469,
          116.407395,
          -7.8896263,
          1.8883335,
          -73.783892,
          139.2394179,
          8.2319736,
          24.6859225,
          31.2718321,
          78.6677428,
          134.755,
          0.0732,
          -4.003104,
          28.5110236,
          -99.1333416,
          -75.7396253904384,
          8.2319736,
          55.84951,
          116.407395,
          78.6677428,
          31.2718321,
          -100.4458825,
          5.53460738161551,
          42.2363448,
          114.1849161,
          19.0258159,
          14.4808369,
          -64.9912286,
          78.6677428,
          34.9249653,
          122.7312101
         ],
         "marker": {
          "color": "rgb(255, 0, 0)",
          "line": {
           "color": "rgba(68, 68, 68, 0)",
           "width": 1
          },
          "size": 2
         },
         "mode": "markers",
         "text": [
          "china",
          "china",
          "ukraine",
          "netherlands",
          "china",
          "united states",
          "india",
          "south korea",
          "china",
          "turkey",
          "swiss",
          "china",
          "colombia",
          "china",
          "netherlands",
          "roumania",
          "spain",
          "argentina",
          "poland",
          "pakistan",
          "united states",
          "france",
          "saudi arabia",
          "japan",
          "vietnam",
          "china",
          "germany",
          "brazil",
          "hong kong",
          "belgium",
          "moldova",
          "france",
          "swiss",
          "philippines",
          "russia",
          "china",
          "chile",
          "turkey",
          "spain",
          "pakistan",
          "south korea",
          "colombia",
          "netherlands",
          "czech republic",
          "russia",
          "mexico",
          "mexico",
          "vietnam",
          "germany",
          "italy",
          "vietnam",
          "taiwan",
          "cyprus",
          "italy",
          "germany",
          "bermuda",
          "czech republic",
          "hong kong",
          "armenia",
          "philippines",
          "united kingdom",
          "mongolia",
          "netherlands",
          "canada",
          "israel",
          "ireland",
          "china",
          "japan",
          "egypt",
          "new zealand",
          "vietnam",
          "portugal",
          "united states",
          "swiss",
          "taiwan",
          "thailand",
          "south korea",
          "indonesia",
          "indonesia",
          "france",
          "canada",
          "italy",
          "swiss",
          "thailand",
          "united states",
          "ireland",
          "brazil",
          "united states",
          "pakistan",
          "china",
          "china",
          "united states",
          "bulgaria",
          "india",
          "united states",
          "united states",
          "japan",
          "india",
          "poland",
          "united states",
          "netherlands",
          "united kingdom",
          "united states",
          "united states",
          "united states",
          "japan",
          "taiwan",
          "venezuela",
          "bangladesh",
          "germany",
          "china",
          "portugal",
          "france",
          "colombia",
          "japan",
          "swiss",
          "roumania",
          "ukraine",
          "india",
          "australia",
          "united kingdom",
          "spain",
          "moldova",
          "mexico",
          "armenia",
          "swiss",
          "united arab emirates",
          "china",
          "india",
          "ukraine",
          "united states",
          "netherlands",
          "saudi arabia",
          "hong kong",
          "poland",
          "slovenia",
          "bolivia",
          "india",
          "turkey",
          "philippines"
         ],
         "type": "scattergeo"
        }
       ],
       "layout": {
        "geo": {
         "countrycolor": "rgb(204, 204, 204)",
         "landcolor": "rgb(243, 243, 243)",
         "projection": {
          "type": "equirectangular"
         },
         "scope": "world",
         "showland": true
        },
        "showlegend": false
       }
      },
      "text/html": [
       "<div id=\"a2c4f496-c1e8-4b20-ac11-690bdf114dd3\" style=\"height: 525px; width: 100%;\" class=\"plotly-graph-div\"></div><script type=\"text/javascript\">require([\"plotly\"], function(Plotly) { window.PLOTLYENV=window.PLOTLYENV || {};window.PLOTLYENV.BASE_URL=\"https://plot.ly\";Plotly.newPlot(\"a2c4f496-c1e8-4b20-ac11-690bdf114dd3\", [{\"lon\": [116.407395, 55.84951], \"opacity\": 0.48577680525164113, \"lat\": [39.904211, 25.61552], \"type\": \"scattergeo\", \"line\": {\"width\": 17.318631043953832, \"color\": \"red\"}, \"mode\": \"lines\"}, {\"lon\": [116.407395, -100.4458825], \"opacity\": 0.48577680525164113, \"lat\": [39.904211, 39.7837304], \"type\": \"scattergeo\", \"line\": {\"width\": 8.414778539382858, \"color\": \"red\"}, \"mode\": \"lines\"}, {\"lon\": [31.2718321, -100.4458825], \"opacity\": 0.48577680525164113, \"lat\": [49.4871968, 39.7837304], \"type\": \"scattergeo\", \"line\": {\"width\": 4.139408632896507, \"color\": \"red\"}, \"mode\": \"lines\"}, {\"lon\": [5.53460738161551, 55.84951], \"opacity\": 0.48577680525164113, \"lat\": [52.2379891, 25.61552], \"type\": \"scattergeo\", \"line\": {\"width\": 3.3519931052813865, \"color\": \"red\"}, \"mode\": \"lines\"}, {\"lon\": [116.407395, -4.003104], \"opacity\": 0.48577680525164113, \"lat\": [39.904211, 40.0028028], \"type\": \"scattergeo\", \"line\": {\"width\": 3.0678275998163556, \"color\": \"red\"}, \"mode\": \"lines\"}, {\"lon\": [-100.4458825, 55.84951], \"opacity\": 0.48577680525164113, \"lat\": [39.7837304, 25.61552], \"type\": \"scattergeo\", \"line\": {\"width\": 1.7745845851489694, \"color\": \"red\"}, \"mode\": \"lines\"}, {\"lon\": [78.6677428, -100.4458825], \"opacity\": 0.48577680525164113, \"lat\": [22.3511148, 39.7837304], \"type\": \"scattergeo\", \"line\": {\"width\": 1.6257359870482389, \"color\": \"red\"}, \"mode\": \"lines\"}, {\"lon\": [126.9779692, -100.4458825], \"opacity\": 0.48577680525164113, \"lat\": [37.566535, 39.7837304], \"type\": \"scattergeo\", \"line\": {\"width\": 1.6122042963118088, \"color\": \"red\"}, \"mode\": \"lines\"}, {\"lon\": [116.407395, 103.8520359], \"opacity\": 0.48577680525164113, \"lat\": [39.904211, 1.2904753], \"type\": \"scattergeo\", \"line\": {\"width\": 1.5838521823878602, \"color\": \"red\"}, \"mode\": \"lines\"}, {\"lon\": [34.9249653, -100.4458825], \"opacity\": 0.48577680525164113, \"lat\": [38.9597594, 39.7837304], \"type\": \"scattergeo\", \"line\": {\"width\": 1.2378275192705774, \"color\": \"red\"}, \"mode\": \"lines\"}, {\"lon\": [8.2319736, -100.4458825], \"opacity\": 0.48577680525164113, \"lat\": [46.7985624, 39.7837304], \"type\": \"scattergeo\", \"line\": {\"width\": 1.2172078000531603, \"color\": \"red\"}, \"mode\": \"lines\"}, {\"lon\": [116.407395, 11.5280364395482], \"opacity\": 0.48577680525164113, \"lat\": [39.904211, 64.5731537], \"type\": \"scattergeo\", \"line\": {\"width\": 0.995545818465925, \"color\": \"red\"}, \"mode\": \"lines\"}, {\"lon\": [-73.783892, -4.003104], \"opacity\": 0.48577680525164113, \"lat\": [2.8894434, 40.0028028], \"type\": \"scattergeo\", \"line\": {\"width\": 0.9800810290528622, \"color\": \"red\"}, \"mode\": \"lines\"}, {\"lon\": [116.407395, 122.7312101], \"opacity\": 0.48577680525164113, \"lat\": [39.904211, 12.7503486], \"type\": \"scattergeo\", \"line\": {\"width\": 0.9626831409631664, \"color\": \"red\"}, \"mode\": \"lines\"}, {\"lon\": [5.53460738161551, 4.66696], \"opacity\": 0.48577680525164113, \"lat\": [52.2379891, 50.6407351], \"type\": \"scattergeo\", \"line\": {\"width\": 0.9613944085120778, \"color\": \"red\"}, \"mode\": \"lines\"}, {\"lon\": [24.6859225, -100.4458825], \"opacity\": 0.48577680525164113, \"lat\": [45.9852129, 39.7837304], \"type\": \"scattergeo\", \"line\": {\"width\": 0.941419055520205, \"color\": \"red\"}, \"mode\": \"lines\"}, {\"lon\": [-4.003104, -100.4458825], \"opacity\": 0.48577680525164113, \"lat\": [40.0028028, 39.7837304], \"type\": \"scattergeo\", \"line\": {\"width\": 0.9362641257158506, \"color\": \"red\"}, \"mode\": \"lines\"}, {\"lon\": [-64.9672817, -100.4458825], \"opacity\": 0.48577680525164113, \"lat\": [-34.9964963, 39.7837304], \"type\": \"scattergeo\", \"line\": {\"width\": 0.8524965163950932, \"color\": \"red\"}, \"mode\": \"lines\"}, {\"lon\": [19.0258159, 55.84951], \"opacity\": 0.48577680525164113, \"lat\": [52.0977181, 25.61552], \"type\": \"scattergeo\", \"line\": {\"width\": 0.8215669375689673, \"color\": \"red\"}, \"mode\": \"lines\"}, {\"lon\": [71.247499, 1.8883335], \"opacity\": 0.48577680525164113, \"lat\": [30.3308401, 46.603354], \"type\": \"scattergeo\", \"line\": {\"width\": 0.7642183434955256, \"color\": \"red\"}, \"mode\": \"lines\"}, {\"lon\": [-100.4458825, 12.674297], \"opacity\": 0.48577680525164113, \"lat\": [39.7837304, 42.6384261], \"type\": \"scattergeo\", \"line\": {\"width\": 0.7133134116775269, \"color\": \"red\"}, \"mode\": \"lines\"}, {\"lon\": [1.8883335, 1.8883335], \"opacity\": 0.48577680525164113, \"lat\": [46.603354, 46.603354], \"type\": \"scattergeo\", \"line\": {\"width\": 0.7042922845199069, \"color\": \"red\"}, \"mode\": \"lines\"}, {\"lon\": [42.2363448, 42.2363448], \"opacity\": 0.48577680525164113, \"lat\": [17.7269134, 17.7269134], \"type\": \"scattergeo\", \"line\": {\"width\": 0.6469436904464653, \"color\": \"red\"}, \"mode\": \"lines\"}, {\"lon\": [139.2394179, -100.4458825], \"opacity\": 0.48577680525164113, \"lat\": [36.5748441, 39.7837304], \"type\": \"scattergeo\", \"line\": {\"width\": 0.6430774930931995, \"color\": \"red\"}, \"mode\": \"lines\"}, {\"lon\": [108.4265113, 1.8883335], \"opacity\": 0.48577680525164113, \"lat\": [13.2904027, 46.603354], \"type\": \"scattergeo\", \"line\": {\"width\": 0.6411443944165667, \"color\": \"red\"}, \"mode\": \"lines\"}, {\"lon\": [116.407395, 12.674297], \"opacity\": 0.48577680525164113, \"lat\": [39.904211, 42.6384261], \"type\": \"scattergeo\", \"line\": {\"width\": 0.5812183354409479, \"color\": \"red\"}, \"mode\": \"lines\"}, {\"lon\": [10.4234469, -100.4458825], \"opacity\": 0.48577680525164113, \"lat\": [51.0834196, 39.7837304], \"type\": \"scattergeo\", \"line\": {\"width\": 0.5767077718621378, \"color\": \"red\"}, \"mode\": \"lines\"}, {\"lon\": [-53.2, -100.4458825], \"opacity\": 0.48577680525164113, \"lat\": [-10.3333333, 39.7837304], \"type\": \"scattergeo\", \"line\": {\"width\": 0.5535105877425435, \"color\": \"red\"}, \"mode\": \"lines\"}, {\"lon\": [114.1849161, 114.1849161], \"opacity\": 0.48577680525164113, \"lat\": [22.350627, 22.350627], \"type\": \"scattergeo\", \"line\": {\"width\": 0.5374014321039363, \"color\": \"red\"}, \"mode\": \"lines\"}, {\"lon\": [4.66696, -100.4458825], \"opacity\": 0.48577680525164113, \"lat\": [50.6407351, 39.7837304], \"type\": \"scattergeo\", \"line\": {\"width\": 0.5361126996528477, \"color\": \"red\"}, \"mode\": \"lines\"}, {\"lon\": [28.5110236, -100.4458825], \"opacity\": 0.48577680525164113, \"lat\": [47.286747, 39.7837304], \"type\": \"scattergeo\", \"line\": {\"width\": 0.5322465022995819, \"color\": \"red\"}, \"mode\": \"lines\"}, {\"lon\": [1.8883335, 55.84951], \"opacity\": 0.48577680525164113, \"lat\": [46.603354, 25.61552], \"type\": \"scattergeo\", \"line\": {\"width\": 0.523225375141962, \"color\": \"red\"}, \"mode\": \"lines\"}, {\"lon\": [8.2319736, 55.84951], \"opacity\": 0.48577680525164113, \"lat\": [46.7985624, 25.61552], \"type\": \"scattergeo\", \"line\": {\"width\": 0.5109824168566204, \"color\": \"red\"}, \"mode\": \"lines\"}, {\"lon\": [122.7312101, -100.4458825], \"opacity\": 0.48577680525164113, \"lat\": [12.7503486, 39.7837304], \"type\": \"scattergeo\", \"line\": {\"width\": 0.4613662174897103, \"color\": \"red\"}, \"mode\": \"lines\"}, {\"lon\": [97.7453061, 97.7453061], \"opacity\": 0.48577680525164113, \"lat\": [64.6863136, 64.6863136], \"type\": \"scattergeo\", \"line\": {\"width\": 0.4497676254299131, \"color\": \"red\"}, \"mode\": \"lines\"}, {\"lon\": [116.407395, 100.83273], \"opacity\": 0.48577680525164113, \"lat\": [39.904211, 14.8971921], \"type\": \"scattergeo\", \"line\": {\"width\": 0.4252817088592301, \"color\": \"red\"}, \"mode\": \"lines\"}, {\"lon\": [-71.3187697, -100.4458825], \"opacity\": 0.48577680525164113, \"lat\": [-31.7613365, 39.7837304], \"type\": \"scattergeo\", \"line\": {\"width\": 0.3859753691010286, \"color\": \"red\"}, \"mode\": \"lines\"}, {\"lon\": [34.9249653, 55.84951], \"opacity\": 0.48577680525164113, \"lat\": [38.9597594, 25.61552], \"type\": \"scattergeo\", \"line\": {\"width\": 0.3795317068455857, \"color\": \"red\"}, \"mode\": \"lines\"}, {\"lon\": [-4.003104, 55.84951], \"opacity\": 0.48577680525164113, \"lat\": [40.0028028, 25.61552], \"type\": \"scattergeo\", \"line\": {\"width\": 0.3750211432667757, \"color\": \"red\"}, \"mode\": \"lines\"}, {\"lon\": [71.247499, -100.4458825], \"opacity\": 0.48577680525164113, \"lat\": [30.3308401, 39.7837304], \"type\": \"scattergeo\", \"line\": {\"width\": 0.3679331147857885, \"color\": \"red\"}, \"mode\": \"lines\"}, {\"lon\": [126.9779692, 55.84951], \"opacity\": 0.48577680525164113, \"lat\": [37.566535, 25.61552], \"type\": \"scattergeo\", \"line\": {\"width\": 0.360200720079257, \"color\": \"red\"}, \"mode\": \"lines\"}, {\"lon\": [-73.783892, -100.4458825], \"opacity\": 0.48577680525164113, \"lat\": [2.8894434, 39.7837304], \"type\": \"scattergeo\", \"line\": {\"width\": 0.3582676214026242, \"color\": \"red\"}, \"mode\": \"lines\"}, {\"lon\": [5.53460738161551, -100.4458825], \"opacity\": 0.48577680525164113, \"lat\": [52.2379891, 39.7837304], \"type\": \"scattergeo\", \"line\": {\"width\": 0.35311269159826986, \"color\": \"red\"}, \"mode\": \"lines\"}, {\"lon\": [15.4749544, 55.84951], \"opacity\": 0.48577680525164113, \"lat\": [49.8167003, 25.61552], \"type\": \"scattergeo\", \"line\": {\"width\": 0.3524683253727256, \"color\": \"red\"}, \"mode\": \"lines\"}, {\"lon\": [97.7453061, -100.4458825], \"opacity\": 0.48577680525164113, \"lat\": [64.6863136, 39.7837304], \"type\": \"scattergeo\", \"line\": {\"width\": 0.3479577617939156, \"color\": \"red\"}, \"mode\": \"lines\"}, {\"lon\": [-99.1333416, 55.84951], \"opacity\": 0.48577680525164113, \"lat\": [19.4326009, 25.61552], \"type\": \"scattergeo\", \"line\": {\"width\": 0.346669029342827, \"color\": \"red\"}, \"mode\": \"lines\"}, {\"lon\": [-99.1333416, -100.4458825], \"opacity\": 0.48577680525164113, \"lat\": [19.4326009, 39.7837304], \"type\": \"scattergeo\", \"line\": {\"width\": 0.34151409953847267, \"color\": \"red\"}, \"mode\": \"lines\"}, {\"lon\": [108.4265113, -4.003104], \"opacity\": 0.48577680525164113, \"lat\": [13.2904027, 40.0028028], \"type\": \"scattergeo\", \"line\": {\"width\": 0.3357148035085741, \"color\": \"red\"}, \"mode\": \"lines\"}, {\"lon\": [10.4234469, 0.0732], \"opacity\": 0.48577680525164113, \"lat\": [51.0834196, 51.303], \"type\": \"scattergeo\", \"line\": {\"width\": 0.32733804257649834, \"color\": \"red\"}, \"mode\": \"lines\"}, {\"lon\": [12.674297, 12.674297], \"opacity\": 0.48577680525164113, \"lat\": [42.6384261, 42.6384261], \"type\": \"scattergeo\", \"line\": {\"width\": 0.29189790017156253, \"color\": \"red\"}, \"mode\": \"lines\"}, {\"lon\": [108.4265113, -100.4458825], \"opacity\": 0.48577680525164113, \"lat\": [13.2904027, 39.7837304], \"type\": \"scattergeo\", \"line\": {\"width\": 0.2912535339460182, \"color\": \"red\"}, \"mode\": \"lines\"}, {\"lon\": [120.835363138175, 55.84951], \"opacity\": 0.48577680525164113, \"lat\": [23.59829785, 25.61552], \"type\": \"scattergeo\", \"line\": {\"width\": 0.2815880405628539, \"color\": \"red\"}, \"mode\": \"lines\"}, {\"lon\": [33.1451285, 33.1451285], \"opacity\": 0.48577680525164113, \"lat\": [34.9823018, 34.9823018], \"type\": \"scattergeo\", \"line\": {\"width\": 0.2764331107584996, \"color\": \"red\"}, \"mode\": \"lines\"}, {\"lon\": [12.674297, -100.4458825], \"opacity\": 0.48577680525164113, \"lat\": [42.6384261, 39.7837304], \"type\": \"scattergeo\", \"line\": {\"width\": 0.27192254717968956, \"color\": \"red\"}, \"mode\": \"lines\"}, {\"lon\": [10.4234469, 10.4234469], \"opacity\": 0.48577680525164113, \"lat\": [51.0834196, 51.0834196], \"type\": \"scattergeo\", \"line\": {\"width\": 0.2712781809541453, \"color\": \"red\"}, \"mode\": \"lines\"}, {\"lon\": [-64.7603583, 55.84951], \"opacity\": 0.48577680525164113, \"lat\": [32.3018217, 25.61552], \"type\": \"scattergeo\", \"line\": {\"width\": 0.26998944850305673, \"color\": \"red\"}, \"mode\": \"lines\"}, {\"lon\": [15.4749544, -100.4458825], \"opacity\": 0.48577680525164113, \"lat\": [49.8167003, 39.7837304], \"type\": \"scattergeo\", \"line\": {\"width\": 0.2674119836008796, \"color\": \"red\"}, \"mode\": \"lines\"}, {\"lon\": [114.1849161, 55.84951], \"opacity\": 0.48577680525164113, \"lat\": [22.350627, 25.61552], \"type\": \"scattergeo\", \"line\": {\"width\": 0.2667676173753353, \"color\": \"red\"}, \"mode\": \"lines\"}, {\"lon\": [-75.7396253904384, 55.84951], \"opacity\": 0.48577680525164113, \"lat\": [4.4922673, 25.61552], \"type\": \"scattergeo\", \"line\": {\"width\": 0.25839085644325954, \"color\": \"red\"}, \"mode\": \"lines\"}, {\"lon\": [122.7312101, 55.84951], \"opacity\": 0.48577680525164113, \"lat\": [12.7503486, 25.61552], \"type\": \"scattergeo\", \"line\": {\"width\": 0.25645775776662666, \"color\": \"red\"}, \"mode\": \"lines\"}, {\"lon\": [0.0732, -4.003104], \"opacity\": 0.48577680525164113, \"lat\": [51.303, 40.0028028], \"type\": \"scattergeo\", \"line\": {\"width\": 0.2513028279622724, \"color\": \"red\"}, \"mode\": \"lines\"}, {\"lon\": [103.8499736, -100.4458825], \"opacity\": 0.48577680525164113, \"lat\": [46.8250388, 39.7837304], \"type\": \"scattergeo\", \"line\": {\"width\": 0.2455035319323738, \"color\": \"red\"}, \"mode\": \"lines\"}, {\"lon\": [5.53460738161551, 42.2363448], \"opacity\": 0.48577680525164113, \"lat\": [52.2379891, 17.7269134], \"type\": \"scattergeo\", \"line\": {\"width\": 0.2274612776171337, \"color\": \"red\"}, \"mode\": \"lines\"}, {\"lon\": [-107.9917071, -100.4458825], \"opacity\": 0.48577680525164113, \"lat\": [61.0666922, 39.7837304], \"type\": \"scattergeo\", \"line\": {\"width\": 0.21070775575298223, \"color\": \"red\"}, \"mode\": \"lines\"}, {\"lon\": [35.0015196, 55.84951], \"opacity\": 0.48577680525164113, \"lat\": [30.8760272, 25.61552], \"type\": \"scattergeo\", \"line\": {\"width\": 0.21006338952743792, \"color\": \"red\"}, \"mode\": \"lines\"}, {\"lon\": [-7.9794599, 100.83273], \"opacity\": 0.48577680525164113, \"lat\": [52.865196, 14.8971921], \"type\": \"scattergeo\", \"line\": {\"width\": 0.19524296633991928, \"color\": \"red\"}, \"mode\": \"lines\"}, {\"lon\": [116.407395, 34.9249653], \"opacity\": 0.48577680525164113, \"lat\": [39.904211, 38.9597594], \"type\": \"scattergeo\", \"line\": {\"width\": 0.19266550143774214, \"color\": \"red\"}, \"mode\": \"lines\"}, {\"lon\": [139.2394179, 55.84951], \"opacity\": 0.48577680525164113, \"lat\": [36.5748441, 25.61552], \"type\": \"scattergeo\", \"line\": {\"width\": 0.18815493785893211, \"color\": \"red\"}, \"mode\": \"lines\"}, {\"lon\": [29.2675469, -100.4458825], \"opacity\": 0.48577680525164113, \"lat\": [26.2540493, 39.7837304], \"type\": \"scattergeo\", \"line\": {\"width\": 0.18751057163338786, \"color\": \"red\"}, \"mode\": \"lines\"}, {\"lon\": [172.8344077, -100.4458825], \"opacity\": 0.48577680525164113, \"lat\": [-41.5000831, 39.7837304], \"type\": \"scattergeo\", \"line\": {\"width\": 0.1836443742801221, \"color\": \"red\"}, \"mode\": \"lines\"}, {\"lon\": [108.4265113, 55.84951], \"opacity\": 0.48577680525164113, \"lat\": [13.2904027, 25.61552], \"type\": \"scattergeo\", \"line\": {\"width\": 0.18235564182903352, \"color\": \"red\"}, \"mode\": \"lines\"}, {\"lon\": [-7.8896263, -100.4458825], \"opacity\": 0.48577680525164113, \"lat\": [40.033265, 39.7837304], \"type\": \"scattergeo\", \"line\": {\"width\": 0.18106690937794495, \"color\": \"red\"}, \"mode\": \"lines\"}, {\"lon\": [-100.4458825, -7.9794599], \"opacity\": 0.48577680525164113, \"lat\": [39.7837304, 52.865196], \"type\": \"scattergeo\", \"line\": {\"width\": 0.17977817692685638, \"color\": \"red\"}, \"mode\": \"lines\"}, {\"lon\": [8.2319736, -4.003104], \"opacity\": 0.48577680525164113, \"lat\": [46.7985624, 40.0028028], \"type\": \"scattergeo\", \"line\": {\"width\": 0.17655634579913493, \"color\": \"red\"}, \"mode\": \"lines\"}, {\"lon\": [120.835363138175, -100.4458825], \"opacity\": 0.48577680525164113, \"lat\": [23.59829785, 39.7837304], \"type\": \"scattergeo\", \"line\": {\"width\": 0.17591197957359067, \"color\": \"red\"}, \"mode\": \"lines\"}, {\"lon\": [100.83273, 55.84951], \"opacity\": 0.48577680525164113, \"lat\": [14.8971921, 25.61552], \"type\": \"scattergeo\", \"line\": {\"width\": 0.17591197957359067, \"color\": \"red\"}, \"mode\": \"lines\"}, {\"lon\": [126.9779692, -4.003104], \"opacity\": 0.48577680525164113, \"lat\": [37.566535, 40.0028028], \"type\": \"scattergeo\", \"line\": {\"width\": 0.17591197957359067, \"color\": \"red\"}, \"mode\": \"lines\"}, {\"lon\": [114.5632032, 55.84951], \"opacity\": 0.48577680525164113, \"lat\": [-4.7993356, 25.61552], \"type\": \"scattergeo\", \"line\": {\"width\": 0.17269014844586922, \"color\": \"red\"}, \"mode\": \"lines\"}, {\"lon\": [114.5632032, -100.4458825], \"opacity\": 0.48577680525164113, \"lat\": [-4.7993356, 39.7837304], \"type\": \"scattergeo\", \"line\": {\"width\": 0.17269014844586922, \"color\": \"red\"}, \"mode\": \"lines\"}, {\"lon\": [1.8883335, -100.4458825], \"opacity\": 0.48577680525164113, \"lat\": [46.603354, 39.7837304], \"type\": \"scattergeo\", \"line\": {\"width\": 0.1720457822203249, \"color\": \"red\"}, \"mode\": \"lines\"}, {\"lon\": [-107.9917071, 55.84951], \"opacity\": 0.48577680525164113, \"lat\": [61.0666922, 25.61552], \"type\": \"scattergeo\", \"line\": {\"width\": 0.17140141599478062, \"color\": \"red\"}, \"mode\": \"lines\"}, {\"lon\": [12.674297, 55.84951], \"opacity\": 0.48577680525164113, \"lat\": [42.6384261, 25.61552], \"type\": \"scattergeo\", \"line\": {\"width\": 0.17011268354369208, \"color\": \"red\"}, \"mode\": \"lines\"}, {\"lon\": [8.2319736, 1.8883335], \"opacity\": 0.48577680525164113, \"lat\": [46.7985624, 46.603354], \"type\": \"scattergeo\", \"line\": {\"width\": 0.1662464861904263, \"color\": \"red\"}, \"mode\": \"lines\"}, {\"lon\": [100.83273, -7.8896263], \"opacity\": 0.48577680525164113, \"lat\": [14.8971921, 40.033265], \"type\": \"scattergeo\", \"line\": {\"width\": 0.16560211996488203, \"color\": \"red\"}, \"mode\": \"lines\"}, {\"lon\": [-100.4458825, 1.8883335], \"opacity\": 0.48577680525164113, \"lat\": [39.7837304, 46.603354], \"type\": \"scattergeo\", \"line\": {\"width\": 0.1585140914838949, \"color\": \"red\"}, \"mode\": \"lines\"}, {\"lon\": [-7.9794599, 55.84951], \"opacity\": 0.48577680525164113, \"lat\": [52.865196, 25.61552], \"type\": \"scattergeo\", \"line\": {\"width\": 0.1572253590328063, \"color\": \"red\"}, \"mode\": \"lines\"}, {\"lon\": [-53.2, 55.84951], \"opacity\": 0.48577680525164113, \"lat\": [-10.3333333, 25.61552], \"type\": \"scattergeo\", \"line\": {\"width\": 0.15013733055181913, \"color\": \"red\"}, \"mode\": \"lines\"}, {\"lon\": [-100.4458825, 122.7312101], \"opacity\": 0.48577680525164113, \"lat\": [39.7837304, 12.7503486], \"type\": \"scattergeo\", \"line\": {\"width\": 0.14820423187518628, \"color\": \"red\"}, \"mode\": \"lines\"}, {\"lon\": [71.247499, 55.84951], \"opacity\": 0.48577680525164113, \"lat\": [30.3308401, 25.61552], \"type\": \"scattergeo\", \"line\": {\"width\": 0.1353169073643005, \"color\": \"red\"}, \"mode\": \"lines\"}, {\"lon\": [116.407395, 97.7453061], \"opacity\": 0.48577680525164113, \"lat\": [39.904211, 64.6863136], \"type\": \"scattergeo\", \"line\": {\"width\": 0.13273944246212335, \"color\": \"red\"}, \"mode\": \"lines\"}, {\"lon\": [116.407395, 114.1849161], \"opacity\": 0.48577680525164113, \"lat\": [39.904211, 22.350627], \"type\": \"scattergeo\", \"line\": {\"width\": 0.12629578020668047, \"color\": \"red\"}, \"mode\": \"lines\"}, {\"lon\": [-100.4458825, 4.66696], \"opacity\": 0.48577680525164113, \"lat\": [39.7837304, 50.6407351], \"type\": \"scattergeo\", \"line\": {\"width\": 0.12307394907895902, \"color\": \"red\"}, \"mode\": \"lines\"}, {\"lon\": [25.4856617, -100.4458825], \"opacity\": 0.48577680525164113, \"lat\": [42.6073975, 39.7837304], \"type\": \"scattergeo\", \"line\": {\"width\": 0.10632042721480753, \"color\": \"red\"}, \"mode\": \"lines\"}, {\"lon\": [78.6677428, 103.8520359], \"opacity\": 0.48577680525164113, \"lat\": [22.3511148, 1.2904753], \"type\": \"scattergeo\", \"line\": {\"width\": 0.10374296231263039, \"color\": \"red\"}, \"mode\": \"lines\"}, {\"lon\": [-100.4458825, 10.4234469], \"opacity\": 0.48577680525164113, \"lat\": [39.7837304, 51.0834196], \"type\": \"scattergeo\", \"line\": {\"width\": 0.10309859608708609, \"color\": \"red\"}, \"mode\": \"lines\"}, {\"lon\": [-100.4458825, 134.755], \"opacity\": 0.48577680525164113, \"lat\": [39.7837304, -24.7761086], \"type\": \"scattergeo\", \"line\": {\"width\": 0.10245422986154182, \"color\": \"red\"}, \"mode\": \"lines\"}, {\"lon\": [139.2394179, 4.66696], \"opacity\": 0.48577680525164113, \"lat\": [36.5748441, 50.6407351], \"type\": \"scattergeo\", \"line\": {\"width\": 0.10180986363599752, \"color\": \"red\"}, \"mode\": \"lines\"}, {\"lon\": [78.6677428, 12.674297], \"opacity\": 0.48577680525164113, \"lat\": [22.3511148, 42.6384261], \"type\": \"scattergeo\", \"line\": {\"width\": 0.09923239873382037, \"color\": \"red\"}, \"mode\": \"lines\"}, {\"lon\": [19.0258159, 33.1451285], \"opacity\": 0.48577680525164113, \"lat\": [52.0977181, 34.9823018], \"type\": \"scattergeo\", \"line\": {\"width\": 0.0979436662827318, \"color\": \"red\"}, \"mode\": \"lines\"}, {\"lon\": [-100.4458825, 24.6859225], \"opacity\": 0.48577680525164113, \"lat\": [39.7837304, 45.9852129], \"type\": \"scattergeo\", \"line\": {\"width\": 0.0972993000571875, \"color\": \"red\"}, \"mode\": \"lines\"}, {\"lon\": [5.53460738161551, -7.9794599], \"opacity\": 0.48577680525164113, \"lat\": [52.2379891, 52.865196], \"type\": \"scattergeo\", \"line\": {\"width\": 0.0972993000571875, \"color\": \"red\"}, \"mode\": \"lines\"}, {\"lon\": [0.0732, 0.0732], \"opacity\": 0.48577680525164113, \"lat\": [51.303, 51.303], \"type\": \"scattergeo\", \"line\": {\"width\": 0.09665493383164322, \"color\": \"red\"}, \"mode\": \"lines\"}, {\"lon\": [-100.4458825, 97.7453061], \"opacity\": 0.48577680525164113, \"lat\": [39.7837304, 64.6863136], \"type\": \"scattergeo\", \"line\": {\"width\": 0.09536620138055464, \"color\": \"red\"}, \"mode\": \"lines\"}, {\"lon\": [-100.4458825, 11.5280364395482], \"opacity\": 0.48577680525164113, \"lat\": [39.7837304, 64.5731537], \"type\": \"scattergeo\", \"line\": {\"width\": 0.09472183515501034, \"color\": \"red\"}, \"mode\": \"lines\"}, {\"lon\": [-100.4458825, 0.547714867236488], \"opacity\": 0.48577680525164113, \"lat\": [39.7837304, 51.38660965], \"type\": \"scattergeo\", \"line\": {\"width\": 0.09407746892946606, \"color\": \"red\"}, \"mode\": \"lines\"}, {\"lon\": [139.2394179, -107.9917071], \"opacity\": 0.48577680525164113, \"lat\": [36.5748441, 61.0666922], \"type\": \"scattergeo\", \"line\": {\"width\": 0.09407746892946606, \"color\": \"red\"}, \"mode\": \"lines\"}, {\"lon\": [120.835363138175, 134.755], \"opacity\": 0.48577680525164113, \"lat\": [23.59829785, -24.7761086], \"type\": \"scattergeo\", \"line\": {\"width\": 0.09343310270392177, \"color\": \"red\"}, \"mode\": \"lines\"}, {\"lon\": [-66.1109318, 122.7312101], \"opacity\": 0.48577680525164113, \"lat\": [8.0018709, 12.7503486], \"type\": \"scattergeo\", \"line\": {\"width\": 0.09278873647837749, \"color\": \"red\"}, \"mode\": \"lines\"}, {\"lon\": [90.2932426, 33.1451285], \"opacity\": 0.48577680525164113, \"lat\": [24.4768783, 34.9823018], \"type\": \"scattergeo\", \"line\": {\"width\": 0.09278873647837749, \"color\": \"red\"}, \"mode\": \"lines\"}, {\"lon\": [10.4234469, 19.0258159], \"opacity\": 0.48577680525164113, \"lat\": [51.0834196, 52.0977181], \"type\": \"scattergeo\", \"line\": {\"width\": 0.09278873647837749, \"color\": \"red\"}, \"mode\": \"lines\"}, {\"lon\": [116.407395, -107.9917071], \"opacity\": 0.48577680525164113, \"lat\": [39.904211, 61.0666922], \"type\": \"scattergeo\", \"line\": {\"width\": 0.0921443702528332, \"color\": \"red\"}, \"mode\": \"lines\"}, {\"lon\": [-7.8896263, -7.8896263], \"opacity\": 0.48577680525164113, \"lat\": [40.033265, 40.033265], \"type\": \"scattergeo\", \"line\": {\"width\": 0.0921443702528332, \"color\": \"red\"}, \"mode\": \"lines\"}, {\"lon\": [1.8883335, 12.674297], \"opacity\": 0.48577680525164113, \"lat\": [46.603354, 42.6384261], \"type\": \"scattergeo\", \"line\": {\"width\": 0.0915000040272889, \"color\": \"red\"}, \"mode\": \"lines\"}, {\"lon\": [-73.783892, 97.7453061], \"opacity\": 0.48577680525164113, \"lat\": [2.8894434, 64.6863136], \"type\": \"scattergeo\", \"line\": {\"width\": 0.0915000040272889, \"color\": \"red\"}, \"mode\": \"lines\"}, {\"lon\": [139.2394179, 42.2363448], \"opacity\": 0.48577680525164113, \"lat\": [36.5748441, 17.7269134], \"type\": \"scattergeo\", \"line\": {\"width\": 0.0915000040272889, \"color\": \"red\"}, \"mode\": \"lines\"}, {\"lon\": [8.2319736, 24.6859225], \"opacity\": 0.48577680525164113, \"lat\": [46.7985624, 45.9852129], \"type\": \"scattergeo\", \"line\": {\"width\": 0.09021127157620033, \"color\": \"red\"}, \"mode\": \"lines\"}, {\"lon\": [24.6859225, -7.9794599], \"opacity\": 0.48577680525164113, \"lat\": [45.9852129, 52.865196], \"type\": \"scattergeo\", \"line\": {\"width\": 0.08956690535065605, \"color\": \"red\"}, \"mode\": \"lines\"}, {\"lon\": [31.2718321, 55.84951], \"opacity\": 0.48577680525164113, \"lat\": [49.4871968, 25.61552], \"type\": \"scattergeo\", \"line\": {\"width\": 0.08956690535065605, \"color\": \"red\"}, \"mode\": \"lines\"}, {\"lon\": [78.6677428, 55.84951], \"opacity\": 0.48577680525164113, \"lat\": [22.3511148, 25.61552], \"type\": \"scattergeo\", \"line\": {\"width\": 0.08956690535065605, \"color\": \"red\"}, \"mode\": \"lines\"}, {\"lon\": [134.755, -100.4458825], \"opacity\": 0.48577680525164113, \"lat\": [-24.7761086, 39.7837304], \"type\": \"scattergeo\", \"line\": {\"width\": 0.08956690535065605, \"color\": \"red\"}, \"mode\": \"lines\"}, {\"lon\": [0.0732, -100.4458825], \"opacity\": 0.48577680525164113, \"lat\": [51.303, 39.7837304], \"type\": \"scattergeo\", \"line\": {\"width\": 0.08892253912511175, \"color\": \"red\"}, \"mode\": \"lines\"}, {\"lon\": [-4.003104, 116.407395], \"opacity\": 0.48577680525164113, \"lat\": [40.0028028, 39.904211], \"type\": \"scattergeo\", \"line\": {\"width\": 0.08827817289956746, \"color\": \"red\"}, \"mode\": \"lines\"}, {\"lon\": [28.5110236, 11.5280364395482], \"opacity\": 0.48577680525164113, \"lat\": [47.286747, 64.5731537], \"type\": \"scattergeo\", \"line\": {\"width\": 0.08763380667402318, \"color\": \"red\"}, \"mode\": \"lines\"}, {\"lon\": [-99.1333416, -99.1333416], \"opacity\": 0.48577680525164113, \"lat\": [19.4326009, 19.4326009], \"type\": \"scattergeo\", \"line\": {\"width\": 0.0869894404484789, \"color\": \"red\"}, \"mode\": \"lines\"}, {\"lon\": [-75.7396253904384, -100.4458825], \"opacity\": 0.48577680525164113, \"lat\": [4.4922673, 39.7837304], \"type\": \"scattergeo\", \"line\": {\"width\": 0.0869894404484789, \"color\": \"red\"}, \"mode\": \"lines\"}, {\"lon\": [8.2319736, 34.9249653], \"opacity\": 0.48577680525164113, \"lat\": [46.7985624, 38.9597594], \"type\": \"scattergeo\", \"line\": {\"width\": 0.08505634177184604, \"color\": \"red\"}, \"mode\": \"lines\"}, {\"lon\": [55.84951, 0.0732], \"opacity\": 0.48577680525164113, \"lat\": [25.61552, 51.303], \"type\": \"scattergeo\", \"line\": {\"width\": 0.08505634177184604, \"color\": \"red\"}, \"mode\": \"lines\"}, {\"lon\": [116.407395, 1.8883335], \"opacity\": 0.48577680525164113, \"lat\": [39.904211, 46.603354], \"type\": \"scattergeo\", \"line\": {\"width\": 0.08054577819303602, \"color\": \"red\"}, \"mode\": \"lines\"}, {\"lon\": [78.6677428, 1.8883335], \"opacity\": 0.48577680525164113, \"lat\": [22.3511148, 46.603354], \"type\": \"scattergeo\", \"line\": {\"width\": 0.07667958083977028, \"color\": \"red\"}, \"mode\": \"lines\"}, {\"lon\": [31.2718321, 13.199959], \"opacity\": 0.48577680525164113, \"lat\": [49.4871968, 47.2000338], \"type\": \"scattergeo\", \"line\": {\"width\": 0.07539084838868171, \"color\": \"red\"}, \"mode\": \"lines\"}, {\"lon\": [-100.4458825, 114.1849161], \"opacity\": 0.48577680525164113, \"lat\": [39.7837304, 22.350627], \"type\": \"scattergeo\", \"line\": {\"width\": 0.07281338348650455, \"color\": \"red\"}, \"mode\": \"lines\"}, {\"lon\": [5.53460738161551, 12.674297], \"opacity\": 0.48577680525164113, \"lat\": [52.2379891, 42.6384261], \"type\": \"scattergeo\", \"line\": {\"width\": 0.06959155235878312, \"color\": \"red\"}, \"mode\": \"lines\"}, {\"lon\": [42.2363448, 55.84951], \"opacity\": 0.48577680525164113, \"lat\": [17.7269134, 25.61552], \"type\": \"scattergeo\", \"line\": {\"width\": 0.06508098877997309, \"color\": \"red\"}, \"mode\": \"lines\"}, {\"lon\": [114.1849161, -100.4458825], \"opacity\": 0.48577680525164113, \"lat\": [22.350627, 39.7837304], \"type\": \"scattergeo\", \"line\": {\"width\": 0.06250352387779595, \"color\": \"red\"}, \"mode\": \"lines\"}, {\"lon\": [19.0258159, -100.4458825], \"opacity\": 0.48577680525164113, \"lat\": [52.0977181, 39.7837304], \"type\": \"scattergeo\", \"line\": {\"width\": 0.06121479142670737, \"color\": \"red\"}, \"mode\": \"lines\"}, {\"lon\": [14.4808369, -7.9794599], \"opacity\": 0.48577680525164113, \"lat\": [45.8133113, 52.865196], \"type\": \"scattergeo\", \"line\": {\"width\": 0.05734859407344164, \"color\": \"red\"}, \"mode\": \"lines\"}, {\"lon\": [-64.9912286, -100.4458825], \"opacity\": 0.48577680525164113, \"lat\": [-17.0568696, 39.7837304], \"type\": \"scattergeo\", \"line\": {\"width\": 0.05734859407344164, \"color\": \"red\"}, \"mode\": \"lines\"}, {\"lon\": [78.6677428, -7.8896263], \"opacity\": 0.48577680525164113, \"lat\": [22.3511148, 40.033265], \"type\": \"scattergeo\", \"line\": {\"width\": 0.05605986162235306, \"color\": \"red\"}, \"mode\": \"lines\"}, {\"lon\": [34.9249653, 103.8520359], \"opacity\": 0.48577680525164113, \"lat\": [38.9597594, 1.2904753], \"type\": \"scattergeo\", \"line\": {\"width\": 0.05348239672017591, \"color\": \"red\"}, \"mode\": \"lines\"}, {\"lon\": [122.7312101, 122.7312101], \"opacity\": 0.48577680525164113, \"lat\": [12.7503486, 12.7503486], \"type\": \"scattergeo\", \"line\": {\"width\": 0.046394368239188744, \"color\": \"red\"}, \"mode\": \"lines\"}, {\"text\": [\"china\", \"china\", \"ukraine\", \"netherlands\", \"china\", \"united states\", \"india\", \"south korea\", \"china\", \"turkey\", \"swiss\", \"china\", \"colombia\", \"china\", \"netherlands\", \"roumania\", \"spain\", \"argentina\", \"poland\", \"pakistan\", \"united states\", \"france\", \"saudi arabia\", \"japan\", \"vietnam\", \"china\", \"germany\", \"brazil\", \"hong kong\", \"belgium\", \"moldova\", \"france\", \"swiss\", \"philippines\", \"russia\", \"china\", \"chile\", \"turkey\", \"spain\", \"pakistan\", \"south korea\", \"colombia\", \"netherlands\", \"czech republic\", \"russia\", \"mexico\", \"mexico\", \"vietnam\", \"germany\", \"italy\", \"vietnam\", \"taiwan\", \"cyprus\", \"italy\", \"germany\", \"bermuda\", \"czech republic\", \"hong kong\", \"armenia\", \"philippines\", \"united kingdom\", \"mongolia\", \"netherlands\", \"canada\", \"israel\", \"ireland\", \"china\", \"japan\", \"egypt\", \"new zealand\", \"vietnam\", \"portugal\", \"united states\", \"swiss\", \"taiwan\", \"thailand\", \"south korea\", \"indonesia\", \"indonesia\", \"france\", \"canada\", \"italy\", \"swiss\", \"thailand\", \"united states\", \"ireland\", \"brazil\", \"united states\", \"pakistan\", \"china\", \"china\", \"united states\", \"bulgaria\", \"india\", \"united states\", \"united states\", \"japan\", \"india\", \"poland\", \"united states\", \"netherlands\", \"united kingdom\", \"united states\", \"united states\", \"united states\", \"japan\", \"taiwan\", \"venezuela\", \"bangladesh\", \"germany\", \"china\", \"portugal\", \"france\", \"colombia\", \"japan\", \"swiss\", \"roumania\", \"ukraine\", \"india\", \"australia\", \"united kingdom\", \"spain\", \"moldova\", \"mexico\", \"armenia\", \"swiss\", \"united arab emirates\", \"china\", \"india\", \"ukraine\", \"united states\", \"netherlands\", \"saudi arabia\", \"hong kong\", \"poland\", \"slovenia\", \"bolivia\", \"india\", \"turkey\", \"philippines\"], \"lon\": [116.407395, 116.407395, 31.2718321, 5.53460738161551, 116.407395, -100.4458825, 78.6677428, 126.9779692, 116.407395, 34.9249653, 8.2319736, 116.407395, -73.783892, 116.407395, 5.53460738161551, 24.6859225, -4.003104, -64.9672817, 19.0258159, 71.247499, -100.4458825, 1.8883335, 42.2363448, 139.2394179, 108.4265113, 116.407395, 10.4234469, -53.2, 114.1849161, 4.66696, 28.5110236, 1.8883335, 8.2319736, 122.7312101, 97.7453061, 116.407395, -71.3187697, 34.9249653, -4.003104, 71.247499, 126.9779692, -73.783892, 5.53460738161551, 15.4749544, 97.7453061, -99.1333416, -99.1333416, 108.4265113, 10.4234469, 12.674297, 108.4265113, 120.835363138175, 33.1451285, 12.674297, 10.4234469, -64.7603583, 15.4749544, 114.1849161, -75.7396253904384, 122.7312101, 0.0732, 103.8499736, 5.53460738161551, -107.9917071, 35.0015196, -7.9794599, 116.407395, 139.2394179, 29.2675469, 172.8344077, 108.4265113, -7.8896263, -100.4458825, 8.2319736, 120.835363138175, 100.83273, 126.9779692, 114.5632032, 114.5632032, 1.8883335, -107.9917071, 12.674297, 8.2319736, 100.83273, -100.4458825, -7.9794599, -53.2, -100.4458825, 71.247499, 116.407395, 116.407395, -100.4458825, 25.4856617, 78.6677428, -100.4458825, -100.4458825, 139.2394179, 78.6677428, 19.0258159, -100.4458825, 5.53460738161551, 0.0732, -100.4458825, -100.4458825, -100.4458825, 139.2394179, 120.835363138175, -66.1109318, 90.2932426, 10.4234469, 116.407395, -7.8896263, 1.8883335, -73.783892, 139.2394179, 8.2319736, 24.6859225, 31.2718321, 78.6677428, 134.755, 0.0732, -4.003104, 28.5110236, -99.1333416, -75.7396253904384, 8.2319736, 55.84951, 116.407395, 78.6677428, 31.2718321, -100.4458825, 5.53460738161551, 42.2363448, 114.1849161, 19.0258159, 14.4808369, -64.9912286, 78.6677428, 34.9249653, 122.7312101], \"lat\": [39.904211, 39.904211, 49.4871968, 52.2379891, 39.904211, 39.7837304, 22.3511148, 37.566535, 39.904211, 38.9597594, 46.7985624, 39.904211, 2.8894434, 39.904211, 52.2379891, 45.9852129, 40.0028028, -34.9964963, 52.0977181, 30.3308401, 39.7837304, 46.603354, 17.7269134, 36.5748441, 13.2904027, 39.904211, 51.0834196, -10.3333333, 22.350627, 50.6407351, 47.286747, 46.603354, 46.7985624, 12.7503486, 64.6863136, 39.904211, -31.7613365, 38.9597594, 40.0028028, 30.3308401, 37.566535, 2.8894434, 52.2379891, 49.8167003, 64.6863136, 19.4326009, 19.4326009, 13.2904027, 51.0834196, 42.6384261, 13.2904027, 23.59829785, 34.9823018, 42.6384261, 51.0834196, 32.3018217, 49.8167003, 22.350627, 4.4922673, 12.7503486, 51.303, 46.8250388, 52.2379891, 61.0666922, 30.8760272, 52.865196, 39.904211, 36.5748441, 26.2540493, -41.5000831, 13.2904027, 40.033265, 39.7837304, 46.7985624, 23.59829785, 14.8971921, 37.566535, -4.7993356, -4.7993356, 46.603354, 61.0666922, 42.6384261, 46.7985624, 14.8971921, 39.7837304, 52.865196, -10.3333333, 39.7837304, 30.3308401, 39.904211, 39.904211, 39.7837304, 42.6073975, 22.3511148, 39.7837304, 39.7837304, 36.5748441, 22.3511148, 52.0977181, 39.7837304, 52.2379891, 51.303, 39.7837304, 39.7837304, 39.7837304, 36.5748441, 23.59829785, 8.0018709, 24.4768783, 51.0834196, 39.904211, 40.033265, 46.603354, 2.8894434, 36.5748441, 46.7985624, 45.9852129, 49.4871968, 22.3511148, -24.7761086, 51.303, 40.0028028, 47.286747, 19.4326009, 4.4922673, 46.7985624, 25.61552, 39.904211, 22.3511148, 49.4871968, 39.7837304, 52.2379891, 17.7269134, 22.350627, 52.0977181, 45.8133113, -17.0568696, 22.3511148, 38.9597594, 12.7503486], \"hoverinfo\": \"text\", \"type\": \"scattergeo\", \"marker\": {\"line\": {\"width\": 1, \"color\": \"rgba(68, 68, 68, 0)\"}, \"size\": 2, \"color\": \"rgb(255, 0, 0)\"}, \"mode\": \"markers\"}], {\"showlegend\": false, \"geo\": {\"landcolor\": \"rgb(243, 243, 243)\", \"scope\": \"world\", \"projection\": {\"type\": \"equirectangular\"}, \"countrycolor\": \"rgb(204, 204, 204)\", \"showland\": true}}, {\"linkText\": \"Export to plot.ly\", \"showLink\": true})});</script>"
      ],
      "text/vnd.plotly.v1+html": [
       "<div id=\"a2c4f496-c1e8-4b20-ac11-690bdf114dd3\" style=\"height: 525px; width: 100%;\" class=\"plotly-graph-div\"></div><script type=\"text/javascript\">require([\"plotly\"], function(Plotly) { window.PLOTLYENV=window.PLOTLYENV || {};window.PLOTLYENV.BASE_URL=\"https://plot.ly\";Plotly.newPlot(\"a2c4f496-c1e8-4b20-ac11-690bdf114dd3\", [{\"lon\": [116.407395, 55.84951], \"opacity\": 0.48577680525164113, \"lat\": [39.904211, 25.61552], \"type\": \"scattergeo\", \"line\": {\"width\": 17.318631043953832, \"color\": \"red\"}, \"mode\": \"lines\"}, {\"lon\": [116.407395, -100.4458825], \"opacity\": 0.48577680525164113, \"lat\": [39.904211, 39.7837304], \"type\": \"scattergeo\", \"line\": {\"width\": 8.414778539382858, \"color\": \"red\"}, \"mode\": \"lines\"}, {\"lon\": [31.2718321, -100.4458825], \"opacity\": 0.48577680525164113, \"lat\": [49.4871968, 39.7837304], \"type\": \"scattergeo\", \"line\": {\"width\": 4.139408632896507, \"color\": \"red\"}, \"mode\": \"lines\"}, {\"lon\": [5.53460738161551, 55.84951], \"opacity\": 0.48577680525164113, \"lat\": [52.2379891, 25.61552], \"type\": \"scattergeo\", \"line\": {\"width\": 3.3519931052813865, \"color\": \"red\"}, \"mode\": \"lines\"}, {\"lon\": [116.407395, -4.003104], \"opacity\": 0.48577680525164113, \"lat\": [39.904211, 40.0028028], \"type\": \"scattergeo\", \"line\": {\"width\": 3.0678275998163556, \"color\": \"red\"}, \"mode\": \"lines\"}, {\"lon\": [-100.4458825, 55.84951], \"opacity\": 0.48577680525164113, \"lat\": [39.7837304, 25.61552], \"type\": \"scattergeo\", \"line\": {\"width\": 1.7745845851489694, \"color\": \"red\"}, \"mode\": \"lines\"}, {\"lon\": [78.6677428, -100.4458825], \"opacity\": 0.48577680525164113, \"lat\": [22.3511148, 39.7837304], \"type\": \"scattergeo\", \"line\": {\"width\": 1.6257359870482389, \"color\": \"red\"}, \"mode\": \"lines\"}, {\"lon\": [126.9779692, -100.4458825], \"opacity\": 0.48577680525164113, \"lat\": [37.566535, 39.7837304], \"type\": \"scattergeo\", \"line\": {\"width\": 1.6122042963118088, \"color\": \"red\"}, \"mode\": \"lines\"}, {\"lon\": [116.407395, 103.8520359], \"opacity\": 0.48577680525164113, \"lat\": [39.904211, 1.2904753], \"type\": \"scattergeo\", \"line\": {\"width\": 1.5838521823878602, \"color\": \"red\"}, \"mode\": \"lines\"}, {\"lon\": [34.9249653, -100.4458825], \"opacity\": 0.48577680525164113, \"lat\": [38.9597594, 39.7837304], \"type\": \"scattergeo\", \"line\": {\"width\": 1.2378275192705774, \"color\": \"red\"}, \"mode\": \"lines\"}, {\"lon\": [8.2319736, -100.4458825], \"opacity\": 0.48577680525164113, \"lat\": [46.7985624, 39.7837304], \"type\": \"scattergeo\", \"line\": {\"width\": 1.2172078000531603, \"color\": \"red\"}, \"mode\": \"lines\"}, {\"lon\": [116.407395, 11.5280364395482], \"opacity\": 0.48577680525164113, \"lat\": [39.904211, 64.5731537], \"type\": \"scattergeo\", \"line\": {\"width\": 0.995545818465925, \"color\": \"red\"}, \"mode\": \"lines\"}, {\"lon\": [-73.783892, -4.003104], \"opacity\": 0.48577680525164113, \"lat\": [2.8894434, 40.0028028], \"type\": \"scattergeo\", \"line\": {\"width\": 0.9800810290528622, \"color\": \"red\"}, \"mode\": \"lines\"}, {\"lon\": [116.407395, 122.7312101], \"opacity\": 0.48577680525164113, \"lat\": [39.904211, 12.7503486], \"type\": \"scattergeo\", \"line\": {\"width\": 0.9626831409631664, \"color\": \"red\"}, \"mode\": \"lines\"}, {\"lon\": [5.53460738161551, 4.66696], \"opacity\": 0.48577680525164113, \"lat\": [52.2379891, 50.6407351], \"type\": \"scattergeo\", \"line\": {\"width\": 0.9613944085120778, \"color\": \"red\"}, \"mode\": \"lines\"}, {\"lon\": [24.6859225, -100.4458825], \"opacity\": 0.48577680525164113, \"lat\": [45.9852129, 39.7837304], \"type\": \"scattergeo\", \"line\": {\"width\": 0.941419055520205, \"color\": \"red\"}, \"mode\": \"lines\"}, {\"lon\": [-4.003104, -100.4458825], \"opacity\": 0.48577680525164113, \"lat\": [40.0028028, 39.7837304], \"type\": \"scattergeo\", \"line\": {\"width\": 0.9362641257158506, \"color\": \"red\"}, \"mode\": \"lines\"}, {\"lon\": [-64.9672817, -100.4458825], \"opacity\": 0.48577680525164113, \"lat\": [-34.9964963, 39.7837304], \"type\": \"scattergeo\", \"line\": {\"width\": 0.8524965163950932, \"color\": \"red\"}, \"mode\": \"lines\"}, {\"lon\": [19.0258159, 55.84951], \"opacity\": 0.48577680525164113, \"lat\": [52.0977181, 25.61552], \"type\": \"scattergeo\", \"line\": {\"width\": 0.8215669375689673, \"color\": \"red\"}, \"mode\": \"lines\"}, {\"lon\": [71.247499, 1.8883335], \"opacity\": 0.48577680525164113, \"lat\": [30.3308401, 46.603354], \"type\": \"scattergeo\", \"line\": {\"width\": 0.7642183434955256, \"color\": \"red\"}, \"mode\": \"lines\"}, {\"lon\": [-100.4458825, 12.674297], \"opacity\": 0.48577680525164113, \"lat\": [39.7837304, 42.6384261], \"type\": \"scattergeo\", \"line\": {\"width\": 0.7133134116775269, \"color\": \"red\"}, \"mode\": \"lines\"}, {\"lon\": [1.8883335, 1.8883335], \"opacity\": 0.48577680525164113, \"lat\": [46.603354, 46.603354], \"type\": \"scattergeo\", \"line\": {\"width\": 0.7042922845199069, \"color\": \"red\"}, \"mode\": \"lines\"}, {\"lon\": [42.2363448, 42.2363448], \"opacity\": 0.48577680525164113, \"lat\": [17.7269134, 17.7269134], \"type\": \"scattergeo\", \"line\": {\"width\": 0.6469436904464653, \"color\": \"red\"}, \"mode\": \"lines\"}, {\"lon\": [139.2394179, -100.4458825], \"opacity\": 0.48577680525164113, \"lat\": [36.5748441, 39.7837304], \"type\": \"scattergeo\", \"line\": {\"width\": 0.6430774930931995, \"color\": \"red\"}, \"mode\": \"lines\"}, {\"lon\": [108.4265113, 1.8883335], \"opacity\": 0.48577680525164113, \"lat\": [13.2904027, 46.603354], \"type\": \"scattergeo\", \"line\": {\"width\": 0.6411443944165667, \"color\": \"red\"}, \"mode\": \"lines\"}, {\"lon\": [116.407395, 12.674297], \"opacity\": 0.48577680525164113, \"lat\": [39.904211, 42.6384261], \"type\": \"scattergeo\", \"line\": {\"width\": 0.5812183354409479, \"color\": \"red\"}, \"mode\": \"lines\"}, {\"lon\": [10.4234469, -100.4458825], \"opacity\": 0.48577680525164113, \"lat\": [51.0834196, 39.7837304], \"type\": \"scattergeo\", \"line\": {\"width\": 0.5767077718621378, \"color\": \"red\"}, \"mode\": \"lines\"}, {\"lon\": [-53.2, -100.4458825], \"opacity\": 0.48577680525164113, \"lat\": [-10.3333333, 39.7837304], \"type\": \"scattergeo\", \"line\": {\"width\": 0.5535105877425435, \"color\": \"red\"}, \"mode\": \"lines\"}, {\"lon\": [114.1849161, 114.1849161], \"opacity\": 0.48577680525164113, \"lat\": [22.350627, 22.350627], \"type\": \"scattergeo\", \"line\": {\"width\": 0.5374014321039363, \"color\": \"red\"}, \"mode\": \"lines\"}, {\"lon\": [4.66696, -100.4458825], \"opacity\": 0.48577680525164113, \"lat\": [50.6407351, 39.7837304], \"type\": \"scattergeo\", \"line\": {\"width\": 0.5361126996528477, \"color\": \"red\"}, \"mode\": \"lines\"}, {\"lon\": [28.5110236, -100.4458825], \"opacity\": 0.48577680525164113, \"lat\": [47.286747, 39.7837304], \"type\": \"scattergeo\", \"line\": {\"width\": 0.5322465022995819, \"color\": \"red\"}, \"mode\": \"lines\"}, {\"lon\": [1.8883335, 55.84951], \"opacity\": 0.48577680525164113, \"lat\": [46.603354, 25.61552], \"type\": \"scattergeo\", \"line\": {\"width\": 0.523225375141962, \"color\": \"red\"}, \"mode\": \"lines\"}, {\"lon\": [8.2319736, 55.84951], \"opacity\": 0.48577680525164113, \"lat\": [46.7985624, 25.61552], \"type\": \"scattergeo\", \"line\": {\"width\": 0.5109824168566204, \"color\": \"red\"}, \"mode\": \"lines\"}, {\"lon\": [122.7312101, -100.4458825], \"opacity\": 0.48577680525164113, \"lat\": [12.7503486, 39.7837304], \"type\": \"scattergeo\", \"line\": {\"width\": 0.4613662174897103, \"color\": \"red\"}, \"mode\": \"lines\"}, {\"lon\": [97.7453061, 97.7453061], \"opacity\": 0.48577680525164113, \"lat\": [64.6863136, 64.6863136], \"type\": \"scattergeo\", \"line\": {\"width\": 0.4497676254299131, \"color\": \"red\"}, \"mode\": \"lines\"}, {\"lon\": [116.407395, 100.83273], \"opacity\": 0.48577680525164113, \"lat\": [39.904211, 14.8971921], \"type\": \"scattergeo\", \"line\": {\"width\": 0.4252817088592301, \"color\": \"red\"}, \"mode\": \"lines\"}, {\"lon\": [-71.3187697, -100.4458825], \"opacity\": 0.48577680525164113, \"lat\": [-31.7613365, 39.7837304], \"type\": \"scattergeo\", \"line\": {\"width\": 0.3859753691010286, \"color\": \"red\"}, \"mode\": \"lines\"}, {\"lon\": [34.9249653, 55.84951], \"opacity\": 0.48577680525164113, \"lat\": [38.9597594, 25.61552], \"type\": \"scattergeo\", \"line\": {\"width\": 0.3795317068455857, \"color\": \"red\"}, \"mode\": \"lines\"}, {\"lon\": [-4.003104, 55.84951], \"opacity\": 0.48577680525164113, \"lat\": [40.0028028, 25.61552], \"type\": \"scattergeo\", \"line\": {\"width\": 0.3750211432667757, \"color\": \"red\"}, \"mode\": \"lines\"}, {\"lon\": [71.247499, -100.4458825], \"opacity\": 0.48577680525164113, \"lat\": [30.3308401, 39.7837304], \"type\": \"scattergeo\", \"line\": {\"width\": 0.3679331147857885, \"color\": \"red\"}, \"mode\": \"lines\"}, {\"lon\": [126.9779692, 55.84951], \"opacity\": 0.48577680525164113, \"lat\": [37.566535, 25.61552], \"type\": \"scattergeo\", \"line\": {\"width\": 0.360200720079257, \"color\": \"red\"}, \"mode\": \"lines\"}, {\"lon\": [-73.783892, -100.4458825], \"opacity\": 0.48577680525164113, \"lat\": [2.8894434, 39.7837304], \"type\": \"scattergeo\", \"line\": {\"width\": 0.3582676214026242, \"color\": \"red\"}, \"mode\": \"lines\"}, {\"lon\": [5.53460738161551, -100.4458825], \"opacity\": 0.48577680525164113, \"lat\": [52.2379891, 39.7837304], \"type\": \"scattergeo\", \"line\": {\"width\": 0.35311269159826986, \"color\": \"red\"}, \"mode\": \"lines\"}, {\"lon\": [15.4749544, 55.84951], \"opacity\": 0.48577680525164113, \"lat\": [49.8167003, 25.61552], \"type\": \"scattergeo\", \"line\": {\"width\": 0.3524683253727256, \"color\": \"red\"}, \"mode\": \"lines\"}, {\"lon\": [97.7453061, -100.4458825], \"opacity\": 0.48577680525164113, \"lat\": [64.6863136, 39.7837304], \"type\": \"scattergeo\", \"line\": {\"width\": 0.3479577617939156, \"color\": \"red\"}, \"mode\": \"lines\"}, {\"lon\": [-99.1333416, 55.84951], \"opacity\": 0.48577680525164113, \"lat\": [19.4326009, 25.61552], \"type\": \"scattergeo\", \"line\": {\"width\": 0.346669029342827, \"color\": \"red\"}, \"mode\": \"lines\"}, {\"lon\": [-99.1333416, -100.4458825], \"opacity\": 0.48577680525164113, \"lat\": [19.4326009, 39.7837304], \"type\": \"scattergeo\", \"line\": {\"width\": 0.34151409953847267, \"color\": \"red\"}, \"mode\": \"lines\"}, {\"lon\": [108.4265113, -4.003104], \"opacity\": 0.48577680525164113, \"lat\": [13.2904027, 40.0028028], \"type\": \"scattergeo\", \"line\": {\"width\": 0.3357148035085741, \"color\": \"red\"}, \"mode\": \"lines\"}, {\"lon\": [10.4234469, 0.0732], \"opacity\": 0.48577680525164113, \"lat\": [51.0834196, 51.303], \"type\": \"scattergeo\", \"line\": {\"width\": 0.32733804257649834, \"color\": \"red\"}, \"mode\": \"lines\"}, {\"lon\": [12.674297, 12.674297], \"opacity\": 0.48577680525164113, \"lat\": [42.6384261, 42.6384261], \"type\": \"scattergeo\", \"line\": {\"width\": 0.29189790017156253, \"color\": \"red\"}, \"mode\": \"lines\"}, {\"lon\": [108.4265113, -100.4458825], \"opacity\": 0.48577680525164113, \"lat\": [13.2904027, 39.7837304], \"type\": \"scattergeo\", \"line\": {\"width\": 0.2912535339460182, \"color\": \"red\"}, \"mode\": \"lines\"}, {\"lon\": [120.835363138175, 55.84951], \"opacity\": 0.48577680525164113, \"lat\": [23.59829785, 25.61552], \"type\": \"scattergeo\", \"line\": {\"width\": 0.2815880405628539, \"color\": \"red\"}, \"mode\": \"lines\"}, {\"lon\": [33.1451285, 33.1451285], \"opacity\": 0.48577680525164113, \"lat\": [34.9823018, 34.9823018], \"type\": \"scattergeo\", \"line\": {\"width\": 0.2764331107584996, \"color\": \"red\"}, \"mode\": \"lines\"}, {\"lon\": [12.674297, -100.4458825], \"opacity\": 0.48577680525164113, \"lat\": [42.6384261, 39.7837304], \"type\": \"scattergeo\", \"line\": {\"width\": 0.27192254717968956, \"color\": \"red\"}, \"mode\": \"lines\"}, {\"lon\": [10.4234469, 10.4234469], \"opacity\": 0.48577680525164113, \"lat\": [51.0834196, 51.0834196], \"type\": \"scattergeo\", \"line\": {\"width\": 0.2712781809541453, \"color\": \"red\"}, \"mode\": \"lines\"}, {\"lon\": [-64.7603583, 55.84951], \"opacity\": 0.48577680525164113, \"lat\": [32.3018217, 25.61552], \"type\": \"scattergeo\", \"line\": {\"width\": 0.26998944850305673, \"color\": \"red\"}, \"mode\": \"lines\"}, {\"lon\": [15.4749544, -100.4458825], \"opacity\": 0.48577680525164113, \"lat\": [49.8167003, 39.7837304], \"type\": \"scattergeo\", \"line\": {\"width\": 0.2674119836008796, \"color\": \"red\"}, \"mode\": \"lines\"}, {\"lon\": [114.1849161, 55.84951], \"opacity\": 0.48577680525164113, \"lat\": [22.350627, 25.61552], \"type\": \"scattergeo\", \"line\": {\"width\": 0.2667676173753353, \"color\": \"red\"}, \"mode\": \"lines\"}, {\"lon\": [-75.7396253904384, 55.84951], \"opacity\": 0.48577680525164113, \"lat\": [4.4922673, 25.61552], \"type\": \"scattergeo\", \"line\": {\"width\": 0.25839085644325954, \"color\": \"red\"}, \"mode\": \"lines\"}, {\"lon\": [122.7312101, 55.84951], \"opacity\": 0.48577680525164113, \"lat\": [12.7503486, 25.61552], \"type\": \"scattergeo\", \"line\": {\"width\": 0.25645775776662666, \"color\": \"red\"}, \"mode\": \"lines\"}, {\"lon\": [0.0732, -4.003104], \"opacity\": 0.48577680525164113, \"lat\": [51.303, 40.0028028], \"type\": \"scattergeo\", \"line\": {\"width\": 0.2513028279622724, \"color\": \"red\"}, \"mode\": \"lines\"}, {\"lon\": [103.8499736, -100.4458825], \"opacity\": 0.48577680525164113, \"lat\": [46.8250388, 39.7837304], \"type\": \"scattergeo\", \"line\": {\"width\": 0.2455035319323738, \"color\": \"red\"}, \"mode\": \"lines\"}, {\"lon\": [5.53460738161551, 42.2363448], \"opacity\": 0.48577680525164113, \"lat\": [52.2379891, 17.7269134], \"type\": \"scattergeo\", \"line\": {\"width\": 0.2274612776171337, \"color\": \"red\"}, \"mode\": \"lines\"}, {\"lon\": [-107.9917071, -100.4458825], \"opacity\": 0.48577680525164113, \"lat\": [61.0666922, 39.7837304], \"type\": \"scattergeo\", \"line\": {\"width\": 0.21070775575298223, \"color\": \"red\"}, \"mode\": \"lines\"}, {\"lon\": [35.0015196, 55.84951], \"opacity\": 0.48577680525164113, \"lat\": [30.8760272, 25.61552], \"type\": \"scattergeo\", \"line\": {\"width\": 0.21006338952743792, \"color\": \"red\"}, \"mode\": \"lines\"}, {\"lon\": [-7.9794599, 100.83273], \"opacity\": 0.48577680525164113, \"lat\": [52.865196, 14.8971921], \"type\": \"scattergeo\", \"line\": {\"width\": 0.19524296633991928, \"color\": \"red\"}, \"mode\": \"lines\"}, {\"lon\": [116.407395, 34.9249653], \"opacity\": 0.48577680525164113, \"lat\": [39.904211, 38.9597594], \"type\": \"scattergeo\", \"line\": {\"width\": 0.19266550143774214, \"color\": \"red\"}, \"mode\": \"lines\"}, {\"lon\": [139.2394179, 55.84951], \"opacity\": 0.48577680525164113, \"lat\": [36.5748441, 25.61552], \"type\": \"scattergeo\", \"line\": {\"width\": 0.18815493785893211, \"color\": \"red\"}, \"mode\": \"lines\"}, {\"lon\": [29.2675469, -100.4458825], \"opacity\": 0.48577680525164113, \"lat\": [26.2540493, 39.7837304], \"type\": \"scattergeo\", \"line\": {\"width\": 0.18751057163338786, \"color\": \"red\"}, \"mode\": \"lines\"}, {\"lon\": [172.8344077, -100.4458825], \"opacity\": 0.48577680525164113, \"lat\": [-41.5000831, 39.7837304], \"type\": \"scattergeo\", \"line\": {\"width\": 0.1836443742801221, \"color\": \"red\"}, \"mode\": \"lines\"}, {\"lon\": [108.4265113, 55.84951], \"opacity\": 0.48577680525164113, \"lat\": [13.2904027, 25.61552], \"type\": \"scattergeo\", \"line\": {\"width\": 0.18235564182903352, \"color\": \"red\"}, \"mode\": \"lines\"}, {\"lon\": [-7.8896263, -100.4458825], \"opacity\": 0.48577680525164113, \"lat\": [40.033265, 39.7837304], \"type\": \"scattergeo\", \"line\": {\"width\": 0.18106690937794495, \"color\": \"red\"}, \"mode\": \"lines\"}, {\"lon\": [-100.4458825, -7.9794599], \"opacity\": 0.48577680525164113, \"lat\": [39.7837304, 52.865196], \"type\": \"scattergeo\", \"line\": {\"width\": 0.17977817692685638, \"color\": \"red\"}, \"mode\": \"lines\"}, {\"lon\": [8.2319736, -4.003104], \"opacity\": 0.48577680525164113, \"lat\": [46.7985624, 40.0028028], \"type\": \"scattergeo\", \"line\": {\"width\": 0.17655634579913493, \"color\": \"red\"}, \"mode\": \"lines\"}, {\"lon\": [120.835363138175, -100.4458825], \"opacity\": 0.48577680525164113, \"lat\": [23.59829785, 39.7837304], \"type\": \"scattergeo\", \"line\": {\"width\": 0.17591197957359067, \"color\": \"red\"}, \"mode\": \"lines\"}, {\"lon\": [100.83273, 55.84951], \"opacity\": 0.48577680525164113, \"lat\": [14.8971921, 25.61552], \"type\": \"scattergeo\", \"line\": {\"width\": 0.17591197957359067, \"color\": \"red\"}, \"mode\": \"lines\"}, {\"lon\": [126.9779692, -4.003104], \"opacity\": 0.48577680525164113, \"lat\": [37.566535, 40.0028028], \"type\": \"scattergeo\", \"line\": {\"width\": 0.17591197957359067, \"color\": \"red\"}, \"mode\": \"lines\"}, {\"lon\": [114.5632032, 55.84951], \"opacity\": 0.48577680525164113, \"lat\": [-4.7993356, 25.61552], \"type\": \"scattergeo\", \"line\": {\"width\": 0.17269014844586922, \"color\": \"red\"}, \"mode\": \"lines\"}, {\"lon\": [114.5632032, -100.4458825], \"opacity\": 0.48577680525164113, \"lat\": [-4.7993356, 39.7837304], \"type\": \"scattergeo\", \"line\": {\"width\": 0.17269014844586922, \"color\": \"red\"}, \"mode\": \"lines\"}, {\"lon\": [1.8883335, -100.4458825], \"opacity\": 0.48577680525164113, \"lat\": [46.603354, 39.7837304], \"type\": \"scattergeo\", \"line\": {\"width\": 0.1720457822203249, \"color\": \"red\"}, \"mode\": \"lines\"}, {\"lon\": [-107.9917071, 55.84951], \"opacity\": 0.48577680525164113, \"lat\": [61.0666922, 25.61552], \"type\": \"scattergeo\", \"line\": {\"width\": 0.17140141599478062, \"color\": \"red\"}, \"mode\": \"lines\"}, {\"lon\": [12.674297, 55.84951], \"opacity\": 0.48577680525164113, \"lat\": [42.6384261, 25.61552], \"type\": \"scattergeo\", \"line\": {\"width\": 0.17011268354369208, \"color\": \"red\"}, \"mode\": \"lines\"}, {\"lon\": [8.2319736, 1.8883335], \"opacity\": 0.48577680525164113, \"lat\": [46.7985624, 46.603354], \"type\": \"scattergeo\", \"line\": {\"width\": 0.1662464861904263, \"color\": \"red\"}, \"mode\": \"lines\"}, {\"lon\": [100.83273, -7.8896263], \"opacity\": 0.48577680525164113, \"lat\": [14.8971921, 40.033265], \"type\": \"scattergeo\", \"line\": {\"width\": 0.16560211996488203, \"color\": \"red\"}, \"mode\": \"lines\"}, {\"lon\": [-100.4458825, 1.8883335], \"opacity\": 0.48577680525164113, \"lat\": [39.7837304, 46.603354], \"type\": \"scattergeo\", \"line\": {\"width\": 0.1585140914838949, \"color\": \"red\"}, \"mode\": \"lines\"}, {\"lon\": [-7.9794599, 55.84951], \"opacity\": 0.48577680525164113, \"lat\": [52.865196, 25.61552], \"type\": \"scattergeo\", \"line\": {\"width\": 0.1572253590328063, \"color\": \"red\"}, \"mode\": \"lines\"}, {\"lon\": [-53.2, 55.84951], \"opacity\": 0.48577680525164113, \"lat\": [-10.3333333, 25.61552], \"type\": \"scattergeo\", \"line\": {\"width\": 0.15013733055181913, \"color\": \"red\"}, \"mode\": \"lines\"}, {\"lon\": [-100.4458825, 122.7312101], \"opacity\": 0.48577680525164113, \"lat\": [39.7837304, 12.7503486], \"type\": \"scattergeo\", \"line\": {\"width\": 0.14820423187518628, \"color\": \"red\"}, \"mode\": \"lines\"}, {\"lon\": [71.247499, 55.84951], \"opacity\": 0.48577680525164113, \"lat\": [30.3308401, 25.61552], \"type\": \"scattergeo\", \"line\": {\"width\": 0.1353169073643005, \"color\": \"red\"}, \"mode\": \"lines\"}, {\"lon\": [116.407395, 97.7453061], \"opacity\": 0.48577680525164113, \"lat\": [39.904211, 64.6863136], \"type\": \"scattergeo\", \"line\": {\"width\": 0.13273944246212335, \"color\": \"red\"}, \"mode\": \"lines\"}, {\"lon\": [116.407395, 114.1849161], \"opacity\": 0.48577680525164113, \"lat\": [39.904211, 22.350627], \"type\": \"scattergeo\", \"line\": {\"width\": 0.12629578020668047, \"color\": \"red\"}, \"mode\": \"lines\"}, {\"lon\": [-100.4458825, 4.66696], \"opacity\": 0.48577680525164113, \"lat\": [39.7837304, 50.6407351], \"type\": \"scattergeo\", \"line\": {\"width\": 0.12307394907895902, \"color\": \"red\"}, \"mode\": \"lines\"}, {\"lon\": [25.4856617, -100.4458825], \"opacity\": 0.48577680525164113, \"lat\": [42.6073975, 39.7837304], \"type\": \"scattergeo\", \"line\": {\"width\": 0.10632042721480753, \"color\": \"red\"}, \"mode\": \"lines\"}, {\"lon\": [78.6677428, 103.8520359], \"opacity\": 0.48577680525164113, \"lat\": [22.3511148, 1.2904753], \"type\": \"scattergeo\", \"line\": {\"width\": 0.10374296231263039, \"color\": \"red\"}, \"mode\": \"lines\"}, {\"lon\": [-100.4458825, 10.4234469], \"opacity\": 0.48577680525164113, \"lat\": [39.7837304, 51.0834196], \"type\": \"scattergeo\", \"line\": {\"width\": 0.10309859608708609, \"color\": \"red\"}, \"mode\": \"lines\"}, {\"lon\": [-100.4458825, 134.755], \"opacity\": 0.48577680525164113, \"lat\": [39.7837304, -24.7761086], \"type\": \"scattergeo\", \"line\": {\"width\": 0.10245422986154182, \"color\": \"red\"}, \"mode\": \"lines\"}, {\"lon\": [139.2394179, 4.66696], \"opacity\": 0.48577680525164113, \"lat\": [36.5748441, 50.6407351], \"type\": \"scattergeo\", \"line\": {\"width\": 0.10180986363599752, \"color\": \"red\"}, \"mode\": \"lines\"}, {\"lon\": [78.6677428, 12.674297], \"opacity\": 0.48577680525164113, \"lat\": [22.3511148, 42.6384261], \"type\": \"scattergeo\", \"line\": {\"width\": 0.09923239873382037, \"color\": \"red\"}, \"mode\": \"lines\"}, {\"lon\": [19.0258159, 33.1451285], \"opacity\": 0.48577680525164113, \"lat\": [52.0977181, 34.9823018], \"type\": \"scattergeo\", \"line\": {\"width\": 0.0979436662827318, \"color\": \"red\"}, \"mode\": \"lines\"}, {\"lon\": [-100.4458825, 24.6859225], \"opacity\": 0.48577680525164113, \"lat\": [39.7837304, 45.9852129], \"type\": \"scattergeo\", \"line\": {\"width\": 0.0972993000571875, \"color\": \"red\"}, \"mode\": \"lines\"}, {\"lon\": [5.53460738161551, -7.9794599], \"opacity\": 0.48577680525164113, \"lat\": [52.2379891, 52.865196], \"type\": \"scattergeo\", \"line\": {\"width\": 0.0972993000571875, \"color\": \"red\"}, \"mode\": \"lines\"}, {\"lon\": [0.0732, 0.0732], \"opacity\": 0.48577680525164113, \"lat\": [51.303, 51.303], \"type\": \"scattergeo\", \"line\": {\"width\": 0.09665493383164322, \"color\": \"red\"}, \"mode\": \"lines\"}, {\"lon\": [-100.4458825, 97.7453061], \"opacity\": 0.48577680525164113, \"lat\": [39.7837304, 64.6863136], \"type\": \"scattergeo\", \"line\": {\"width\": 0.09536620138055464, \"color\": \"red\"}, \"mode\": \"lines\"}, {\"lon\": [-100.4458825, 11.5280364395482], \"opacity\": 0.48577680525164113, \"lat\": [39.7837304, 64.5731537], \"type\": \"scattergeo\", \"line\": {\"width\": 0.09472183515501034, \"color\": \"red\"}, \"mode\": \"lines\"}, {\"lon\": [-100.4458825, 0.547714867236488], \"opacity\": 0.48577680525164113, \"lat\": [39.7837304, 51.38660965], \"type\": \"scattergeo\", \"line\": {\"width\": 0.09407746892946606, \"color\": \"red\"}, \"mode\": \"lines\"}, {\"lon\": [139.2394179, -107.9917071], \"opacity\": 0.48577680525164113, \"lat\": [36.5748441, 61.0666922], \"type\": \"scattergeo\", \"line\": {\"width\": 0.09407746892946606, \"color\": \"red\"}, \"mode\": \"lines\"}, {\"lon\": [120.835363138175, 134.755], \"opacity\": 0.48577680525164113, \"lat\": [23.59829785, -24.7761086], \"type\": \"scattergeo\", \"line\": {\"width\": 0.09343310270392177, \"color\": \"red\"}, \"mode\": \"lines\"}, {\"lon\": [-66.1109318, 122.7312101], \"opacity\": 0.48577680525164113, \"lat\": [8.0018709, 12.7503486], \"type\": \"scattergeo\", \"line\": {\"width\": 0.09278873647837749, \"color\": \"red\"}, \"mode\": \"lines\"}, {\"lon\": [90.2932426, 33.1451285], \"opacity\": 0.48577680525164113, \"lat\": [24.4768783, 34.9823018], \"type\": \"scattergeo\", \"line\": {\"width\": 0.09278873647837749, \"color\": \"red\"}, \"mode\": \"lines\"}, {\"lon\": [10.4234469, 19.0258159], \"opacity\": 0.48577680525164113, \"lat\": [51.0834196, 52.0977181], \"type\": \"scattergeo\", \"line\": {\"width\": 0.09278873647837749, \"color\": \"red\"}, \"mode\": \"lines\"}, {\"lon\": [116.407395, -107.9917071], \"opacity\": 0.48577680525164113, \"lat\": [39.904211, 61.0666922], \"type\": \"scattergeo\", \"line\": {\"width\": 0.0921443702528332, \"color\": \"red\"}, \"mode\": \"lines\"}, {\"lon\": [-7.8896263, -7.8896263], \"opacity\": 0.48577680525164113, \"lat\": [40.033265, 40.033265], \"type\": \"scattergeo\", \"line\": {\"width\": 0.0921443702528332, \"color\": \"red\"}, \"mode\": \"lines\"}, {\"lon\": [1.8883335, 12.674297], \"opacity\": 0.48577680525164113, \"lat\": [46.603354, 42.6384261], \"type\": \"scattergeo\", \"line\": {\"width\": 0.0915000040272889, \"color\": \"red\"}, \"mode\": \"lines\"}, {\"lon\": [-73.783892, 97.7453061], \"opacity\": 0.48577680525164113, \"lat\": [2.8894434, 64.6863136], \"type\": \"scattergeo\", \"line\": {\"width\": 0.0915000040272889, \"color\": \"red\"}, \"mode\": \"lines\"}, {\"lon\": [139.2394179, 42.2363448], \"opacity\": 0.48577680525164113, \"lat\": [36.5748441, 17.7269134], \"type\": \"scattergeo\", \"line\": {\"width\": 0.0915000040272889, \"color\": \"red\"}, \"mode\": \"lines\"}, {\"lon\": [8.2319736, 24.6859225], \"opacity\": 0.48577680525164113, \"lat\": [46.7985624, 45.9852129], \"type\": \"scattergeo\", \"line\": {\"width\": 0.09021127157620033, \"color\": \"red\"}, \"mode\": \"lines\"}, {\"lon\": [24.6859225, -7.9794599], \"opacity\": 0.48577680525164113, \"lat\": [45.9852129, 52.865196], \"type\": \"scattergeo\", \"line\": {\"width\": 0.08956690535065605, \"color\": \"red\"}, \"mode\": \"lines\"}, {\"lon\": [31.2718321, 55.84951], \"opacity\": 0.48577680525164113, \"lat\": [49.4871968, 25.61552], \"type\": \"scattergeo\", \"line\": {\"width\": 0.08956690535065605, \"color\": \"red\"}, \"mode\": \"lines\"}, {\"lon\": [78.6677428, 55.84951], \"opacity\": 0.48577680525164113, \"lat\": [22.3511148, 25.61552], \"type\": \"scattergeo\", \"line\": {\"width\": 0.08956690535065605, \"color\": \"red\"}, \"mode\": \"lines\"}, {\"lon\": [134.755, -100.4458825], \"opacity\": 0.48577680525164113, \"lat\": [-24.7761086, 39.7837304], \"type\": \"scattergeo\", \"line\": {\"width\": 0.08956690535065605, \"color\": \"red\"}, \"mode\": \"lines\"}, {\"lon\": [0.0732, -100.4458825], \"opacity\": 0.48577680525164113, \"lat\": [51.303, 39.7837304], \"type\": \"scattergeo\", \"line\": {\"width\": 0.08892253912511175, \"color\": \"red\"}, \"mode\": \"lines\"}, {\"lon\": [-4.003104, 116.407395], \"opacity\": 0.48577680525164113, \"lat\": [40.0028028, 39.904211], \"type\": \"scattergeo\", \"line\": {\"width\": 0.08827817289956746, \"color\": \"red\"}, \"mode\": \"lines\"}, {\"lon\": [28.5110236, 11.5280364395482], \"opacity\": 0.48577680525164113, \"lat\": [47.286747, 64.5731537], \"type\": \"scattergeo\", \"line\": {\"width\": 0.08763380667402318, \"color\": \"red\"}, \"mode\": \"lines\"}, {\"lon\": [-99.1333416, -99.1333416], \"opacity\": 0.48577680525164113, \"lat\": [19.4326009, 19.4326009], \"type\": \"scattergeo\", \"line\": {\"width\": 0.0869894404484789, \"color\": \"red\"}, \"mode\": \"lines\"}, {\"lon\": [-75.7396253904384, -100.4458825], \"opacity\": 0.48577680525164113, \"lat\": [4.4922673, 39.7837304], \"type\": \"scattergeo\", \"line\": {\"width\": 0.0869894404484789, \"color\": \"red\"}, \"mode\": \"lines\"}, {\"lon\": [8.2319736, 34.9249653], \"opacity\": 0.48577680525164113, \"lat\": [46.7985624, 38.9597594], \"type\": \"scattergeo\", \"line\": {\"width\": 0.08505634177184604, \"color\": \"red\"}, \"mode\": \"lines\"}, {\"lon\": [55.84951, 0.0732], \"opacity\": 0.48577680525164113, \"lat\": [25.61552, 51.303], \"type\": \"scattergeo\", \"line\": {\"width\": 0.08505634177184604, \"color\": \"red\"}, \"mode\": \"lines\"}, {\"lon\": [116.407395, 1.8883335], \"opacity\": 0.48577680525164113, \"lat\": [39.904211, 46.603354], \"type\": \"scattergeo\", \"line\": {\"width\": 0.08054577819303602, \"color\": \"red\"}, \"mode\": \"lines\"}, {\"lon\": [78.6677428, 1.8883335], \"opacity\": 0.48577680525164113, \"lat\": [22.3511148, 46.603354], \"type\": \"scattergeo\", \"line\": {\"width\": 0.07667958083977028, \"color\": \"red\"}, \"mode\": \"lines\"}, {\"lon\": [31.2718321, 13.199959], \"opacity\": 0.48577680525164113, \"lat\": [49.4871968, 47.2000338], \"type\": \"scattergeo\", \"line\": {\"width\": 0.07539084838868171, \"color\": \"red\"}, \"mode\": \"lines\"}, {\"lon\": [-100.4458825, 114.1849161], \"opacity\": 0.48577680525164113, \"lat\": [39.7837304, 22.350627], \"type\": \"scattergeo\", \"line\": {\"width\": 0.07281338348650455, \"color\": \"red\"}, \"mode\": \"lines\"}, {\"lon\": [5.53460738161551, 12.674297], \"opacity\": 0.48577680525164113, \"lat\": [52.2379891, 42.6384261], \"type\": \"scattergeo\", \"line\": {\"width\": 0.06959155235878312, \"color\": \"red\"}, \"mode\": \"lines\"}, {\"lon\": [42.2363448, 55.84951], \"opacity\": 0.48577680525164113, \"lat\": [17.7269134, 25.61552], \"type\": \"scattergeo\", \"line\": {\"width\": 0.06508098877997309, \"color\": \"red\"}, \"mode\": \"lines\"}, {\"lon\": [114.1849161, -100.4458825], \"opacity\": 0.48577680525164113, \"lat\": [22.350627, 39.7837304], \"type\": \"scattergeo\", \"line\": {\"width\": 0.06250352387779595, \"color\": \"red\"}, \"mode\": \"lines\"}, {\"lon\": [19.0258159, -100.4458825], \"opacity\": 0.48577680525164113, \"lat\": [52.0977181, 39.7837304], \"type\": \"scattergeo\", \"line\": {\"width\": 0.06121479142670737, \"color\": \"red\"}, \"mode\": \"lines\"}, {\"lon\": [14.4808369, -7.9794599], \"opacity\": 0.48577680525164113, \"lat\": [45.8133113, 52.865196], \"type\": \"scattergeo\", \"line\": {\"width\": 0.05734859407344164, \"color\": \"red\"}, \"mode\": \"lines\"}, {\"lon\": [-64.9912286, -100.4458825], \"opacity\": 0.48577680525164113, \"lat\": [-17.0568696, 39.7837304], \"type\": \"scattergeo\", \"line\": {\"width\": 0.05734859407344164, \"color\": \"red\"}, \"mode\": \"lines\"}, {\"lon\": [78.6677428, -7.8896263], \"opacity\": 0.48577680525164113, \"lat\": [22.3511148, 40.033265], \"type\": \"scattergeo\", \"line\": {\"width\": 0.05605986162235306, \"color\": \"red\"}, \"mode\": \"lines\"}, {\"lon\": [34.9249653, 103.8520359], \"opacity\": 0.48577680525164113, \"lat\": [38.9597594, 1.2904753], \"type\": \"scattergeo\", \"line\": {\"width\": 0.05348239672017591, \"color\": \"red\"}, \"mode\": \"lines\"}, {\"lon\": [122.7312101, 122.7312101], \"opacity\": 0.48577680525164113, \"lat\": [12.7503486, 12.7503486], \"type\": \"scattergeo\", \"line\": {\"width\": 0.046394368239188744, \"color\": \"red\"}, \"mode\": \"lines\"}, {\"text\": [\"china\", \"china\", \"ukraine\", \"netherlands\", \"china\", \"united states\", \"india\", \"south korea\", \"china\", \"turkey\", \"swiss\", \"china\", \"colombia\", \"china\", \"netherlands\", \"roumania\", \"spain\", \"argentina\", \"poland\", \"pakistan\", \"united states\", \"france\", \"saudi arabia\", \"japan\", \"vietnam\", \"china\", \"germany\", \"brazil\", \"hong kong\", \"belgium\", \"moldova\", \"france\", \"swiss\", \"philippines\", \"russia\", \"china\", \"chile\", \"turkey\", \"spain\", \"pakistan\", \"south korea\", \"colombia\", \"netherlands\", \"czech republic\", \"russia\", \"mexico\", \"mexico\", \"vietnam\", \"germany\", \"italy\", \"vietnam\", \"taiwan\", \"cyprus\", \"italy\", \"germany\", \"bermuda\", \"czech republic\", \"hong kong\", \"armenia\", \"philippines\", \"united kingdom\", \"mongolia\", \"netherlands\", \"canada\", \"israel\", \"ireland\", \"china\", \"japan\", \"egypt\", \"new zealand\", \"vietnam\", \"portugal\", \"united states\", \"swiss\", \"taiwan\", \"thailand\", \"south korea\", \"indonesia\", \"indonesia\", \"france\", \"canada\", \"italy\", \"swiss\", \"thailand\", \"united states\", \"ireland\", \"brazil\", \"united states\", \"pakistan\", \"china\", \"china\", \"united states\", \"bulgaria\", \"india\", \"united states\", \"united states\", \"japan\", \"india\", \"poland\", \"united states\", \"netherlands\", \"united kingdom\", \"united states\", \"united states\", \"united states\", \"japan\", \"taiwan\", \"venezuela\", \"bangladesh\", \"germany\", \"china\", \"portugal\", \"france\", \"colombia\", \"japan\", \"swiss\", \"roumania\", \"ukraine\", \"india\", \"australia\", \"united kingdom\", \"spain\", \"moldova\", \"mexico\", \"armenia\", \"swiss\", \"united arab emirates\", \"china\", \"india\", \"ukraine\", \"united states\", \"netherlands\", \"saudi arabia\", \"hong kong\", \"poland\", \"slovenia\", \"bolivia\", \"india\", \"turkey\", \"philippines\"], \"lon\": [116.407395, 116.407395, 31.2718321, 5.53460738161551, 116.407395, -100.4458825, 78.6677428, 126.9779692, 116.407395, 34.9249653, 8.2319736, 116.407395, -73.783892, 116.407395, 5.53460738161551, 24.6859225, -4.003104, -64.9672817, 19.0258159, 71.247499, -100.4458825, 1.8883335, 42.2363448, 139.2394179, 108.4265113, 116.407395, 10.4234469, -53.2, 114.1849161, 4.66696, 28.5110236, 1.8883335, 8.2319736, 122.7312101, 97.7453061, 116.407395, -71.3187697, 34.9249653, -4.003104, 71.247499, 126.9779692, -73.783892, 5.53460738161551, 15.4749544, 97.7453061, -99.1333416, -99.1333416, 108.4265113, 10.4234469, 12.674297, 108.4265113, 120.835363138175, 33.1451285, 12.674297, 10.4234469, -64.7603583, 15.4749544, 114.1849161, -75.7396253904384, 122.7312101, 0.0732, 103.8499736, 5.53460738161551, -107.9917071, 35.0015196, -7.9794599, 116.407395, 139.2394179, 29.2675469, 172.8344077, 108.4265113, -7.8896263, -100.4458825, 8.2319736, 120.835363138175, 100.83273, 126.9779692, 114.5632032, 114.5632032, 1.8883335, -107.9917071, 12.674297, 8.2319736, 100.83273, -100.4458825, -7.9794599, -53.2, -100.4458825, 71.247499, 116.407395, 116.407395, -100.4458825, 25.4856617, 78.6677428, -100.4458825, -100.4458825, 139.2394179, 78.6677428, 19.0258159, -100.4458825, 5.53460738161551, 0.0732, -100.4458825, -100.4458825, -100.4458825, 139.2394179, 120.835363138175, -66.1109318, 90.2932426, 10.4234469, 116.407395, -7.8896263, 1.8883335, -73.783892, 139.2394179, 8.2319736, 24.6859225, 31.2718321, 78.6677428, 134.755, 0.0732, -4.003104, 28.5110236, -99.1333416, -75.7396253904384, 8.2319736, 55.84951, 116.407395, 78.6677428, 31.2718321, -100.4458825, 5.53460738161551, 42.2363448, 114.1849161, 19.0258159, 14.4808369, -64.9912286, 78.6677428, 34.9249653, 122.7312101], \"lat\": [39.904211, 39.904211, 49.4871968, 52.2379891, 39.904211, 39.7837304, 22.3511148, 37.566535, 39.904211, 38.9597594, 46.7985624, 39.904211, 2.8894434, 39.904211, 52.2379891, 45.9852129, 40.0028028, -34.9964963, 52.0977181, 30.3308401, 39.7837304, 46.603354, 17.7269134, 36.5748441, 13.2904027, 39.904211, 51.0834196, -10.3333333, 22.350627, 50.6407351, 47.286747, 46.603354, 46.7985624, 12.7503486, 64.6863136, 39.904211, -31.7613365, 38.9597594, 40.0028028, 30.3308401, 37.566535, 2.8894434, 52.2379891, 49.8167003, 64.6863136, 19.4326009, 19.4326009, 13.2904027, 51.0834196, 42.6384261, 13.2904027, 23.59829785, 34.9823018, 42.6384261, 51.0834196, 32.3018217, 49.8167003, 22.350627, 4.4922673, 12.7503486, 51.303, 46.8250388, 52.2379891, 61.0666922, 30.8760272, 52.865196, 39.904211, 36.5748441, 26.2540493, -41.5000831, 13.2904027, 40.033265, 39.7837304, 46.7985624, 23.59829785, 14.8971921, 37.566535, -4.7993356, -4.7993356, 46.603354, 61.0666922, 42.6384261, 46.7985624, 14.8971921, 39.7837304, 52.865196, -10.3333333, 39.7837304, 30.3308401, 39.904211, 39.904211, 39.7837304, 42.6073975, 22.3511148, 39.7837304, 39.7837304, 36.5748441, 22.3511148, 52.0977181, 39.7837304, 52.2379891, 51.303, 39.7837304, 39.7837304, 39.7837304, 36.5748441, 23.59829785, 8.0018709, 24.4768783, 51.0834196, 39.904211, 40.033265, 46.603354, 2.8894434, 36.5748441, 46.7985624, 45.9852129, 49.4871968, 22.3511148, -24.7761086, 51.303, 40.0028028, 47.286747, 19.4326009, 4.4922673, 46.7985624, 25.61552, 39.904211, 22.3511148, 49.4871968, 39.7837304, 52.2379891, 17.7269134, 22.350627, 52.0977181, 45.8133113, -17.0568696, 22.3511148, 38.9597594, 12.7503486], \"hoverinfo\": \"text\", \"type\": \"scattergeo\", \"marker\": {\"line\": {\"width\": 1, \"color\": \"rgba(68, 68, 68, 0)\"}, \"size\": 2, \"color\": \"rgb(255, 0, 0)\"}, \"mode\": \"markers\"}], {\"showlegend\": false, \"geo\": {\"landcolor\": \"rgb(243, 243, 243)\", \"scope\": \"world\", \"projection\": {\"type\": \"equirectangular\"}, \"countrycolor\": \"rgb(204, 204, 204)\", \"showland\": true}}, {\"linkText\": \"Export to plot.ly\", \"showLink\": true})});</script>"
      ]
     },
     "metadata": {},
     "output_type": "display_data"
    }
   ],
   "source": [
    "labels = [ dict(\n",
    "        type = 'scattergeo',\n",
    "        hoverinfo = 'text',\n",
    "        lon = df['longitude_attacker'],\n",
    "        lat = df['latitude_attacker'],\n",
    "        text = df['attacker'],\n",
    "        mode = 'markers',\n",
    "        marker = dict( \n",
    "            size=2, \n",
    "            color='rgb(255, 0, 0)',\n",
    "            line = dict(\n",
    "                width=1,\n",
    "                color='rgba(68, 68, 68, 0)'\n",
    "            )\n",
    "        ))]\n",
    "    \n",
    "layout = dict(\n",
    "        showlegend = False, \n",
    "        geo = dict(\n",
    "            scope='world',\n",
    "            projection= dict( type='equirectangular'),\n",
    "            showland = True,\n",
    "            landcolor = 'rgb(243, 243, 243)',\n",
    "            countrycolor = 'rgb(204, 204, 204)',\n",
    "        ),\n",
    "    )\n",
    "    \n",
    "fig = dict(data = data_norse + labels, layout=layout )\n",
    "iplot(fig, filename='d3-world-map')"
   ]
  },
  {
   "cell_type": "code",
   "execution_count": 413,
   "metadata": {
    "collapsed": true
   },
   "outputs": [],
   "source": [
    "# 1ère cartes : Représentation des cyber attaques \n",
    "# 2 ème carte : cibles des cyber-attaques \n",
    "# 3 ème carte : origine des attaques "
   ]
  },
  {
   "cell_type": "code",
   "execution_count": 414,
   "metadata": {},
   "outputs": [
    {
     "data": {
      "text/plain": [
       "[{'lat': [39.904211, 25.61552],\n",
       "  'line': {'color': 'red', 'width': 17.318631043953832},\n",
       "  'lon': [116.407395, 55.84951],\n",
       "  'mode': 'lines',\n",
       "  'opacity': 0.48577680525164113,\n",
       "  'type': 'scattergeo'},\n",
       " {'lat': [39.904211, 39.7837304],\n",
       "  'line': {'color': 'red', 'width': 8.414778539382858},\n",
       "  'lon': [116.407395, -100.4458825],\n",
       "  'mode': 'lines',\n",
       "  'opacity': 0.48577680525164113,\n",
       "  'type': 'scattergeo'},\n",
       " {'lat': [49.4871968, 39.7837304],\n",
       "  'line': {'color': 'red', 'width': 4.139408632896507},\n",
       "  'lon': [31.2718321, -100.4458825],\n",
       "  'mode': 'lines',\n",
       "  'opacity': 0.48577680525164113,\n",
       "  'type': 'scattergeo'},\n",
       " {'lat': [52.2379891, 25.61552],\n",
       "  'line': {'color': 'red', 'width': 3.3519931052813865},\n",
       "  'lon': [5.53460738161551, 55.84951],\n",
       "  'mode': 'lines',\n",
       "  'opacity': 0.48577680525164113,\n",
       "  'type': 'scattergeo'},\n",
       " {'lat': [39.904211, 40.0028028],\n",
       "  'line': {'color': 'red', 'width': 3.0678275998163556},\n",
       "  'lon': [116.407395, -4.003104],\n",
       "  'mode': 'lines',\n",
       "  'opacity': 0.48577680525164113,\n",
       "  'type': 'scattergeo'},\n",
       " {'lat': [39.7837304, 25.61552],\n",
       "  'line': {'color': 'red', 'width': 1.7745845851489694},\n",
       "  'lon': [-100.4458825, 55.84951],\n",
       "  'mode': 'lines',\n",
       "  'opacity': 0.48577680525164113,\n",
       "  'type': 'scattergeo'},\n",
       " {'lat': [22.3511148, 39.7837304],\n",
       "  'line': {'color': 'red', 'width': 1.6257359870482389},\n",
       "  'lon': [78.6677428, -100.4458825],\n",
       "  'mode': 'lines',\n",
       "  'opacity': 0.48577680525164113,\n",
       "  'type': 'scattergeo'},\n",
       " {'lat': [37.566535, 39.7837304],\n",
       "  'line': {'color': 'red', 'width': 1.6122042963118088},\n",
       "  'lon': [126.9779692, -100.4458825],\n",
       "  'mode': 'lines',\n",
       "  'opacity': 0.48577680525164113,\n",
       "  'type': 'scattergeo'},\n",
       " {'lat': [39.904211, 1.2904753],\n",
       "  'line': {'color': 'red', 'width': 1.5838521823878602},\n",
       "  'lon': [116.407395, 103.8520359],\n",
       "  'mode': 'lines',\n",
       "  'opacity': 0.48577680525164113,\n",
       "  'type': 'scattergeo'},\n",
       " {'lat': [38.9597594, 39.7837304],\n",
       "  'line': {'color': 'red', 'width': 1.2378275192705774},\n",
       "  'lon': [34.9249653, -100.4458825],\n",
       "  'mode': 'lines',\n",
       "  'opacity': 0.48577680525164113,\n",
       "  'type': 'scattergeo'},\n",
       " {'lat': [46.7985624, 39.7837304],\n",
       "  'line': {'color': 'red', 'width': 1.2172078000531603},\n",
       "  'lon': [8.2319736, -100.4458825],\n",
       "  'mode': 'lines',\n",
       "  'opacity': 0.48577680525164113,\n",
       "  'type': 'scattergeo'},\n",
       " {'lat': [39.904211, 64.5731537],\n",
       "  'line': {'color': 'red', 'width': 0.995545818465925},\n",
       "  'lon': [116.407395, 11.5280364395482],\n",
       "  'mode': 'lines',\n",
       "  'opacity': 0.48577680525164113,\n",
       "  'type': 'scattergeo'},\n",
       " {'lat': [2.8894434, 40.0028028],\n",
       "  'line': {'color': 'red', 'width': 0.9800810290528622},\n",
       "  'lon': [-73.783892, -4.003104],\n",
       "  'mode': 'lines',\n",
       "  'opacity': 0.48577680525164113,\n",
       "  'type': 'scattergeo'},\n",
       " {'lat': [39.904211, 12.7503486],\n",
       "  'line': {'color': 'red', 'width': 0.9626831409631664},\n",
       "  'lon': [116.407395, 122.7312101],\n",
       "  'mode': 'lines',\n",
       "  'opacity': 0.48577680525164113,\n",
       "  'type': 'scattergeo'},\n",
       " {'lat': [52.2379891, 50.6407351],\n",
       "  'line': {'color': 'red', 'width': 0.9613944085120778},\n",
       "  'lon': [5.53460738161551, 4.66696],\n",
       "  'mode': 'lines',\n",
       "  'opacity': 0.48577680525164113,\n",
       "  'type': 'scattergeo'},\n",
       " {'lat': [45.9852129, 39.7837304],\n",
       "  'line': {'color': 'red', 'width': 0.941419055520205},\n",
       "  'lon': [24.6859225, -100.4458825],\n",
       "  'mode': 'lines',\n",
       "  'opacity': 0.48577680525164113,\n",
       "  'type': 'scattergeo'},\n",
       " {'lat': [40.0028028, 39.7837304],\n",
       "  'line': {'color': 'red', 'width': 0.9362641257158506},\n",
       "  'lon': [-4.003104, -100.4458825],\n",
       "  'mode': 'lines',\n",
       "  'opacity': 0.48577680525164113,\n",
       "  'type': 'scattergeo'},\n",
       " {'lat': [-34.9964963, 39.7837304],\n",
       "  'line': {'color': 'red', 'width': 0.8524965163950932},\n",
       "  'lon': [-64.9672817, -100.4458825],\n",
       "  'mode': 'lines',\n",
       "  'opacity': 0.48577680525164113,\n",
       "  'type': 'scattergeo'},\n",
       " {'lat': [52.0977181, 25.61552],\n",
       "  'line': {'color': 'red', 'width': 0.8215669375689673},\n",
       "  'lon': [19.0258159, 55.84951],\n",
       "  'mode': 'lines',\n",
       "  'opacity': 0.48577680525164113,\n",
       "  'type': 'scattergeo'},\n",
       " {'lat': [30.3308401, 46.603354],\n",
       "  'line': {'color': 'red', 'width': 0.7642183434955256},\n",
       "  'lon': [71.247499, 1.8883335],\n",
       "  'mode': 'lines',\n",
       "  'opacity': 0.48577680525164113,\n",
       "  'type': 'scattergeo'},\n",
       " {'lat': [39.7837304, 42.6384261],\n",
       "  'line': {'color': 'red', 'width': 0.7133134116775269},\n",
       "  'lon': [-100.4458825, 12.674297],\n",
       "  'mode': 'lines',\n",
       "  'opacity': 0.48577680525164113,\n",
       "  'type': 'scattergeo'},\n",
       " {'lat': [46.603354, 46.603354],\n",
       "  'line': {'color': 'red', 'width': 0.7042922845199069},\n",
       "  'lon': [1.8883335, 1.8883335],\n",
       "  'mode': 'lines',\n",
       "  'opacity': 0.48577680525164113,\n",
       "  'type': 'scattergeo'},\n",
       " {'lat': [17.7269134, 17.7269134],\n",
       "  'line': {'color': 'red', 'width': 0.6469436904464653},\n",
       "  'lon': [42.2363448, 42.2363448],\n",
       "  'mode': 'lines',\n",
       "  'opacity': 0.48577680525164113,\n",
       "  'type': 'scattergeo'},\n",
       " {'lat': [36.5748441, 39.7837304],\n",
       "  'line': {'color': 'red', 'width': 0.6430774930931995},\n",
       "  'lon': [139.2394179, -100.4458825],\n",
       "  'mode': 'lines',\n",
       "  'opacity': 0.48577680525164113,\n",
       "  'type': 'scattergeo'},\n",
       " {'lat': [13.2904027, 46.603354],\n",
       "  'line': {'color': 'red', 'width': 0.6411443944165667},\n",
       "  'lon': [108.4265113, 1.8883335],\n",
       "  'mode': 'lines',\n",
       "  'opacity': 0.48577680525164113,\n",
       "  'type': 'scattergeo'},\n",
       " {'lat': [39.904211, 42.6384261],\n",
       "  'line': {'color': 'red', 'width': 0.5812183354409479},\n",
       "  'lon': [116.407395, 12.674297],\n",
       "  'mode': 'lines',\n",
       "  'opacity': 0.48577680525164113,\n",
       "  'type': 'scattergeo'},\n",
       " {'lat': [51.0834196, 39.7837304],\n",
       "  'line': {'color': 'red', 'width': 0.5767077718621378},\n",
       "  'lon': [10.4234469, -100.4458825],\n",
       "  'mode': 'lines',\n",
       "  'opacity': 0.48577680525164113,\n",
       "  'type': 'scattergeo'},\n",
       " {'lat': [-10.3333333, 39.7837304],\n",
       "  'line': {'color': 'red', 'width': 0.5535105877425435},\n",
       "  'lon': [-53.2, -100.4458825],\n",
       "  'mode': 'lines',\n",
       "  'opacity': 0.48577680525164113,\n",
       "  'type': 'scattergeo'},\n",
       " {'lat': [22.350627, 22.350627],\n",
       "  'line': {'color': 'red', 'width': 0.5374014321039363},\n",
       "  'lon': [114.1849161, 114.1849161],\n",
       "  'mode': 'lines',\n",
       "  'opacity': 0.48577680525164113,\n",
       "  'type': 'scattergeo'},\n",
       " {'lat': [50.6407351, 39.7837304],\n",
       "  'line': {'color': 'red', 'width': 0.5361126996528477},\n",
       "  'lon': [4.66696, -100.4458825],\n",
       "  'mode': 'lines',\n",
       "  'opacity': 0.48577680525164113,\n",
       "  'type': 'scattergeo'},\n",
       " {'lat': [47.286747, 39.7837304],\n",
       "  'line': {'color': 'red', 'width': 0.5322465022995819},\n",
       "  'lon': [28.5110236, -100.4458825],\n",
       "  'mode': 'lines',\n",
       "  'opacity': 0.48577680525164113,\n",
       "  'type': 'scattergeo'},\n",
       " {'lat': [46.603354, 25.61552],\n",
       "  'line': {'color': 'red', 'width': 0.523225375141962},\n",
       "  'lon': [1.8883335, 55.84951],\n",
       "  'mode': 'lines',\n",
       "  'opacity': 0.48577680525164113,\n",
       "  'type': 'scattergeo'},\n",
       " {'lat': [46.7985624, 25.61552],\n",
       "  'line': {'color': 'red', 'width': 0.5109824168566204},\n",
       "  'lon': [8.2319736, 55.84951],\n",
       "  'mode': 'lines',\n",
       "  'opacity': 0.48577680525164113,\n",
       "  'type': 'scattergeo'},\n",
       " {'lat': [12.7503486, 39.7837304],\n",
       "  'line': {'color': 'red', 'width': 0.4613662174897103},\n",
       "  'lon': [122.7312101, -100.4458825],\n",
       "  'mode': 'lines',\n",
       "  'opacity': 0.48577680525164113,\n",
       "  'type': 'scattergeo'},\n",
       " {'lat': [64.6863136, 64.6863136],\n",
       "  'line': {'color': 'red', 'width': 0.4497676254299131},\n",
       "  'lon': [97.7453061, 97.7453061],\n",
       "  'mode': 'lines',\n",
       "  'opacity': 0.48577680525164113,\n",
       "  'type': 'scattergeo'},\n",
       " {'lat': [39.904211, 14.8971921],\n",
       "  'line': {'color': 'red', 'width': 0.4252817088592301},\n",
       "  'lon': [116.407395, 100.83273],\n",
       "  'mode': 'lines',\n",
       "  'opacity': 0.48577680525164113,\n",
       "  'type': 'scattergeo'},\n",
       " {'lat': [-31.7613365, 39.7837304],\n",
       "  'line': {'color': 'red', 'width': 0.3859753691010286},\n",
       "  'lon': [-71.3187697, -100.4458825],\n",
       "  'mode': 'lines',\n",
       "  'opacity': 0.48577680525164113,\n",
       "  'type': 'scattergeo'},\n",
       " {'lat': [38.9597594, 25.61552],\n",
       "  'line': {'color': 'red', 'width': 0.3795317068455857},\n",
       "  'lon': [34.9249653, 55.84951],\n",
       "  'mode': 'lines',\n",
       "  'opacity': 0.48577680525164113,\n",
       "  'type': 'scattergeo'},\n",
       " {'lat': [40.0028028, 25.61552],\n",
       "  'line': {'color': 'red', 'width': 0.3750211432667757},\n",
       "  'lon': [-4.003104, 55.84951],\n",
       "  'mode': 'lines',\n",
       "  'opacity': 0.48577680525164113,\n",
       "  'type': 'scattergeo'},\n",
       " {'lat': [30.3308401, 39.7837304],\n",
       "  'line': {'color': 'red', 'width': 0.3679331147857885},\n",
       "  'lon': [71.247499, -100.4458825],\n",
       "  'mode': 'lines',\n",
       "  'opacity': 0.48577680525164113,\n",
       "  'type': 'scattergeo'},\n",
       " {'lat': [37.566535, 25.61552],\n",
       "  'line': {'color': 'red', 'width': 0.360200720079257},\n",
       "  'lon': [126.9779692, 55.84951],\n",
       "  'mode': 'lines',\n",
       "  'opacity': 0.48577680525164113,\n",
       "  'type': 'scattergeo'},\n",
       " {'lat': [2.8894434, 39.7837304],\n",
       "  'line': {'color': 'red', 'width': 0.3582676214026242},\n",
       "  'lon': [-73.783892, -100.4458825],\n",
       "  'mode': 'lines',\n",
       "  'opacity': 0.48577680525164113,\n",
       "  'type': 'scattergeo'},\n",
       " {'lat': [52.2379891, 39.7837304],\n",
       "  'line': {'color': 'red', 'width': 0.35311269159826986},\n",
       "  'lon': [5.53460738161551, -100.4458825],\n",
       "  'mode': 'lines',\n",
       "  'opacity': 0.48577680525164113,\n",
       "  'type': 'scattergeo'},\n",
       " {'lat': [49.8167003, 25.61552],\n",
       "  'line': {'color': 'red', 'width': 0.3524683253727256},\n",
       "  'lon': [15.4749544, 55.84951],\n",
       "  'mode': 'lines',\n",
       "  'opacity': 0.48577680525164113,\n",
       "  'type': 'scattergeo'},\n",
       " {'lat': [64.6863136, 39.7837304],\n",
       "  'line': {'color': 'red', 'width': 0.3479577617939156},\n",
       "  'lon': [97.7453061, -100.4458825],\n",
       "  'mode': 'lines',\n",
       "  'opacity': 0.48577680525164113,\n",
       "  'type': 'scattergeo'},\n",
       " {'lat': [19.4326009, 25.61552],\n",
       "  'line': {'color': 'red', 'width': 0.346669029342827},\n",
       "  'lon': [-99.1333416, 55.84951],\n",
       "  'mode': 'lines',\n",
       "  'opacity': 0.48577680525164113,\n",
       "  'type': 'scattergeo'},\n",
       " {'lat': [19.4326009, 39.7837304],\n",
       "  'line': {'color': 'red', 'width': 0.34151409953847267},\n",
       "  'lon': [-99.1333416, -100.4458825],\n",
       "  'mode': 'lines',\n",
       "  'opacity': 0.48577680525164113,\n",
       "  'type': 'scattergeo'},\n",
       " {'lat': [13.2904027, 40.0028028],\n",
       "  'line': {'color': 'red', 'width': 0.3357148035085741},\n",
       "  'lon': [108.4265113, -4.003104],\n",
       "  'mode': 'lines',\n",
       "  'opacity': 0.48577680525164113,\n",
       "  'type': 'scattergeo'},\n",
       " {'lat': [51.0834196, 51.303],\n",
       "  'line': {'color': 'red', 'width': 0.32733804257649834},\n",
       "  'lon': [10.4234469, 0.0732],\n",
       "  'mode': 'lines',\n",
       "  'opacity': 0.48577680525164113,\n",
       "  'type': 'scattergeo'},\n",
       " {'lat': [42.6384261, 42.6384261],\n",
       "  'line': {'color': 'red', 'width': 0.29189790017156253},\n",
       "  'lon': [12.674297, 12.674297],\n",
       "  'mode': 'lines',\n",
       "  'opacity': 0.48577680525164113,\n",
       "  'type': 'scattergeo'},\n",
       " {'lat': [13.2904027, 39.7837304],\n",
       "  'line': {'color': 'red', 'width': 0.2912535339460182},\n",
       "  'lon': [108.4265113, -100.4458825],\n",
       "  'mode': 'lines',\n",
       "  'opacity': 0.48577680525164113,\n",
       "  'type': 'scattergeo'},\n",
       " {'lat': [23.59829785, 25.61552],\n",
       "  'line': {'color': 'red', 'width': 0.2815880405628539},\n",
       "  'lon': [120.835363138175, 55.84951],\n",
       "  'mode': 'lines',\n",
       "  'opacity': 0.48577680525164113,\n",
       "  'type': 'scattergeo'},\n",
       " {'lat': [34.9823018, 34.9823018],\n",
       "  'line': {'color': 'red', 'width': 0.2764331107584996},\n",
       "  'lon': [33.1451285, 33.1451285],\n",
       "  'mode': 'lines',\n",
       "  'opacity': 0.48577680525164113,\n",
       "  'type': 'scattergeo'},\n",
       " {'lat': [42.6384261, 39.7837304],\n",
       "  'line': {'color': 'red', 'width': 0.27192254717968956},\n",
       "  'lon': [12.674297, -100.4458825],\n",
       "  'mode': 'lines',\n",
       "  'opacity': 0.48577680525164113,\n",
       "  'type': 'scattergeo'},\n",
       " {'lat': [51.0834196, 51.0834196],\n",
       "  'line': {'color': 'red', 'width': 0.2712781809541453},\n",
       "  'lon': [10.4234469, 10.4234469],\n",
       "  'mode': 'lines',\n",
       "  'opacity': 0.48577680525164113,\n",
       "  'type': 'scattergeo'},\n",
       " {'lat': [32.3018217, 25.61552],\n",
       "  'line': {'color': 'red', 'width': 0.26998944850305673},\n",
       "  'lon': [-64.7603583, 55.84951],\n",
       "  'mode': 'lines',\n",
       "  'opacity': 0.48577680525164113,\n",
       "  'type': 'scattergeo'},\n",
       " {'lat': [49.8167003, 39.7837304],\n",
       "  'line': {'color': 'red', 'width': 0.2674119836008796},\n",
       "  'lon': [15.4749544, -100.4458825],\n",
       "  'mode': 'lines',\n",
       "  'opacity': 0.48577680525164113,\n",
       "  'type': 'scattergeo'},\n",
       " {'lat': [22.350627, 25.61552],\n",
       "  'line': {'color': 'red', 'width': 0.2667676173753353},\n",
       "  'lon': [114.1849161, 55.84951],\n",
       "  'mode': 'lines',\n",
       "  'opacity': 0.48577680525164113,\n",
       "  'type': 'scattergeo'},\n",
       " {'lat': [4.4922673, 25.61552],\n",
       "  'line': {'color': 'red', 'width': 0.25839085644325954},\n",
       "  'lon': [-75.7396253904384, 55.84951],\n",
       "  'mode': 'lines',\n",
       "  'opacity': 0.48577680525164113,\n",
       "  'type': 'scattergeo'},\n",
       " {'lat': [12.7503486, 25.61552],\n",
       "  'line': {'color': 'red', 'width': 0.25645775776662666},\n",
       "  'lon': [122.7312101, 55.84951],\n",
       "  'mode': 'lines',\n",
       "  'opacity': 0.48577680525164113,\n",
       "  'type': 'scattergeo'},\n",
       " {'lat': [51.303, 40.0028028],\n",
       "  'line': {'color': 'red', 'width': 0.2513028279622724},\n",
       "  'lon': [0.0732, -4.003104],\n",
       "  'mode': 'lines',\n",
       "  'opacity': 0.48577680525164113,\n",
       "  'type': 'scattergeo'},\n",
       " {'lat': [46.8250388, 39.7837304],\n",
       "  'line': {'color': 'red', 'width': 0.2455035319323738},\n",
       "  'lon': [103.8499736, -100.4458825],\n",
       "  'mode': 'lines',\n",
       "  'opacity': 0.48577680525164113,\n",
       "  'type': 'scattergeo'},\n",
       " {'lat': [52.2379891, 17.7269134],\n",
       "  'line': {'color': 'red', 'width': 0.2274612776171337},\n",
       "  'lon': [5.53460738161551, 42.2363448],\n",
       "  'mode': 'lines',\n",
       "  'opacity': 0.48577680525164113,\n",
       "  'type': 'scattergeo'},\n",
       " {'lat': [61.0666922, 39.7837304],\n",
       "  'line': {'color': 'red', 'width': 0.21070775575298223},\n",
       "  'lon': [-107.9917071, -100.4458825],\n",
       "  'mode': 'lines',\n",
       "  'opacity': 0.48577680525164113,\n",
       "  'type': 'scattergeo'},\n",
       " {'lat': [30.8760272, 25.61552],\n",
       "  'line': {'color': 'red', 'width': 0.21006338952743792},\n",
       "  'lon': [35.0015196, 55.84951],\n",
       "  'mode': 'lines',\n",
       "  'opacity': 0.48577680525164113,\n",
       "  'type': 'scattergeo'},\n",
       " {'lat': [52.865196, 14.8971921],\n",
       "  'line': {'color': 'red', 'width': 0.19524296633991928},\n",
       "  'lon': [-7.9794599, 100.83273],\n",
       "  'mode': 'lines',\n",
       "  'opacity': 0.48577680525164113,\n",
       "  'type': 'scattergeo'},\n",
       " {'lat': [39.904211, 38.9597594],\n",
       "  'line': {'color': 'red', 'width': 0.19266550143774214},\n",
       "  'lon': [116.407395, 34.9249653],\n",
       "  'mode': 'lines',\n",
       "  'opacity': 0.48577680525164113,\n",
       "  'type': 'scattergeo'},\n",
       " {'lat': [36.5748441, 25.61552],\n",
       "  'line': {'color': 'red', 'width': 0.18815493785893211},\n",
       "  'lon': [139.2394179, 55.84951],\n",
       "  'mode': 'lines',\n",
       "  'opacity': 0.48577680525164113,\n",
       "  'type': 'scattergeo'},\n",
       " {'lat': [26.2540493, 39.7837304],\n",
       "  'line': {'color': 'red', 'width': 0.18751057163338786},\n",
       "  'lon': [29.2675469, -100.4458825],\n",
       "  'mode': 'lines',\n",
       "  'opacity': 0.48577680525164113,\n",
       "  'type': 'scattergeo'},\n",
       " {'lat': [-41.5000831, 39.7837304],\n",
       "  'line': {'color': 'red', 'width': 0.1836443742801221},\n",
       "  'lon': [172.8344077, -100.4458825],\n",
       "  'mode': 'lines',\n",
       "  'opacity': 0.48577680525164113,\n",
       "  'type': 'scattergeo'},\n",
       " {'lat': [13.2904027, 25.61552],\n",
       "  'line': {'color': 'red', 'width': 0.18235564182903352},\n",
       "  'lon': [108.4265113, 55.84951],\n",
       "  'mode': 'lines',\n",
       "  'opacity': 0.48577680525164113,\n",
       "  'type': 'scattergeo'},\n",
       " {'lat': [40.033265, 39.7837304],\n",
       "  'line': {'color': 'red', 'width': 0.18106690937794495},\n",
       "  'lon': [-7.8896263, -100.4458825],\n",
       "  'mode': 'lines',\n",
       "  'opacity': 0.48577680525164113,\n",
       "  'type': 'scattergeo'},\n",
       " {'lat': [39.7837304, 52.865196],\n",
       "  'line': {'color': 'red', 'width': 0.17977817692685638},\n",
       "  'lon': [-100.4458825, -7.9794599],\n",
       "  'mode': 'lines',\n",
       "  'opacity': 0.48577680525164113,\n",
       "  'type': 'scattergeo'},\n",
       " {'lat': [46.7985624, 40.0028028],\n",
       "  'line': {'color': 'red', 'width': 0.17655634579913493},\n",
       "  'lon': [8.2319736, -4.003104],\n",
       "  'mode': 'lines',\n",
       "  'opacity': 0.48577680525164113,\n",
       "  'type': 'scattergeo'},\n",
       " {'lat': [23.59829785, 39.7837304],\n",
       "  'line': {'color': 'red', 'width': 0.17591197957359067},\n",
       "  'lon': [120.835363138175, -100.4458825],\n",
       "  'mode': 'lines',\n",
       "  'opacity': 0.48577680525164113,\n",
       "  'type': 'scattergeo'},\n",
       " {'lat': [14.8971921, 25.61552],\n",
       "  'line': {'color': 'red', 'width': 0.17591197957359067},\n",
       "  'lon': [100.83273, 55.84951],\n",
       "  'mode': 'lines',\n",
       "  'opacity': 0.48577680525164113,\n",
       "  'type': 'scattergeo'},\n",
       " {'lat': [37.566535, 40.0028028],\n",
       "  'line': {'color': 'red', 'width': 0.17591197957359067},\n",
       "  'lon': [126.9779692, -4.003104],\n",
       "  'mode': 'lines',\n",
       "  'opacity': 0.48577680525164113,\n",
       "  'type': 'scattergeo'},\n",
       " {'lat': [-4.7993356, 25.61552],\n",
       "  'line': {'color': 'red', 'width': 0.17269014844586922},\n",
       "  'lon': [114.5632032, 55.84951],\n",
       "  'mode': 'lines',\n",
       "  'opacity': 0.48577680525164113,\n",
       "  'type': 'scattergeo'},\n",
       " {'lat': [-4.7993356, 39.7837304],\n",
       "  'line': {'color': 'red', 'width': 0.17269014844586922},\n",
       "  'lon': [114.5632032, -100.4458825],\n",
       "  'mode': 'lines',\n",
       "  'opacity': 0.48577680525164113,\n",
       "  'type': 'scattergeo'},\n",
       " {'lat': [46.603354, 39.7837304],\n",
       "  'line': {'color': 'red', 'width': 0.1720457822203249},\n",
       "  'lon': [1.8883335, -100.4458825],\n",
       "  'mode': 'lines',\n",
       "  'opacity': 0.48577680525164113,\n",
       "  'type': 'scattergeo'},\n",
       " {'lat': [61.0666922, 25.61552],\n",
       "  'line': {'color': 'red', 'width': 0.17140141599478062},\n",
       "  'lon': [-107.9917071, 55.84951],\n",
       "  'mode': 'lines',\n",
       "  'opacity': 0.48577680525164113,\n",
       "  'type': 'scattergeo'},\n",
       " {'lat': [42.6384261, 25.61552],\n",
       "  'line': {'color': 'red', 'width': 0.17011268354369208},\n",
       "  'lon': [12.674297, 55.84951],\n",
       "  'mode': 'lines',\n",
       "  'opacity': 0.48577680525164113,\n",
       "  'type': 'scattergeo'},\n",
       " {'lat': [46.7985624, 46.603354],\n",
       "  'line': {'color': 'red', 'width': 0.1662464861904263},\n",
       "  'lon': [8.2319736, 1.8883335],\n",
       "  'mode': 'lines',\n",
       "  'opacity': 0.48577680525164113,\n",
       "  'type': 'scattergeo'},\n",
       " {'lat': [14.8971921, 40.033265],\n",
       "  'line': {'color': 'red', 'width': 0.16560211996488203},\n",
       "  'lon': [100.83273, -7.8896263],\n",
       "  'mode': 'lines',\n",
       "  'opacity': 0.48577680525164113,\n",
       "  'type': 'scattergeo'},\n",
       " {'lat': [39.7837304, 46.603354],\n",
       "  'line': {'color': 'red', 'width': 0.1585140914838949},\n",
       "  'lon': [-100.4458825, 1.8883335],\n",
       "  'mode': 'lines',\n",
       "  'opacity': 0.48577680525164113,\n",
       "  'type': 'scattergeo'},\n",
       " {'lat': [52.865196, 25.61552],\n",
       "  'line': {'color': 'red', 'width': 0.1572253590328063},\n",
       "  'lon': [-7.9794599, 55.84951],\n",
       "  'mode': 'lines',\n",
       "  'opacity': 0.48577680525164113,\n",
       "  'type': 'scattergeo'},\n",
       " {'lat': [-10.3333333, 25.61552],\n",
       "  'line': {'color': 'red', 'width': 0.15013733055181913},\n",
       "  'lon': [-53.2, 55.84951],\n",
       "  'mode': 'lines',\n",
       "  'opacity': 0.48577680525164113,\n",
       "  'type': 'scattergeo'},\n",
       " {'lat': [39.7837304, 12.7503486],\n",
       "  'line': {'color': 'red', 'width': 0.14820423187518628},\n",
       "  'lon': [-100.4458825, 122.7312101],\n",
       "  'mode': 'lines',\n",
       "  'opacity': 0.48577680525164113,\n",
       "  'type': 'scattergeo'},\n",
       " {'lat': [30.3308401, 25.61552],\n",
       "  'line': {'color': 'red', 'width': 0.1353169073643005},\n",
       "  'lon': [71.247499, 55.84951],\n",
       "  'mode': 'lines',\n",
       "  'opacity': 0.48577680525164113,\n",
       "  'type': 'scattergeo'},\n",
       " {'lat': [39.904211, 64.6863136],\n",
       "  'line': {'color': 'red', 'width': 0.13273944246212335},\n",
       "  'lon': [116.407395, 97.7453061],\n",
       "  'mode': 'lines',\n",
       "  'opacity': 0.48577680525164113,\n",
       "  'type': 'scattergeo'},\n",
       " {'lat': [39.904211, 22.350627],\n",
       "  'line': {'color': 'red', 'width': 0.12629578020668047},\n",
       "  'lon': [116.407395, 114.1849161],\n",
       "  'mode': 'lines',\n",
       "  'opacity': 0.48577680525164113,\n",
       "  'type': 'scattergeo'},\n",
       " {'lat': [39.7837304, 50.6407351],\n",
       "  'line': {'color': 'red', 'width': 0.12307394907895902},\n",
       "  'lon': [-100.4458825, 4.66696],\n",
       "  'mode': 'lines',\n",
       "  'opacity': 0.48577680525164113,\n",
       "  'type': 'scattergeo'},\n",
       " {'lat': [42.6073975, 39.7837304],\n",
       "  'line': {'color': 'red', 'width': 0.10632042721480753},\n",
       "  'lon': [25.4856617, -100.4458825],\n",
       "  'mode': 'lines',\n",
       "  'opacity': 0.48577680525164113,\n",
       "  'type': 'scattergeo'},\n",
       " {'lat': [22.3511148, 1.2904753],\n",
       "  'line': {'color': 'red', 'width': 0.10374296231263039},\n",
       "  'lon': [78.6677428, 103.8520359],\n",
       "  'mode': 'lines',\n",
       "  'opacity': 0.48577680525164113,\n",
       "  'type': 'scattergeo'},\n",
       " {'lat': [39.7837304, 51.0834196],\n",
       "  'line': {'color': 'red', 'width': 0.10309859608708609},\n",
       "  'lon': [-100.4458825, 10.4234469],\n",
       "  'mode': 'lines',\n",
       "  'opacity': 0.48577680525164113,\n",
       "  'type': 'scattergeo'},\n",
       " {'lat': [39.7837304, -24.7761086],\n",
       "  'line': {'color': 'red', 'width': 0.10245422986154182},\n",
       "  'lon': [-100.4458825, 134.755],\n",
       "  'mode': 'lines',\n",
       "  'opacity': 0.48577680525164113,\n",
       "  'type': 'scattergeo'},\n",
       " {'lat': [36.5748441, 50.6407351],\n",
       "  'line': {'color': 'red', 'width': 0.10180986363599752},\n",
       "  'lon': [139.2394179, 4.66696],\n",
       "  'mode': 'lines',\n",
       "  'opacity': 0.48577680525164113,\n",
       "  'type': 'scattergeo'},\n",
       " {'lat': [22.3511148, 42.6384261],\n",
       "  'line': {'color': 'red', 'width': 0.09923239873382037},\n",
       "  'lon': [78.6677428, 12.674297],\n",
       "  'mode': 'lines',\n",
       "  'opacity': 0.48577680525164113,\n",
       "  'type': 'scattergeo'},\n",
       " {'lat': [52.0977181, 34.9823018],\n",
       "  'line': {'color': 'red', 'width': 0.0979436662827318},\n",
       "  'lon': [19.0258159, 33.1451285],\n",
       "  'mode': 'lines',\n",
       "  'opacity': 0.48577680525164113,\n",
       "  'type': 'scattergeo'},\n",
       " {'lat': [39.7837304, 45.9852129],\n",
       "  'line': {'color': 'red', 'width': 0.0972993000571875},\n",
       "  'lon': [-100.4458825, 24.6859225],\n",
       "  'mode': 'lines',\n",
       "  'opacity': 0.48577680525164113,\n",
       "  'type': 'scattergeo'},\n",
       " {'lat': [52.2379891, 52.865196],\n",
       "  'line': {'color': 'red', 'width': 0.0972993000571875},\n",
       "  'lon': [5.53460738161551, -7.9794599],\n",
       "  'mode': 'lines',\n",
       "  'opacity': 0.48577680525164113,\n",
       "  'type': 'scattergeo'},\n",
       " {'lat': [51.303, 51.303],\n",
       "  'line': {'color': 'red', 'width': 0.09665493383164322},\n",
       "  'lon': [0.0732, 0.0732],\n",
       "  'mode': 'lines',\n",
       "  'opacity': 0.48577680525164113,\n",
       "  'type': 'scattergeo'},\n",
       " {'lat': [39.7837304, 64.6863136],\n",
       "  'line': {'color': 'red', 'width': 0.09536620138055464},\n",
       "  'lon': [-100.4458825, 97.7453061],\n",
       "  'mode': 'lines',\n",
       "  'opacity': 0.48577680525164113,\n",
       "  'type': 'scattergeo'},\n",
       " {'lat': [39.7837304, 64.5731537],\n",
       "  'line': {'color': 'red', 'width': 0.09472183515501034},\n",
       "  'lon': [-100.4458825, 11.5280364395482],\n",
       "  'mode': 'lines',\n",
       "  'opacity': 0.48577680525164113,\n",
       "  'type': 'scattergeo'},\n",
       " {'lat': [39.7837304, 51.38660965],\n",
       "  'line': {'color': 'red', 'width': 0.09407746892946606},\n",
       "  'lon': [-100.4458825, 0.547714867236488],\n",
       "  'mode': 'lines',\n",
       "  'opacity': 0.48577680525164113,\n",
       "  'type': 'scattergeo'},\n",
       " {'lat': [36.5748441, 61.0666922],\n",
       "  'line': {'color': 'red', 'width': 0.09407746892946606},\n",
       "  'lon': [139.2394179, -107.9917071],\n",
       "  'mode': 'lines',\n",
       "  'opacity': 0.48577680525164113,\n",
       "  'type': 'scattergeo'},\n",
       " {'lat': [23.59829785, -24.7761086],\n",
       "  'line': {'color': 'red', 'width': 0.09343310270392177},\n",
       "  'lon': [120.835363138175, 134.755],\n",
       "  'mode': 'lines',\n",
       "  'opacity': 0.48577680525164113,\n",
       "  'type': 'scattergeo'},\n",
       " {'lat': [8.0018709, 12.7503486],\n",
       "  'line': {'color': 'red', 'width': 0.09278873647837749},\n",
       "  'lon': [-66.1109318, 122.7312101],\n",
       "  'mode': 'lines',\n",
       "  'opacity': 0.48577680525164113,\n",
       "  'type': 'scattergeo'},\n",
       " {'lat': [24.4768783, 34.9823018],\n",
       "  'line': {'color': 'red', 'width': 0.09278873647837749},\n",
       "  'lon': [90.2932426, 33.1451285],\n",
       "  'mode': 'lines',\n",
       "  'opacity': 0.48577680525164113,\n",
       "  'type': 'scattergeo'},\n",
       " {'lat': [51.0834196, 52.0977181],\n",
       "  'line': {'color': 'red', 'width': 0.09278873647837749},\n",
       "  'lon': [10.4234469, 19.0258159],\n",
       "  'mode': 'lines',\n",
       "  'opacity': 0.48577680525164113,\n",
       "  'type': 'scattergeo'},\n",
       " {'lat': [39.904211, 61.0666922],\n",
       "  'line': {'color': 'red', 'width': 0.0921443702528332},\n",
       "  'lon': [116.407395, -107.9917071],\n",
       "  'mode': 'lines',\n",
       "  'opacity': 0.48577680525164113,\n",
       "  'type': 'scattergeo'},\n",
       " {'lat': [40.033265, 40.033265],\n",
       "  'line': {'color': 'red', 'width': 0.0921443702528332},\n",
       "  'lon': [-7.8896263, -7.8896263],\n",
       "  'mode': 'lines',\n",
       "  'opacity': 0.48577680525164113,\n",
       "  'type': 'scattergeo'},\n",
       " {'lat': [46.603354, 42.6384261],\n",
       "  'line': {'color': 'red', 'width': 0.0915000040272889},\n",
       "  'lon': [1.8883335, 12.674297],\n",
       "  'mode': 'lines',\n",
       "  'opacity': 0.48577680525164113,\n",
       "  'type': 'scattergeo'},\n",
       " {'lat': [2.8894434, 64.6863136],\n",
       "  'line': {'color': 'red', 'width': 0.0915000040272889},\n",
       "  'lon': [-73.783892, 97.7453061],\n",
       "  'mode': 'lines',\n",
       "  'opacity': 0.48577680525164113,\n",
       "  'type': 'scattergeo'},\n",
       " {'lat': [36.5748441, 17.7269134],\n",
       "  'line': {'color': 'red', 'width': 0.0915000040272889},\n",
       "  'lon': [139.2394179, 42.2363448],\n",
       "  'mode': 'lines',\n",
       "  'opacity': 0.48577680525164113,\n",
       "  'type': 'scattergeo'},\n",
       " {'lat': [46.7985624, 45.9852129],\n",
       "  'line': {'color': 'red', 'width': 0.09021127157620033},\n",
       "  'lon': [8.2319736, 24.6859225],\n",
       "  'mode': 'lines',\n",
       "  'opacity': 0.48577680525164113,\n",
       "  'type': 'scattergeo'},\n",
       " {'lat': [45.9852129, 52.865196],\n",
       "  'line': {'color': 'red', 'width': 0.08956690535065605},\n",
       "  'lon': [24.6859225, -7.9794599],\n",
       "  'mode': 'lines',\n",
       "  'opacity': 0.48577680525164113,\n",
       "  'type': 'scattergeo'},\n",
       " {'lat': [49.4871968, 25.61552],\n",
       "  'line': {'color': 'red', 'width': 0.08956690535065605},\n",
       "  'lon': [31.2718321, 55.84951],\n",
       "  'mode': 'lines',\n",
       "  'opacity': 0.48577680525164113,\n",
       "  'type': 'scattergeo'},\n",
       " {'lat': [22.3511148, 25.61552],\n",
       "  'line': {'color': 'red', 'width': 0.08956690535065605},\n",
       "  'lon': [78.6677428, 55.84951],\n",
       "  'mode': 'lines',\n",
       "  'opacity': 0.48577680525164113,\n",
       "  'type': 'scattergeo'},\n",
       " {'lat': [-24.7761086, 39.7837304],\n",
       "  'line': {'color': 'red', 'width': 0.08956690535065605},\n",
       "  'lon': [134.755, -100.4458825],\n",
       "  'mode': 'lines',\n",
       "  'opacity': 0.48577680525164113,\n",
       "  'type': 'scattergeo'},\n",
       " {'lat': [51.303, 39.7837304],\n",
       "  'line': {'color': 'red', 'width': 0.08892253912511175},\n",
       "  'lon': [0.0732, -100.4458825],\n",
       "  'mode': 'lines',\n",
       "  'opacity': 0.48577680525164113,\n",
       "  'type': 'scattergeo'},\n",
       " {'lat': [40.0028028, 39.904211],\n",
       "  'line': {'color': 'red', 'width': 0.08827817289956746},\n",
       "  'lon': [-4.003104, 116.407395],\n",
       "  'mode': 'lines',\n",
       "  'opacity': 0.48577680525164113,\n",
       "  'type': 'scattergeo'},\n",
       " {'lat': [47.286747, 64.5731537],\n",
       "  'line': {'color': 'red', 'width': 0.08763380667402318},\n",
       "  'lon': [28.5110236, 11.5280364395482],\n",
       "  'mode': 'lines',\n",
       "  'opacity': 0.48577680525164113,\n",
       "  'type': 'scattergeo'},\n",
       " {'lat': [19.4326009, 19.4326009],\n",
       "  'line': {'color': 'red', 'width': 0.0869894404484789},\n",
       "  'lon': [-99.1333416, -99.1333416],\n",
       "  'mode': 'lines',\n",
       "  'opacity': 0.48577680525164113,\n",
       "  'type': 'scattergeo'},\n",
       " {'lat': [4.4922673, 39.7837304],\n",
       "  'line': {'color': 'red', 'width': 0.0869894404484789},\n",
       "  'lon': [-75.7396253904384, -100.4458825],\n",
       "  'mode': 'lines',\n",
       "  'opacity': 0.48577680525164113,\n",
       "  'type': 'scattergeo'},\n",
       " {'lat': [46.7985624, 38.9597594],\n",
       "  'line': {'color': 'red', 'width': 0.08505634177184604},\n",
       "  'lon': [8.2319736, 34.9249653],\n",
       "  'mode': 'lines',\n",
       "  'opacity': 0.48577680525164113,\n",
       "  'type': 'scattergeo'},\n",
       " {'lat': [25.61552, 51.303],\n",
       "  'line': {'color': 'red', 'width': 0.08505634177184604},\n",
       "  'lon': [55.84951, 0.0732],\n",
       "  'mode': 'lines',\n",
       "  'opacity': 0.48577680525164113,\n",
       "  'type': 'scattergeo'},\n",
       " {'lat': [39.904211, 46.603354],\n",
       "  'line': {'color': 'red', 'width': 0.08054577819303602},\n",
       "  'lon': [116.407395, 1.8883335],\n",
       "  'mode': 'lines',\n",
       "  'opacity': 0.48577680525164113,\n",
       "  'type': 'scattergeo'},\n",
       " {'lat': [22.3511148, 46.603354],\n",
       "  'line': {'color': 'red', 'width': 0.07667958083977028},\n",
       "  'lon': [78.6677428, 1.8883335],\n",
       "  'mode': 'lines',\n",
       "  'opacity': 0.48577680525164113,\n",
       "  'type': 'scattergeo'},\n",
       " {'lat': [49.4871968, 47.2000338],\n",
       "  'line': {'color': 'red', 'width': 0.07539084838868171},\n",
       "  'lon': [31.2718321, 13.199959],\n",
       "  'mode': 'lines',\n",
       "  'opacity': 0.48577680525164113,\n",
       "  'type': 'scattergeo'},\n",
       " {'lat': [39.7837304, 22.350627],\n",
       "  'line': {'color': 'red', 'width': 0.07281338348650455},\n",
       "  'lon': [-100.4458825, 114.1849161],\n",
       "  'mode': 'lines',\n",
       "  'opacity': 0.48577680525164113,\n",
       "  'type': 'scattergeo'},\n",
       " {'lat': [52.2379891, 42.6384261],\n",
       "  'line': {'color': 'red', 'width': 0.06959155235878312},\n",
       "  'lon': [5.53460738161551, 12.674297],\n",
       "  'mode': 'lines',\n",
       "  'opacity': 0.48577680525164113,\n",
       "  'type': 'scattergeo'},\n",
       " {'lat': [17.7269134, 25.61552],\n",
       "  'line': {'color': 'red', 'width': 0.06508098877997309},\n",
       "  'lon': [42.2363448, 55.84951],\n",
       "  'mode': 'lines',\n",
       "  'opacity': 0.48577680525164113,\n",
       "  'type': 'scattergeo'},\n",
       " {'lat': [22.350627, 39.7837304],\n",
       "  'line': {'color': 'red', 'width': 0.06250352387779595},\n",
       "  'lon': [114.1849161, -100.4458825],\n",
       "  'mode': 'lines',\n",
       "  'opacity': 0.48577680525164113,\n",
       "  'type': 'scattergeo'},\n",
       " {'lat': [52.0977181, 39.7837304],\n",
       "  'line': {'color': 'red', 'width': 0.06121479142670737},\n",
       "  'lon': [19.0258159, -100.4458825],\n",
       "  'mode': 'lines',\n",
       "  'opacity': 0.48577680525164113,\n",
       "  'type': 'scattergeo'},\n",
       " {'lat': [45.8133113, 52.865196],\n",
       "  'line': {'color': 'red', 'width': 0.05734859407344164},\n",
       "  'lon': [14.4808369, -7.9794599],\n",
       "  'mode': 'lines',\n",
       "  'opacity': 0.48577680525164113,\n",
       "  'type': 'scattergeo'},\n",
       " {'lat': [-17.0568696, 39.7837304],\n",
       "  'line': {'color': 'red', 'width': 0.05734859407344164},\n",
       "  'lon': [-64.9912286, -100.4458825],\n",
       "  'mode': 'lines',\n",
       "  'opacity': 0.48577680525164113,\n",
       "  'type': 'scattergeo'},\n",
       " {'lat': [22.3511148, 40.033265],\n",
       "  'line': {'color': 'red', 'width': 0.05605986162235306},\n",
       "  'lon': [78.6677428, -7.8896263],\n",
       "  'mode': 'lines',\n",
       "  'opacity': 0.48577680525164113,\n",
       "  'type': 'scattergeo'},\n",
       " {'lat': [38.9597594, 1.2904753],\n",
       "  'line': {'color': 'red', 'width': 0.05348239672017591},\n",
       "  'lon': [34.9249653, 103.8520359],\n",
       "  'mode': 'lines',\n",
       "  'opacity': 0.48577680525164113,\n",
       "  'type': 'scattergeo'},\n",
       " {'lat': [12.7503486, 12.7503486],\n",
       "  'line': {'color': 'red', 'width': 0.046394368239188744},\n",
       "  'lon': [122.7312101, 122.7312101],\n",
       "  'mode': 'lines',\n",
       "  'opacity': 0.48577680525164113,\n",
       "  'type': 'scattergeo'}]"
      ]
     },
     "execution_count": 414,
     "metadata": {},
     "output_type": "execute_result"
    }
   ],
   "source": [
    "data_norse"
   ]
  },
  {
   "cell_type": "code",
   "execution_count": null,
   "metadata": {
    "collapsed": true
   },
   "outputs": [],
   "source": []
  }
 ],
 "metadata": {
  "kernelspec": {
   "display_name": "Python [conda root]",
   "language": "python",
   "name": "conda-root-py"
  },
  "language_info": {
   "codemirror_mode": {
    "name": "ipython",
    "version": 3
   },
   "file_extension": ".py",
   "mimetype": "text/x-python",
   "name": "python",
   "nbconvert_exporter": "python",
   "pygments_lexer": "ipython3",
   "version": "3.5.3"
  }
 },
 "nbformat": 4,
 "nbformat_minor": 2
}
